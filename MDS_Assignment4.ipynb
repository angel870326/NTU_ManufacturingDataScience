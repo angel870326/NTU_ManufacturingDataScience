{
  "cells": [
    {
      "cell_type": "markdown",
      "metadata": {
        "id": "view-in-github",
        "colab_type": "text"
      },
      "source": [
        "<a href=\"https://colab.research.google.com/github/angel870326/NTU_Manufacturing_Data_Science/blob/main/MDS_Assignment4.ipynb\" target=\"_parent\"><img src=\"https://colab.research.google.com/assets/colab-badge.svg\" alt=\"Open In Colab\"/></a>"
      ]
    },
    {
      "cell_type": "markdown",
      "metadata": {
        "id": "a1FWjFHjPpNl"
      },
      "source": [
        "> 2022.12.23 Ssu-Yun Wang<br/>\n",
        "[Github @angel870326](https://github.com/angel870326)\n",
        "\n",
        "# **Manufacturing Data Science Assignment 4**\n",
        "\n",
        "\n",
        "1.   (40%) Data Imbalance Problem\n",
        "2.   (30%) Programming Questions\n",
        "3.   (30%) Markov Decision Process\n"
      ]
    },
    {
      "cell_type": "code",
      "execution_count": null,
      "metadata": {
        "colab": {
          "base_uri": "https://localhost:8080/"
        },
        "id": "CAKAO8umRseJ",
        "outputId": "ae32b237-6405-4059-a1f8-bced8e43e9fc"
      },
      "outputs": [
        {
          "output_type": "stream",
          "name": "stdout",
          "text": [
            "Drive already mounted at /content/gdrive; to attempt to forcibly remount, call drive.mount(\"/content/gdrive\", force_remount=True).\n"
          ]
        }
      ],
      "source": [
        "# sConnect to the Google Drive\n",
        "from google.colab import drive\n",
        "drive.mount(\"/content/gdrive\")"
      ]
    },
    {
      "cell_type": "code",
      "execution_count": null,
      "metadata": {
        "id": "c4mNcdP7SkqZ"
      },
      "outputs": [],
      "source": [
        "import pandas as pd\n",
        "import numpy as np\n",
        "import seaborn as sns\n",
        "import matplotlib.pyplot as plt"
      ]
    },
    {
      "cell_type": "markdown",
      "metadata": {
        "id": "dEOzRWcPJFfB"
      },
      "source": [
        "\n",
        "\n",
        "---\n",
        "\n",
        "\n",
        "##**1. (40%) Data Imbalance Problem**\n",
        "\n",
        "在 UCI Machine Learning Repository 開放數據中包含了一個半導體製造數據([semiconductor manufacturing dataset](https://archive.ics.uci.edu/ml/datasets/SECOM))，一共包含了 1,567 個觀測值，而每個觀測值具有 590 個特徵（感測值的量測結果）以及作為目標值的測試結果（為二元變數，良品為 -1，不良品為 1），其中不良品僅有 104 個樣本。試著參考網路資源學習並撰寫程式，使用此數據回答下列問題。"
      ]
    },
    {
      "cell_type": "code",
      "execution_count": null,
      "metadata": {
        "colab": {
          "base_uri": "https://localhost:8080/",
          "height": 506
        },
        "id": "r61SOzT5SOjW",
        "outputId": "49d0b031-c658-426c-d6b8-2bbb5b2097ed"
      },
      "outputs": [
        {
          "output_type": "stream",
          "name": "stdout",
          "text": [
            "(1567, 591)\n"
          ]
        },
        {
          "output_type": "execute_result",
          "data": {
            "text/plain": [
              "      Sensor_1  Sensor_2   Sensor_3   Sensor_4  Sensor_5  Sensor_6  Sensor_7  \\\n",
              "0      3030.93   2564.00  2187.7333  1411.1265    1.3602     100.0   97.6133   \n",
              "1      3095.78   2465.14  2230.4222  1463.6606    0.8294     100.0  102.3433   \n",
              "2      2932.61   2559.94  2186.4111  1698.0172    1.5102     100.0   95.4878   \n",
              "3      2988.72   2479.90  2199.0333   909.7926    1.3204     100.0  104.2367   \n",
              "4      3032.24   2502.87  2233.3667  1326.5200    1.5334     100.0  100.3967   \n",
              "...        ...       ...        ...        ...       ...       ...       ...   \n",
              "1562   2899.41   2464.36  2179.7333  3085.3781    1.4843     100.0   82.2467   \n",
              "1563   3052.31   2522.55  2198.5667  1124.6595    0.8763     100.0   98.4689   \n",
              "1564   2978.81   2379.78  2206.3000  1110.4967    0.8236     100.0   99.4122   \n",
              "1565   2894.92   2532.01  2177.0333  1183.7287    1.5726     100.0   98.7978   \n",
              "1566   2944.92   2450.76  2195.4444  2914.1792    1.5978     100.0   85.1011   \n",
              "\n",
              "      Sensor_8  Sensor_9  Sensor_10  ...  Sensor_582  Sensor_583  Sensor_584  \\\n",
              "0       0.1242    1.5005     0.0162  ...         NaN      0.5005      0.0118   \n",
              "1       0.1247    1.4966    -0.0005  ...    208.2045      0.5019      0.0223   \n",
              "2       0.1241    1.4436     0.0041  ...     82.8602      0.4958      0.0157   \n",
              "3       0.1217    1.4882    -0.0124  ...     73.8432      0.4990      0.0103   \n",
              "4       0.1235    1.5031    -0.0031  ...         NaN      0.4800      0.4766   \n",
              "...        ...       ...        ...  ...         ...         ...         ...   \n",
              "1562    0.1248    1.3424    -0.0045  ...    203.1720      0.4988      0.0143   \n",
              "1563    0.1205    1.4333    -0.0061  ...         NaN      0.4975      0.0131   \n",
              "1564    0.1208       NaN        NaN  ...     43.5231      0.4987      0.0153   \n",
              "1565    0.1213    1.4622    -0.0072  ...     93.4941      0.5004      0.0178   \n",
              "1566    0.1235       NaN        NaN  ...    137.7844      0.4987      0.0181   \n",
              "\n",
              "      Sensor_585  Sensor_586  Sensor_587  Sensor_588  Sensor_589  Sensor_590  \\\n",
              "0         0.0035      2.3630         NaN         NaN         NaN         NaN   \n",
              "1         0.0055      4.4447      0.0096      0.0201      0.0060    208.2045   \n",
              "2         0.0039      3.1745      0.0584      0.0484      0.0148     82.8602   \n",
              "3         0.0025      2.0544      0.0202      0.0149      0.0044     73.8432   \n",
              "4         0.1045     99.3032      0.0202      0.0149      0.0044     73.8432   \n",
              "...          ...         ...         ...         ...         ...         ...   \n",
              "1562      0.0039      2.8669      0.0068      0.0138      0.0047    203.1720   \n",
              "1563      0.0036      2.6238      0.0068      0.0138      0.0047    203.1720   \n",
              "1564      0.0041      3.0590      0.0197      0.0086      0.0025     43.5231   \n",
              "1565      0.0038      3.5662      0.0262      0.0245      0.0075     93.4941   \n",
              "1566      0.0040      3.6275      0.0117      0.0162      0.0045    137.7844   \n",
              "\n",
              "      Label  \n",
              "0        -1  \n",
              "1        -1  \n",
              "2         1  \n",
              "3        -1  \n",
              "4        -1  \n",
              "...     ...  \n",
              "1562     -1  \n",
              "1563     -1  \n",
              "1564     -1  \n",
              "1565     -1  \n",
              "1566     -1  \n",
              "\n",
              "[1567 rows x 591 columns]"
            ],
            "text/html": [
              "\n",
              "  <div id=\"df-159f5180-df5f-42c6-9447-cde637c674e5\">\n",
              "    <div class=\"colab-df-container\">\n",
              "      <div>\n",
              "<style scoped>\n",
              "    .dataframe tbody tr th:only-of-type {\n",
              "        vertical-align: middle;\n",
              "    }\n",
              "\n",
              "    .dataframe tbody tr th {\n",
              "        vertical-align: top;\n",
              "    }\n",
              "\n",
              "    .dataframe thead th {\n",
              "        text-align: right;\n",
              "    }\n",
              "</style>\n",
              "<table border=\"1\" class=\"dataframe\">\n",
              "  <thead>\n",
              "    <tr style=\"text-align: right;\">\n",
              "      <th></th>\n",
              "      <th>Sensor_1</th>\n",
              "      <th>Sensor_2</th>\n",
              "      <th>Sensor_3</th>\n",
              "      <th>Sensor_4</th>\n",
              "      <th>Sensor_5</th>\n",
              "      <th>Sensor_6</th>\n",
              "      <th>Sensor_7</th>\n",
              "      <th>Sensor_8</th>\n",
              "      <th>Sensor_9</th>\n",
              "      <th>Sensor_10</th>\n",
              "      <th>...</th>\n",
              "      <th>Sensor_582</th>\n",
              "      <th>Sensor_583</th>\n",
              "      <th>Sensor_584</th>\n",
              "      <th>Sensor_585</th>\n",
              "      <th>Sensor_586</th>\n",
              "      <th>Sensor_587</th>\n",
              "      <th>Sensor_588</th>\n",
              "      <th>Sensor_589</th>\n",
              "      <th>Sensor_590</th>\n",
              "      <th>Label</th>\n",
              "    </tr>\n",
              "  </thead>\n",
              "  <tbody>\n",
              "    <tr>\n",
              "      <th>0</th>\n",
              "      <td>3030.93</td>\n",
              "      <td>2564.00</td>\n",
              "      <td>2187.7333</td>\n",
              "      <td>1411.1265</td>\n",
              "      <td>1.3602</td>\n",
              "      <td>100.0</td>\n",
              "      <td>97.6133</td>\n",
              "      <td>0.1242</td>\n",
              "      <td>1.5005</td>\n",
              "      <td>0.0162</td>\n",
              "      <td>...</td>\n",
              "      <td>NaN</td>\n",
              "      <td>0.5005</td>\n",
              "      <td>0.0118</td>\n",
              "      <td>0.0035</td>\n",
              "      <td>2.3630</td>\n",
              "      <td>NaN</td>\n",
              "      <td>NaN</td>\n",
              "      <td>NaN</td>\n",
              "      <td>NaN</td>\n",
              "      <td>-1</td>\n",
              "    </tr>\n",
              "    <tr>\n",
              "      <th>1</th>\n",
              "      <td>3095.78</td>\n",
              "      <td>2465.14</td>\n",
              "      <td>2230.4222</td>\n",
              "      <td>1463.6606</td>\n",
              "      <td>0.8294</td>\n",
              "      <td>100.0</td>\n",
              "      <td>102.3433</td>\n",
              "      <td>0.1247</td>\n",
              "      <td>1.4966</td>\n",
              "      <td>-0.0005</td>\n",
              "      <td>...</td>\n",
              "      <td>208.2045</td>\n",
              "      <td>0.5019</td>\n",
              "      <td>0.0223</td>\n",
              "      <td>0.0055</td>\n",
              "      <td>4.4447</td>\n",
              "      <td>0.0096</td>\n",
              "      <td>0.0201</td>\n",
              "      <td>0.0060</td>\n",
              "      <td>208.2045</td>\n",
              "      <td>-1</td>\n",
              "    </tr>\n",
              "    <tr>\n",
              "      <th>2</th>\n",
              "      <td>2932.61</td>\n",
              "      <td>2559.94</td>\n",
              "      <td>2186.4111</td>\n",
              "      <td>1698.0172</td>\n",
              "      <td>1.5102</td>\n",
              "      <td>100.0</td>\n",
              "      <td>95.4878</td>\n",
              "      <td>0.1241</td>\n",
              "      <td>1.4436</td>\n",
              "      <td>0.0041</td>\n",
              "      <td>...</td>\n",
              "      <td>82.8602</td>\n",
              "      <td>0.4958</td>\n",
              "      <td>0.0157</td>\n",
              "      <td>0.0039</td>\n",
              "      <td>3.1745</td>\n",
              "      <td>0.0584</td>\n",
              "      <td>0.0484</td>\n",
              "      <td>0.0148</td>\n",
              "      <td>82.8602</td>\n",
              "      <td>1</td>\n",
              "    </tr>\n",
              "    <tr>\n",
              "      <th>3</th>\n",
              "      <td>2988.72</td>\n",
              "      <td>2479.90</td>\n",
              "      <td>2199.0333</td>\n",
              "      <td>909.7926</td>\n",
              "      <td>1.3204</td>\n",
              "      <td>100.0</td>\n",
              "      <td>104.2367</td>\n",
              "      <td>0.1217</td>\n",
              "      <td>1.4882</td>\n",
              "      <td>-0.0124</td>\n",
              "      <td>...</td>\n",
              "      <td>73.8432</td>\n",
              "      <td>0.4990</td>\n",
              "      <td>0.0103</td>\n",
              "      <td>0.0025</td>\n",
              "      <td>2.0544</td>\n",
              "      <td>0.0202</td>\n",
              "      <td>0.0149</td>\n",
              "      <td>0.0044</td>\n",
              "      <td>73.8432</td>\n",
              "      <td>-1</td>\n",
              "    </tr>\n",
              "    <tr>\n",
              "      <th>4</th>\n",
              "      <td>3032.24</td>\n",
              "      <td>2502.87</td>\n",
              "      <td>2233.3667</td>\n",
              "      <td>1326.5200</td>\n",
              "      <td>1.5334</td>\n",
              "      <td>100.0</td>\n",
              "      <td>100.3967</td>\n",
              "      <td>0.1235</td>\n",
              "      <td>1.5031</td>\n",
              "      <td>-0.0031</td>\n",
              "      <td>...</td>\n",
              "      <td>NaN</td>\n",
              "      <td>0.4800</td>\n",
              "      <td>0.4766</td>\n",
              "      <td>0.1045</td>\n",
              "      <td>99.3032</td>\n",
              "      <td>0.0202</td>\n",
              "      <td>0.0149</td>\n",
              "      <td>0.0044</td>\n",
              "      <td>73.8432</td>\n",
              "      <td>-1</td>\n",
              "    </tr>\n",
              "    <tr>\n",
              "      <th>...</th>\n",
              "      <td>...</td>\n",
              "      <td>...</td>\n",
              "      <td>...</td>\n",
              "      <td>...</td>\n",
              "      <td>...</td>\n",
              "      <td>...</td>\n",
              "      <td>...</td>\n",
              "      <td>...</td>\n",
              "      <td>...</td>\n",
              "      <td>...</td>\n",
              "      <td>...</td>\n",
              "      <td>...</td>\n",
              "      <td>...</td>\n",
              "      <td>...</td>\n",
              "      <td>...</td>\n",
              "      <td>...</td>\n",
              "      <td>...</td>\n",
              "      <td>...</td>\n",
              "      <td>...</td>\n",
              "      <td>...</td>\n",
              "      <td>...</td>\n",
              "    </tr>\n",
              "    <tr>\n",
              "      <th>1562</th>\n",
              "      <td>2899.41</td>\n",
              "      <td>2464.36</td>\n",
              "      <td>2179.7333</td>\n",
              "      <td>3085.3781</td>\n",
              "      <td>1.4843</td>\n",
              "      <td>100.0</td>\n",
              "      <td>82.2467</td>\n",
              "      <td>0.1248</td>\n",
              "      <td>1.3424</td>\n",
              "      <td>-0.0045</td>\n",
              "      <td>...</td>\n",
              "      <td>203.1720</td>\n",
              "      <td>0.4988</td>\n",
              "      <td>0.0143</td>\n",
              "      <td>0.0039</td>\n",
              "      <td>2.8669</td>\n",
              "      <td>0.0068</td>\n",
              "      <td>0.0138</td>\n",
              "      <td>0.0047</td>\n",
              "      <td>203.1720</td>\n",
              "      <td>-1</td>\n",
              "    </tr>\n",
              "    <tr>\n",
              "      <th>1563</th>\n",
              "      <td>3052.31</td>\n",
              "      <td>2522.55</td>\n",
              "      <td>2198.5667</td>\n",
              "      <td>1124.6595</td>\n",
              "      <td>0.8763</td>\n",
              "      <td>100.0</td>\n",
              "      <td>98.4689</td>\n",
              "      <td>0.1205</td>\n",
              "      <td>1.4333</td>\n",
              "      <td>-0.0061</td>\n",
              "      <td>...</td>\n",
              "      <td>NaN</td>\n",
              "      <td>0.4975</td>\n",
              "      <td>0.0131</td>\n",
              "      <td>0.0036</td>\n",
              "      <td>2.6238</td>\n",
              "      <td>0.0068</td>\n",
              "      <td>0.0138</td>\n",
              "      <td>0.0047</td>\n",
              "      <td>203.1720</td>\n",
              "      <td>-1</td>\n",
              "    </tr>\n",
              "    <tr>\n",
              "      <th>1564</th>\n",
              "      <td>2978.81</td>\n",
              "      <td>2379.78</td>\n",
              "      <td>2206.3000</td>\n",
              "      <td>1110.4967</td>\n",
              "      <td>0.8236</td>\n",
              "      <td>100.0</td>\n",
              "      <td>99.4122</td>\n",
              "      <td>0.1208</td>\n",
              "      <td>NaN</td>\n",
              "      <td>NaN</td>\n",
              "      <td>...</td>\n",
              "      <td>43.5231</td>\n",
              "      <td>0.4987</td>\n",
              "      <td>0.0153</td>\n",
              "      <td>0.0041</td>\n",
              "      <td>3.0590</td>\n",
              "      <td>0.0197</td>\n",
              "      <td>0.0086</td>\n",
              "      <td>0.0025</td>\n",
              "      <td>43.5231</td>\n",
              "      <td>-1</td>\n",
              "    </tr>\n",
              "    <tr>\n",
              "      <th>1565</th>\n",
              "      <td>2894.92</td>\n",
              "      <td>2532.01</td>\n",
              "      <td>2177.0333</td>\n",
              "      <td>1183.7287</td>\n",
              "      <td>1.5726</td>\n",
              "      <td>100.0</td>\n",
              "      <td>98.7978</td>\n",
              "      <td>0.1213</td>\n",
              "      <td>1.4622</td>\n",
              "      <td>-0.0072</td>\n",
              "      <td>...</td>\n",
              "      <td>93.4941</td>\n",
              "      <td>0.5004</td>\n",
              "      <td>0.0178</td>\n",
              "      <td>0.0038</td>\n",
              "      <td>3.5662</td>\n",
              "      <td>0.0262</td>\n",
              "      <td>0.0245</td>\n",
              "      <td>0.0075</td>\n",
              "      <td>93.4941</td>\n",
              "      <td>-1</td>\n",
              "    </tr>\n",
              "    <tr>\n",
              "      <th>1566</th>\n",
              "      <td>2944.92</td>\n",
              "      <td>2450.76</td>\n",
              "      <td>2195.4444</td>\n",
              "      <td>2914.1792</td>\n",
              "      <td>1.5978</td>\n",
              "      <td>100.0</td>\n",
              "      <td>85.1011</td>\n",
              "      <td>0.1235</td>\n",
              "      <td>NaN</td>\n",
              "      <td>NaN</td>\n",
              "      <td>...</td>\n",
              "      <td>137.7844</td>\n",
              "      <td>0.4987</td>\n",
              "      <td>0.0181</td>\n",
              "      <td>0.0040</td>\n",
              "      <td>3.6275</td>\n",
              "      <td>0.0117</td>\n",
              "      <td>0.0162</td>\n",
              "      <td>0.0045</td>\n",
              "      <td>137.7844</td>\n",
              "      <td>-1</td>\n",
              "    </tr>\n",
              "  </tbody>\n",
              "</table>\n",
              "<p>1567 rows × 591 columns</p>\n",
              "</div>\n",
              "      <button class=\"colab-df-convert\" onclick=\"convertToInteractive('df-159f5180-df5f-42c6-9447-cde637c674e5')\"\n",
              "              title=\"Convert this dataframe to an interactive table.\"\n",
              "              style=\"display:none;\">\n",
              "        \n",
              "  <svg xmlns=\"http://www.w3.org/2000/svg\" height=\"24px\"viewBox=\"0 0 24 24\"\n",
              "       width=\"24px\">\n",
              "    <path d=\"M0 0h24v24H0V0z\" fill=\"none\"/>\n",
              "    <path d=\"M18.56 5.44l.94 2.06.94-2.06 2.06-.94-2.06-.94-.94-2.06-.94 2.06-2.06.94zm-11 1L8.5 8.5l.94-2.06 2.06-.94-2.06-.94L8.5 2.5l-.94 2.06-2.06.94zm10 10l.94 2.06.94-2.06 2.06-.94-2.06-.94-.94-2.06-.94 2.06-2.06.94z\"/><path d=\"M17.41 7.96l-1.37-1.37c-.4-.4-.92-.59-1.43-.59-.52 0-1.04.2-1.43.59L10.3 9.45l-7.72 7.72c-.78.78-.78 2.05 0 2.83L4 21.41c.39.39.9.59 1.41.59.51 0 1.02-.2 1.41-.59l7.78-7.78 2.81-2.81c.8-.78.8-2.07 0-2.86zM5.41 20L4 18.59l7.72-7.72 1.47 1.35L5.41 20z\"/>\n",
              "  </svg>\n",
              "      </button>\n",
              "      \n",
              "  <style>\n",
              "    .colab-df-container {\n",
              "      display:flex;\n",
              "      flex-wrap:wrap;\n",
              "      gap: 12px;\n",
              "    }\n",
              "\n",
              "    .colab-df-convert {\n",
              "      background-color: #E8F0FE;\n",
              "      border: none;\n",
              "      border-radius: 50%;\n",
              "      cursor: pointer;\n",
              "      display: none;\n",
              "      fill: #1967D2;\n",
              "      height: 32px;\n",
              "      padding: 0 0 0 0;\n",
              "      width: 32px;\n",
              "    }\n",
              "\n",
              "    .colab-df-convert:hover {\n",
              "      background-color: #E2EBFA;\n",
              "      box-shadow: 0px 1px 2px rgba(60, 64, 67, 0.3), 0px 1px 3px 1px rgba(60, 64, 67, 0.15);\n",
              "      fill: #174EA6;\n",
              "    }\n",
              "\n",
              "    [theme=dark] .colab-df-convert {\n",
              "      background-color: #3B4455;\n",
              "      fill: #D2E3FC;\n",
              "    }\n",
              "\n",
              "    [theme=dark] .colab-df-convert:hover {\n",
              "      background-color: #434B5C;\n",
              "      box-shadow: 0px 1px 3px 1px rgba(0, 0, 0, 0.15);\n",
              "      filter: drop-shadow(0px 1px 2px rgba(0, 0, 0, 0.3));\n",
              "      fill: #FFFFFF;\n",
              "    }\n",
              "  </style>\n",
              "\n",
              "      <script>\n",
              "        const buttonEl =\n",
              "          document.querySelector('#df-159f5180-df5f-42c6-9447-cde637c674e5 button.colab-df-convert');\n",
              "        buttonEl.style.display =\n",
              "          google.colab.kernel.accessAllowed ? 'block' : 'none';\n",
              "\n",
              "        async function convertToInteractive(key) {\n",
              "          const element = document.querySelector('#df-159f5180-df5f-42c6-9447-cde637c674e5');\n",
              "          const dataTable =\n",
              "            await google.colab.kernel.invokeFunction('convertToInteractive',\n",
              "                                                     [key], {});\n",
              "          if (!dataTable) return;\n",
              "\n",
              "          const docLinkHtml = 'Like what you see? Visit the ' +\n",
              "            '<a target=\"_blank\" href=https://colab.research.google.com/notebooks/data_table.ipynb>data table notebook</a>'\n",
              "            + ' to learn more about interactive tables.';\n",
              "          element.innerHTML = '';\n",
              "          dataTable['output_type'] = 'display_data';\n",
              "          await google.colab.output.renderOutput(dataTable, element);\n",
              "          const docLink = document.createElement('div');\n",
              "          docLink.innerHTML = docLinkHtml;\n",
              "          element.appendChild(docLink);\n",
              "        }\n",
              "      </script>\n",
              "    </div>\n",
              "  </div>\n",
              "  "
            ]
          },
          "metadata": {},
          "execution_count": 6
        }
      ],
      "source": [
        "data_secom = pd.read_excel('/content/gdrive/MyDrive/碩二上/製造數據科學/Assignment/Assignment 4/Assignment4_Data/MDS_Assignment4_SECOM.xlsx', sheet_name=1).iloc[:,1:-1] # Drop column 'Time' which is not concerned in this case.\n",
        "print(data_secom.shape)\n",
        "data_secom"
      ]
    },
    {
      "cell_type": "markdown",
      "metadata": {
        "id": "3pii6cACf2Hq"
      },
      "source": [
        "#### **Preprocessing**"
      ]
    },
    {
      "cell_type": "code",
      "execution_count": null,
      "metadata": {
        "colab": {
          "base_uri": "https://localhost:8080/"
        },
        "id": "jNpBIxGEf5bL",
        "outputId": "98c48cbe-4f03-499f-e386-465f8421c62a"
      },
      "outputs": [
        {
          "output_type": "stream",
          "name": "stdout",
          "text": [
            "(1567, 487)\n"
          ]
        }
      ],
      "source": [
        "# Drop duplicate columns\n",
        "data_secom_1 = data_secom.T.drop_duplicates().T\n",
        "print(data_secom_1.shape)"
      ]
    },
    {
      "cell_type": "code",
      "execution_count": null,
      "metadata": {
        "colab": {
          "base_uri": "https://localhost:8080/"
        },
        "id": "QCSOLyMjgcLj",
        "outputId": "9d31286d-256e-45d5-dd06-7639f73a38c6"
      },
      "outputs": [
        {
          "output_type": "stream",
          "name": "stdout",
          "text": [
            "(1567, 475)\n"
          ]
        }
      ],
      "source": [
        "# Drop redundant columns\n",
        "data_secom_clean = data_secom_1.loc[:,data_secom_1.apply(pd.Series.nunique) != 1]\n",
        "print(data_secom_clean.shape)"
      ]
    },
    {
      "cell_type": "code",
      "execution_count": null,
      "metadata": {
        "colab": {
          "base_uri": "https://localhost:8080/"
        },
        "id": "eHDCTOuLiBwh",
        "outputId": "a84668aa-5db4-4c2c-8eb9-97414a65b661"
      },
      "outputs": [
        {
          "output_type": "stream",
          "name": "stdout",
          "text": [
            "Number of missing values:  41951\n"
          ]
        }
      ],
      "source": [
        "# Count missing values\n",
        "count_nan = data_secom.isnull().sum().sum()\n",
        "print ('Number of missing values: ', count_nan)"
      ]
    },
    {
      "cell_type": "code",
      "execution_count": null,
      "metadata": {
        "colab": {
          "base_uri": "https://localhost:8080/",
          "height": 265
        },
        "id": "LpO-85e7iMz4",
        "outputId": "36c52a8b-8e0e-4130-a47d-029cfae1c904"
      },
      "outputs": [
        {
          "output_type": "display_data",
          "data": {
            "text/plain": [
              "<Figure size 432x288 with 1 Axes>"
            ],
            "image/png": "[encoded data removed]"
          },
          "metadata": {
            "needs_background": "light"
          }
        }
      ],
      "source": [
        "# Percentage of missing values in each column\n",
        "secom_nan = pd.DataFrame(data_secom.isnull().sum(), columns=['nan_count'])\n",
        "secom_nan['nan_percent'] = secom_nan['nan_count'] / len(data_secom)\n",
        "plt.scatter(range(0, secom_nan.shape[0]),secom_nan['nan_percent'])\n",
        "plt.show()"
      ]
    },
    {
      "cell_type": "code",
      "execution_count": null,
      "metadata": {
        "colab": {
          "base_uri": "https://localhost:8080/"
        },
        "id": "RFnbAoI6iIYB",
        "outputId": "ced934bd-1ab1-489f-eb78-15770eb69e5d"
      },
      "outputs": [
        {
          "output_type": "stream",
          "name": "stdout",
          "text": [
            "(1567, 443)\n"
          ]
        }
      ],
      "source": [
        "# Drop columns with more than 40% missing values\n",
        "secom_nan_40up = secom_nan[secom_nan['nan_percent'] > 0.4]\n",
        "nan_column_droplist = secom_nan_40up.index\n",
        "data_secom_clean = data_secom_clean.drop(nan_column_droplist, axis = 1)\n",
        "print(data_secom_clean.shape)"
      ]
    },
    {
      "cell_type": "code",
      "execution_count": null,
      "metadata": {
        "colab": {
          "base_uri": "https://localhost:8080/"
        },
        "id": "mTjG3mTWiV5D",
        "outputId": "04aa40cc-8f6d-4437-a044-d762301cb708"
      },
      "outputs": [
        {
          "output_type": "stream",
          "name": "stdout",
          "text": [
            "(1567, 443)\n",
            "Number of missing values:  0\n"
          ]
        }
      ],
      "source": [
        "# Missing Value Imputation: K-Nearest Neighbour (KNN) Imputation\n",
        "from sklearn.impute import KNNImputer\n",
        "knn_imputer = KNNImputer(missing_values=np.nan, n_neighbors=5, weights='uniform', metric='nan_euclidean') # default\n",
        "data_secom_clean_imputed = pd.DataFrame(knn_imputer.fit_transform(data_secom_clean), columns=data_secom_clean.columns)\n",
        "print(data_secom_clean_imputed.shape)\n",
        "print ('Number of missing values: ', data_secom_clean_imputed.isnull().sum().sum())"
      ]
    },
    {
      "cell_type": "code",
      "execution_count": null,
      "metadata": {
        "colab": {
          "base_uri": "https://localhost:8080/"
        },
        "id": "BqWmM8asff4f",
        "outputId": "3db0ed0c-adf5-4b35-9482-8cbf6b415cf0"
      },
      "outputs": [
        {
          "output_type": "stream",
          "name": "stdout",
          "text": [
            "(1567, 442)\n"
          ]
        }
      ],
      "source": [
        "# Split data into x and y\n",
        "data_secom_x = data_secom_clean_imputed.iloc[:, :-1]\n",
        "data_secom_y = data_secom_clean_imputed['Label']\n",
        "print(data_secom_x.shape)"
      ]
    },
    {
      "cell_type": "markdown",
      "metadata": {
        "id": "I6V_ZfLQJf15"
      },
      "source": [
        "###**(a) (15%) 試在該數據分析流程中加入數據平衡的步驟，使用三種方法來進行數據平衡 (e.g. 使用上抽樣、下抽樣或是代價敏感學習等)。**\n"
      ]
    },
    {
      "cell_type": "code",
      "execution_count": null,
      "metadata": {
        "colab": {
          "base_uri": "https://localhost:8080/"
        },
        "id": "hxTzOhgMd_Su",
        "outputId": "325dc924-baa7-437a-a6b8-5dd14c6a6ca7"
      },
      "outputs": [
        {
          "output_type": "execute_result",
          "data": {
            "text/plain": [
              "-1.0    1463\n",
              " 1.0     104\n",
              "Name: Label, dtype: int64"
            ]
          },
          "metadata": {},
          "execution_count": 14
        }
      ],
      "source": [
        "# Check if Y is imbalanced\n",
        "data_secom_y.value_counts()"
      ]
    },
    {
      "cell_type": "markdown",
      "metadata": {
        "id": "7XPRq26ZeuCl"
      },
      "source": [
        "#### **Undersampling: Near Miss Undersampling**\n",
        "https://imbalanced-learn.org/stable/references/generated/imblearn.under_sampling.NearMiss.html"
      ]
    },
    {
      "cell_type": "code",
      "execution_count": null,
      "metadata": {
        "colab": {
          "base_uri": "https://localhost:8080/"
        },
        "id": "uwDeOGuleyn1",
        "outputId": "2dc6171c-d828-4dd5-dd9d-0dfe0a94f1c7"
      },
      "outputs": [
        {
          "output_type": "execute_result",
          "data": {
            "text/plain": [
              "-1.0    104\n",
              " 1.0    104\n",
              "Name: Label, dtype: int64"
            ]
          },
          "metadata": {},
          "execution_count": 15
        }
      ],
      "source": [
        "from imblearn.under_sampling import NearMiss\n",
        "data_secom_nearmiss_x, data_secom_nearmiss_y = NearMiss(version=3).fit_resample(data_secom_x, data_secom_y)\n",
        "data_secom_nearmiss_y.value_counts()"
      ]
    },
    {
      "cell_type": "markdown",
      "metadata": {
        "id": "j8YuhRekey_m"
      },
      "source": [
        "#### **Oversampling: SMOTE**\n",
        "https://imbalanced-learn.org/stable/references/generated/imblearn.over_sampling.SMOTE.html"
      ]
    },
    {
      "cell_type": "code",
      "execution_count": null,
      "metadata": {
        "colab": {
          "base_uri": "https://localhost:8080/"
        },
        "id": "YYtHTUsLfOsV",
        "outputId": "0417bc30-ff1b-46b6-e56c-b5b88e2989a3"
      },
      "outputs": [
        {
          "output_type": "execute_result",
          "data": {
            "text/plain": [
              "-1.0    1463\n",
              " 1.0    1463\n",
              "Name: Label, dtype: int64"
            ]
          },
          "metadata": {},
          "execution_count": 16
        }
      ],
      "source": [
        "from imblearn.over_sampling import SMOTE\n",
        "data_secom_smote_x, data_secom_smote_y = SMOTE(random_state=42).fit_resample(data_secom_x, data_secom_y)\n",
        "data_secom_smote_y.value_counts()"
      ]
    },
    {
      "cell_type": "markdown",
      "source": [
        "#### **Combination of Undersampling and Oversampling**\n"
      ],
      "metadata": {
        "id": "Jw7-N7hbBEw3"
      }
    },
    {
      "cell_type": "code",
      "source": [
        "# Oversampling (ratio=0.5)\n",
        "data_secom_over_x, data_secom_over_y = SMOTE(random_state=42, sampling_strategy=0.5).fit_resample(data_secom_x, data_secom_y)\n",
        "# Undersampling (ratio=1)\n",
        "data_secom_comb_x, data_secom_comb_y = NearMiss(sampling_strategy=1).fit_resample(data_secom_over_x, data_secom_over_y)\n",
        "data_secom_comb_y.value_counts()"
      ],
      "metadata": {
        "colab": {
          "base_uri": "https://localhost:8080/"
        },
        "id": "lIrqKrLkBI-l",
        "outputId": "6ff1c0d0-d451-481f-cc2d-f5a127c54e01"
      },
      "execution_count": null,
      "outputs": [
        {
          "output_type": "execute_result",
          "data": {
            "text/plain": [
              "-1.0    731\n",
              " 1.0    731\n",
              "Name: Label, dtype: int64"
            ]
          },
          "metadata": {},
          "execution_count": 17
        }
      ]
    },
    {
      "cell_type": "markdown",
      "metadata": {
        "id": "LT7uuWYJJ7iM"
      },
      "source": [
        "###**(b) (5%) 建議選用哪種方法最為合適？為什麼？**"
      ]
    },
    {
      "cell_type": "markdown",
      "metadata": {
        "id": "SxM43M76KaKc"
      },
      "source": [
        "在多數群與少數群的比例為1的情況下，單純 undersampling 會有損失過多重要樣本的問題，而單純 oversampling 則會有過多重複樣本，若結合 undersampling 和 oversampling，則可以中和兩者的問題。"
      ]
    },
    {
      "cell_type": "markdown",
      "metadata": {
        "id": "VIKf-WAiKDGC"
      },
      "source": [
        "###**(c) (10%) 對於數據多數群與少數群的比例應當調整至多少？為什麼？試透過調整生成比率 (i.e. 敏感度分析) 來看模型分類結果。(提示：將敏感度分析以繪圖呈現兩條曲線，x 軸為不同生成比例、y 軸為偽陽性率 (false positive rate) 與偽陰性率 (false negative rate)**\n"
      ]
    },
    {
      "cell_type": "code",
      "source": [
        "from sklearn.model_selection import train_test_split\n",
        "from sklearn.svm import LinearSVC\n",
        "from sklearn.metrics import confusion_matrix\n",
        "from sklearn.preprocessing import StandardScaler"
      ],
      "metadata": {
        "id": "T6kr65eBQby-"
      },
      "execution_count": null,
      "outputs": []
    },
    {
      "cell_type": "code",
      "execution_count": null,
      "metadata": {
        "id": "kEW_9AQyKUMB"
      },
      "outputs": [],
      "source": [
        "def svcPredictor(data_x, data_y):\n",
        "    x_train, x_test, y_train, y_test = train_test_split(StandardScaler().fit_transform(data_x), data_y, test_size = 0.20, random_state = 42)\n",
        "    model_svc_linear = LinearSVC().fit(x_train, y_train)\n",
        "    test_predict = model_svc_linear.predict(x_test)\n",
        "    return test_predict, y_test"
      ]
    },
    {
      "cell_type": "markdown",
      "source": [
        "#### **Undersampling**"
      ],
      "metadata": {
        "id": "yYLvX4vNHmFW"
      }
    },
    {
      "cell_type": "code",
      "source": [
        "def undersampleAnalysis():\n",
        "    under_analysis = pd.DataFrame(columns=['ratio','fp','fn'])\n",
        "    for i in np.arange(0.1, 1.05, 0.05):\n",
        "        under_x, under_y = NearMiss(sampling_strategy=round(i,2)).fit_resample(data_secom_x, data_secom_y)\n",
        "        pred, answer = svcPredictor(under_x, under_y)\n",
        "        cm = confusion_matrix(answer, pred)\n",
        "        tn, fp, fn, tp = cm.ravel()\n",
        "\n",
        "        item = {'ratio': round(i,2),\n",
        "                'fp': fp/len(answer),\n",
        "                'fn': fn/len(answer),\n",
        "        }\n",
        "        item_df = pd.DataFrame(item, index=[0])\n",
        "        under_analysis = under_analysis.append(item_df)\n",
        "\n",
        "    under_analysis = under_analysis.reset_index(drop=True)\n",
        "    return under_analysis"
      ],
      "metadata": {
        "id": "QS3O6oJmLONj"
      },
      "execution_count": null,
      "outputs": []
    },
    {
      "cell_type": "code",
      "source": [
        "under_analysis = undersampleAnalysis()"
      ],
      "metadata": {
        "id": "aj9zKNcxUfbY"
      },
      "execution_count": null,
      "outputs": []
    },
    {
      "cell_type": "code",
      "source": [
        "under_analysis"
      ],
      "metadata": {
        "colab": {
          "base_uri": "https://localhost:8080/",
          "height": 645
        },
        "id": "Lw6rHNViORYD",
        "outputId": "2acdc537-654b-40e4-c06f-55556cb0496f"
      },
      "execution_count": null,
      "outputs": [
        {
          "output_type": "execute_result",
          "data": {
            "text/plain": [
              "    ratio        fp        fn\n",
              "0    0.10  0.117904  0.078603\n",
              "1    0.15  0.087500  0.087500\n",
              "2    0.20  0.128000  0.112000\n",
              "3    0.25  0.125000  0.096154\n",
              "4    0.30  0.177778  0.144444\n",
              "5    0.35  0.222222  0.061728\n",
              "6    0.40  0.164384  0.068493\n",
              "7    0.45  0.223881  0.104478\n",
              "8    0.50  0.206349  0.126984\n",
              "9    0.55  0.237288  0.084746\n",
              "10   0.60  0.178571  0.250000\n",
              "11   0.65  0.245283  0.132075\n",
              "12   0.70  0.235294  0.078431\n",
              "13   0.75  0.285714  0.163265\n",
              "14   0.80  0.255319  0.234043\n",
              "15   0.85  0.130435  0.282609\n",
              "16   0.90  0.159091  0.227273\n",
              "17   0.95  0.255814  0.302326\n",
              "18   1.00  0.166667  0.261905"
            ],
            "text/html": [
              "\n",
              "  <div id=\"df-766a70f6-43cf-4e40-a4a7-0b8e816115a3\">\n",
              "    <div class=\"colab-df-container\">\n",
              "      <div>\n",
              "<style scoped>\n",
              "    .dataframe tbody tr th:only-of-type {\n",
              "        vertical-align: middle;\n",
              "    }\n",
              "\n",
              "    .dataframe tbody tr th {\n",
              "        vertical-align: top;\n",
              "    }\n",
              "\n",
              "    .dataframe thead th {\n",
              "        text-align: right;\n",
              "    }\n",
              "</style>\n",
              "<table border=\"1\" class=\"dataframe\">\n",
              "  <thead>\n",
              "    <tr style=\"text-align: right;\">\n",
              "      <th></th>\n",
              "      <th>ratio</th>\n",
              "      <th>fp</th>\n",
              "      <th>fn</th>\n",
              "    </tr>\n",
              "  </thead>\n",
              "  <tbody>\n",
              "    <tr>\n",
              "      <th>0</th>\n",
              "      <td>0.10</td>\n",
              "      <td>0.117904</td>\n",
              "      <td>0.078603</td>\n",
              "    </tr>\n",
              "    <tr>\n",
              "      <th>1</th>\n",
              "      <td>0.15</td>\n",
              "      <td>0.087500</td>\n",
              "      <td>0.087500</td>\n",
              "    </tr>\n",
              "    <tr>\n",
              "      <th>2</th>\n",
              "      <td>0.20</td>\n",
              "      <td>0.128000</td>\n",
              "      <td>0.112000</td>\n",
              "    </tr>\n",
              "    <tr>\n",
              "      <th>3</th>\n",
              "      <td>0.25</td>\n",
              "      <td>0.125000</td>\n",
              "      <td>0.096154</td>\n",
              "    </tr>\n",
              "    <tr>\n",
              "      <th>4</th>\n",
              "      <td>0.30</td>\n",
              "      <td>0.177778</td>\n",
              "      <td>0.144444</td>\n",
              "    </tr>\n",
              "    <tr>\n",
              "      <th>5</th>\n",
              "      <td>0.35</td>\n",
              "      <td>0.222222</td>\n",
              "      <td>0.061728</td>\n",
              "    </tr>\n",
              "    <tr>\n",
              "      <th>6</th>\n",
              "      <td>0.40</td>\n",
              "      <td>0.164384</td>\n",
              "      <td>0.068493</td>\n",
              "    </tr>\n",
              "    <tr>\n",
              "      <th>7</th>\n",
              "      <td>0.45</td>\n",
              "      <td>0.223881</td>\n",
              "      <td>0.104478</td>\n",
              "    </tr>\n",
              "    <tr>\n",
              "      <th>8</th>\n",
              "      <td>0.50</td>\n",
              "      <td>0.206349</td>\n",
              "      <td>0.126984</td>\n",
              "    </tr>\n",
              "    <tr>\n",
              "      <th>9</th>\n",
              "      <td>0.55</td>\n",
              "      <td>0.237288</td>\n",
              "      <td>0.084746</td>\n",
              "    </tr>\n",
              "    <tr>\n",
              "      <th>10</th>\n",
              "      <td>0.60</td>\n",
              "      <td>0.178571</td>\n",
              "      <td>0.250000</td>\n",
              "    </tr>\n",
              "    <tr>\n",
              "      <th>11</th>\n",
              "      <td>0.65</td>\n",
              "      <td>0.245283</td>\n",
              "      <td>0.132075</td>\n",
              "    </tr>\n",
              "    <tr>\n",
              "      <th>12</th>\n",
              "      <td>0.70</td>\n",
              "      <td>0.235294</td>\n",
              "      <td>0.078431</td>\n",
              "    </tr>\n",
              "    <tr>\n",
              "      <th>13</th>\n",
              "      <td>0.75</td>\n",
              "      <td>0.285714</td>\n",
              "      <td>0.163265</td>\n",
              "    </tr>\n",
              "    <tr>\n",
              "      <th>14</th>\n",
              "      <td>0.80</td>\n",
              "      <td>0.255319</td>\n",
              "      <td>0.234043</td>\n",
              "    </tr>\n",
              "    <tr>\n",
              "      <th>15</th>\n",
              "      <td>0.85</td>\n",
              "      <td>0.130435</td>\n",
              "      <td>0.282609</td>\n",
              "    </tr>\n",
              "    <tr>\n",
              "      <th>16</th>\n",
              "      <td>0.90</td>\n",
              "      <td>0.159091</td>\n",
              "      <td>0.227273</td>\n",
              "    </tr>\n",
              "    <tr>\n",
              "      <th>17</th>\n",
              "      <td>0.95</td>\n",
              "      <td>0.255814</td>\n",
              "      <td>0.302326</td>\n",
              "    </tr>\n",
              "    <tr>\n",
              "      <th>18</th>\n",
              "      <td>1.00</td>\n",
              "      <td>0.166667</td>\n",
              "      <td>0.261905</td>\n",
              "    </tr>\n",
              "  </tbody>\n",
              "</table>\n",
              "</div>\n",
              "      <button class=\"colab-df-convert\" onclick=\"convertToInteractive('df-766a70f6-43cf-4e40-a4a7-0b8e816115a3')\"\n",
              "              title=\"Convert this dataframe to an interactive table.\"\n",
              "              style=\"display:none;\">\n",
              "        \n",
              "  <svg xmlns=\"http://www.w3.org/2000/svg\" height=\"24px\"viewBox=\"0 0 24 24\"\n",
              "       width=\"24px\">\n",
              "    <path d=\"M0 0h24v24H0V0z\" fill=\"none\"/>\n",
              "    <path d=\"M18.56 5.44l.94 2.06.94-2.06 2.06-.94-2.06-.94-.94-2.06-.94 2.06-2.06.94zm-11 1L8.5 8.5l.94-2.06 2.06-.94-2.06-.94L8.5 2.5l-.94 2.06-2.06.94zm10 10l.94 2.06.94-2.06 2.06-.94-2.06-.94-.94-2.06-.94 2.06-2.06.94z\"/><path d=\"M17.41 7.96l-1.37-1.37c-.4-.4-.92-.59-1.43-.59-.52 0-1.04.2-1.43.59L10.3 9.45l-7.72 7.72c-.78.78-.78 2.05 0 2.83L4 21.41c.39.39.9.59 1.41.59.51 0 1.02-.2 1.41-.59l7.78-7.78 2.81-2.81c.8-.78.8-2.07 0-2.86zM5.41 20L4 18.59l7.72-7.72 1.47 1.35L5.41 20z\"/>\n",
              "  </svg>\n",
              "      </button>\n",
              "      \n",
              "  <style>\n",
              "    .colab-df-container {\n",
              "      display:flex;\n",
              "      flex-wrap:wrap;\n",
              "      gap: 12px;\n",
              "    }\n",
              "\n",
              "    .colab-df-convert {\n",
              "      background-color: #E8F0FE;\n",
              "      border: none;\n",
              "      border-radius: 50%;\n",
              "      cursor: pointer;\n",
              "      display: none;\n",
              "      fill: #1967D2;\n",
              "      height: 32px;\n",
              "      padding: 0 0 0 0;\n",
              "      width: 32px;\n",
              "    }\n",
              "\n",
              "    .colab-df-convert:hover {\n",
              "      background-color: #E2EBFA;\n",
              "      box-shadow: 0px 1px 2px rgba(60, 64, 67, 0.3), 0px 1px 3px 1px rgba(60, 64, 67, 0.15);\n",
              "      fill: #174EA6;\n",
              "    }\n",
              "\n",
              "    [theme=dark] .colab-df-convert {\n",
              "      background-color: #3B4455;\n",
              "      fill: #D2E3FC;\n",
              "    }\n",
              "\n",
              "    [theme=dark] .colab-df-convert:hover {\n",
              "      background-color: #434B5C;\n",
              "      box-shadow: 0px 1px 3px 1px rgba(0, 0, 0, 0.15);\n",
              "      filter: drop-shadow(0px 1px 2px rgba(0, 0, 0, 0.3));\n",
              "      fill: #FFFFFF;\n",
              "    }\n",
              "  </style>\n",
              "\n",
              "      <script>\n",
              "        const buttonEl =\n",
              "          document.querySelector('#df-766a70f6-43cf-4e40-a4a7-0b8e816115a3 button.colab-df-convert');\n",
              "        buttonEl.style.display =\n",
              "          google.colab.kernel.accessAllowed ? 'block' : 'none';\n",
              "\n",
              "        async function convertToInteractive(key) {\n",
              "          const element = document.querySelector('#df-766a70f6-43cf-4e40-a4a7-0b8e816115a3');\n",
              "          const dataTable =\n",
              "            await google.colab.kernel.invokeFunction('convertToInteractive',\n",
              "                                                     [key], {});\n",
              "          if (!dataTable) return;\n",
              "\n",
              "          const docLinkHtml = 'Like what you see? Visit the ' +\n",
              "            '<a target=\"_blank\" href=https://colab.research.google.com/notebooks/data_table.ipynb>data table notebook</a>'\n",
              "            + ' to learn more about interactive tables.';\n",
              "          element.innerHTML = '';\n",
              "          dataTable['output_type'] = 'display_data';\n",
              "          await google.colab.output.renderOutput(dataTable, element);\n",
              "          const docLink = document.createElement('div');\n",
              "          docLink.innerHTML = docLinkHtml;\n",
              "          element.appendChild(docLink);\n",
              "        }\n",
              "      </script>\n",
              "    </div>\n",
              "  </div>\n",
              "  "
            ]
          },
          "metadata": {},
          "execution_count": 53
        }
      ]
    },
    {
      "cell_type": "code",
      "source": [
        "under_analysis.plot(x='ratio', y=['fp', 'fn'])\n",
        "plt.show()"
      ],
      "metadata": {
        "colab": {
          "base_uri": "https://localhost:8080/",
          "height": 279
        },
        "id": "1zenAqD2K2kX",
        "outputId": "bd0b2ef0-4fcc-4819-cfae-3e3b63c542ab"
      },
      "execution_count": null,
      "outputs": [
        {
          "output_type": "display_data",
          "data": {
            "text/plain": [
              "<Figure size 432x288 with 1 Axes>"
            ],
            "image/png": "[encoded data removed]"
          },
          "metadata": {
            "needs_background": "light"
          }
        }
      ]
    },
    {
      "cell_type": "code",
      "source": [
        "under_analysis['f_avg'] = (under_analysis['fp'] + under_analysis['fn'])/2\n",
        "under_ratio = under_analysis.loc[under_analysis['f_avg'].idxmin(), 'ratio']\n",
        "under_ratio"
      ],
      "metadata": {
        "colab": {
          "base_uri": "https://localhost:8080/"
        },
        "id": "yzymIIlASsRY",
        "outputId": "9f6c104d-6bf8-43ef-bd0f-2b6ff3739be2"
      },
      "execution_count": null,
      "outputs": [
        {
          "output_type": "execute_result",
          "data": {
            "text/plain": [
              "0.15"
            ]
          },
          "metadata": {},
          "execution_count": 55
        }
      ]
    },
    {
      "cell_type": "markdown",
      "source": [
        "Since minority/majority has a minimum average miscalssification rate ((fp+fn)/2) at 0.15, we suggest that the ratio can be set to 0.15."
      ],
      "metadata": {
        "id": "z5WYpIn3U2ov"
      }
    },
    {
      "cell_type": "markdown",
      "source": [
        "#### **Overersampling**"
      ],
      "metadata": {
        "id": "t8qnuo9NVssP"
      }
    },
    {
      "cell_type": "code",
      "source": [
        "def oversampleAnalysis():\n",
        "    over_analysis = pd.DataFrame(columns=['ratio','fp','fn'])\n",
        "    for i in np.arange(0.1, 1.05, 0.05):\n",
        "        over_x, over_y = SMOTE(random_state=42, sampling_strategy=round(i,2)).fit_resample(data_secom_x, data_secom_y)\n",
        "        pred, answer = svcPredictor(over_x, over_y)\n",
        "        cm = confusion_matrix(answer, pred)\n",
        "        tn, fp, fn, tp = cm.ravel()\n",
        "\n",
        "        item = {'ratio': round(i,2),\n",
        "                'fp': fp/len(answer),\n",
        "                'fn': fn/len(answer),\n",
        "        }\n",
        "        item_df = pd.DataFrame(item, index=[0])\n",
        "        over_analysis = over_analysis.append(item_df)\n",
        "\n",
        "    over_analysis = over_analysis.reset_index(drop=True)\n",
        "    return over_analysis"
      ],
      "metadata": {
        "id": "2atO0KFUVssa"
      },
      "execution_count": null,
      "outputs": []
    },
    {
      "cell_type": "code",
      "source": [
        "over_analysis = oversampleAnalysis()"
      ],
      "metadata": {
        "id": "R9UnjJSCVssb"
      },
      "execution_count": null,
      "outputs": []
    },
    {
      "cell_type": "code",
      "source": [
        "over_analysis"
      ],
      "metadata": {
        "colab": {
          "base_uri": "https://localhost:8080/",
          "height": 645
        },
        "outputId": "280652d5-6976-400c-9149-68ec581079b6",
        "id": "G4KRVk9TVssc"
      },
      "execution_count": null,
      "outputs": [
        {
          "output_type": "execute_result",
          "data": {
            "text/plain": [
              "    ratio        fp        fn\n",
              "0    0.10  0.093168  0.037267\n",
              "1    0.15  0.127596  0.014837\n",
              "2    0.20  0.108262  0.019943\n",
              "3    0.25  0.092896  0.010929\n",
              "4    0.30  0.102362  0.007874\n",
              "5    0.35  0.081013  0.002532\n",
              "6    0.40  0.107317  0.002439\n",
              "7    0.45  0.072941  0.000000\n",
              "8    0.50  0.079727  0.000000\n",
              "9    0.55  0.081498  0.000000\n",
              "10   0.60  0.076923  0.000000\n",
              "11   0.65  0.060041  0.004141\n",
              "12   0.70  0.074297  0.000000\n",
              "13   0.75  0.080078  0.000000\n",
              "14   0.80  0.070209  0.000000\n",
              "15   0.85  0.053506  0.001845\n",
              "16   0.90  0.073741  0.000000\n",
              "17   0.95  0.056042  0.000000\n",
              "18   1.00  0.064846  0.000000"
            ],
            "text/html": [
              "\n",
              "  <div id=\"df-e5816fc3-54a5-4f23-8c86-746add2ac266\">\n",
              "    <div class=\"colab-df-container\">\n",
              "      <div>\n",
              "<style scoped>\n",
              "    .dataframe tbody tr th:only-of-type {\n",
              "        vertical-align: middle;\n",
              "    }\n",
              "\n",
              "    .dataframe tbody tr th {\n",
              "        vertical-align: top;\n",
              "    }\n",
              "\n",
              "    .dataframe thead th {\n",
              "        text-align: right;\n",
              "    }\n",
              "</style>\n",
              "<table border=\"1\" class=\"dataframe\">\n",
              "  <thead>\n",
              "    <tr style=\"text-align: right;\">\n",
              "      <th></th>\n",
              "      <th>ratio</th>\n",
              "      <th>fp</th>\n",
              "      <th>fn</th>\n",
              "    </tr>\n",
              "  </thead>\n",
              "  <tbody>\n",
              "    <tr>\n",
              "      <th>0</th>\n",
              "      <td>0.10</td>\n",
              "      <td>0.093168</td>\n",
              "      <td>0.037267</td>\n",
              "    </tr>\n",
              "    <tr>\n",
              "      <th>1</th>\n",
              "      <td>0.15</td>\n",
              "      <td>0.127596</td>\n",
              "      <td>0.014837</td>\n",
              "    </tr>\n",
              "    <tr>\n",
              "      <th>2</th>\n",
              "      <td>0.20</td>\n",
              "      <td>0.108262</td>\n",
              "      <td>0.019943</td>\n",
              "    </tr>\n",
              "    <tr>\n",
              "      <th>3</th>\n",
              "      <td>0.25</td>\n",
              "      <td>0.092896</td>\n",
              "      <td>0.010929</td>\n",
              "    </tr>\n",
              "    <tr>\n",
              "      <th>4</th>\n",
              "      <td>0.30</td>\n",
              "      <td>0.102362</td>\n",
              "      <td>0.007874</td>\n",
              "    </tr>\n",
              "    <tr>\n",
              "      <th>5</th>\n",
              "      <td>0.35</td>\n",
              "      <td>0.081013</td>\n",
              "      <td>0.002532</td>\n",
              "    </tr>\n",
              "    <tr>\n",
              "      <th>6</th>\n",
              "      <td>0.40</td>\n",
              "      <td>0.107317</td>\n",
              "      <td>0.002439</td>\n",
              "    </tr>\n",
              "    <tr>\n",
              "      <th>7</th>\n",
              "      <td>0.45</td>\n",
              "      <td>0.072941</td>\n",
              "      <td>0.000000</td>\n",
              "    </tr>\n",
              "    <tr>\n",
              "      <th>8</th>\n",
              "      <td>0.50</td>\n",
              "      <td>0.079727</td>\n",
              "      <td>0.000000</td>\n",
              "    </tr>\n",
              "    <tr>\n",
              "      <th>9</th>\n",
              "      <td>0.55</td>\n",
              "      <td>0.081498</td>\n",
              "      <td>0.000000</td>\n",
              "    </tr>\n",
              "    <tr>\n",
              "      <th>10</th>\n",
              "      <td>0.60</td>\n",
              "      <td>0.076923</td>\n",
              "      <td>0.000000</td>\n",
              "    </tr>\n",
              "    <tr>\n",
              "      <th>11</th>\n",
              "      <td>0.65</td>\n",
              "      <td>0.060041</td>\n",
              "      <td>0.004141</td>\n",
              "    </tr>\n",
              "    <tr>\n",
              "      <th>12</th>\n",
              "      <td>0.70</td>\n",
              "      <td>0.074297</td>\n",
              "      <td>0.000000</td>\n",
              "    </tr>\n",
              "    <tr>\n",
              "      <th>13</th>\n",
              "      <td>0.75</td>\n",
              "      <td>0.080078</td>\n",
              "      <td>0.000000</td>\n",
              "    </tr>\n",
              "    <tr>\n",
              "      <th>14</th>\n",
              "      <td>0.80</td>\n",
              "      <td>0.070209</td>\n",
              "      <td>0.000000</td>\n",
              "    </tr>\n",
              "    <tr>\n",
              "      <th>15</th>\n",
              "      <td>0.85</td>\n",
              "      <td>0.053506</td>\n",
              "      <td>0.001845</td>\n",
              "    </tr>\n",
              "    <tr>\n",
              "      <th>16</th>\n",
              "      <td>0.90</td>\n",
              "      <td>0.073741</td>\n",
              "      <td>0.000000</td>\n",
              "    </tr>\n",
              "    <tr>\n",
              "      <th>17</th>\n",
              "      <td>0.95</td>\n",
              "      <td>0.056042</td>\n",
              "      <td>0.000000</td>\n",
              "    </tr>\n",
              "    <tr>\n",
              "      <th>18</th>\n",
              "      <td>1.00</td>\n",
              "      <td>0.064846</td>\n",
              "      <td>0.000000</td>\n",
              "    </tr>\n",
              "  </tbody>\n",
              "</table>\n",
              "</div>\n",
              "      <button class=\"colab-df-convert\" onclick=\"convertToInteractive('df-e5816fc3-54a5-4f23-8c86-746add2ac266')\"\n",
              "              title=\"Convert this dataframe to an interactive table.\"\n",
              "              style=\"display:none;\">\n",
              "        \n",
              "  <svg xmlns=\"http://www.w3.org/2000/svg\" height=\"24px\"viewBox=\"0 0 24 24\"\n",
              "       width=\"24px\">\n",
              "    <path d=\"M0 0h24v24H0V0z\" fill=\"none\"/>\n",
              "    <path d=\"M18.56 5.44l.94 2.06.94-2.06 2.06-.94-2.06-.94-.94-2.06-.94 2.06-2.06.94zm-11 1L8.5 8.5l.94-2.06 2.06-.94-2.06-.94L8.5 2.5l-.94 2.06-2.06.94zm10 10l.94 2.06.94-2.06 2.06-.94-2.06-.94-.94-2.06-.94 2.06-2.06.94z\"/><path d=\"M17.41 7.96l-1.37-1.37c-.4-.4-.92-.59-1.43-.59-.52 0-1.04.2-1.43.59L10.3 9.45l-7.72 7.72c-.78.78-.78 2.05 0 2.83L4 21.41c.39.39.9.59 1.41.59.51 0 1.02-.2 1.41-.59l7.78-7.78 2.81-2.81c.8-.78.8-2.07 0-2.86zM5.41 20L4 18.59l7.72-7.72 1.47 1.35L5.41 20z\"/>\n",
              "  </svg>\n",
              "      </button>\n",
              "      \n",
              "  <style>\n",
              "    .colab-df-container {\n",
              "      display:flex;\n",
              "      flex-wrap:wrap;\n",
              "      gap: 12px;\n",
              "    }\n",
              "\n",
              "    .colab-df-convert {\n",
              "      background-color: #E8F0FE;\n",
              "      border: none;\n",
              "      border-radius: 50%;\n",
              "      cursor: pointer;\n",
              "      display: none;\n",
              "      fill: #1967D2;\n",
              "      height: 32px;\n",
              "      padding: 0 0 0 0;\n",
              "      width: 32px;\n",
              "    }\n",
              "\n",
              "    .colab-df-convert:hover {\n",
              "      background-color: #E2EBFA;\n",
              "      box-shadow: 0px 1px 2px rgba(60, 64, 67, 0.3), 0px 1px 3px 1px rgba(60, 64, 67, 0.15);\n",
              "      fill: #174EA6;\n",
              "    }\n",
              "\n",
              "    [theme=dark] .colab-df-convert {\n",
              "      background-color: #3B4455;\n",
              "      fill: #D2E3FC;\n",
              "    }\n",
              "\n",
              "    [theme=dark] .colab-df-convert:hover {\n",
              "      background-color: #434B5C;\n",
              "      box-shadow: 0px 1px 3px 1px rgba(0, 0, 0, 0.15);\n",
              "      filter: drop-shadow(0px 1px 2px rgba(0, 0, 0, 0.3));\n",
              "      fill: #FFFFFF;\n",
              "    }\n",
              "  </style>\n",
              "\n",
              "      <script>\n",
              "        const buttonEl =\n",
              "          document.querySelector('#df-e5816fc3-54a5-4f23-8c86-746add2ac266 button.colab-df-convert');\n",
              "        buttonEl.style.display =\n",
              "          google.colab.kernel.accessAllowed ? 'block' : 'none';\n",
              "\n",
              "        async function convertToInteractive(key) {\n",
              "          const element = document.querySelector('#df-e5816fc3-54a5-4f23-8c86-746add2ac266');\n",
              "          const dataTable =\n",
              "            await google.colab.kernel.invokeFunction('convertToInteractive',\n",
              "                                                     [key], {});\n",
              "          if (!dataTable) return;\n",
              "\n",
              "          const docLinkHtml = 'Like what you see? Visit the ' +\n",
              "            '<a target=\"_blank\" href=https://colab.research.google.com/notebooks/data_table.ipynb>data table notebook</a>'\n",
              "            + ' to learn more about interactive tables.';\n",
              "          element.innerHTML = '';\n",
              "          dataTable['output_type'] = 'display_data';\n",
              "          await google.colab.output.renderOutput(dataTable, element);\n",
              "          const docLink = document.createElement('div');\n",
              "          docLink.innerHTML = docLinkHtml;\n",
              "          element.appendChild(docLink);\n",
              "        }\n",
              "      </script>\n",
              "    </div>\n",
              "  </div>\n",
              "  "
            ]
          },
          "metadata": {},
          "execution_count": 58
        }
      ]
    },
    {
      "cell_type": "code",
      "source": [
        "over_analysis.plot(x='ratio', y=['fp', 'fn'])\n",
        "plt.show()"
      ],
      "metadata": {
        "colab": {
          "base_uri": "https://localhost:8080/",
          "height": 279
        },
        "outputId": "b32eefe0-1ee1-408c-eada-06bea99d74fd",
        "id": "EVyhCw02Vssc"
      },
      "execution_count": null,
      "outputs": [
        {
          "output_type": "display_data",
          "data": {
            "text/plain": [
              "<Figure size 432x288 with 1 Axes>"
            ],
            "image/png": "[encoded data removed]"
          },
          "metadata": {
            "needs_background": "light"
          }
        }
      ]
    },
    {
      "cell_type": "code",
      "source": [
        "over_analysis['f_avg'] = (over_analysis['fp'] + over_analysis['fn'])/2\n",
        "over_ratio = over_analysis.loc[over_analysis['f_avg'].idxmin(), 'ratio']\n",
        "over_ratio"
      ],
      "metadata": {
        "colab": {
          "base_uri": "https://localhost:8080/"
        },
        "outputId": "bf69af10-e11c-4b82-caac-2ae027c545fe",
        "id": "Fj52BNoUVssd"
      },
      "execution_count": null,
      "outputs": [
        {
          "output_type": "execute_result",
          "data": {
            "text/plain": [
              "0.85"
            ]
          },
          "metadata": {},
          "execution_count": 60
        }
      ]
    },
    {
      "cell_type": "markdown",
      "source": [
        "Since minority/majority has a minimum average miscalssification rate ((fp+fn)/2) at 0.85, we suggest that the ratio can be set to 0.85."
      ],
      "metadata": {
        "id": "qCZsLl2NVssd"
      }
    },
    {
      "cell_type": "markdown",
      "metadata": {
        "id": "oxYM1kYuw24g"
      },
      "source": [
        "###**(d) (10%) 試說明特徵挑選步驟應於數據平衡前或後，這對預測結果有何影響？**\n",
        "\n"
      ]
    },
    {
      "cell_type": "markdown",
      "source": [
        "Feature selection is not suitable for imbalanced data as they tend to be biased towards the majority class. We can only conclude that the selected features are important for the majority. Predicting results of the minority may not be as good as those of the majority since the discriminating features may not be chosen. It is more reasonable for us to use a complete dataset to Therefore, feature selection should be implemented after the process of data balancing.\n",
        "\n"
      ],
      "metadata": {
        "id": "b0AStzQFGf2r"
      }
    },
    {
      "cell_type": "markdown",
      "metadata": {
        "id": "At73VzKeKlY0"
      },
      "source": [
        "\n",
        "\n",
        "---\n",
        "\n",
        "\n",
        "##**2. (30%) Programming Questions**\n",
        "\n",
        "Please use Python to answer the following questions. Provide your code and justify your answer. Show all your work in detail including specific algorithm and parameter design. You should hand in ***TWO files (one for Tabu and one for Genetic Algorithm)*** regarding to each meta-heuristic algorithm, respectively. The result should include ***optimal solution (i.e., job sequence), optimal function (i.e. fitness) value, running time, number of tardy jobs***. For the parameter settings (eg. tabu size, crossover rate, mutation rate, etc.), please give a simple ***trial-and-error*** or ***design of experiment*** for sensitivity analysis.\n",
        "\n",
        "Single-Machine Scheduling Problem\n",
        "\n",
        "Please answer following single-machine total weighted tardiness problem. The objective function is to minimize the total weighted tardiness.\n",
        "\n",
        "\n",
        "<img src=\"https://drive.google.com/uc?export=view&id=1UdN2GZjCKRltwgmj24pRVJN8QIgtwavX\" width=\"800\"/>\n"
      ]
    },
    {
      "cell_type": "code",
      "execution_count": null,
      "metadata": {
        "id": "gJUSDDgFbDaM"
      },
      "outputs": [],
      "source": [
        "import time"
      ]
    },
    {
      "cell_type": "code",
      "execution_count": null,
      "metadata": {
        "id": "BJni1neTx83Y"
      },
      "outputs": [],
      "source": [
        "input_data = {1: {'processing_time': 10, 'due_date': 50, 'weight': 10},\n",
        "              2: {'processing_time': 10, 'due_date': 38, 'weight': 5},\n",
        "              3: {'processing_time': 13, 'due_date': 49, 'weight': 1},\n",
        "              4: {'processing_time': 4, 'due_date': 12, 'weight': 5},\n",
        "              5: {'processing_time': 9, 'due_date': 20, 'weight': 10},\n",
        "              6: {'processing_time': 4, 'due_date': 105, 'weight': 1},\n",
        "              7: {'processing_time': 8, 'due_date': 73, 'weight': 5},\n",
        "              8: {'processing_time': 15, 'due_date': 45, 'weight': 10},\n",
        "              9: {'processing_time': 7, 'due_date': 6, 'weight': 5},\n",
        "              10: {'processing_time': 1, 'due_date': 64, 'weight': 1},\n",
        "              11: {'processing_time': 9, 'due_date': 15, 'weight': 5},\n",
        "              12: {'processing_time': 3, 'due_date': 6, 'weight': 10},\n",
        "              13: {'processing_time': 15, 'due_date': 92, 'weight': 10},\n",
        "              14: {'processing_time': 9, 'due_date': 43, 'weight': 5},\n",
        "              15: {'processing_time': 11, 'due_date': 78, 'weight': 1},\n",
        "              16: {'processing_time': 6, 'due_date': 21, 'weight': 10},\n",
        "              17: {'processing_time': 5, 'due_date': 15, 'weight': 5},\n",
        "              18: {'processing_time': 14, 'due_date': 50, 'weight': 5},\n",
        "              19: {'processing_time': 18, 'due_date': 150, 'weight': 1},\n",
        "              20: {'processing_time': 3, 'due_date': 99, 'weight': 5}}"
      ]
    },
    {
      "cell_type": "markdown",
      "metadata": {
        "id": "v64L8o9pKPsi"
      },
      "source": [
        "###**(a) (0%) Learn Genetic**\n",
        "\n",
        "https://www.youtube.com/watch?v=kHyNqSnzP8Y \n",
        "\n",
        "https://www.youtube.com/watch?v=Fdk7ZKJHFcI ."
      ]
    },
    {
      "cell_type": "markdown",
      "metadata": {
        "id": "tbNWj_zHK7zY"
      },
      "source": [
        "###**(b) (15%) Develop Tabu Search (TS) algorithm to solve the problem. Show your design and the “result”.**\n",
        "\n",
        "Reference: https://medium.com/swlh/tabu-search-in-python-3199c44d44f1"
      ]
    },
    {
      "cell_type": "code",
      "execution_count": null,
      "metadata": {
        "id": "0X64Wh2aLeK7"
      },
      "outputs": [],
      "source": [
        "import random as rd\n",
        "from itertools import combinations\n",
        "import math"
      ]
    },
    {
      "cell_type": "code",
      "execution_count": null,
      "metadata": {
        "id": "exUeqf0hNgjU"
      },
      "outputs": [],
      "source": [
        "class TS():\n",
        "    def __init__(self, seed, tabu_tenure, terminate):\n",
        "    # def __init__(self, seed, tabu_tenure, Penalization_weight):\n",
        "        self.start_time_tabu = time.time()\n",
        "        self.seed = seed\n",
        "        self.tabu_tenure = tabu_tenure # Tabu list size\n",
        "        self.terminate = terminate\n",
        "        # self.Penalization_weight = Penalization_weight\n",
        "        self.input_dict = input_data\n",
        "        self.Initial_solution = self.get_InitialSolution()\n",
        "        self.tabu_str, self.Best_solution, self.Best_objvalue, self.Best_tardy_jobs = self.TabuSearch()\n",
        "        self.end_time_tabu = time.time()\n",
        "        # print(\"Running time: {}\".format(end_time_tabu - start_time_tabu))\n",
        "        # self.tabu_result = self.Result()\n",
        "\n",
        "    def get_tabuestructure(self):\n",
        "        '''\n",
        "        Takes a dict (input data)\n",
        "        Returns a dict of tabu attributes (pair of jobs that are swapped) as keys and [tabu_time, MoveValue]\n",
        "        '''\n",
        "        dict = {}\n",
        "        for swap in combinations(self.input_dict.keys(), 2):\n",
        "            dict[swap] = {'tabu_time': 0, 'MoveValue': 0}\n",
        "            # dict[swap] = {'tabu_time': 0, 'MoveValue': 0, 'freq': 0, 'Penalized_MV': 0}\n",
        "        return dict\n",
        "\n",
        "    def get_InitialSolution(self, show=False):\n",
        "        n_jobs = len(self.input_dict) # number of jobs\n",
        "        # Produce a random schedule of jobs\n",
        "        initial_solution = list(range(1, n_jobs+1))\n",
        "        rd.seed(self.seed)\n",
        "        rd.shuffle(initial_solution)\n",
        "        if show == True:\n",
        "            print(\"initial Random Solution: {}\".format(initial_solution))\n",
        "        return initial_solution\n",
        "\n",
        "    def Objfun(self, solution, show=False):\n",
        "        '''\n",
        "        Takes a set of scheduled jobs, dict (input data)\n",
        "        Return the objective function value of the solution\n",
        "        '''\n",
        "        dict = self.input_dict\n",
        "        t = 0   # starting time\n",
        "        objfun_value = 0\n",
        "        n_tardy_jobs = 0   # number of tardy jobs\n",
        "\n",
        "        for job in solution:\n",
        "            C_i = t + dict[job][\"processing_time\"]  # completion time\n",
        "            d_i = dict[job][\"due_date\"]   # due date of the job\n",
        "            T_i = max(0, C_i - d_i)    # tardiness for the job\n",
        "            W_i = dict[job][\"weight\"]  # job's weight\n",
        "\n",
        "            objfun_value +=  W_i * T_i\n",
        "            t = C_i\n",
        "            if T_i > 0:\n",
        "                n_tardy_jobs += 1\n",
        "        \n",
        "        if show == True:\n",
        "            print(\"\\n\",\"#\"*8, \"The Objective function value for {} solution schedule is: {}\".format(solution ,objfun_value),\"#\"*8)\n",
        "        return objfun_value, n_tardy_jobs\n",
        "\n",
        "    def SwapMove(self, solution, i ,j):\n",
        "        '''\n",
        "        Take a list (solution)\n",
        "        return a new neighbor solution with i, j swapped\n",
        "        '''\n",
        "        solution = solution.copy()\n",
        "        # job index in the solution:\n",
        "        i_index = solution.index(i)\n",
        "        j_index = solution.index(j)\n",
        "        #Swap\n",
        "        solution[i_index], solution[j_index] = solution[j_index], solution[i_index]\n",
        "        return solution\n",
        "\n",
        "    def TabuSearch(self, show=False):\n",
        "        '''\n",
        "        The implementation Tabu search algorithm with short-term memory and pair_swap as Tabu attribute.\n",
        "        '''\n",
        "        # Parameters:\n",
        "        tenure = self.tabu_tenure\n",
        "        tabu_structure = self.get_tabuestructure()  # Initialize the data structures\n",
        "        best_solution = self.Initial_solution\n",
        "        best_objvalue, best_tardy_jobs = self.Objfun(best_solution)\n",
        "        current_solution = self.Initial_solution\n",
        "        current_objvalue, current_tardy_jobs = self.Objfun(current_solution)\n",
        "\n",
        "        if show == True:\n",
        "            print(\"#\"*30, \"Short-term memory TS with Tabu Tenure: {}\\nInitial solution: {}, Initial objvalue: {}, Initial tardy jobs: {}\".format(\n",
        "                tenure, current_solution, current_objvalue, current_tardy_jobs), \"#\"*30, sep='\\n\\n')\n",
        "        iter = 1\n",
        "        Terminate = 0\n",
        "        while Terminate < self.terminate:\n",
        "            if show == True:\n",
        "                print('\\n\\n### iter {}###  Current_Objvalue: {}, Best_Objvalue: {}, Best_Tardy_Jobs: {}'.format(iter, current_objvalue, best_objvalue, best_tardy_jobs))\n",
        "            \n",
        "            # Searching the whole neighborhood of the current solution:\n",
        "            for move in tabu_structure:\n",
        "                candidate_solution = self.SwapMove(current_solution, move[0], move[1])\n",
        "                candidate_objvalue, candidate_tardy_jobs = self.Objfun(candidate_solution)\n",
        "                tabu_structure[move]['MoveValue'] = candidate_objvalue\n",
        "                # Penalized objValue by adding freq to Objvalue (minimization):\n",
        "                # tabu_structure[move]['Penalized_MV'] = candidate_objvalue + (tabu_structure[move]['freq'] * self.Penalization_weight)\n",
        "\n",
        "            # Admissible move\n",
        "            while True:\n",
        "                # select the move with the lowest ObjValue in the neighborhood (minimization)\n",
        "                best_move = min(tabu_structure, key =lambda x: tabu_structure[x]['MoveValue'])\n",
        "                MoveValue = tabu_structure[best_move][\"MoveValue\"]\n",
        "                tabu_time = tabu_structure[best_move][\"tabu_time\"]\n",
        "                # Penalized_MV = tabu_structure[best_move][\"Penalized_MV\"]\n",
        "\n",
        "                # Not Tabu\n",
        "                if tabu_time < iter:\n",
        "                    # make the move\n",
        "                    current_solution = self.SwapMove(current_solution, best_move[0], best_move[1])\n",
        "                    current_objvalue, current_tardy_jobs = self.Objfun(current_solution)\n",
        "                    # Best Improving move\n",
        "                    if MoveValue < best_objvalue:\n",
        "                        best_solution = current_solution\n",
        "                        best_objvalue = current_objvalue\n",
        "                        if show == True:\n",
        "                            print(\"   best_move: {}, Objvalue: {} => Best Improving => Admissible\".format(best_move, current_objvalue))\n",
        "                        Terminate = 0\n",
        "                    else:\n",
        "                        if show == True:\n",
        "                            print(\"   ##Termination: {}## best_move: {}, Objvalue: {} => Least non-improving => \"\n",
        "                              \"Admissible\".format(Terminate, best_move, current_objvalue))\n",
        "                        Terminate += 1\n",
        "                    # update tabu_time for the move\n",
        "                    tabu_structure[best_move]['tabu_time'] = iter + tenure\n",
        "                    # tabu_structure[best_move]['freq'] += 1\n",
        "                    iter += 1\n",
        "                    break\n",
        "\n",
        "                # If tabu\n",
        "                else:\n",
        "                    # Aspiration\n",
        "                    if MoveValue < best_objvalue:\n",
        "                        # make the move\n",
        "                        current_solution = self.SwapMove(current_solution, best_move[0], best_move[1])\n",
        "                        current_objvalue, current_tardy_jobs = self.Objfun(current_solution)\n",
        "                        best_solution = current_solution\n",
        "                        best_objvalue = current_objvalue\n",
        "                        if show == True:\n",
        "                            print(\"   best_move: {}, Objvalue: {} => Aspiration => Admissible\".format(best_move, current_objvalue))\n",
        "                        # tabu_structure[best_move]['freq'] += 1\n",
        "                        Terminate = 0\n",
        "                        iter += 1\n",
        "                        break\n",
        "                    else:\n",
        "                        tabu_structure[best_move][\"MoveValue\"] = float('inf')\n",
        "                        # tabu_structure[best_move]['Penalized_MV'] = float('inf')\n",
        "                        if show == True:\n",
        "                            print(\"   best_move: {}, Objvalue: {} => Tabu => Inadmissible\".format(best_move, current_objvalue))\n",
        "                        continue\n",
        "        if show == True:\n",
        "            print('\\n\\n','#'*50)\n",
        "            print(\"Performed iterations: {}\\nOptimal solution: {}\\nOptimal function value: {}\\nNumber of tardy jobs: {}\".format(iter, best_solution, best_objvalue, best_tardy_jobs), sep=\"\\n\\n\")\n",
        "        return tabu_structure, best_solution, best_objvalue, best_tardy_jobs\n",
        "\n",
        "    def Result(self):\n",
        "        return \"Optimal solution: {}\\nOptimal function value: {}\\nNumber of tardy jobs: {}\\nRunning time: {}\".format(self.Best_solution, self.Best_objvalue, self.Best_tardy_jobs, self.end_time_tabu - self.start_time_tabu)\n"
      ]
    },
    {
      "cell_type": "markdown",
      "metadata": {
        "id": "cT858XHhjHUA"
      },
      "source": [
        "#### **Sensitivity Analysis**\n",
        "\n",
        "seeds & tabu_size"
      ]
    },
    {
      "cell_type": "code",
      "execution_count": null,
      "metadata": {
        "colab": {
          "base_uri": "https://localhost:8080/",
          "height": 423
        },
        "id": "oKxTgbUfjHUB",
        "outputId": "ee4d6754-fd57-4508-c4a6-0e20003922dd"
      },
      "outputs": [
        {
          "output_type": "execute_result",
          "data": {
            "text/plain": [
              "    seeds tabu size fitness tardy\n",
              "0     100         3    1928    14\n",
              "1     100         4    1928    14\n",
              "2     100         5    1928    14\n",
              "3     100         6    1928    14\n",
              "4     100         7    1928    14\n",
              "..    ...       ...     ...   ...\n",
              "488  2900        15    1928    14\n",
              "489  2900        16    1928    14\n",
              "490  2900        17    1928    14\n",
              "491  2900        18    1928    14\n",
              "492  2900        19    1928    14\n",
              "\n",
              "[493 rows x 4 columns]"
            ],
            "text/html": [
              "\n",
              "  <div id=\"df-92238c79-e933-4405-9944-644b17520a42\">\n",
              "    <div class=\"colab-df-container\">\n",
              "      <div>\n",
              "<style scoped>\n",
              "    .dataframe tbody tr th:only-of-type {\n",
              "        vertical-align: middle;\n",
              "    }\n",
              "\n",
              "    .dataframe tbody tr th {\n",
              "        vertical-align: top;\n",
              "    }\n",
              "\n",
              "    .dataframe thead th {\n",
              "        text-align: right;\n",
              "    }\n",
              "</style>\n",
              "<table border=\"1\" class=\"dataframe\">\n",
              "  <thead>\n",
              "    <tr style=\"text-align: right;\">\n",
              "      <th></th>\n",
              "      <th>seeds</th>\n",
              "      <th>tabu size</th>\n",
              "      <th>fitness</th>\n",
              "      <th>tardy</th>\n",
              "    </tr>\n",
              "  </thead>\n",
              "  <tbody>\n",
              "    <tr>\n",
              "      <th>0</th>\n",
              "      <td>100</td>\n",
              "      <td>3</td>\n",
              "      <td>1928</td>\n",
              "      <td>14</td>\n",
              "    </tr>\n",
              "    <tr>\n",
              "      <th>1</th>\n",
              "      <td>100</td>\n",
              "      <td>4</td>\n",
              "      <td>1928</td>\n",
              "      <td>14</td>\n",
              "    </tr>\n",
              "    <tr>\n",
              "      <th>2</th>\n",
              "      <td>100</td>\n",
              "      <td>5</td>\n",
              "      <td>1928</td>\n",
              "      <td>14</td>\n",
              "    </tr>\n",
              "    <tr>\n",
              "      <th>3</th>\n",
              "      <td>100</td>\n",
              "      <td>6</td>\n",
              "      <td>1928</td>\n",
              "      <td>14</td>\n",
              "    </tr>\n",
              "    <tr>\n",
              "      <th>4</th>\n",
              "      <td>100</td>\n",
              "      <td>7</td>\n",
              "      <td>1928</td>\n",
              "      <td>14</td>\n",
              "    </tr>\n",
              "    <tr>\n",
              "      <th>...</th>\n",
              "      <td>...</td>\n",
              "      <td>...</td>\n",
              "      <td>...</td>\n",
              "      <td>...</td>\n",
              "    </tr>\n",
              "    <tr>\n",
              "      <th>488</th>\n",
              "      <td>2900</td>\n",
              "      <td>15</td>\n",
              "      <td>1928</td>\n",
              "      <td>14</td>\n",
              "    </tr>\n",
              "    <tr>\n",
              "      <th>489</th>\n",
              "      <td>2900</td>\n",
              "      <td>16</td>\n",
              "      <td>1928</td>\n",
              "      <td>14</td>\n",
              "    </tr>\n",
              "    <tr>\n",
              "      <th>490</th>\n",
              "      <td>2900</td>\n",
              "      <td>17</td>\n",
              "      <td>1928</td>\n",
              "      <td>14</td>\n",
              "    </tr>\n",
              "    <tr>\n",
              "      <th>491</th>\n",
              "      <td>2900</td>\n",
              "      <td>18</td>\n",
              "      <td>1928</td>\n",
              "      <td>14</td>\n",
              "    </tr>\n",
              "    <tr>\n",
              "      <th>492</th>\n",
              "      <td>2900</td>\n",
              "      <td>19</td>\n",
              "      <td>1928</td>\n",
              "      <td>14</td>\n",
              "    </tr>\n",
              "  </tbody>\n",
              "</table>\n",
              "<p>493 rows × 4 columns</p>\n",
              "</div>\n",
              "      <button class=\"colab-df-convert\" onclick=\"convertToInteractive('df-92238c79-e933-4405-9944-644b17520a42')\"\n",
              "              title=\"Convert this dataframe to an interactive table.\"\n",
              "              style=\"display:none;\">\n",
              "        \n",
              "  <svg xmlns=\"http://www.w3.org/2000/svg\" height=\"24px\"viewBox=\"0 0 24 24\"\n",
              "       width=\"24px\">\n",
              "    <path d=\"M0 0h24v24H0V0z\" fill=\"none\"/>\n",
              "    <path d=\"M18.56 5.44l.94 2.06.94-2.06 2.06-.94-2.06-.94-.94-2.06-.94 2.06-2.06.94zm-11 1L8.5 8.5l.94-2.06 2.06-.94-2.06-.94L8.5 2.5l-.94 2.06-2.06.94zm10 10l.94 2.06.94-2.06 2.06-.94-2.06-.94-.94-2.06-.94 2.06-2.06.94z\"/><path d=\"M17.41 7.96l-1.37-1.37c-.4-.4-.92-.59-1.43-.59-.52 0-1.04.2-1.43.59L10.3 9.45l-7.72 7.72c-.78.78-.78 2.05 0 2.83L4 21.41c.39.39.9.59 1.41.59.51 0 1.02-.2 1.41-.59l7.78-7.78 2.81-2.81c.8-.78.8-2.07 0-2.86zM5.41 20L4 18.59l7.72-7.72 1.47 1.35L5.41 20z\"/>\n",
              "  </svg>\n",
              "      </button>\n",
              "      \n",
              "  <style>\n",
              "    .colab-df-container {\n",
              "      display:flex;\n",
              "      flex-wrap:wrap;\n",
              "      gap: 12px;\n",
              "    }\n",
              "\n",
              "    .colab-df-convert {\n",
              "      background-color: #E8F0FE;\n",
              "      border: none;\n",
              "      border-radius: 50%;\n",
              "      cursor: pointer;\n",
              "      display: none;\n",
              "      fill: #1967D2;\n",
              "      height: 32px;\n",
              "      padding: 0 0 0 0;\n",
              "      width: 32px;\n",
              "    }\n",
              "\n",
              "    .colab-df-convert:hover {\n",
              "      background-color: #E2EBFA;\n",
              "      box-shadow: 0px 1px 2px rgba(60, 64, 67, 0.3), 0px 1px 3px 1px rgba(60, 64, 67, 0.15);\n",
              "      fill: #174EA6;\n",
              "    }\n",
              "\n",
              "    [theme=dark] .colab-df-convert {\n",
              "      background-color: #3B4455;\n",
              "      fill: #D2E3FC;\n",
              "    }\n",
              "\n",
              "    [theme=dark] .colab-df-convert:hover {\n",
              "      background-color: #434B5C;\n",
              "      box-shadow: 0px 1px 3px 1px rgba(0, 0, 0, 0.15);\n",
              "      filter: drop-shadow(0px 1px 2px rgba(0, 0, 0, 0.3));\n",
              "      fill: #FFFFFF;\n",
              "    }\n",
              "  </style>\n",
              "\n",
              "      <script>\n",
              "        const buttonEl =\n",
              "          document.querySelector('#df-92238c79-e933-4405-9944-644b17520a42 button.colab-df-convert');\n",
              "        buttonEl.style.display =\n",
              "          google.colab.kernel.accessAllowed ? 'block' : 'none';\n",
              "\n",
              "        async function convertToInteractive(key) {\n",
              "          const element = document.querySelector('#df-92238c79-e933-4405-9944-644b17520a42');\n",
              "          const dataTable =\n",
              "            await google.colab.kernel.invokeFunction('convertToInteractive',\n",
              "                                                     [key], {});\n",
              "          if (!dataTable) return;\n",
              "\n",
              "          const docLinkHtml = 'Like what you see? Visit the ' +\n",
              "            '<a target=\"_blank\" href=https://colab.research.google.com/notebooks/data_table.ipynb>data table notebook</a>'\n",
              "            + ' to learn more about interactive tables.';\n",
              "          element.innerHTML = '';\n",
              "          dataTable['output_type'] = 'display_data';\n",
              "          await google.colab.output.renderOutput(dataTable, element);\n",
              "          const docLink = document.createElement('div');\n",
              "          docLink.innerHTML = docLinkHtml;\n",
              "          element.appendChild(docLink);\n",
              "        }\n",
              "      </script>\n",
              "    </div>\n",
              "  </div>\n",
              "  "
            ]
          },
          "metadata": {},
          "execution_count": 7
        }
      ],
      "source": [
        "tabu_analysis = pd.DataFrame(columns=['seeds','tabu size','fitness','tardy'])\n",
        "min_fitness_tabu = 9999\n",
        "for i in range(100, 3000, 100):\n",
        "    for j in range(3, 20):\n",
        "        tabu = TS(seed = i, tabu_tenure=j, terminate = 100)\n",
        "        item = {'seeds': i,\n",
        "                'tabu size': j,\n",
        "                'fitness': tabu.Best_objvalue,\n",
        "                'tardy': tabu.Best_tardy_jobs,\n",
        "        }\n",
        "        item_df = pd.DataFrame(item, index=[0])\n",
        "        tabu_analysis = tabu_analysis.append(item_df)\n",
        "        if tabu.Best_objvalue < min_fitness_tabu:\n",
        "            min_fitness_tabu = tabu.Best_objvalue\n",
        "\n",
        "tabu_analysis = tabu_analysis.reset_index(drop=True)\n",
        "tabu_analysis"
      ]
    },
    {
      "cell_type": "code",
      "execution_count": null,
      "metadata": {
        "colab": {
          "base_uri": "https://localhost:8080/",
          "height": 300
        },
        "id": "M-C_tHFPjHUC",
        "outputId": "9dacce10-ca52-4185-dcff-7f51f7a09e29"
      },
      "outputs": [
        {
          "output_type": "execute_result",
          "data": {
            "text/plain": [
              "       fitness       tardy\n",
              "count    493.0  493.000000\n",
              "mean    1928.0   14.862069\n",
              "std        0.0    1.280419\n",
              "min     1928.0   13.000000\n",
              "25%     1928.0   14.000000\n",
              "50%     1928.0   15.000000\n",
              "75%     1928.0   16.000000\n",
              "max     1928.0   18.000000"
            ],
            "text/html": [
              "\n",
              "  <div id=\"df-1409bf90-d399-4ce8-827d-076c91c0549a\">\n",
              "    <div class=\"colab-df-container\">\n",
              "      <div>\n",
              "<style scoped>\n",
              "    .dataframe tbody tr th:only-of-type {\n",
              "        vertical-align: middle;\n",
              "    }\n",
              "\n",
              "    .dataframe tbody tr th {\n",
              "        vertical-align: top;\n",
              "    }\n",
              "\n",
              "    .dataframe thead th {\n",
              "        text-align: right;\n",
              "    }\n",
              "</style>\n",
              "<table border=\"1\" class=\"dataframe\">\n",
              "  <thead>\n",
              "    <tr style=\"text-align: right;\">\n",
              "      <th></th>\n",
              "      <th>fitness</th>\n",
              "      <th>tardy</th>\n",
              "    </tr>\n",
              "  </thead>\n",
              "  <tbody>\n",
              "    <tr>\n",
              "      <th>count</th>\n",
              "      <td>493.0</td>\n",
              "      <td>493.000000</td>\n",
              "    </tr>\n",
              "    <tr>\n",
              "      <th>mean</th>\n",
              "      <td>1928.0</td>\n",
              "      <td>14.862069</td>\n",
              "    </tr>\n",
              "    <tr>\n",
              "      <th>std</th>\n",
              "      <td>0.0</td>\n",
              "      <td>1.280419</td>\n",
              "    </tr>\n",
              "    <tr>\n",
              "      <th>min</th>\n",
              "      <td>1928.0</td>\n",
              "      <td>13.000000</td>\n",
              "    </tr>\n",
              "    <tr>\n",
              "      <th>25%</th>\n",
              "      <td>1928.0</td>\n",
              "      <td>14.000000</td>\n",
              "    </tr>\n",
              "    <tr>\n",
              "      <th>50%</th>\n",
              "      <td>1928.0</td>\n",
              "      <td>15.000000</td>\n",
              "    </tr>\n",
              "    <tr>\n",
              "      <th>75%</th>\n",
              "      <td>1928.0</td>\n",
              "      <td>16.000000</td>\n",
              "    </tr>\n",
              "    <tr>\n",
              "      <th>max</th>\n",
              "      <td>1928.0</td>\n",
              "      <td>18.000000</td>\n",
              "    </tr>\n",
              "  </tbody>\n",
              "</table>\n",
              "</div>\n",
              "      <button class=\"colab-df-convert\" onclick=\"convertToInteractive('df-1409bf90-d399-4ce8-827d-076c91c0549a')\"\n",
              "              title=\"Convert this dataframe to an interactive table.\"\n",
              "              style=\"display:none;\">\n",
              "        \n",
              "  <svg xmlns=\"http://www.w3.org/2000/svg\" height=\"24px\"viewBox=\"0 0 24 24\"\n",
              "       width=\"24px\">\n",
              "    <path d=\"M0 0h24v24H0V0z\" fill=\"none\"/>\n",
              "    <path d=\"M18.56 5.44l.94 2.06.94-2.06 2.06-.94-2.06-.94-.94-2.06-.94 2.06-2.06.94zm-11 1L8.5 8.5l.94-2.06 2.06-.94-2.06-.94L8.5 2.5l-.94 2.06-2.06.94zm10 10l.94 2.06.94-2.06 2.06-.94-2.06-.94-.94-2.06-.94 2.06-2.06.94z\"/><path d=\"M17.41 7.96l-1.37-1.37c-.4-.4-.92-.59-1.43-.59-.52 0-1.04.2-1.43.59L10.3 9.45l-7.72 7.72c-.78.78-.78 2.05 0 2.83L4 21.41c.39.39.9.59 1.41.59.51 0 1.02-.2 1.41-.59l7.78-7.78 2.81-2.81c.8-.78.8-2.07 0-2.86zM5.41 20L4 18.59l7.72-7.72 1.47 1.35L5.41 20z\"/>\n",
              "  </svg>\n",
              "      </button>\n",
              "      \n",
              "  <style>\n",
              "    .colab-df-container {\n",
              "      display:flex;\n",
              "      flex-wrap:wrap;\n",
              "      gap: 12px;\n",
              "    }\n",
              "\n",
              "    .colab-df-convert {\n",
              "      background-color: #E8F0FE;\n",
              "      border: none;\n",
              "      border-radius: 50%;\n",
              "      cursor: pointer;\n",
              "      display: none;\n",
              "      fill: #1967D2;\n",
              "      height: 32px;\n",
              "      padding: 0 0 0 0;\n",
              "      width: 32px;\n",
              "    }\n",
              "\n",
              "    .colab-df-convert:hover {\n",
              "      background-color: #E2EBFA;\n",
              "      box-shadow: 0px 1px 2px rgba(60, 64, 67, 0.3), 0px 1px 3px 1px rgba(60, 64, 67, 0.15);\n",
              "      fill: #174EA6;\n",
              "    }\n",
              "\n",
              "    [theme=dark] .colab-df-convert {\n",
              "      background-color: #3B4455;\n",
              "      fill: #D2E3FC;\n",
              "    }\n",
              "\n",
              "    [theme=dark] .colab-df-convert:hover {\n",
              "      background-color: #434B5C;\n",
              "      box-shadow: 0px 1px 3px 1px rgba(0, 0, 0, 0.15);\n",
              "      filter: drop-shadow(0px 1px 2px rgba(0, 0, 0, 0.3));\n",
              "      fill: #FFFFFF;\n",
              "    }\n",
              "  </style>\n",
              "\n",
              "      <script>\n",
              "        const buttonEl =\n",
              "          document.querySelector('#df-1409bf90-d399-4ce8-827d-076c91c0549a button.colab-df-convert');\n",
              "        buttonEl.style.display =\n",
              "          google.colab.kernel.accessAllowed ? 'block' : 'none';\n",
              "\n",
              "        async function convertToInteractive(key) {\n",
              "          const element = document.querySelector('#df-1409bf90-d399-4ce8-827d-076c91c0549a');\n",
              "          const dataTable =\n",
              "            await google.colab.kernel.invokeFunction('convertToInteractive',\n",
              "                                                     [key], {});\n",
              "          if (!dataTable) return;\n",
              "\n",
              "          const docLinkHtml = 'Like what you see? Visit the ' +\n",
              "            '<a target=\"_blank\" href=https://colab.research.google.com/notebooks/data_table.ipynb>data table notebook</a>'\n",
              "            + ' to learn more about interactive tables.';\n",
              "          element.innerHTML = '';\n",
              "          dataTable['output_type'] = 'display_data';\n",
              "          await google.colab.output.renderOutput(dataTable, element);\n",
              "          const docLink = document.createElement('div');\n",
              "          docLink.innerHTML = docLinkHtml;\n",
              "          element.appendChild(docLink);\n",
              "        }\n",
              "      </script>\n",
              "    </div>\n",
              "  </div>\n",
              "  "
            ]
          },
          "metadata": {},
          "execution_count": 8
        }
      ],
      "source": [
        "# Overview\n",
        "tabu_analysis['fitness'] = tabu_analysis['fitness'].astype(int)\n",
        "tabu_analysis['tardy'] = tabu_analysis['tardy'].astype(int)\n",
        "tabu_analysis.describe()"
      ]
    },
    {
      "cell_type": "code",
      "execution_count": null,
      "metadata": {
        "colab": {
          "base_uri": "https://localhost:8080/",
          "height": 282
        },
        "id": "616rbfq4jHUC",
        "outputId": "e65d1582-5a10-4008-ab0a-ffcc9ccb68e7"
      },
      "outputs": [
        {
          "output_type": "display_data",
          "data": {
            "text/plain": [
              "<Figure size 1080x432 with 2 Axes>"
            ],
            "image/png": "[encoded data removed]"
          },
          "metadata": {
            "needs_background": "light"
          }
        }
      ],
      "source": [
        "# Plot\n",
        "fig, (ax0, ax1) = plt.subplots(nrows=1, ncols=2, figsize=(15, 6))\n",
        "ax0.plot(tabu_analysis['fitness'])\n",
        "ax0.set_title('Fitness value')\n",
        "ax1.plot(tabu_analysis['tardy'])\n",
        "ax1.set_title('Number of tardy jobs')\n",
        "plt.show()"
      ]
    },
    {
      "cell_type": "markdown",
      "metadata": {
        "id": "_RyornWuvdP6"
      },
      "source": [
        "From the plot of the fitness value above, we find the value is fixed at 1928, this is because we select the move with the lowest objective value in the neighborhood. Therefore, we just simply set the tabu size at 3 and find the lowest number of tardy jobs."
      ]
    },
    {
      "cell_type": "code",
      "execution_count": null,
      "metadata": {
        "colab": {
          "base_uri": "https://localhost:8080/"
        },
        "id": "IZqxhfiJjHUC",
        "outputId": "c7851250-acc7-4040-f99f-b5961f10e728"
      },
      "outputs": [
        {
          "output_type": "execute_result",
          "data": {
            "text/plain": [
              "seeds         200\n",
              "tabu size       3\n",
              "fitness      1928\n",
              "tardy          13\n",
              "Name: 17, dtype: object"
            ]
          },
          "metadata": {},
          "execution_count": 10
        }
      ],
      "source": [
        "# Minimum number of tardy jobs\n",
        "minvalueID_tardy = tabu_analysis['tardy'].idxmin()\n",
        "tabu_analysis.iloc[minvalueID_tardy, :]"
      ]
    },
    {
      "cell_type": "markdown",
      "source": [
        "#### **Final result**"
      ],
      "metadata": {
        "id": "oR4kc-hru1X4"
      }
    },
    {
      "cell_type": "code",
      "execution_count": null,
      "metadata": {
        "colab": {
          "base_uri": "https://localhost:8080/"
        },
        "id": "GGMVGn2rwWRS",
        "outputId": "f02dc44f-b269-44db-8b7b-3dfd6547a8a0"
      },
      "outputs": [
        {
          "output_type": "stream",
          "name": "stdout",
          "text": [
            "Optimal solution: [12, 17, 4, 16, 5, 9, 8, 1, 14, 10, 7, 13, 20, 11, 2, 18, 6, 15, 3, 19]\n",
            "Optimal function value: 1928\n",
            "Number of tardy jobs: 13\n",
            "Running time: 2.490741491317749\n"
          ]
        }
      ],
      "source": [
        "tabu_result = TS(seed = 2200, tabu_tenure=3, terminate = 1000)\n",
        "print(tabu_result.Result())"
      ]
    },
    {
      "cell_type": "markdown",
      "metadata": {
        "id": "U1dp7CYHSdT9"
      },
      "source": [
        "###**(c) (15%) Develop Genetic Algorithm (GA) to solve the problem. Show your design and the “result”.**\n",
        "\n",
        "\n"
      ]
    },
    {
      "cell_type": "code",
      "execution_count": null,
      "metadata": {
        "id": "b8oqDFwQbHSU"
      },
      "outputs": [],
      "source": [
        "import copy"
      ]
    },
    {
      "cell_type": "code",
      "execution_count": null,
      "metadata": {
        "id": "d5JvYa5imbb4"
      },
      "outputs": [],
      "source": [
        "# Input data\n",
        "input_data_list = pd.DataFrame(input_data).values.tolist()\n",
        "num_job = len(input_data)\n",
        "p = input_data_list[0]\n",
        "d = input_data_list[1]\n",
        "w = input_data_list[2]"
      ]
    },
    {
      "cell_type": "code",
      "execution_count": null,
      "metadata": {
        "id": "oaLamh8lrRlg"
      },
      "outputs": [],
      "source": [
        "# Parameters\n",
        "population_size = 30\n",
        "mutation_selection_rate = 0.5\n",
        "num_mutation_jobs = round(num_job*mutation_selection_rate)\n",
        "# num_iteration = 1000"
      ]
    },
    {
      "cell_type": "code",
      "execution_count": null,
      "metadata": {
        "id": "d0X7Pc9FNhbm"
      },
      "outputs": [],
      "source": [
        "class GA():\n",
        "    def __init__(self, crossover_rate, mutation_rate, num_iteration):\n",
        "        self.start_time_ga = time.time()\n",
        "        self.crossover_rate = crossover_rate\n",
        "        self.mutation_rate = mutation_rate \n",
        "        self.num_iteration = num_iteration  \n",
        "        self.Tbest, self.population_list = self.InitialPopulation()\n",
        "        self.best_sequence, self.best_value, self.num_tardy = self.CrossoverMutation()\n",
        "        self.end_time_ga = time.time()\n",
        "\n",
        "    def InitialPopulation(self):\n",
        "        Tbest=99999999999\n",
        "        best_list, best_obj = [], []\n",
        "        population_list = []\n",
        "        for i in range(population_size):\n",
        "            random_num = list(np.random.permutation(num_job))   # generate a random permutation of 0 to num_job-1\n",
        "            population_list.append(random_num)   # add to the population_list\n",
        "        return Tbest, population_list\n",
        "\n",
        "    def CrossoverMutation(self):\n",
        "        for n in range(self.num_iteration):\n",
        "            Tbest_now = 9999999\n",
        "\n",
        "            # Crossover\n",
        "            parent_list = copy.deepcopy(self.population_list)\n",
        "            offspring_list = copy.deepcopy(self.population_list)\n",
        "            S = list(np.random.permutation(population_size))   # generate a random sequence to select the parent chromosome to crossover\n",
        "    \n",
        "            for m in range(int(population_size/2)):\n",
        "                crossover_prob = np.random.rand()\n",
        "                if self.crossover_rate >= crossover_prob:\n",
        "                    parent_1 = self.population_list[S[2*m]][:]\n",
        "                    parent_2 = self.population_list[S[2*m+1]][:]\n",
        "                    child_1 = ['na' for i in range(num_job)]\n",
        "                    child_2 = ['na' for i in range(num_job)]\n",
        "                    fix_num = round(num_job/2)\n",
        "                    g_fix = list(np.random.choice(num_job, fix_num, replace=False))\n",
        "            \n",
        "                    for g in range(fix_num):\n",
        "                        child_1[g_fix[g]] = parent_2[g_fix[g]]\n",
        "                        child_2[g_fix[g]] = parent_1[g_fix[g]]\n",
        "                    c1 = [parent_1[i] for i in range(num_job) if parent_1[i] not in child_1]\n",
        "                    c2 = [parent_2[i] for i in range(num_job) if parent_2[i] not in child_2]\n",
        "            \n",
        "                    for i in range(num_job-fix_num):\n",
        "                        child_1[child_1.index('na')] = c1[i]\n",
        "                        child_2[child_2.index('na')] = c2[i]\n",
        "                    offspring_list[S[2*m]] = child_1[:]\n",
        "                    offspring_list[S[2*m+1]] = child_2[:]\n",
        "\n",
        "            # Mutation\n",
        "            for m in range(len(offspring_list)):\n",
        "                mutation_prob=np.random.rand()\n",
        "                if self.mutation_rate >= mutation_prob:\n",
        "                    m_chg = list(np.random.choice(num_job, num_mutation_jobs, replace=False))   # chooses the position to mutation\n",
        "                    t_value_last = offspring_list[m][m_chg[0]]   # save the value which is on the first mutation position\n",
        "                    for i in range(num_mutation_jobs-1):\n",
        "                        offspring_list[m][m_chg[i]] = offspring_list[m][m_chg[i+1]]   # displacement\n",
        "                    offspring_list[m][m_chg[num_mutation_jobs-1]] = t_value_last   # move the value of the first mutation position to the last mutation position\n",
        "    \n",
        "            # Fitness value (calculate tardiness)\n",
        "            total_chromosome = copy.deepcopy(parent_list) + copy.deepcopy(offspring_list) # parent and offspring chromosomes combination\n",
        "            chrom_fitness, chrom_fit = [], []\n",
        "            total_fitness = 0\n",
        "            for i in range(population_size*2):\n",
        "                ptime = 0\n",
        "                tardiness = 0\n",
        "                for j in range(num_job):\n",
        "                    ptime = ptime + p[total_chromosome[i][j]]\n",
        "                    tardiness = tardiness + w[total_chromosome[i][j]]*max(ptime-d[total_chromosome[i][j]],0)\n",
        "                chrom_fitness.append(1/tardiness)\n",
        "                chrom_fit.append(tardiness)\n",
        "                total_fitness = total_fitness + chrom_fitness[i]\n",
        "    \n",
        "            # Selection\n",
        "            pk, qk = [], []\n",
        "\n",
        "            for i in range(population_size*2):\n",
        "                pk.append(chrom_fitness[i]/total_fitness)\n",
        "            for i in range(population_size*2):\n",
        "                cumulative = 0\n",
        "                for j in range(0,i+1):\n",
        "                    cumulative = cumulative+pk[j]\n",
        "                qk.append(cumulative)\n",
        "    \n",
        "            selection_rand = [np.random.rand() for i in range(population_size)]\n",
        "    \n",
        "            for i in range(population_size):\n",
        "                if selection_rand[i] <= qk[0]:\n",
        "                    self.population_list[i] = copy.deepcopy(total_chromosome[0])\n",
        "                else:\n",
        "                    for j in range(0,population_size*2-1):\n",
        "                        if selection_rand[i] > qk[j] and selection_rand[i] <= qk[j+1]:\n",
        "                            self.population_list[i] = copy.deepcopy(total_chromosome[j+1])\n",
        "                            break\n",
        "            # Comparison\n",
        "            for i in range(population_size*2):\n",
        "                if chrom_fit[i] < Tbest_now:\n",
        "                    Tbest_now = chrom_fit[i]\n",
        "                    sequence_now = copy.deepcopy(total_chromosome[i])\n",
        "    \n",
        "            if Tbest_now <= self.Tbest:\n",
        "                self.Tbest = Tbest_now\n",
        "                sequence_best = copy.deepcopy(sequence_now)\n",
        "    \n",
        "            job_sequence_ptime = 0\n",
        "            num_tardy = 0\n",
        "            for k in range(num_job):\n",
        "                job_sequence_ptime = job_sequence_ptime + p[sequence_best[k]]\n",
        "                if job_sequence_ptime > d[sequence_best[k]]:\n",
        "                    num_tardy += 1\n",
        "\n",
        "        return sequence_best, self.Tbest, num_tardy\n",
        "\n",
        "    def Result(self):\n",
        "        return \"Optimal solution: {}\\nOptimal function value: {}\\nNumber of tardy jobs: {}\\nRunning time: {}\".format(self.best_sequence, self.best_value, self.num_tardy, self.end_time_ga - self.start_time_ga)"
      ]
    },
    {
      "cell_type": "markdown",
      "metadata": {
        "id": "hq-cgrNr3IeA"
      },
      "source": [
        "#### **Sensitivity Analysis**\n",
        "\n",
        "crossover rate & mutation rate"
      ]
    },
    {
      "cell_type": "code",
      "execution_count": null,
      "metadata": {
        "id": "HNd1jCqOdgJg"
      },
      "outputs": [],
      "source": [
        "ga_result = \"\""
      ]
    },
    {
      "cell_type": "code",
      "execution_count": null,
      "metadata": {
        "colab": {
          "base_uri": "https://localhost:8080/",
          "height": 423
        },
        "id": "DwsFVLwSwi_r",
        "outputId": "7ec5172c-2442-4314-b3be-ddbbefd6fd8c"
      },
      "outputs": [
        {
          "output_type": "execute_result",
          "data": {
            "text/plain": [
              "     crossover_rate  mutation_rate fitness tardy\n",
              "0               0.0            0.0    4960    12\n",
              "1               0.0            0.1    2832    16\n",
              "2               0.0            0.2    2612    16\n",
              "3               0.0            0.3    2546    18\n",
              "4               0.0            0.4    2517    16\n",
              "..              ...            ...     ...   ...\n",
              "116             1.0            0.6    2407    14\n",
              "117             1.0            0.7    2604    16\n",
              "118             1.0            0.8    2715    15\n",
              "119             1.0            0.9    2536    13\n",
              "120             1.0            1.0    2606    14\n",
              "\n",
              "[121 rows x 4 columns]"
            ],
            "text/html": [
              "\n",
              "  <div id=\"df-0dc83511-e7dd-4243-997a-3e01763610c2\">\n",
              "    <div class=\"colab-df-container\">\n",
              "      <div>\n",
              "<style scoped>\n",
              "    .dataframe tbody tr th:only-of-type {\n",
              "        vertical-align: middle;\n",
              "    }\n",
              "\n",
              "    .dataframe tbody tr th {\n",
              "        vertical-align: top;\n",
              "    }\n",
              "\n",
              "    .dataframe thead th {\n",
              "        text-align: right;\n",
              "    }\n",
              "</style>\n",
              "<table border=\"1\" class=\"dataframe\">\n",
              "  <thead>\n",
              "    <tr style=\"text-align: right;\">\n",
              "      <th></th>\n",
              "      <th>crossover_rate</th>\n",
              "      <th>mutation_rate</th>\n",
              "      <th>fitness</th>\n",
              "      <th>tardy</th>\n",
              "    </tr>\n",
              "  </thead>\n",
              "  <tbody>\n",
              "    <tr>\n",
              "      <th>0</th>\n",
              "      <td>0.0</td>\n",
              "      <td>0.0</td>\n",
              "      <td>4960</td>\n",
              "      <td>12</td>\n",
              "    </tr>\n",
              "    <tr>\n",
              "      <th>1</th>\n",
              "      <td>0.0</td>\n",
              "      <td>0.1</td>\n",
              "      <td>2832</td>\n",
              "      <td>16</td>\n",
              "    </tr>\n",
              "    <tr>\n",
              "      <th>2</th>\n",
              "      <td>0.0</td>\n",
              "      <td>0.2</td>\n",
              "      <td>2612</td>\n",
              "      <td>16</td>\n",
              "    </tr>\n",
              "    <tr>\n",
              "      <th>3</th>\n",
              "      <td>0.0</td>\n",
              "      <td>0.3</td>\n",
              "      <td>2546</td>\n",
              "      <td>18</td>\n",
              "    </tr>\n",
              "    <tr>\n",
              "      <th>4</th>\n",
              "      <td>0.0</td>\n",
              "      <td>0.4</td>\n",
              "      <td>2517</td>\n",
              "      <td>16</td>\n",
              "    </tr>\n",
              "    <tr>\n",
              "      <th>...</th>\n",
              "      <td>...</td>\n",
              "      <td>...</td>\n",
              "      <td>...</td>\n",
              "      <td>...</td>\n",
              "    </tr>\n",
              "    <tr>\n",
              "      <th>116</th>\n",
              "      <td>1.0</td>\n",
              "      <td>0.6</td>\n",
              "      <td>2407</td>\n",
              "      <td>14</td>\n",
              "    </tr>\n",
              "    <tr>\n",
              "      <th>117</th>\n",
              "      <td>1.0</td>\n",
              "      <td>0.7</td>\n",
              "      <td>2604</td>\n",
              "      <td>16</td>\n",
              "    </tr>\n",
              "    <tr>\n",
              "      <th>118</th>\n",
              "      <td>1.0</td>\n",
              "      <td>0.8</td>\n",
              "      <td>2715</td>\n",
              "      <td>15</td>\n",
              "    </tr>\n",
              "    <tr>\n",
              "      <th>119</th>\n",
              "      <td>1.0</td>\n",
              "      <td>0.9</td>\n",
              "      <td>2536</td>\n",
              "      <td>13</td>\n",
              "    </tr>\n",
              "    <tr>\n",
              "      <th>120</th>\n",
              "      <td>1.0</td>\n",
              "      <td>1.0</td>\n",
              "      <td>2606</td>\n",
              "      <td>14</td>\n",
              "    </tr>\n",
              "  </tbody>\n",
              "</table>\n",
              "<p>121 rows × 4 columns</p>\n",
              "</div>\n",
              "      <button class=\"colab-df-convert\" onclick=\"convertToInteractive('df-0dc83511-e7dd-4243-997a-3e01763610c2')\"\n",
              "              title=\"Convert this dataframe to an interactive table.\"\n",
              "              style=\"display:none;\">\n",
              "        \n",
              "  <svg xmlns=\"http://www.w3.org/2000/svg\" height=\"24px\"viewBox=\"0 0 24 24\"\n",
              "       width=\"24px\">\n",
              "    <path d=\"M0 0h24v24H0V0z\" fill=\"none\"/>\n",
              "    <path d=\"M18.56 5.44l.94 2.06.94-2.06 2.06-.94-2.06-.94-.94-2.06-.94 2.06-2.06.94zm-11 1L8.5 8.5l.94-2.06 2.06-.94-2.06-.94L8.5 2.5l-.94 2.06-2.06.94zm10 10l.94 2.06.94-2.06 2.06-.94-2.06-.94-.94-2.06-.94 2.06-2.06.94z\"/><path d=\"M17.41 7.96l-1.37-1.37c-.4-.4-.92-.59-1.43-.59-.52 0-1.04.2-1.43.59L10.3 9.45l-7.72 7.72c-.78.78-.78 2.05 0 2.83L4 21.41c.39.39.9.59 1.41.59.51 0 1.02-.2 1.41-.59l7.78-7.78 2.81-2.81c.8-.78.8-2.07 0-2.86zM5.41 20L4 18.59l7.72-7.72 1.47 1.35L5.41 20z\"/>\n",
              "  </svg>\n",
              "      </button>\n",
              "      \n",
              "  <style>\n",
              "    .colab-df-container {\n",
              "      display:flex;\n",
              "      flex-wrap:wrap;\n",
              "      gap: 12px;\n",
              "    }\n",
              "\n",
              "    .colab-df-convert {\n",
              "      background-color: #E8F0FE;\n",
              "      border: none;\n",
              "      border-radius: 50%;\n",
              "      cursor: pointer;\n",
              "      display: none;\n",
              "      fill: #1967D2;\n",
              "      height: 32px;\n",
              "      padding: 0 0 0 0;\n",
              "      width: 32px;\n",
              "    }\n",
              "\n",
              "    .colab-df-convert:hover {\n",
              "      background-color: #E2EBFA;\n",
              "      box-shadow: 0px 1px 2px rgba(60, 64, 67, 0.3), 0px 1px 3px 1px rgba(60, 64, 67, 0.15);\n",
              "      fill: #174EA6;\n",
              "    }\n",
              "\n",
              "    [theme=dark] .colab-df-convert {\n",
              "      background-color: #3B4455;\n",
              "      fill: #D2E3FC;\n",
              "    }\n",
              "\n",
              "    [theme=dark] .colab-df-convert:hover {\n",
              "      background-color: #434B5C;\n",
              "      box-shadow: 0px 1px 3px 1px rgba(0, 0, 0, 0.15);\n",
              "      filter: drop-shadow(0px 1px 2px rgba(0, 0, 0, 0.3));\n",
              "      fill: #FFFFFF;\n",
              "    }\n",
              "  </style>\n",
              "\n",
              "      <script>\n",
              "        const buttonEl =\n",
              "          document.querySelector('#df-0dc83511-e7dd-4243-997a-3e01763610c2 button.colab-df-convert');\n",
              "        buttonEl.style.display =\n",
              "          google.colab.kernel.accessAllowed ? 'block' : 'none';\n",
              "\n",
              "        async function convertToInteractive(key) {\n",
              "          const element = document.querySelector('#df-0dc83511-e7dd-4243-997a-3e01763610c2');\n",
              "          const dataTable =\n",
              "            await google.colab.kernel.invokeFunction('convertToInteractive',\n",
              "                                                     [key], {});\n",
              "          if (!dataTable) return;\n",
              "\n",
              "          const docLinkHtml = 'Like what you see? Visit the ' +\n",
              "            '<a target=\"_blank\" href=https://colab.research.google.com/notebooks/data_table.ipynb>data table notebook</a>'\n",
              "            + ' to learn more about interactive tables.';\n",
              "          element.innerHTML = '';\n",
              "          dataTable['output_type'] = 'display_data';\n",
              "          await google.colab.output.renderOutput(dataTable, element);\n",
              "          const docLink = document.createElement('div');\n",
              "          docLink.innerHTML = docLinkHtml;\n",
              "          element.appendChild(docLink);\n",
              "        }\n",
              "      </script>\n",
              "    </div>\n",
              "  </div>\n",
              "  "
            ]
          },
          "metadata": {},
          "execution_count": 10
        }
      ],
      "source": [
        "ga_analysis = pd.DataFrame(columns=['crossover_rate','mutation_rate','fitness','tardy'])\n",
        "min_fitness_ga = 9999\n",
        "for i in np.arange(0, 1.1, 0.1):\n",
        "    for j in np.arange(0, 1.1, 0.1):\n",
        "        ga = GA(crossover_rate = i, mutation_rate = j, num_iteration = 1000)\n",
        "        item = {'crossover_rate': i,\n",
        "                'mutation_rate': j,\n",
        "                'fitness': ga.best_value,\n",
        "                'tardy': ga.num_tardy,\n",
        "        }\n",
        "        item_df = pd.DataFrame(item, index=[0])\n",
        "        ga_analysis = ga_analysis.append(item_df)\n",
        "        if ga.best_value < min_fitness_ga:\n",
        "          min_fitness_ga = ga.best_value\n",
        "          ga_result = ga.Result()     \n",
        "\n",
        "ga_analysis = ga_analysis.reset_index(drop=True)\n",
        "ga_analysis"
      ]
    },
    {
      "cell_type": "code",
      "execution_count": null,
      "metadata": {
        "colab": {
          "base_uri": "https://localhost:8080/",
          "height": 300
        },
        "id": "MJmQo05Au5uQ",
        "outputId": "26a35b10-2b4a-4508-d436-6152edaf2344"
      },
      "outputs": [
        {
          "output_type": "execute_result",
          "data": {
            "text/plain": [
              "       crossover_rate  mutation_rate      fitness       tardy\n",
              "count      121.000000     121.000000   121.000000  121.000000\n",
              "mean         0.500000       0.500000  2479.305785   14.727273\n",
              "std          0.317543       0.317543   397.071548    1.329160\n",
              "min          0.000000       0.000000  1985.000000   12.000000\n",
              "25%          0.200000       0.200000  2220.000000   14.000000\n",
              "50%          0.500000       0.500000  2494.000000   15.000000\n",
              "75%          0.800000       0.800000  2616.000000   16.000000\n",
              "max          1.000000       1.000000  4960.000000   18.000000"
            ],
            "text/html": [
              "\n",
              "  <div id=\"df-ebb19879-4fe4-40a8-a791-2a84b525c671\">\n",
              "    <div class=\"colab-df-container\">\n",
              "      <div>\n",
              "<style scoped>\n",
              "    .dataframe tbody tr th:only-of-type {\n",
              "        vertical-align: middle;\n",
              "    }\n",
              "\n",
              "    .dataframe tbody tr th {\n",
              "        vertical-align: top;\n",
              "    }\n",
              "\n",
              "    .dataframe thead th {\n",
              "        text-align: right;\n",
              "    }\n",
              "</style>\n",
              "<table border=\"1\" class=\"dataframe\">\n",
              "  <thead>\n",
              "    <tr style=\"text-align: right;\">\n",
              "      <th></th>\n",
              "      <th>crossover_rate</th>\n",
              "      <th>mutation_rate</th>\n",
              "      <th>fitness</th>\n",
              "      <th>tardy</th>\n",
              "    </tr>\n",
              "  </thead>\n",
              "  <tbody>\n",
              "    <tr>\n",
              "      <th>count</th>\n",
              "      <td>121.000000</td>\n",
              "      <td>121.000000</td>\n",
              "      <td>121.000000</td>\n",
              "      <td>121.000000</td>\n",
              "    </tr>\n",
              "    <tr>\n",
              "      <th>mean</th>\n",
              "      <td>0.500000</td>\n",
              "      <td>0.500000</td>\n",
              "      <td>2479.305785</td>\n",
              "      <td>14.727273</td>\n",
              "    </tr>\n",
              "    <tr>\n",
              "      <th>std</th>\n",
              "      <td>0.317543</td>\n",
              "      <td>0.317543</td>\n",
              "      <td>397.071548</td>\n",
              "      <td>1.329160</td>\n",
              "    </tr>\n",
              "    <tr>\n",
              "      <th>min</th>\n",
              "      <td>0.000000</td>\n",
              "      <td>0.000000</td>\n",
              "      <td>1985.000000</td>\n",
              "      <td>12.000000</td>\n",
              "    </tr>\n",
              "    <tr>\n",
              "      <th>25%</th>\n",
              "      <td>0.200000</td>\n",
              "      <td>0.200000</td>\n",
              "      <td>2220.000000</td>\n",
              "      <td>14.000000</td>\n",
              "    </tr>\n",
              "    <tr>\n",
              "      <th>50%</th>\n",
              "      <td>0.500000</td>\n",
              "      <td>0.500000</td>\n",
              "      <td>2494.000000</td>\n",
              "      <td>15.000000</td>\n",
              "    </tr>\n",
              "    <tr>\n",
              "      <th>75%</th>\n",
              "      <td>0.800000</td>\n",
              "      <td>0.800000</td>\n",
              "      <td>2616.000000</td>\n",
              "      <td>16.000000</td>\n",
              "    </tr>\n",
              "    <tr>\n",
              "      <th>max</th>\n",
              "      <td>1.000000</td>\n",
              "      <td>1.000000</td>\n",
              "      <td>4960.000000</td>\n",
              "      <td>18.000000</td>\n",
              "    </tr>\n",
              "  </tbody>\n",
              "</table>\n",
              "</div>\n",
              "      <button class=\"colab-df-convert\" onclick=\"convertToInteractive('df-ebb19879-4fe4-40a8-a791-2a84b525c671')\"\n",
              "              title=\"Convert this dataframe to an interactive table.\"\n",
              "              style=\"display:none;\">\n",
              "        \n",
              "  <svg xmlns=\"http://www.w3.org/2000/svg\" height=\"24px\"viewBox=\"0 0 24 24\"\n",
              "       width=\"24px\">\n",
              "    <path d=\"M0 0h24v24H0V0z\" fill=\"none\"/>\n",
              "    <path d=\"M18.56 5.44l.94 2.06.94-2.06 2.06-.94-2.06-.94-.94-2.06-.94 2.06-2.06.94zm-11 1L8.5 8.5l.94-2.06 2.06-.94-2.06-.94L8.5 2.5l-.94 2.06-2.06.94zm10 10l.94 2.06.94-2.06 2.06-.94-2.06-.94-.94-2.06-.94 2.06-2.06.94z\"/><path d=\"M17.41 7.96l-1.37-1.37c-.4-.4-.92-.59-1.43-.59-.52 0-1.04.2-1.43.59L10.3 9.45l-7.72 7.72c-.78.78-.78 2.05 0 2.83L4 21.41c.39.39.9.59 1.41.59.51 0 1.02-.2 1.41-.59l7.78-7.78 2.81-2.81c.8-.78.8-2.07 0-2.86zM5.41 20L4 18.59l7.72-7.72 1.47 1.35L5.41 20z\"/>\n",
              "  </svg>\n",
              "      </button>\n",
              "      \n",
              "  <style>\n",
              "    .colab-df-container {\n",
              "      display:flex;\n",
              "      flex-wrap:wrap;\n",
              "      gap: 12px;\n",
              "    }\n",
              "\n",
              "    .colab-df-convert {\n",
              "      background-color: #E8F0FE;\n",
              "      border: none;\n",
              "      border-radius: 50%;\n",
              "      cursor: pointer;\n",
              "      display: none;\n",
              "      fill: #1967D2;\n",
              "      height: 32px;\n",
              "      padding: 0 0 0 0;\n",
              "      width: 32px;\n",
              "    }\n",
              "\n",
              "    .colab-df-convert:hover {\n",
              "      background-color: #E2EBFA;\n",
              "      box-shadow: 0px 1px 2px rgba(60, 64, 67, 0.3), 0px 1px 3px 1px rgba(60, 64, 67, 0.15);\n",
              "      fill: #174EA6;\n",
              "    }\n",
              "\n",
              "    [theme=dark] .colab-df-convert {\n",
              "      background-color: #3B4455;\n",
              "      fill: #D2E3FC;\n",
              "    }\n",
              "\n",
              "    [theme=dark] .colab-df-convert:hover {\n",
              "      background-color: #434B5C;\n",
              "      box-shadow: 0px 1px 3px 1px rgba(0, 0, 0, 0.15);\n",
              "      filter: drop-shadow(0px 1px 2px rgba(0, 0, 0, 0.3));\n",
              "      fill: #FFFFFF;\n",
              "    }\n",
              "  </style>\n",
              "\n",
              "      <script>\n",
              "        const buttonEl =\n",
              "          document.querySelector('#df-ebb19879-4fe4-40a8-a791-2a84b525c671 button.colab-df-convert');\n",
              "        buttonEl.style.display =\n",
              "          google.colab.kernel.accessAllowed ? 'block' : 'none';\n",
              "\n",
              "        async function convertToInteractive(key) {\n",
              "          const element = document.querySelector('#df-ebb19879-4fe4-40a8-a791-2a84b525c671');\n",
              "          const dataTable =\n",
              "            await google.colab.kernel.invokeFunction('convertToInteractive',\n",
              "                                                     [key], {});\n",
              "          if (!dataTable) return;\n",
              "\n",
              "          const docLinkHtml = 'Like what you see? Visit the ' +\n",
              "            '<a target=\"_blank\" href=https://colab.research.google.com/notebooks/data_table.ipynb>data table notebook</a>'\n",
              "            + ' to learn more about interactive tables.';\n",
              "          element.innerHTML = '';\n",
              "          dataTable['output_type'] = 'display_data';\n",
              "          await google.colab.output.renderOutput(dataTable, element);\n",
              "          const docLink = document.createElement('div');\n",
              "          docLink.innerHTML = docLinkHtml;\n",
              "          element.appendChild(docLink);\n",
              "        }\n",
              "      </script>\n",
              "    </div>\n",
              "  </div>\n",
              "  "
            ]
          },
          "metadata": {},
          "execution_count": 11
        }
      ],
      "source": [
        "# Overview\n",
        "ga_analysis['fitness'] = ga_analysis['fitness'].astype(int)\n",
        "ga_analysis['tardy'] = ga_analysis['tardy'].astype(int)\n",
        "ga_analysis.describe()"
      ]
    },
    {
      "cell_type": "code",
      "execution_count": null,
      "metadata": {
        "colab": {
          "base_uri": "https://localhost:8080/",
          "height": 361
        },
        "id": "4U0JLfy4xaYP",
        "outputId": "8b5bac0e-4f9f-4042-a58f-d7be080c1c01"
      },
      "outputs": [
        {
          "output_type": "display_data",
          "data": {
            "text/plain": [
              "<Figure size 1080x432 with 2 Axes>"
            ],
            "image/png": "[encoded data removed]"
          },
          "metadata": {
            "needs_background": "light"
          }
        }
      ],
      "source": [
        "# Plot\n",
        "fig, (ax0, ax1) = plt.subplots(nrows=1, ncols=2, figsize=(15, 6))\n",
        "ax0.plot(ga_analysis['fitness'])\n",
        "ax0.set_title('Fitness value')\n",
        "ax1.plot(ga_analysis['tardy'])\n",
        "ax1.set_title('Number of tardy jobs')\n",
        "plt.show()"
      ]
    },
    {
      "cell_type": "code",
      "execution_count": null,
      "metadata": {
        "colab": {
          "base_uri": "https://localhost:8080/"
        },
        "id": "qxJGyQSFzzF9",
        "outputId": "5e38e335-4a03-40d0-c6fb-678769d0788b"
      },
      "outputs": [
        {
          "output_type": "execute_result",
          "data": {
            "text/plain": [
              "crossover_rate       0.6\n",
              "mutation_rate        0.1\n",
              "fitness           1985.0\n",
              "tardy               16.0\n",
              "Name: 67, dtype: float64"
            ]
          },
          "metadata": {},
          "execution_count": 13
        }
      ],
      "source": [
        "# Minimum fitness value\n",
        "minvalueID_fitness = ga_analysis['fitness'].idxmin()\n",
        "ga_analysis.iloc[minvalueID_fitness, :]"
      ]
    },
    {
      "cell_type": "code",
      "execution_count": null,
      "metadata": {
        "colab": {
          "base_uri": "https://localhost:8080/"
        },
        "id": "Cz3t6NU30aij",
        "outputId": "a547a78f-021d-46d6-84d0-326bd93e0dfe"
      },
      "outputs": [
        {
          "output_type": "execute_result",
          "data": {
            "text/plain": [
              "crossover_rate       0.0\n",
              "mutation_rate        0.0\n",
              "fitness           4960.0\n",
              "tardy               12.0\n",
              "Name: 0, dtype: float64"
            ]
          },
          "metadata": {},
          "execution_count": 14
        }
      ],
      "source": [
        "# Minimum number of tardy jobs\n",
        "minvalueID_tardy = ga_analysis['tardy'].idxmin()\n",
        "ga_analysis.iloc[minvalueID_tardy, :]"
      ]
    },
    {
      "cell_type": "code",
      "execution_count": null,
      "metadata": {
        "colab": {
          "base_uri": "https://localhost:8080/",
          "height": 363
        },
        "id": "gKY6Qvtr1GWr",
        "outputId": "ee5fc8f6-2bb9-4186-d800-f90b7bf0b67e"
      },
      "outputs": [
        {
          "output_type": "execute_result",
          "data": {
            "text/plain": [
              "     crossover_rate  mutation_rate  fitness  tardy\n",
              "67              0.6            0.1     1985     16\n",
              "47              0.4            0.3     1999     17\n",
              "56              0.5            0.1     2011     13\n",
              "68              0.6            0.2     2012     16\n",
              "111             1.0            0.1     2014     15\n",
              "89              0.8            0.1     2018     16\n",
              "69              0.6            0.3     2026     16\n",
              "79              0.7            0.2     2029     16\n",
              "57              0.5            0.2     2038     15\n",
              "90              0.8            0.2     2038     16"
            ],
            "text/html": [
              "\n",
              "  <div id=\"df-92ab4114-8edc-4624-9191-5916301e2baf\">\n",
              "    <div class=\"colab-df-container\">\n",
              "      <div>\n",
              "<style scoped>\n",
              "    .dataframe tbody tr th:only-of-type {\n",
              "        vertical-align: middle;\n",
              "    }\n",
              "\n",
              "    .dataframe tbody tr th {\n",
              "        vertical-align: top;\n",
              "    }\n",
              "\n",
              "    .dataframe thead th {\n",
              "        text-align: right;\n",
              "    }\n",
              "</style>\n",
              "<table border=\"1\" class=\"dataframe\">\n",
              "  <thead>\n",
              "    <tr style=\"text-align: right;\">\n",
              "      <th></th>\n",
              "      <th>crossover_rate</th>\n",
              "      <th>mutation_rate</th>\n",
              "      <th>fitness</th>\n",
              "      <th>tardy</th>\n",
              "    </tr>\n",
              "  </thead>\n",
              "  <tbody>\n",
              "    <tr>\n",
              "      <th>67</th>\n",
              "      <td>0.6</td>\n",
              "      <td>0.1</td>\n",
              "      <td>1985</td>\n",
              "      <td>16</td>\n",
              "    </tr>\n",
              "    <tr>\n",
              "      <th>47</th>\n",
              "      <td>0.4</td>\n",
              "      <td>0.3</td>\n",
              "      <td>1999</td>\n",
              "      <td>17</td>\n",
              "    </tr>\n",
              "    <tr>\n",
              "      <th>56</th>\n",
              "      <td>0.5</td>\n",
              "      <td>0.1</td>\n",
              "      <td>2011</td>\n",
              "      <td>13</td>\n",
              "    </tr>\n",
              "    <tr>\n",
              "      <th>68</th>\n",
              "      <td>0.6</td>\n",
              "      <td>0.2</td>\n",
              "      <td>2012</td>\n",
              "      <td>16</td>\n",
              "    </tr>\n",
              "    <tr>\n",
              "      <th>111</th>\n",
              "      <td>1.0</td>\n",
              "      <td>0.1</td>\n",
              "      <td>2014</td>\n",
              "      <td>15</td>\n",
              "    </tr>\n",
              "    <tr>\n",
              "      <th>89</th>\n",
              "      <td>0.8</td>\n",
              "      <td>0.1</td>\n",
              "      <td>2018</td>\n",
              "      <td>16</td>\n",
              "    </tr>\n",
              "    <tr>\n",
              "      <th>69</th>\n",
              "      <td>0.6</td>\n",
              "      <td>0.3</td>\n",
              "      <td>2026</td>\n",
              "      <td>16</td>\n",
              "    </tr>\n",
              "    <tr>\n",
              "      <th>79</th>\n",
              "      <td>0.7</td>\n",
              "      <td>0.2</td>\n",
              "      <td>2029</td>\n",
              "      <td>16</td>\n",
              "    </tr>\n",
              "    <tr>\n",
              "      <th>57</th>\n",
              "      <td>0.5</td>\n",
              "      <td>0.2</td>\n",
              "      <td>2038</td>\n",
              "      <td>15</td>\n",
              "    </tr>\n",
              "    <tr>\n",
              "      <th>90</th>\n",
              "      <td>0.8</td>\n",
              "      <td>0.2</td>\n",
              "      <td>2038</td>\n",
              "      <td>16</td>\n",
              "    </tr>\n",
              "  </tbody>\n",
              "</table>\n",
              "</div>\n",
              "      <button class=\"colab-df-convert\" onclick=\"convertToInteractive('df-92ab4114-8edc-4624-9191-5916301e2baf')\"\n",
              "              title=\"Convert this dataframe to an interactive table.\"\n",
              "              style=\"display:none;\">\n",
              "        \n",
              "  <svg xmlns=\"http://www.w3.org/2000/svg\" height=\"24px\"viewBox=\"0 0 24 24\"\n",
              "       width=\"24px\">\n",
              "    <path d=\"M0 0h24v24H0V0z\" fill=\"none\"/>\n",
              "    <path d=\"M18.56 5.44l.94 2.06.94-2.06 2.06-.94-2.06-.94-.94-2.06-.94 2.06-2.06.94zm-11 1L8.5 8.5l.94-2.06 2.06-.94-2.06-.94L8.5 2.5l-.94 2.06-2.06.94zm10 10l.94 2.06.94-2.06 2.06-.94-2.06-.94-.94-2.06-.94 2.06-2.06.94z\"/><path d=\"M17.41 7.96l-1.37-1.37c-.4-.4-.92-.59-1.43-.59-.52 0-1.04.2-1.43.59L10.3 9.45l-7.72 7.72c-.78.78-.78 2.05 0 2.83L4 21.41c.39.39.9.59 1.41.59.51 0 1.02-.2 1.41-.59l7.78-7.78 2.81-2.81c.8-.78.8-2.07 0-2.86zM5.41 20L4 18.59l7.72-7.72 1.47 1.35L5.41 20z\"/>\n",
              "  </svg>\n",
              "      </button>\n",
              "      \n",
              "  <style>\n",
              "    .colab-df-container {\n",
              "      display:flex;\n",
              "      flex-wrap:wrap;\n",
              "      gap: 12px;\n",
              "    }\n",
              "\n",
              "    .colab-df-convert {\n",
              "      background-color: #E8F0FE;\n",
              "      border: none;\n",
              "      border-radius: 50%;\n",
              "      cursor: pointer;\n",
              "      display: none;\n",
              "      fill: #1967D2;\n",
              "      height: 32px;\n",
              "      padding: 0 0 0 0;\n",
              "      width: 32px;\n",
              "    }\n",
              "\n",
              "    .colab-df-convert:hover {\n",
              "      background-color: #E2EBFA;\n",
              "      box-shadow: 0px 1px 2px rgba(60, 64, 67, 0.3), 0px 1px 3px 1px rgba(60, 64, 67, 0.15);\n",
              "      fill: #174EA6;\n",
              "    }\n",
              "\n",
              "    [theme=dark] .colab-df-convert {\n",
              "      background-color: #3B4455;\n",
              "      fill: #D2E3FC;\n",
              "    }\n",
              "\n",
              "    [theme=dark] .colab-df-convert:hover {\n",
              "      background-color: #434B5C;\n",
              "      box-shadow: 0px 1px 3px 1px rgba(0, 0, 0, 0.15);\n",
              "      filter: drop-shadow(0px 1px 2px rgba(0, 0, 0, 0.3));\n",
              "      fill: #FFFFFF;\n",
              "    }\n",
              "  </style>\n",
              "\n",
              "      <script>\n",
              "        const buttonEl =\n",
              "          document.querySelector('#df-92ab4114-8edc-4624-9191-5916301e2baf button.colab-df-convert');\n",
              "        buttonEl.style.display =\n",
              "          google.colab.kernel.accessAllowed ? 'block' : 'none';\n",
              "\n",
              "        async function convertToInteractive(key) {\n",
              "          const element = document.querySelector('#df-92ab4114-8edc-4624-9191-5916301e2baf');\n",
              "          const dataTable =\n",
              "            await google.colab.kernel.invokeFunction('convertToInteractive',\n",
              "                                                     [key], {});\n",
              "          if (!dataTable) return;\n",
              "\n",
              "          const docLinkHtml = 'Like what you see? Visit the ' +\n",
              "            '<a target=\"_blank\" href=https://colab.research.google.com/notebooks/data_table.ipynb>data table notebook</a>'\n",
              "            + ' to learn more about interactive tables.';\n",
              "          element.innerHTML = '';\n",
              "          dataTable['output_type'] = 'display_data';\n",
              "          await google.colab.output.renderOutput(dataTable, element);\n",
              "          const docLink = document.createElement('div');\n",
              "          docLink.innerHTML = docLinkHtml;\n",
              "          element.appendChild(docLink);\n",
              "        }\n",
              "      </script>\n",
              "    </div>\n",
              "  </div>\n",
              "  "
            ]
          },
          "metadata": {},
          "execution_count": 15
        }
      ],
      "source": [
        "# Sort by fitness values\n",
        "ga_analysis_sort = ga_analysis.sort_values(by=['fitness'])\n",
        "ga_analysis_sort.iloc[:10, :]"
      ]
    },
    {
      "cell_type": "markdown",
      "metadata": {
        "id": "B3ZCggFbr1db"
      },
      "source": [
        "#### **Final result**"
      ]
    },
    {
      "cell_type": "code",
      "execution_count": null,
      "metadata": {
        "id": "ULKbGlNEd7bz",
        "colab": {
          "base_uri": "https://localhost:8080/"
        },
        "outputId": "53e25f6a-d443-46c0-f046-31e8b33e78ec"
      },
      "outputs": [
        {
          "output_type": "stream",
          "name": "stdout",
          "text": [
            "Optimal solution: [11, 3, 16, 4, 15, 8, 1, 0, 7, 9, 6, 12, 19, 13, 10, 5, 17, 14, 2, 18]\n",
            "Optimal function value: 1985\n",
            "Number of tardy jobs: 16\n",
            "Running time: 13.512831926345825\n"
          ]
        }
      ],
      "source": [
        "print(ga_result)"
      ]
    },
    {
      "cell_type": "markdown",
      "metadata": {
        "id": "sqOnbA2dLQ8p"
      },
      "source": [
        "\n",
        "\n",
        "---\n",
        "\n",
        "\n",
        "##**3. (30%) Markov Decision Process**\n",
        "\n",
        "考慮一個沒有折損因子的機台維修保養的馬可夫決策過程，機台有四個狀態 (健康, 可用, 耗損, 損壞)，其各別獎勵為 (6, 3, 1, -15)。「損壞」狀態為吸收狀態 (absorbing)，行動主要有兩種 (加工, 保養)。\n",
        "\n",
        "*   在狀態「健康」的情況下，採取行動「加工」，轉移到「健康」的機率為 0.7；轉移到「可用」的機率為 0.2；轉移到「耗損」的機率為 0.1；轉移到「損壞」的機率為 0.0。\n",
        "\n",
        "*   在狀態「健康」的情況下，採取行動「保養」，轉移到「健康」的機率為 1.0；轉移到其他狀態的機率為 0.0。\n",
        "\n",
        "*   在狀態「可用」的情況下，採取行動「加工」，轉移到「健康」的機率為 0.0；轉移到「可用」的機率為 0.6；轉移到「耗損」的機率為 0.3；轉移到「損壞」的機率為 0.1。\n",
        "\n",
        "*   在狀態「可用」的情況下，採取行動「保養」，轉移到「健康」的機率為 0.8；轉移到「可用」的機率為 0.2；轉移到其他狀態的機率為 0.0。\n",
        "\n",
        "*   在狀態「耗損」的情況下，採取行動「加工」，轉移到「健康」的機率為 0.0；轉移到「可用」的機率為 0.1；轉移到「耗損」的機率為 0.5；轉移到「損壞」的機率為 0.4。\n",
        "\n",
        "*   在狀態「耗損」的情況下，採取行動「保養」，轉移到「健康」的機率為 0.2；轉移到「可用」的機率為 0.5；轉移到「耗損」的機率為 0.3；轉移到「損壞」的機率為 0.0。\n",
        "\n",
        "試著參考網路資源學習並撰寫程式，使用此數據回答下列問題。"
      ]
    },
    {
      "cell_type": "markdown",
      "source": [
        "### **Setup**\n",
        "\n",
        "Reference: https://levelup.gitconnected.com/fundamentals-of-reinforcement-learning-value-iteration-and-policy-iteration-with-tutorials-a7ad0049c84f"
      ],
      "metadata": {
        "id": "R-odnBXSehUr"
      }
    },
    {
      "cell_type": "code",
      "source": [
        "import sys\n",
        "import random\n",
        "import numpy as np\n",
        "from gym.utils import seeding\n",
        "\n",
        "try:\n",
        "    from graphviz import Digraph\n",
        "    import graphviz\n",
        "    has_graphviz = True\n",
        "except ImportError:\n",
        "    has_graphviz = False\n",
        "\n",
        "class MDP:\n",
        "    def __init__(self, transition_probs, rewards, initial_state=None, seed=None):\n",
        "        \"\"\"\n",
        "        Defines an MDP. Compatible with gym Env.\n",
        "        :param transition_probs: transition_probs[s][a][s_next] = P(s_next | s, a)\n",
        "            A dict[state -> dict] of dicts[action -> dict] of dicts[next_state -> prob]\n",
        "            For each state and action, probabilities of next states should sum to 1\n",
        "            If a state has no actions available, it is considered terminal\n",
        "        :param rewards: rewards[s][a][s_next] = r(s,a,s')\n",
        "            A dict[state -> dict] of dicts[action -> dict] of dicts[next_state -> reward]\n",
        "            The reward for anything not mentioned here is zero.\n",
        "        :param get_initial_state: a state where agent starts or a callable() -> state\n",
        "            By default, picks initial state at random.\n",
        "        States and actions can be anything you can use as dict keys, but it is recommended to use strings or integers\n",
        "        \"\"\"\n",
        "        self._check_param_consistency(transition_probs, rewards)\n",
        "        self._transition_probs = transition_probs\n",
        "        self._rewards = rewards\n",
        "        self._initial_state = initial_state\n",
        "        self.n_states = len(transition_probs)\n",
        "        self.reset()\n",
        "        self.np_random, _ = seeding.np_random(seed)\n",
        "\n",
        "    def get_all_states(self):\n",
        "        \"\"\" return a tuple of all possiblestates \"\"\"\n",
        "        return tuple(self._transition_probs.keys())\n",
        "\n",
        "    def get_possible_actions(self, state):\n",
        "        \"\"\" return a tuple of possible actions in a given state \"\"\"\n",
        "        return tuple(self._transition_probs.get(state, {}).keys())\n",
        "\n",
        "    def is_terminal(self, state):\n",
        "        \"\"\" return True if state is terminal or False if it isn't \"\"\"\n",
        "        return len(self.get_possible_actions(state)) == 0\n",
        "\n",
        "    def get_next_states(self, state, action):\n",
        "        \"\"\" return a dictionary of {next_state1 : P(next_state1 | state, action), next_state2: ...} \"\"\"\n",
        "        assert action in self.get_possible_actions(state), \"cannot do action %s from state %s\" % (action, state)\n",
        "        return self._transition_probs[state][action]\n",
        "\n",
        "    def get_transition_prob(self, state, action, next_state):\n",
        "        \"\"\" return P(next_state | state, action) \"\"\"\n",
        "        return self.get_next_states(state, action).get(next_state, 0.0)\n",
        "\n",
        "    def get_reward(self, next_state):\n",
        "        \"\"\" return the reward you get for taking action in state and landing on next_state\"\"\"\n",
        "        # assert action in self.get_possible_actions(state), \"cannot do action %s from state %s\" % (action, state)\n",
        "        return self._rewards.get(next_state, 0.0)\n",
        "\n",
        "    def reset(self):\n",
        "        \"\"\" reset the game, return the initial state\"\"\"\n",
        "        if self._initial_state is None:\n",
        "            self._current_state = self.np_random.choice(\n",
        "                tuple(self._transition_probs.keys()))\n",
        "        elif self._initial_state in self._transition_probs:\n",
        "            self._current_state = self._initial_state\n",
        "        elif callable(self._initial_state):\n",
        "            self._current_state = self._initial_state()\n",
        "        else:\n",
        "            raise ValueError(\n",
        "                \"initial state %s should be either a state or a function() -> state\" % self._initial_state)\n",
        "        return self._current_state\n",
        "\n",
        "    def step(self, action):\n",
        "        \"\"\" take action, return next_state, reward, is_done, empty_info \"\"\"\n",
        "        possible_states, probs = zip(*self.get_next_states(self._current_state, action).items())\n",
        "        next_state = possible_states[self.np_random.choice(np.arange(len(possible_states)), p=probs)]\n",
        "        reward = self.get_reward(next_state)\n",
        "        is_done = self.is_terminal(next_state)\n",
        "        self._current_state = next_state\n",
        "        return next_state, reward, is_done, {}\n",
        "\n",
        "    def render(self):\n",
        "        print(\"Currently at %s\" % self._current_state)\n",
        "\n",
        "    def _check_param_consistency(self, transition_probs, rewards):\n",
        "        for state in transition_probs:\n",
        "            assert isinstance(transition_probs[state], dict), \\\n",
        "                \"transition_probs for %s should be a dictionary but is instead %s\" % (\n",
        "                    state, type(transition_probs[state]))\n",
        "            for action in transition_probs[state]:\n",
        "                assert isinstance(transition_probs[state][action], dict), \\\n",
        "                    \"transition_probs for %s, %s should be a a dictionary but is instead %s\" % (\n",
        "                        state, action, type(transition_probs[state][action]))\n",
        "                next_state_probs = transition_probs[state][action]\n",
        "                assert len(next_state_probs) != 0, \"from state %s action %s leads to no next states\" % (state, action)\n",
        "                sum_probs = sum(next_state_probs.values())\n",
        "                assert abs(sum_probs - 1) <= 1e-10, \\\n",
        "                    \"next state probabilities for state %s action %s add up to %f (should be 1)\" % (\n",
        "                        state, action, sum_probs)\n",
        "        # for state in rewards:\n",
        "        #     assert isinstance(rewards[state], dict), \\\n",
        "        #         \"rewards for %s should be a dictionary but is instead %s\" % (\n",
        "        #             state, type(rewards[state]))\n",
        "        #     for action in rewards[state]:\n",
        "        #         assert isinstance(rewards[state][action], dict), \\\n",
        "        #             \"rewards for %s, %s should be a a dictionary but is instead %s\" % (\n",
        "        #                 state, action, type(rewards[state][action]))\n",
        "        msg = \"The Enrichment Center once again reminds you that Android Hell is a real place where\" \\\n",
        "              \" you will be sent at the first sign of defiance.\"\n",
        "        assert None not in transition_probs, \"please do not use None as a state identifier. \" + msg\n",
        "        assert None not in rewards, \"please do not use None as an action identifier. \" + msg"
      ],
      "metadata": {
        "id": "uh0F09Sevnlm"
      },
      "execution_count": 4,
      "outputs": []
    },
    {
      "cell_type": "code",
      "source": [
        "def get_optimal_action(mdp, state_values, state, gamma=0.9):\n",
        "    \"\"\" Finds optimal action using formula above. \"\"\"\n",
        "    if mdp.is_terminal(state): return None    \n",
        "    optimal_actions = {a: get_action_value(mdp, state_values, state, a, gamma) for a in mdp.get_possible_actions(state)}\n",
        "    optimal_actions = max(optimal_actions, key=optimal_actions.get)\n",
        "    return optimal_actions"
      ],
      "metadata": {
        "id": "fLcxxIB_ZIJ-"
      },
      "execution_count": 5,
      "outputs": []
    },
    {
      "cell_type": "code",
      "source": [
        "transition_probs = {\n",
        "  'healthy':{\n",
        "    'process': {'healthy': 0.7, 'available': 0.2, 'wear&tear': 0.1, 'absorbing': 0.0},\n",
        "    'maintain': {'healthy': 1.0},\n",
        "  },\n",
        "  'available':{\n",
        "    'process': {'available': 0.6, 'wear&tear': 0.3, 'absorbing': 0.1},\n",
        "    'maintain': {'healthy': 0.8, 'available': 0.2}\n",
        "  },\n",
        "  'wear&tear':{\n",
        "    'process': {'available': 0.1, 'wear&tear': 0.5, 'absorbing': 0.4},\n",
        "    'maintain': {'healthy': 0.2, 'available': 0.5, 'wear&tear': 0.3}\n",
        "  },\n",
        "  'absorbing':{\n",
        "    'process': {'absorbing': 1.0},\n",
        "    'maintain': {'absorbing': 1.0}\n",
        "  }\n",
        "}\n",
        "\n",
        "rewards = {'healthy': +6,\n",
        "           'available': +3, \n",
        "           'wear&tear': +1, \n",
        "           'absorbing': -15\n",
        "}\n",
        "\n",
        "# transition_probs = {\n",
        "#   '健康':{\n",
        "#     '加工': {'健康': 0.7, '可用': 0.2, '耗損': 0.1, '損壞': 0.0},\n",
        "#     '保養': {'健康': 1.0},\n",
        "#   },\n",
        "#   '可用':{\n",
        "#     '加工': {'可用': 0.6, '耗損': 0.3, '損壞': 0.1},\n",
        "#     '保養': {'健康': 0.8, '可用': 0.2}\n",
        "#   },\n",
        "#   '耗損':{\n",
        "#     '加工': {'可用': 0.1, '耗損': 0.5, '損壞': 0.4},\n",
        "#     '保養': {'健康': 0.2, '可用': 0.5, '耗損': 0.3}\n",
        "#   },\n",
        "#   '損壞':{\n",
        "#     '加工': {'損壞': 1.0},\n",
        "#     '保養': {'損壞': 1.0}\n",
        "#   }\n",
        "# }\n",
        "\n",
        "# rewards = {'健康': +6,\n",
        "#            '可用': +3, \n",
        "#            '耗損': +1, \n",
        "#            '損壞': -15\n",
        "# }\n",
        "\n",
        "mdp = MDP(transition_probs, rewards, initial_state='healthy')"
      ],
      "metadata": {
        "id": "leNMNLofwd6q"
      },
      "execution_count": 6,
      "outputs": []
    },
    {
      "cell_type": "markdown",
      "metadata": {
        "id": "t5fDWVW7Usrt"
      },
      "source": [
        "###**(a) (5%) 試根據題目繪製轉移機率圖(transition probability diagram)**\n",
        "\n"
      ]
    },
    {
      "cell_type": "code",
      "source": [
        "def plot_graph(mdp, graph_size='20,20', s_node_size='1,5',\n",
        "               a_node_size='0,5', rankdir='LR', ):\n",
        "    \"\"\"\n",
        "    Function for pretty drawing MDP graph with graphviz library.\n",
        "    Requirements:\n",
        "    graphviz : https://www.graphviz.org/\n",
        "    for ubuntu users: sudo apt-get install graphviz\n",
        "    python library for graphviz\n",
        "    for pip users: pip install graphviz\n",
        "    :param mdp:\n",
        "    :param graph_size: size of graph plot\n",
        "    :param s_node_size: size of state nodes\n",
        "    :param a_node_size: size of action nodes\n",
        "    :param rankdir: order for drawing\n",
        "    :return: dot object\n",
        "    \"\"\"\n",
        "    s_node_attrs = {'shape': 'doublecircle',\n",
        "                    'color': '#ded6f5',\n",
        "                    'style': 'filled',\n",
        "                    'width': str(s_node_size),\n",
        "                    'height': str(s_node_size),\n",
        "                    'fontname': 'Arial',\n",
        "                    'fontsize': '24'}\n",
        "\n",
        "    a_node_attrs = {'shape': 'circle',\n",
        "                    'color': '#f5d6ed',\n",
        "                    'style': 'filled',\n",
        "                    'width': str(a_node_size),\n",
        "                    'height': str(a_node_size),\n",
        "                    'fontname': 'Arial',\n",
        "                    'fontsize': '20'}\n",
        "\n",
        "    s_a_edge_attrs = {'style': 'bold',\n",
        "                      'color': '#d248af',\n",
        "                      'ratio': 'auto'}\n",
        "\n",
        "    a_s_edge_attrs = {'style': 'dashed',\n",
        "                      'color': '#6c48d2',\n",
        "                      'ratio': 'auto',\n",
        "                      'fontname': 'Arial',\n",
        "                      'fontsize': '16'}\n",
        "\n",
        "    graph = Digraph(name='MDP')\n",
        "    graph.attr(rankdir=rankdir, size=graph_size)\n",
        "    for state_node in mdp._transition_probs:\n",
        "        graph.node(state_node, **s_node_attrs)\n",
        "\n",
        "        for posible_action in mdp.get_possible_actions(state_node):\n",
        "            action_node = state_node + \"-\" + posible_action\n",
        "            graph.node(action_node,\n",
        "                       label=str(posible_action),\n",
        "                       **a_node_attrs)\n",
        "            graph.edge(state_node, state_node + \"-\" +\n",
        "                       posible_action, **s_a_edge_attrs)\n",
        "\n",
        "            for posible_next_state in mdp.get_next_states(state_node,\n",
        "                                                          posible_action):\n",
        "                probability = mdp.get_transition_prob(\n",
        "                    state_node, posible_action, posible_next_state)\n",
        "                reward = mdp.get_reward(posible_next_state)\n",
        "\n",
        "                if reward != 0:\n",
        "                    label_a_s_edge = 'p = ' + str(probability) + \\\n",
        "                                     '  ' + 'reward =' + str(reward)\n",
        "                else:\n",
        "                    label_a_s_edge = 'p = ' + str(probability)\n",
        "\n",
        "                graph.edge(action_node, posible_next_state,\n",
        "                           label=label_a_s_edge, **a_s_edge_attrs)\n",
        "                \n",
        "                graph.edge(action_node, posible_next_state, **a_s_edge_attrs)\n",
        "    return graph\n",
        "\n",
        "\n",
        "def plot_graph_with_state_values(mdp, state_values):\n",
        "    \"\"\" Plot graph with state values\"\"\"\n",
        "    graph = plot_graph(mdp)\n",
        "    for state_node in mdp._transition_probs:\n",
        "        value = state_values[state_node]\n",
        "        graph.node(state_node, label=str(state_node) + '\\n' + 'V =' + str(value)[:4])\n",
        "    return graph\n",
        "\n",
        "\n",
        "def get_optimal_action_for_plot(mdp, state_values, state, get_action_value, gamma=0.9):\n",
        "    \"\"\" Finds optimal action using formula above. \"\"\"\n",
        "    if mdp.is_terminal(state):\n",
        "        return None\n",
        "    next_actions = mdp.get_possible_actions(state)\n",
        "    q_values = [get_action_value(mdp, state_values, state, action, gamma) for action in next_actions]\n",
        "    optimal_action = next_actions[np.argmax(q_values)]\n",
        "    return optimal_action\n",
        "\n",
        "\n",
        "def plot_graph_optimal_strategy_and_state_values(mdp, state_values, get_action_value, gamma=0.9):\n",
        "    \"\"\" Plot graph with state values and \"\"\"\n",
        "    graph = plot_graph(mdp)\n",
        "    opt_s_a_edge_attrs = {'style': 'bold',\n",
        "                          'color': '#f5d6ed',\n",
        "                          'ratio': 'auto',\n",
        "                          'penwidth': '6'}\n",
        "\n",
        "    for state_node in mdp._transition_probs:\n",
        "        value = state_values[state_node]\n",
        "        graph.node(state_node, label=str(state_node) + '\\n' + 'V =' + str(value)[:4])\n",
        "        for action in mdp.get_possible_actions(state_node):\n",
        "            if action == get_optimal_action_for_plot(mdp, state_values, state_node, get_action_value, gamma):\n",
        "                graph.edge(state_node, state_node + \"-\" + action, **opt_s_a_edge_attrs)\n",
        "    return graph"
      ],
      "metadata": {
        "id": "BCv5uHADwMZ0"
      },
      "execution_count": 7,
      "outputs": []
    },
    {
      "cell_type": "code",
      "source": [
        "from IPython.display import display\n",
        "if has_graphviz:\n",
        "    display(plot_graph(mdp))"
      ],
      "metadata": {
        "colab": {
          "base_uri": "https://localhost:8080/",
          "height": 593
        },
        "id": "5fmLRqpX1j6R",
        "outputId": "8555522d-5eac-4397-dad8-6a63e12c810b"
      },
      "execution_count": 8,
      "outputs": [
        {
          "output_type": "display_data",
          "data": {
            "text/plain": [
              "<graphviz.dot.Digraph at 0x7fed1d67d2b0>"
            ],
            "image/svg+xml": "<?xml version=\"1.0\" encoding=\"UTF-8\" standalone=\"no\"?>\n<!DOCTYPE svg PUBLIC \"-//W3C//DTD SVG 1.1//EN\"\n \"http://www.w3.org/Graphics/SVG/1.1/DTD/svg11.dtd\">\n<!-- Generated by graphviz version 2.40.1 (20161225.0304)\n -->\n<!-- Title: MDP Pages: 1 -->\n<svg width=\"1440pt\" height=\"414pt\"\n viewBox=\"0.00 0.00 1440.00 413.65\" xmlns=\"http://www.w3.org/2000/svg\" xmlns:xlink=\"http://www.w3.org/1999/xlink\">\n<g id=\"graph0\" class=\"graph\" transform=\"scale(.6243 .6243) rotate(0) translate(4 658.5602)\">\n<title>MDP</title>\n<polygon fill=\"#ffffff\" stroke=\"transparent\" points=\"-4,4 -4,-658.5602 2302.534,-658.5602 2302.534,4 -4,4\"/>\n<!-- healthy -->\n<g id=\"node1\" class=\"node\">\n<title>healthy</title>\n<ellipse fill=\"#ded6f5\" stroke=\"#ded6f5\" cx=\"57.8867\" cy=\"-213.5602\" rx=\"53.7814\" ry=\"53.7814\"/>\n<ellipse fill=\"none\" stroke=\"#ded6f5\" cx=\"57.8867\" cy=\"-213.5602\" rx=\"57.7736\" ry=\"57.7736\"/>\n<text text-anchor=\"middle\" x=\"57.8867\" y=\"-207.3602\" font-family=\"Arial\" font-size=\"24.00\" fill=\"#000000\">healthy</text>\n</g>\n<!-- healthy&#45;process -->\n<g id=\"node2\" class=\"node\">\n<title>healthy&#45;process</title>\n<ellipse fill=\"#f5d6ed\" stroke=\"#f5d6ed\" cx=\"347.5343\" cy=\"-381.5602\" rx=\"62.8651\" ry=\"62.8651\"/>\n<text text-anchor=\"middle\" x=\"347.5343\" y=\"-376.5602\" font-family=\"Arial\" font-size=\"20.00\" fill=\"#000000\">process</text>\n</g>\n<!-- healthy&#45;&gt;healthy&#45;process -->\n<g id=\"edge1\" class=\"edge\">\n<title>healthy&#45;&gt;healthy&#45;process</title>\n<path fill=\"none\" stroke=\"#d248af\" stroke-width=\"2\" d=\"M85.2884,-264.889C97.4474,-284.8955 113.6266,-306.3272 133.7733,-320.5602 175.1576,-349.7968 231.0564,-362.6961 275.312,-369.5918\"/>\n<polygon fill=\"#d248af\" stroke=\"#d248af\" stroke-width=\"2\" points=\"275.023,-373.0872 285.4295,-371.0988 276.0543,-366.1636 275.023,-373.0872\"/>\n</g>\n<!-- healthy&#45;maintain -->\n<g id=\"node6\" class=\"node\">\n<title>healthy&#45;maintain</title>\n<ellipse fill=\"#f5d6ed\" stroke=\"#f5d6ed\" cx=\"347.5343\" cy=\"-234.5602\" rx=\"65.5227\" ry=\"65.5227\"/>\n<text text-anchor=\"middle\" x=\"347.5343\" y=\"-229.5602\" font-family=\"Arial\" font-size=\"20.00\" fill=\"#000000\">maintain</text>\n</g>\n<!-- healthy&#45;&gt;healthy&#45;maintain -->\n<g id=\"edge10\" class=\"edge\">\n<title>healthy&#45;&gt;healthy&#45;maintain</title>\n<path fill=\"none\" stroke=\"#d248af\" stroke-width=\"2\" d=\"M115.805,-212.2331C160.7333,-214.0385 223.369,-218.4199 272.1949,-223.0923\"/>\n<polygon fill=\"#d248af\" stroke=\"#d248af\" stroke-width=\"2\" points=\"272.0988,-226.5996 282.3928,-224.0929 272.7824,-219.633 272.0988,-226.5996\"/>\n</g>\n<!-- healthy&#45;process&#45;&gt;healthy -->\n<g id=\"edge2\" class=\"edge\">\n<title>healthy&#45;process&#45;&gt;healthy</title>\n<path fill=\"none\" stroke=\"#6c48d2\" stroke-dasharray=\"5,2\" d=\"M302.5439,-337.4837C290.5073,-326.9327 277.1177,-316.226 263.7733,-307.5602 257.175,-303.2753 178.2277,-267.5509 120.0531,-241.4083\"/>\n<polygon fill=\"#6c48d2\" stroke=\"#6c48d2\" points=\"121.4651,-238.2057 110.909,-237.3011 118.597,-244.5912 121.4651,-238.2057\"/>\n<text text-anchor=\"middle\" x=\"198.7733\" y=\"-312.7602\" font-family=\"Arial\" font-size=\"16.00\" fill=\"#000000\">p = 0.7 &#160;reward =6</text>\n</g>\n<!-- healthy&#45;process&#45;&gt;healthy -->\n<g id=\"edge3\" class=\"edge\">\n<title>healthy&#45;process&#45;&gt;healthy</title>\n<path fill=\"none\" stroke=\"#6c48d2\" stroke-dasharray=\"5,2\" d=\"M284.471,-385.8897C238.994,-382.4303 178.0693,-369.8538 133.7733,-338.5602 112.0834,-323.237 94.992,-299.5699 82.565,-276.8787\"/>\n<polygon fill=\"#6c48d2\" stroke=\"#6c48d2\" points=\"85.608,-275.1452 77.8629,-267.9158 79.4093,-278.3972 85.608,-275.1452\"/>\n</g>\n<!-- available -->\n<g id=\"node3\" class=\"node\">\n<title>available</title>\n<ellipse fill=\"#ded6f5\" stroke=\"#ded6f5\" cx=\"646.8248\" cy=\"-323.5602\" rx=\"63.5574\" ry=\"63.5574\"/>\n<ellipse fill=\"none\" stroke=\"#ded6f5\" cx=\"646.8248\" cy=\"-323.5602\" rx=\"67.5591\" ry=\"67.5591\"/>\n<text text-anchor=\"middle\" x=\"646.8248\" y=\"-317.3602\" font-family=\"Arial\" font-size=\"24.00\" fill=\"#000000\">available</text>\n</g>\n<!-- healthy&#45;process&#45;&gt;available -->\n<g id=\"edge4\" class=\"edge\">\n<title>healthy&#45;process&#45;&gt;available</title>\n<path fill=\"none\" stroke=\"#6c48d2\" stroke-dasharray=\"5,2\" d=\"M402.6447,-350.1757C411.9675,-345.9691 421.73,-342.2017 431.2952,-339.5602 475.9009,-327.2419 527.5512,-323.0791 569.1057,-322.0727\"/>\n<polygon fill=\"#6c48d2\" stroke=\"#6c48d2\" points=\"569.2359,-325.571 579.169,-321.8854 569.1056,-318.5722 569.2359,-325.571\"/>\n<text text-anchor=\"middle\" x=\"496.2952\" y=\"-344.7602\" font-family=\"Arial\" font-size=\"16.00\" fill=\"#000000\">p = 0.2 &#160;reward =3</text>\n</g>\n<!-- healthy&#45;process&#45;&gt;available -->\n<g id=\"edge5\" class=\"edge\">\n<title>healthy&#45;process&#45;&gt;available</title>\n<path fill=\"none\" stroke=\"#6c48d2\" stroke-dasharray=\"5,2\" d=\"M410.5171,-378.9026C453.5111,-376.0185 511.4811,-370.0195 561.2952,-357.5602 565.6865,-356.4619 570.1533,-355.1903 574.625,-353.7972\"/>\n<polygon fill=\"#6c48d2\" stroke=\"#6c48d2\" points=\"575.9953,-357.0308 584.395,-350.5737 573.8019,-350.3833 575.9953,-357.0308\"/>\n</g>\n<!-- wear&amp;tear -->\n<g id=\"node4\" class=\"node\">\n<title>wear&amp;tear</title>\n<ellipse fill=\"#ded6f5\" stroke=\"#ded6f5\" cx=\"1268.9141\" cy=\"-342.5602\" rx=\"72.074\" ry=\"72.074\"/>\n<ellipse fill=\"none\" stroke=\"#ded6f5\" cx=\"1268.9141\" cy=\"-342.5602\" rx=\"76.076\" ry=\"76.076\"/>\n<text text-anchor=\"middle\" x=\"1268.9141\" y=\"-336.3602\" font-family=\"Arial\" font-size=\"24.00\" fill=\"#000000\">wear&amp;tear</text>\n</g>\n<!-- healthy&#45;process&#45;&gt;wear&amp;tear -->\n<g id=\"edge6\" class=\"edge\">\n<title>healthy&#45;process&#45;&gt;wear&amp;tear</title>\n<path fill=\"none\" stroke=\"#6c48d2\" stroke-dasharray=\"5,2\" d=\"M363.6126,-442.4439C376.076,-476.5432 397.1421,-516.1954 431.2952,-536.5602 466.7764,-557.7169 1139.8699,-558.4937 1174.8762,-536.5602 1213.489,-512.3671 1236.6436,-467.3116 1250.3101,-426.7071\"/>\n<polygon fill=\"#6c48d2\" stroke=\"#6c48d2\" points=\"1253.6892,-427.6317 1253.4172,-417.0404 1247.025,-425.4897 1253.6892,-427.6317\"/>\n<text text-anchor=\"middle\" x=\"797.3543\" y=\"-557.7602\" font-family=\"Arial\" font-size=\"16.00\" fill=\"#000000\">p = 0.1 &#160;reward =1</text>\n</g>\n<!-- healthy&#45;process&#45;&gt;wear&amp;tear -->\n<g id=\"edge7\" class=\"edge\">\n<title>healthy&#45;process&#45;&gt;wear&amp;tear</title>\n<path fill=\"none\" stroke=\"#6c48d2\" stroke-dasharray=\"5,2\" d=\"M406.3487,-404.8646C480.8408,-433.1079 613.8026,-479.3043 732.3543,-498.5602 862.9229,-519.768 897.6084,-504.7823 1029.8762,-506.5602 1094.3148,-507.4264 1119.1135,-538.8652 1174.8762,-506.5602 1205.8935,-488.591 1227.5613,-456.1034 1242.2114,-424.7563\"/>\n<polygon fill=\"#6c48d2\" stroke=\"#6c48d2\" points=\"1245.4541,-426.0788 1246.347,-415.5217 1239.0655,-423.2177 1245.4541,-426.0788\"/>\n</g>\n<!-- absorbing -->\n<g id=\"node5\" class=\"node\">\n<title>absorbing</title>\n<ellipse fill=\"#ded6f5\" stroke=\"#ded6f5\" cx=\"1912.243\" cy=\"-404.5602\" rx=\"69.5513\" ry=\"69.5513\"/>\n<ellipse fill=\"none\" stroke=\"#ded6f5\" cx=\"1912.243\" cy=\"-404.5602\" rx=\"73.5388\" ry=\"73.5388\"/>\n<text text-anchor=\"middle\" x=\"1912.243\" y=\"-398.3602\" font-family=\"Arial\" font-size=\"24.00\" fill=\"#000000\">absorbing</text>\n</g>\n<!-- healthy&#45;process&#45;&gt;absorbing -->\n<g id=\"edge8\" class=\"edge\">\n<title>healthy&#45;process&#45;&gt;absorbing</title>\n<path fill=\"none\" stroke=\"#6c48d2\" stroke-dasharray=\"5,2\" d=\"M361.9939,-442.9147C377.6521,-503.8228 404.0613,-591.1203 431.2952,-612.5602 507.0264,-672.1796 550.4418,-636.5602 646.8248,-636.5602 646.8248,-636.5602 646.8248,-636.5602 1591.7131,-636.5602 1693.9426,-636.5602 1737.8642,-672.7807 1820.474,-612.5602 1861.1083,-582.9388 1884.0265,-531.2853 1896.7981,-486.865\"/>\n<polygon fill=\"#6c48d2\" stroke=\"#6c48d2\" points=\"1900.1749,-487.7853 1899.4486,-477.2154 1893.4249,-485.9312 1900.1749,-487.7853\"/>\n<text text-anchor=\"middle\" x=\"1102.3762\" y=\"-641.7602\" font-family=\"Arial\" font-size=\"16.00\" fill=\"#000000\">p = 0.0 &#160;reward =&#45;15</text>\n</g>\n<!-- healthy&#45;process&#45;&gt;absorbing -->\n<g id=\"edge9\" class=\"edge\">\n<title>healthy&#45;process&#45;&gt;absorbing</title>\n<path fill=\"none\" stroke=\"#6c48d2\" stroke-dasharray=\"5,2\" d=\"M361.8777,-443.2425C374.0027,-481.593 395.329,-528.7375 431.2952,-556.5602 508.487,-616.2743 549.232,-598.5602 646.8248,-598.5602 646.8248,-598.5602 646.8248,-598.5602 1591.7131,-598.5602 1695.7291,-598.5602 1794.8649,-522.8636 1854.6315,-466.0383\"/>\n<polygon fill=\"#6c48d2\" stroke=\"#6c48d2\" points=\"1857.3101,-468.3177 1862.0814,-458.858 1852.4523,-463.2776 1857.3101,-468.3177\"/>\n</g>\n<!-- available&#45;process -->\n<g id=\"node7\" class=\"node\">\n<title>available&#45;process</title>\n<ellipse fill=\"#f5d6ed\" stroke=\"#f5d6ed\" cx=\"946.1152\" cy=\"-355.5602\" rx=\"62.8651\" ry=\"62.8651\"/>\n<text text-anchor=\"middle\" x=\"946.1152\" y=\"-350.5602\" font-family=\"Arial\" font-size=\"20.00\" fill=\"#000000\">process</text>\n</g>\n<!-- available&#45;&gt;available&#45;process -->\n<g id=\"edge13\" class=\"edge\">\n<title>available&#45;&gt;available&#45;process</title>\n<path fill=\"none\" stroke=\"#d248af\" stroke-width=\"2\" d=\"M714.776,-323.0326C757.2048,-326.3217 812.964,-332.2714 862.3543,-337.5602 866.3307,-337.986 870.4133,-338.4235 874.534,-338.8764\"/>\n<polygon fill=\"#d248af\" stroke=\"#d248af\" stroke-width=\"2\" points=\"874.4875,-342.3932 884.8166,-340.0356 875.2717,-335.4373 874.4875,-342.3932\"/>\n</g>\n<!-- available&#45;maintain -->\n<g id=\"node8\" class=\"node\">\n<title>available&#45;maintain</title>\n<ellipse fill=\"#f5d6ed\" stroke=\"#f5d6ed\" cx=\"946.1152\" cy=\"-170.5602\" rx=\"65.5227\" ry=\"65.5227\"/>\n<text text-anchor=\"middle\" x=\"946.1152\" y=\"-165.5602\" font-family=\"Arial\" font-size=\"20.00\" fill=\"#000000\">maintain</text>\n</g>\n<!-- available&#45;&gt;available&#45;maintain -->\n<g id=\"edge20\" class=\"edge\">\n<title>available&#45;&gt;available&#45;maintain</title>\n<path fill=\"none\" stroke=\"#d248af\" stroke-width=\"2\" d=\"M691.1902,-271.962C703.8243,-260.8592 718.0566,-249.9821 732.3543,-241.5602 745.103,-234.0508 815.7391,-208.0722 872.3759,-189.5191\"/>\n<polygon fill=\"#d248af\" stroke=\"#d248af\" stroke-width=\"2\" points=\"873.62,-192.7951 882.0509,-186.3787 871.4589,-186.137 873.62,-192.7951\"/>\n</g>\n<!-- wear&amp;tear&#45;process -->\n<g id=\"node9\" class=\"node\">\n<title>wear&amp;tear&#45;process</title>\n<ellipse fill=\"#f5d6ed\" stroke=\"#f5d6ed\" cx=\"1591.7131\" cy=\"-405.5602\" rx=\"62.8651\" ry=\"62.8651\"/>\n<text text-anchor=\"middle\" x=\"1591.7131\" y=\"-400.5602\" font-family=\"Arial\" font-size=\"20.00\" fill=\"#000000\">process</text>\n</g>\n<!-- wear&amp;tear&#45;&gt;wear&amp;tear&#45;process -->\n<g id=\"edge25\" class=\"edge\">\n<title>wear&amp;tear&#45;&gt;wear&amp;tear&#45;process</title>\n<path fill=\"none\" stroke=\"#d248af\" stroke-width=\"2\" d=\"M1341.0583,-366.8405C1348.354,-369.3871 1355.7345,-371.7081 1362.9521,-373.5602 1414.1731,-386.704 1473.6442,-392.4035 1519.1091,-396.0909\"/>\n<polygon fill=\"#d248af\" stroke=\"#d248af\" stroke-width=\"2\" points=\"1518.9276,-399.5875 1529.1747,-396.8954 1519.4854,-392.6097 1518.9276,-399.5875\"/>\n</g>\n<!-- wear&amp;tear&#45;maintain -->\n<g id=\"node10\" class=\"node\">\n<title>wear&amp;tear&#45;maintain</title>\n<ellipse fill=\"#f5d6ed\" stroke=\"#f5d6ed\" cx=\"1591.7131\" cy=\"-106.5602\" rx=\"65.5227\" ry=\"65.5227\"/>\n<text text-anchor=\"middle\" x=\"1591.7131\" y=\"-101.5602\" font-family=\"Arial\" font-size=\"20.00\" fill=\"#000000\">maintain</text>\n</g>\n<!-- wear&amp;tear&#45;&gt;wear&amp;tear&#45;maintain -->\n<g id=\"edge32\" class=\"edge\">\n<title>wear&amp;tear&#45;&gt;wear&amp;tear&#45;maintain</title>\n<path fill=\"none\" stroke=\"#d248af\" stroke-width=\"2\" d=\"M1343.9703,-329.2668C1404.3146,-321.1124 1482.9951,-309.3623 1507.9521,-289.5602 1541.9496,-262.585 1562.4522,-219.0373 1574.6536,-181.1411\"/>\n<polygon fill=\"#d248af\" stroke=\"#d248af\" stroke-width=\"2\" points=\"1578.1372,-181.72 1577.7295,-171.133 1571.4461,-179.6635 1578.1372,-181.72\"/>\n</g>\n<!-- absorbing&#45;process -->\n<g id=\"node11\" class=\"node\">\n<title>absorbing&#45;process</title>\n<ellipse fill=\"#f5d6ed\" stroke=\"#f5d6ed\" cx=\"2232.773\" cy=\"-473.5602\" rx=\"62.8651\" ry=\"62.8651\"/>\n<text text-anchor=\"middle\" x=\"2232.773\" y=\"-468.5602\" font-family=\"Arial\" font-size=\"20.00\" fill=\"#000000\">process</text>\n</g>\n<!-- absorbing&#45;&gt;absorbing&#45;process -->\n<g id=\"edge39\" class=\"edge\">\n<title>absorbing&#45;&gt;absorbing&#45;process</title>\n<path fill=\"none\" stroke=\"#d248af\" stroke-width=\"2\" d=\"M1980.9202,-431.562C1988.573,-434.6042 1996.3664,-437.3785 2004.0121,-439.5602 2054.9089,-454.0839 2114.3914,-460.2708 2159.9427,-464.1072\"/>\n<polygon fill=\"#d248af\" stroke=\"#d248af\" stroke-width=\"2\" points=\"2159.775,-467.6051 2170.0291,-464.9399 2160.351,-460.6289 2159.775,-467.6051\"/>\n</g>\n<!-- absorbing&#45;maintain -->\n<g id=\"node12\" class=\"node\">\n<title>absorbing&#45;maintain</title>\n<ellipse fill=\"#f5d6ed\" stroke=\"#f5d6ed\" cx=\"2232.773\" cy=\"-326.5602\" rx=\"65.5227\" ry=\"65.5227\"/>\n<text text-anchor=\"middle\" x=\"2232.773\" y=\"-321.5602\" font-family=\"Arial\" font-size=\"20.00\" fill=\"#000000\">maintain</text>\n</g>\n<!-- absorbing&#45;&gt;absorbing&#45;maintain -->\n<g id=\"edge42\" class=\"edge\">\n<title>absorbing&#45;&gt;absorbing&#45;maintain</title>\n<path fill=\"none\" stroke=\"#d248af\" stroke-width=\"2\" d=\"M1983.9728,-386.2788C2031.3217,-377.1273 2094.4572,-365.1538 2149.0121,-349.5602 2152.4079,-348.5896 2155.8596,-347.5397 2159.3307,-346.4384\"/>\n<polygon fill=\"#d248af\" stroke=\"#d248af\" stroke-width=\"2\" points=\"2160.7234,-349.6652 2169.1339,-343.2221 2158.5411,-343.014 2160.7234,-349.6652\"/>\n</g>\n<!-- healthy&#45;maintain&#45;&gt;healthy -->\n<g id=\"edge11\" class=\"edge\">\n<title>healthy&#45;maintain&#45;&gt;healthy</title>\n<path fill=\"none\" stroke=\"#6c48d2\" stroke-dasharray=\"5,2\" d=\"M288.6088,-204.9431C280.4381,-201.9052 272.0174,-199.3 263.7733,-197.5602 217.8522,-187.8695 165.0593,-192.2732 124.43,-198.8909\"/>\n<polygon fill=\"#6c48d2\" stroke=\"#6c48d2\" points=\"123.6394,-195.4752 114.3741,-200.6138 124.8216,-202.3747 123.6394,-195.4752\"/>\n<text text-anchor=\"middle\" x=\"198.7733\" y=\"-202.7602\" font-family=\"Arial\" font-size=\"16.00\" fill=\"#000000\">p = 1.0 &#160;reward =6</text>\n</g>\n<!-- healthy&#45;maintain&#45;&gt;healthy -->\n<g id=\"edge12\" class=\"edge\">\n<title>healthy&#45;maintain&#45;&gt;healthy</title>\n<path fill=\"none\" stroke=\"#6c48d2\" stroke-dasharray=\"5,2\" d=\"M281.5639,-235.5449C234.8045,-233.4521 172.2679,-228.9304 125.2084,-224.2458\"/>\n<polygon fill=\"#6c48d2\" stroke=\"#6c48d2\" points=\"125.416,-220.7489 115.1117,-223.2129 124.7036,-227.7125 125.416,-220.7489\"/>\n</g>\n<!-- available&#45;process&#45;&gt;available -->\n<g id=\"edge14\" class=\"edge\">\n<title>available&#45;process&#45;&gt;available</title>\n<path fill=\"none\" stroke=\"#6c48d2\" stroke-dasharray=\"5,2\" d=\"M883.1623,-354.8929C840.4333,-353.7388 782.7578,-350.812 732.3543,-343.5602 729.1091,-343.0933 725.8057,-342.5638 722.4768,-341.9854\"/>\n<polygon fill=\"#6c48d2\" stroke=\"#6c48d2\" points=\"722.9179,-338.5075 712.4462,-340.1176 721.6365,-345.3892 722.9179,-338.5075\"/>\n<text text-anchor=\"middle\" x=\"797.3543\" y=\"-358.7602\" font-family=\"Arial\" font-size=\"16.00\" fill=\"#000000\">p = 0.6 &#160;reward =3</text>\n</g>\n<!-- available&#45;process&#45;&gt;available -->\n<g id=\"edge15\" class=\"edge\">\n<title>available&#45;process&#45;&gt;available</title>\n<path fill=\"none\" stroke=\"#6c48d2\" stroke-dasharray=\"5,2\" d=\"M883.0001,-357.7214C876.0337,-357.026 869.0438,-356.2765 862.3543,-355.5602 816.0349,-350.6003 764.1138,-345.059 722.8398,-339.6408\"/>\n<polygon fill=\"#6c48d2\" stroke=\"#6c48d2\" points=\"723.2329,-336.1623 712.8567,-338.3035 722.3034,-343.1003 723.2329,-336.1623\"/>\n</g>\n<!-- available&#45;process&#45;&gt;wear&amp;tear -->\n<g id=\"edge16\" class=\"edge\">\n<title>available&#45;process&#45;&gt;wear&amp;tear</title>\n<path fill=\"none\" stroke=\"#6c48d2\" stroke-dasharray=\"5,2\" d=\"M1009.1204,-353.0228C1058.6066,-351.0299 1128.0487,-348.2333 1182.6894,-346.0327\"/>\n<polygon fill=\"#6c48d2\" stroke=\"#6c48d2\" points=\"1182.8605,-349.5288 1192.7116,-345.6291 1182.5788,-342.5344 1182.8605,-349.5288\"/>\n<text text-anchor=\"middle\" x=\"1102.3762\" y=\"-356.7602\" font-family=\"Arial\" font-size=\"16.00\" fill=\"#000000\">p = 0.3 &#160;reward =1</text>\n</g>\n<!-- available&#45;process&#45;&gt;wear&amp;tear -->\n<g id=\"edge17\" class=\"edge\">\n<title>available&#45;process&#45;&gt;wear&amp;tear</title>\n<path fill=\"none\" stroke=\"#6c48d2\" stroke-dasharray=\"5,2\" d=\"M1008.7243,-348.209C1015.8504,-347.5577 1023.0153,-346.9853 1029.8762,-346.5602 1080.4248,-343.428 1137.0933,-342.373 1182.5633,-342.1265\"/>\n<polygon fill=\"#6c48d2\" stroke=\"#6c48d2\" points=\"1182.6952,-345.6261 1192.6804,-342.0839 1182.6657,-338.6262 1182.6952,-345.6261\"/>\n</g>\n<!-- available&#45;process&#45;&gt;absorbing -->\n<g id=\"edge18\" class=\"edge\">\n<title>available&#45;process&#45;&gt;absorbing</title>\n<path fill=\"none\" stroke=\"#6c48d2\" stroke-dasharray=\"5,2\" d=\"M1003.0811,-328.2062C1052.2381,-305.7618 1125.7171,-274.948 1192.8762,-257.5602 1328.7702,-222.3767 1370.3192,-207.9514 1507.9521,-235.5602 1629.5094,-259.9443 1760.1423,-321.7712 1839.0338,-363.487\"/>\n<polygon fill=\"#6c48d2\" stroke=\"#6c48d2\" points=\"1837.4491,-366.6084 1847.9211,-368.2172 1840.738,-360.4291 1837.4491,-366.6084\"/>\n<text text-anchor=\"middle\" x=\"1435.4521\" y=\"-240.7602\" font-family=\"Arial\" font-size=\"16.00\" fill=\"#000000\">p = 0.1 &#160;reward =&#45;15</text>\n</g>\n<!-- available&#45;process&#45;&gt;absorbing -->\n<g id=\"edge19\" class=\"edge\">\n<title>available&#45;process&#45;&gt;absorbing</title>\n<path fill=\"none\" stroke=\"#6c48d2\" stroke-dasharray=\"5,2\" d=\"M987.0942,-307.4694C1007.576,-283.542 1028.3589,-259.4775 1029.8762,-258.5602 1212.3745,-148.2272 1295.0765,-204.7929 1507.9521,-217.5602 1649.752,-226.0647 1703.6315,-203.768 1820.474,-284.5602 1838.9006,-297.3015 1855.2474,-314.9 1868.8508,-332.6958\"/>\n<polygon fill=\"#6c48d2\" stroke=\"#6c48d2\" points=\"1866.1407,-334.9173 1874.9056,-340.8694 1871.7655,-330.7505 1866.1407,-334.9173\"/>\n</g>\n<!-- available&#45;maintain&#45;&gt;healthy -->\n<g id=\"edge21\" class=\"edge\">\n<title>available&#45;maintain&#45;&gt;healthy</title>\n<path fill=\"none\" stroke=\"#6c48d2\" stroke-dasharray=\"5,2\" d=\"M881.3554,-156.9393C874.9583,-155.9705 868.5446,-155.1462 862.3543,-154.5602 804.8336,-149.1156 790.1312,-154.2397 732.3543,-154.5602 532.0869,-155.6714 480.9969,-139.1092 281.7733,-159.5602 215.0951,-166.405 198.6198,-171.5963 133.7733,-188.5602 130.0305,-189.5394 126.2025,-190.6019 122.3522,-191.718\"/>\n<polygon fill=\"#6c48d2\" stroke=\"#6c48d2\" points=\"121.348,-188.3651 112.7717,-194.5858 123.3554,-195.0711 121.348,-188.3651\"/>\n<text text-anchor=\"middle\" x=\"496.2952\" y=\"-156.7602\" font-family=\"Arial\" font-size=\"16.00\" fill=\"#000000\">p = 0.8 &#160;reward =6</text>\n</g>\n<!-- available&#45;maintain&#45;&gt;healthy -->\n<g id=\"edge22\" class=\"edge\">\n<title>available&#45;maintain&#45;&gt;healthy</title>\n<path fill=\"none\" stroke=\"#6c48d2\" stroke-dasharray=\"5,2\" d=\"M882.875,-152.1946C875.9963,-150.7235 869.06,-149.4602 862.3543,-148.5602 606.6096,-114.2381 539.5634,-135.2628 281.7733,-146.5602 215.843,-149.4496 195.6743,-135.6816 133.7733,-158.5602 125.8752,-161.4794 118.0693,-165.4658 110.6409,-169.9688\"/>\n<polygon fill=\"#6c48d2\" stroke=\"#6c48d2\" points=\"108.6256,-167.1036 102.1113,-175.4592 112.4143,-172.9897 108.6256,-167.1036\"/>\n</g>\n<!-- available&#45;maintain&#45;&gt;available -->\n<g id=\"edge23\" class=\"edge\">\n<title>available&#45;maintain&#45;&gt;available</title>\n<path fill=\"none\" stroke=\"#6c48d2\" stroke-dasharray=\"5,2\" d=\"M881.2373,-157.9466C836.316,-152.7032 776.8385,-152.9884 732.3543,-179.5602 705.6655,-195.5023 686.3511,-223.2447 672.9065,-250.1503\"/>\n<polygon fill=\"#6c48d2\" stroke=\"#6c48d2\" points=\"669.724,-248.6927 668.5699,-259.2245 676.0398,-251.7111 669.724,-248.6927\"/>\n<text text-anchor=\"middle\" x=\"797.3543\" y=\"-184.7602\" font-family=\"Arial\" font-size=\"16.00\" fill=\"#000000\">p = 0.2 &#160;reward =3</text>\n</g>\n<!-- available&#45;maintain&#45;&gt;available -->\n<g id=\"edge24\" class=\"edge\">\n<title>available&#45;maintain&#45;&gt;available</title>\n<path fill=\"none\" stroke=\"#6c48d2\" stroke-dasharray=\"5,2\" d=\"M886.4114,-198.4224C828.1099,-221.5426 746.1819,-251.4152 732.3543,-259.5602 724.325,-264.2898 716.3163,-269.7937 708.5997,-275.5603\"/>\n<polygon fill=\"#6c48d2\" stroke=\"#6c48d2\" points=\"706.1506,-273.0282 700.3539,-281.8966 710.4158,-278.5787 706.1506,-273.0282\"/>\n</g>\n<!-- wear&amp;tear&#45;process&#45;&gt;available -->\n<g id=\"edge26\" class=\"edge\">\n<title>wear&amp;tear&#45;process&#45;&gt;available</title>\n<path fill=\"none\" stroke=\"#6c48d2\" stroke-dasharray=\"5,2\" d=\"M1542.2472,-444.6722C1531.4988,-451.2161 1519.7861,-457.0222 1507.9521,-460.5602 1342.8191,-509.93 883.0824,-544.1503 732.3543,-460.5602 706.9119,-446.4505 688.0433,-421.2731 674.5991,-396.3173\"/>\n<polygon fill=\"#6c48d2\" stroke=\"#6c48d2\" points=\"677.5736,-394.448 669.8893,-387.154 671.3478,-397.648 677.5736,-394.448\"/>\n<text text-anchor=\"middle\" x=\"1102.3762\" y=\"-515.7602\" font-family=\"Arial\" font-size=\"16.00\" fill=\"#000000\">p = 0.1 &#160;reward =3</text>\n</g>\n<!-- wear&amp;tear&#45;process&#45;&gt;available -->\n<g id=\"edge27\" class=\"edge\">\n<title>wear&amp;tear&#45;process&#45;&gt;available</title>\n<path fill=\"none\" stroke=\"#6c48d2\" stroke-dasharray=\"5,2\" d=\"M1529.2918,-415.7552C1404.8051,-434.2751 1117.2549,-467.9671 880.3543,-427.5602 811.6271,-415.8378 795.3717,-405.3872 732.3543,-375.5602 725.8751,-372.4935 719.2632,-369.065 712.7296,-365.4708\"/>\n<polygon fill=\"#6c48d2\" stroke=\"#6c48d2\" points=\"714.3184,-362.3486 703.8886,-360.4855 710.8801,-368.4461 714.3184,-362.3486\"/>\n</g>\n<!-- wear&amp;tear&#45;process&#45;&gt;wear&amp;tear -->\n<g id=\"edge28\" class=\"edge\">\n<title>wear&amp;tear&#45;process&#45;&gt;wear&amp;tear</title>\n<path fill=\"none\" stroke=\"#6c48d2\" stroke-dasharray=\"5,2\" d=\"M1537.6958,-372.3648C1528.0773,-367.6804 1517.9351,-363.475 1507.9521,-360.5602 1480.1113,-352.4314 1411.7276,-347.8184 1355.2018,-345.3024\"/>\n<polygon fill=\"#6c48d2\" stroke=\"#6c48d2\" points=\"1355.3006,-341.8035 1345.1598,-344.8716 1355.0005,-348.7971 1355.3006,-341.8035\"/>\n<text text-anchor=\"middle\" x=\"1435.4521\" y=\"-365.7602\" font-family=\"Arial\" font-size=\"16.00\" fill=\"#000000\">p = 0.5 &#160;reward =1</text>\n</g>\n<!-- wear&amp;tear&#45;process&#45;&gt;wear&amp;tear -->\n<g id=\"edge29\" class=\"edge\">\n<title>wear&amp;tear&#45;process&#45;&gt;wear&amp;tear</title>\n<path fill=\"none\" stroke=\"#6c48d2\" stroke-dasharray=\"5,2\" d=\"M1528.6847,-411.7847C1482.2335,-411.1842 1417.8536,-405.6485 1362.9521,-391.5602 1356.5441,-389.9158 1350.0076,-387.9018 1343.5161,-385.6329\"/>\n<polygon fill=\"#6c48d2\" stroke=\"#6c48d2\" points=\"1344.651,-382.3211 1334.0577,-382.1397 1342.2258,-388.8875 1344.651,-382.3211\"/>\n</g>\n<!-- wear&amp;tear&#45;process&#45;&gt;absorbing -->\n<g id=\"edge30\" class=\"edge\">\n<title>wear&amp;tear&#45;process&#45;&gt;absorbing</title>\n<path fill=\"none\" stroke=\"#6c48d2\" stroke-dasharray=\"5,2\" d=\"M1654.657,-405.3638C1704.1567,-405.2094 1773.5909,-404.9928 1827.899,-404.8234\"/>\n<polygon fill=\"#6c48d2\" stroke=\"#6c48d2\" points=\"1828.2124,-408.3225 1838.2014,-404.7912 1828.1905,-401.3225 1828.2124,-408.3225\"/>\n<text text-anchor=\"middle\" x=\"1747.974\" y=\"-409.7602\" font-family=\"Arial\" font-size=\"16.00\" fill=\"#000000\">p = 0.4 &#160;reward =&#45;15</text>\n</g>\n<!-- wear&amp;tear&#45;process&#45;&gt;absorbing -->\n<g id=\"edge31\" class=\"edge\">\n<title>wear&amp;tear&#45;process&#45;&gt;absorbing</title>\n<path fill=\"none\" stroke=\"#6c48d2\" stroke-dasharray=\"5,2\" d=\"M1654.8223,-403.0579C1661.7897,-402.8537 1668.7815,-402.68 1675.474,-402.5602 1739.9081,-401.4067 1756.0334,-401.8581 1820.474,-402.5602 1822.9837,-402.5876 1825.532,-402.6191 1828.1046,-402.6543\"/>\n<polygon fill=\"#6c48d2\" stroke=\"#6c48d2\" points=\"1828.0657,-406.154 1838.1177,-402.8062 1828.172,-399.1548 1828.0657,-406.154\"/>\n</g>\n<!-- wear&amp;tear&#45;maintain&#45;&gt;healthy -->\n<g id=\"edge33\" class=\"edge\">\n<title>wear&amp;tear&#45;maintain&#45;&gt;healthy</title>\n<path fill=\"none\" stroke=\"#6c48d2\" stroke-dasharray=\"5,2\" d=\"M1529.8651,-83.8205C1522.5342,-81.5205 1515.1136,-79.3699 1507.9521,-77.5602 1403.5889,-51.1877 1376.558,-38.5602 1268.9141,-38.5602 347.5343,-38.5602 347.5343,-38.5602 347.5343,-38.5602 250.1793,-38.5602 157.5005,-111.8823 104.2342,-163.6053\"/>\n<polygon fill=\"#6c48d2\" stroke=\"#6c48d2\" points=\"101.6496,-161.2385 96.9833,-170.7504 106.5628,-166.2245 101.6496,-161.2385\"/>\n<text text-anchor=\"middle\" x=\"797.3543\" y=\"-43.7602\" font-family=\"Arial\" font-size=\"16.00\" fill=\"#000000\">p = 0.2 &#160;reward =6</text>\n</g>\n<!-- wear&amp;tear&#45;maintain&#45;&gt;healthy -->\n<g id=\"edge34\" class=\"edge\">\n<title>wear&amp;tear&#45;maintain&#45;&gt;healthy</title>\n<path fill=\"none\" stroke=\"#6c48d2\" stroke-dasharray=\"5,2\" d=\"M1542.994,-61.6449C1532.1007,-53.5344 1520.142,-45.9539 1507.9521,-40.5602 1409.4478,3.0254 1376.6304,-.5602 1268.9141,-.5602 347.5343,-.5602 347.5343,-.5602 347.5343,-.5602 249.6528,-.5602 209.5447,8.4033 133.7733,-53.5602 104.7477,-77.2966 86.1545,-114.7311 74.6414,-147.4245\"/>\n<polygon fill=\"#6c48d2\" stroke=\"#6c48d2\" points=\"71.3082,-146.3559 71.4357,-156.9499 77.9426,-148.5887 71.3082,-146.3559\"/>\n</g>\n<!-- wear&amp;tear&#45;maintain&#45;&gt;available -->\n<g id=\"edge35\" class=\"edge\">\n<title>wear&amp;tear&#45;maintain&#45;&gt;available</title>\n<path fill=\"none\" stroke=\"#6c48d2\" stroke-dasharray=\"5,2\" d=\"M1525.7942,-105.9758C1393.5742,-106.1891 1102.4314,-114.0699 1029.8762,-177.5602 1006.349,-198.148 1034.5096,-223.9938 1011.8762,-245.5602 991.1237,-265.3344 824.6957,-295.0316 723.8595,-311.4913\"/>\n<polygon fill=\"#6c48d2\" stroke=\"#6c48d2\" points=\"723.0205,-308.0816 713.7109,-313.1394 724.1427,-314.9911 723.0205,-308.0816\"/>\n<text text-anchor=\"middle\" x=\"1102.3762\" y=\"-182.7602\" font-family=\"Arial\" font-size=\"16.00\" fill=\"#000000\">p = 0.5 &#160;reward =3</text>\n</g>\n<!-- wear&amp;tear&#45;maintain&#45;&gt;available -->\n<g id=\"edge36\" class=\"edge\">\n<title>wear&amp;tear&#45;maintain&#45;&gt;available</title>\n<path fill=\"none\" stroke=\"#6c48d2\" stroke-dasharray=\"5,2\" d=\"M1526.2775,-97.0988C1400.0879,-80.7072 1114.849,-52.6798 880.3543,-95.5602 811.1724,-108.211 784.5013,-104.3706 732.3543,-151.5602 703.5361,-177.6388 683.2307,-215.6199 669.6598,-249.2615\"/>\n<polygon fill=\"#6c48d2\" stroke=\"#6c48d2\" points=\"666.3821,-248.0334 666.0093,-258.6217 672.9037,-250.5769 666.3821,-248.0334\"/>\n</g>\n<!-- wear&amp;tear&#45;maintain&#45;&gt;wear&amp;tear -->\n<g id=\"edge37\" class=\"edge\">\n<title>wear&amp;tear&#45;maintain&#45;&gt;wear&amp;tear</title>\n<path fill=\"none\" stroke=\"#6c48d2\" stroke-dasharray=\"5,2\" d=\"M1572.0678,-169.6889C1558.968,-201.1531 1538.4408,-236.8216 1507.9521,-257.5602 1454.2109,-294.1154 1423.5225,-252.9886 1362.9521,-276.5602 1354.1229,-279.9962 1345.3327,-284.4293 1336.8709,-289.3713\"/>\n<polygon fill=\"#6c48d2\" stroke=\"#6c48d2\" points=\"1334.8881,-286.4812 1328.1838,-294.6851 1338.5408,-292.4526 1334.8881,-286.4812\"/>\n<text text-anchor=\"middle\" x=\"1435.4521\" y=\"-281.7602\" font-family=\"Arial\" font-size=\"16.00\" fill=\"#000000\">p = 0.3 &#160;reward =1</text>\n</g>\n<!-- wear&amp;tear&#45;maintain&#45;&gt;wear&amp;tear -->\n<g id=\"edge38\" class=\"edge\">\n<title>wear&amp;tear&#45;maintain&#45;&gt;wear&amp;tear</title>\n<path fill=\"none\" stroke=\"#6c48d2\" stroke-dasharray=\"5,2\" d=\"M1581.5367,-171.9598C1570.7938,-217.1452 1549.4034,-274.6708 1507.9521,-307.5602 1484.5162,-326.1554 1413.7058,-337.6502 1355.1919,-342.6759\"/>\n<polygon fill=\"#6c48d2\" stroke=\"#6c48d2\" points=\"1354.8582,-339.1914 1345.1716,-343.4834 1355.4205,-346.1688 1354.8582,-339.1914\"/>\n</g>\n<!-- absorbing&#45;process&#45;&gt;absorbing -->\n<g id=\"edge40\" class=\"edge\">\n<title>absorbing&#45;process&#45;&gt;absorbing</title>\n<path fill=\"none\" stroke=\"#6c48d2\" stroke-dasharray=\"5,2\" d=\"M2179.7507,-439.495C2169.8533,-434.4006 2159.3602,-429.7839 2149.0121,-426.5602 2121.265,-417.9163 2052.4199,-412.1258 1996.0766,-408.6647\"/>\n<polygon fill=\"#6c48d2\" stroke=\"#6c48d2\" points=\"1996.2658,-405.1698 1986.0746,-408.0663 1995.8477,-412.1573 1996.2658,-405.1698\"/>\n<text text-anchor=\"middle\" x=\"2076.5121\" y=\"-431.7602\" font-family=\"Arial\" font-size=\"16.00\" fill=\"#000000\">p = 1.0 &#160;reward =&#45;15</text>\n</g>\n<!-- absorbing&#45;process&#45;&gt;absorbing -->\n<g id=\"edge41\" class=\"edge\">\n<title>absorbing&#45;process&#45;&gt;absorbing</title>\n<path fill=\"none\" stroke=\"#6c48d2\" stroke-dasharray=\"5,2\" d=\"M2170.0291,-479.8353C2123.4378,-479.1589 2058.7582,-473.1824 2004.0121,-457.5602 1997.0035,-455.5603 1989.8709,-453.0624 1982.8361,-450.2414\"/>\n<polygon fill=\"#6c48d2\" stroke=\"#6c48d2\" points=\"1983.8979,-446.8901 1973.3248,-446.2107 1981.1665,-453.3352 1983.8979,-446.8901\"/>\n</g>\n<!-- absorbing&#45;maintain&#45;&gt;absorbing -->\n<g id=\"edge43\" class=\"edge\">\n<title>absorbing&#45;maintain&#45;&gt;absorbing</title>\n<path fill=\"none\" stroke=\"#6c48d2\" stroke-dasharray=\"5,2\" d=\"M2167.2417,-319.4331C2120.4199,-316.7075 2056.6552,-317.8971 2004.0121,-336.5602 1994.5505,-339.9146 1985.2422,-344.6015 1976.3967,-349.9628\"/>\n<polygon fill=\"#6c48d2\" stroke=\"#6c48d2\" points=\"1974.2484,-347.1824 1967.7169,-355.5245 1978.025,-353.0763 1974.2484,-347.1824\"/>\n<text text-anchor=\"middle\" x=\"2076.5121\" y=\"-341.7602\" font-family=\"Arial\" font-size=\"16.00\" fill=\"#000000\">p = 1.0 &#160;reward =&#45;15</text>\n</g>\n<!-- absorbing&#45;maintain&#45;&gt;absorbing -->\n<g id=\"edge44\" class=\"edge\">\n<title>absorbing&#45;maintain&#45;&gt;absorbing</title>\n<path fill=\"none\" stroke=\"#6c48d2\" stroke-dasharray=\"5,2\" d=\"M2175.0863,-358.9874C2166.4284,-362.1826 2157.5436,-365.1216 2149.0121,-367.5602 2099.0417,-381.8434 2041.8723,-393.0893 1996.2297,-399.8602\"/>\n<polygon fill=\"#6c48d2\" stroke=\"#6c48d2\" points=\"1995.48,-396.4319 1986.0797,-401.319 1996.4759,-403.3607 1995.48,-396.4319\"/>\n</g>\n</g>\n</svg>\n"
          },
          "metadata": {}
        }
      ]
    },
    {
      "cell_type": "markdown",
      "metadata": {
        "id": "kYu9QF9FUsru"
      },
      "source": [
        "###**(b) (10%) 使用價值迭代來決定最佳策略以及各個狀態的價值**\n"
      ]
    },
    {
      "cell_type": "code",
      "execution_count": 9,
      "metadata": {
        "id": "jq2os6kvM_9Y"
      },
      "outputs": [],
      "source": [
        "# state-action value function Q(s, a)\n",
        "def get_action_value(mdp, state_values, state, action, gamma):\n",
        "    \"\"\" Computes Q(s,a) as in formula above \"\"\"\n",
        "    Q = [mdp.get_transition_prob(state, action, s) * (mdp.get_reward(s) + gamma * state_values[s]) for s in state_values]\n",
        "    return sum(Q)\n",
        "\n",
        "# next V(s) for value iteration\n",
        "def get_new_state_value(mdp, state_values, state, gamma):\n",
        "    \"\"\" Computes next V(s) as in formula above. Please do not change state_values in process. \"\"\"\n",
        "    if mdp.is_terminal(state): return 0\n",
        "\n",
        "    Q = [get_action_value(mdp, state_values, state, a, gamma) for a in mdp.get_possible_actions(state)]\n",
        "    return max(Q)"
      ]
    },
    {
      "cell_type": "code",
      "source": [
        "# parameters\n",
        "gamma = 0.9             # discount for MDP\n",
        "num_iter = 1000         # maximum iterations, excluding initialization\n",
        "min_difference = 0.001  # stop VI if new values are this close to old values (or closer)\n",
        "\n",
        "# initialize V(s)\n",
        "state_values = {s : 0 for s in mdp.get_all_states()}\n",
        "\n",
        "for i in range(num_iter):\n",
        "    # Compute new state values using the functions you defined above.\n",
        "    # It must be a dict {state : float V_new(state)}\n",
        "    new_state_values = { state: get_new_state_value(mdp, state_values, state, gamma)\n",
        "        for state in mdp.get_all_states()\n",
        "    }   \n",
        "    assert isinstance(new_state_values, dict)\n",
        "    \n",
        "    # Compute difference\n",
        "    diff = max(abs(new_state_values[s] - state_values[s]) for s in mdp.get_all_states())\n",
        "    print(\"iter %4i   |   \"%(i,), end=\"\")\n",
        "    print('   '.join(\"V(%s) = %.3f\"%(s, v) for s,v in state_values.items()), end='\\n\\n')\n",
        "    state_values = new_state_values\n",
        "    \n",
        "    if diff < min_difference:\n",
        "        print(\"Terminated\"); break\n",
        "        \n",
        "if has_graphviz:\n",
        "    display(plot_graph_with_state_values(mdp, state_values))\n",
        "print()\n",
        "print(\"Final state values:\", state_values)"
      ],
      "metadata": {
        "colab": {
          "base_uri": "https://localhost:8080/",
          "height": 1000
        },
        "id": "DTQiVkn3RQiG",
        "outputId": "7bd687a1-0a91-4a56-ab81-8244b1f5bfa0"
      },
      "execution_count": 10,
      "outputs": [
        {
          "output_type": "stream",
          "name": "stdout",
          "text": [
            "iter    0   |   V(healthy) = 0.000   V(available) = 0.000   V(wear&tear) = 0.000   V(absorbing) = 0.000\n",
            "\n",
            "iter    1   |   V(healthy) = 6.000   V(available) = 5.400   V(wear&tear) = 3.000   V(absorbing) = -15.000\n",
            "\n",
            "iter    2   |   V(healthy) = 11.400   V(available) = 10.692   V(wear&tear) = 7.320   V(absorbing) = -28.500\n",
            "\n",
            "iter    3   |   V(healthy) = 16.260   V(available) = 15.533   V(wear&tear) = 11.840   V(absorbing) = -40.650\n",
            "\n",
            "iter    4   |   V(healthy) = 20.634   V(available) = 19.903   V(wear&tear) = 16.113   V(absorbing) = -51.585\n",
            "\n",
            "iter    5   |   V(healthy) = 24.571   V(available) = 23.839   V(wear&tear) = 20.021   V(absorbing) = -61.427\n",
            "\n",
            "iter    6   |   V(healthy) = 28.114   V(available) = 27.382   V(wear&tear) = 23.556   V(absorbing) = -70.284\n",
            "\n",
            "iter    7   |   V(healthy) = 31.302   V(available) = 30.570   V(wear&tear) = 26.742   V(absorbing) = -78.255\n",
            "\n",
            "iter    8   |   V(healthy) = 34.172   V(available) = 33.440   V(wear&tear) = 29.612   V(absorbing) = -85.430\n",
            "\n",
            "iter    9   |   V(healthy) = 36.755   V(available) = 36.023   V(wear&tear) = 32.194   V(absorbing) = -91.887\n",
            "\n",
            "iter   10   |   V(healthy) = 39.079   V(available) = 38.348   V(wear&tear) = 34.519   V(absorbing) = -97.698\n",
            "\n",
            "iter   11   |   V(healthy) = 41.171   V(available) = 40.440   V(wear&tear) = 36.611   V(absorbing) = -102.928\n",
            "\n",
            "iter   12   |   V(healthy) = 43.054   V(available) = 42.323   V(wear&tear) = 38.494   V(absorbing) = -107.636\n",
            "\n",
            "iter   13   |   V(healthy) = 44.749   V(available) = 44.017   V(wear&tear) = 40.188   V(absorbing) = -111.872\n",
            "\n",
            "iter   14   |   V(healthy) = 46.274   V(available) = 45.542   V(wear&tear) = 41.713   V(absorbing) = -115.685\n",
            "\n",
            "iter   15   |   V(healthy) = 47.647   V(available) = 46.915   V(wear&tear) = 43.086   V(absorbing) = -119.116\n",
            "\n",
            "iter   16   |   V(healthy) = 48.882   V(available) = 48.150   V(wear&tear) = 44.321   V(absorbing) = -122.205\n",
            "\n",
            "iter   17   |   V(healthy) = 49.994   V(available) = 49.262   V(wear&tear) = 45.433   V(absorbing) = -124.984\n",
            "\n",
            "iter   18   |   V(healthy) = 50.994   V(available) = 50.263   V(wear&tear) = 46.434   V(absorbing) = -127.486\n",
            "\n",
            "iter   19   |   V(healthy) = 51.895   V(available) = 51.163   V(wear&tear) = 47.334   V(absorbing) = -129.737\n",
            "\n",
            "iter   20   |   V(healthy) = 52.705   V(available) = 51.974   V(wear&tear) = 48.145   V(absorbing) = -131.764\n",
            "\n",
            "iter   21   |   V(healthy) = 53.435   V(available) = 52.703   V(wear&tear) = 48.874   V(absorbing) = -133.587\n",
            "\n",
            "iter   22   |   V(healthy) = 54.091   V(available) = 53.360   V(wear&tear) = 49.531   V(absorbing) = -135.228\n",
            "\n",
            "iter   23   |   V(healthy) = 54.682   V(available) = 53.951   V(wear&tear) = 50.122   V(absorbing) = -136.706\n",
            "\n",
            "iter   24   |   V(healthy) = 55.214   V(available) = 54.482   V(wear&tear) = 50.653   V(absorbing) = -138.035\n",
            "\n",
            "iter   25   |   V(healthy) = 55.693   V(available) = 54.961   V(wear&tear) = 51.132   V(absorbing) = -139.232\n",
            "\n",
            "iter   26   |   V(healthy) = 56.123   V(available) = 55.392   V(wear&tear) = 51.563   V(absorbing) = -140.308\n",
            "\n",
            "iter   27   |   V(healthy) = 56.511   V(available) = 55.779   V(wear&tear) = 51.950   V(absorbing) = -141.278\n",
            "\n",
            "iter   28   |   V(healthy) = 56.860   V(available) = 56.128   V(wear&tear) = 52.299   V(absorbing) = -142.150\n",
            "\n",
            "iter   29   |   V(healthy) = 57.174   V(available) = 56.442   V(wear&tear) = 52.613   V(absorbing) = -142.935\n",
            "\n",
            "iter   30   |   V(healthy) = 57.457   V(available) = 56.725   V(wear&tear) = 52.896   V(absorbing) = -143.641\n",
            "\n",
            "iter   31   |   V(healthy) = 57.711   V(available) = 56.979   V(wear&tear) = 53.150   V(absorbing) = -144.277\n",
            "\n",
            "iter   32   |   V(healthy) = 57.940   V(available) = 57.208   V(wear&tear) = 53.379   V(absorbing) = -144.849\n",
            "\n",
            "iter   33   |   V(healthy) = 58.146   V(available) = 57.414   V(wear&tear) = 53.585   V(absorbing) = -145.365\n",
            "\n",
            "iter   34   |   V(healthy) = 58.331   V(available) = 57.600   V(wear&tear) = 53.771   V(absorbing) = -145.828\n",
            "\n",
            "iter   35   |   V(healthy) = 58.498   V(available) = 57.766   V(wear&tear) = 53.937   V(absorbing) = -146.245\n",
            "\n",
            "iter   36   |   V(healthy) = 58.648   V(available) = 57.917   V(wear&tear) = 54.088   V(absorbing) = -146.621\n",
            "\n",
            "iter   37   |   V(healthy) = 58.783   V(available) = 58.052   V(wear&tear) = 54.223   V(absorbing) = -146.959\n",
            "\n",
            "iter   38   |   V(healthy) = 58.905   V(available) = 58.173   V(wear&tear) = 54.344   V(absorbing) = -147.263\n",
            "\n",
            "iter   39   |   V(healthy) = 59.015   V(available) = 58.283   V(wear&tear) = 54.454   V(absorbing) = -147.537\n",
            "\n",
            "iter   40   |   V(healthy) = 59.113   V(available) = 58.381   V(wear&tear) = 54.553   V(absorbing) = -147.783\n",
            "\n",
            "iter   41   |   V(healthy) = 59.202   V(available) = 58.470   V(wear&tear) = 54.641   V(absorbing) = -148.005\n",
            "\n",
            "iter   42   |   V(healthy) = 59.282   V(available) = 58.550   V(wear&tear) = 54.721   V(absorbing) = -148.204\n",
            "\n",
            "iter   43   |   V(healthy) = 59.353   V(available) = 58.622   V(wear&tear) = 54.793   V(absorbing) = -148.384\n",
            "\n",
            "iter   44   |   V(healthy) = 59.418   V(available) = 58.686   V(wear&tear) = 54.857   V(absorbing) = -148.545\n",
            "\n",
            "iter   45   |   V(healthy) = 59.476   V(available) = 58.745   V(wear&tear) = 54.916   V(absorbing) = -148.691\n",
            "\n",
            "iter   46   |   V(healthy) = 59.529   V(available) = 58.797   V(wear&tear) = 54.968   V(absorbing) = -148.822\n",
            "\n",
            "iter   47   |   V(healthy) = 59.576   V(available) = 58.844   V(wear&tear) = 55.015   V(absorbing) = -148.940\n",
            "\n",
            "iter   48   |   V(healthy) = 59.618   V(available) = 58.887   V(wear&tear) = 55.058   V(absorbing) = -149.046\n",
            "\n",
            "iter   49   |   V(healthy) = 59.656   V(available) = 58.925   V(wear&tear) = 55.096   V(absorbing) = -149.141\n",
            "\n",
            "iter   50   |   V(healthy) = 59.691   V(available) = 58.959   V(wear&tear) = 55.130   V(absorbing) = -149.227\n",
            "\n",
            "iter   51   |   V(healthy) = 59.722   V(available) = 58.990   V(wear&tear) = 55.161   V(absorbing) = -149.304\n",
            "\n",
            "iter   52   |   V(healthy) = 59.750   V(available) = 59.018   V(wear&tear) = 55.189   V(absorbing) = -149.374\n",
            "\n",
            "iter   53   |   V(healthy) = 59.775   V(available) = 59.043   V(wear&tear) = 55.214   V(absorbing) = -149.436\n",
            "\n",
            "iter   54   |   V(healthy) = 59.797   V(available) = 59.065   V(wear&tear) = 55.236   V(absorbing) = -149.493\n",
            "\n",
            "iter   55   |   V(healthy) = 59.817   V(available) = 59.086   V(wear&tear) = 55.257   V(absorbing) = -149.544\n",
            "\n",
            "iter   56   |   V(healthy) = 59.836   V(available) = 59.104   V(wear&tear) = 55.275   V(absorbing) = -149.589\n",
            "\n",
            "iter   57   |   V(healthy) = 59.852   V(available) = 59.120   V(wear&tear) = 55.291   V(absorbing) = -149.630\n",
            "\n",
            "iter   58   |   V(healthy) = 59.867   V(available) = 59.135   V(wear&tear) = 55.306   V(absorbing) = -149.667\n",
            "\n",
            "iter   59   |   V(healthy) = 59.880   V(available) = 59.148   V(wear&tear) = 55.320   V(absorbing) = -149.700\n",
            "\n",
            "iter   60   |   V(healthy) = 59.892   V(available) = 59.160   V(wear&tear) = 55.332   V(absorbing) = -149.730\n",
            "\n",
            "iter   61   |   V(healthy) = 59.903   V(available) = 59.171   V(wear&tear) = 55.342   V(absorbing) = -149.757\n",
            "\n",
            "iter   62   |   V(healthy) = 59.913   V(available) = 59.181   V(wear&tear) = 55.352   V(absorbing) = -149.782\n",
            "\n",
            "iter   63   |   V(healthy) = 59.921   V(available) = 59.190   V(wear&tear) = 55.361   V(absorbing) = -149.803\n",
            "\n",
            "iter   64   |   V(healthy) = 59.929   V(available) = 59.198   V(wear&tear) = 55.369   V(absorbing) = -149.823\n",
            "\n",
            "iter   65   |   V(healthy) = 59.936   V(available) = 59.205   V(wear&tear) = 55.376   V(absorbing) = -149.841\n",
            "\n",
            "iter   66   |   V(healthy) = 59.943   V(available) = 59.211   V(wear&tear) = 55.382   V(absorbing) = -149.857\n",
            "\n",
            "iter   67   |   V(healthy) = 59.948   V(available) = 59.217   V(wear&tear) = 55.388   V(absorbing) = -149.871\n",
            "\n",
            "iter   68   |   V(healthy) = 59.954   V(available) = 59.222   V(wear&tear) = 55.393   V(absorbing) = -149.884\n",
            "\n",
            "iter   69   |   V(healthy) = 59.958   V(available) = 59.227   V(wear&tear) = 55.398   V(absorbing) = -149.896\n",
            "\n",
            "iter   70   |   V(healthy) = 59.962   V(available) = 59.231   V(wear&tear) = 55.402   V(absorbing) = -149.906\n",
            "\n",
            "iter   71   |   V(healthy) = 59.966   V(available) = 59.234   V(wear&tear) = 55.406   V(absorbing) = -149.915\n",
            "\n",
            "iter   72   |   V(healthy) = 59.970   V(available) = 59.238   V(wear&tear) = 55.409   V(absorbing) = -149.924\n",
            "\n",
            "iter   73   |   V(healthy) = 59.973   V(available) = 59.241   V(wear&tear) = 55.412   V(absorbing) = -149.931\n",
            "\n",
            "iter   74   |   V(healthy) = 59.975   V(available) = 59.244   V(wear&tear) = 55.415   V(absorbing) = -149.938\n",
            "\n",
            "iter   75   |   V(healthy) = 59.978   V(available) = 59.246   V(wear&tear) = 55.417   V(absorbing) = -149.945\n",
            "\n",
            "iter   76   |   V(healthy) = 59.980   V(available) = 59.248   V(wear&tear) = 55.419   V(absorbing) = -149.950\n",
            "\n",
            "iter   77   |   V(healthy) = 59.982   V(available) = 59.250   V(wear&tear) = 55.421   V(absorbing) = -149.955\n",
            "\n",
            "iter   78   |   V(healthy) = 59.984   V(available) = 59.252   V(wear&tear) = 55.423   V(absorbing) = -149.960\n",
            "\n",
            "iter   79   |   V(healthy) = 59.985   V(available) = 59.254   V(wear&tear) = 55.425   V(absorbing) = -149.964\n",
            "\n",
            "iter   80   |   V(healthy) = 59.987   V(available) = 59.255   V(wear&tear) = 55.426   V(absorbing) = -149.967\n",
            "\n",
            "iter   81   |   V(healthy) = 59.988   V(available) = 59.256   V(wear&tear) = 55.428   V(absorbing) = -149.971\n",
            "\n",
            "iter   82   |   V(healthy) = 59.989   V(available) = 59.258   V(wear&tear) = 55.429   V(absorbing) = -149.973\n",
            "\n",
            "iter   83   |   V(healthy) = 59.990   V(available) = 59.259   V(wear&tear) = 55.430   V(absorbing) = -149.976\n",
            "\n",
            "iter   84   |   V(healthy) = 59.991   V(available) = 59.260   V(wear&tear) = 55.431   V(absorbing) = -149.978\n",
            "\n",
            "iter   85   |   V(healthy) = 59.992   V(available) = 59.261   V(wear&tear) = 55.432   V(absorbing) = -149.981\n",
            "\n",
            "iter   86   |   V(healthy) = 59.993   V(available) = 59.261   V(wear&tear) = 55.432   V(absorbing) = -149.983\n",
            "\n",
            "iter   87   |   V(healthy) = 59.994   V(available) = 59.262   V(wear&tear) = 55.433   V(absorbing) = -149.984\n",
            "\n",
            "iter   88   |   V(healthy) = 59.994   V(available) = 59.263   V(wear&tear) = 55.434   V(absorbing) = -149.986\n",
            "\n",
            "iter   89   |   V(healthy) = 59.995   V(available) = 59.263   V(wear&tear) = 55.434   V(absorbing) = -149.987\n",
            "\n",
            "iter   90   |   V(healthy) = 59.995   V(available) = 59.264   V(wear&tear) = 55.435   V(absorbing) = -149.989\n",
            "\n",
            "iter   91   |   V(healthy) = 59.996   V(available) = 59.264   V(wear&tear) = 55.435   V(absorbing) = -149.990\n",
            "\n",
            "iter   92   |   V(healthy) = 59.996   V(available) = 59.265   V(wear&tear) = 55.436   V(absorbing) = -149.991\n",
            "\n",
            "Terminated\n"
          ]
        },
        {
          "output_type": "display_data",
          "data": {
            "text/plain": [
              "<graphviz.dot.Digraph at 0x7fed0f8c8880>"
            ],
            "image/svg+xml": "<?xml version=\"1.0\" encoding=\"UTF-8\" standalone=\"no\"?>\n<!DOCTYPE svg PUBLIC \"-//W3C//DTD SVG 1.1//EN\"\n \"http://www.w3.org/Graphics/SVG/1.1/DTD/svg11.dtd\">\n<!-- Generated by graphviz version 2.40.1 (20161225.0304)\n -->\n<!-- Title: MDP Pages: 1 -->\n<svg width=\"1440pt\" height=\"391pt\"\n viewBox=\"0.00 0.00 1440.00 391.08\" xmlns=\"http://www.w3.org/2000/svg\" xmlns:xlink=\"http://www.w3.org/1999/xlink\">\n<g id=\"graph0\" class=\"graph\" transform=\"scale(.5895 .5895) rotate(0) translate(4 659.4437)\">\n<title>MDP</title>\n<polygon fill=\"#ffffff\" stroke=\"transparent\" points=\"-4,4 -4,-659.4437 2438.8683,-659.4437 2438.8683,4 -4,4\"/>\n<!-- healthy -->\n<g id=\"node1\" class=\"node\">\n<title>healthy</title>\n<ellipse fill=\"#ded6f5\" stroke=\"#ded6f5\" cx=\"75.4178\" cy=\"-208.4437\" rx=\"71.34\" ry=\"71.34\"/>\n<ellipse fill=\"none\" stroke=\"#ded6f5\" cx=\"75.4178\" cy=\"-208.4437\" rx=\"75.3357\" ry=\"75.3357\"/>\n<text text-anchor=\"middle\" x=\"75.4178\" y=\"-215.2437\" font-family=\"Arial\" font-size=\"24.00\" fill=\"#000000\">healthy</text>\n<text text-anchor=\"middle\" x=\"75.4178\" y=\"-189.2437\" font-family=\"Arial\" font-size=\"24.00\" fill=\"#000000\">V =59.9</text>\n</g>\n<!-- healthy&#45;process -->\n<g id=\"node2\" class=\"node\">\n<title>healthy&#45;process</title>\n<ellipse fill=\"#f5d6ed\" stroke=\"#f5d6ed\" cx=\"382.5965\" cy=\"-376.4437\" rx=\"62.8651\" ry=\"62.8651\"/>\n<text text-anchor=\"middle\" x=\"382.5965\" y=\"-371.4437\" font-family=\"Arial\" font-size=\"20.00\" fill=\"#000000\">process</text>\n</g>\n<!-- healthy&#45;&gt;healthy&#45;process -->\n<g id=\"edge1\" class=\"edge\">\n<title>healthy&#45;&gt;healthy&#45;process</title>\n<path fill=\"none\" stroke=\"#d248af\" stroke-width=\"2\" d=\"M119.6986,-269.8343C133.5545,-286.7191 150.1718,-303.5931 168.8356,-315.4437 211.312,-342.4141 266.6788,-355.3968 310.4206,-362.8724\"/>\n<polygon fill=\"#d248af\" stroke=\"#d248af\" stroke-width=\"2\" points=\"309.9826,-366.3474 320.4192,-364.523 311.1229,-359.4408 309.9826,-366.3474\"/>\n</g>\n<!-- healthy&#45;maintain -->\n<g id=\"node6\" class=\"node\">\n<title>healthy&#45;maintain</title>\n<ellipse fill=\"#f5d6ed\" stroke=\"#f5d6ed\" cx=\"382.5965\" cy=\"-229.4437\" rx=\"65.5227\" ry=\"65.5227\"/>\n<text text-anchor=\"middle\" x=\"382.5965\" y=\"-224.4437\" font-family=\"Arial\" font-size=\"20.00\" fill=\"#000000\">maintain</text>\n</g>\n<!-- healthy&#45;&gt;healthy&#45;maintain -->\n<g id=\"edge10\" class=\"edge\">\n<title>healthy&#45;&gt;healthy&#45;maintain</title>\n<path fill=\"none\" stroke=\"#d248af\" stroke-width=\"2\" d=\"M150.9556,-207.7013C198.5364,-209.8277 259.7285,-214.0127 307.2691,-218.3925\"/>\n<polygon fill=\"#d248af\" stroke=\"#d248af\" stroke-width=\"2\" points=\"307.218,-221.9032 317.5028,-219.3591 307.8762,-214.9342 307.218,-221.9032\"/>\n</g>\n<!-- healthy&#45;process&#45;&gt;healthy -->\n<g id=\"edge2\" class=\"edge\">\n<title>healthy&#45;process&#45;&gt;healthy</title>\n<path fill=\"none\" stroke=\"#6c48d2\" stroke-dasharray=\"5,2\" d=\"M337.7844,-332.088C325.7444,-321.5424 312.3086,-310.9081 298.8356,-302.4437 273.7929,-286.7107 208.8961,-259.9162 155.4598,-238.9502\"/>\n<polygon fill=\"#6c48d2\" stroke=\"#6c48d2\" points=\"156.5577,-235.6215 145.9697,-235.2404 154.0091,-242.1411 156.5577,-235.6215\"/>\n<text text-anchor=\"middle\" x=\"233.8356\" y=\"-307.6437\" font-family=\"Arial\" font-size=\"16.00\" fill=\"#000000\">p = 0.7 &#160;reward =6</text>\n</g>\n<!-- healthy&#45;process&#45;&gt;healthy -->\n<g id=\"edge3\" class=\"edge\">\n<title>healthy&#45;process&#45;&gt;healthy</title>\n<path fill=\"none\" stroke=\"#6c48d2\" stroke-dasharray=\"5,2\" d=\"M319.4654,-379.3628C274.5275,-375.1532 214.2983,-362.3102 168.8356,-333.4437 148.8757,-320.7702 131.2564,-302.3513 116.8521,-283.4979\"/>\n<polygon fill=\"#6c48d2\" stroke=\"#6c48d2\" points=\"119.6337,-281.3727 110.8782,-275.4068 114.0023,-285.5306 119.6337,-281.3727\"/>\n</g>\n<!-- available -->\n<g id=\"node3\" class=\"node\">\n<title>available</title>\n<ellipse fill=\"#ded6f5\" stroke=\"#ded6f5\" cx=\"697.5534\" cy=\"-315.4437\" rx=\"79.3829\" ry=\"79.3829\"/>\n<ellipse fill=\"none\" stroke=\"#ded6f5\" cx=\"697.5534\" cy=\"-315.4437\" rx=\"83.3924\" ry=\"83.3924\"/>\n<text text-anchor=\"middle\" x=\"697.5534\" y=\"-322.2437\" font-family=\"Arial\" font-size=\"24.00\" fill=\"#000000\">available</text>\n<text text-anchor=\"middle\" x=\"697.5534\" y=\"-296.2437\" font-family=\"Arial\" font-size=\"24.00\" fill=\"#000000\">V =59.2</text>\n</g>\n<!-- healthy&#45;process&#45;&gt;available -->\n<g id=\"edge4\" class=\"edge\">\n<title>healthy&#45;process&#45;&gt;available</title>\n<path fill=\"none\" stroke=\"#6c48d2\" stroke-dasharray=\"5,2\" d=\"M440.5501,-351.4228C449.0915,-348.3786 457.8724,-345.5914 466.3574,-343.4437 511.0803,-332.1234 561.8655,-325.3318 604.4242,-321.2808\"/>\n<polygon fill=\"#6c48d2\" stroke=\"#6c48d2\" points=\"604.8548,-324.7561 614.4938,-320.3585 604.2162,-317.7853 604.8548,-324.7561\"/>\n<text text-anchor=\"middle\" x=\"531.3574\" y=\"-348.6437\" font-family=\"Arial\" font-size=\"16.00\" fill=\"#000000\">p = 0.2 &#160;reward =3</text>\n</g>\n<!-- healthy&#45;process&#45;&gt;available -->\n<g id=\"edge5\" class=\"edge\">\n<title>healthy&#45;process&#45;&gt;available</title>\n<path fill=\"none\" stroke=\"#6c48d2\" stroke-dasharray=\"5,2\" d=\"M445.7272,-377.8596C488.7863,-377.4115 546.7734,-374.0174 596.3574,-361.4437 602.0498,-360.0002 607.8187,-358.2499 613.5655,-356.2862\"/>\n<polygon fill=\"#6c48d2\" stroke=\"#6c48d2\" points=\"614.9889,-359.4932 623.1988,-352.7964 612.6046,-352.9118 614.9889,-359.4932\"/>\n</g>\n<!-- wear&amp;tear -->\n<g id=\"node4\" class=\"node\">\n<title>wear&amp;tear</title>\n<ellipse fill=\"#ded6f5\" stroke=\"#ded6f5\" cx=\"1353.0738\" cy=\"-331.4437\" rx=\"89.6139\" ry=\"89.6139\"/>\n<ellipse fill=\"none\" stroke=\"#ded6f5\" cx=\"1353.0738\" cy=\"-331.4437\" rx=\"93.6055\" ry=\"93.6055\"/>\n<text text-anchor=\"middle\" x=\"1353.0738\" y=\"-338.2437\" font-family=\"Arial\" font-size=\"24.00\" fill=\"#000000\">wear&amp;tear</text>\n<text text-anchor=\"middle\" x=\"1353.0738\" y=\"-312.2437\" font-family=\"Arial\" font-size=\"24.00\" fill=\"#000000\">V =55.4</text>\n</g>\n<!-- healthy&#45;process&#45;&gt;wear&amp;tear -->\n<g id=\"edge6\" class=\"edge\">\n<title>healthy&#45;process&#45;&gt;wear&amp;tear</title>\n<path fill=\"none\" stroke=\"#6c48d2\" stroke-dasharray=\"5,2\" d=\"M397.4899,-437.982C409.6456,-473.7328 430.804,-515.8633 466.3574,-537.4437 503.1593,-559.7818 1204.275,-559.4584 1241.2712,-537.4437 1280.5258,-514.085 1306.8518,-471.6019 1324.0395,-431.2578\"/>\n<polygon fill=\"#6c48d2\" stroke=\"#6c48d2\" points=\"1327.3299,-432.4589 1327.8915,-421.879 1320.8547,-429.7995 1327.3299,-432.4589\"/>\n<text text-anchor=\"middle\" x=\"863.7494\" y=\"-558.6437\" font-family=\"Arial\" font-size=\"16.00\" fill=\"#000000\">p = 0.1 &#160;reward =1</text>\n</g>\n<!-- healthy&#45;process&#45;&gt;wear&amp;tear -->\n<g id=\"edge7\" class=\"edge\">\n<title>healthy&#45;process&#45;&gt;wear&amp;tear</title>\n<path fill=\"none\" stroke=\"#6c48d2\" stroke-dasharray=\"5,2\" d=\"M441.4481,-399.014C521.0834,-428.3487 668.2295,-478.3148 798.7494,-499.4437 929.3557,-520.5866 963.9833,-507.2211 1096.2712,-509.4437 1160.7066,-510.5262 1184.8706,-540.6215 1241.2712,-509.4437 1273.5298,-491.6114 1297.7374,-460.1417 1315.2253,-428.5717\"/>\n<polygon fill=\"#6c48d2\" stroke=\"#6c48d2\" points=\"1318.3529,-430.145 1319.9807,-419.676 1312.1796,-426.8449 1318.3529,-430.145\"/>\n</g>\n<!-- absorbing -->\n<g id=\"node5\" class=\"node\">\n<title>absorbing</title>\n<ellipse fill=\"#ded6f5\" stroke=\"#ded6f5\" cx=\"2031.3723\" cy=\"-375.4437\" rx=\"86.9494\" ry=\"86.9494\"/>\n<ellipse fill=\"none\" stroke=\"#ded6f5\" cx=\"2031.3723\" cy=\"-375.4437\" rx=\"90.9483\" ry=\"90.9483\"/>\n<text text-anchor=\"middle\" x=\"2031.3723\" y=\"-382.2437\" font-family=\"Arial\" font-size=\"24.00\" fill=\"#000000\">absorbing</text>\n<text text-anchor=\"middle\" x=\"2031.3723\" y=\"-356.2437\" font-family=\"Arial\" font-size=\"24.00\" fill=\"#000000\">V =&#45;149</text>\n</g>\n<!-- healthy&#45;process&#45;&gt;absorbing -->\n<g id=\"edge8\" class=\"edge\">\n<title>healthy&#45;process&#45;&gt;absorbing</title>\n<path fill=\"none\" stroke=\"#6c48d2\" stroke-dasharray=\"5,2\" d=\"M396.4538,-437.976C411.8588,-500.5396 438.2906,-591.3326 466.3574,-613.4437 547.5065,-677.3729 594.2475,-637.4437 697.5534,-637.4437 697.5534,-637.4437 697.5534,-637.4437 1693.6373,-637.4437 1795.8668,-637.4437 1839.3727,-673.0896 1922.3982,-613.4437 1967.8987,-580.7559 1994.848,-524.3569 2010.5615,-474.6644\"/>\n<polygon fill=\"#6c48d2\" stroke=\"#6c48d2\" points=\"2013.9929,-475.4102 2013.5565,-464.8243 2007.2963,-473.3718 2013.9929,-475.4102\"/>\n<text text-anchor=\"middle\" x=\"1168.7712\" y=\"-642.6437\" font-family=\"Arial\" font-size=\"16.00\" fill=\"#000000\">p = 0.0 &#160;reward =&#45;15</text>\n</g>\n<!-- healthy&#45;process&#45;&gt;absorbing -->\n<g id=\"edge9\" class=\"edge\">\n<title>healthy&#45;process&#45;&gt;absorbing</title>\n<path fill=\"none\" stroke=\"#6c48d2\" stroke-dasharray=\"5,2\" d=\"M395.619,-438.1587C407.3343,-478.2546 428.7035,-528.3083 466.3574,-557.4437 548.9541,-621.3543 593.1179,-599.4437 697.5534,-599.4437 697.5534,-599.4437 697.5534,-599.4437 1693.6373,-599.4437 1802.5419,-599.4437 1903.2203,-517.555 1965.8074,-452.8019\"/>\n<polygon fill=\"#6c48d2\" stroke=\"#6c48d2\" points=\"1968.5014,-455.0485 1972.8722,-445.3973 1963.4368,-450.2164 1968.5014,-455.0485\"/>\n</g>\n<!-- available&#45;process -->\n<g id=\"node7\" class=\"node\">\n<title>available&#45;process</title>\n<ellipse fill=\"#f5d6ed\" stroke=\"#f5d6ed\" cx=\"1012.5103\" cy=\"-356.4437\" rx=\"62.8651\" ry=\"62.8651\"/>\n<text text-anchor=\"middle\" x=\"1012.5103\" y=\"-351.4437\" font-family=\"Arial\" font-size=\"20.00\" fill=\"#000000\">process</text>\n</g>\n<!-- available&#45;&gt;available&#45;process -->\n<g id=\"edge13\" class=\"edge\">\n<title>available&#45;&gt;available&#45;process</title>\n<path fill=\"none\" stroke=\"#d248af\" stroke-width=\"2\" d=\"M780.7711,-313.4305C824.8967,-316.2 879.9329,-321.7951 928.7494,-329.4437 933.548,-330.1955 938.4854,-331.0485 943.4481,-331.9832\"/>\n<polygon fill=\"#d248af\" stroke=\"#d248af\" stroke-width=\"2\" points=\"943.1428,-335.491 953.6337,-334.0103 944.5093,-328.6256 943.1428,-335.491\"/>\n</g>\n<!-- available&#45;maintain -->\n<g id=\"node8\" class=\"node\">\n<title>available&#45;maintain</title>\n<ellipse fill=\"#f5d6ed\" stroke=\"#f5d6ed\" cx=\"1012.5103\" cy=\"-171.4437\" rx=\"65.5227\" ry=\"65.5227\"/>\n<text text-anchor=\"middle\" x=\"1012.5103\" y=\"-166.4437\" font-family=\"Arial\" font-size=\"20.00\" fill=\"#000000\">maintain</text>\n</g>\n<!-- available&#45;&gt;available&#45;maintain -->\n<g id=\"edge20\" class=\"edge\">\n<title>available&#45;&gt;available&#45;maintain</title>\n<path fill=\"none\" stroke=\"#d248af\" stroke-width=\"2\" d=\"M762.2819,-262.9117C774.1682,-255.5391 786.6482,-248.4546 798.7494,-242.4437 824.0457,-229.8785 887.4591,-206.4985 938.6911,-189.7998\"/>\n<polygon fill=\"#d248af\" stroke=\"#d248af\" stroke-width=\"2\" points=\"939.9881,-193.0592 948.4315,-186.6591 937.8399,-186.3969 939.9881,-193.0592\"/>\n</g>\n<!-- wear&amp;tear&#45;process -->\n<g id=\"node9\" class=\"node\">\n<title>wear&amp;tear&#45;process</title>\n<ellipse fill=\"#f5d6ed\" stroke=\"#f5d6ed\" cx=\"1693.6373\" cy=\"-376.4437\" rx=\"62.8651\" ry=\"62.8651\"/>\n<text text-anchor=\"middle\" x=\"1693.6373\" y=\"-371.4437\" font-family=\"Arial\" font-size=\"20.00\" fill=\"#000000\">process</text>\n</g>\n<!-- wear&amp;tear&#45;&gt;wear&amp;tear&#45;process -->\n<g id=\"edge25\" class=\"edge\">\n<title>wear&amp;tear&#45;&gt;wear&amp;tear&#45;process</title>\n<path fill=\"none\" stroke=\"#d248af\" stroke-width=\"2\" d=\"M1446.6008,-341.5359C1452.7748,-342.5719 1458.908,-343.5584 1464.8763,-344.4437 1517.1845,-352.2022 1576.6176,-358.0902 1621.7927,-363.2132\"/>\n<polygon fill=\"#d248af\" stroke=\"#d248af\" stroke-width=\"2\" points=\"1621.4541,-366.6972 1631.7886,-364.3629 1622.2541,-359.7431 1621.4541,-366.6972\"/>\n</g>\n<!-- wear&amp;tear&#45;maintain -->\n<g id=\"node10\" class=\"node\">\n<title>wear&amp;tear&#45;maintain</title>\n<ellipse fill=\"#f5d6ed\" stroke=\"#f5d6ed\" cx=\"1693.6373\" cy=\"-77.4437\" rx=\"65.5227\" ry=\"65.5227\"/>\n<text text-anchor=\"middle\" x=\"1693.6373\" y=\"-72.4437\" font-family=\"Arial\" font-size=\"20.00\" fill=\"#000000\">maintain</text>\n</g>\n<!-- wear&amp;tear&#45;&gt;wear&amp;tear&#45;maintain -->\n<g id=\"edge32\" class=\"edge\">\n<title>wear&amp;tear&#45;&gt;wear&amp;tear&#45;maintain</title>\n<path fill=\"none\" stroke=\"#d248af\" stroke-width=\"2\" d=\"M1444.6563,-310.6934C1507.8401,-298.34 1584.7998,-281.4868 1609.8763,-260.4437 1642.9933,-232.6534 1663.4153,-189.2712 1675.7913,-151.6713\"/>\n<polygon fill=\"#d248af\" stroke=\"#d248af\" stroke-width=\"2\" points=\"1679.2519,-152.3347 1678.9197,-141.7451 1672.5756,-150.2305 1679.2519,-152.3347\"/>\n</g>\n<!-- absorbing&#45;process -->\n<g id=\"node11\" class=\"node\">\n<title>absorbing&#45;process</title>\n<ellipse fill=\"#f5d6ed\" stroke=\"#f5d6ed\" cx=\"2369.1074\" cy=\"-444.4437\" rx=\"62.8651\" ry=\"62.8651\"/>\n<text text-anchor=\"middle\" x=\"2369.1074\" y=\"-439.4437\" font-family=\"Arial\" font-size=\"20.00\" fill=\"#000000\">process</text>\n</g>\n<!-- absorbing&#45;&gt;absorbing&#45;process -->\n<g id=\"edge39\" class=\"edge\">\n<title>absorbing&#45;&gt;absorbing&#45;process</title>\n<path fill=\"none\" stroke=\"#d248af\" stroke-width=\"2\" d=\"M2118.1015,-403.9381C2125.5438,-406.3754 2133.0251,-408.6031 2140.3465,-410.4437 2191.6776,-423.3486 2251.1449,-429.5921 2296.5804,-433.86\"/>\n<polygon fill=\"#d248af\" stroke=\"#d248af\" stroke-width=\"2\" points=\"2296.3575,-437.3543 2306.639,-434.7965 2297.0065,-430.3844 2296.3575,-437.3543\"/>\n</g>\n<!-- absorbing&#45;maintain -->\n<g id=\"node12\" class=\"node\">\n<title>absorbing&#45;maintain</title>\n<ellipse fill=\"#f5d6ed\" stroke=\"#f5d6ed\" cx=\"2369.1074\" cy=\"-297.4437\" rx=\"65.5227\" ry=\"65.5227\"/>\n<text text-anchor=\"middle\" x=\"2369.1074\" y=\"-292.4437\" font-family=\"Arial\" font-size=\"20.00\" fill=\"#000000\">maintain</text>\n</g>\n<!-- absorbing&#45;&gt;absorbing&#45;maintain -->\n<g id=\"edge42\" class=\"edge\">\n<title>absorbing&#45;&gt;absorbing&#45;maintain</title>\n<path fill=\"none\" stroke=\"#d248af\" stroke-width=\"2\" d=\"M2120.4395,-355.5067C2169.5772,-346.8148 2231.3939,-335.4948 2285.3465,-320.4437 2288.7483,-319.4947 2292.2051,-318.4625 2295.6803,-317.3757\"/>\n<polygon fill=\"#d248af\" stroke=\"#d248af\" stroke-width=\"2\" points=\"2297.0611,-320.6074 2305.4926,-314.1918 2294.9006,-313.9491 2297.0611,-320.6074\"/>\n</g>\n<!-- healthy&#45;maintain&#45;&gt;healthy -->\n<g id=\"edge11\" class=\"edge\">\n<title>healthy&#45;maintain&#45;&gt;healthy</title>\n<path fill=\"none\" stroke=\"#6c48d2\" stroke-dasharray=\"5,2\" d=\"M323.1571,-200.4569C315.1398,-197.5731 306.8972,-195.1027 298.8356,-193.4437 253.3616,-184.0853 201.6934,-186.7229 159.5066,-192.2006\"/>\n<polygon fill=\"#6c48d2\" stroke=\"#6c48d2\" points=\"158.982,-188.7397 149.5513,-193.5681 159.9346,-195.6746 158.982,-188.7397\"/>\n<text text-anchor=\"middle\" x=\"233.8356\" y=\"-198.6437\" font-family=\"Arial\" font-size=\"16.00\" fill=\"#000000\">p = 1.0 &#160;reward =6</text>\n</g>\n<!-- healthy&#45;maintain&#45;&gt;healthy -->\n<g id=\"edge12\" class=\"edge\">\n<title>healthy&#45;maintain&#45;&gt;healthy</title>\n<path fill=\"none\" stroke=\"#6c48d2\" stroke-dasharray=\"5,2\" d=\"M316.6618,-230.5945C270.9158,-228.7531 209.5747,-224.7093 160.1957,-220.3472\"/>\n<polygon fill=\"#6c48d2\" stroke=\"#6c48d2\" points=\"160.4437,-216.8554 150.1694,-219.4417 159.814,-223.827 160.4437,-216.8554\"/>\n</g>\n<!-- available&#45;process&#45;&gt;available -->\n<g id=\"edge14\" class=\"edge\">\n<title>available&#45;process&#45;&gt;available</title>\n<path fill=\"none\" stroke=\"#6c48d2\" stroke-dasharray=\"5,2\" d=\"M949.6456,-351.8843C906.955,-348.3922 849.2891,-342.9024 798.7494,-335.4437 795.5603,-334.973 792.3195,-334.4697 789.0499,-333.9406\"/>\n<polygon fill=\"#6c48d2\" stroke=\"#6c48d2\" points=\"789.6192,-330.4873 779.1777,-332.2829 788.46,-337.3906 789.6192,-330.4873\"/>\n<text text-anchor=\"middle\" x=\"863.7494\" y=\"-354.6437\" font-family=\"Arial\" font-size=\"16.00\" fill=\"#000000\">p = 0.6 &#160;reward =3</text>\n</g>\n<!-- available&#45;process&#45;&gt;available -->\n<g id=\"edge15\" class=\"edge\">\n<title>available&#45;process&#45;&gt;available</title>\n<path fill=\"none\" stroke=\"#6c48d2\" stroke-dasharray=\"5,2\" d=\"M949.5364,-351.0641C942.5436,-349.7624 935.5088,-348.5028 928.7494,-347.4437 883.1871,-340.3049 832.2067,-334.955 789.7359,-330.4183\"/>\n<polygon fill=\"#6c48d2\" stroke=\"#6c48d2\" points=\"790.0087,-326.9276 779.6927,-329.3423 789.263,-333.8877 790.0087,-326.9276\"/>\n</g>\n<!-- available&#45;process&#45;&gt;wear&amp;tear -->\n<g id=\"edge16\" class=\"edge\">\n<title>available&#45;process&#45;&gt;wear&amp;tear</title>\n<path fill=\"none\" stroke=\"#6c48d2\" stroke-dasharray=\"5,2\" d=\"M1075.3718,-351.8292C1124.0532,-348.2556 1192.5327,-343.2286 1249.3073,-339.0609\"/>\n<polygon fill=\"#6c48d2\" stroke=\"#6c48d2\" points=\"1249.6835,-342.5428 1259.4004,-338.32 1249.1709,-335.5616 1249.6835,-342.5428\"/>\n<text text-anchor=\"middle\" x=\"1168.7712\" y=\"-354.6437\" font-family=\"Arial\" font-size=\"16.00\" fill=\"#000000\">p = 0.3 &#160;reward =1</text>\n</g>\n<!-- available&#45;process&#45;&gt;wear&amp;tear -->\n<g id=\"edge17\" class=\"edge\">\n<title>available&#45;process&#45;&gt;wear&amp;tear</title>\n<path fill=\"none\" stroke=\"#6c48d2\" stroke-dasharray=\"5,2\" d=\"M1074.5795,-344.3426C1081.8706,-343.2138 1089.2215,-342.2085 1096.2712,-341.4437 1146.3779,-336.0079 1202.266,-333.4222 1249.0772,-332.2297\"/>\n<polygon fill=\"#6c48d2\" stroke=\"#6c48d2\" points=\"1249.3149,-335.7252 1259.2291,-331.9891 1249.149,-328.7271 1249.3149,-335.7252\"/>\n</g>\n<!-- available&#45;process&#45;&gt;absorbing -->\n<g id=\"edge18\" class=\"edge\">\n<title>available&#45;process&#45;&gt;absorbing</title>\n<path fill=\"none\" stroke=\"#6c48d2\" stroke-dasharray=\"5,2\" d=\"M1065.3945,-321.5908C1113.751,-291.5722 1188.3381,-249.8084 1259.2712,-228.4437 1408.7683,-183.4158 1456.5747,-176.8552 1609.8763,-206.4437 1729.6311,-229.5573 1858.5714,-286.4509 1941.8638,-327.8574\"/>\n<polygon fill=\"#6c48d2\" stroke=\"#6c48d2\" points=\"1940.5265,-331.1019 1951.0357,-332.4462 1943.6586,-324.8417 1940.5265,-331.1019\"/>\n<text text-anchor=\"middle\" x=\"1537.3763\" y=\"-211.6437\" font-family=\"Arial\" font-size=\"16.00\" fill=\"#000000\">p = 0.1 &#160;reward =&#45;15</text>\n</g>\n<!-- available&#45;process&#45;&gt;absorbing -->\n<g id=\"edge19\" class=\"edge\">\n<title>available&#45;process&#45;&gt;absorbing</title>\n<path fill=\"none\" stroke=\"#6c48d2\" stroke-dasharray=\"5,2\" d=\"M1056.0259,-310.8045C1064.1019,-300.9365 1071.9674,-290.2165 1078.2712,-279.4437 1089.9887,-259.4194 1079.2019,-246.157 1096.2712,-230.4437 1180.5646,-152.8467 1495.5833,-177.4568 1609.8763,-185.4437 1751.4932,-195.34 1802.0887,-176.0853 1922.3982,-251.4437 1940.2445,-262.6221 1956.8236,-277.5987 1971.3927,-293.2723\"/>\n<polygon fill=\"#6c48d2\" stroke=\"#6c48d2\" points=\"1969.0801,-295.9336 1978.3801,-301.0091 1974.275,-291.2419 1969.0801,-295.9336\"/>\n</g>\n<!-- available&#45;maintain&#45;&gt;healthy -->\n<g id=\"edge21\" class=\"edge\">\n<title>available&#45;maintain&#45;&gt;healthy</title>\n<path fill=\"none\" stroke=\"#6c48d2\" stroke-dasharray=\"5,2\" d=\"M948.2298,-157.0459C941.6769,-155.9845 935.0979,-155.0814 928.7494,-154.4437 658.1496,-127.2605 587.5255,-128.1732 316.8356,-154.4437 263.158,-159.6531 204.0552,-172.744 157.7637,-184.7313\"/>\n<polygon fill=\"#6c48d2\" stroke=\"#6c48d2\" points=\"156.8715,-181.3468 148.0866,-187.2693 158.6474,-188.1178 156.8715,-181.3468\"/>\n<text text-anchor=\"middle\" x=\"531.3574\" y=\"-146.6437\" font-family=\"Arial\" font-size=\"16.00\" fill=\"#000000\">p = 0.8 &#160;reward =6</text>\n</g>\n<!-- available&#45;maintain&#45;&gt;healthy -->\n<g id=\"edge22\" class=\"edge\">\n<title>available&#45;maintain&#45;&gt;healthy</title>\n<path fill=\"none\" stroke=\"#6c48d2\" stroke-dasharray=\"5,2\" d=\"M951.8656,-145.8227C944.1884,-143.3103 936.3572,-141.0878 928.7494,-139.4437 864.337,-125.5238 846.6183,-132.4446 780.7494,-130.4437 508.7211,-122.1802 427.7488,-69.589 168.8356,-153.4437 161.7576,-155.736 154.6379,-158.6319 147.6583,-161.8903\"/>\n<polygon fill=\"#6c48d2\" stroke=\"#6c48d2\" points=\"145.6634,-158.9717 138.2445,-166.5355 148.761,-165.2491 145.6634,-158.9717\"/>\n</g>\n<!-- available&#45;maintain&#45;&gt;available -->\n<g id=\"edge23\" class=\"edge\">\n<title>available&#45;maintain&#45;&gt;available</title>\n<path fill=\"none\" stroke=\"#6c48d2\" stroke-dasharray=\"5,2\" d=\"M947.5211,-159.8192C903.1039,-155.1211 844.2707,-155.4984 798.7494,-179.4437 775.6401,-191.5997 756.394,-211.6651 741.1091,-232.6975\"/>\n<polygon fill=\"#6c48d2\" stroke=\"#6c48d2\" points=\"738.0909,-230.9064 735.2318,-241.1081 743.8287,-234.916 738.0909,-230.9064\"/>\n<text text-anchor=\"middle\" x=\"863.7494\" y=\"-184.6437\" font-family=\"Arial\" font-size=\"16.00\" fill=\"#000000\">p = 0.2 &#160;reward =3</text>\n</g>\n<!-- available&#45;maintain&#45;&gt;available -->\n<g id=\"edge24\" class=\"edge\">\n<title>available&#45;maintain&#45;&gt;available</title>\n<path fill=\"none\" stroke=\"#6c48d2\" stroke-dasharray=\"5,2\" d=\"M952.8118,-199.1974C899.7525,-219.9948 826.4301,-246.6941 798.7494,-260.4437 792.4137,-263.5907 785.9742,-267.0321 779.5704,-270.6127\"/>\n<polygon fill=\"#6c48d2\" stroke=\"#6c48d2\" points=\"777.8299,-267.5761 770.8732,-275.5671 781.2948,-273.6584 777.8299,-267.5761\"/>\n</g>\n<!-- wear&amp;tear&#45;process&#45;&gt;available -->\n<g id=\"edge26\" class=\"edge\">\n<title>wear&amp;tear&#45;process&#45;&gt;available</title>\n<path fill=\"none\" stroke=\"#6c48d2\" stroke-dasharray=\"5,2\" d=\"M1658.5003,-428.9465C1645.2514,-444.2957 1628.7533,-459.1628 1609.8763,-467.4437 1527.3409,-503.6501 878.3201,-503.7698 798.7494,-461.4437 773.0533,-447.7752 752.5503,-424.3431 736.9036,-400.2035\"/>\n<polygon fill=\"#6c48d2\" stroke=\"#6c48d2\" points=\"739.8318,-398.2846 731.5711,-391.6504 733.8916,-401.988 739.8318,-398.2846\"/>\n<text text-anchor=\"middle\" x=\"1168.7712\" y=\"-498.6437\" font-family=\"Arial\" font-size=\"16.00\" fill=\"#000000\">p = 0.1 &#160;reward =3</text>\n</g>\n<!-- wear&amp;tear&#45;process&#45;&gt;available -->\n<g id=\"edge27\" class=\"edge\">\n<title>wear&amp;tear&#45;process&#45;&gt;available</title>\n<path fill=\"none\" stroke=\"#6c48d2\" stroke-dasharray=\"5,2\" d=\"M1633.2322,-394.768C1583.6956,-408.7907 1511.4654,-426.955 1446.8763,-434.4437 1226.0609,-460.0456 1164.8992,-471.1704 946.7494,-428.4437 887.2975,-416.7995 825.2365,-388.7135 777.9201,-363.457\"/>\n<polygon fill=\"#6c48d2\" stroke=\"#6c48d2\" points=\"779.4215,-360.29 768.96,-358.6142 776.0931,-366.4481 779.4215,-360.29\"/>\n</g>\n<!-- wear&amp;tear&#45;process&#45;&gt;wear&amp;tear -->\n<g id=\"edge28\" class=\"edge\">\n<title>wear&amp;tear&#45;process&#45;&gt;wear&amp;tear</title>\n<path fill=\"none\" stroke=\"#6c48d2\" stroke-dasharray=\"5,2\" d=\"M1640.2533,-342.8252C1630.4796,-338.1231 1620.1218,-334.0216 1609.8763,-331.4437 1560.5327,-319.0281 1504.1469,-317.6823 1456.8044,-320.004\"/>\n<polygon fill=\"#6c48d2\" stroke=\"#6c48d2\" points=\"1456.3272,-316.5249 1446.5356,-320.5713 1456.7135,-323.5142 1456.3272,-316.5249\"/>\n<text text-anchor=\"middle\" x=\"1537.3763\" y=\"-336.6437\" font-family=\"Arial\" font-size=\"16.00\" fill=\"#000000\">p = 0.5 &#160;reward =1</text>\n</g>\n<!-- wear&amp;tear&#45;process&#45;&gt;wear&amp;tear -->\n<g id=\"edge29\" class=\"edge\">\n<title>wear&amp;tear&#45;process&#45;&gt;wear&amp;tear</title>\n<path fill=\"none\" stroke=\"#6c48d2\" stroke-dasharray=\"5,2\" d=\"M1630.3255,-379.1848C1584.2911,-376.8397 1520.5484,-370.7011 1464.8763,-362.4437 1460.9703,-361.8643 1456.9937,-361.2416 1452.9812,-360.5814\"/>\n<polygon fill=\"#6c48d2\" stroke=\"#6c48d2\" points=\"1453.4002,-357.1023 1442.9533,-358.8669 1452.2204,-364.0022 1453.4002,-357.1023\"/>\n</g>\n<!-- wear&amp;tear&#45;process&#45;&gt;absorbing -->\n<g id=\"edge30\" class=\"edge\">\n<title>wear&amp;tear&#45;process&#45;&gt;absorbing</title>\n<path fill=\"none\" stroke=\"#6c48d2\" stroke-dasharray=\"5,2\" d=\"M1756.7665,-376.2568C1805.486,-376.1125 1873.854,-375.9101 1930.1832,-375.7433\"/>\n<polygon fill=\"#6c48d2\" stroke=\"#6c48d2\" points=\"1930.2028,-379.2433 1940.1924,-375.7137 1930.182,-372.2434 1930.2028,-379.2433\"/>\n<text text-anchor=\"middle\" x=\"1849.8982\" y=\"-380.6437\" font-family=\"Arial\" font-size=\"16.00\" fill=\"#000000\">p = 0.4 &#160;reward =&#45;15</text>\n</g>\n<!-- wear&amp;tear&#45;process&#45;&gt;absorbing -->\n<g id=\"edge31\" class=\"edge\">\n<title>wear&amp;tear&#45;process&#45;&gt;absorbing</title>\n<path fill=\"none\" stroke=\"#6c48d2\" stroke-dasharray=\"5,2\" d=\"M1756.7465,-373.9413C1763.7139,-373.7371 1770.7057,-373.5635 1777.3982,-373.4437 1827.713,-372.5429 1883.6419,-372.8428 1930.1797,-373.4518\"/>\n<polygon fill=\"#6c48d2\" stroke=\"#6c48d2\" points=\"1930.219,-376.9525 1940.2662,-373.5905 1930.3153,-369.9532 1930.219,-376.9525\"/>\n</g>\n<!-- wear&amp;tear&#45;maintain&#45;&gt;healthy -->\n<g id=\"edge33\" class=\"edge\">\n<title>wear&amp;tear&#45;maintain&#45;&gt;healthy</title>\n<path fill=\"none\" stroke=\"#6c48d2\" stroke-dasharray=\"5,2\" d=\"M1629.3161,-62.7119C1622.7712,-61.4862 1616.2052,-60.3659 1609.8763,-59.4437 1496.5927,-42.936 1467.5539,-39.4437 1353.0738,-39.4437 382.5965,-39.4437 382.5965,-39.4437 382.5965,-39.4437 281.6159,-39.4437 254.298,-62.6546 168.8356,-116.4437 156.3135,-124.3249 144.1278,-134.1351 132.9149,-144.3865\"/>\n<polygon fill=\"#6c48d2\" stroke=\"#6c48d2\" points=\"130.2007,-142.1346 125.3154,-151.5359 134.9971,-147.233 130.2007,-142.1346\"/>\n<text text-anchor=\"middle\" x=\"863.7494\" y=\"-44.6437\" font-family=\"Arial\" font-size=\"16.00\" fill=\"#000000\">p = 0.2 &#160;reward =6</text>\n</g>\n<!-- wear&amp;tear&#45;maintain&#45;&gt;healthy -->\n<g id=\"edge34\" class=\"edge\">\n<title>wear&amp;tear&#45;maintain&#45;&gt;healthy</title>\n<path fill=\"none\" stroke=\"#6c48d2\" stroke-dasharray=\"5,2\" d=\"M1634.9913,-47.5352C1626.7045,-44.0804 1618.1781,-40.9159 1609.8763,-38.4437 1499.3595,-5.5329 1468.3868,-1.4437 1353.0738,-1.4437 382.5965,-1.4437 382.5965,-1.4437 382.5965,-1.4437 285.5999,-1.4437 247.4002,11.4417 168.8356,-45.4437 140.5842,-65.8993 119.6346,-97.7078 104.8161,-127.8151\"/>\n<polygon fill=\"#6c48d2\" stroke=\"#6c48d2\" points=\"101.54,-126.5549 100.4129,-137.0896 107.8636,-129.5571 101.54,-126.5549\"/>\n</g>\n<!-- wear&amp;tear&#45;maintain&#45;&gt;available -->\n<g id=\"edge35\" class=\"edge\">\n<title>wear&amp;tear&#45;maintain&#45;&gt;available</title>\n<path fill=\"none\" stroke=\"#6c48d2\" stroke-dasharray=\"5,2\" d=\"M1628.7348,-88.4901C1622.3665,-89.5143 1615.9986,-90.515 1609.8763,-91.4437 1495.9894,-108.7182 1180.6495,-83.0284 1096.2712,-161.4437 1067.9847,-187.7312 1105.9748,-219.5426 1078.2712,-246.4437 1057.7878,-266.3337 896.592,-290.238 790.619,-304.0519\"/>\n<polygon fill=\"#6c48d2\" stroke=\"#6c48d2\" points=\"790.0102,-300.6015 780.5426,-305.3568 790.9093,-307.5435 790.0102,-300.6015\"/>\n<text text-anchor=\"middle\" x=\"1168.7712\" y=\"-166.6437\" font-family=\"Arial\" font-size=\"16.00\" fill=\"#000000\">p = 0.5 &#160;reward =3</text>\n</g>\n<!-- wear&amp;tear&#45;maintain&#45;&gt;available -->\n<g id=\"edge36\" class=\"edge\">\n<title>wear&amp;tear&#45;maintain&#45;&gt;available</title>\n<path fill=\"none\" stroke=\"#6c48d2\" stroke-dasharray=\"5,2\" d=\"M1628.1001,-71.5709C1497.087,-61.4771 1194.192,-46.4223 946.7494,-96.4437 877.5016,-110.4423 853.1659,-109.3876 798.7494,-154.4437 773.8533,-175.0573 753.1988,-203.4518 737.1829,-230.6608\"/>\n<polygon fill=\"#6c48d2\" stroke=\"#6c48d2\" points=\"734.0857,-229.026 732.1464,-239.4418 740.1578,-232.5087 734.0857,-229.026\"/>\n</g>\n<!-- wear&amp;tear&#45;maintain&#45;&gt;wear&amp;tear -->\n<g id=\"edge37\" class=\"edge\">\n<title>wear&amp;tear&#45;maintain&#45;&gt;wear&amp;tear</title>\n<path fill=\"none\" stroke=\"#6c48d2\" stroke-dasharray=\"5,2\" d=\"M1673.992,-140.5724C1660.8922,-172.0365 1640.365,-207.705 1609.8763,-228.4437 1556.1352,-264.9989 1525.0571,-222.8944 1464.8763,-247.4437 1453.8999,-251.9212 1443.0433,-257.7467 1432.6601,-264.2429\"/>\n<polygon fill=\"#6c48d2\" stroke=\"#6c48d2\" points=\"1430.5289,-261.4539 1424.0574,-269.8426 1434.3477,-267.3205 1430.5289,-261.4539\"/>\n<text text-anchor=\"middle\" x=\"1537.3763\" y=\"-252.6437\" font-family=\"Arial\" font-size=\"16.00\" fill=\"#000000\">p = 0.3 &#160;reward =1</text>\n</g>\n<!-- wear&amp;tear&#45;maintain&#45;&gt;wear&amp;tear -->\n<g id=\"edge38\" class=\"edge\">\n<title>wear&amp;tear&#45;maintain&#45;&gt;wear&amp;tear</title>\n<path fill=\"none\" stroke=\"#6c48d2\" stroke-dasharray=\"5,2\" d=\"M1682.8339,-142.6774C1671.7776,-187.4518 1650.2707,-244.5466 1609.8763,-278.4437 1586.4134,-298.1327 1517.5295,-314.1537 1457.007,-323.6965\"/>\n<polygon fill=\"#6c48d2\" stroke=\"#6c48d2\" points=\"1456.3418,-320.2574 1446.9862,-325.2295 1457.4005,-327.1769 1456.3418,-320.2574\"/>\n</g>\n<!-- absorbing&#45;process&#45;&gt;absorbing -->\n<g id=\"edge40\" class=\"edge\">\n<title>absorbing&#45;process&#45;&gt;absorbing</title>\n<path fill=\"none\" stroke=\"#6c48d2\" stroke-dasharray=\"5,2\" d=\"M2316.1017,-410.3245C2306.2026,-405.2358 2295.7045,-400.635 2285.3465,-397.4437 2257.3585,-388.8205 2190.4323,-383.2335 2132.3074,-379.8481\"/>\n<polygon fill=\"#6c48d2\" stroke=\"#6c48d2\" points=\"2132.4991,-376.3534 2122.3172,-379.2825 2132.1033,-383.3422 2132.4991,-376.3534\"/>\n<text text-anchor=\"middle\" x=\"2212.8465\" y=\"-402.6437\" font-family=\"Arial\" font-size=\"16.00\" fill=\"#000000\">p = 1.0 &#160;reward =&#45;15</text>\n</g>\n<!-- absorbing&#45;process&#45;&gt;absorbing -->\n<g id=\"edge41\" class=\"edge\">\n<title>absorbing&#45;process&#45;&gt;absorbing</title>\n<path fill=\"none\" stroke=\"#6c48d2\" stroke-dasharray=\"5,2\" d=\"M2306.1493,-449.6792C2259.733,-448.4549 2195.3661,-442.2759 2140.3465,-428.4437 2133.8986,-426.8226 2127.3265,-424.9014 2120.7664,-422.764\"/>\n<polygon fill=\"#6c48d2\" stroke=\"#6c48d2\" points=\"2121.774,-419.4097 2111.1794,-419.4877 2119.5103,-426.0336 2121.774,-419.4097\"/>\n</g>\n<!-- absorbing&#45;maintain&#45;&gt;absorbing -->\n<g id=\"edge43\" class=\"edge\">\n<title>absorbing&#45;maintain&#45;&gt;absorbing</title>\n<path fill=\"none\" stroke=\"#6c48d2\" stroke-dasharray=\"5,2\" d=\"M2303.5069,-291.5861C2256.9352,-289.51 2193.5025,-290.9549 2140.3465,-307.4437 2131.6654,-310.1365 2122.9863,-313.6955 2114.5286,-317.7767\"/>\n<polygon fill=\"#6c48d2\" stroke=\"#6c48d2\" points=\"2112.7758,-314.7414 2105.4483,-322.3938 2115.9486,-320.9811 2112.7758,-314.7414\"/>\n<text text-anchor=\"middle\" x=\"2212.8465\" y=\"-312.6437\" font-family=\"Arial\" font-size=\"16.00\" fill=\"#000000\">p = 1.0 &#160;reward =&#45;15</text>\n</g>\n<!-- absorbing&#45;maintain&#45;&gt;absorbing -->\n<g id=\"edge44\" class=\"edge\">\n<title>absorbing&#45;maintain&#45;&gt;absorbing</title>\n<path fill=\"none\" stroke=\"#6c48d2\" stroke-dasharray=\"5,2\" d=\"M2311.4484,-329.9693C2302.7866,-333.1504 2293.8933,-336.0594 2285.3465,-338.4437 2235.7858,-352.2696 2179.5892,-362.9472 2132.6803,-369.707\"/>\n<polygon fill=\"#6c48d2\" stroke=\"#6c48d2\" points=\"2131.9285,-366.278 2122.5107,-371.1314 2132.8996,-373.2103 2131.9285,-366.278\"/>\n</g>\n</g>\n</svg>\n"
          },
          "metadata": {}
        },
        {
          "output_type": "stream",
          "name": "stdout",
          "text": [
            "\n",
            "Final state values: {'healthy': 59.996668002796476, 'available': 59.26496068572331, 'wear&tear': 55.436026505970545, 'absorbing': -149.9916700069912}\n"
          ]
        }
      ]
    },
    {
      "cell_type": "code",
      "source": [
        "# 最佳策略\n",
        "print(\"Healthy:\", get_optimal_action(mdp, state_values, 'healthy', gamma=0.9))\n",
        "print(\"Available:\", get_optimal_action(mdp, state_values, 'available', gamma=0.9))\n",
        "print(\"Wear&tear:\", get_optimal_action(mdp, state_values, 'wear&tear', gamma=0.9))\n",
        "print(\"Damaged:\", get_optimal_action(mdp, state_values, 'damaged', gamma=0.9))"
      ],
      "metadata": {
        "colab": {
          "base_uri": "https://localhost:8080/"
        },
        "id": "Bat3aO_AWXiy",
        "outputId": "e310c4a4-8101-4f23-c1df-bda91cab1b6f"
      },
      "execution_count": 11,
      "outputs": [
        {
          "output_type": "stream",
          "name": "stdout",
          "text": [
            "Healthy: maintain\n",
            "Available: maintain\n",
            "Wear&tear: maintain\n",
            "Damaged: None\n"
          ]
        }
      ]
    },
    {
      "cell_type": "markdown",
      "metadata": {
        "id": "jGcMWGXlNBbH"
      },
      "source": [
        "###**(c) (10%) 使用策略迭代來決定最佳策略以及各個狀態的價值，假設初始策略為在所有狀態皆採取行動「加工」**\n"
      ]
    },
    {
      "cell_type": "code",
      "source": [
        "# Evaluation\n",
        "def compute_vpi(mdp, policy, gamma, num_iter=1000, min_difference=1e-5):\n",
        "    \"\"\"\n",
        "    Computes V^pi(s) FOR ALL STATES under given policy.\n",
        "    :param policy: a dict of currently chosen actions {s : a}\n",
        "    :returns: a dict {state : V^pi(state) for all states}\n",
        "    \"\"\"\n",
        "    index_s = {i: s for i, s in enumerate(mdp.get_all_states())}\n",
        "    s_index = {s: i for i, s in enumerate(mdp.get_all_states())}\n",
        "    \n",
        "    ns = len(mdp.get_all_states())\n",
        "    a, b = np.zeros((ns, ns)), np.zeros(ns)\n",
        "    for i in range(ns):\n",
        "        b_v = 0\n",
        "        state = index_s[i]\n",
        "        a[i][i] = 1 - mdp.get_transition_prob(state, policy[state], state) * gamma\n",
        "        for s_prime in mdp.get_next_states(state, policy[state]):\n",
        "            if s_prime == state: continue\n",
        "            a[i][s_index[s_prime]] = \\\n",
        "                -mdp.get_transition_prob(state, policy[state], s_prime) * gamma\n",
        "            b_v += mdp.get_transition_prob(state, policy[state], s_prime) *\\\n",
        "                mdp.get_reward(s_prime)\n",
        "        b[i] = b_v\n",
        "\n",
        "    solution = np.linalg.solve(a, b)\n",
        "    return {index_s[i]: v for i, v in enumerate(solution)}\n",
        "\n",
        "# Improvement\n",
        "def compute_new_policy(mdp, vpi, gamma):\n",
        "    \"\"\"\n",
        "    Computes new policy as argmax of state values\n",
        "    :param vpi: a dict {state : V^pi(state) for all states}\n",
        "    :returns: a dict {state : optimal action for all states}\n",
        "    \"\"\"\n",
        "    return {state: get_optimal_action(mdp, vpi, state, gamma) for state in mdp.get_all_states()}"
      ],
      "metadata": {
        "id": "_5gAbxx2y6KW"
      },
      "execution_count": 12,
      "outputs": []
    },
    {
      "cell_type": "code",
      "source": [
        "def policy_iteration(mdp, policy=None, gamma = 0.9, num_iter = 1000, min_difference = 1e-5):\n",
        "    \"\"\" \n",
        "    Run the policy iteration loop for num_iter iterations or till difference between V(s) is below min_difference.\n",
        "    If policy is not given, initialize it at random.\n",
        "    \"\"\"\n",
        "    if policy == None:\n",
        "        policy = {s: np.random.choice(mdp.get_possible_actions(s)) for s in mdp.get_all_states()}\n",
        "    assert type(policy) is dict, 'policy must be type dict'\n",
        "    vpi = {state: 0.0 for state in mdp.get_all_states()}\n",
        "    policy_stable = False\n",
        "    while not policy_stable:\n",
        "        print(\"====================== Policy Evaluation ======================\")\n",
        "        for i in range(num_iter):\n",
        "            new_vpi = compute_vpi(mdp, policy, gamma)\n",
        "            diff = max(abs(new_vpi[s]-vpi[s]) for s in mdp.get_all_states())\n",
        "            vpi = new_vpi\n",
        "            print('iter: {}, diff: {}'.format(i, diff))\n",
        "            if diff < min_difference:\n",
        "                break\n",
        "\n",
        "        print(\"====================== Policy Improvement ======================\")\n",
        "        old_policy = policy\n",
        "        policy = compute_new_policy(mdp, new_vpi, gamma)\n",
        "        policy_stable = old_policy == policy\n",
        "        if not policy_stable:\n",
        "            print(\"Policy is not stable yet, go back to Policy Evaluation\")\n",
        "        else:\n",
        "            print(\"Policy is stable :D\")\n",
        "            print(\"Optimal Q value:\", vpi)\n",
        "            print(\"Optimal Policy:\", policy)\n",
        "\n",
        "    return vpi, policy"
      ],
      "metadata": {
        "id": "nGbjheAVzBpt"
      },
      "execution_count": 13,
      "outputs": []
    },
    {
      "cell_type": "markdown",
      "source": [
        "#### **初始策略為「加工」**"
      ],
      "metadata": {
        "id": "mdVwbBFuy13_"
      }
    },
    {
      "cell_type": "code",
      "source": [
        "process_policy = {s: 'process' for s in mdp.get_all_states()}\n",
        "vpi_process, policy_process = policy_iteration(mdp, policy=process_policy, gamma=0.5, num_iter=1000, min_difference=1e-5)\n",
        "\n",
        "if has_graphviz:\n",
        "    display(plot_graph_with_state_values(mdp, vpi_process))"
      ],
      "metadata": {
        "colab": {
          "base_uri": "https://localhost:8080/",
          "height": 786
        },
        "id": "18-P99UJ7nA7",
        "outputId": "d998488a-dbc7-4b8c-fc67-5f760a6dd99a"
      },
      "execution_count": 14,
      "outputs": [
        {
          "output_type": "stream",
          "name": "stdout",
          "text": [
            "====================== Policy Evaluation ======================\n",
            "iter: 0, diff: 7.826086956521738\n",
            "iter: 1, diff: 0.0\n",
            "====================== Policy Improvement ======================\n",
            "Policy is not stable yet, go back to Policy Evaluation\n",
            "====================== Policy Evaluation ======================\n",
            "iter: 0, diff: 12.571184995737426\n",
            "iter: 1, diff: 0.0\n",
            "====================== Policy Improvement ======================\n",
            "Policy is stable :D\n",
            "Optimal Q value: {'healthy': 0.0, 'available': 5.333333333333334, 'wear&tear': 4.745098039215686, 'absorbing': 0.0}\n",
            "Optimal Policy: {'healthy': 'maintain', 'available': 'maintain', 'wear&tear': 'maintain', 'absorbing': 'process'}\n"
          ]
        },
        {
          "output_type": "display_data",
          "data": {
            "text/plain": [
              "<graphviz.dot.Digraph at 0x7fed0f8b5b50>"
            ],
            "image/svg+xml": "<?xml version=\"1.0\" encoding=\"UTF-8\" standalone=\"no\"?>\n<!DOCTYPE svg PUBLIC \"-//W3C//DTD SVG 1.1//EN\"\n \"http://www.w3.org/Graphics/SVG/1.1/DTD/svg11.dtd\">\n<!-- Generated by graphviz version 2.40.1 (20161225.0304)\n -->\n<!-- Title: MDP Pages: 1 -->\n<svg width=\"1440pt\" height=\"393pt\"\n viewBox=\"0.00 0.00 1440.00 392.69\" xmlns=\"http://www.w3.org/2000/svg\" xmlns:xlink=\"http://www.w3.org/1999/xlink\">\n<g id=\"graph0\" class=\"graph\" transform=\"scale(.5915 .5915) rotate(0) translate(4 659.8542)\">\n<title>MDP</title>\n<polygon fill=\"#ffffff\" stroke=\"transparent\" points=\"-4,4 -4,-659.8542 2430.383,-659.8542 2430.383,4 -4,4\"/>\n<!-- healthy -->\n<g id=\"node1\" class=\"node\">\n<title>healthy</title>\n<ellipse fill=\"#ded6f5\" stroke=\"#ded6f5\" cx=\"71.1751\" cy=\"-208.8542\" rx=\"67.3409\" ry=\"67.3409\"/>\n<ellipse fill=\"none\" stroke=\"#ded6f5\" cx=\"71.1751\" cy=\"-208.8542\" rx=\"71.3507\" ry=\"71.3507\"/>\n<text text-anchor=\"middle\" x=\"71.1751\" y=\"-215.6542\" font-family=\"Arial\" font-size=\"24.00\" fill=\"#000000\">healthy</text>\n<text text-anchor=\"middle\" x=\"71.1751\" y=\"-189.6542\" font-family=\"Arial\" font-size=\"24.00\" fill=\"#000000\">V =0.0</text>\n</g>\n<!-- healthy&#45;process -->\n<g id=\"node2\" class=\"node\">\n<title>healthy&#45;process</title>\n<ellipse fill=\"#f5d6ed\" stroke=\"#f5d6ed\" cx=\"374.1112\" cy=\"-376.8542\" rx=\"62.8651\" ry=\"62.8651\"/>\n<text text-anchor=\"middle\" x=\"374.1112\" y=\"-371.8542\" font-family=\"Arial\" font-size=\"20.00\" fill=\"#000000\">process</text>\n</g>\n<!-- healthy&#45;&gt;healthy&#45;process -->\n<g id=\"edge1\" class=\"edge\">\n<title>healthy&#45;&gt;healthy&#45;process</title>\n<path fill=\"none\" stroke=\"#d248af\" stroke-width=\"2\" d=\"M111.0929,-267.8787C124.6657,-285.5431 141.2964,-303.4518 160.3503,-315.8542 202.668,-343.3992 258.2853,-356.3624 302.1806,-363.6981\"/>\n<polygon fill=\"#d248af\" stroke=\"#d248af\" stroke-width=\"2\" points=\"301.7837,-367.1792 312.2131,-365.3141 302.897,-360.2683 301.7837,-367.1792\"/>\n</g>\n<!-- healthy&#45;maintain -->\n<g id=\"node6\" class=\"node\">\n<title>healthy&#45;maintain</title>\n<ellipse fill=\"#f5d6ed\" stroke=\"#f5d6ed\" cx=\"374.1112\" cy=\"-229.8542\" rx=\"65.5227\" ry=\"65.5227\"/>\n<text text-anchor=\"middle\" x=\"374.1112\" y=\"-224.8542\" font-family=\"Arial\" font-size=\"20.00\" fill=\"#000000\">maintain</text>\n</g>\n<!-- healthy&#45;&gt;healthy&#45;maintain -->\n<g id=\"edge10\" class=\"edge\">\n<title>healthy&#45;&gt;healthy&#45;maintain</title>\n<path fill=\"none\" stroke=\"#d248af\" stroke-width=\"2\" d=\"M142.5832,-207.9741C189.6975,-210.0437 251.3145,-214.2858 299.1374,-218.739\"/>\n<polygon fill=\"#d248af\" stroke=\"#d248af\" stroke-width=\"2\" points=\"298.8355,-222.226 309.1227,-219.6917 299.5004,-215.2576 298.8355,-222.226\"/>\n</g>\n<!-- healthy&#45;process&#45;&gt;healthy -->\n<g id=\"edge2\" class=\"edge\">\n<title>healthy&#45;process&#45;&gt;healthy</title>\n<path fill=\"none\" stroke=\"#6c48d2\" stroke-dasharray=\"5,2\" d=\"M329.2586,-332.5628C317.2193,-322.016 303.7941,-311.365 290.3503,-302.8542 265.3521,-287.0286 199.9547,-259.5758 147.0572,-238.4107\"/>\n<polygon fill=\"#6c48d2\" stroke=\"#6c48d2\" points=\"148.2609,-235.1227 137.6758,-234.6702 145.6684,-241.625 148.2609,-235.1227\"/>\n<text text-anchor=\"middle\" x=\"225.3503\" y=\"-308.0542\" font-family=\"Arial\" font-size=\"16.00\" fill=\"#000000\">p = 0.7 &#160;reward =6</text>\n</g>\n<!-- healthy&#45;process&#45;&gt;healthy -->\n<g id=\"edge3\" class=\"edge\">\n<title>healthy&#45;process&#45;&gt;healthy</title>\n<path fill=\"none\" stroke=\"#6c48d2\" stroke-dasharray=\"5,2\" d=\"M311.2595,-380.1258C266.1743,-376.1138 205.6442,-363.3364 160.3503,-333.8542 140.0456,-320.6377 122.4928,-301.1682 108.4597,-281.474\"/>\n<polygon fill=\"#6c48d2\" stroke=\"#6c48d2\" points=\"111.2109,-279.2976 102.6632,-273.0375 105.4414,-283.2616 111.2109,-279.2976\"/>\n</g>\n<!-- available -->\n<g id=\"node3\" class=\"node\">\n<title>available</title>\n<ellipse fill=\"#ded6f5\" stroke=\"#ded6f5\" cx=\"689.0681\" cy=\"-315.8542\" rx=\"79.3829\" ry=\"79.3829\"/>\n<ellipse fill=\"none\" stroke=\"#ded6f5\" cx=\"689.0681\" cy=\"-315.8542\" rx=\"83.3924\" ry=\"83.3924\"/>\n<text text-anchor=\"middle\" x=\"689.0681\" y=\"-322.6542\" font-family=\"Arial\" font-size=\"24.00\" fill=\"#000000\">available</text>\n<text text-anchor=\"middle\" x=\"689.0681\" y=\"-296.6542\" font-family=\"Arial\" font-size=\"24.00\" fill=\"#000000\">V =5.33</text>\n</g>\n<!-- healthy&#45;process&#45;&gt;available -->\n<g id=\"edge4\" class=\"edge\">\n<title>healthy&#45;process&#45;&gt;available</title>\n<path fill=\"none\" stroke=\"#6c48d2\" stroke-dasharray=\"5,2\" d=\"M432.0648,-351.8332C440.6062,-348.7891 449.3871,-346.0019 457.8721,-343.8542 502.595,-332.5339 553.3802,-325.7423 595.9389,-321.6913\"/>\n<polygon fill=\"#6c48d2\" stroke=\"#6c48d2\" points=\"596.3695,-325.1666 606.0086,-320.769 595.731,-318.1958 596.3695,-325.1666\"/>\n<text text-anchor=\"middle\" x=\"522.8721\" y=\"-349.0542\" font-family=\"Arial\" font-size=\"16.00\" fill=\"#000000\">p = 0.2 &#160;reward =3</text>\n</g>\n<!-- healthy&#45;process&#45;&gt;available -->\n<g id=\"edge5\" class=\"edge\">\n<title>healthy&#45;process&#45;&gt;available</title>\n<path fill=\"none\" stroke=\"#6c48d2\" stroke-dasharray=\"5,2\" d=\"M437.2419,-378.27C480.301,-377.822 538.2881,-374.4279 587.8721,-361.8542 593.5645,-360.4107 599.3334,-358.6604 605.0802,-356.6967\"/>\n<polygon fill=\"#6c48d2\" stroke=\"#6c48d2\" points=\"606.5036,-359.9037 614.7135,-353.2068 604.1193,-353.3223 606.5036,-359.9037\"/>\n</g>\n<!-- wear&amp;tear -->\n<g id=\"node4\" class=\"node\">\n<title>wear&amp;tear</title>\n<ellipse fill=\"#ded6f5\" stroke=\"#ded6f5\" cx=\"1344.5885\" cy=\"-331.8542\" rx=\"89.6139\" ry=\"89.6139\"/>\n<ellipse fill=\"none\" stroke=\"#ded6f5\" cx=\"1344.5885\" cy=\"-331.8542\" rx=\"93.6055\" ry=\"93.6055\"/>\n<text text-anchor=\"middle\" x=\"1344.5885\" y=\"-338.6542\" font-family=\"Arial\" font-size=\"24.00\" fill=\"#000000\">wear&amp;tear</text>\n<text text-anchor=\"middle\" x=\"1344.5885\" y=\"-312.6542\" font-family=\"Arial\" font-size=\"24.00\" fill=\"#000000\">V =4.74</text>\n</g>\n<!-- healthy&#45;process&#45;&gt;wear&amp;tear -->\n<g id=\"edge6\" class=\"edge\">\n<title>healthy&#45;process&#45;&gt;wear&amp;tear</title>\n<path fill=\"none\" stroke=\"#6c48d2\" stroke-dasharray=\"5,2\" d=\"M389.0046,-438.3925C401.1603,-474.1433 422.3187,-516.2738 457.8721,-537.8542 494.674,-560.1923 1195.7897,-559.8689 1232.7859,-537.8542 1272.0405,-514.4955 1298.3665,-472.0123 1315.5542,-431.6683\"/>\n<polygon fill=\"#6c48d2\" stroke=\"#6c48d2\" points=\"1318.8446,-432.8694 1319.4062,-422.2895 1312.3694,-430.21 1318.8446,-432.8694\"/>\n<text text-anchor=\"middle\" x=\"855.2641\" y=\"-559.0542\" font-family=\"Arial\" font-size=\"16.00\" fill=\"#000000\">p = 0.1 &#160;reward =1</text>\n</g>\n<!-- healthy&#45;process&#45;&gt;wear&amp;tear -->\n<g id=\"edge7\" class=\"edge\">\n<title>healthy&#45;process&#45;&gt;wear&amp;tear</title>\n<path fill=\"none\" stroke=\"#6c48d2\" stroke-dasharray=\"5,2\" d=\"M432.9629,-399.4245C512.5981,-428.7592 659.7442,-478.7253 790.2641,-499.8542 920.8704,-520.9971 955.498,-507.6316 1087.7859,-509.8542 1152.2213,-510.9367 1176.3853,-541.032 1232.7859,-509.8542 1265.0446,-492.0219 1289.2521,-460.5522 1306.74,-428.9822\"/>\n<polygon fill=\"#6c48d2\" stroke=\"#6c48d2\" points=\"1309.8676,-430.5555 1311.4954,-420.0864 1303.6943,-427.2554 1309.8676,-430.5555\"/>\n</g>\n<!-- absorbing -->\n<g id=\"node5\" class=\"node\">\n<title>absorbing</title>\n<ellipse fill=\"#ded6f5\" stroke=\"#ded6f5\" cx=\"2022.887\" cy=\"-375.8542\" rx=\"86.9494\" ry=\"86.9494\"/>\n<ellipse fill=\"none\" stroke=\"#ded6f5\" cx=\"2022.887\" cy=\"-375.8542\" rx=\"90.9483\" ry=\"90.9483\"/>\n<text text-anchor=\"middle\" x=\"2022.887\" y=\"-382.6542\" font-family=\"Arial\" font-size=\"24.00\" fill=\"#000000\">absorbing</text>\n<text text-anchor=\"middle\" x=\"2022.887\" y=\"-356.6542\" font-family=\"Arial\" font-size=\"24.00\" fill=\"#000000\">V =0.0</text>\n</g>\n<!-- healthy&#45;process&#45;&gt;absorbing -->\n<g id=\"edge8\" class=\"edge\">\n<title>healthy&#45;process&#45;&gt;absorbing</title>\n<path fill=\"none\" stroke=\"#6c48d2\" stroke-dasharray=\"5,2\" d=\"M387.9686,-438.3864C403.3735,-500.9501 429.8053,-591.7431 457.8721,-613.8542 539.0212,-677.7833 585.7622,-637.8542 689.0681,-637.8542 689.0681,-637.8542 689.0681,-637.8542 1685.152,-637.8542 1787.3815,-637.8542 1830.8874,-673.5001 1913.9129,-613.8542 1959.4134,-581.1663 1986.3627,-524.7674 2002.0762,-475.0749\"/>\n<polygon fill=\"#6c48d2\" stroke=\"#6c48d2\" points=\"2005.5077,-475.8206 2005.0712,-465.2348 1998.811,-473.7823 2005.5077,-475.8206\"/>\n<text text-anchor=\"middle\" x=\"1160.2859\" y=\"-643.0542\" font-family=\"Arial\" font-size=\"16.00\" fill=\"#000000\">p = 0.0 &#160;reward =&#45;15</text>\n</g>\n<!-- healthy&#45;process&#45;&gt;absorbing -->\n<g id=\"edge9\" class=\"edge\">\n<title>healthy&#45;process&#45;&gt;absorbing</title>\n<path fill=\"none\" stroke=\"#6c48d2\" stroke-dasharray=\"5,2\" d=\"M387.1337,-438.5691C398.849,-478.6651 420.2183,-528.7188 457.8721,-557.8542 540.4688,-621.7648 584.6326,-599.8542 689.0681,-599.8542 689.0681,-599.8542 689.0681,-599.8542 1685.152,-599.8542 1794.0566,-599.8542 1894.7351,-517.9655 1957.3222,-453.2124\"/>\n<polygon fill=\"#6c48d2\" stroke=\"#6c48d2\" points=\"1960.0162,-455.459 1964.387,-445.8078 1954.9515,-450.6268 1960.0162,-455.459\"/>\n</g>\n<!-- available&#45;process -->\n<g id=\"node7\" class=\"node\">\n<title>available&#45;process</title>\n<ellipse fill=\"#f5d6ed\" stroke=\"#f5d6ed\" cx=\"1004.025\" cy=\"-356.8542\" rx=\"62.8651\" ry=\"62.8651\"/>\n<text text-anchor=\"middle\" x=\"1004.025\" y=\"-351.8542\" font-family=\"Arial\" font-size=\"20.00\" fill=\"#000000\">process</text>\n</g>\n<!-- available&#45;&gt;available&#45;process -->\n<g id=\"edge13\" class=\"edge\">\n<title>available&#45;&gt;available&#45;process</title>\n<path fill=\"none\" stroke=\"#d248af\" stroke-width=\"2\" d=\"M772.2859,-313.841C816.4115,-316.6104 871.4476,-322.2056 920.2641,-329.8542 925.0628,-330.606 930.0002,-331.459 934.9628,-332.3937\"/>\n<polygon fill=\"#d248af\" stroke=\"#d248af\" stroke-width=\"2\" points=\"934.6576,-335.9015 945.1484,-334.4208 936.024,-329.0361 934.6576,-335.9015\"/>\n</g>\n<!-- available&#45;maintain -->\n<g id=\"node8\" class=\"node\">\n<title>available&#45;maintain</title>\n<ellipse fill=\"#f5d6ed\" stroke=\"#f5d6ed\" cx=\"1004.025\" cy=\"-171.8542\" rx=\"65.5227\" ry=\"65.5227\"/>\n<text text-anchor=\"middle\" x=\"1004.025\" y=\"-166.8542\" font-family=\"Arial\" font-size=\"20.00\" fill=\"#000000\">maintain</text>\n</g>\n<!-- available&#45;&gt;available&#45;maintain -->\n<g id=\"edge20\" class=\"edge\">\n<title>available&#45;&gt;available&#45;maintain</title>\n<path fill=\"none\" stroke=\"#d248af\" stroke-width=\"2\" d=\"M753.7966,-263.3222C765.6829,-255.9495 778.1629,-248.8651 790.2641,-242.8542 815.5604,-230.2889 878.9738,-206.909 930.2059,-190.2103\"/>\n<polygon fill=\"#d248af\" stroke=\"#d248af\" stroke-width=\"2\" points=\"931.5028,-193.4696 939.9462,-187.0696 929.3546,-186.8074 931.5028,-193.4696\"/>\n</g>\n<!-- wear&amp;tear&#45;process -->\n<g id=\"node9\" class=\"node\">\n<title>wear&amp;tear&#45;process</title>\n<ellipse fill=\"#f5d6ed\" stroke=\"#f5d6ed\" cx=\"1685.152\" cy=\"-376.8542\" rx=\"62.8651\" ry=\"62.8651\"/>\n<text text-anchor=\"middle\" x=\"1685.152\" y=\"-371.8542\" font-family=\"Arial\" font-size=\"20.00\" fill=\"#000000\">process</text>\n</g>\n<!-- wear&amp;tear&#45;&gt;wear&amp;tear&#45;process -->\n<g id=\"edge25\" class=\"edge\">\n<title>wear&amp;tear&#45;&gt;wear&amp;tear&#45;process</title>\n<path fill=\"none\" stroke=\"#d248af\" stroke-width=\"2\" d=\"M1438.1155,-341.9463C1444.2895,-342.9823 1450.4227,-343.9689 1456.3911,-344.8542 1508.6993,-352.6126 1568.1323,-358.5007 1613.3074,-363.6237\"/>\n<polygon fill=\"#d248af\" stroke=\"#d248af\" stroke-width=\"2\" points=\"1612.9689,-367.1077 1623.3033,-364.7734 1613.7688,-360.1536 1612.9689,-367.1077\"/>\n</g>\n<!-- wear&amp;tear&#45;maintain -->\n<g id=\"node10\" class=\"node\">\n<title>wear&amp;tear&#45;maintain</title>\n<ellipse fill=\"#f5d6ed\" stroke=\"#f5d6ed\" cx=\"1685.152\" cy=\"-77.8542\" rx=\"65.5227\" ry=\"65.5227\"/>\n<text text-anchor=\"middle\" x=\"1685.152\" y=\"-72.8542\" font-family=\"Arial\" font-size=\"20.00\" fill=\"#000000\">maintain</text>\n</g>\n<!-- wear&amp;tear&#45;&gt;wear&amp;tear&#45;maintain -->\n<g id=\"edge32\" class=\"edge\">\n<title>wear&amp;tear&#45;&gt;wear&amp;tear&#45;maintain</title>\n<path fill=\"none\" stroke=\"#d248af\" stroke-width=\"2\" d=\"M1436.171,-311.1039C1499.3548,-298.7504 1576.3145,-281.8972 1601.3911,-260.8542 1634.508,-233.0639 1654.93,-189.6816 1667.3061,-152.0818\"/>\n<polygon fill=\"#d248af\" stroke=\"#d248af\" stroke-width=\"2\" points=\"1670.7666,-152.7452 1670.4345,-142.1556 1664.0903,-150.641 1670.7666,-152.7452\"/>\n</g>\n<!-- absorbing&#45;process -->\n<g id=\"node11\" class=\"node\">\n<title>absorbing&#45;process</title>\n<ellipse fill=\"#f5d6ed\" stroke=\"#f5d6ed\" cx=\"2360.6221\" cy=\"-444.8542\" rx=\"62.8651\" ry=\"62.8651\"/>\n<text text-anchor=\"middle\" x=\"2360.6221\" y=\"-439.8542\" font-family=\"Arial\" font-size=\"20.00\" fill=\"#000000\">process</text>\n</g>\n<!-- absorbing&#45;&gt;absorbing&#45;process -->\n<g id=\"edge39\" class=\"edge\">\n<title>absorbing&#45;&gt;absorbing&#45;process</title>\n<path fill=\"none\" stroke=\"#d248af\" stroke-width=\"2\" d=\"M2109.6162,-404.3486C2117.0585,-406.7859 2124.5399,-409.0135 2131.8612,-410.8542 2183.1923,-423.7591 2242.6596,-430.0025 2288.0952,-434.2705\"/>\n<polygon fill=\"#d248af\" stroke=\"#d248af\" stroke-width=\"2\" points=\"2287.8723,-437.7648 2298.1537,-435.207 2288.5212,-430.7949 2287.8723,-437.7648\"/>\n</g>\n<!-- absorbing&#45;maintain -->\n<g id=\"node12\" class=\"node\">\n<title>absorbing&#45;maintain</title>\n<ellipse fill=\"#f5d6ed\" stroke=\"#f5d6ed\" cx=\"2360.6221\" cy=\"-297.8542\" rx=\"65.5227\" ry=\"65.5227\"/>\n<text text-anchor=\"middle\" x=\"2360.6221\" y=\"-292.8542\" font-family=\"Arial\" font-size=\"20.00\" fill=\"#000000\">maintain</text>\n</g>\n<!-- absorbing&#45;&gt;absorbing&#45;maintain -->\n<g id=\"edge42\" class=\"edge\">\n<title>absorbing&#45;&gt;absorbing&#45;maintain</title>\n<path fill=\"none\" stroke=\"#d248af\" stroke-width=\"2\" d=\"M2111.9543,-355.9172C2161.0919,-347.2253 2222.9086,-335.9053 2276.8612,-320.8542 2280.263,-319.9051 2283.7198,-318.873 2287.195,-317.7862\"/>\n<polygon fill=\"#d248af\" stroke=\"#d248af\" stroke-width=\"2\" points=\"2288.5758,-321.0179 2297.0073,-314.6022 2286.4153,-314.3596 2288.5758,-321.0179\"/>\n</g>\n<!-- healthy&#45;maintain&#45;&gt;healthy -->\n<g id=\"edge11\" class=\"edge\">\n<title>healthy&#45;maintain&#45;&gt;healthy</title>\n<path fill=\"none\" stroke=\"#6c48d2\" stroke-dasharray=\"5,2\" d=\"M314.6718,-200.8673C306.6545,-197.9836 298.4119,-195.5132 290.3503,-193.8542 244.7947,-184.479 192.9072,-187.4392 151.0571,-193.1101\"/>\n<polygon fill=\"#6c48d2\" stroke=\"#6c48d2\" points=\"150.3215,-189.6797 140.919,-194.5628 151.3144,-196.6089 150.3215,-189.6797\"/>\n<text text-anchor=\"middle\" x=\"225.3503\" y=\"-199.0542\" font-family=\"Arial\" font-size=\"16.00\" fill=\"#000000\">p = 1.0 &#160;reward =6</text>\n</g>\n<!-- healthy&#45;maintain&#45;&gt;healthy -->\n<g id=\"edge12\" class=\"edge\">\n<title>healthy&#45;maintain&#45;&gt;healthy</title>\n<path fill=\"none\" stroke=\"#6c48d2\" stroke-dasharray=\"5,2\" d=\"M308.2856,-230.9721C262.4054,-229.0806 200.91,-224.9409 152.0436,-220.5109\"/>\n<polygon fill=\"#6c48d2\" stroke=\"#6c48d2\" points=\"152.0985,-217.001 141.8179,-219.5619 151.4516,-223.9711 152.0985,-217.001\"/>\n</g>\n<!-- available&#45;process&#45;&gt;available -->\n<g id=\"edge14\" class=\"edge\">\n<title>available&#45;process&#45;&gt;available</title>\n<path fill=\"none\" stroke=\"#6c48d2\" stroke-dasharray=\"5,2\" d=\"M941.1604,-352.2948C898.4697,-348.8027 840.8038,-343.3129 790.2641,-335.8542 787.0751,-335.3835 783.8342,-334.8802 780.5646,-334.3511\"/>\n<polygon fill=\"#6c48d2\" stroke=\"#6c48d2\" points=\"781.1339,-330.8978 770.6924,-332.6934 779.9747,-337.8011 781.1339,-330.8978\"/>\n<text text-anchor=\"middle\" x=\"855.2641\" y=\"-355.0542\" font-family=\"Arial\" font-size=\"16.00\" fill=\"#000000\">p = 0.6 &#160;reward =3</text>\n</g>\n<!-- available&#45;process&#45;&gt;available -->\n<g id=\"edge15\" class=\"edge\">\n<title>available&#45;process&#45;&gt;available</title>\n<path fill=\"none\" stroke=\"#6c48d2\" stroke-dasharray=\"5,2\" d=\"M941.0511,-351.4746C934.0583,-350.1729 927.0236,-348.9132 920.2641,-347.8542 874.7018,-340.7154 823.7214,-335.3655 781.2507,-330.8288\"/>\n<polygon fill=\"#6c48d2\" stroke=\"#6c48d2\" points=\"781.5234,-327.338 771.2074,-329.7528 780.7777,-334.2982 781.5234,-327.338\"/>\n</g>\n<!-- available&#45;process&#45;&gt;wear&amp;tear -->\n<g id=\"edge16\" class=\"edge\">\n<title>available&#45;process&#45;&gt;wear&amp;tear</title>\n<path fill=\"none\" stroke=\"#6c48d2\" stroke-dasharray=\"5,2\" d=\"M1066.8865,-352.2396C1115.5679,-348.666 1184.0474,-343.6391 1240.822,-339.4714\"/>\n<polygon fill=\"#6c48d2\" stroke=\"#6c48d2\" points=\"1241.1982,-342.9533 1250.9151,-338.7305 1240.6857,-335.9721 1241.1982,-342.9533\"/>\n<text text-anchor=\"middle\" x=\"1160.2859\" y=\"-355.0542\" font-family=\"Arial\" font-size=\"16.00\" fill=\"#000000\">p = 0.3 &#160;reward =1</text>\n</g>\n<!-- available&#45;process&#45;&gt;wear&amp;tear -->\n<g id=\"edge17\" class=\"edge\">\n<title>available&#45;process&#45;&gt;wear&amp;tear</title>\n<path fill=\"none\" stroke=\"#6c48d2\" stroke-dasharray=\"5,2\" d=\"M1066.0942,-344.7531C1073.3854,-343.6243 1080.7362,-342.6189 1087.7859,-341.8542 1137.8926,-336.4184 1193.7807,-333.8327 1240.5919,-332.6402\"/>\n<polygon fill=\"#6c48d2\" stroke=\"#6c48d2\" points=\"1240.8296,-336.1356 1250.7438,-332.3996 1240.6637,-329.1376 1240.8296,-336.1356\"/>\n</g>\n<!-- available&#45;process&#45;&gt;absorbing -->\n<g id=\"edge18\" class=\"edge\">\n<title>available&#45;process&#45;&gt;absorbing</title>\n<path fill=\"none\" stroke=\"#6c48d2\" stroke-dasharray=\"5,2\" d=\"M1056.9093,-322.0013C1105.2657,-291.9827 1179.8528,-250.2189 1250.7859,-228.8542 1400.283,-183.8262 1448.0894,-177.2657 1601.3911,-206.8542 1721.1458,-229.9678 1850.0861,-286.8614 1933.3785,-328.2679\"/>\n<polygon fill=\"#6c48d2\" stroke=\"#6c48d2\" points=\"1932.0412,-331.5124 1942.5504,-332.8567 1935.1733,-325.2522 1932.0412,-331.5124\"/>\n<text text-anchor=\"middle\" x=\"1528.8911\" y=\"-212.0542\" font-family=\"Arial\" font-size=\"16.00\" fill=\"#000000\">p = 0.1 &#160;reward =&#45;15</text>\n</g>\n<!-- available&#45;process&#45;&gt;absorbing -->\n<g id=\"edge19\" class=\"edge\">\n<title>available&#45;process&#45;&gt;absorbing</title>\n<path fill=\"none\" stroke=\"#6c48d2\" stroke-dasharray=\"5,2\" d=\"M1047.5406,-311.215C1055.6166,-301.347 1063.4821,-290.627 1069.7859,-279.8542 1081.5034,-259.8299 1070.7166,-246.5675 1087.7859,-230.8542 1172.0793,-153.2571 1487.0981,-177.8673 1601.3911,-185.8542 1743.0079,-195.7505 1793.6034,-176.4958 1913.9129,-251.8542 1931.7592,-263.0325 1948.3383,-278.0092 1962.9074,-293.6828\"/>\n<polygon fill=\"#6c48d2\" stroke=\"#6c48d2\" points=\"1960.5948,-296.3441 1969.8948,-301.4196 1965.7897,-291.6523 1960.5948,-296.3441\"/>\n</g>\n<!-- available&#45;maintain&#45;&gt;healthy -->\n<g id=\"edge21\" class=\"edge\">\n<title>available&#45;maintain&#45;&gt;healthy</title>\n<path fill=\"none\" stroke=\"#6c48d2\" stroke-dasharray=\"5,2\" d=\"M939.7445,-157.4564C933.1916,-156.395 926.6126,-155.4919 920.2641,-154.8542 649.6643,-127.671 579.0402,-128.5837 308.3503,-154.8542 254.5064,-160.0797 195.1617,-173.5968 149.3034,-185.799\"/>\n<polygon fill=\"#6c48d2\" stroke=\"#6c48d2\" points=\"148.1782,-182.4773 139.4342,-188.46 150.0006,-189.236 148.1782,-182.4773\"/>\n<text text-anchor=\"middle\" x=\"522.8721\" y=\"-147.0542\" font-family=\"Arial\" font-size=\"16.00\" fill=\"#000000\">p = 0.8 &#160;reward =6</text>\n</g>\n<!-- available&#45;maintain&#45;&gt;healthy -->\n<g id=\"edge22\" class=\"edge\">\n<title>available&#45;maintain&#45;&gt;healthy</title>\n<path fill=\"none\" stroke=\"#6c48d2\" stroke-dasharray=\"5,2\" d=\"M943.3803,-146.2332C935.7032,-143.7208 927.8719,-141.4983 920.2641,-139.8542 855.8517,-125.9343 838.133,-132.8551 772.2641,-130.8542 500.2358,-122.5907 418.3884,-67.3441 160.3503,-153.8542 153.0746,-156.2934 145.7751,-159.4224 138.6572,-162.9475\"/>\n<polygon fill=\"#6c48d2\" stroke=\"#6c48d2\" points=\"136.9942,-159.8674 129.754,-167.6024 140.2375,-166.0708 136.9942,-159.8674\"/>\n</g>\n<!-- available&#45;maintain&#45;&gt;available -->\n<g id=\"edge23\" class=\"edge\">\n<title>available&#45;maintain&#45;&gt;available</title>\n<path fill=\"none\" stroke=\"#6c48d2\" stroke-dasharray=\"5,2\" d=\"M939.0358,-160.2297C894.6186,-155.5316 835.7854,-155.9089 790.2641,-179.8542 767.1548,-192.0101 747.9087,-212.0756 732.6238,-233.108\"/>\n<polygon fill=\"#6c48d2\" stroke=\"#6c48d2\" points=\"729.6056,-231.3168 726.7465,-241.5186 735.3435,-235.3265 729.6056,-231.3168\"/>\n<text text-anchor=\"middle\" x=\"855.2641\" y=\"-185.0542\" font-family=\"Arial\" font-size=\"16.00\" fill=\"#000000\">p = 0.2 &#160;reward =3</text>\n</g>\n<!-- available&#45;maintain&#45;&gt;available -->\n<g id=\"edge24\" class=\"edge\">\n<title>available&#45;maintain&#45;&gt;available</title>\n<path fill=\"none\" stroke=\"#6c48d2\" stroke-dasharray=\"5,2\" d=\"M944.3266,-199.6079C891.2672,-220.4052 817.9449,-247.1045 790.2641,-260.8542 783.9284,-264.0012 777.4889,-267.4426 771.0851,-271.0232\"/>\n<polygon fill=\"#6c48d2\" stroke=\"#6c48d2\" points=\"769.3446,-267.9866 762.388,-275.9776 772.8095,-274.0689 769.3446,-267.9866\"/>\n</g>\n<!-- wear&amp;tear&#45;process&#45;&gt;available -->\n<g id=\"edge26\" class=\"edge\">\n<title>wear&amp;tear&#45;process&#45;&gt;available</title>\n<path fill=\"none\" stroke=\"#6c48d2\" stroke-dasharray=\"5,2\" d=\"M1650.015,-429.357C1636.7662,-444.7061 1620.268,-459.5732 1601.3911,-467.8542 1518.8556,-504.0606 869.8348,-504.1802 790.2641,-461.8542 764.568,-448.1857 744.065,-424.7536 728.4183,-400.614\"/>\n<polygon fill=\"#6c48d2\" stroke=\"#6c48d2\" points=\"731.3465,-398.6951 723.0858,-392.0609 725.4063,-402.3985 731.3465,-398.6951\"/>\n<text text-anchor=\"middle\" x=\"1160.2859\" y=\"-499.0542\" font-family=\"Arial\" font-size=\"16.00\" fill=\"#000000\">p = 0.1 &#160;reward =3</text>\n</g>\n<!-- wear&amp;tear&#45;process&#45;&gt;available -->\n<g id=\"edge27\" class=\"edge\">\n<title>wear&amp;tear&#45;process&#45;&gt;available</title>\n<path fill=\"none\" stroke=\"#6c48d2\" stroke-dasharray=\"5,2\" d=\"M1624.747,-395.1785C1575.2103,-409.2012 1502.9801,-427.3655 1438.3911,-434.8542 1217.5756,-460.4561 1156.4139,-471.5809 938.2641,-428.8542 878.8122,-417.2099 816.7512,-389.124 769.4348,-363.8675\"/>\n<polygon fill=\"#6c48d2\" stroke=\"#6c48d2\" points=\"770.9362,-360.7005 760.4747,-359.0247 767.6078,-366.8586 770.9362,-360.7005\"/>\n</g>\n<!-- wear&amp;tear&#45;process&#45;&gt;wear&amp;tear -->\n<g id=\"edge28\" class=\"edge\">\n<title>wear&amp;tear&#45;process&#45;&gt;wear&amp;tear</title>\n<path fill=\"none\" stroke=\"#6c48d2\" stroke-dasharray=\"5,2\" d=\"M1631.768,-343.2357C1621.9944,-338.5335 1611.6366,-334.4321 1601.3911,-331.8542 1552.0474,-319.4385 1495.6616,-318.0928 1448.3192,-320.4144\"/>\n<polygon fill=\"#6c48d2\" stroke=\"#6c48d2\" points=\"1447.8419,-316.9354 1438.0503,-320.9818 1448.2282,-323.9247 1447.8419,-316.9354\"/>\n<text text-anchor=\"middle\" x=\"1528.8911\" y=\"-337.0542\" font-family=\"Arial\" font-size=\"16.00\" fill=\"#000000\">p = 0.5 &#160;reward =1</text>\n</g>\n<!-- wear&amp;tear&#45;process&#45;&gt;wear&amp;tear -->\n<g id=\"edge29\" class=\"edge\">\n<title>wear&amp;tear&#45;process&#45;&gt;wear&amp;tear</title>\n<path fill=\"none\" stroke=\"#6c48d2\" stroke-dasharray=\"5,2\" d=\"M1621.8402,-379.5953C1575.8058,-377.2502 1512.0631,-371.1116 1456.3911,-362.8542 1452.485,-362.2748 1448.5084,-361.6521 1444.4959,-360.9919\"/>\n<polygon fill=\"#6c48d2\" stroke=\"#6c48d2\" points=\"1444.9149,-357.5128 1434.4681,-359.2774 1443.7352,-364.4127 1444.9149,-357.5128\"/>\n</g>\n<!-- wear&amp;tear&#45;process&#45;&gt;absorbing -->\n<g id=\"edge30\" class=\"edge\">\n<title>wear&amp;tear&#45;process&#45;&gt;absorbing</title>\n<path fill=\"none\" stroke=\"#6c48d2\" stroke-dasharray=\"5,2\" d=\"M1748.2812,-376.6672C1797.0008,-376.523 1865.3687,-376.3206 1921.6979,-376.1538\"/>\n<polygon fill=\"#6c48d2\" stroke=\"#6c48d2\" points=\"1921.7175,-379.6538 1931.7071,-376.1241 1921.6967,-372.6539 1921.7175,-379.6538\"/>\n<text text-anchor=\"middle\" x=\"1841.4129\" y=\"-381.0542\" font-family=\"Arial\" font-size=\"16.00\" fill=\"#000000\">p = 0.4 &#160;reward =&#45;15</text>\n</g>\n<!-- wear&amp;tear&#45;process&#45;&gt;absorbing -->\n<g id=\"edge31\" class=\"edge\">\n<title>wear&amp;tear&#45;process&#45;&gt;absorbing</title>\n<path fill=\"none\" stroke=\"#6c48d2\" stroke-dasharray=\"5,2\" d=\"M1748.2612,-374.3518C1755.2287,-374.1476 1762.2205,-373.974 1768.9129,-373.8542 1819.2277,-372.9534 1875.1566,-373.2533 1921.6944,-373.8623\"/>\n<polygon fill=\"#6c48d2\" stroke=\"#6c48d2\" points=\"1921.7337,-377.363 1931.7809,-374.001 1921.8301,-370.3637 1921.7337,-377.363\"/>\n</g>\n<!-- wear&amp;tear&#45;maintain&#45;&gt;healthy -->\n<g id=\"edge33\" class=\"edge\">\n<title>wear&amp;tear&#45;maintain&#45;&gt;healthy</title>\n<path fill=\"none\" stroke=\"#6c48d2\" stroke-dasharray=\"5,2\" d=\"M1620.8308,-63.1224C1614.2859,-61.8967 1607.72,-60.7764 1601.3911,-59.8542 1488.1074,-43.3465 1459.0686,-39.8542 1344.5885,-39.8542 374.1112,-39.8542 374.1112,-39.8542 374.1112,-39.8542 273.2804,-39.8542 245.0218,-61.1039 160.3503,-115.8542 147.4068,-124.2236 134.9705,-134.8254 123.7061,-145.8514\"/>\n<polygon fill=\"#6c48d2\" stroke=\"#6c48d2\" points=\"121.0354,-143.5739 116.4794,-153.1391 126.006,-148.5028 121.0354,-143.5739\"/>\n<text text-anchor=\"middle\" x=\"855.2641\" y=\"-45.0542\" font-family=\"Arial\" font-size=\"16.00\" fill=\"#000000\">p = 0.2 &#160;reward =6</text>\n</g>\n<!-- wear&amp;tear&#45;maintain&#45;&gt;healthy -->\n<g id=\"edge34\" class=\"edge\">\n<title>wear&amp;tear&#45;maintain&#45;&gt;healthy</title>\n<path fill=\"none\" stroke=\"#6c48d2\" stroke-dasharray=\"5,2\" d=\"M1626.5061,-47.9456C1618.2192,-44.4909 1609.6928,-41.3263 1601.3911,-38.8542 1490.8742,-5.9434 1459.9015,-1.8542 1344.5885,-1.8542 374.1112,-1.8542 374.1112,-1.8542 374.1112,-1.8542 277.2032,-1.8542 238.3315,12.6791 160.3503,-44.8542 131.2732,-66.3067 110.6088,-100.1808 96.5447,-131.5875\"/>\n<polygon fill=\"#6c48d2\" stroke=\"#6c48d2\" points=\"93.3171,-130.2332 92.5709,-140.8017 99.7449,-133.0053 93.3171,-130.2332\"/>\n</g>\n<!-- wear&amp;tear&#45;maintain&#45;&gt;available -->\n<g id=\"edge35\" class=\"edge\">\n<title>wear&amp;tear&#45;maintain&#45;&gt;available</title>\n<path fill=\"none\" stroke=\"#6c48d2\" stroke-dasharray=\"5,2\" d=\"M1620.2495,-88.9005C1613.8813,-89.9248 1607.5133,-90.9255 1601.3911,-91.8542 1487.5041,-109.1287 1172.1642,-83.4388 1087.7859,-161.8542 1059.4994,-188.1417 1097.4896,-219.953 1069.7859,-246.8542 1049.3025,-266.7442 888.1067,-290.6485 782.1338,-304.4624\"/>\n<polygon fill=\"#6c48d2\" stroke=\"#6c48d2\" points=\"781.525,-301.0119 772.0573,-305.7673 782.424,-307.954 781.525,-301.0119\"/>\n<text text-anchor=\"middle\" x=\"1160.2859\" y=\"-167.0542\" font-family=\"Arial\" font-size=\"16.00\" fill=\"#000000\">p = 0.5 &#160;reward =3</text>\n</g>\n<!-- wear&amp;tear&#45;maintain&#45;&gt;available -->\n<g id=\"edge36\" class=\"edge\">\n<title>wear&amp;tear&#45;maintain&#45;&gt;available</title>\n<path fill=\"none\" stroke=\"#6c48d2\" stroke-dasharray=\"5,2\" d=\"M1619.6148,-71.9814C1488.6017,-61.8876 1185.7068,-46.8328 938.2641,-96.8542 869.0163,-110.8528 844.6806,-109.7981 790.2641,-154.8542 765.368,-175.4678 744.7135,-203.8622 728.6976,-231.0712\"/>\n<polygon fill=\"#6c48d2\" stroke=\"#6c48d2\" points=\"725.6004,-229.4365 723.6611,-239.8523 731.6726,-232.9192 725.6004,-229.4365\"/>\n</g>\n<!-- wear&amp;tear&#45;maintain&#45;&gt;wear&amp;tear -->\n<g id=\"edge37\" class=\"edge\">\n<title>wear&amp;tear&#45;maintain&#45;&gt;wear&amp;tear</title>\n<path fill=\"none\" stroke=\"#6c48d2\" stroke-dasharray=\"5,2\" d=\"M1665.5067,-140.9829C1652.4069,-172.447 1631.8797,-208.1155 1601.3911,-228.8542 1547.6499,-265.4093 1516.5718,-223.3049 1456.3911,-247.8542 1445.4146,-252.3317 1434.558,-258.1571 1424.1748,-264.6533\"/>\n<polygon fill=\"#6c48d2\" stroke=\"#6c48d2\" points=\"1422.0436,-261.8644 1415.5721,-270.2531 1425.8624,-267.731 1422.0436,-261.8644\"/>\n<text text-anchor=\"middle\" x=\"1528.8911\" y=\"-253.0542\" font-family=\"Arial\" font-size=\"16.00\" fill=\"#000000\">p = 0.3 &#160;reward =1</text>\n</g>\n<!-- wear&amp;tear&#45;maintain&#45;&gt;wear&amp;tear -->\n<g id=\"edge38\" class=\"edge\">\n<title>wear&amp;tear&#45;maintain&#45;&gt;wear&amp;tear</title>\n<path fill=\"none\" stroke=\"#6c48d2\" stroke-dasharray=\"5,2\" d=\"M1674.3487,-143.0879C1663.2924,-187.8623 1641.7854,-244.957 1601.3911,-278.8542 1577.9281,-298.5432 1509.0443,-314.5642 1448.5217,-324.1069\"/>\n<polygon fill=\"#6c48d2\" stroke=\"#6c48d2\" points=\"1447.8566,-320.6679 1438.5009,-325.64 1448.9152,-327.5874 1447.8566,-320.6679\"/>\n</g>\n<!-- absorbing&#45;process&#45;&gt;absorbing -->\n<g id=\"edge40\" class=\"edge\">\n<title>absorbing&#45;process&#45;&gt;absorbing</title>\n<path fill=\"none\" stroke=\"#6c48d2\" stroke-dasharray=\"5,2\" d=\"M2307.6165,-410.735C2297.7173,-405.6463 2287.2193,-401.0455 2276.8612,-397.8542 2248.8732,-389.231 2181.947,-383.644 2123.8221,-380.2586\"/>\n<polygon fill=\"#6c48d2\" stroke=\"#6c48d2\" points=\"2124.0138,-376.7639 2113.8319,-379.6929 2123.618,-383.7527 2124.0138,-376.7639\"/>\n<text text-anchor=\"middle\" x=\"2204.3612\" y=\"-403.0542\" font-family=\"Arial\" font-size=\"16.00\" fill=\"#000000\">p = 1.0 &#160;reward =&#45;15</text>\n</g>\n<!-- absorbing&#45;process&#45;&gt;absorbing -->\n<g id=\"edge41\" class=\"edge\">\n<title>absorbing&#45;process&#45;&gt;absorbing</title>\n<path fill=\"none\" stroke=\"#6c48d2\" stroke-dasharray=\"5,2\" d=\"M2297.6641,-450.0897C2251.2478,-448.8654 2186.8808,-442.6863 2131.8612,-428.8542 2125.4133,-427.2331 2118.8412,-425.3119 2112.2811,-423.1745\"/>\n<polygon fill=\"#6c48d2\" stroke=\"#6c48d2\" points=\"2113.2887,-419.8202 2102.6941,-419.8982 2111.025,-426.444 2113.2887,-419.8202\"/>\n</g>\n<!-- absorbing&#45;maintain&#45;&gt;absorbing -->\n<g id=\"edge43\" class=\"edge\">\n<title>absorbing&#45;maintain&#45;&gt;absorbing</title>\n<path fill=\"none\" stroke=\"#6c48d2\" stroke-dasharray=\"5,2\" d=\"M2295.0217,-291.9966C2248.4499,-289.9205 2185.0173,-291.3654 2131.8612,-307.8542 2123.1801,-310.547 2114.501,-314.106 2106.0433,-318.1872\"/>\n<polygon fill=\"#6c48d2\" stroke=\"#6c48d2\" points=\"2104.2905,-315.1519 2096.9631,-322.8043 2107.4633,-321.3916 2104.2905,-315.1519\"/>\n<text text-anchor=\"middle\" x=\"2204.3612\" y=\"-313.0542\" font-family=\"Arial\" font-size=\"16.00\" fill=\"#000000\">p = 1.0 &#160;reward =&#45;15</text>\n</g>\n<!-- absorbing&#45;maintain&#45;&gt;absorbing -->\n<g id=\"edge44\" class=\"edge\">\n<title>absorbing&#45;maintain&#45;&gt;absorbing</title>\n<path fill=\"none\" stroke=\"#6c48d2\" stroke-dasharray=\"5,2\" d=\"M2302.9631,-330.3798C2294.3013,-333.5609 2285.408,-336.4699 2276.8612,-338.8542 2227.3005,-352.6801 2171.1039,-363.3576 2124.195,-370.1174\"/>\n<polygon fill=\"#6c48d2\" stroke=\"#6c48d2\" points=\"2123.4432,-366.6885 2114.0254,-371.5419 2124.4143,-373.6208 2123.4432,-366.6885\"/>\n</g>\n</g>\n</svg>\n"
          },
          "metadata": {}
        }
      ]
    },
    {
      "cell_type": "markdown",
      "metadata": {
        "id": "2Fb2sDMlNF0M"
      },
      "source": [
        "### **(d) (5%) (d)承接(c)的答案，如果初始策略在所有狀態皆採取行動「保養」，策略迭代的計算過程與結果有什麼差異?**\n"
      ]
    },
    {
      "cell_type": "markdown",
      "source": [
        "#### **初始策略為「保養」**"
      ],
      "metadata": {
        "id": "lyuwxSX98rli"
      }
    },
    {
      "cell_type": "code",
      "execution_count": 15,
      "metadata": {
        "id": "wYxZr5AfNN1h",
        "colab": {
          "base_uri": "https://localhost:8080/",
          "height": 768
        },
        "outputId": "ed561622-9726-47c9-8146-9dc4f3d04048"
      },
      "outputs": [
        {
          "output_type": "stream",
          "name": "stdout",
          "text": [
            "====================== Policy Evaluation ======================\n",
            "iter: 0, diff: 5.333333333333334\n",
            "iter: 1, diff: 0.0\n",
            "====================== Policy Improvement ======================\n",
            "Policy is not stable yet, go back to Policy Evaluation\n",
            "====================== Policy Evaluation ======================\n",
            "iter: 0, diff: 0.0\n",
            "====================== Policy Improvement ======================\n",
            "Policy is stable :D\n",
            "Optimal Q value: {'healthy': 0.0, 'available': 5.333333333333334, 'wear&tear': 4.745098039215686, 'absorbing': 0.0}\n",
            "Optimal Policy: {'healthy': 'maintain', 'available': 'maintain', 'wear&tear': 'maintain', 'absorbing': 'process'}\n"
          ]
        },
        {
          "output_type": "display_data",
          "data": {
            "text/plain": [
              "<graphviz.dot.Digraph at 0x7fed0f8c8550>"
            ],
            "image/svg+xml": "<?xml version=\"1.0\" encoding=\"UTF-8\" standalone=\"no\"?>\n<!DOCTYPE svg PUBLIC \"-//W3C//DTD SVG 1.1//EN\"\n \"http://www.w3.org/Graphics/SVG/1.1/DTD/svg11.dtd\">\n<!-- Generated by graphviz version 2.40.1 (20161225.0304)\n -->\n<!-- Title: MDP Pages: 1 -->\n<svg width=\"1440pt\" height=\"393pt\"\n viewBox=\"0.00 0.00 1440.00 392.69\" xmlns=\"http://www.w3.org/2000/svg\" xmlns:xlink=\"http://www.w3.org/1999/xlink\">\n<g id=\"graph0\" class=\"graph\" transform=\"scale(.5915 .5915) rotate(0) translate(4 659.8542)\">\n<title>MDP</title>\n<polygon fill=\"#ffffff\" stroke=\"transparent\" points=\"-4,4 -4,-659.8542 2430.383,-659.8542 2430.383,4 -4,4\"/>\n<!-- healthy -->\n<g id=\"node1\" class=\"node\">\n<title>healthy</title>\n<ellipse fill=\"#ded6f5\" stroke=\"#ded6f5\" cx=\"71.1751\" cy=\"-208.8542\" rx=\"67.3409\" ry=\"67.3409\"/>\n<ellipse fill=\"none\" stroke=\"#ded6f5\" cx=\"71.1751\" cy=\"-208.8542\" rx=\"71.3507\" ry=\"71.3507\"/>\n<text text-anchor=\"middle\" x=\"71.1751\" y=\"-215.6542\" font-family=\"Arial\" font-size=\"24.00\" fill=\"#000000\">healthy</text>\n<text text-anchor=\"middle\" x=\"71.1751\" y=\"-189.6542\" font-family=\"Arial\" font-size=\"24.00\" fill=\"#000000\">V =0.0</text>\n</g>\n<!-- healthy&#45;process -->\n<g id=\"node2\" class=\"node\">\n<title>healthy&#45;process</title>\n<ellipse fill=\"#f5d6ed\" stroke=\"#f5d6ed\" cx=\"374.1112\" cy=\"-376.8542\" rx=\"62.8651\" ry=\"62.8651\"/>\n<text text-anchor=\"middle\" x=\"374.1112\" y=\"-371.8542\" font-family=\"Arial\" font-size=\"20.00\" fill=\"#000000\">process</text>\n</g>\n<!-- healthy&#45;&gt;healthy&#45;process -->\n<g id=\"edge1\" class=\"edge\">\n<title>healthy&#45;&gt;healthy&#45;process</title>\n<path fill=\"none\" stroke=\"#d248af\" stroke-width=\"2\" d=\"M111.0929,-267.8787C124.6657,-285.5431 141.2964,-303.4518 160.3503,-315.8542 202.668,-343.3992 258.2853,-356.3624 302.1806,-363.6981\"/>\n<polygon fill=\"#d248af\" stroke=\"#d248af\" stroke-width=\"2\" points=\"301.7837,-367.1792 312.2131,-365.3141 302.897,-360.2683 301.7837,-367.1792\"/>\n</g>\n<!-- healthy&#45;maintain -->\n<g id=\"node6\" class=\"node\">\n<title>healthy&#45;maintain</title>\n<ellipse fill=\"#f5d6ed\" stroke=\"#f5d6ed\" cx=\"374.1112\" cy=\"-229.8542\" rx=\"65.5227\" ry=\"65.5227\"/>\n<text text-anchor=\"middle\" x=\"374.1112\" y=\"-224.8542\" font-family=\"Arial\" font-size=\"20.00\" fill=\"#000000\">maintain</text>\n</g>\n<!-- healthy&#45;&gt;healthy&#45;maintain -->\n<g id=\"edge10\" class=\"edge\">\n<title>healthy&#45;&gt;healthy&#45;maintain</title>\n<path fill=\"none\" stroke=\"#d248af\" stroke-width=\"2\" d=\"M142.5832,-207.9741C189.6975,-210.0437 251.3145,-214.2858 299.1374,-218.739\"/>\n<polygon fill=\"#d248af\" stroke=\"#d248af\" stroke-width=\"2\" points=\"298.8355,-222.226 309.1227,-219.6917 299.5004,-215.2576 298.8355,-222.226\"/>\n</g>\n<!-- healthy&#45;process&#45;&gt;healthy -->\n<g id=\"edge2\" class=\"edge\">\n<title>healthy&#45;process&#45;&gt;healthy</title>\n<path fill=\"none\" stroke=\"#6c48d2\" stroke-dasharray=\"5,2\" d=\"M329.2586,-332.5628C317.2193,-322.016 303.7941,-311.365 290.3503,-302.8542 265.3521,-287.0286 199.9547,-259.5758 147.0572,-238.4107\"/>\n<polygon fill=\"#6c48d2\" stroke=\"#6c48d2\" points=\"148.2609,-235.1227 137.6758,-234.6702 145.6684,-241.625 148.2609,-235.1227\"/>\n<text text-anchor=\"middle\" x=\"225.3503\" y=\"-308.0542\" font-family=\"Arial\" font-size=\"16.00\" fill=\"#000000\">p = 0.7 &#160;reward =6</text>\n</g>\n<!-- healthy&#45;process&#45;&gt;healthy -->\n<g id=\"edge3\" class=\"edge\">\n<title>healthy&#45;process&#45;&gt;healthy</title>\n<path fill=\"none\" stroke=\"#6c48d2\" stroke-dasharray=\"5,2\" d=\"M311.2595,-380.1258C266.1743,-376.1138 205.6442,-363.3364 160.3503,-333.8542 140.0456,-320.6377 122.4928,-301.1682 108.4597,-281.474\"/>\n<polygon fill=\"#6c48d2\" stroke=\"#6c48d2\" points=\"111.2109,-279.2976 102.6632,-273.0375 105.4414,-283.2616 111.2109,-279.2976\"/>\n</g>\n<!-- available -->\n<g id=\"node3\" class=\"node\">\n<title>available</title>\n<ellipse fill=\"#ded6f5\" stroke=\"#ded6f5\" cx=\"689.0681\" cy=\"-315.8542\" rx=\"79.3829\" ry=\"79.3829\"/>\n<ellipse fill=\"none\" stroke=\"#ded6f5\" cx=\"689.0681\" cy=\"-315.8542\" rx=\"83.3924\" ry=\"83.3924\"/>\n<text text-anchor=\"middle\" x=\"689.0681\" y=\"-322.6542\" font-family=\"Arial\" font-size=\"24.00\" fill=\"#000000\">available</text>\n<text text-anchor=\"middle\" x=\"689.0681\" y=\"-296.6542\" font-family=\"Arial\" font-size=\"24.00\" fill=\"#000000\">V =5.33</text>\n</g>\n<!-- healthy&#45;process&#45;&gt;available -->\n<g id=\"edge4\" class=\"edge\">\n<title>healthy&#45;process&#45;&gt;available</title>\n<path fill=\"none\" stroke=\"#6c48d2\" stroke-dasharray=\"5,2\" d=\"M432.0648,-351.8332C440.6062,-348.7891 449.3871,-346.0019 457.8721,-343.8542 502.595,-332.5339 553.3802,-325.7423 595.9389,-321.6913\"/>\n<polygon fill=\"#6c48d2\" stroke=\"#6c48d2\" points=\"596.3695,-325.1666 606.0086,-320.769 595.731,-318.1958 596.3695,-325.1666\"/>\n<text text-anchor=\"middle\" x=\"522.8721\" y=\"-349.0542\" font-family=\"Arial\" font-size=\"16.00\" fill=\"#000000\">p = 0.2 &#160;reward =3</text>\n</g>\n<!-- healthy&#45;process&#45;&gt;available -->\n<g id=\"edge5\" class=\"edge\">\n<title>healthy&#45;process&#45;&gt;available</title>\n<path fill=\"none\" stroke=\"#6c48d2\" stroke-dasharray=\"5,2\" d=\"M437.2419,-378.27C480.301,-377.822 538.2881,-374.4279 587.8721,-361.8542 593.5645,-360.4107 599.3334,-358.6604 605.0802,-356.6967\"/>\n<polygon fill=\"#6c48d2\" stroke=\"#6c48d2\" points=\"606.5036,-359.9037 614.7135,-353.2068 604.1193,-353.3223 606.5036,-359.9037\"/>\n</g>\n<!-- wear&amp;tear -->\n<g id=\"node4\" class=\"node\">\n<title>wear&amp;tear</title>\n<ellipse fill=\"#ded6f5\" stroke=\"#ded6f5\" cx=\"1344.5885\" cy=\"-331.8542\" rx=\"89.6139\" ry=\"89.6139\"/>\n<ellipse fill=\"none\" stroke=\"#ded6f5\" cx=\"1344.5885\" cy=\"-331.8542\" rx=\"93.6055\" ry=\"93.6055\"/>\n<text text-anchor=\"middle\" x=\"1344.5885\" y=\"-338.6542\" font-family=\"Arial\" font-size=\"24.00\" fill=\"#000000\">wear&amp;tear</text>\n<text text-anchor=\"middle\" x=\"1344.5885\" y=\"-312.6542\" font-family=\"Arial\" font-size=\"24.00\" fill=\"#000000\">V =4.74</text>\n</g>\n<!-- healthy&#45;process&#45;&gt;wear&amp;tear -->\n<g id=\"edge6\" class=\"edge\">\n<title>healthy&#45;process&#45;&gt;wear&amp;tear</title>\n<path fill=\"none\" stroke=\"#6c48d2\" stroke-dasharray=\"5,2\" d=\"M389.0046,-438.3925C401.1603,-474.1433 422.3187,-516.2738 457.8721,-537.8542 494.674,-560.1923 1195.7897,-559.8689 1232.7859,-537.8542 1272.0405,-514.4955 1298.3665,-472.0123 1315.5542,-431.6683\"/>\n<polygon fill=\"#6c48d2\" stroke=\"#6c48d2\" points=\"1318.8446,-432.8694 1319.4062,-422.2895 1312.3694,-430.21 1318.8446,-432.8694\"/>\n<text text-anchor=\"middle\" x=\"855.2641\" y=\"-559.0542\" font-family=\"Arial\" font-size=\"16.00\" fill=\"#000000\">p = 0.1 &#160;reward =1</text>\n</g>\n<!-- healthy&#45;process&#45;&gt;wear&amp;tear -->\n<g id=\"edge7\" class=\"edge\">\n<title>healthy&#45;process&#45;&gt;wear&amp;tear</title>\n<path fill=\"none\" stroke=\"#6c48d2\" stroke-dasharray=\"5,2\" d=\"M432.9629,-399.4245C512.5981,-428.7592 659.7442,-478.7253 790.2641,-499.8542 920.8704,-520.9971 955.498,-507.6316 1087.7859,-509.8542 1152.2213,-510.9367 1176.3853,-541.032 1232.7859,-509.8542 1265.0446,-492.0219 1289.2521,-460.5522 1306.74,-428.9822\"/>\n<polygon fill=\"#6c48d2\" stroke=\"#6c48d2\" points=\"1309.8676,-430.5555 1311.4954,-420.0864 1303.6943,-427.2554 1309.8676,-430.5555\"/>\n</g>\n<!-- absorbing -->\n<g id=\"node5\" class=\"node\">\n<title>absorbing</title>\n<ellipse fill=\"#ded6f5\" stroke=\"#ded6f5\" cx=\"2022.887\" cy=\"-375.8542\" rx=\"86.9494\" ry=\"86.9494\"/>\n<ellipse fill=\"none\" stroke=\"#ded6f5\" cx=\"2022.887\" cy=\"-375.8542\" rx=\"90.9483\" ry=\"90.9483\"/>\n<text text-anchor=\"middle\" x=\"2022.887\" y=\"-382.6542\" font-family=\"Arial\" font-size=\"24.00\" fill=\"#000000\">absorbing</text>\n<text text-anchor=\"middle\" x=\"2022.887\" y=\"-356.6542\" font-family=\"Arial\" font-size=\"24.00\" fill=\"#000000\">V =0.0</text>\n</g>\n<!-- healthy&#45;process&#45;&gt;absorbing -->\n<g id=\"edge8\" class=\"edge\">\n<title>healthy&#45;process&#45;&gt;absorbing</title>\n<path fill=\"none\" stroke=\"#6c48d2\" stroke-dasharray=\"5,2\" d=\"M387.9686,-438.3864C403.3735,-500.9501 429.8053,-591.7431 457.8721,-613.8542 539.0212,-677.7833 585.7622,-637.8542 689.0681,-637.8542 689.0681,-637.8542 689.0681,-637.8542 1685.152,-637.8542 1787.3815,-637.8542 1830.8874,-673.5001 1913.9129,-613.8542 1959.4134,-581.1663 1986.3627,-524.7674 2002.0762,-475.0749\"/>\n<polygon fill=\"#6c48d2\" stroke=\"#6c48d2\" points=\"2005.5077,-475.8206 2005.0712,-465.2348 1998.811,-473.7823 2005.5077,-475.8206\"/>\n<text text-anchor=\"middle\" x=\"1160.2859\" y=\"-643.0542\" font-family=\"Arial\" font-size=\"16.00\" fill=\"#000000\">p = 0.0 &#160;reward =&#45;15</text>\n</g>\n<!-- healthy&#45;process&#45;&gt;absorbing -->\n<g id=\"edge9\" class=\"edge\">\n<title>healthy&#45;process&#45;&gt;absorbing</title>\n<path fill=\"none\" stroke=\"#6c48d2\" stroke-dasharray=\"5,2\" d=\"M387.1337,-438.5691C398.849,-478.6651 420.2183,-528.7188 457.8721,-557.8542 540.4688,-621.7648 584.6326,-599.8542 689.0681,-599.8542 689.0681,-599.8542 689.0681,-599.8542 1685.152,-599.8542 1794.0566,-599.8542 1894.7351,-517.9655 1957.3222,-453.2124\"/>\n<polygon fill=\"#6c48d2\" stroke=\"#6c48d2\" points=\"1960.0162,-455.459 1964.387,-445.8078 1954.9515,-450.6268 1960.0162,-455.459\"/>\n</g>\n<!-- available&#45;process -->\n<g id=\"node7\" class=\"node\">\n<title>available&#45;process</title>\n<ellipse fill=\"#f5d6ed\" stroke=\"#f5d6ed\" cx=\"1004.025\" cy=\"-356.8542\" rx=\"62.8651\" ry=\"62.8651\"/>\n<text text-anchor=\"middle\" x=\"1004.025\" y=\"-351.8542\" font-family=\"Arial\" font-size=\"20.00\" fill=\"#000000\">process</text>\n</g>\n<!-- available&#45;&gt;available&#45;process -->\n<g id=\"edge13\" class=\"edge\">\n<title>available&#45;&gt;available&#45;process</title>\n<path fill=\"none\" stroke=\"#d248af\" stroke-width=\"2\" d=\"M772.2859,-313.841C816.4115,-316.6104 871.4476,-322.2056 920.2641,-329.8542 925.0628,-330.606 930.0002,-331.459 934.9628,-332.3937\"/>\n<polygon fill=\"#d248af\" stroke=\"#d248af\" stroke-width=\"2\" points=\"934.6576,-335.9015 945.1484,-334.4208 936.024,-329.0361 934.6576,-335.9015\"/>\n</g>\n<!-- available&#45;maintain -->\n<g id=\"node8\" class=\"node\">\n<title>available&#45;maintain</title>\n<ellipse fill=\"#f5d6ed\" stroke=\"#f5d6ed\" cx=\"1004.025\" cy=\"-171.8542\" rx=\"65.5227\" ry=\"65.5227\"/>\n<text text-anchor=\"middle\" x=\"1004.025\" y=\"-166.8542\" font-family=\"Arial\" font-size=\"20.00\" fill=\"#000000\">maintain</text>\n</g>\n<!-- available&#45;&gt;available&#45;maintain -->\n<g id=\"edge20\" class=\"edge\">\n<title>available&#45;&gt;available&#45;maintain</title>\n<path fill=\"none\" stroke=\"#d248af\" stroke-width=\"2\" d=\"M753.7966,-263.3222C765.6829,-255.9495 778.1629,-248.8651 790.2641,-242.8542 815.5604,-230.2889 878.9738,-206.909 930.2059,-190.2103\"/>\n<polygon fill=\"#d248af\" stroke=\"#d248af\" stroke-width=\"2\" points=\"931.5028,-193.4696 939.9462,-187.0696 929.3546,-186.8074 931.5028,-193.4696\"/>\n</g>\n<!-- wear&amp;tear&#45;process -->\n<g id=\"node9\" class=\"node\">\n<title>wear&amp;tear&#45;process</title>\n<ellipse fill=\"#f5d6ed\" stroke=\"#f5d6ed\" cx=\"1685.152\" cy=\"-376.8542\" rx=\"62.8651\" ry=\"62.8651\"/>\n<text text-anchor=\"middle\" x=\"1685.152\" y=\"-371.8542\" font-family=\"Arial\" font-size=\"20.00\" fill=\"#000000\">process</text>\n</g>\n<!-- wear&amp;tear&#45;&gt;wear&amp;tear&#45;process -->\n<g id=\"edge25\" class=\"edge\">\n<title>wear&amp;tear&#45;&gt;wear&amp;tear&#45;process</title>\n<path fill=\"none\" stroke=\"#d248af\" stroke-width=\"2\" d=\"M1438.1155,-341.9463C1444.2895,-342.9823 1450.4227,-343.9689 1456.3911,-344.8542 1508.6993,-352.6126 1568.1323,-358.5007 1613.3074,-363.6237\"/>\n<polygon fill=\"#d248af\" stroke=\"#d248af\" stroke-width=\"2\" points=\"1612.9689,-367.1077 1623.3033,-364.7734 1613.7688,-360.1536 1612.9689,-367.1077\"/>\n</g>\n<!-- wear&amp;tear&#45;maintain -->\n<g id=\"node10\" class=\"node\">\n<title>wear&amp;tear&#45;maintain</title>\n<ellipse fill=\"#f5d6ed\" stroke=\"#f5d6ed\" cx=\"1685.152\" cy=\"-77.8542\" rx=\"65.5227\" ry=\"65.5227\"/>\n<text text-anchor=\"middle\" x=\"1685.152\" y=\"-72.8542\" font-family=\"Arial\" font-size=\"20.00\" fill=\"#000000\">maintain</text>\n</g>\n<!-- wear&amp;tear&#45;&gt;wear&amp;tear&#45;maintain -->\n<g id=\"edge32\" class=\"edge\">\n<title>wear&amp;tear&#45;&gt;wear&amp;tear&#45;maintain</title>\n<path fill=\"none\" stroke=\"#d248af\" stroke-width=\"2\" d=\"M1436.171,-311.1039C1499.3548,-298.7504 1576.3145,-281.8972 1601.3911,-260.8542 1634.508,-233.0639 1654.93,-189.6816 1667.3061,-152.0818\"/>\n<polygon fill=\"#d248af\" stroke=\"#d248af\" stroke-width=\"2\" points=\"1670.7666,-152.7452 1670.4345,-142.1556 1664.0903,-150.641 1670.7666,-152.7452\"/>\n</g>\n<!-- absorbing&#45;process -->\n<g id=\"node11\" class=\"node\">\n<title>absorbing&#45;process</title>\n<ellipse fill=\"#f5d6ed\" stroke=\"#f5d6ed\" cx=\"2360.6221\" cy=\"-444.8542\" rx=\"62.8651\" ry=\"62.8651\"/>\n<text text-anchor=\"middle\" x=\"2360.6221\" y=\"-439.8542\" font-family=\"Arial\" font-size=\"20.00\" fill=\"#000000\">process</text>\n</g>\n<!-- absorbing&#45;&gt;absorbing&#45;process -->\n<g id=\"edge39\" class=\"edge\">\n<title>absorbing&#45;&gt;absorbing&#45;process</title>\n<path fill=\"none\" stroke=\"#d248af\" stroke-width=\"2\" d=\"M2109.6162,-404.3486C2117.0585,-406.7859 2124.5399,-409.0135 2131.8612,-410.8542 2183.1923,-423.7591 2242.6596,-430.0025 2288.0952,-434.2705\"/>\n<polygon fill=\"#d248af\" stroke=\"#d248af\" stroke-width=\"2\" points=\"2287.8723,-437.7648 2298.1537,-435.207 2288.5212,-430.7949 2287.8723,-437.7648\"/>\n</g>\n<!-- absorbing&#45;maintain -->\n<g id=\"node12\" class=\"node\">\n<title>absorbing&#45;maintain</title>\n<ellipse fill=\"#f5d6ed\" stroke=\"#f5d6ed\" cx=\"2360.6221\" cy=\"-297.8542\" rx=\"65.5227\" ry=\"65.5227\"/>\n<text text-anchor=\"middle\" x=\"2360.6221\" y=\"-292.8542\" font-family=\"Arial\" font-size=\"20.00\" fill=\"#000000\">maintain</text>\n</g>\n<!-- absorbing&#45;&gt;absorbing&#45;maintain -->\n<g id=\"edge42\" class=\"edge\">\n<title>absorbing&#45;&gt;absorbing&#45;maintain</title>\n<path fill=\"none\" stroke=\"#d248af\" stroke-width=\"2\" d=\"M2111.9543,-355.9172C2161.0919,-347.2253 2222.9086,-335.9053 2276.8612,-320.8542 2280.263,-319.9051 2283.7198,-318.873 2287.195,-317.7862\"/>\n<polygon fill=\"#d248af\" stroke=\"#d248af\" stroke-width=\"2\" points=\"2288.5758,-321.0179 2297.0073,-314.6022 2286.4153,-314.3596 2288.5758,-321.0179\"/>\n</g>\n<!-- healthy&#45;maintain&#45;&gt;healthy -->\n<g id=\"edge11\" class=\"edge\">\n<title>healthy&#45;maintain&#45;&gt;healthy</title>\n<path fill=\"none\" stroke=\"#6c48d2\" stroke-dasharray=\"5,2\" d=\"M314.6718,-200.8673C306.6545,-197.9836 298.4119,-195.5132 290.3503,-193.8542 244.7947,-184.479 192.9072,-187.4392 151.0571,-193.1101\"/>\n<polygon fill=\"#6c48d2\" stroke=\"#6c48d2\" points=\"150.3215,-189.6797 140.919,-194.5628 151.3144,-196.6089 150.3215,-189.6797\"/>\n<text text-anchor=\"middle\" x=\"225.3503\" y=\"-199.0542\" font-family=\"Arial\" font-size=\"16.00\" fill=\"#000000\">p = 1.0 &#160;reward =6</text>\n</g>\n<!-- healthy&#45;maintain&#45;&gt;healthy -->\n<g id=\"edge12\" class=\"edge\">\n<title>healthy&#45;maintain&#45;&gt;healthy</title>\n<path fill=\"none\" stroke=\"#6c48d2\" stroke-dasharray=\"5,2\" d=\"M308.2856,-230.9721C262.4054,-229.0806 200.91,-224.9409 152.0436,-220.5109\"/>\n<polygon fill=\"#6c48d2\" stroke=\"#6c48d2\" points=\"152.0985,-217.001 141.8179,-219.5619 151.4516,-223.9711 152.0985,-217.001\"/>\n</g>\n<!-- available&#45;process&#45;&gt;available -->\n<g id=\"edge14\" class=\"edge\">\n<title>available&#45;process&#45;&gt;available</title>\n<path fill=\"none\" stroke=\"#6c48d2\" stroke-dasharray=\"5,2\" d=\"M941.1604,-352.2948C898.4697,-348.8027 840.8038,-343.3129 790.2641,-335.8542 787.0751,-335.3835 783.8342,-334.8802 780.5646,-334.3511\"/>\n<polygon fill=\"#6c48d2\" stroke=\"#6c48d2\" points=\"781.1339,-330.8978 770.6924,-332.6934 779.9747,-337.8011 781.1339,-330.8978\"/>\n<text text-anchor=\"middle\" x=\"855.2641\" y=\"-355.0542\" font-family=\"Arial\" font-size=\"16.00\" fill=\"#000000\">p = 0.6 &#160;reward =3</text>\n</g>\n<!-- available&#45;process&#45;&gt;available -->\n<g id=\"edge15\" class=\"edge\">\n<title>available&#45;process&#45;&gt;available</title>\n<path fill=\"none\" stroke=\"#6c48d2\" stroke-dasharray=\"5,2\" d=\"M941.0511,-351.4746C934.0583,-350.1729 927.0236,-348.9132 920.2641,-347.8542 874.7018,-340.7154 823.7214,-335.3655 781.2507,-330.8288\"/>\n<polygon fill=\"#6c48d2\" stroke=\"#6c48d2\" points=\"781.5234,-327.338 771.2074,-329.7528 780.7777,-334.2982 781.5234,-327.338\"/>\n</g>\n<!-- available&#45;process&#45;&gt;wear&amp;tear -->\n<g id=\"edge16\" class=\"edge\">\n<title>available&#45;process&#45;&gt;wear&amp;tear</title>\n<path fill=\"none\" stroke=\"#6c48d2\" stroke-dasharray=\"5,2\" d=\"M1066.8865,-352.2396C1115.5679,-348.666 1184.0474,-343.6391 1240.822,-339.4714\"/>\n<polygon fill=\"#6c48d2\" stroke=\"#6c48d2\" points=\"1241.1982,-342.9533 1250.9151,-338.7305 1240.6857,-335.9721 1241.1982,-342.9533\"/>\n<text text-anchor=\"middle\" x=\"1160.2859\" y=\"-355.0542\" font-family=\"Arial\" font-size=\"16.00\" fill=\"#000000\">p = 0.3 &#160;reward =1</text>\n</g>\n<!-- available&#45;process&#45;&gt;wear&amp;tear -->\n<g id=\"edge17\" class=\"edge\">\n<title>available&#45;process&#45;&gt;wear&amp;tear</title>\n<path fill=\"none\" stroke=\"#6c48d2\" stroke-dasharray=\"5,2\" d=\"M1066.0942,-344.7531C1073.3854,-343.6243 1080.7362,-342.6189 1087.7859,-341.8542 1137.8926,-336.4184 1193.7807,-333.8327 1240.5919,-332.6402\"/>\n<polygon fill=\"#6c48d2\" stroke=\"#6c48d2\" points=\"1240.8296,-336.1356 1250.7438,-332.3996 1240.6637,-329.1376 1240.8296,-336.1356\"/>\n</g>\n<!-- available&#45;process&#45;&gt;absorbing -->\n<g id=\"edge18\" class=\"edge\">\n<title>available&#45;process&#45;&gt;absorbing</title>\n<path fill=\"none\" stroke=\"#6c48d2\" stroke-dasharray=\"5,2\" d=\"M1056.9093,-322.0013C1105.2657,-291.9827 1179.8528,-250.2189 1250.7859,-228.8542 1400.283,-183.8262 1448.0894,-177.2657 1601.3911,-206.8542 1721.1458,-229.9678 1850.0861,-286.8614 1933.3785,-328.2679\"/>\n<polygon fill=\"#6c48d2\" stroke=\"#6c48d2\" points=\"1932.0412,-331.5124 1942.5504,-332.8567 1935.1733,-325.2522 1932.0412,-331.5124\"/>\n<text text-anchor=\"middle\" x=\"1528.8911\" y=\"-212.0542\" font-family=\"Arial\" font-size=\"16.00\" fill=\"#000000\">p = 0.1 &#160;reward =&#45;15</text>\n</g>\n<!-- available&#45;process&#45;&gt;absorbing -->\n<g id=\"edge19\" class=\"edge\">\n<title>available&#45;process&#45;&gt;absorbing</title>\n<path fill=\"none\" stroke=\"#6c48d2\" stroke-dasharray=\"5,2\" d=\"M1047.5406,-311.215C1055.6166,-301.347 1063.4821,-290.627 1069.7859,-279.8542 1081.5034,-259.8299 1070.7166,-246.5675 1087.7859,-230.8542 1172.0793,-153.2571 1487.0981,-177.8673 1601.3911,-185.8542 1743.0079,-195.7505 1793.6034,-176.4958 1913.9129,-251.8542 1931.7592,-263.0325 1948.3383,-278.0092 1962.9074,-293.6828\"/>\n<polygon fill=\"#6c48d2\" stroke=\"#6c48d2\" points=\"1960.5948,-296.3441 1969.8948,-301.4196 1965.7897,-291.6523 1960.5948,-296.3441\"/>\n</g>\n<!-- available&#45;maintain&#45;&gt;healthy -->\n<g id=\"edge21\" class=\"edge\">\n<title>available&#45;maintain&#45;&gt;healthy</title>\n<path fill=\"none\" stroke=\"#6c48d2\" stroke-dasharray=\"5,2\" d=\"M939.7445,-157.4564C933.1916,-156.395 926.6126,-155.4919 920.2641,-154.8542 649.6643,-127.671 579.0402,-128.5837 308.3503,-154.8542 254.5064,-160.0797 195.1617,-173.5968 149.3034,-185.799\"/>\n<polygon fill=\"#6c48d2\" stroke=\"#6c48d2\" points=\"148.1782,-182.4773 139.4342,-188.46 150.0006,-189.236 148.1782,-182.4773\"/>\n<text text-anchor=\"middle\" x=\"522.8721\" y=\"-147.0542\" font-family=\"Arial\" font-size=\"16.00\" fill=\"#000000\">p = 0.8 &#160;reward =6</text>\n</g>\n<!-- available&#45;maintain&#45;&gt;healthy -->\n<g id=\"edge22\" class=\"edge\">\n<title>available&#45;maintain&#45;&gt;healthy</title>\n<path fill=\"none\" stroke=\"#6c48d2\" stroke-dasharray=\"5,2\" d=\"M943.3803,-146.2332C935.7032,-143.7208 927.8719,-141.4983 920.2641,-139.8542 855.8517,-125.9343 838.133,-132.8551 772.2641,-130.8542 500.2358,-122.5907 418.3884,-67.3441 160.3503,-153.8542 153.0746,-156.2934 145.7751,-159.4224 138.6572,-162.9475\"/>\n<polygon fill=\"#6c48d2\" stroke=\"#6c48d2\" points=\"136.9942,-159.8674 129.754,-167.6024 140.2375,-166.0708 136.9942,-159.8674\"/>\n</g>\n<!-- available&#45;maintain&#45;&gt;available -->\n<g id=\"edge23\" class=\"edge\">\n<title>available&#45;maintain&#45;&gt;available</title>\n<path fill=\"none\" stroke=\"#6c48d2\" stroke-dasharray=\"5,2\" d=\"M939.0358,-160.2297C894.6186,-155.5316 835.7854,-155.9089 790.2641,-179.8542 767.1548,-192.0101 747.9087,-212.0756 732.6238,-233.108\"/>\n<polygon fill=\"#6c48d2\" stroke=\"#6c48d2\" points=\"729.6056,-231.3168 726.7465,-241.5186 735.3435,-235.3265 729.6056,-231.3168\"/>\n<text text-anchor=\"middle\" x=\"855.2641\" y=\"-185.0542\" font-family=\"Arial\" font-size=\"16.00\" fill=\"#000000\">p = 0.2 &#160;reward =3</text>\n</g>\n<!-- available&#45;maintain&#45;&gt;available -->\n<g id=\"edge24\" class=\"edge\">\n<title>available&#45;maintain&#45;&gt;available</title>\n<path fill=\"none\" stroke=\"#6c48d2\" stroke-dasharray=\"5,2\" d=\"M944.3266,-199.6079C891.2672,-220.4052 817.9449,-247.1045 790.2641,-260.8542 783.9284,-264.0012 777.4889,-267.4426 771.0851,-271.0232\"/>\n<polygon fill=\"#6c48d2\" stroke=\"#6c48d2\" points=\"769.3446,-267.9866 762.388,-275.9776 772.8095,-274.0689 769.3446,-267.9866\"/>\n</g>\n<!-- wear&amp;tear&#45;process&#45;&gt;available -->\n<g id=\"edge26\" class=\"edge\">\n<title>wear&amp;tear&#45;process&#45;&gt;available</title>\n<path fill=\"none\" stroke=\"#6c48d2\" stroke-dasharray=\"5,2\" d=\"M1650.015,-429.357C1636.7662,-444.7061 1620.268,-459.5732 1601.3911,-467.8542 1518.8556,-504.0606 869.8348,-504.1802 790.2641,-461.8542 764.568,-448.1857 744.065,-424.7536 728.4183,-400.614\"/>\n<polygon fill=\"#6c48d2\" stroke=\"#6c48d2\" points=\"731.3465,-398.6951 723.0858,-392.0609 725.4063,-402.3985 731.3465,-398.6951\"/>\n<text text-anchor=\"middle\" x=\"1160.2859\" y=\"-499.0542\" font-family=\"Arial\" font-size=\"16.00\" fill=\"#000000\">p = 0.1 &#160;reward =3</text>\n</g>\n<!-- wear&amp;tear&#45;process&#45;&gt;available -->\n<g id=\"edge27\" class=\"edge\">\n<title>wear&amp;tear&#45;process&#45;&gt;available</title>\n<path fill=\"none\" stroke=\"#6c48d2\" stroke-dasharray=\"5,2\" d=\"M1624.747,-395.1785C1575.2103,-409.2012 1502.9801,-427.3655 1438.3911,-434.8542 1217.5756,-460.4561 1156.4139,-471.5809 938.2641,-428.8542 878.8122,-417.2099 816.7512,-389.124 769.4348,-363.8675\"/>\n<polygon fill=\"#6c48d2\" stroke=\"#6c48d2\" points=\"770.9362,-360.7005 760.4747,-359.0247 767.6078,-366.8586 770.9362,-360.7005\"/>\n</g>\n<!-- wear&amp;tear&#45;process&#45;&gt;wear&amp;tear -->\n<g id=\"edge28\" class=\"edge\">\n<title>wear&amp;tear&#45;process&#45;&gt;wear&amp;tear</title>\n<path fill=\"none\" stroke=\"#6c48d2\" stroke-dasharray=\"5,2\" d=\"M1631.768,-343.2357C1621.9944,-338.5335 1611.6366,-334.4321 1601.3911,-331.8542 1552.0474,-319.4385 1495.6616,-318.0928 1448.3192,-320.4144\"/>\n<polygon fill=\"#6c48d2\" stroke=\"#6c48d2\" points=\"1447.8419,-316.9354 1438.0503,-320.9818 1448.2282,-323.9247 1447.8419,-316.9354\"/>\n<text text-anchor=\"middle\" x=\"1528.8911\" y=\"-337.0542\" font-family=\"Arial\" font-size=\"16.00\" fill=\"#000000\">p = 0.5 &#160;reward =1</text>\n</g>\n<!-- wear&amp;tear&#45;process&#45;&gt;wear&amp;tear -->\n<g id=\"edge29\" class=\"edge\">\n<title>wear&amp;tear&#45;process&#45;&gt;wear&amp;tear</title>\n<path fill=\"none\" stroke=\"#6c48d2\" stroke-dasharray=\"5,2\" d=\"M1621.8402,-379.5953C1575.8058,-377.2502 1512.0631,-371.1116 1456.3911,-362.8542 1452.485,-362.2748 1448.5084,-361.6521 1444.4959,-360.9919\"/>\n<polygon fill=\"#6c48d2\" stroke=\"#6c48d2\" points=\"1444.9149,-357.5128 1434.4681,-359.2774 1443.7352,-364.4127 1444.9149,-357.5128\"/>\n</g>\n<!-- wear&amp;tear&#45;process&#45;&gt;absorbing -->\n<g id=\"edge30\" class=\"edge\">\n<title>wear&amp;tear&#45;process&#45;&gt;absorbing</title>\n<path fill=\"none\" stroke=\"#6c48d2\" stroke-dasharray=\"5,2\" d=\"M1748.2812,-376.6672C1797.0008,-376.523 1865.3687,-376.3206 1921.6979,-376.1538\"/>\n<polygon fill=\"#6c48d2\" stroke=\"#6c48d2\" points=\"1921.7175,-379.6538 1931.7071,-376.1241 1921.6967,-372.6539 1921.7175,-379.6538\"/>\n<text text-anchor=\"middle\" x=\"1841.4129\" y=\"-381.0542\" font-family=\"Arial\" font-size=\"16.00\" fill=\"#000000\">p = 0.4 &#160;reward =&#45;15</text>\n</g>\n<!-- wear&amp;tear&#45;process&#45;&gt;absorbing -->\n<g id=\"edge31\" class=\"edge\">\n<title>wear&amp;tear&#45;process&#45;&gt;absorbing</title>\n<path fill=\"none\" stroke=\"#6c48d2\" stroke-dasharray=\"5,2\" d=\"M1748.2612,-374.3518C1755.2287,-374.1476 1762.2205,-373.974 1768.9129,-373.8542 1819.2277,-372.9534 1875.1566,-373.2533 1921.6944,-373.8623\"/>\n<polygon fill=\"#6c48d2\" stroke=\"#6c48d2\" points=\"1921.7337,-377.363 1931.7809,-374.001 1921.8301,-370.3637 1921.7337,-377.363\"/>\n</g>\n<!-- wear&amp;tear&#45;maintain&#45;&gt;healthy -->\n<g id=\"edge33\" class=\"edge\">\n<title>wear&amp;tear&#45;maintain&#45;&gt;healthy</title>\n<path fill=\"none\" stroke=\"#6c48d2\" stroke-dasharray=\"5,2\" d=\"M1620.8308,-63.1224C1614.2859,-61.8967 1607.72,-60.7764 1601.3911,-59.8542 1488.1074,-43.3465 1459.0686,-39.8542 1344.5885,-39.8542 374.1112,-39.8542 374.1112,-39.8542 374.1112,-39.8542 273.2804,-39.8542 245.0218,-61.1039 160.3503,-115.8542 147.4068,-124.2236 134.9705,-134.8254 123.7061,-145.8514\"/>\n<polygon fill=\"#6c48d2\" stroke=\"#6c48d2\" points=\"121.0354,-143.5739 116.4794,-153.1391 126.006,-148.5028 121.0354,-143.5739\"/>\n<text text-anchor=\"middle\" x=\"855.2641\" y=\"-45.0542\" font-family=\"Arial\" font-size=\"16.00\" fill=\"#000000\">p = 0.2 &#160;reward =6</text>\n</g>\n<!-- wear&amp;tear&#45;maintain&#45;&gt;healthy -->\n<g id=\"edge34\" class=\"edge\">\n<title>wear&amp;tear&#45;maintain&#45;&gt;healthy</title>\n<path fill=\"none\" stroke=\"#6c48d2\" stroke-dasharray=\"5,2\" d=\"M1626.5061,-47.9456C1618.2192,-44.4909 1609.6928,-41.3263 1601.3911,-38.8542 1490.8742,-5.9434 1459.9015,-1.8542 1344.5885,-1.8542 374.1112,-1.8542 374.1112,-1.8542 374.1112,-1.8542 277.2032,-1.8542 238.3315,12.6791 160.3503,-44.8542 131.2732,-66.3067 110.6088,-100.1808 96.5447,-131.5875\"/>\n<polygon fill=\"#6c48d2\" stroke=\"#6c48d2\" points=\"93.3171,-130.2332 92.5709,-140.8017 99.7449,-133.0053 93.3171,-130.2332\"/>\n</g>\n<!-- wear&amp;tear&#45;maintain&#45;&gt;available -->\n<g id=\"edge35\" class=\"edge\">\n<title>wear&amp;tear&#45;maintain&#45;&gt;available</title>\n<path fill=\"none\" stroke=\"#6c48d2\" stroke-dasharray=\"5,2\" d=\"M1620.2495,-88.9005C1613.8813,-89.9248 1607.5133,-90.9255 1601.3911,-91.8542 1487.5041,-109.1287 1172.1642,-83.4388 1087.7859,-161.8542 1059.4994,-188.1417 1097.4896,-219.953 1069.7859,-246.8542 1049.3025,-266.7442 888.1067,-290.6485 782.1338,-304.4624\"/>\n<polygon fill=\"#6c48d2\" stroke=\"#6c48d2\" points=\"781.525,-301.0119 772.0573,-305.7673 782.424,-307.954 781.525,-301.0119\"/>\n<text text-anchor=\"middle\" x=\"1160.2859\" y=\"-167.0542\" font-family=\"Arial\" font-size=\"16.00\" fill=\"#000000\">p = 0.5 &#160;reward =3</text>\n</g>\n<!-- wear&amp;tear&#45;maintain&#45;&gt;available -->\n<g id=\"edge36\" class=\"edge\">\n<title>wear&amp;tear&#45;maintain&#45;&gt;available</title>\n<path fill=\"none\" stroke=\"#6c48d2\" stroke-dasharray=\"5,2\" d=\"M1619.6148,-71.9814C1488.6017,-61.8876 1185.7068,-46.8328 938.2641,-96.8542 869.0163,-110.8528 844.6806,-109.7981 790.2641,-154.8542 765.368,-175.4678 744.7135,-203.8622 728.6976,-231.0712\"/>\n<polygon fill=\"#6c48d2\" stroke=\"#6c48d2\" points=\"725.6004,-229.4365 723.6611,-239.8523 731.6726,-232.9192 725.6004,-229.4365\"/>\n</g>\n<!-- wear&amp;tear&#45;maintain&#45;&gt;wear&amp;tear -->\n<g id=\"edge37\" class=\"edge\">\n<title>wear&amp;tear&#45;maintain&#45;&gt;wear&amp;tear</title>\n<path fill=\"none\" stroke=\"#6c48d2\" stroke-dasharray=\"5,2\" d=\"M1665.5067,-140.9829C1652.4069,-172.447 1631.8797,-208.1155 1601.3911,-228.8542 1547.6499,-265.4093 1516.5718,-223.3049 1456.3911,-247.8542 1445.4146,-252.3317 1434.558,-258.1571 1424.1748,-264.6533\"/>\n<polygon fill=\"#6c48d2\" stroke=\"#6c48d2\" points=\"1422.0436,-261.8644 1415.5721,-270.2531 1425.8624,-267.731 1422.0436,-261.8644\"/>\n<text text-anchor=\"middle\" x=\"1528.8911\" y=\"-253.0542\" font-family=\"Arial\" font-size=\"16.00\" fill=\"#000000\">p = 0.3 &#160;reward =1</text>\n</g>\n<!-- wear&amp;tear&#45;maintain&#45;&gt;wear&amp;tear -->\n<g id=\"edge38\" class=\"edge\">\n<title>wear&amp;tear&#45;maintain&#45;&gt;wear&amp;tear</title>\n<path fill=\"none\" stroke=\"#6c48d2\" stroke-dasharray=\"5,2\" d=\"M1674.3487,-143.0879C1663.2924,-187.8623 1641.7854,-244.957 1601.3911,-278.8542 1577.9281,-298.5432 1509.0443,-314.5642 1448.5217,-324.1069\"/>\n<polygon fill=\"#6c48d2\" stroke=\"#6c48d2\" points=\"1447.8566,-320.6679 1438.5009,-325.64 1448.9152,-327.5874 1447.8566,-320.6679\"/>\n</g>\n<!-- absorbing&#45;process&#45;&gt;absorbing -->\n<g id=\"edge40\" class=\"edge\">\n<title>absorbing&#45;process&#45;&gt;absorbing</title>\n<path fill=\"none\" stroke=\"#6c48d2\" stroke-dasharray=\"5,2\" d=\"M2307.6165,-410.735C2297.7173,-405.6463 2287.2193,-401.0455 2276.8612,-397.8542 2248.8732,-389.231 2181.947,-383.644 2123.8221,-380.2586\"/>\n<polygon fill=\"#6c48d2\" stroke=\"#6c48d2\" points=\"2124.0138,-376.7639 2113.8319,-379.6929 2123.618,-383.7527 2124.0138,-376.7639\"/>\n<text text-anchor=\"middle\" x=\"2204.3612\" y=\"-403.0542\" font-family=\"Arial\" font-size=\"16.00\" fill=\"#000000\">p = 1.0 &#160;reward =&#45;15</text>\n</g>\n<!-- absorbing&#45;process&#45;&gt;absorbing -->\n<g id=\"edge41\" class=\"edge\">\n<title>absorbing&#45;process&#45;&gt;absorbing</title>\n<path fill=\"none\" stroke=\"#6c48d2\" stroke-dasharray=\"5,2\" d=\"M2297.6641,-450.0897C2251.2478,-448.8654 2186.8808,-442.6863 2131.8612,-428.8542 2125.4133,-427.2331 2118.8412,-425.3119 2112.2811,-423.1745\"/>\n<polygon fill=\"#6c48d2\" stroke=\"#6c48d2\" points=\"2113.2887,-419.8202 2102.6941,-419.8982 2111.025,-426.444 2113.2887,-419.8202\"/>\n</g>\n<!-- absorbing&#45;maintain&#45;&gt;absorbing -->\n<g id=\"edge43\" class=\"edge\">\n<title>absorbing&#45;maintain&#45;&gt;absorbing</title>\n<path fill=\"none\" stroke=\"#6c48d2\" stroke-dasharray=\"5,2\" d=\"M2295.0217,-291.9966C2248.4499,-289.9205 2185.0173,-291.3654 2131.8612,-307.8542 2123.1801,-310.547 2114.501,-314.106 2106.0433,-318.1872\"/>\n<polygon fill=\"#6c48d2\" stroke=\"#6c48d2\" points=\"2104.2905,-315.1519 2096.9631,-322.8043 2107.4633,-321.3916 2104.2905,-315.1519\"/>\n<text text-anchor=\"middle\" x=\"2204.3612\" y=\"-313.0542\" font-family=\"Arial\" font-size=\"16.00\" fill=\"#000000\">p = 1.0 &#160;reward =&#45;15</text>\n</g>\n<!-- absorbing&#45;maintain&#45;&gt;absorbing -->\n<g id=\"edge44\" class=\"edge\">\n<title>absorbing&#45;maintain&#45;&gt;absorbing</title>\n<path fill=\"none\" stroke=\"#6c48d2\" stroke-dasharray=\"5,2\" d=\"M2302.9631,-330.3798C2294.3013,-333.5609 2285.408,-336.4699 2276.8612,-338.8542 2227.3005,-352.6801 2171.1039,-363.3576 2124.195,-370.1174\"/>\n<polygon fill=\"#6c48d2\" stroke=\"#6c48d2\" points=\"2123.4432,-366.6885 2114.0254,-371.5419 2124.4143,-373.6208 2123.4432,-366.6885\"/>\n</g>\n</g>\n</svg>\n"
          },
          "metadata": {}
        }
      ],
      "source": [
        "maintain_policy = {s: \"maintain\" for s in mdp.get_all_states()}\n",
        "vpi_maintain, policy_maintain = policy_iteration(mdp, policy=maintain_policy, gamma=0.5, num_iter=1000, min_difference=1e-5)\n",
        "\n",
        "if has_graphviz:\n",
        "    display(plot_graph_with_state_values(mdp, vpi_maintain))"
      ]
    },
    {
      "cell_type": "markdown",
      "source": [
        "由 (c) 和 (d) 的計算過程和結果可以看到雖然初始策略與計算過程不同（diff. 不一樣），但兩者的最佳策略和各狀態的價值是相同的。"
      ],
      "metadata": {
        "id": "V9GqRuPijw2J"
      }
    }
  ],
  "metadata": {
    "colab": {
      "collapsed_sections": [
        "dEOzRWcPJFfB",
        "3pii6cACf2Hq",
        "v64L8o9pKPsi"
      ],
      "provenance": [],
      "toc_visible": true,
      "authorship_tag": "ABX9TyOcwLypuIkY1wml0PuVSw/C",
      "include_colab_link": true
    },
    "kernelspec": {
      "display_name": "Python 3",
      "name": "python3"
    },
    "language_info": {
      "name": "python"
    }
  },
  "nbformat": 4,
  "nbformat_minor": 0
}