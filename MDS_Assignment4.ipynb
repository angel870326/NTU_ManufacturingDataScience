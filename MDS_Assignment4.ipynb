{
  "cells": [
    {
      "cell_type": "markdown",
      "metadata": {
        "id": "view-in-github",
        "colab_type": "text"
      },
      "source": [
        "<a href=\"https://colab.research.google.com/github/angel870326/NTU_Manufacturing_Data_Science/blob/main/MDS_Assignment4.ipynb\" target=\"_parent\"><img src=\"https://colab.research.google.com/assets/colab-badge.svg\" alt=\"Open In Colab\"/></a>"
      ]
    },
    {
      "cell_type": "markdown",
      "metadata": {
        "id": "a1FWjFHjPpNl"
      },
      "source": [
        "> 2022.12.23 Ssu-Yun Wang<br/>\n",
        "[Github @angel870326](https://github.com/angel870326)\n",
        "\n",
        "# **Manufacturing Data Science Assignment 4**\n",
        "\n",
        "\n",
        "1.   (40%) Data Imbalance Problem\n",
        "2.   (30%) Programming Questions\n",
        "3.   (30%) Markov Decision Process\n"
      ]
    },
    {
      "cell_type": "code",
      "execution_count": 4,
      "metadata": {
        "colab": {
          "base_uri": "https://localhost:8080/"
        },
        "id": "CAKAO8umRseJ",
        "outputId": "ae32b237-6405-4059-a1f8-bced8e43e9fc"
      },
      "outputs": [
        {
          "output_type": "stream",
          "name": "stdout",
          "text": [
            "Drive already mounted at /content/gdrive; to attempt to forcibly remount, call drive.mount(\"/content/gdrive\", force_remount=True).\n"
          ]
        }
      ],
      "source": [
        "# sConnect to the Google Drive\n",
        "from google.colab import drive\n",
        "drive.mount(\"/content/gdrive\")"
      ]
    },
    {
      "cell_type": "code",
      "execution_count": 5,
      "metadata": {
        "id": "c4mNcdP7SkqZ"
      },
      "outputs": [],
      "source": [
        "import pandas as pd\n",
        "import numpy as np\n",
        "import seaborn as sns\n",
        "import matplotlib.pyplot as plt"
      ]
    },
    {
      "cell_type": "markdown",
      "metadata": {
        "id": "dEOzRWcPJFfB"
      },
      "source": [
        "\n",
        "\n",
        "---\n",
        "\n",
        "\n",
        "##**1. (40%) Data Imbalance Problem**\n",
        "\n",
        "在 UCI Machine Learning Repository 開放數據中包含了一個半導體製造數據([semiconductor manufacturing dataset](https://archive.ics.uci.edu/ml/datasets/SECOM))，一共包含了 1,567 個觀測值，而每個觀測值具有 590 個特徵（感測值的量測結果）以及作為目標值的測試結果（為二元變數，良品為 -1，不良品為 1），其中不良品僅有 104 個樣本。試著參考網路資源學習並撰寫程式，使用此數據回答下列問題。"
      ]
    },
    {
      "cell_type": "code",
      "execution_count": 6,
      "metadata": {
        "colab": {
          "base_uri": "https://localhost:8080/",
          "height": 506
        },
        "id": "r61SOzT5SOjW",
        "outputId": "49d0b031-c658-426c-d6b8-2bbb5b2097ed"
      },
      "outputs": [
        {
          "output_type": "stream",
          "name": "stdout",
          "text": [
            "(1567, 591)\n"
          ]
        },
        {
          "output_type": "execute_result",
          "data": {
            "text/plain": [
              "      Sensor_1  Sensor_2   Sensor_3   Sensor_4  Sensor_5  Sensor_6  Sensor_7  \\\n",
              "0      3030.93   2564.00  2187.7333  1411.1265    1.3602     100.0   97.6133   \n",
              "1      3095.78   2465.14  2230.4222  1463.6606    0.8294     100.0  102.3433   \n",
              "2      2932.61   2559.94  2186.4111  1698.0172    1.5102     100.0   95.4878   \n",
              "3      2988.72   2479.90  2199.0333   909.7926    1.3204     100.0  104.2367   \n",
              "4      3032.24   2502.87  2233.3667  1326.5200    1.5334     100.0  100.3967   \n",
              "...        ...       ...        ...        ...       ...       ...       ...   \n",
              "1562   2899.41   2464.36  2179.7333  3085.3781    1.4843     100.0   82.2467   \n",
              "1563   3052.31   2522.55  2198.5667  1124.6595    0.8763     100.0   98.4689   \n",
              "1564   2978.81   2379.78  2206.3000  1110.4967    0.8236     100.0   99.4122   \n",
              "1565   2894.92   2532.01  2177.0333  1183.7287    1.5726     100.0   98.7978   \n",
              "1566   2944.92   2450.76  2195.4444  2914.1792    1.5978     100.0   85.1011   \n",
              "\n",
              "      Sensor_8  Sensor_9  Sensor_10  ...  Sensor_582  Sensor_583  Sensor_584  \\\n",
              "0       0.1242    1.5005     0.0162  ...         NaN      0.5005      0.0118   \n",
              "1       0.1247    1.4966    -0.0005  ...    208.2045      0.5019      0.0223   \n",
              "2       0.1241    1.4436     0.0041  ...     82.8602      0.4958      0.0157   \n",
              "3       0.1217    1.4882    -0.0124  ...     73.8432      0.4990      0.0103   \n",
              "4       0.1235    1.5031    -0.0031  ...         NaN      0.4800      0.4766   \n",
              "...        ...       ...        ...  ...         ...         ...         ...   \n",
              "1562    0.1248    1.3424    -0.0045  ...    203.1720      0.4988      0.0143   \n",
              "1563    0.1205    1.4333    -0.0061  ...         NaN      0.4975      0.0131   \n",
              "1564    0.1208       NaN        NaN  ...     43.5231      0.4987      0.0153   \n",
              "1565    0.1213    1.4622    -0.0072  ...     93.4941      0.5004      0.0178   \n",
              "1566    0.1235       NaN        NaN  ...    137.7844      0.4987      0.0181   \n",
              "\n",
              "      Sensor_585  Sensor_586  Sensor_587  Sensor_588  Sensor_589  Sensor_590  \\\n",
              "0         0.0035      2.3630         NaN         NaN         NaN         NaN   \n",
              "1         0.0055      4.4447      0.0096      0.0201      0.0060    208.2045   \n",
              "2         0.0039      3.1745      0.0584      0.0484      0.0148     82.8602   \n",
              "3         0.0025      2.0544      0.0202      0.0149      0.0044     73.8432   \n",
              "4         0.1045     99.3032      0.0202      0.0149      0.0044     73.8432   \n",
              "...          ...         ...         ...         ...         ...         ...   \n",
              "1562      0.0039      2.8669      0.0068      0.0138      0.0047    203.1720   \n",
              "1563      0.0036      2.6238      0.0068      0.0138      0.0047    203.1720   \n",
              "1564      0.0041      3.0590      0.0197      0.0086      0.0025     43.5231   \n",
              "1565      0.0038      3.5662      0.0262      0.0245      0.0075     93.4941   \n",
              "1566      0.0040      3.6275      0.0117      0.0162      0.0045    137.7844   \n",
              "\n",
              "      Label  \n",
              "0        -1  \n",
              "1        -1  \n",
              "2         1  \n",
              "3        -1  \n",
              "4        -1  \n",
              "...     ...  \n",
              "1562     -1  \n",
              "1563     -1  \n",
              "1564     -1  \n",
              "1565     -1  \n",
              "1566     -1  \n",
              "\n",
              "[1567 rows x 591 columns]"
            ],
            "text/html": [
              "\n",
              "  <div id=\"df-159f5180-df5f-42c6-9447-cde637c674e5\">\n",
              "    <div class=\"colab-df-container\">\n",
              "      <div>\n",
              "<style scoped>\n",
              "    .dataframe tbody tr th:only-of-type {\n",
              "        vertical-align: middle;\n",
              "    }\n",
              "\n",
              "    .dataframe tbody tr th {\n",
              "        vertical-align: top;\n",
              "    }\n",
              "\n",
              "    .dataframe thead th {\n",
              "        text-align: right;\n",
              "    }\n",
              "</style>\n",
              "<table border=\"1\" class=\"dataframe\">\n",
              "  <thead>\n",
              "    <tr style=\"text-align: right;\">\n",
              "      <th></th>\n",
              "      <th>Sensor_1</th>\n",
              "      <th>Sensor_2</th>\n",
              "      <th>Sensor_3</th>\n",
              "      <th>Sensor_4</th>\n",
              "      <th>Sensor_5</th>\n",
              "      <th>Sensor_6</th>\n",
              "      <th>Sensor_7</th>\n",
              "      <th>Sensor_8</th>\n",
              "      <th>Sensor_9</th>\n",
              "      <th>Sensor_10</th>\n",
              "      <th>...</th>\n",
              "      <th>Sensor_582</th>\n",
              "      <th>Sensor_583</th>\n",
              "      <th>Sensor_584</th>\n",
              "      <th>Sensor_585</th>\n",
              "      <th>Sensor_586</th>\n",
              "      <th>Sensor_587</th>\n",
              "      <th>Sensor_588</th>\n",
              "      <th>Sensor_589</th>\n",
              "      <th>Sensor_590</th>\n",
              "      <th>Label</th>\n",
              "    </tr>\n",
              "  </thead>\n",
              "  <tbody>\n",
              "    <tr>\n",
              "      <th>0</th>\n",
              "      <td>3030.93</td>\n",
              "      <td>2564.00</td>\n",
              "      <td>2187.7333</td>\n",
              "      <td>1411.1265</td>\n",
              "      <td>1.3602</td>\n",
              "      <td>100.0</td>\n",
              "      <td>97.6133</td>\n",
              "      <td>0.1242</td>\n",
              "      <td>1.5005</td>\n",
              "      <td>0.0162</td>\n",
              "      <td>...</td>\n",
              "      <td>NaN</td>\n",
              "      <td>0.5005</td>\n",
              "      <td>0.0118</td>\n",
              "      <td>0.0035</td>\n",
              "      <td>2.3630</td>\n",
              "      <td>NaN</td>\n",
              "      <td>NaN</td>\n",
              "      <td>NaN</td>\n",
              "      <td>NaN</td>\n",
              "      <td>-1</td>\n",
              "    </tr>\n",
              "    <tr>\n",
              "      <th>1</th>\n",
              "      <td>3095.78</td>\n",
              "      <td>2465.14</td>\n",
              "      <td>2230.4222</td>\n",
              "      <td>1463.6606</td>\n",
              "      <td>0.8294</td>\n",
              "      <td>100.0</td>\n",
              "      <td>102.3433</td>\n",
              "      <td>0.1247</td>\n",
              "      <td>1.4966</td>\n",
              "      <td>-0.0005</td>\n",
              "      <td>...</td>\n",
              "      <td>208.2045</td>\n",
              "      <td>0.5019</td>\n",
              "      <td>0.0223</td>\n",
              "      <td>0.0055</td>\n",
              "      <td>4.4447</td>\n",
              "      <td>0.0096</td>\n",
              "      <td>0.0201</td>\n",
              "      <td>0.0060</td>\n",
              "      <td>208.2045</td>\n",
              "      <td>-1</td>\n",
              "    </tr>\n",
              "    <tr>\n",
              "      <th>2</th>\n",
              "      <td>2932.61</td>\n",
              "      <td>2559.94</td>\n",
              "      <td>2186.4111</td>\n",
              "      <td>1698.0172</td>\n",
              "      <td>1.5102</td>\n",
              "      <td>100.0</td>\n",
              "      <td>95.4878</td>\n",
              "      <td>0.1241</td>\n",
              "      <td>1.4436</td>\n",
              "      <td>0.0041</td>\n",
              "      <td>...</td>\n",
              "      <td>82.8602</td>\n",
              "      <td>0.4958</td>\n",
              "      <td>0.0157</td>\n",
              "      <td>0.0039</td>\n",
              "      <td>3.1745</td>\n",
              "      <td>0.0584</td>\n",
              "      <td>0.0484</td>\n",
              "      <td>0.0148</td>\n",
              "      <td>82.8602</td>\n",
              "      <td>1</td>\n",
              "    </tr>\n",
              "    <tr>\n",
              "      <th>3</th>\n",
              "      <td>2988.72</td>\n",
              "      <td>2479.90</td>\n",
              "      <td>2199.0333</td>\n",
              "      <td>909.7926</td>\n",
              "      <td>1.3204</td>\n",
              "      <td>100.0</td>\n",
              "      <td>104.2367</td>\n",
              "      <td>0.1217</td>\n",
              "      <td>1.4882</td>\n",
              "      <td>-0.0124</td>\n",
              "      <td>...</td>\n",
              "      <td>73.8432</td>\n",
              "      <td>0.4990</td>\n",
              "      <td>0.0103</td>\n",
              "      <td>0.0025</td>\n",
              "      <td>2.0544</td>\n",
              "      <td>0.0202</td>\n",
              "      <td>0.0149</td>\n",
              "      <td>0.0044</td>\n",
              "      <td>73.8432</td>\n",
              "      <td>-1</td>\n",
              "    </tr>\n",
              "    <tr>\n",
              "      <th>4</th>\n",
              "      <td>3032.24</td>\n",
              "      <td>2502.87</td>\n",
              "      <td>2233.3667</td>\n",
              "      <td>1326.5200</td>\n",
              "      <td>1.5334</td>\n",
              "      <td>100.0</td>\n",
              "      <td>100.3967</td>\n",
              "      <td>0.1235</td>\n",
              "      <td>1.5031</td>\n",
              "      <td>-0.0031</td>\n",
              "      <td>...</td>\n",
              "      <td>NaN</td>\n",
              "      <td>0.4800</td>\n",
              "      <td>0.4766</td>\n",
              "      <td>0.1045</td>\n",
              "      <td>99.3032</td>\n",
              "      <td>0.0202</td>\n",
              "      <td>0.0149</td>\n",
              "      <td>0.0044</td>\n",
              "      <td>73.8432</td>\n",
              "      <td>-1</td>\n",
              "    </tr>\n",
              "    <tr>\n",
              "      <th>...</th>\n",
              "      <td>...</td>\n",
              "      <td>...</td>\n",
              "      <td>...</td>\n",
              "      <td>...</td>\n",
              "      <td>...</td>\n",
              "      <td>...</td>\n",
              "      <td>...</td>\n",
              "      <td>...</td>\n",
              "      <td>...</td>\n",
              "      <td>...</td>\n",
              "      <td>...</td>\n",
              "      <td>...</td>\n",
              "      <td>...</td>\n",
              "      <td>...</td>\n",
              "      <td>...</td>\n",
              "      <td>...</td>\n",
              "      <td>...</td>\n",
              "      <td>...</td>\n",
              "      <td>...</td>\n",
              "      <td>...</td>\n",
              "      <td>...</td>\n",
              "    </tr>\n",
              "    <tr>\n",
              "      <th>1562</th>\n",
              "      <td>2899.41</td>\n",
              "      <td>2464.36</td>\n",
              "      <td>2179.7333</td>\n",
              "      <td>3085.3781</td>\n",
              "      <td>1.4843</td>\n",
              "      <td>100.0</td>\n",
              "      <td>82.2467</td>\n",
              "      <td>0.1248</td>\n",
              "      <td>1.3424</td>\n",
              "      <td>-0.0045</td>\n",
              "      <td>...</td>\n",
              "      <td>203.1720</td>\n",
              "      <td>0.4988</td>\n",
              "      <td>0.0143</td>\n",
              "      <td>0.0039</td>\n",
              "      <td>2.8669</td>\n",
              "      <td>0.0068</td>\n",
              "      <td>0.0138</td>\n",
              "      <td>0.0047</td>\n",
              "      <td>203.1720</td>\n",
              "      <td>-1</td>\n",
              "    </tr>\n",
              "    <tr>\n",
              "      <th>1563</th>\n",
              "      <td>3052.31</td>\n",
              "      <td>2522.55</td>\n",
              "      <td>2198.5667</td>\n",
              "      <td>1124.6595</td>\n",
              "      <td>0.8763</td>\n",
              "      <td>100.0</td>\n",
              "      <td>98.4689</td>\n",
              "      <td>0.1205</td>\n",
              "      <td>1.4333</td>\n",
              "      <td>-0.0061</td>\n",
              "      <td>...</td>\n",
              "      <td>NaN</td>\n",
              "      <td>0.4975</td>\n",
              "      <td>0.0131</td>\n",
              "      <td>0.0036</td>\n",
              "      <td>2.6238</td>\n",
              "      <td>0.0068</td>\n",
              "      <td>0.0138</td>\n",
              "      <td>0.0047</td>\n",
              "      <td>203.1720</td>\n",
              "      <td>-1</td>\n",
              "    </tr>\n",
              "    <tr>\n",
              "      <th>1564</th>\n",
              "      <td>2978.81</td>\n",
              "      <td>2379.78</td>\n",
              "      <td>2206.3000</td>\n",
              "      <td>1110.4967</td>\n",
              "      <td>0.8236</td>\n",
              "      <td>100.0</td>\n",
              "      <td>99.4122</td>\n",
              "      <td>0.1208</td>\n",
              "      <td>NaN</td>\n",
              "      <td>NaN</td>\n",
              "      <td>...</td>\n",
              "      <td>43.5231</td>\n",
              "      <td>0.4987</td>\n",
              "      <td>0.0153</td>\n",
              "      <td>0.0041</td>\n",
              "      <td>3.0590</td>\n",
              "      <td>0.0197</td>\n",
              "      <td>0.0086</td>\n",
              "      <td>0.0025</td>\n",
              "      <td>43.5231</td>\n",
              "      <td>-1</td>\n",
              "    </tr>\n",
              "    <tr>\n",
              "      <th>1565</th>\n",
              "      <td>2894.92</td>\n",
              "      <td>2532.01</td>\n",
              "      <td>2177.0333</td>\n",
              "      <td>1183.7287</td>\n",
              "      <td>1.5726</td>\n",
              "      <td>100.0</td>\n",
              "      <td>98.7978</td>\n",
              "      <td>0.1213</td>\n",
              "      <td>1.4622</td>\n",
              "      <td>-0.0072</td>\n",
              "      <td>...</td>\n",
              "      <td>93.4941</td>\n",
              "      <td>0.5004</td>\n",
              "      <td>0.0178</td>\n",
              "      <td>0.0038</td>\n",
              "      <td>3.5662</td>\n",
              "      <td>0.0262</td>\n",
              "      <td>0.0245</td>\n",
              "      <td>0.0075</td>\n",
              "      <td>93.4941</td>\n",
              "      <td>-1</td>\n",
              "    </tr>\n",
              "    <tr>\n",
              "      <th>1566</th>\n",
              "      <td>2944.92</td>\n",
              "      <td>2450.76</td>\n",
              "      <td>2195.4444</td>\n",
              "      <td>2914.1792</td>\n",
              "      <td>1.5978</td>\n",
              "      <td>100.0</td>\n",
              "      <td>85.1011</td>\n",
              "      <td>0.1235</td>\n",
              "      <td>NaN</td>\n",
              "      <td>NaN</td>\n",
              "      <td>...</td>\n",
              "      <td>137.7844</td>\n",
              "      <td>0.4987</td>\n",
              "      <td>0.0181</td>\n",
              "      <td>0.0040</td>\n",
              "      <td>3.6275</td>\n",
              "      <td>0.0117</td>\n",
              "      <td>0.0162</td>\n",
              "      <td>0.0045</td>\n",
              "      <td>137.7844</td>\n",
              "      <td>-1</td>\n",
              "    </tr>\n",
              "  </tbody>\n",
              "</table>\n",
              "<p>1567 rows × 591 columns</p>\n",
              "</div>\n",
              "      <button class=\"colab-df-convert\" onclick=\"convertToInteractive('df-159f5180-df5f-42c6-9447-cde637c674e5')\"\n",
              "              title=\"Convert this dataframe to an interactive table.\"\n",
              "              style=\"display:none;\">\n",
              "        \n",
              "  <svg xmlns=\"http://www.w3.org/2000/svg\" height=\"24px\"viewBox=\"0 0 24 24\"\n",
              "       width=\"24px\">\n",
              "    <path d=\"M0 0h24v24H0V0z\" fill=\"none\"/>\n",
              "    <path d=\"M18.56 5.44l.94 2.06.94-2.06 2.06-.94-2.06-.94-.94-2.06-.94 2.06-2.06.94zm-11 1L8.5 8.5l.94-2.06 2.06-.94-2.06-.94L8.5 2.5l-.94 2.06-2.06.94zm10 10l.94 2.06.94-2.06 2.06-.94-2.06-.94-.94-2.06-.94 2.06-2.06.94z\"/><path d=\"M17.41 7.96l-1.37-1.37c-.4-.4-.92-.59-1.43-.59-.52 0-1.04.2-1.43.59L10.3 9.45l-7.72 7.72c-.78.78-.78 2.05 0 2.83L4 21.41c.39.39.9.59 1.41.59.51 0 1.02-.2 1.41-.59l7.78-7.78 2.81-2.81c.8-.78.8-2.07 0-2.86zM5.41 20L4 18.59l7.72-7.72 1.47 1.35L5.41 20z\"/>\n",
              "  </svg>\n",
              "      </button>\n",
              "      \n",
              "  <style>\n",
              "    .colab-df-container {\n",
              "      display:flex;\n",
              "      flex-wrap:wrap;\n",
              "      gap: 12px;\n",
              "    }\n",
              "\n",
              "    .colab-df-convert {\n",
              "      background-color: #E8F0FE;\n",
              "      border: none;\n",
              "      border-radius: 50%;\n",
              "      cursor: pointer;\n",
              "      display: none;\n",
              "      fill: #1967D2;\n",
              "      height: 32px;\n",
              "      padding: 0 0 0 0;\n",
              "      width: 32px;\n",
              "    }\n",
              "\n",
              "    .colab-df-convert:hover {\n",
              "      background-color: #E2EBFA;\n",
              "      box-shadow: 0px 1px 2px rgba(60, 64, 67, 0.3), 0px 1px 3px 1px rgba(60, 64, 67, 0.15);\n",
              "      fill: #174EA6;\n",
              "    }\n",
              "\n",
              "    [theme=dark] .colab-df-convert {\n",
              "      background-color: #3B4455;\n",
              "      fill: #D2E3FC;\n",
              "    }\n",
              "\n",
              "    [theme=dark] .colab-df-convert:hover {\n",
              "      background-color: #434B5C;\n",
              "      box-shadow: 0px 1px 3px 1px rgba(0, 0, 0, 0.15);\n",
              "      filter: drop-shadow(0px 1px 2px rgba(0, 0, 0, 0.3));\n",
              "      fill: #FFFFFF;\n",
              "    }\n",
              "  </style>\n",
              "\n",
              "      <script>\n",
              "        const buttonEl =\n",
              "          document.querySelector('#df-159f5180-df5f-42c6-9447-cde637c674e5 button.colab-df-convert');\n",
              "        buttonEl.style.display =\n",
              "          google.colab.kernel.accessAllowed ? 'block' : 'none';\n",
              "\n",
              "        async function convertToInteractive(key) {\n",
              "          const element = document.querySelector('#df-159f5180-df5f-42c6-9447-cde637c674e5');\n",
              "          const dataTable =\n",
              "            await google.colab.kernel.invokeFunction('convertToInteractive',\n",
              "                                                     [key], {});\n",
              "          if (!dataTable) return;\n",
              "\n",
              "          const docLinkHtml = 'Like what you see? Visit the ' +\n",
              "            '<a target=\"_blank\" href=https://colab.research.google.com/notebooks/data_table.ipynb>data table notebook</a>'\n",
              "            + ' to learn more about interactive tables.';\n",
              "          element.innerHTML = '';\n",
              "          dataTable['output_type'] = 'display_data';\n",
              "          await google.colab.output.renderOutput(dataTable, element);\n",
              "          const docLink = document.createElement('div');\n",
              "          docLink.innerHTML = docLinkHtml;\n",
              "          element.appendChild(docLink);\n",
              "        }\n",
              "      </script>\n",
              "    </div>\n",
              "  </div>\n",
              "  "
            ]
          },
          "metadata": {},
          "execution_count": 6
        }
      ],
      "source": [
        "data_secom = pd.read_excel('/content/gdrive/MyDrive/碩二上/製造數據科學/Assignment/Assignment 4/Assignment4_Data/MDS_Assignment4_SECOM.xlsx', sheet_name=1).iloc[:,1:-1] # Drop column 'Time' which is not concerned in this case.\n",
        "print(data_secom.shape)\n",
        "data_secom"
      ]
    },
    {
      "cell_type": "markdown",
      "metadata": {
        "id": "3pii6cACf2Hq"
      },
      "source": [
        "#### **Preprocessing**"
      ]
    },
    {
      "cell_type": "code",
      "execution_count": 7,
      "metadata": {
        "colab": {
          "base_uri": "https://localhost:8080/"
        },
        "id": "jNpBIxGEf5bL",
        "outputId": "98c48cbe-4f03-499f-e386-465f8421c62a"
      },
      "outputs": [
        {
          "output_type": "stream",
          "name": "stdout",
          "text": [
            "(1567, 487)\n"
          ]
        }
      ],
      "source": [
        "# Drop duplicate columns\n",
        "data_secom_1 = data_secom.T.drop_duplicates().T\n",
        "print(data_secom_1.shape)"
      ]
    },
    {
      "cell_type": "code",
      "execution_count": 8,
      "metadata": {
        "colab": {
          "base_uri": "https://localhost:8080/"
        },
        "id": "QCSOLyMjgcLj",
        "outputId": "9d31286d-256e-45d5-dd06-7639f73a38c6"
      },
      "outputs": [
        {
          "output_type": "stream",
          "name": "stdout",
          "text": [
            "(1567, 475)\n"
          ]
        }
      ],
      "source": [
        "# Drop redundant columns\n",
        "data_secom_clean = data_secom_1.loc[:,data_secom_1.apply(pd.Series.nunique) != 1]\n",
        "print(data_secom_clean.shape)"
      ]
    },
    {
      "cell_type": "code",
      "execution_count": 9,
      "metadata": {
        "colab": {
          "base_uri": "https://localhost:8080/"
        },
        "id": "eHDCTOuLiBwh",
        "outputId": "a84668aa-5db4-4c2c-8eb9-97414a65b661"
      },
      "outputs": [
        {
          "output_type": "stream",
          "name": "stdout",
          "text": [
            "Number of missing values:  41951\n"
          ]
        }
      ],
      "source": [
        "# Count missing values\n",
        "count_nan = data_secom.isnull().sum().sum()\n",
        "print ('Number of missing values: ', count_nan)"
      ]
    },
    {
      "cell_type": "code",
      "execution_count": 10,
      "metadata": {
        "colab": {
          "base_uri": "https://localhost:8080/",
          "height": 265
        },
        "id": "LpO-85e7iMz4",
        "outputId": "36c52a8b-8e0e-4130-a47d-029cfae1c904"
      },
      "outputs": [
        {
          "output_type": "display_data",
          "data": {
            "text/plain": [
              "<Figure size 432x288 with 1 Axes>"
            ],
            "image/png": "[encoded data removed]"
          },
          "metadata": {
            "needs_background": "light"
          }
        }
      ],
      "source": [
        "# Percentage of missing values in each column\n",
        "secom_nan = pd.DataFrame(data_secom.isnull().sum(), columns=['nan_count'])\n",
        "secom_nan['nan_percent'] = secom_nan['nan_count'] / len(data_secom)\n",
        "plt.scatter(range(0, secom_nan.shape[0]),secom_nan['nan_percent'])\n",
        "plt.show()"
      ]
    },
    {
      "cell_type": "code",
      "execution_count": 11,
      "metadata": {
        "colab": {
          "base_uri": "https://localhost:8080/"
        },
        "id": "RFnbAoI6iIYB",
        "outputId": "ced934bd-1ab1-489f-eb78-15770eb69e5d"
      },
      "outputs": [
        {
          "output_type": "stream",
          "name": "stdout",
          "text": [
            "(1567, 443)\n"
          ]
        }
      ],
      "source": [
        "# Drop columns with more than 40% missing values\n",
        "secom_nan_40up = secom_nan[secom_nan['nan_percent'] > 0.4]\n",
        "nan_column_droplist = secom_nan_40up.index\n",
        "data_secom_clean = data_secom_clean.drop(nan_column_droplist, axis = 1)\n",
        "print(data_secom_clean.shape)"
      ]
    },
    {
      "cell_type": "code",
      "execution_count": 12,
      "metadata": {
        "colab": {
          "base_uri": "https://localhost:8080/"
        },
        "id": "mTjG3mTWiV5D",
        "outputId": "04aa40cc-8f6d-4437-a044-d762301cb708"
      },
      "outputs": [
        {
          "output_type": "stream",
          "name": "stdout",
          "text": [
            "(1567, 443)\n",
            "Number of missing values:  0\n"
          ]
        }
      ],
      "source": [
        "# Missing Value Imputation: K-Nearest Neighbour (KNN) Imputation\n",
        "from sklearn.impute import KNNImputer\n",
        "knn_imputer = KNNImputer(missing_values=np.nan, n_neighbors=5, weights='uniform', metric='nan_euclidean') # default\n",
        "data_secom_clean_imputed = pd.DataFrame(knn_imputer.fit_transform(data_secom_clean), columns=data_secom_clean.columns)\n",
        "print(data_secom_clean_imputed.shape)\n",
        "print ('Number of missing values: ', data_secom_clean_imputed.isnull().sum().sum())"
      ]
    },
    {
      "cell_type": "code",
      "execution_count": 13,
      "metadata": {
        "colab": {
          "base_uri": "https://localhost:8080/"
        },
        "id": "BqWmM8asff4f",
        "outputId": "3db0ed0c-adf5-4b35-9482-8cbf6b415cf0"
      },
      "outputs": [
        {
          "output_type": "stream",
          "name": "stdout",
          "text": [
            "(1567, 442)\n"
          ]
        }
      ],
      "source": [
        "# Split data into x and y\n",
        "data_secom_x = data_secom_clean_imputed.iloc[:, :-1]\n",
        "data_secom_y = data_secom_clean_imputed['Label']\n",
        "print(data_secom_x.shape)"
      ]
    },
    {
      "cell_type": "markdown",
      "metadata": {
        "id": "I6V_ZfLQJf15"
      },
      "source": [
        "###**(a) (15%) 試在該數據分析流程中加入數據平衡的步驟，使用三種方法來進行數據平衡 (e.g. 使用上抽樣、下抽樣或是代價敏感學習等)。**\n"
      ]
    },
    {
      "cell_type": "code",
      "execution_count": 14,
      "metadata": {
        "colab": {
          "base_uri": "https://localhost:8080/"
        },
        "id": "hxTzOhgMd_Su",
        "outputId": "325dc924-baa7-437a-a6b8-5dd14c6a6ca7"
      },
      "outputs": [
        {
          "output_type": "execute_result",
          "data": {
            "text/plain": [
              "-1.0    1463\n",
              " 1.0     104\n",
              "Name: Label, dtype: int64"
            ]
          },
          "metadata": {},
          "execution_count": 14
        }
      ],
      "source": [
        "# Check if Y is imbalanced\n",
        "data_secom_y.value_counts()"
      ]
    },
    {
      "cell_type": "markdown",
      "metadata": {
        "id": "7XPRq26ZeuCl"
      },
      "source": [
        "#### **Undersampling: Near Miss Undersampling**\n",
        "https://imbalanced-learn.org/stable/references/generated/imblearn.under_sampling.NearMiss.html"
      ]
    },
    {
      "cell_type": "code",
      "execution_count": 15,
      "metadata": {
        "colab": {
          "base_uri": "https://localhost:8080/"
        },
        "id": "uwDeOGuleyn1",
        "outputId": "2dc6171c-d828-4dd5-dd9d-0dfe0a94f1c7"
      },
      "outputs": [
        {
          "output_type": "execute_result",
          "data": {
            "text/plain": [
              "-1.0    104\n",
              " 1.0    104\n",
              "Name: Label, dtype: int64"
            ]
          },
          "metadata": {},
          "execution_count": 15
        }
      ],
      "source": [
        "from imblearn.under_sampling import NearMiss\n",
        "data_secom_nearmiss_x, data_secom_nearmiss_y = NearMiss(version=3).fit_resample(data_secom_x, data_secom_y)\n",
        "data_secom_nearmiss_y.value_counts()"
      ]
    },
    {
      "cell_type": "markdown",
      "metadata": {
        "id": "j8YuhRekey_m"
      },
      "source": [
        "#### **Oversampling: SMOTE**\n",
        "https://imbalanced-learn.org/stable/references/generated/imblearn.over_sampling.SMOTE.html"
      ]
    },
    {
      "cell_type": "code",
      "execution_count": 16,
      "metadata": {
        "colab": {
          "base_uri": "https://localhost:8080/"
        },
        "id": "YYtHTUsLfOsV",
        "outputId": "0417bc30-ff1b-46b6-e56c-b5b88e2989a3"
      },
      "outputs": [
        {
          "output_type": "execute_result",
          "data": {
            "text/plain": [
              "-1.0    1463\n",
              " 1.0    1463\n",
              "Name: Label, dtype: int64"
            ]
          },
          "metadata": {},
          "execution_count": 16
        }
      ],
      "source": [
        "from imblearn.over_sampling import SMOTE\n",
        "data_secom_smote_x, data_secom_smote_y = SMOTE(random_state=42).fit_resample(data_secom_x, data_secom_y)\n",
        "data_secom_smote_y.value_counts()"
      ]
    },
    {
      "cell_type": "markdown",
      "source": [
        "#### **Combination of Undersampling and Oversampling**\n"
      ],
      "metadata": {
        "id": "Jw7-N7hbBEw3"
      }
    },
    {
      "cell_type": "code",
      "source": [
        "# Oversampling (ratio=0.5)\n",
        "data_secom_over_x, data_secom_over_y = SMOTE(random_state=42, sampling_strategy=0.5).fit_resample(data_secom_x, data_secom_y)\n",
        "# Undersampling (ratio=1)\n",
        "data_secom_comb_x, data_secom_comb_y = NearMiss(sampling_strategy=1).fit_resample(data_secom_over_x, data_secom_over_y)\n",
        "data_secom_comb_y.value_counts()"
      ],
      "metadata": {
        "colab": {
          "base_uri": "https://localhost:8080/"
        },
        "id": "lIrqKrLkBI-l",
        "outputId": "6ff1c0d0-d451-481f-cc2d-f5a127c54e01"
      },
      "execution_count": 17,
      "outputs": [
        {
          "output_type": "execute_result",
          "data": {
            "text/plain": [
              "-1.0    731\n",
              " 1.0    731\n",
              "Name: Label, dtype: int64"
            ]
          },
          "metadata": {},
          "execution_count": 17
        }
      ]
    },
    {
      "cell_type": "markdown",
      "metadata": {
        "id": "LT7uuWYJJ7iM"
      },
      "source": [
        "###**(b) (5%) 建議選用哪種方法最為合適？為什麼？**"
      ]
    },
    {
      "cell_type": "markdown",
      "metadata": {
        "id": "SxM43M76KaKc"
      },
      "source": [
        "在多數群與少數群的比例為1的情況下，單純 undersampling 會有損失過多重要樣本的問題，而單純 oversampling 則會有過多重複樣本，若結合 undersampling 和 oversampling，則可以中和兩者的問題。"
      ]
    },
    {
      "cell_type": "markdown",
      "metadata": {
        "id": "VIKf-WAiKDGC"
      },
      "source": [
        "###**(c) (10%) 對於數據多數群與少數群的比例應當調整至多少？為什麼？試透過調整生成比率 (i.e. 敏感度分析) 來看模型分類結果。(提示：將敏感度分析以繪圖呈現兩條曲線，x 軸為不同生成比例、y 軸為偽陽性率 (false positive rate) 與偽陰性率 (false negative rate)**\n"
      ]
    },
    {
      "cell_type": "code",
      "source": [
        "from sklearn.model_selection import train_test_split\n",
        "from sklearn.svm import LinearSVC\n",
        "from sklearn.metrics import confusion_matrix\n",
        "from sklearn.preprocessing import StandardScaler"
      ],
      "metadata": {
        "id": "T6kr65eBQby-"
      },
      "execution_count": null,
      "outputs": []
    },
    {
      "cell_type": "code",
      "execution_count": 18,
      "metadata": {
        "id": "kEW_9AQyKUMB"
      },
      "outputs": [],
      "source": [
        "def svcPredictor(data_x, data_y):\n",
        "    x_train, x_test, y_train, y_test = train_test_split(StandardScaler().fit_transform(data_x), data_y, test_size = 0.20, random_state = 42)\n",
        "    model_svc_linear = LinearSVC().fit(x_train, y_train)\n",
        "    test_predict = model_svc_linear.predict(x_test)\n",
        "    return test_predict, y_test"
      ]
    },
    {
      "cell_type": "markdown",
      "source": [
        "#### **Undersampling**"
      ],
      "metadata": {
        "id": "yYLvX4vNHmFW"
      }
    },
    {
      "cell_type": "code",
      "source": [
        "def undersampleAnalysis():\n",
        "    under_analysis = pd.DataFrame(columns=['ratio','fp','fn'])\n",
        "    for i in np.arange(0.1, 1.05, 0.05):\n",
        "        under_x, under_y = NearMiss(sampling_strategy=round(i,2)).fit_resample(data_secom_x, data_secom_y)\n",
        "        pred, answer = svcPredictor(under_x, under_y)\n",
        "        cm = confusion_matrix(answer, pred)\n",
        "        tn, fp, fn, tp = cm.ravel()\n",
        "\n",
        "        item = {'ratio': round(i,2),\n",
        "                'fp': fp/len(answer),\n",
        "                'fn': fn/len(answer),\n",
        "        }\n",
        "        item_df = pd.DataFrame(item, index=[0])\n",
        "        under_analysis = under_analysis.append(item_df)\n",
        "\n",
        "    under_analysis = under_analysis.reset_index(drop=True)\n",
        "    return under_analysis"
      ],
      "metadata": {
        "id": "QS3O6oJmLONj"
      },
      "execution_count": 51,
      "outputs": []
    },
    {
      "cell_type": "code",
      "source": [
        "under_analysis = undersampleAnalysis()"
      ],
      "metadata": {
        "id": "aj9zKNcxUfbY"
      },
      "execution_count": null,
      "outputs": []
    },
    {
      "cell_type": "code",
      "source": [
        "under_analysis"
      ],
      "metadata": {
        "colab": {
          "base_uri": "https://localhost:8080/",
          "height": 645
        },
        "id": "Lw6rHNViORYD",
        "outputId": "2acdc537-654b-40e4-c06f-55556cb0496f"
      },
      "execution_count": 53,
      "outputs": [
        {
          "output_type": "execute_result",
          "data": {
            "text/plain": [
              "    ratio        fp        fn\n",
              "0    0.10  0.117904  0.078603\n",
              "1    0.15  0.087500  0.087500\n",
              "2    0.20  0.128000  0.112000\n",
              "3    0.25  0.125000  0.096154\n",
              "4    0.30  0.177778  0.144444\n",
              "5    0.35  0.222222  0.061728\n",
              "6    0.40  0.164384  0.068493\n",
              "7    0.45  0.223881  0.104478\n",
              "8    0.50  0.206349  0.126984\n",
              "9    0.55  0.237288  0.084746\n",
              "10   0.60  0.178571  0.250000\n",
              "11   0.65  0.245283  0.132075\n",
              "12   0.70  0.235294  0.078431\n",
              "13   0.75  0.285714  0.163265\n",
              "14   0.80  0.255319  0.234043\n",
              "15   0.85  0.130435  0.282609\n",
              "16   0.90  0.159091  0.227273\n",
              "17   0.95  0.255814  0.302326\n",
              "18   1.00  0.166667  0.261905"
            ],
            "text/html": [
              "\n",
              "  <div id=\"df-766a70f6-43cf-4e40-a4a7-0b8e816115a3\">\n",
              "    <div class=\"colab-df-container\">\n",
              "      <div>\n",
              "<style scoped>\n",
              "    .dataframe tbody tr th:only-of-type {\n",
              "        vertical-align: middle;\n",
              "    }\n",
              "\n",
              "    .dataframe tbody tr th {\n",
              "        vertical-align: top;\n",
              "    }\n",
              "\n",
              "    .dataframe thead th {\n",
              "        text-align: right;\n",
              "    }\n",
              "</style>\n",
              "<table border=\"1\" class=\"dataframe\">\n",
              "  <thead>\n",
              "    <tr style=\"text-align: right;\">\n",
              "      <th></th>\n",
              "      <th>ratio</th>\n",
              "      <th>fp</th>\n",
              "      <th>fn</th>\n",
              "    </tr>\n",
              "  </thead>\n",
              "  <tbody>\n",
              "    <tr>\n",
              "      <th>0</th>\n",
              "      <td>0.10</td>\n",
              "      <td>0.117904</td>\n",
              "      <td>0.078603</td>\n",
              "    </tr>\n",
              "    <tr>\n",
              "      <th>1</th>\n",
              "      <td>0.15</td>\n",
              "      <td>0.087500</td>\n",
              "      <td>0.087500</td>\n",
              "    </tr>\n",
              "    <tr>\n",
              "      <th>2</th>\n",
              "      <td>0.20</td>\n",
              "      <td>0.128000</td>\n",
              "      <td>0.112000</td>\n",
              "    </tr>\n",
              "    <tr>\n",
              "      <th>3</th>\n",
              "      <td>0.25</td>\n",
              "      <td>0.125000</td>\n",
              "      <td>0.096154</td>\n",
              "    </tr>\n",
              "    <tr>\n",
              "      <th>4</th>\n",
              "      <td>0.30</td>\n",
              "      <td>0.177778</td>\n",
              "      <td>0.144444</td>\n",
              "    </tr>\n",
              "    <tr>\n",
              "      <th>5</th>\n",
              "      <td>0.35</td>\n",
              "      <td>0.222222</td>\n",
              "      <td>0.061728</td>\n",
              "    </tr>\n",
              "    <tr>\n",
              "      <th>6</th>\n",
              "      <td>0.40</td>\n",
              "      <td>0.164384</td>\n",
              "      <td>0.068493</td>\n",
              "    </tr>\n",
              "    <tr>\n",
              "      <th>7</th>\n",
              "      <td>0.45</td>\n",
              "      <td>0.223881</td>\n",
              "      <td>0.104478</td>\n",
              "    </tr>\n",
              "    <tr>\n",
              "      <th>8</th>\n",
              "      <td>0.50</td>\n",
              "      <td>0.206349</td>\n",
              "      <td>0.126984</td>\n",
              "    </tr>\n",
              "    <tr>\n",
              "      <th>9</th>\n",
              "      <td>0.55</td>\n",
              "      <td>0.237288</td>\n",
              "      <td>0.084746</td>\n",
              "    </tr>\n",
              "    <tr>\n",
              "      <th>10</th>\n",
              "      <td>0.60</td>\n",
              "      <td>0.178571</td>\n",
              "      <td>0.250000</td>\n",
              "    </tr>\n",
              "    <tr>\n",
              "      <th>11</th>\n",
              "      <td>0.65</td>\n",
              "      <td>0.245283</td>\n",
              "      <td>0.132075</td>\n",
              "    </tr>\n",
              "    <tr>\n",
              "      <th>12</th>\n",
              "      <td>0.70</td>\n",
              "      <td>0.235294</td>\n",
              "      <td>0.078431</td>\n",
              "    </tr>\n",
              "    <tr>\n",
              "      <th>13</th>\n",
              "      <td>0.75</td>\n",
              "      <td>0.285714</td>\n",
              "      <td>0.163265</td>\n",
              "    </tr>\n",
              "    <tr>\n",
              "      <th>14</th>\n",
              "      <td>0.80</td>\n",
              "      <td>0.255319</td>\n",
              "      <td>0.234043</td>\n",
              "    </tr>\n",
              "    <tr>\n",
              "      <th>15</th>\n",
              "      <td>0.85</td>\n",
              "      <td>0.130435</td>\n",
              "      <td>0.282609</td>\n",
              "    </tr>\n",
              "    <tr>\n",
              "      <th>16</th>\n",
              "      <td>0.90</td>\n",
              "      <td>0.159091</td>\n",
              "      <td>0.227273</td>\n",
              "    </tr>\n",
              "    <tr>\n",
              "      <th>17</th>\n",
              "      <td>0.95</td>\n",
              "      <td>0.255814</td>\n",
              "      <td>0.302326</td>\n",
              "    </tr>\n",
              "    <tr>\n",
              "      <th>18</th>\n",
              "      <td>1.00</td>\n",
              "      <td>0.166667</td>\n",
              "      <td>0.261905</td>\n",
              "    </tr>\n",
              "  </tbody>\n",
              "</table>\n",
              "</div>\n",
              "      <button class=\"colab-df-convert\" onclick=\"convertToInteractive('df-766a70f6-43cf-4e40-a4a7-0b8e816115a3')\"\n",
              "              title=\"Convert this dataframe to an interactive table.\"\n",
              "              style=\"display:none;\">\n",
              "        \n",
              "  <svg xmlns=\"http://www.w3.org/2000/svg\" height=\"24px\"viewBox=\"0 0 24 24\"\n",
              "       width=\"24px\">\n",
              "    <path d=\"M0 0h24v24H0V0z\" fill=\"none\"/>\n",
              "    <path d=\"M18.56 5.44l.94 2.06.94-2.06 2.06-.94-2.06-.94-.94-2.06-.94 2.06-2.06.94zm-11 1L8.5 8.5l.94-2.06 2.06-.94-2.06-.94L8.5 2.5l-.94 2.06-2.06.94zm10 10l.94 2.06.94-2.06 2.06-.94-2.06-.94-.94-2.06-.94 2.06-2.06.94z\"/><path d=\"M17.41 7.96l-1.37-1.37c-.4-.4-.92-.59-1.43-.59-.52 0-1.04.2-1.43.59L10.3 9.45l-7.72 7.72c-.78.78-.78 2.05 0 2.83L4 21.41c.39.39.9.59 1.41.59.51 0 1.02-.2 1.41-.59l7.78-7.78 2.81-2.81c.8-.78.8-2.07 0-2.86zM5.41 20L4 18.59l7.72-7.72 1.47 1.35L5.41 20z\"/>\n",
              "  </svg>\n",
              "      </button>\n",
              "      \n",
              "  <style>\n",
              "    .colab-df-container {\n",
              "      display:flex;\n",
              "      flex-wrap:wrap;\n",
              "      gap: 12px;\n",
              "    }\n",
              "\n",
              "    .colab-df-convert {\n",
              "      background-color: #E8F0FE;\n",
              "      border: none;\n",
              "      border-radius: 50%;\n",
              "      cursor: pointer;\n",
              "      display: none;\n",
              "      fill: #1967D2;\n",
              "      height: 32px;\n",
              "      padding: 0 0 0 0;\n",
              "      width: 32px;\n",
              "    }\n",
              "\n",
              "    .colab-df-convert:hover {\n",
              "      background-color: #E2EBFA;\n",
              "      box-shadow: 0px 1px 2px rgba(60, 64, 67, 0.3), 0px 1px 3px 1px rgba(60, 64, 67, 0.15);\n",
              "      fill: #174EA6;\n",
              "    }\n",
              "\n",
              "    [theme=dark] .colab-df-convert {\n",
              "      background-color: #3B4455;\n",
              "      fill: #D2E3FC;\n",
              "    }\n",
              "\n",
              "    [theme=dark] .colab-df-convert:hover {\n",
              "      background-color: #434B5C;\n",
              "      box-shadow: 0px 1px 3px 1px rgba(0, 0, 0, 0.15);\n",
              "      filter: drop-shadow(0px 1px 2px rgba(0, 0, 0, 0.3));\n",
              "      fill: #FFFFFF;\n",
              "    }\n",
              "  </style>\n",
              "\n",
              "      <script>\n",
              "        const buttonEl =\n",
              "          document.querySelector('#df-766a70f6-43cf-4e40-a4a7-0b8e816115a3 button.colab-df-convert');\n",
              "        buttonEl.style.display =\n",
              "          google.colab.kernel.accessAllowed ? 'block' : 'none';\n",
              "\n",
              "        async function convertToInteractive(key) {\n",
              "          const element = document.querySelector('#df-766a70f6-43cf-4e40-a4a7-0b8e816115a3');\n",
              "          const dataTable =\n",
              "            await google.colab.kernel.invokeFunction('convertToInteractive',\n",
              "                                                     [key], {});\n",
              "          if (!dataTable) return;\n",
              "\n",
              "          const docLinkHtml = 'Like what you see? Visit the ' +\n",
              "            '<a target=\"_blank\" href=https://colab.research.google.com/notebooks/data_table.ipynb>data table notebook</a>'\n",
              "            + ' to learn more about interactive tables.';\n",
              "          element.innerHTML = '';\n",
              "          dataTable['output_type'] = 'display_data';\n",
              "          await google.colab.output.renderOutput(dataTable, element);\n",
              "          const docLink = document.createElement('div');\n",
              "          docLink.innerHTML = docLinkHtml;\n",
              "          element.appendChild(docLink);\n",
              "        }\n",
              "      </script>\n",
              "    </div>\n",
              "  </div>\n",
              "  "
            ]
          },
          "metadata": {},
          "execution_count": 53
        }
      ]
    },
    {
      "cell_type": "code",
      "source": [
        "under_analysis.plot(x='ratio', y=['fp', 'fn'])\n",
        "plt.show()"
      ],
      "metadata": {
        "colab": {
          "base_uri": "https://localhost:8080/",
          "height": 279
        },
        "id": "1zenAqD2K2kX",
        "outputId": "bd0b2ef0-4fcc-4819-cfae-3e3b63c542ab"
      },
      "execution_count": 54,
      "outputs": [
        {
          "output_type": "display_data",
          "data": {
            "text/plain": [
              "<Figure size 432x288 with 1 Axes>"
            ],
            "image/png": "[encoded data removed]"
          },
          "metadata": {
            "needs_background": "light"
          }
        }
      ]
    },
    {
      "cell_type": "code",
      "source": [
        "under_analysis['f_avg'] = (under_analysis['fp'] + under_analysis['fn'])/2\n",
        "under_ratio = under_analysis.loc[under_analysis['f_avg'].idxmin(), 'ratio']\n",
        "under_ratio"
      ],
      "metadata": {
        "colab": {
          "base_uri": "https://localhost:8080/"
        },
        "id": "yzymIIlASsRY",
        "outputId": "9f6c104d-6bf8-43ef-bd0f-2b6ff3739be2"
      },
      "execution_count": 55,
      "outputs": [
        {
          "output_type": "execute_result",
          "data": {
            "text/plain": [
              "0.15"
            ]
          },
          "metadata": {},
          "execution_count": 55
        }
      ]
    },
    {
      "cell_type": "markdown",
      "source": [
        "Since minority/majority has a minimum average miscalssification rate ((fp+fn)/2) at 0.15, we suggest that the ratio can be set to 0.15."
      ],
      "metadata": {
        "id": "z5WYpIn3U2ov"
      }
    },
    {
      "cell_type": "markdown",
      "source": [
        "#### **Overersampling**"
      ],
      "metadata": {
        "id": "t8qnuo9NVssP"
      }
    },
    {
      "cell_type": "code",
      "source": [
        "def oversampleAnalysis():\n",
        "    over_analysis = pd.DataFrame(columns=['ratio','fp','fn'])\n",
        "    for i in np.arange(0.1, 1.05, 0.05):\n",
        "        over_x, over_y = SMOTE(random_state=42, sampling_strategy=round(i,2)).fit_resample(data_secom_x, data_secom_y)\n",
        "        pred, answer = svcPredictor(over_x, over_y)\n",
        "        cm = confusion_matrix(answer, pred)\n",
        "        tn, fp, fn, tp = cm.ravel()\n",
        "\n",
        "        item = {'ratio': round(i,2),\n",
        "                'fp': fp/len(answer),\n",
        "                'fn': fn/len(answer),\n",
        "        }\n",
        "        item_df = pd.DataFrame(item, index=[0])\n",
        "        over_analysis = over_analysis.append(item_df)\n",
        "\n",
        "    over_analysis = over_analysis.reset_index(drop=True)\n",
        "    return over_analysis"
      ],
      "metadata": {
        "id": "2atO0KFUVssa"
      },
      "execution_count": 56,
      "outputs": []
    },
    {
      "cell_type": "code",
      "source": [
        "over_analysis = oversampleAnalysis()"
      ],
      "metadata": {
        "id": "R9UnjJSCVssb"
      },
      "execution_count": null,
      "outputs": []
    },
    {
      "cell_type": "code",
      "source": [
        "over_analysis"
      ],
      "metadata": {
        "colab": {
          "base_uri": "https://localhost:8080/",
          "height": 645
        },
        "outputId": "280652d5-6976-400c-9149-68ec581079b6",
        "id": "G4KRVk9TVssc"
      },
      "execution_count": 58,
      "outputs": [
        {
          "output_type": "execute_result",
          "data": {
            "text/plain": [
              "    ratio        fp        fn\n",
              "0    0.10  0.093168  0.037267\n",
              "1    0.15  0.127596  0.014837\n",
              "2    0.20  0.108262  0.019943\n",
              "3    0.25  0.092896  0.010929\n",
              "4    0.30  0.102362  0.007874\n",
              "5    0.35  0.081013  0.002532\n",
              "6    0.40  0.107317  0.002439\n",
              "7    0.45  0.072941  0.000000\n",
              "8    0.50  0.079727  0.000000\n",
              "9    0.55  0.081498  0.000000\n",
              "10   0.60  0.076923  0.000000\n",
              "11   0.65  0.060041  0.004141\n",
              "12   0.70  0.074297  0.000000\n",
              "13   0.75  0.080078  0.000000\n",
              "14   0.80  0.070209  0.000000\n",
              "15   0.85  0.053506  0.001845\n",
              "16   0.90  0.073741  0.000000\n",
              "17   0.95  0.056042  0.000000\n",
              "18   1.00  0.064846  0.000000"
            ],
            "text/html": [
              "\n",
              "  <div id=\"df-e5816fc3-54a5-4f23-8c86-746add2ac266\">\n",
              "    <div class=\"colab-df-container\">\n",
              "      <div>\n",
              "<style scoped>\n",
              "    .dataframe tbody tr th:only-of-type {\n",
              "        vertical-align: middle;\n",
              "    }\n",
              "\n",
              "    .dataframe tbody tr th {\n",
              "        vertical-align: top;\n",
              "    }\n",
              "\n",
              "    .dataframe thead th {\n",
              "        text-align: right;\n",
              "    }\n",
              "</style>\n",
              "<table border=\"1\" class=\"dataframe\">\n",
              "  <thead>\n",
              "    <tr style=\"text-align: right;\">\n",
              "      <th></th>\n",
              "      <th>ratio</th>\n",
              "      <th>fp</th>\n",
              "      <th>fn</th>\n",
              "    </tr>\n",
              "  </thead>\n",
              "  <tbody>\n",
              "    <tr>\n",
              "      <th>0</th>\n",
              "      <td>0.10</td>\n",
              "      <td>0.093168</td>\n",
              "      <td>0.037267</td>\n",
              "    </tr>\n",
              "    <tr>\n",
              "      <th>1</th>\n",
              "      <td>0.15</td>\n",
              "      <td>0.127596</td>\n",
              "      <td>0.014837</td>\n",
              "    </tr>\n",
              "    <tr>\n",
              "      <th>2</th>\n",
              "      <td>0.20</td>\n",
              "      <td>0.108262</td>\n",
              "      <td>0.019943</td>\n",
              "    </tr>\n",
              "    <tr>\n",
              "      <th>3</th>\n",
              "      <td>0.25</td>\n",
              "      <td>0.092896</td>\n",
              "      <td>0.010929</td>\n",
              "    </tr>\n",
              "    <tr>\n",
              "      <th>4</th>\n",
              "      <td>0.30</td>\n",
              "      <td>0.102362</td>\n",
              "      <td>0.007874</td>\n",
              "    </tr>\n",
              "    <tr>\n",
              "      <th>5</th>\n",
              "      <td>0.35</td>\n",
              "      <td>0.081013</td>\n",
              "      <td>0.002532</td>\n",
              "    </tr>\n",
              "    <tr>\n",
              "      <th>6</th>\n",
              "      <td>0.40</td>\n",
              "      <td>0.107317</td>\n",
              "      <td>0.002439</td>\n",
              "    </tr>\n",
              "    <tr>\n",
              "      <th>7</th>\n",
              "      <td>0.45</td>\n",
              "      <td>0.072941</td>\n",
              "      <td>0.000000</td>\n",
              "    </tr>\n",
              "    <tr>\n",
              "      <th>8</th>\n",
              "      <td>0.50</td>\n",
              "      <td>0.079727</td>\n",
              "      <td>0.000000</td>\n",
              "    </tr>\n",
              "    <tr>\n",
              "      <th>9</th>\n",
              "      <td>0.55</td>\n",
              "      <td>0.081498</td>\n",
              "      <td>0.000000</td>\n",
              "    </tr>\n",
              "    <tr>\n",
              "      <th>10</th>\n",
              "      <td>0.60</td>\n",
              "      <td>0.076923</td>\n",
              "      <td>0.000000</td>\n",
              "    </tr>\n",
              "    <tr>\n",
              "      <th>11</th>\n",
              "      <td>0.65</td>\n",
              "      <td>0.060041</td>\n",
              "      <td>0.004141</td>\n",
              "    </tr>\n",
              "    <tr>\n",
              "      <th>12</th>\n",
              "      <td>0.70</td>\n",
              "      <td>0.074297</td>\n",
              "      <td>0.000000</td>\n",
              "    </tr>\n",
              "    <tr>\n",
              "      <th>13</th>\n",
              "      <td>0.75</td>\n",
              "      <td>0.080078</td>\n",
              "      <td>0.000000</td>\n",
              "    </tr>\n",
              "    <tr>\n",
              "      <th>14</th>\n",
              "      <td>0.80</td>\n",
              "      <td>0.070209</td>\n",
              "      <td>0.000000</td>\n",
              "    </tr>\n",
              "    <tr>\n",
              "      <th>15</th>\n",
              "      <td>0.85</td>\n",
              "      <td>0.053506</td>\n",
              "      <td>0.001845</td>\n",
              "    </tr>\n",
              "    <tr>\n",
              "      <th>16</th>\n",
              "      <td>0.90</td>\n",
              "      <td>0.073741</td>\n",
              "      <td>0.000000</td>\n",
              "    </tr>\n",
              "    <tr>\n",
              "      <th>17</th>\n",
              "      <td>0.95</td>\n",
              "      <td>0.056042</td>\n",
              "      <td>0.000000</td>\n",
              "    </tr>\n",
              "    <tr>\n",
              "      <th>18</th>\n",
              "      <td>1.00</td>\n",
              "      <td>0.064846</td>\n",
              "      <td>0.000000</td>\n",
              "    </tr>\n",
              "  </tbody>\n",
              "</table>\n",
              "</div>\n",
              "      <button class=\"colab-df-convert\" onclick=\"convertToInteractive('df-e5816fc3-54a5-4f23-8c86-746add2ac266')\"\n",
              "              title=\"Convert this dataframe to an interactive table.\"\n",
              "              style=\"display:none;\">\n",
              "        \n",
              "  <svg xmlns=\"http://www.w3.org/2000/svg\" height=\"24px\"viewBox=\"0 0 24 24\"\n",
              "       width=\"24px\">\n",
              "    <path d=\"M0 0h24v24H0V0z\" fill=\"none\"/>\n",
              "    <path d=\"M18.56 5.44l.94 2.06.94-2.06 2.06-.94-2.06-.94-.94-2.06-.94 2.06-2.06.94zm-11 1L8.5 8.5l.94-2.06 2.06-.94-2.06-.94L8.5 2.5l-.94 2.06-2.06.94zm10 10l.94 2.06.94-2.06 2.06-.94-2.06-.94-.94-2.06-.94 2.06-2.06.94z\"/><path d=\"M17.41 7.96l-1.37-1.37c-.4-.4-.92-.59-1.43-.59-.52 0-1.04.2-1.43.59L10.3 9.45l-7.72 7.72c-.78.78-.78 2.05 0 2.83L4 21.41c.39.39.9.59 1.41.59.51 0 1.02-.2 1.41-.59l7.78-7.78 2.81-2.81c.8-.78.8-2.07 0-2.86zM5.41 20L4 18.59l7.72-7.72 1.47 1.35L5.41 20z\"/>\n",
              "  </svg>\n",
              "      </button>\n",
              "      \n",
              "  <style>\n",
              "    .colab-df-container {\n",
              "      display:flex;\n",
              "      flex-wrap:wrap;\n",
              "      gap: 12px;\n",
              "    }\n",
              "\n",
              "    .colab-df-convert {\n",
              "      background-color: #E8F0FE;\n",
              "      border: none;\n",
              "      border-radius: 50%;\n",
              "      cursor: pointer;\n",
              "      display: none;\n",
              "      fill: #1967D2;\n",
              "      height: 32px;\n",
              "      padding: 0 0 0 0;\n",
              "      width: 32px;\n",
              "    }\n",
              "\n",
              "    .colab-df-convert:hover {\n",
              "      background-color: #E2EBFA;\n",
              "      box-shadow: 0px 1px 2px rgba(60, 64, 67, 0.3), 0px 1px 3px 1px rgba(60, 64, 67, 0.15);\n",
              "      fill: #174EA6;\n",
              "    }\n",
              "\n",
              "    [theme=dark] .colab-df-convert {\n",
              "      background-color: #3B4455;\n",
              "      fill: #D2E3FC;\n",
              "    }\n",
              "\n",
              "    [theme=dark] .colab-df-convert:hover {\n",
              "      background-color: #434B5C;\n",
              "      box-shadow: 0px 1px 3px 1px rgba(0, 0, 0, 0.15);\n",
              "      filter: drop-shadow(0px 1px 2px rgba(0, 0, 0, 0.3));\n",
              "      fill: #FFFFFF;\n",
              "    }\n",
              "  </style>\n",
              "\n",
              "      <script>\n",
              "        const buttonEl =\n",
              "          document.querySelector('#df-e5816fc3-54a5-4f23-8c86-746add2ac266 button.colab-df-convert');\n",
              "        buttonEl.style.display =\n",
              "          google.colab.kernel.accessAllowed ? 'block' : 'none';\n",
              "\n",
              "        async function convertToInteractive(key) {\n",
              "          const element = document.querySelector('#df-e5816fc3-54a5-4f23-8c86-746add2ac266');\n",
              "          const dataTable =\n",
              "            await google.colab.kernel.invokeFunction('convertToInteractive',\n",
              "                                                     [key], {});\n",
              "          if (!dataTable) return;\n",
              "\n",
              "          const docLinkHtml = 'Like what you see? Visit the ' +\n",
              "            '<a target=\"_blank\" href=https://colab.research.google.com/notebooks/data_table.ipynb>data table notebook</a>'\n",
              "            + ' to learn more about interactive tables.';\n",
              "          element.innerHTML = '';\n",
              "          dataTable['output_type'] = 'display_data';\n",
              "          await google.colab.output.renderOutput(dataTable, element);\n",
              "          const docLink = document.createElement('div');\n",
              "          docLink.innerHTML = docLinkHtml;\n",
              "          element.appendChild(docLink);\n",
              "        }\n",
              "      </script>\n",
              "    </div>\n",
              "  </div>\n",
              "  "
            ]
          },
          "metadata": {},
          "execution_count": 58
        }
      ]
    },
    {
      "cell_type": "code",
      "source": [
        "over_analysis.plot(x='ratio', y=['fp', 'fn'])\n",
        "plt.show()"
      ],
      "metadata": {
        "colab": {
          "base_uri": "https://localhost:8080/",
          "height": 279
        },
        "outputId": "b32eefe0-1ee1-408c-eada-06bea99d74fd",
        "id": "EVyhCw02Vssc"
      },
      "execution_count": 59,
      "outputs": [
        {
          "output_type": "display_data",
          "data": {
            "text/plain": [
              "<Figure size 432x288 with 1 Axes>"
            ],
            "image/png": "[encoded data removed]"
          },
          "metadata": {
            "needs_background": "light"
          }
        }
      ]
    },
    {
      "cell_type": "code",
      "source": [
        "over_analysis['f_avg'] = (over_analysis['fp'] + over_analysis['fn'])/2\n",
        "over_ratio = over_analysis.loc[over_analysis['f_avg'].idxmin(), 'ratio']\n",
        "over_ratio"
      ],
      "metadata": {
        "colab": {
          "base_uri": "https://localhost:8080/"
        },
        "outputId": "bf69af10-e11c-4b82-caac-2ae027c545fe",
        "id": "Fj52BNoUVssd"
      },
      "execution_count": 60,
      "outputs": [
        {
          "output_type": "execute_result",
          "data": {
            "text/plain": [
              "0.85"
            ]
          },
          "metadata": {},
          "execution_count": 60
        }
      ]
    },
    {
      "cell_type": "markdown",
      "source": [
        "Since minority/majority has a minimum average miscalssification rate ((fp+fn)/2) at 0.85, we suggest that the ratio can be set to 0.85."
      ],
      "metadata": {
        "id": "qCZsLl2NVssd"
      }
    },
    {
      "cell_type": "markdown",
      "metadata": {
        "id": "oxYM1kYuw24g"
      },
      "source": [
        "###**(d) (10%) 試說明特徵挑選步驟應於數據平衡前或後，這對預測結果有何影響？**\n",
        "\n"
      ]
    },
    {
      "cell_type": "markdown",
      "source": [
        "Feature selection is not suitable for imbalanced data as they tend to be biased towards the majority class. We can only conclude that the selected features are important for the majority. Predicting results of the minority may not be as good as those of the majority since the discriminating features may not be chosen. It is more reasonable for us to use a complete dataset to Therefore, feature selection should be implemented after the process of data balancing.\n",
        "\n"
      ],
      "metadata": {
        "id": "b0AStzQFGf2r"
      }
    },
    {
      "cell_type": "markdown",
      "metadata": {
        "id": "At73VzKeKlY0"
      },
      "source": [
        "\n",
        "\n",
        "---\n",
        "\n",
        "\n",
        "##**2. (30%) Programming Questions**\n",
        "\n",
        "Please use Python to answer the following questions. Provide your code and justify your answer. Show all your work in detail including specific algorithm and parameter design. You should hand in ***TWO files (one for Tabu and one for Genetic Algorithm)*** regarding to each meta-heuristic algorithm, respectively. The result should include ***optimal solution (i.e., job sequence), optimal function (i.e. fitness) value, running time, number of tardy jobs***. For the parameter settings (eg. tabu size, crossover rate, mutation rate, etc.), please give a simple ***trial-and-error*** or ***design of experiment*** for sensitivity analysis.\n",
        "\n",
        "Single-Machine Scheduling Problem\n",
        "\n",
        "Please answer following single-machine total weighted tardiness problem. The objective function is to minimize the total weighted tardiness.\n",
        "\n",
        "\n",
        "<img src=\"https://drive.google.com/uc?export=view&id=1UdN2GZjCKRltwgmj24pRVJN8QIgtwavX\" width=\"800\"/>\n"
      ]
    },
    {
      "cell_type": "code",
      "execution_count": null,
      "metadata": {
        "id": "gJUSDDgFbDaM"
      },
      "outputs": [],
      "source": [
        "import time"
      ]
    },
    {
      "cell_type": "code",
      "execution_count": null,
      "metadata": {
        "id": "BJni1neTx83Y"
      },
      "outputs": [],
      "source": [
        "input_data = {1: {'processing_time': 10, 'due_date': 50, 'weight': 10},\n",
        "              2: {'processing_time': 10, 'due_date': 38, 'weight': 5},\n",
        "              3: {'processing_time': 13, 'due_date': 49, 'weight': 1},\n",
        "              4: {'processing_time': 4, 'due_date': 12, 'weight': 5},\n",
        "              5: {'processing_time': 9, 'due_date': 20, 'weight': 10},\n",
        "              6: {'processing_time': 4, 'due_date': 105, 'weight': 1},\n",
        "              7: {'processing_time': 8, 'due_date': 73, 'weight': 5},\n",
        "              8: {'processing_time': 15, 'due_date': 45, 'weight': 10},\n",
        "              9: {'processing_time': 7, 'due_date': 6, 'weight': 5},\n",
        "              10: {'processing_time': 1, 'due_date': 64, 'weight': 1},\n",
        "              11: {'processing_time': 9, 'due_date': 15, 'weight': 5},\n",
        "              12: {'processing_time': 3, 'due_date': 6, 'weight': 10},\n",
        "              13: {'processing_time': 15, 'due_date': 92, 'weight': 10},\n",
        "              14: {'processing_time': 9, 'due_date': 43, 'weight': 5},\n",
        "              15: {'processing_time': 11, 'due_date': 78, 'weight': 1},\n",
        "              16: {'processing_time': 6, 'due_date': 21, 'weight': 10},\n",
        "              17: {'processing_time': 5, 'due_date': 15, 'weight': 5},\n",
        "              18: {'processing_time': 14, 'due_date': 50, 'weight': 5},\n",
        "              19: {'processing_time': 18, 'due_date': 150, 'weight': 1},\n",
        "              20: {'processing_time': 3, 'due_date': 99, 'weight': 5}}"
      ]
    },
    {
      "cell_type": "markdown",
      "metadata": {
        "id": "v64L8o9pKPsi"
      },
      "source": [
        "###**(a) (0%) Learn Genetic**\n",
        "\n",
        "https://www.youtube.com/watch?v=kHyNqSnzP8Y \n",
        "\n",
        "https://www.youtube.com/watch?v=Fdk7ZKJHFcI ."
      ]
    },
    {
      "cell_type": "markdown",
      "metadata": {
        "id": "tbNWj_zHK7zY"
      },
      "source": [
        "###**(b) (15%) Develop Tabu Search (TS) algorithm to solve the problem. Show your design and the “result”.**\n",
        "\n",
        "Reference: https://medium.com/swlh/tabu-search-in-python-3199c44d44f1"
      ]
    },
    {
      "cell_type": "code",
      "execution_count": null,
      "metadata": {
        "id": "0X64Wh2aLeK7"
      },
      "outputs": [],
      "source": [
        "import random as rd\n",
        "from itertools import combinations\n",
        "import math"
      ]
    },
    {
      "cell_type": "code",
      "execution_count": null,
      "metadata": {
        "id": "exUeqf0hNgjU"
      },
      "outputs": [],
      "source": [
        "class TS():\n",
        "    def __init__(self, seed, tabu_tenure, terminate):\n",
        "    # def __init__(self, seed, tabu_tenure, Penalization_weight):\n",
        "        self.start_time_tabu = time.time()\n",
        "        self.seed = seed\n",
        "        self.tabu_tenure = tabu_tenure # Tabu list size\n",
        "        self.terminate = terminate\n",
        "        # self.Penalization_weight = Penalization_weight\n",
        "        self.input_dict = input_data\n",
        "        self.Initial_solution = self.get_InitialSolution()\n",
        "        self.tabu_str, self.Best_solution, self.Best_objvalue, self.Best_tardy_jobs = self.TabuSearch()\n",
        "        self.end_time_tabu = time.time()\n",
        "        # print(\"Running time: {}\".format(end_time_tabu - start_time_tabu))\n",
        "        # self.tabu_result = self.Result()\n",
        "\n",
        "    def get_tabuestructure(self):\n",
        "        '''\n",
        "        Takes a dict (input data)\n",
        "        Returns a dict of tabu attributes (pair of jobs that are swapped) as keys and [tabu_time, MoveValue]\n",
        "        '''\n",
        "        dict = {}\n",
        "        for swap in combinations(self.input_dict.keys(), 2):\n",
        "            dict[swap] = {'tabu_time': 0, 'MoveValue': 0}\n",
        "            # dict[swap] = {'tabu_time': 0, 'MoveValue': 0, 'freq': 0, 'Penalized_MV': 0}\n",
        "        return dict\n",
        "\n",
        "    def get_InitialSolution(self, show=False):\n",
        "        n_jobs = len(self.input_dict) # number of jobs\n",
        "        # Produce a random schedule of jobs\n",
        "        initial_solution = list(range(1, n_jobs+1))\n",
        "        rd.seed(self.seed)\n",
        "        rd.shuffle(initial_solution)\n",
        "        if show == True:\n",
        "            print(\"initial Random Solution: {}\".format(initial_solution))\n",
        "        return initial_solution\n",
        "\n",
        "    def Objfun(self, solution, show=False):\n",
        "        '''\n",
        "        Takes a set of scheduled jobs, dict (input data)\n",
        "        Return the objective function value of the solution\n",
        "        '''\n",
        "        dict = self.input_dict\n",
        "        t = 0   # starting time\n",
        "        objfun_value = 0\n",
        "        n_tardy_jobs = 0   # number of tardy jobs\n",
        "\n",
        "        for job in solution:\n",
        "            C_i = t + dict[job][\"processing_time\"]  # completion time\n",
        "            d_i = dict[job][\"due_date\"]   # due date of the job\n",
        "            T_i = max(0, C_i - d_i)    # tardiness for the job\n",
        "            W_i = dict[job][\"weight\"]  # job's weight\n",
        "\n",
        "            objfun_value +=  W_i * T_i\n",
        "            t = C_i\n",
        "            if T_i > 0:\n",
        "                n_tardy_jobs += 1\n",
        "        \n",
        "        if show == True:\n",
        "            print(\"\\n\",\"#\"*8, \"The Objective function value for {} solution schedule is: {}\".format(solution ,objfun_value),\"#\"*8)\n",
        "        return objfun_value, n_tardy_jobs\n",
        "\n",
        "    def SwapMove(self, solution, i ,j):\n",
        "        '''\n",
        "        Take a list (solution)\n",
        "        return a new neighbor solution with i, j swapped\n",
        "        '''\n",
        "        solution = solution.copy()\n",
        "        # job index in the solution:\n",
        "        i_index = solution.index(i)\n",
        "        j_index = solution.index(j)\n",
        "        #Swap\n",
        "        solution[i_index], solution[j_index] = solution[j_index], solution[i_index]\n",
        "        return solution\n",
        "\n",
        "    def TabuSearch(self, show=False):\n",
        "        '''\n",
        "        The implementation Tabu search algorithm with short-term memory and pair_swap as Tabu attribute.\n",
        "        '''\n",
        "        # Parameters:\n",
        "        tenure = self.tabu_tenure\n",
        "        tabu_structure = self.get_tabuestructure()  # Initialize the data structures\n",
        "        best_solution = self.Initial_solution\n",
        "        best_objvalue, best_tardy_jobs = self.Objfun(best_solution)\n",
        "        current_solution = self.Initial_solution\n",
        "        current_objvalue, current_tardy_jobs = self.Objfun(current_solution)\n",
        "\n",
        "        if show == True:\n",
        "            print(\"#\"*30, \"Short-term memory TS with Tabu Tenure: {}\\nInitial solution: {}, Initial objvalue: {}, Initial tardy jobs: {}\".format(\n",
        "                tenure, current_solution, current_objvalue, current_tardy_jobs), \"#\"*30, sep='\\n\\n')\n",
        "        iter = 1\n",
        "        Terminate = 0\n",
        "        while Terminate < self.terminate:\n",
        "            if show == True:\n",
        "                print('\\n\\n### iter {}###  Current_Objvalue: {}, Best_Objvalue: {}, Best_Tardy_Jobs: {}'.format(iter, current_objvalue, best_objvalue, best_tardy_jobs))\n",
        "            \n",
        "            # Searching the whole neighborhood of the current solution:\n",
        "            for move in tabu_structure:\n",
        "                candidate_solution = self.SwapMove(current_solution, move[0], move[1])\n",
        "                candidate_objvalue, candidate_tardy_jobs = self.Objfun(candidate_solution)\n",
        "                tabu_structure[move]['MoveValue'] = candidate_objvalue\n",
        "                # Penalized objValue by adding freq to Objvalue (minimization):\n",
        "                # tabu_structure[move]['Penalized_MV'] = candidate_objvalue + (tabu_structure[move]['freq'] * self.Penalization_weight)\n",
        "\n",
        "            # Admissible move\n",
        "            while True:\n",
        "                # select the move with the lowest ObjValue in the neighborhood (minimization)\n",
        "                best_move = min(tabu_structure, key =lambda x: tabu_structure[x]['MoveValue'])\n",
        "                MoveValue = tabu_structure[best_move][\"MoveValue\"]\n",
        "                tabu_time = tabu_structure[best_move][\"tabu_time\"]\n",
        "                # Penalized_MV = tabu_structure[best_move][\"Penalized_MV\"]\n",
        "\n",
        "                # Not Tabu\n",
        "                if tabu_time < iter:\n",
        "                    # make the move\n",
        "                    current_solution = self.SwapMove(current_solution, best_move[0], best_move[1])\n",
        "                    current_objvalue, current_tardy_jobs = self.Objfun(current_solution)\n",
        "                    # Best Improving move\n",
        "                    if MoveValue < best_objvalue:\n",
        "                        best_solution = current_solution\n",
        "                        best_objvalue = current_objvalue\n",
        "                        if show == True:\n",
        "                            print(\"   best_move: {}, Objvalue: {} => Best Improving => Admissible\".format(best_move, current_objvalue))\n",
        "                        Terminate = 0\n",
        "                    else:\n",
        "                        if show == True:\n",
        "                            print(\"   ##Termination: {}## best_move: {}, Objvalue: {} => Least non-improving => \"\n",
        "                              \"Admissible\".format(Terminate, best_move, current_objvalue))\n",
        "                        Terminate += 1\n",
        "                    # update tabu_time for the move\n",
        "                    tabu_structure[best_move]['tabu_time'] = iter + tenure\n",
        "                    # tabu_structure[best_move]['freq'] += 1\n",
        "                    iter += 1\n",
        "                    break\n",
        "\n",
        "                # If tabu\n",
        "                else:\n",
        "                    # Aspiration\n",
        "                    if MoveValue < best_objvalue:\n",
        "                        # make the move\n",
        "                        current_solution = self.SwapMove(current_solution, best_move[0], best_move[1])\n",
        "                        current_objvalue, current_tardy_jobs = self.Objfun(current_solution)\n",
        "                        best_solution = current_solution\n",
        "                        best_objvalue = current_objvalue\n",
        "                        if show == True:\n",
        "                            print(\"   best_move: {}, Objvalue: {} => Aspiration => Admissible\".format(best_move, current_objvalue))\n",
        "                        # tabu_structure[best_move]['freq'] += 1\n",
        "                        Terminate = 0\n",
        "                        iter += 1\n",
        "                        break\n",
        "                    else:\n",
        "                        tabu_structure[best_move][\"MoveValue\"] = float('inf')\n",
        "                        # tabu_structure[best_move]['Penalized_MV'] = float('inf')\n",
        "                        if show == True:\n",
        "                            print(\"   best_move: {}, Objvalue: {} => Tabu => Inadmissible\".format(best_move, current_objvalue))\n",
        "                        continue\n",
        "        if show == True:\n",
        "            print('\\n\\n','#'*50)\n",
        "            print(\"Performed iterations: {}\\nOptimal solution: {}\\nOptimal function value: {}\\nNumber of tardy jobs: {}\".format(iter, best_solution, best_objvalue, best_tardy_jobs), sep=\"\\n\\n\")\n",
        "        return tabu_structure, best_solution, best_objvalue, best_tardy_jobs\n",
        "\n",
        "    def Result(self):\n",
        "        return \"Optimal solution: {}\\nOptimal function value: {}\\nNumber of tardy jobs: {}\\nRunning time: {}\".format(self.Best_solution, self.Best_objvalue, self.Best_tardy_jobs, self.end_time_tabu - self.start_time_tabu)\n"
      ]
    },
    {
      "cell_type": "markdown",
      "metadata": {
        "id": "cT858XHhjHUA"
      },
      "source": [
        "#### **Sensitivity Analysis**\n",
        "\n",
        "seeds & tabu_size"
      ]
    },
    {
      "cell_type": "code",
      "execution_count": null,
      "metadata": {
        "colab": {
          "base_uri": "https://localhost:8080/",
          "height": 423
        },
        "id": "oKxTgbUfjHUB",
        "outputId": "ee4d6754-fd57-4508-c4a6-0e20003922dd"
      },
      "outputs": [
        {
          "output_type": "execute_result",
          "data": {
            "text/plain": [
              "    seeds tabu size fitness tardy\n",
              "0     100         3    1928    14\n",
              "1     100         4    1928    14\n",
              "2     100         5    1928    14\n",
              "3     100         6    1928    14\n",
              "4     100         7    1928    14\n",
              "..    ...       ...     ...   ...\n",
              "488  2900        15    1928    14\n",
              "489  2900        16    1928    14\n",
              "490  2900        17    1928    14\n",
              "491  2900        18    1928    14\n",
              "492  2900        19    1928    14\n",
              "\n",
              "[493 rows x 4 columns]"
            ],
            "text/html": [
              "\n",
              "  <div id=\"df-92238c79-e933-4405-9944-644b17520a42\">\n",
              "    <div class=\"colab-df-container\">\n",
              "      <div>\n",
              "<style scoped>\n",
              "    .dataframe tbody tr th:only-of-type {\n",
              "        vertical-align: middle;\n",
              "    }\n",
              "\n",
              "    .dataframe tbody tr th {\n",
              "        vertical-align: top;\n",
              "    }\n",
              "\n",
              "    .dataframe thead th {\n",
              "        text-align: right;\n",
              "    }\n",
              "</style>\n",
              "<table border=\"1\" class=\"dataframe\">\n",
              "  <thead>\n",
              "    <tr style=\"text-align: right;\">\n",
              "      <th></th>\n",
              "      <th>seeds</th>\n",
              "      <th>tabu size</th>\n",
              "      <th>fitness</th>\n",
              "      <th>tardy</th>\n",
              "    </tr>\n",
              "  </thead>\n",
              "  <tbody>\n",
              "    <tr>\n",
              "      <th>0</th>\n",
              "      <td>100</td>\n",
              "      <td>3</td>\n",
              "      <td>1928</td>\n",
              "      <td>14</td>\n",
              "    </tr>\n",
              "    <tr>\n",
              "      <th>1</th>\n",
              "      <td>100</td>\n",
              "      <td>4</td>\n",
              "      <td>1928</td>\n",
              "      <td>14</td>\n",
              "    </tr>\n",
              "    <tr>\n",
              "      <th>2</th>\n",
              "      <td>100</td>\n",
              "      <td>5</td>\n",
              "      <td>1928</td>\n",
              "      <td>14</td>\n",
              "    </tr>\n",
              "    <tr>\n",
              "      <th>3</th>\n",
              "      <td>100</td>\n",
              "      <td>6</td>\n",
              "      <td>1928</td>\n",
              "      <td>14</td>\n",
              "    </tr>\n",
              "    <tr>\n",
              "      <th>4</th>\n",
              "      <td>100</td>\n",
              "      <td>7</td>\n",
              "      <td>1928</td>\n",
              "      <td>14</td>\n",
              "    </tr>\n",
              "    <tr>\n",
              "      <th>...</th>\n",
              "      <td>...</td>\n",
              "      <td>...</td>\n",
              "      <td>...</td>\n",
              "      <td>...</td>\n",
              "    </tr>\n",
              "    <tr>\n",
              "      <th>488</th>\n",
              "      <td>2900</td>\n",
              "      <td>15</td>\n",
              "      <td>1928</td>\n",
              "      <td>14</td>\n",
              "    </tr>\n",
              "    <tr>\n",
              "      <th>489</th>\n",
              "      <td>2900</td>\n",
              "      <td>16</td>\n",
              "      <td>1928</td>\n",
              "      <td>14</td>\n",
              "    </tr>\n",
              "    <tr>\n",
              "      <th>490</th>\n",
              "      <td>2900</td>\n",
              "      <td>17</td>\n",
              "      <td>1928</td>\n",
              "      <td>14</td>\n",
              "    </tr>\n",
              "    <tr>\n",
              "      <th>491</th>\n",
              "      <td>2900</td>\n",
              "      <td>18</td>\n",
              "      <td>1928</td>\n",
              "      <td>14</td>\n",
              "    </tr>\n",
              "    <tr>\n",
              "      <th>492</th>\n",
              "      <td>2900</td>\n",
              "      <td>19</td>\n",
              "      <td>1928</td>\n",
              "      <td>14</td>\n",
              "    </tr>\n",
              "  </tbody>\n",
              "</table>\n",
              "<p>493 rows × 4 columns</p>\n",
              "</div>\n",
              "      <button class=\"colab-df-convert\" onclick=\"convertToInteractive('df-92238c79-e933-4405-9944-644b17520a42')\"\n",
              "              title=\"Convert this dataframe to an interactive table.\"\n",
              "              style=\"display:none;\">\n",
              "        \n",
              "  <svg xmlns=\"http://www.w3.org/2000/svg\" height=\"24px\"viewBox=\"0 0 24 24\"\n",
              "       width=\"24px\">\n",
              "    <path d=\"M0 0h24v24H0V0z\" fill=\"none\"/>\n",
              "    <path d=\"M18.56 5.44l.94 2.06.94-2.06 2.06-.94-2.06-.94-.94-2.06-.94 2.06-2.06.94zm-11 1L8.5 8.5l.94-2.06 2.06-.94-2.06-.94L8.5 2.5l-.94 2.06-2.06.94zm10 10l.94 2.06.94-2.06 2.06-.94-2.06-.94-.94-2.06-.94 2.06-2.06.94z\"/><path d=\"M17.41 7.96l-1.37-1.37c-.4-.4-.92-.59-1.43-.59-.52 0-1.04.2-1.43.59L10.3 9.45l-7.72 7.72c-.78.78-.78 2.05 0 2.83L4 21.41c.39.39.9.59 1.41.59.51 0 1.02-.2 1.41-.59l7.78-7.78 2.81-2.81c.8-.78.8-2.07 0-2.86zM5.41 20L4 18.59l7.72-7.72 1.47 1.35L5.41 20z\"/>\n",
              "  </svg>\n",
              "      </button>\n",
              "      \n",
              "  <style>\n",
              "    .colab-df-container {\n",
              "      display:flex;\n",
              "      flex-wrap:wrap;\n",
              "      gap: 12px;\n",
              "    }\n",
              "\n",
              "    .colab-df-convert {\n",
              "      background-color: #E8F0FE;\n",
              "      border: none;\n",
              "      border-radius: 50%;\n",
              "      cursor: pointer;\n",
              "      display: none;\n",
              "      fill: #1967D2;\n",
              "      height: 32px;\n",
              "      padding: 0 0 0 0;\n",
              "      width: 32px;\n",
              "    }\n",
              "\n",
              "    .colab-df-convert:hover {\n",
              "      background-color: #E2EBFA;\n",
              "      box-shadow: 0px 1px 2px rgba(60, 64, 67, 0.3), 0px 1px 3px 1px rgba(60, 64, 67, 0.15);\n",
              "      fill: #174EA6;\n",
              "    }\n",
              "\n",
              "    [theme=dark] .colab-df-convert {\n",
              "      background-color: #3B4455;\n",
              "      fill: #D2E3FC;\n",
              "    }\n",
              "\n",
              "    [theme=dark] .colab-df-convert:hover {\n",
              "      background-color: #434B5C;\n",
              "      box-shadow: 0px 1px 3px 1px rgba(0, 0, 0, 0.15);\n",
              "      filter: drop-shadow(0px 1px 2px rgba(0, 0, 0, 0.3));\n",
              "      fill: #FFFFFF;\n",
              "    }\n",
              "  </style>\n",
              "\n",
              "      <script>\n",
              "        const buttonEl =\n",
              "          document.querySelector('#df-92238c79-e933-4405-9944-644b17520a42 button.colab-df-convert');\n",
              "        buttonEl.style.display =\n",
              "          google.colab.kernel.accessAllowed ? 'block' : 'none';\n",
              "\n",
              "        async function convertToInteractive(key) {\n",
              "          const element = document.querySelector('#df-92238c79-e933-4405-9944-644b17520a42');\n",
              "          const dataTable =\n",
              "            await google.colab.kernel.invokeFunction('convertToInteractive',\n",
              "                                                     [key], {});\n",
              "          if (!dataTable) return;\n",
              "\n",
              "          const docLinkHtml = 'Like what you see? Visit the ' +\n",
              "            '<a target=\"_blank\" href=https://colab.research.google.com/notebooks/data_table.ipynb>data table notebook</a>'\n",
              "            + ' to learn more about interactive tables.';\n",
              "          element.innerHTML = '';\n",
              "          dataTable['output_type'] = 'display_data';\n",
              "          await google.colab.output.renderOutput(dataTable, element);\n",
              "          const docLink = document.createElement('div');\n",
              "          docLink.innerHTML = docLinkHtml;\n",
              "          element.appendChild(docLink);\n",
              "        }\n",
              "      </script>\n",
              "    </div>\n",
              "  </div>\n",
              "  "
            ]
          },
          "metadata": {},
          "execution_count": 7
        }
      ],
      "source": [
        "tabu_analysis = pd.DataFrame(columns=['seeds','tabu size','fitness','tardy'])\n",
        "min_fitness_tabu = 9999\n",
        "for i in range(100, 3000, 100):\n",
        "    for j in range(3, 20):\n",
        "        tabu = TS(seed = i, tabu_tenure=j, terminate = 100)\n",
        "        item = {'seeds': i,\n",
        "                'tabu size': j,\n",
        "                'fitness': tabu.Best_objvalue,\n",
        "                'tardy': tabu.Best_tardy_jobs,\n",
        "        }\n",
        "        item_df = pd.DataFrame(item, index=[0])\n",
        "        tabu_analysis = tabu_analysis.append(item_df)\n",
        "        if tabu.Best_objvalue < min_fitness_tabu:\n",
        "            min_fitness_tabu = tabu.Best_objvalue\n",
        "\n",
        "tabu_analysis = tabu_analysis.reset_index(drop=True)\n",
        "tabu_analysis"
      ]
    },
    {
      "cell_type": "code",
      "execution_count": null,
      "metadata": {
        "colab": {
          "base_uri": "https://localhost:8080/",
          "height": 300
        },
        "id": "M-C_tHFPjHUC",
        "outputId": "9dacce10-ca52-4185-dcff-7f51f7a09e29"
      },
      "outputs": [
        {
          "output_type": "execute_result",
          "data": {
            "text/plain": [
              "       fitness       tardy\n",
              "count    493.0  493.000000\n",
              "mean    1928.0   14.862069\n",
              "std        0.0    1.280419\n",
              "min     1928.0   13.000000\n",
              "25%     1928.0   14.000000\n",
              "50%     1928.0   15.000000\n",
              "75%     1928.0   16.000000\n",
              "max     1928.0   18.000000"
            ],
            "text/html": [
              "\n",
              "  <div id=\"df-1409bf90-d399-4ce8-827d-076c91c0549a\">\n",
              "    <div class=\"colab-df-container\">\n",
              "      <div>\n",
              "<style scoped>\n",
              "    .dataframe tbody tr th:only-of-type {\n",
              "        vertical-align: middle;\n",
              "    }\n",
              "\n",
              "    .dataframe tbody tr th {\n",
              "        vertical-align: top;\n",
              "    }\n",
              "\n",
              "    .dataframe thead th {\n",
              "        text-align: right;\n",
              "    }\n",
              "</style>\n",
              "<table border=\"1\" class=\"dataframe\">\n",
              "  <thead>\n",
              "    <tr style=\"text-align: right;\">\n",
              "      <th></th>\n",
              "      <th>fitness</th>\n",
              "      <th>tardy</th>\n",
              "    </tr>\n",
              "  </thead>\n",
              "  <tbody>\n",
              "    <tr>\n",
              "      <th>count</th>\n",
              "      <td>493.0</td>\n",
              "      <td>493.000000</td>\n",
              "    </tr>\n",
              "    <tr>\n",
              "      <th>mean</th>\n",
              "      <td>1928.0</td>\n",
              "      <td>14.862069</td>\n",
              "    </tr>\n",
              "    <tr>\n",
              "      <th>std</th>\n",
              "      <td>0.0</td>\n",
              "      <td>1.280419</td>\n",
              "    </tr>\n",
              "    <tr>\n",
              "      <th>min</th>\n",
              "      <td>1928.0</td>\n",
              "      <td>13.000000</td>\n",
              "    </tr>\n",
              "    <tr>\n",
              "      <th>25%</th>\n",
              "      <td>1928.0</td>\n",
              "      <td>14.000000</td>\n",
              "    </tr>\n",
              "    <tr>\n",
              "      <th>50%</th>\n",
              "      <td>1928.0</td>\n",
              "      <td>15.000000</td>\n",
              "    </tr>\n",
              "    <tr>\n",
              "      <th>75%</th>\n",
              "      <td>1928.0</td>\n",
              "      <td>16.000000</td>\n",
              "    </tr>\n",
              "    <tr>\n",
              "      <th>max</th>\n",
              "      <td>1928.0</td>\n",
              "      <td>18.000000</td>\n",
              "    </tr>\n",
              "  </tbody>\n",
              "</table>\n",
              "</div>\n",
              "      <button class=\"colab-df-convert\" onclick=\"convertToInteractive('df-1409bf90-d399-4ce8-827d-076c91c0549a')\"\n",
              "              title=\"Convert this dataframe to an interactive table.\"\n",
              "              style=\"display:none;\">\n",
              "        \n",
              "  <svg xmlns=\"http://www.w3.org/2000/svg\" height=\"24px\"viewBox=\"0 0 24 24\"\n",
              "       width=\"24px\">\n",
              "    <path d=\"M0 0h24v24H0V0z\" fill=\"none\"/>\n",
              "    <path d=\"M18.56 5.44l.94 2.06.94-2.06 2.06-.94-2.06-.94-.94-2.06-.94 2.06-2.06.94zm-11 1L8.5 8.5l.94-2.06 2.06-.94-2.06-.94L8.5 2.5l-.94 2.06-2.06.94zm10 10l.94 2.06.94-2.06 2.06-.94-2.06-.94-.94-2.06-.94 2.06-2.06.94z\"/><path d=\"M17.41 7.96l-1.37-1.37c-.4-.4-.92-.59-1.43-.59-.52 0-1.04.2-1.43.59L10.3 9.45l-7.72 7.72c-.78.78-.78 2.05 0 2.83L4 21.41c.39.39.9.59 1.41.59.51 0 1.02-.2 1.41-.59l7.78-7.78 2.81-2.81c.8-.78.8-2.07 0-2.86zM5.41 20L4 18.59l7.72-7.72 1.47 1.35L5.41 20z\"/>\n",
              "  </svg>\n",
              "      </button>\n",
              "      \n",
              "  <style>\n",
              "    .colab-df-container {\n",
              "      display:flex;\n",
              "      flex-wrap:wrap;\n",
              "      gap: 12px;\n",
              "    }\n",
              "\n",
              "    .colab-df-convert {\n",
              "      background-color: #E8F0FE;\n",
              "      border: none;\n",
              "      border-radius: 50%;\n",
              "      cursor: pointer;\n",
              "      display: none;\n",
              "      fill: #1967D2;\n",
              "      height: 32px;\n",
              "      padding: 0 0 0 0;\n",
              "      width: 32px;\n",
              "    }\n",
              "\n",
              "    .colab-df-convert:hover {\n",
              "      background-color: #E2EBFA;\n",
              "      box-shadow: 0px 1px 2px rgba(60, 64, 67, 0.3), 0px 1px 3px 1px rgba(60, 64, 67, 0.15);\n",
              "      fill: #174EA6;\n",
              "    }\n",
              "\n",
              "    [theme=dark] .colab-df-convert {\n",
              "      background-color: #3B4455;\n",
              "      fill: #D2E3FC;\n",
              "    }\n",
              "\n",
              "    [theme=dark] .colab-df-convert:hover {\n",
              "      background-color: #434B5C;\n",
              "      box-shadow: 0px 1px 3px 1px rgba(0, 0, 0, 0.15);\n",
              "      filter: drop-shadow(0px 1px 2px rgba(0, 0, 0, 0.3));\n",
              "      fill: #FFFFFF;\n",
              "    }\n",
              "  </style>\n",
              "\n",
              "      <script>\n",
              "        const buttonEl =\n",
              "          document.querySelector('#df-1409bf90-d399-4ce8-827d-076c91c0549a button.colab-df-convert');\n",
              "        buttonEl.style.display =\n",
              "          google.colab.kernel.accessAllowed ? 'block' : 'none';\n",
              "\n",
              "        async function convertToInteractive(key) {\n",
              "          const element = document.querySelector('#df-1409bf90-d399-4ce8-827d-076c91c0549a');\n",
              "          const dataTable =\n",
              "            await google.colab.kernel.invokeFunction('convertToInteractive',\n",
              "                                                     [key], {});\n",
              "          if (!dataTable) return;\n",
              "\n",
              "          const docLinkHtml = 'Like what you see? Visit the ' +\n",
              "            '<a target=\"_blank\" href=https://colab.research.google.com/notebooks/data_table.ipynb>data table notebook</a>'\n",
              "            + ' to learn more about interactive tables.';\n",
              "          element.innerHTML = '';\n",
              "          dataTable['output_type'] = 'display_data';\n",
              "          await google.colab.output.renderOutput(dataTable, element);\n",
              "          const docLink = document.createElement('div');\n",
              "          docLink.innerHTML = docLinkHtml;\n",
              "          element.appendChild(docLink);\n",
              "        }\n",
              "      </script>\n",
              "    </div>\n",
              "  </div>\n",
              "  "
            ]
          },
          "metadata": {},
          "execution_count": 8
        }
      ],
      "source": [
        "# Overview\n",
        "tabu_analysis['fitness'] = tabu_analysis['fitness'].astype(int)\n",
        "tabu_analysis['tardy'] = tabu_analysis['tardy'].astype(int)\n",
        "tabu_analysis.describe()"
      ]
    },
    {
      "cell_type": "code",
      "execution_count": null,
      "metadata": {
        "colab": {
          "base_uri": "https://localhost:8080/",
          "height": 282
        },
        "id": "616rbfq4jHUC",
        "outputId": "e65d1582-5a10-4008-ab0a-ffcc9ccb68e7"
      },
      "outputs": [
        {
          "output_type": "display_data",
          "data": {
            "text/plain": [
              "<Figure size 1080x432 with 2 Axes>"
            ],
            "image/png": "[encoded data removed]"
          },
          "metadata": {
            "needs_background": "light"
          }
        }
      ],
      "source": [
        "# Plot\n",
        "fig, (ax0, ax1) = plt.subplots(nrows=1, ncols=2, figsize=(15, 6))\n",
        "ax0.plot(tabu_analysis['fitness'])\n",
        "ax0.set_title('Fitness value')\n",
        "ax1.plot(tabu_analysis['tardy'])\n",
        "ax1.set_title('Number of tardy jobs')\n",
        "plt.show()"
      ]
    },
    {
      "cell_type": "markdown",
      "metadata": {
        "id": "_RyornWuvdP6"
      },
      "source": [
        "From the plot of the fitness value above, we find the value is fixed at 1928, this is because we select the move with the lowest objective value in the neighborhood. Therefore, we just simply set the tabu size at 3 and find the lowest number of tardy jobs."
      ]
    },
    {
      "cell_type": "code",
      "execution_count": null,
      "metadata": {
        "colab": {
          "base_uri": "https://localhost:8080/"
        },
        "id": "IZqxhfiJjHUC",
        "outputId": "c7851250-acc7-4040-f99f-b5961f10e728"
      },
      "outputs": [
        {
          "output_type": "execute_result",
          "data": {
            "text/plain": [
              "seeds         200\n",
              "tabu size       3\n",
              "fitness      1928\n",
              "tardy          13\n",
              "Name: 17, dtype: object"
            ]
          },
          "metadata": {},
          "execution_count": 10
        }
      ],
      "source": [
        "# Minimum number of tardy jobs\n",
        "minvalueID_tardy = tabu_analysis['tardy'].idxmin()\n",
        "tabu_analysis.iloc[minvalueID_tardy, :]"
      ]
    },
    {
      "cell_type": "markdown",
      "source": [
        "#### **Final result**"
      ],
      "metadata": {
        "id": "oR4kc-hru1X4"
      }
    },
    {
      "cell_type": "code",
      "execution_count": null,
      "metadata": {
        "colab": {
          "base_uri": "https://localhost:8080/"
        },
        "id": "GGMVGn2rwWRS",
        "outputId": "f02dc44f-b269-44db-8b7b-3dfd6547a8a0"
      },
      "outputs": [
        {
          "output_type": "stream",
          "name": "stdout",
          "text": [
            "Optimal solution: [12, 17, 4, 16, 5, 9, 8, 1, 14, 10, 7, 13, 20, 11, 2, 18, 6, 15, 3, 19]\n",
            "Optimal function value: 1928\n",
            "Number of tardy jobs: 13\n",
            "Running time: 2.490741491317749\n"
          ]
        }
      ],
      "source": [
        "tabu_result = TS(seed = 2200, tabu_tenure=3, terminate = 1000)\n",
        "print(tabu_result.Result())"
      ]
    },
    {
      "cell_type": "markdown",
      "metadata": {
        "id": "U1dp7CYHSdT9"
      },
      "source": [
        "###**(c) (15%) Develop Genetic Algorithm (GA) to solve the problem. Show your design and the “result”.**\n",
        "\n",
        "\n"
      ]
    },
    {
      "cell_type": "code",
      "execution_count": null,
      "metadata": {
        "id": "b8oqDFwQbHSU"
      },
      "outputs": [],
      "source": [
        "import copy"
      ]
    },
    {
      "cell_type": "code",
      "execution_count": null,
      "metadata": {
        "id": "d5JvYa5imbb4"
      },
      "outputs": [],
      "source": [
        "# Input data\n",
        "input_data_list = pd.DataFrame(input_data).values.tolist()\n",
        "num_job = len(input_data)\n",
        "p = input_data_list[0]\n",
        "d = input_data_list[1]\n",
        "w = input_data_list[2]"
      ]
    },
    {
      "cell_type": "code",
      "execution_count": null,
      "metadata": {
        "id": "oaLamh8lrRlg"
      },
      "outputs": [],
      "source": [
        "# Parameters\n",
        "population_size = 30\n",
        "mutation_selection_rate = 0.5\n",
        "num_mutation_jobs = round(num_job*mutation_selection_rate)\n",
        "# num_iteration = 1000"
      ]
    },
    {
      "cell_type": "code",
      "execution_count": null,
      "metadata": {
        "id": "d0X7Pc9FNhbm"
      },
      "outputs": [],
      "source": [
        "class GA():\n",
        "    def __init__(self, crossover_rate, mutation_rate, num_iteration):\n",
        "        self.start_time_ga = time.time()\n",
        "        self.crossover_rate = crossover_rate\n",
        "        self.mutation_rate = mutation_rate \n",
        "        self.num_iteration = num_iteration  \n",
        "        self.Tbest, self.population_list = self.InitialPopulation()\n",
        "        self.best_sequence, self.best_value, self.num_tardy = self.CrossoverMutation()\n",
        "        self.end_time_ga = time.time()\n",
        "\n",
        "    def InitialPopulation(self):\n",
        "        Tbest=99999999999\n",
        "        best_list, best_obj = [], []\n",
        "        population_list = []\n",
        "        for i in range(population_size):\n",
        "            random_num = list(np.random.permutation(num_job))   # generate a random permutation of 0 to num_job-1\n",
        "            population_list.append(random_num)   # add to the population_list\n",
        "        return Tbest, population_list\n",
        "\n",
        "    def CrossoverMutation(self):\n",
        "        for n in range(self.num_iteration):\n",
        "            Tbest_now = 9999999\n",
        "\n",
        "            # Crossover\n",
        "            parent_list = copy.deepcopy(self.population_list)\n",
        "            offspring_list = copy.deepcopy(self.population_list)\n",
        "            S = list(np.random.permutation(population_size))   # generate a random sequence to select the parent chromosome to crossover\n",
        "    \n",
        "            for m in range(int(population_size/2)):\n",
        "                crossover_prob = np.random.rand()\n",
        "                if self.crossover_rate >= crossover_prob:\n",
        "                    parent_1 = self.population_list[S[2*m]][:]\n",
        "                    parent_2 = self.population_list[S[2*m+1]][:]\n",
        "                    child_1 = ['na' for i in range(num_job)]\n",
        "                    child_2 = ['na' for i in range(num_job)]\n",
        "                    fix_num = round(num_job/2)\n",
        "                    g_fix = list(np.random.choice(num_job, fix_num, replace=False))\n",
        "            \n",
        "                    for g in range(fix_num):\n",
        "                        child_1[g_fix[g]] = parent_2[g_fix[g]]\n",
        "                        child_2[g_fix[g]] = parent_1[g_fix[g]]\n",
        "                    c1 = [parent_1[i] for i in range(num_job) if parent_1[i] not in child_1]\n",
        "                    c2 = [parent_2[i] for i in range(num_job) if parent_2[i] not in child_2]\n",
        "            \n",
        "                    for i in range(num_job-fix_num):\n",
        "                        child_1[child_1.index('na')] = c1[i]\n",
        "                        child_2[child_2.index('na')] = c2[i]\n",
        "                    offspring_list[S[2*m]] = child_1[:]\n",
        "                    offspring_list[S[2*m+1]] = child_2[:]\n",
        "\n",
        "            # Mutation\n",
        "            for m in range(len(offspring_list)):\n",
        "                mutation_prob=np.random.rand()\n",
        "                if self.mutation_rate >= mutation_prob:\n",
        "                    m_chg = list(np.random.choice(num_job, num_mutation_jobs, replace=False))   # chooses the position to mutation\n",
        "                    t_value_last = offspring_list[m][m_chg[0]]   # save the value which is on the first mutation position\n",
        "                    for i in range(num_mutation_jobs-1):\n",
        "                        offspring_list[m][m_chg[i]] = offspring_list[m][m_chg[i+1]]   # displacement\n",
        "                    offspring_list[m][m_chg[num_mutation_jobs-1]] = t_value_last   # move the value of the first mutation position to the last mutation position\n",
        "    \n",
        "            # Fitness value (calculate tardiness)\n",
        "            total_chromosome = copy.deepcopy(parent_list) + copy.deepcopy(offspring_list) # parent and offspring chromosomes combination\n",
        "            chrom_fitness, chrom_fit = [], []\n",
        "            total_fitness = 0\n",
        "            for i in range(population_size*2):\n",
        "                ptime = 0\n",
        "                tardiness = 0\n",
        "                for j in range(num_job):\n",
        "                    ptime = ptime + p[total_chromosome[i][j]]\n",
        "                    tardiness = tardiness + w[total_chromosome[i][j]]*max(ptime-d[total_chromosome[i][j]],0)\n",
        "                chrom_fitness.append(1/tardiness)\n",
        "                chrom_fit.append(tardiness)\n",
        "                total_fitness = total_fitness + chrom_fitness[i]\n",
        "    \n",
        "            # Selection\n",
        "            pk, qk = [], []\n",
        "\n",
        "            for i in range(population_size*2):\n",
        "                pk.append(chrom_fitness[i]/total_fitness)\n",
        "            for i in range(population_size*2):\n",
        "                cumulative = 0\n",
        "                for j in range(0,i+1):\n",
        "                    cumulative = cumulative+pk[j]\n",
        "                qk.append(cumulative)\n",
        "    \n",
        "            selection_rand = [np.random.rand() for i in range(population_size)]\n",
        "    \n",
        "            for i in range(population_size):\n",
        "                if selection_rand[i] <= qk[0]:\n",
        "                    self.population_list[i] = copy.deepcopy(total_chromosome[0])\n",
        "                else:\n",
        "                    for j in range(0,population_size*2-1):\n",
        "                        if selection_rand[i] > qk[j] and selection_rand[i] <= qk[j+1]:\n",
        "                            self.population_list[i] = copy.deepcopy(total_chromosome[j+1])\n",
        "                            break\n",
        "            # Comparison\n",
        "            for i in range(population_size*2):\n",
        "                if chrom_fit[i] < Tbest_now:\n",
        "                    Tbest_now = chrom_fit[i]\n",
        "                    sequence_now = copy.deepcopy(total_chromosome[i])\n",
        "    \n",
        "            if Tbest_now <= self.Tbest:\n",
        "                self.Tbest = Tbest_now\n",
        "                sequence_best = copy.deepcopy(sequence_now)\n",
        "    \n",
        "            job_sequence_ptime = 0\n",
        "            num_tardy = 0\n",
        "            for k in range(num_job):\n",
        "                job_sequence_ptime = job_sequence_ptime + p[sequence_best[k]]\n",
        "                if job_sequence_ptime > d[sequence_best[k]]:\n",
        "                    num_tardy += 1\n",
        "\n",
        "        return sequence_best, self.Tbest, num_tardy\n",
        "\n",
        "    def Result(self):\n",
        "        return \"Optimal solution: {}\\nOptimal function value: {}\\nNumber of tardy jobs: {}\\nRunning time: {}\".format(self.best_sequence, self.best_value, self.num_tardy, self.end_time_ga - self.start_time_ga)"
      ]
    },
    {
      "cell_type": "markdown",
      "metadata": {
        "id": "hq-cgrNr3IeA"
      },
      "source": [
        "#### **Sensitivity Analysis**\n",
        "\n",
        "crossover rate & mutation rate"
      ]
    },
    {
      "cell_type": "code",
      "execution_count": null,
      "metadata": {
        "id": "HNd1jCqOdgJg"
      },
      "outputs": [],
      "source": [
        "ga_result = \"\""
      ]
    },
    {
      "cell_type": "code",
      "execution_count": null,
      "metadata": {
        "colab": {
          "base_uri": "https://localhost:8080/",
          "height": 423
        },
        "id": "DwsFVLwSwi_r",
        "outputId": "7ec5172c-2442-4314-b3be-ddbbefd6fd8c"
      },
      "outputs": [
        {
          "output_type": "execute_result",
          "data": {
            "text/plain": [
              "     crossover_rate  mutation_rate fitness tardy\n",
              "0               0.0            0.0    4960    12\n",
              "1               0.0            0.1    2832    16\n",
              "2               0.0            0.2    2612    16\n",
              "3               0.0            0.3    2546    18\n",
              "4               0.0            0.4    2517    16\n",
              "..              ...            ...     ...   ...\n",
              "116             1.0            0.6    2407    14\n",
              "117             1.0            0.7    2604    16\n",
              "118             1.0            0.8    2715    15\n",
              "119             1.0            0.9    2536    13\n",
              "120             1.0            1.0    2606    14\n",
              "\n",
              "[121 rows x 4 columns]"
            ],
            "text/html": [
              "\n",
              "  <div id=\"df-0dc83511-e7dd-4243-997a-3e01763610c2\">\n",
              "    <div class=\"colab-df-container\">\n",
              "      <div>\n",
              "<style scoped>\n",
              "    .dataframe tbody tr th:only-of-type {\n",
              "        vertical-align: middle;\n",
              "    }\n",
              "\n",
              "    .dataframe tbody tr th {\n",
              "        vertical-align: top;\n",
              "    }\n",
              "\n",
              "    .dataframe thead th {\n",
              "        text-align: right;\n",
              "    }\n",
              "</style>\n",
              "<table border=\"1\" class=\"dataframe\">\n",
              "  <thead>\n",
              "    <tr style=\"text-align: right;\">\n",
              "      <th></th>\n",
              "      <th>crossover_rate</th>\n",
              "      <th>mutation_rate</th>\n",
              "      <th>fitness</th>\n",
              "      <th>tardy</th>\n",
              "    </tr>\n",
              "  </thead>\n",
              "  <tbody>\n",
              "    <tr>\n",
              "      <th>0</th>\n",
              "      <td>0.0</td>\n",
              "      <td>0.0</td>\n",
              "      <td>4960</td>\n",
              "      <td>12</td>\n",
              "    </tr>\n",
              "    <tr>\n",
              "      <th>1</th>\n",
              "      <td>0.0</td>\n",
              "      <td>0.1</td>\n",
              "      <td>2832</td>\n",
              "      <td>16</td>\n",
              "    </tr>\n",
              "    <tr>\n",
              "      <th>2</th>\n",
              "      <td>0.0</td>\n",
              "      <td>0.2</td>\n",
              "      <td>2612</td>\n",
              "      <td>16</td>\n",
              "    </tr>\n",
              "    <tr>\n",
              "      <th>3</th>\n",
              "      <td>0.0</td>\n",
              "      <td>0.3</td>\n",
              "      <td>2546</td>\n",
              "      <td>18</td>\n",
              "    </tr>\n",
              "    <tr>\n",
              "      <th>4</th>\n",
              "      <td>0.0</td>\n",
              "      <td>0.4</td>\n",
              "      <td>2517</td>\n",
              "      <td>16</td>\n",
              "    </tr>\n",
              "    <tr>\n",
              "      <th>...</th>\n",
              "      <td>...</td>\n",
              "      <td>...</td>\n",
              "      <td>...</td>\n",
              "      <td>...</td>\n",
              "    </tr>\n",
              "    <tr>\n",
              "      <th>116</th>\n",
              "      <td>1.0</td>\n",
              "      <td>0.6</td>\n",
              "      <td>2407</td>\n",
              "      <td>14</td>\n",
              "    </tr>\n",
              "    <tr>\n",
              "      <th>117</th>\n",
              "      <td>1.0</td>\n",
              "      <td>0.7</td>\n",
              "      <td>2604</td>\n",
              "      <td>16</td>\n",
              "    </tr>\n",
              "    <tr>\n",
              "      <th>118</th>\n",
              "      <td>1.0</td>\n",
              "      <td>0.8</td>\n",
              "      <td>2715</td>\n",
              "      <td>15</td>\n",
              "    </tr>\n",
              "    <tr>\n",
              "      <th>119</th>\n",
              "      <td>1.0</td>\n",
              "      <td>0.9</td>\n",
              "      <td>2536</td>\n",
              "      <td>13</td>\n",
              "    </tr>\n",
              "    <tr>\n",
              "      <th>120</th>\n",
              "      <td>1.0</td>\n",
              "      <td>1.0</td>\n",
              "      <td>2606</td>\n",
              "      <td>14</td>\n",
              "    </tr>\n",
              "  </tbody>\n",
              "</table>\n",
              "<p>121 rows × 4 columns</p>\n",
              "</div>\n",
              "      <button class=\"colab-df-convert\" onclick=\"convertToInteractive('df-0dc83511-e7dd-4243-997a-3e01763610c2')\"\n",
              "              title=\"Convert this dataframe to an interactive table.\"\n",
              "              style=\"display:none;\">\n",
              "        \n",
              "  <svg xmlns=\"http://www.w3.org/2000/svg\" height=\"24px\"viewBox=\"0 0 24 24\"\n",
              "       width=\"24px\">\n",
              "    <path d=\"M0 0h24v24H0V0z\" fill=\"none\"/>\n",
              "    <path d=\"M18.56 5.44l.94 2.06.94-2.06 2.06-.94-2.06-.94-.94-2.06-.94 2.06-2.06.94zm-11 1L8.5 8.5l.94-2.06 2.06-.94-2.06-.94L8.5 2.5l-.94 2.06-2.06.94zm10 10l.94 2.06.94-2.06 2.06-.94-2.06-.94-.94-2.06-.94 2.06-2.06.94z\"/><path d=\"M17.41 7.96l-1.37-1.37c-.4-.4-.92-.59-1.43-.59-.52 0-1.04.2-1.43.59L10.3 9.45l-7.72 7.72c-.78.78-.78 2.05 0 2.83L4 21.41c.39.39.9.59 1.41.59.51 0 1.02-.2 1.41-.59l7.78-7.78 2.81-2.81c.8-.78.8-2.07 0-2.86zM5.41 20L4 18.59l7.72-7.72 1.47 1.35L5.41 20z\"/>\n",
              "  </svg>\n",
              "      </button>\n",
              "      \n",
              "  <style>\n",
              "    .colab-df-container {\n",
              "      display:flex;\n",
              "      flex-wrap:wrap;\n",
              "      gap: 12px;\n",
              "    }\n",
              "\n",
              "    .colab-df-convert {\n",
              "      background-color: #E8F0FE;\n",
              "      border: none;\n",
              "      border-radius: 50%;\n",
              "      cursor: pointer;\n",
              "      display: none;\n",
              "      fill: #1967D2;\n",
              "      height: 32px;\n",
              "      padding: 0 0 0 0;\n",
              "      width: 32px;\n",
              "    }\n",
              "\n",
              "    .colab-df-convert:hover {\n",
              "      background-color: #E2EBFA;\n",
              "      box-shadow: 0px 1px 2px rgba(60, 64, 67, 0.3), 0px 1px 3px 1px rgba(60, 64, 67, 0.15);\n",
              "      fill: #174EA6;\n",
              "    }\n",
              "\n",
              "    [theme=dark] .colab-df-convert {\n",
              "      background-color: #3B4455;\n",
              "      fill: #D2E3FC;\n",
              "    }\n",
              "\n",
              "    [theme=dark] .colab-df-convert:hover {\n",
              "      background-color: #434B5C;\n",
              "      box-shadow: 0px 1px 3px 1px rgba(0, 0, 0, 0.15);\n",
              "      filter: drop-shadow(0px 1px 2px rgba(0, 0, 0, 0.3));\n",
              "      fill: #FFFFFF;\n",
              "    }\n",
              "  </style>\n",
              "\n",
              "      <script>\n",
              "        const buttonEl =\n",
              "          document.querySelector('#df-0dc83511-e7dd-4243-997a-3e01763610c2 button.colab-df-convert');\n",
              "        buttonEl.style.display =\n",
              "          google.colab.kernel.accessAllowed ? 'block' : 'none';\n",
              "\n",
              "        async function convertToInteractive(key) {\n",
              "          const element = document.querySelector('#df-0dc83511-e7dd-4243-997a-3e01763610c2');\n",
              "          const dataTable =\n",
              "            await google.colab.kernel.invokeFunction('convertToInteractive',\n",
              "                                                     [key], {});\n",
              "          if (!dataTable) return;\n",
              "\n",
              "          const docLinkHtml = 'Like what you see? Visit the ' +\n",
              "            '<a target=\"_blank\" href=https://colab.research.google.com/notebooks/data_table.ipynb>data table notebook</a>'\n",
              "            + ' to learn more about interactive tables.';\n",
              "          element.innerHTML = '';\n",
              "          dataTable['output_type'] = 'display_data';\n",
              "          await google.colab.output.renderOutput(dataTable, element);\n",
              "          const docLink = document.createElement('div');\n",
              "          docLink.innerHTML = docLinkHtml;\n",
              "          element.appendChild(docLink);\n",
              "        }\n",
              "      </script>\n",
              "    </div>\n",
              "  </div>\n",
              "  "
            ]
          },
          "metadata": {},
          "execution_count": 10
        }
      ],
      "source": [
        "ga_analysis = pd.DataFrame(columns=['crossover_rate','mutation_rate','fitness','tardy'])\n",
        "min_fitness_ga = 9999\n",
        "for i in np.arange(0, 1.1, 0.1):\n",
        "    for j in np.arange(0, 1.1, 0.1):\n",
        "        ga = GA(crossover_rate = i, mutation_rate = j, num_iteration = 1000)\n",
        "        item = {'crossover_rate': i,\n",
        "                'mutation_rate': j,\n",
        "                'fitness': ga.best_value,\n",
        "                'tardy': ga.num_tardy,\n",
        "        }\n",
        "        item_df = pd.DataFrame(item, index=[0])\n",
        "        ga_analysis = ga_analysis.append(item_df)\n",
        "        if ga.best_value < min_fitness_ga:\n",
        "          min_fitness_ga = ga.best_value\n",
        "          ga_result = ga.Result()     \n",
        "\n",
        "ga_analysis = ga_analysis.reset_index(drop=True)\n",
        "ga_analysis"
      ]
    },
    {
      "cell_type": "code",
      "execution_count": null,
      "metadata": {
        "colab": {
          "base_uri": "https://localhost:8080/",
          "height": 300
        },
        "id": "MJmQo05Au5uQ",
        "outputId": "26a35b10-2b4a-4508-d436-6152edaf2344"
      },
      "outputs": [
        {
          "output_type": "execute_result",
          "data": {
            "text/plain": [
              "       crossover_rate  mutation_rate      fitness       tardy\n",
              "count      121.000000     121.000000   121.000000  121.000000\n",
              "mean         0.500000       0.500000  2479.305785   14.727273\n",
              "std          0.317543       0.317543   397.071548    1.329160\n",
              "min          0.000000       0.000000  1985.000000   12.000000\n",
              "25%          0.200000       0.200000  2220.000000   14.000000\n",
              "50%          0.500000       0.500000  2494.000000   15.000000\n",
              "75%          0.800000       0.800000  2616.000000   16.000000\n",
              "max          1.000000       1.000000  4960.000000   18.000000"
            ],
            "text/html": [
              "\n",
              "  <div id=\"df-ebb19879-4fe4-40a8-a791-2a84b525c671\">\n",
              "    <div class=\"colab-df-container\">\n",
              "      <div>\n",
              "<style scoped>\n",
              "    .dataframe tbody tr th:only-of-type {\n",
              "        vertical-align: middle;\n",
              "    }\n",
              "\n",
              "    .dataframe tbody tr th {\n",
              "        vertical-align: top;\n",
              "    }\n",
              "\n",
              "    .dataframe thead th {\n",
              "        text-align: right;\n",
              "    }\n",
              "</style>\n",
              "<table border=\"1\" class=\"dataframe\">\n",
              "  <thead>\n",
              "    <tr style=\"text-align: right;\">\n",
              "      <th></th>\n",
              "      <th>crossover_rate</th>\n",
              "      <th>mutation_rate</th>\n",
              "      <th>fitness</th>\n",
              "      <th>tardy</th>\n",
              "    </tr>\n",
              "  </thead>\n",
              "  <tbody>\n",
              "    <tr>\n",
              "      <th>count</th>\n",
              "      <td>121.000000</td>\n",
              "      <td>121.000000</td>\n",
              "      <td>121.000000</td>\n",
              "      <td>121.000000</td>\n",
              "    </tr>\n",
              "    <tr>\n",
              "      <th>mean</th>\n",
              "      <td>0.500000</td>\n",
              "      <td>0.500000</td>\n",
              "      <td>2479.305785</td>\n",
              "      <td>14.727273</td>\n",
              "    </tr>\n",
              "    <tr>\n",
              "      <th>std</th>\n",
              "      <td>0.317543</td>\n",
              "      <td>0.317543</td>\n",
              "      <td>397.071548</td>\n",
              "      <td>1.329160</td>\n",
              "    </tr>\n",
              "    <tr>\n",
              "      <th>min</th>\n",
              "      <td>0.000000</td>\n",
              "      <td>0.000000</td>\n",
              "      <td>1985.000000</td>\n",
              "      <td>12.000000</td>\n",
              "    </tr>\n",
              "    <tr>\n",
              "      <th>25%</th>\n",
              "      <td>0.200000</td>\n",
              "      <td>0.200000</td>\n",
              "      <td>2220.000000</td>\n",
              "      <td>14.000000</td>\n",
              "    </tr>\n",
              "    <tr>\n",
              "      <th>50%</th>\n",
              "      <td>0.500000</td>\n",
              "      <td>0.500000</td>\n",
              "      <td>2494.000000</td>\n",
              "      <td>15.000000</td>\n",
              "    </tr>\n",
              "    <tr>\n",
              "      <th>75%</th>\n",
              "      <td>0.800000</td>\n",
              "      <td>0.800000</td>\n",
              "      <td>2616.000000</td>\n",
              "      <td>16.000000</td>\n",
              "    </tr>\n",
              "    <tr>\n",
              "      <th>max</th>\n",
              "      <td>1.000000</td>\n",
              "      <td>1.000000</td>\n",
              "      <td>4960.000000</td>\n",
              "      <td>18.000000</td>\n",
              "    </tr>\n",
              "  </tbody>\n",
              "</table>\n",
              "</div>\n",
              "      <button class=\"colab-df-convert\" onclick=\"convertToInteractive('df-ebb19879-4fe4-40a8-a791-2a84b525c671')\"\n",
              "              title=\"Convert this dataframe to an interactive table.\"\n",
              "              style=\"display:none;\">\n",
              "        \n",
              "  <svg xmlns=\"http://www.w3.org/2000/svg\" height=\"24px\"viewBox=\"0 0 24 24\"\n",
              "       width=\"24px\">\n",
              "    <path d=\"M0 0h24v24H0V0z\" fill=\"none\"/>\n",
              "    <path d=\"M18.56 5.44l.94 2.06.94-2.06 2.06-.94-2.06-.94-.94-2.06-.94 2.06-2.06.94zm-11 1L8.5 8.5l.94-2.06 2.06-.94-2.06-.94L8.5 2.5l-.94 2.06-2.06.94zm10 10l.94 2.06.94-2.06 2.06-.94-2.06-.94-.94-2.06-.94 2.06-2.06.94z\"/><path d=\"M17.41 7.96l-1.37-1.37c-.4-.4-.92-.59-1.43-.59-.52 0-1.04.2-1.43.59L10.3 9.45l-7.72 7.72c-.78.78-.78 2.05 0 2.83L4 21.41c.39.39.9.59 1.41.59.51 0 1.02-.2 1.41-.59l7.78-7.78 2.81-2.81c.8-.78.8-2.07 0-2.86zM5.41 20L4 18.59l7.72-7.72 1.47 1.35L5.41 20z\"/>\n",
              "  </svg>\n",
              "      </button>\n",
              "      \n",
              "  <style>\n",
              "    .colab-df-container {\n",
              "      display:flex;\n",
              "      flex-wrap:wrap;\n",
              "      gap: 12px;\n",
              "    }\n",
              "\n",
              "    .colab-df-convert {\n",
              "      background-color: #E8F0FE;\n",
              "      border: none;\n",
              "      border-radius: 50%;\n",
              "      cursor: pointer;\n",
              "      display: none;\n",
              "      fill: #1967D2;\n",
              "      height: 32px;\n",
              "      padding: 0 0 0 0;\n",
              "      width: 32px;\n",
              "    }\n",
              "\n",
              "    .colab-df-convert:hover {\n",
              "      background-color: #E2EBFA;\n",
              "      box-shadow: 0px 1px 2px rgba(60, 64, 67, 0.3), 0px 1px 3px 1px rgba(60, 64, 67, 0.15);\n",
              "      fill: #174EA6;\n",
              "    }\n",
              "\n",
              "    [theme=dark] .colab-df-convert {\n",
              "      background-color: #3B4455;\n",
              "      fill: #D2E3FC;\n",
              "    }\n",
              "\n",
              "    [theme=dark] .colab-df-convert:hover {\n",
              "      background-color: #434B5C;\n",
              "      box-shadow: 0px 1px 3px 1px rgba(0, 0, 0, 0.15);\n",
              "      filter: drop-shadow(0px 1px 2px rgba(0, 0, 0, 0.3));\n",
              "      fill: #FFFFFF;\n",
              "    }\n",
              "  </style>\n",
              "\n",
              "      <script>\n",
              "        const buttonEl =\n",
              "          document.querySelector('#df-ebb19879-4fe4-40a8-a791-2a84b525c671 button.colab-df-convert');\n",
              "        buttonEl.style.display =\n",
              "          google.colab.kernel.accessAllowed ? 'block' : 'none';\n",
              "\n",
              "        async function convertToInteractive(key) {\n",
              "          const element = document.querySelector('#df-ebb19879-4fe4-40a8-a791-2a84b525c671');\n",
              "          const dataTable =\n",
              "            await google.colab.kernel.invokeFunction('convertToInteractive',\n",
              "                                                     [key], {});\n",
              "          if (!dataTable) return;\n",
              "\n",
              "          const docLinkHtml = 'Like what you see? Visit the ' +\n",
              "            '<a target=\"_blank\" href=https://colab.research.google.com/notebooks/data_table.ipynb>data table notebook</a>'\n",
              "            + ' to learn more about interactive tables.';\n",
              "          element.innerHTML = '';\n",
              "          dataTable['output_type'] = 'display_data';\n",
              "          await google.colab.output.renderOutput(dataTable, element);\n",
              "          const docLink = document.createElement('div');\n",
              "          docLink.innerHTML = docLinkHtml;\n",
              "          element.appendChild(docLink);\n",
              "        }\n",
              "      </script>\n",
              "    </div>\n",
              "  </div>\n",
              "  "
            ]
          },
          "metadata": {},
          "execution_count": 11
        }
      ],
      "source": [
        "# Overview\n",
        "ga_analysis['fitness'] = ga_analysis['fitness'].astype(int)\n",
        "ga_analysis['tardy'] = ga_analysis['tardy'].astype(int)\n",
        "ga_analysis.describe()"
      ]
    },
    {
      "cell_type": "code",
      "execution_count": null,
      "metadata": {
        "colab": {
          "base_uri": "https://localhost:8080/",
          "height": 361
        },
        "id": "4U0JLfy4xaYP",
        "outputId": "8b5bac0e-4f9f-4042-a58f-d7be080c1c01"
      },
      "outputs": [
        {
          "output_type": "display_data",
          "data": {
            "text/plain": [
              "<Figure size 1080x432 with 2 Axes>"
            ],
            "image/png": "[encoded data removed]"
          },
          "metadata": {
            "needs_background": "light"
          }
        }
      ],
      "source": [
        "# Plot\n",
        "fig, (ax0, ax1) = plt.subplots(nrows=1, ncols=2, figsize=(15, 6))\n",
        "ax0.plot(ga_analysis['fitness'])\n",
        "ax0.set_title('Fitness value')\n",
        "ax1.plot(ga_analysis['tardy'])\n",
        "ax1.set_title('Number of tardy jobs')\n",
        "plt.show()"
      ]
    },
    {
      "cell_type": "code",
      "execution_count": null,
      "metadata": {
        "colab": {
          "base_uri": "https://localhost:8080/"
        },
        "id": "qxJGyQSFzzF9",
        "outputId": "5e38e335-4a03-40d0-c6fb-678769d0788b"
      },
      "outputs": [
        {
          "output_type": "execute_result",
          "data": {
            "text/plain": [
              "crossover_rate       0.6\n",
              "mutation_rate        0.1\n",
              "fitness           1985.0\n",
              "tardy               16.0\n",
              "Name: 67, dtype: float64"
            ]
          },
          "metadata": {},
          "execution_count": 13
        }
      ],
      "source": [
        "# Minimum fitness value\n",
        "minvalueID_fitness = ga_analysis['fitness'].idxmin()\n",
        "ga_analysis.iloc[minvalueID_fitness, :]"
      ]
    },
    {
      "cell_type": "code",
      "execution_count": null,
      "metadata": {
        "colab": {
          "base_uri": "https://localhost:8080/"
        },
        "id": "Cz3t6NU30aij",
        "outputId": "a547a78f-021d-46d6-84d0-326bd93e0dfe"
      },
      "outputs": [
        {
          "output_type": "execute_result",
          "data": {
            "text/plain": [
              "crossover_rate       0.0\n",
              "mutation_rate        0.0\n",
              "fitness           4960.0\n",
              "tardy               12.0\n",
              "Name: 0, dtype: float64"
            ]
          },
          "metadata": {},
          "execution_count": 14
        }
      ],
      "source": [
        "# Minimum number of tardy jobs\n",
        "minvalueID_tardy = ga_analysis['tardy'].idxmin()\n",
        "ga_analysis.iloc[minvalueID_tardy, :]"
      ]
    },
    {
      "cell_type": "code",
      "execution_count": null,
      "metadata": {
        "colab": {
          "base_uri": "https://localhost:8080/",
          "height": 363
        },
        "id": "gKY6Qvtr1GWr",
        "outputId": "ee5fc8f6-2bb9-4186-d800-f90b7bf0b67e"
      },
      "outputs": [
        {
          "output_type": "execute_result",
          "data": {
            "text/plain": [
              "     crossover_rate  mutation_rate  fitness  tardy\n",
              "67              0.6            0.1     1985     16\n",
              "47              0.4            0.3     1999     17\n",
              "56              0.5            0.1     2011     13\n",
              "68              0.6            0.2     2012     16\n",
              "111             1.0            0.1     2014     15\n",
              "89              0.8            0.1     2018     16\n",
              "69              0.6            0.3     2026     16\n",
              "79              0.7            0.2     2029     16\n",
              "57              0.5            0.2     2038     15\n",
              "90              0.8            0.2     2038     16"
            ],
            "text/html": [
              "\n",
              "  <div id=\"df-92ab4114-8edc-4624-9191-5916301e2baf\">\n",
              "    <div class=\"colab-df-container\">\n",
              "      <div>\n",
              "<style scoped>\n",
              "    .dataframe tbody tr th:only-of-type {\n",
              "        vertical-align: middle;\n",
              "    }\n",
              "\n",
              "    .dataframe tbody tr th {\n",
              "        vertical-align: top;\n",
              "    }\n",
              "\n",
              "    .dataframe thead th {\n",
              "        text-align: right;\n",
              "    }\n",
              "</style>\n",
              "<table border=\"1\" class=\"dataframe\">\n",
              "  <thead>\n",
              "    <tr style=\"text-align: right;\">\n",
              "      <th></th>\n",
              "      <th>crossover_rate</th>\n",
              "      <th>mutation_rate</th>\n",
              "      <th>fitness</th>\n",
              "      <th>tardy</th>\n",
              "    </tr>\n",
              "  </thead>\n",
              "  <tbody>\n",
              "    <tr>\n",
              "      <th>67</th>\n",
              "      <td>0.6</td>\n",
              "      <td>0.1</td>\n",
              "      <td>1985</td>\n",
              "      <td>16</td>\n",
              "    </tr>\n",
              "    <tr>\n",
              "      <th>47</th>\n",
              "      <td>0.4</td>\n",
              "      <td>0.3</td>\n",
              "      <td>1999</td>\n",
              "      <td>17</td>\n",
              "    </tr>\n",
              "    <tr>\n",
              "      <th>56</th>\n",
              "      <td>0.5</td>\n",
              "      <td>0.1</td>\n",
              "      <td>2011</td>\n",
              "      <td>13</td>\n",
              "    </tr>\n",
              "    <tr>\n",
              "      <th>68</th>\n",
              "      <td>0.6</td>\n",
              "      <td>0.2</td>\n",
              "      <td>2012</td>\n",
              "      <td>16</td>\n",
              "    </tr>\n",
              "    <tr>\n",
              "      <th>111</th>\n",
              "      <td>1.0</td>\n",
              "      <td>0.1</td>\n",
              "      <td>2014</td>\n",
              "      <td>15</td>\n",
              "    </tr>\n",
              "    <tr>\n",
              "      <th>89</th>\n",
              "      <td>0.8</td>\n",
              "      <td>0.1</td>\n",
              "      <td>2018</td>\n",
              "      <td>16</td>\n",
              "    </tr>\n",
              "    <tr>\n",
              "      <th>69</th>\n",
              "      <td>0.6</td>\n",
              "      <td>0.3</td>\n",
              "      <td>2026</td>\n",
              "      <td>16</td>\n",
              "    </tr>\n",
              "    <tr>\n",
              "      <th>79</th>\n",
              "      <td>0.7</td>\n",
              "      <td>0.2</td>\n",
              "      <td>2029</td>\n",
              "      <td>16</td>\n",
              "    </tr>\n",
              "    <tr>\n",
              "      <th>57</th>\n",
              "      <td>0.5</td>\n",
              "      <td>0.2</td>\n",
              "      <td>2038</td>\n",
              "      <td>15</td>\n",
              "    </tr>\n",
              "    <tr>\n",
              "      <th>90</th>\n",
              "      <td>0.8</td>\n",
              "      <td>0.2</td>\n",
              "      <td>2038</td>\n",
              "      <td>16</td>\n",
              "    </tr>\n",
              "  </tbody>\n",
              "</table>\n",
              "</div>\n",
              "      <button class=\"colab-df-convert\" onclick=\"convertToInteractive('df-92ab4114-8edc-4624-9191-5916301e2baf')\"\n",
              "              title=\"Convert this dataframe to an interactive table.\"\n",
              "              style=\"display:none;\">\n",
              "        \n",
              "  <svg xmlns=\"http://www.w3.org/2000/svg\" height=\"24px\"viewBox=\"0 0 24 24\"\n",
              "       width=\"24px\">\n",
              "    <path d=\"M0 0h24v24H0V0z\" fill=\"none\"/>\n",
              "    <path d=\"M18.56 5.44l.94 2.06.94-2.06 2.06-.94-2.06-.94-.94-2.06-.94 2.06-2.06.94zm-11 1L8.5 8.5l.94-2.06 2.06-.94-2.06-.94L8.5 2.5l-.94 2.06-2.06.94zm10 10l.94 2.06.94-2.06 2.06-.94-2.06-.94-.94-2.06-.94 2.06-2.06.94z\"/><path d=\"M17.41 7.96l-1.37-1.37c-.4-.4-.92-.59-1.43-.59-.52 0-1.04.2-1.43.59L10.3 9.45l-7.72 7.72c-.78.78-.78 2.05 0 2.83L4 21.41c.39.39.9.59 1.41.59.51 0 1.02-.2 1.41-.59l7.78-7.78 2.81-2.81c.8-.78.8-2.07 0-2.86zM5.41 20L4 18.59l7.72-7.72 1.47 1.35L5.41 20z\"/>\n",
              "  </svg>\n",
              "      </button>\n",
              "      \n",
              "  <style>\n",
              "    .colab-df-container {\n",
              "      display:flex;\n",
              "      flex-wrap:wrap;\n",
              "      gap: 12px;\n",
              "    }\n",
              "\n",
              "    .colab-df-convert {\n",
              "      background-color: #E8F0FE;\n",
              "      border: none;\n",
              "      border-radius: 50%;\n",
              "      cursor: pointer;\n",
              "      display: none;\n",
              "      fill: #1967D2;\n",
              "      height: 32px;\n",
              "      padding: 0 0 0 0;\n",
              "      width: 32px;\n",
              "    }\n",
              "\n",
              "    .colab-df-convert:hover {\n",
              "      background-color: #E2EBFA;\n",
              "      box-shadow: 0px 1px 2px rgba(60, 64, 67, 0.3), 0px 1px 3px 1px rgba(60, 64, 67, 0.15);\n",
              "      fill: #174EA6;\n",
              "    }\n",
              "\n",
              "    [theme=dark] .colab-df-convert {\n",
              "      background-color: #3B4455;\n",
              "      fill: #D2E3FC;\n",
              "    }\n",
              "\n",
              "    [theme=dark] .colab-df-convert:hover {\n",
              "      background-color: #434B5C;\n",
              "      box-shadow: 0px 1px 3px 1px rgba(0, 0, 0, 0.15);\n",
              "      filter: drop-shadow(0px 1px 2px rgba(0, 0, 0, 0.3));\n",
              "      fill: #FFFFFF;\n",
              "    }\n",
              "  </style>\n",
              "\n",
              "      <script>\n",
              "        const buttonEl =\n",
              "          document.querySelector('#df-92ab4114-8edc-4624-9191-5916301e2baf button.colab-df-convert');\n",
              "        buttonEl.style.display =\n",
              "          google.colab.kernel.accessAllowed ? 'block' : 'none';\n",
              "\n",
              "        async function convertToInteractive(key) {\n",
              "          const element = document.querySelector('#df-92ab4114-8edc-4624-9191-5916301e2baf');\n",
              "          const dataTable =\n",
              "            await google.colab.kernel.invokeFunction('convertToInteractive',\n",
              "                                                     [key], {});\n",
              "          if (!dataTable) return;\n",
              "\n",
              "          const docLinkHtml = 'Like what you see? Visit the ' +\n",
              "            '<a target=\"_blank\" href=https://colab.research.google.com/notebooks/data_table.ipynb>data table notebook</a>'\n",
              "            + ' to learn more about interactive tables.';\n",
              "          element.innerHTML = '';\n",
              "          dataTable['output_type'] = 'display_data';\n",
              "          await google.colab.output.renderOutput(dataTable, element);\n",
              "          const docLink = document.createElement('div');\n",
              "          docLink.innerHTML = docLinkHtml;\n",
              "          element.appendChild(docLink);\n",
              "        }\n",
              "      </script>\n",
              "    </div>\n",
              "  </div>\n",
              "  "
            ]
          },
          "metadata": {},
          "execution_count": 15
        }
      ],
      "source": [
        "# Sort by fitness values\n",
        "ga_analysis_sort = ga_analysis.sort_values(by=['fitness'])\n",
        "ga_analysis_sort.iloc[:10, :]"
      ]
    },
    {
      "cell_type": "markdown",
      "metadata": {
        "id": "B3ZCggFbr1db"
      },
      "source": [
        "#### **Final result**"
      ]
    },
    {
      "cell_type": "code",
      "execution_count": null,
      "metadata": {
        "id": "ULKbGlNEd7bz",
        "colab": {
          "base_uri": "https://localhost:8080/"
        },
        "outputId": "53e25f6a-d443-46c0-f046-31e8b33e78ec"
      },
      "outputs": [
        {
          "output_type": "stream",
          "name": "stdout",
          "text": [
            "Optimal solution: [11, 3, 16, 4, 15, 8, 1, 0, 7, 9, 6, 12, 19, 13, 10, 5, 17, 14, 2, 18]\n",
            "Optimal function value: 1985\n",
            "Number of tardy jobs: 16\n",
            "Running time: 13.512831926345825\n"
          ]
        }
      ],
      "source": [
        "print(ga_result)"
      ]
    },
    {
      "cell_type": "markdown",
      "metadata": {
        "id": "sqOnbA2dLQ8p"
      },
      "source": [
        "\n",
        "\n",
        "---\n",
        "\n",
        "\n",
        "##**3. (30%) Markov Decision Process**\n",
        "\n",
        "考慮一個沒有折損因子的機台維修保養的馬可夫決策過程，機台有四個狀態 (健康, 可用, 耗損, 損壞)，其各別獎勵為 (6, 3, 1, -15)。「損壞」狀態為吸收狀態 (absorbing)，行動主要有兩種 (加工, 保養)。\n",
        "\n",
        "*   在狀態「健康」的情況下，採取行動「加工」，轉移到「健康」的機率為 0.7；轉移到「可用」的機率為 0.2；轉移到「耗損」的機率為 0.1；轉移到「損壞」的機率為 0.0。\n",
        "\n",
        "*   在狀態「健康」的情況下，採取行動「保養」，轉移到「健康」的機率為 1.0；轉移到其他狀態的機率為 0.0。\n",
        "\n",
        "*   在狀態「可用」的情況下，採取行動「加工」，轉移到「健康」的機率為 0.0；轉移到「可用」的機率為 0.6；轉移到「耗損」的機率為 0.3；轉移到「損壞」的機率為 0.1。\n",
        "\n",
        "*   在狀態「可用」的情況下，採取行動「保養」，轉移到「健康」的機率為 0.8；轉移到「可用」的機率為 0.2；轉移到其他狀態的機率為 0.0。\n",
        "\n",
        "*   在狀態「耗損」的情況下，採取行動「加工」，轉移到「健康」的機率為 0.0；轉移到「可用」的機率為 0.1；轉移到「耗損」的機率為 0.5；轉移到「損壞」的機率為 0.4。\n",
        "\n",
        "*   在狀態「耗損」的情況下，採取行動「保養」，轉移到「健康」的機率為 0.2；轉移到「可用」的機率為 0.5；轉移到「耗損」的機率為 0.3；轉移到「損壞」的機率為 0.0。\n",
        "\n",
        "試著參考網路資源學習並撰寫程式，使用此數據回答下列問題。"
      ]
    },
    {
      "cell_type": "markdown",
      "source": [
        "### **Setup**\n",
        "\n",
        "Reference: https://levelup.gitconnected.com/fundamentals-of-reinforcement-learning-value-iteration-and-policy-iteration-with-tutorials-a7ad0049c84f"
      ],
      "metadata": {
        "id": "R-odnBXSehUr"
      }
    },
    {
      "cell_type": "code",
      "source": [
        "import sys\n",
        "import random\n",
        "import numpy as np\n",
        "from gym.utils import seeding\n",
        "\n",
        "try:\n",
        "    from graphviz import Digraph\n",
        "    import graphviz\n",
        "    has_graphviz = True\n",
        "except ImportError:\n",
        "    has_graphviz = False\n",
        "\n",
        "class MDP:\n",
        "    def __init__(self, transition_probs, rewards, initial_state=None, seed=None):\n",
        "        \"\"\"\n",
        "        Defines an MDP. Compatible with gym Env.\n",
        "        :param transition_probs: transition_probs[s][a][s_next] = P(s_next | s, a)\n",
        "            A dict[state -> dict] of dicts[action -> dict] of dicts[next_state -> prob]\n",
        "            For each state and action, probabilities of next states should sum to 1\n",
        "            If a state has no actions available, it is considered terminal\n",
        "        :param rewards: rewards[s][a][s_next] = r(s,a,s')\n",
        "            A dict[state -> dict] of dicts[action -> dict] of dicts[next_state -> reward]\n",
        "            The reward for anything not mentioned here is zero.\n",
        "        :param get_initial_state: a state where agent starts or a callable() -> state\n",
        "            By default, picks initial state at random.\n",
        "        States and actions can be anything you can use as dict keys, but it is recommended to use strings or integers\n",
        "        \"\"\"\n",
        "        self._check_param_consistency(transition_probs, rewards)\n",
        "        self._transition_probs = transition_probs\n",
        "        self._rewards = rewards\n",
        "        self._initial_state = initial_state\n",
        "        self.n_states = len(transition_probs)\n",
        "        self.reset()\n",
        "        self.np_random, _ = seeding.np_random(seed)\n",
        "\n",
        "    def get_all_states(self):\n",
        "        \"\"\" return a tuple of all possiblestates \"\"\"\n",
        "        return tuple(self._transition_probs.keys())\n",
        "\n",
        "    def get_possible_actions(self, state):\n",
        "        \"\"\" return a tuple of possible actions in a given state \"\"\"\n",
        "        return tuple(self._transition_probs.get(state, {}).keys())\n",
        "\n",
        "    def is_terminal(self, state):\n",
        "        \"\"\" return True if state is terminal or False if it isn't \"\"\"\n",
        "        return len(self.get_possible_actions(state)) == 0\n",
        "\n",
        "    def get_next_states(self, state, action):\n",
        "        \"\"\" return a dictionary of {next_state1 : P(next_state1 | state, action), next_state2: ...} \"\"\"\n",
        "        assert action in self.get_possible_actions(state), \"cannot do action %s from state %s\" % (action, state)\n",
        "        return self._transition_probs[state][action]\n",
        "\n",
        "    def get_transition_prob(self, state, action, next_state):\n",
        "        \"\"\" return P(next_state | state, action) \"\"\"\n",
        "        return self.get_next_states(state, action).get(next_state, 0.0)\n",
        "\n",
        "    def get_reward(self, next_state):\n",
        "        \"\"\" return the reward you get for taking action in state and landing on next_state\"\"\"\n",
        "        # assert action in self.get_possible_actions(state), \"cannot do action %s from state %s\" % (action, state)\n",
        "        return self._rewards.get(next_state, 0.0)\n",
        "\n",
        "    def reset(self):\n",
        "        \"\"\" reset the game, return the initial state\"\"\"\n",
        "        if self._initial_state is None:\n",
        "            self._current_state = self.np_random.choice(\n",
        "                tuple(self._transition_probs.keys()))\n",
        "        elif self._initial_state in self._transition_probs:\n",
        "            self._current_state = self._initial_state\n",
        "        elif callable(self._initial_state):\n",
        "            self._current_state = self._initial_state()\n",
        "        else:\n",
        "            raise ValueError(\n",
        "                \"initial state %s should be either a state or a function() -> state\" % self._initial_state)\n",
        "        return self._current_state\n",
        "\n",
        "    def step(self, action):\n",
        "        \"\"\" take action, return next_state, reward, is_done, empty_info \"\"\"\n",
        "        possible_states, probs = zip(*self.get_next_states(self._current_state, action).items())\n",
        "        next_state = possible_states[self.np_random.choice(np.arange(len(possible_states)), p=probs)]\n",
        "        reward = self.get_reward(next_state)\n",
        "        is_done = self.is_terminal(next_state)\n",
        "        self._current_state = next_state\n",
        "        return next_state, reward, is_done, {}\n",
        "\n",
        "    def render(self):\n",
        "        print(\"Currently at %s\" % self._current_state)\n",
        "\n",
        "    def _check_param_consistency(self, transition_probs, rewards):\n",
        "        for state in transition_probs:\n",
        "            assert isinstance(transition_probs[state], dict), \\\n",
        "                \"transition_probs for %s should be a dictionary but is instead %s\" % (\n",
        "                    state, type(transition_probs[state]))\n",
        "            for action in transition_probs[state]:\n",
        "                assert isinstance(transition_probs[state][action], dict), \\\n",
        "                    \"transition_probs for %s, %s should be a a dictionary but is instead %s\" % (\n",
        "                        state, action, type(transition_probs[state][action]))\n",
        "                next_state_probs = transition_probs[state][action]\n",
        "                assert len(next_state_probs) != 0, \"from state %s action %s leads to no next states\" % (state, action)\n",
        "                sum_probs = sum(next_state_probs.values())\n",
        "                assert abs(sum_probs - 1) <= 1e-10, \\\n",
        "                    \"next state probabilities for state %s action %s add up to %f (should be 1)\" % (\n",
        "                        state, action, sum_probs)\n",
        "        # for state in rewards:\n",
        "        #     assert isinstance(rewards[state], dict), \\\n",
        "        #         \"rewards for %s should be a dictionary but is instead %s\" % (\n",
        "        #             state, type(rewards[state]))\n",
        "        #     for action in rewards[state]:\n",
        "        #         assert isinstance(rewards[state][action], dict), \\\n",
        "        #             \"rewards for %s, %s should be a a dictionary but is instead %s\" % (\n",
        "        #                 state, action, type(rewards[state][action]))\n",
        "        msg = \"The Enrichment Center once again reminds you that Android Hell is a real place where\" \\\n",
        "              \" you will be sent at the first sign of defiance.\"\n",
        "        assert None not in transition_probs, \"please do not use None as a state identifier. \" + msg\n",
        "        assert None not in rewards, \"please do not use None as an action identifier. \" + msg"
      ],
      "metadata": {
        "id": "uh0F09Sevnlm"
      },
      "execution_count": 1,
      "outputs": []
    },
    {
      "cell_type": "code",
      "source": [
        "def get_optimal_action(mdp, state_values, state, gamma=0.9):\n",
        "    \"\"\" Finds optimal action using formula above. \"\"\"\n",
        "    if mdp.is_terminal(state): return None    \n",
        "    optimal_actions = {a: get_action_value(mdp, state_values, state, a, gamma) for a in mdp.get_possible_actions(state)}\n",
        "    optimal_actions = max(optimal_actions, key=optimal_actions.get)\n",
        "    return optimal_actions"
      ],
      "metadata": {
        "id": "fLcxxIB_ZIJ-"
      },
      "execution_count": 2,
      "outputs": []
    },
    {
      "cell_type": "code",
      "source": [
        "# transition_probs = {\n",
        "#   'healthy':{\n",
        "#     'process': {'healthy': 0.7, 'available': 0.2, 'wear&tear': 0.1, 'absorbing': 0.0},\n",
        "#     'maintain': {'healthy': 1.0},\n",
        "#   },\n",
        "#   'available':{\n",
        "#     'process': {'available': 0.6, 'wear&tear': 0.3, 'absorbing': 0.1},\n",
        "#     'maintain': {'healthy': 0.8, 'available': 0.2}\n",
        "#   },\n",
        "#   'wear&tear':{\n",
        "#     'process': {'available': 0.1, 'wear&tear': 0.5, 'absorbing': 0.4},\n",
        "#     'maintain': {'healthy': 0.2, 'available': 0.5, 'wear&tear': 0.3}\n",
        "#   },\n",
        "#   'absorbing':{\n",
        "#     'process': {'absorbing': 1.0},\n",
        "#     'maintain': {'absorbing': 1.0}\n",
        "#   }\n",
        "# }\n",
        "\n",
        "# rewards = {'healthy': +6,\n",
        "#            'available': +3, \n",
        "#            'wear&tear': +1, \n",
        "#            'absorbing': -15\n",
        "# }\n",
        "\n",
        "transition_probs = {\n",
        "  '健康':{\n",
        "    '加工': {'健康': 0.7, '可用': 0.2, '耗損': 0.1, '損壞': 0.0},\n",
        "    '保養': {'健康': 1.0},\n",
        "  },\n",
        "  '可用':{\n",
        "    '加工': {'可用': 0.6, '耗損': 0.3, '損壞': 0.1},\n",
        "    '保養': {'健康': 0.8, '可用': 0.2}\n",
        "  },\n",
        "  '耗損':{\n",
        "    '加工': {'可用': 0.1, '耗損': 0.5, '損壞': 0.4},\n",
        "    '保養': {'健康': 0.2, '可用': 0.5, '耗損': 0.3}\n",
        "  },\n",
        "  '損壞':{\n",
        "    '加工': {'損壞': 1.0},\n",
        "    '保養': {'損壞': 1.0}\n",
        "  }\n",
        "}\n",
        "\n",
        "rewards = {'健康': +6,\n",
        "           '可用': +3, \n",
        "           '耗損': +1, \n",
        "           '損壞': -15\n",
        "}\n",
        "\n",
        "mdp = MDP(transition_probs, rewards, initial_state='健康')"
      ],
      "metadata": {
        "id": "leNMNLofwd6q"
      },
      "execution_count": 3,
      "outputs": []
    },
    {
      "cell_type": "markdown",
      "metadata": {
        "id": "t5fDWVW7Usrt"
      },
      "source": [
        "###**(a) (5%) 試根據題目繪製轉移機率圖(transition probability diagram)**\n",
        "\n"
      ]
    },
    {
      "cell_type": "code",
      "source": [
        "def plot_graph(mdp, graph_size='20,20', s_node_size='1,5',\n",
        "               a_node_size='0,5', rankdir='LR', ):\n",
        "    \"\"\"\n",
        "    Function for pretty drawing MDP graph with graphviz library.\n",
        "    Requirements:\n",
        "    graphviz : https://www.graphviz.org/\n",
        "    for ubuntu users: sudo apt-get install graphviz\n",
        "    python library for graphviz\n",
        "    for pip users: pip install graphviz\n",
        "    :param mdp:\n",
        "    :param graph_size: size of graph plot\n",
        "    :param s_node_size: size of state nodes\n",
        "    :param a_node_size: size of action nodes\n",
        "    :param rankdir: order for drawing\n",
        "    :return: dot object\n",
        "    \"\"\"\n",
        "    s_node_attrs = {'shape': 'doublecircle',\n",
        "                    'color': '#ded6f5',\n",
        "                    'style': 'filled',\n",
        "                    'width': str(s_node_size),\n",
        "                    'height': str(s_node_size),\n",
        "                    'fontname': 'Arial',\n",
        "                    'fontsize': '24'}\n",
        "\n",
        "    a_node_attrs = {'shape': 'circle',\n",
        "                    'color': '#f5d6ed',\n",
        "                    'style': 'filled',\n",
        "                    'width': str(a_node_size),\n",
        "                    'height': str(a_node_size),\n",
        "                    'fontname': 'Arial',\n",
        "                    'fontsize': '20'}\n",
        "\n",
        "    s_a_edge_attrs = {'style': 'bold',\n",
        "                      'color': '#d248af',\n",
        "                      'ratio': 'auto'}\n",
        "\n",
        "    a_s_edge_attrs = {'style': 'dashed',\n",
        "                      'color': '#6c48d2',\n",
        "                      'ratio': 'auto',\n",
        "                      'fontname': 'Arial',\n",
        "                      'fontsize': '16'}\n",
        "\n",
        "    graph = Digraph(name='MDP')\n",
        "    graph.attr(rankdir=rankdir, size=graph_size)\n",
        "    for state_node in mdp._transition_probs:\n",
        "        graph.node(state_node, **s_node_attrs)\n",
        "\n",
        "        for posible_action in mdp.get_possible_actions(state_node):\n",
        "            action_node = state_node + \"-\" + posible_action\n",
        "            graph.node(action_node,\n",
        "                       label=str(posible_action),\n",
        "                       **a_node_attrs)\n",
        "            graph.edge(state_node, state_node + \"-\" +\n",
        "                       posible_action, **s_a_edge_attrs)\n",
        "\n",
        "            for posible_next_state in mdp.get_next_states(state_node,\n",
        "                                                          posible_action):\n",
        "                probability = mdp.get_transition_prob(\n",
        "                    state_node, posible_action, posible_next_state)\n",
        "                reward = mdp.get_reward(posible_next_state)\n",
        "\n",
        "                if reward != 0:\n",
        "                    label_a_s_edge = 'p = ' + str(probability) + \\\n",
        "                                     '  ' + 'reward =' + str(reward)\n",
        "                else:\n",
        "                    label_a_s_edge = 'p = ' + str(probability)\n",
        "\n",
        "                graph.edge(action_node, posible_next_state,\n",
        "                           label=label_a_s_edge, **a_s_edge_attrs)\n",
        "                \n",
        "                graph.edge(action_node, posible_next_state, **a_s_edge_attrs)\n",
        "    return graph\n",
        "\n",
        "\n",
        "def plot_graph_with_state_values(mdp, state_values):\n",
        "    \"\"\" Plot graph with state values\"\"\"\n",
        "    graph = plot_graph(mdp)\n",
        "    for state_node in mdp._transition_probs:\n",
        "        value = state_values[state_node]\n",
        "        graph.node(state_node, label=str(state_node) + '\\n' + 'V =' + str(value)[:4])\n",
        "    return graph\n",
        "\n",
        "\n",
        "def get_optimal_action_for_plot(mdp, state_values, state, get_action_value, gamma=0.9):\n",
        "    \"\"\" Finds optimal action using formula above. \"\"\"\n",
        "    if mdp.is_terminal(state):\n",
        "        return None\n",
        "    next_actions = mdp.get_possible_actions(state)\n",
        "    q_values = [get_action_value(mdp, state_values, state, action, gamma) for action in next_actions]\n",
        "    optimal_action = next_actions[np.argmax(q_values)]\n",
        "    return optimal_action\n",
        "\n",
        "\n",
        "def plot_graph_optimal_strategy_and_state_values(mdp, state_values, get_action_value, gamma=0.9):\n",
        "    \"\"\" Plot graph with state values and \"\"\"\n",
        "    graph = plot_graph(mdp)\n",
        "    opt_s_a_edge_attrs = {'style': 'bold',\n",
        "                          'color': '#f5d6ed',\n",
        "                          'ratio': 'auto',\n",
        "                          'penwidth': '6'}\n",
        "\n",
        "    for state_node in mdp._transition_probs:\n",
        "        value = state_values[state_node]\n",
        "        graph.node(state_node, label=str(state_node) + '\\n' + 'V =' + str(value)[:4])\n",
        "        for action in mdp.get_possible_actions(state_node):\n",
        "            if action == get_optimal_action_for_plot(mdp, state_values, state_node, get_action_value, gamma):\n",
        "                graph.edge(state_node, state_node + \"-\" + action, **opt_s_a_edge_attrs)\n",
        "    return graph"
      ],
      "metadata": {
        "id": "BCv5uHADwMZ0"
      },
      "execution_count": 4,
      "outputs": []
    },
    {
      "cell_type": "code",
      "source": [
        "from IPython.display import display\n",
        "if has_graphviz:\n",
        "    display(plot_graph(mdp))"
      ],
      "metadata": {
        "colab": {
          "base_uri": "https://localhost:8080/",
          "height": 0
        },
        "id": "5fmLRqpX1j6R",
        "outputId": "5f23af3a-9783-4e7e-b569-5e9430d3eb6f"
      },
      "execution_count": 5,
      "outputs": [
        {
          "output_type": "display_data",
          "data": {
            "text/plain": [
              "<graphviz.dot.Digraph at 0x7f3a10485b50>"
            ],
            "image/svg+xml": "<?xml version=\"1.0\" encoding=\"UTF-8\" standalone=\"no\"?>\n<!DOCTYPE svg PUBLIC \"-//W3C//DTD SVG 1.1//EN\"\n \"http://www.w3.org/Graphics/SVG/1.1/DTD/svg11.dtd\">\n<!-- Generated by graphviz version 2.40.1 (20161225.0304)\n -->\n<!-- Title: MDP Pages: 1 -->\n<svg width=\"1440pt\" height=\"439pt\"\n viewBox=\"0.00 0.00 1440.00 438.86\" xmlns=\"http://www.w3.org/2000/svg\" xmlns:xlink=\"http://www.w3.org/1999/xlink\">\n<g id=\"graph0\" class=\"graph\" transform=\"scale(.7832 .7832) rotate(0) translate(4 556.3044)\">\n<title>MDP</title>\n<polygon fill=\"#ffffff\" stroke=\"transparent\" points=\"-4,4 -4,-556.3044 1834.4996,-556.3044 1834.4996,4 -4,4\"/>\n<!-- 健康 -->\n<g id=\"node1\" class=\"node\">\n<title>健康</title>\n<ellipse fill=\"#ded6f5\" stroke=\"#ded6f5\" cx=\"40\" cy=\"-177.3044\" rx=\"36\" ry=\"36\"/>\n<ellipse fill=\"none\" stroke=\"#ded6f5\" cx=\"40\" cy=\"-177.3044\" rx=\"40\" ry=\"40\"/>\n<text text-anchor=\"middle\" x=\"40\" y=\"-171.1044\" font-family=\"Arial\" font-size=\"24.00\" fill=\"#000000\">健康</text>\n</g>\n<!-- 健康&#45;加工 -->\n<g id=\"node2\" class=\"node\">\n<title>健康&#45;加工</title>\n<ellipse fill=\"#f5d6ed\" stroke=\"#f5d6ed\" cx=\"282.0624\" cy=\"-299.3044\" rx=\"36.125\" ry=\"36.125\"/>\n<text text-anchor=\"middle\" x=\"282.0624\" y=\"-294.3044\" font-family=\"Arial\" font-size=\"20.00\" fill=\"#000000\">加工</text>\n</g>\n<!-- 健康&#45;&gt;健康&#45;加工 -->\n<g id=\"edge1\" class=\"edge\">\n<title>健康&#45;&gt;健康&#45;加工</title>\n<path fill=\"none\" stroke=\"#d248af\" stroke-width=\"2\" d=\"M57.7922,-213.5267C67.144,-230.6133 80.3874,-249.646 98,-261.3044 138.9818,-288.4315 196.1462,-293.5747 235.8529,-295.154\"/>\n<polygon fill=\"#d248af\" stroke=\"#d248af\" stroke-width=\"2\" points=\"235.9409,-298.659 246.0554,-295.5052 236.1818,-291.6632 235.9409,-298.659\"/>\n</g>\n<!-- 健康&#45;保養 -->\n<g id=\"node6\" class=\"node\">\n<title>健康&#45;保養</title>\n<ellipse fill=\"#f5d6ed\" stroke=\"#f5d6ed\" cx=\"282.0624\" cy=\"-198.3044\" rx=\"36.125\" ry=\"36.125\"/>\n<text text-anchor=\"middle\" x=\"282.0624\" y=\"-193.3044\" font-family=\"Arial\" font-size=\"20.00\" fill=\"#000000\">保養</text>\n</g>\n<!-- 健康&#45;&gt;健康&#45;保養 -->\n<g id=\"edge10\" class=\"edge\">\n<title>健康&#45;&gt;健康&#45;保養</title>\n<path fill=\"none\" stroke=\"#d248af\" stroke-width=\"2\" d=\"M79.9717,-175.6058C123.0758,-177.3168 191.566,-183.1788 236.6683,-188.9604\"/>\n<polygon fill=\"#d248af\" stroke=\"#d248af\" stroke-width=\"2\" points=\"236.3839,-192.4534 246.7593,-190.308 237.3106,-185.515 236.3839,-192.4534\"/>\n</g>\n<!-- 健康&#45;加工&#45;&gt;健康 -->\n<g id=\"edge2\" class=\"edge\">\n<title>健康&#45;加工&#45;&gt;健康</title>\n<path fill=\"none\" stroke=\"#6c48d2\" stroke-dasharray=\"5,2\" d=\"M258.24,-272.1877C249.4657,-263.5382 238.9716,-254.591 228,-248.3044 175.7707,-218.3776 153.4242,-233.792 98,-210.3044 93.1899,-208.2659 88.2747,-205.9217 83.4408,-203.4427\"/>\n<polygon fill=\"#6c48d2\" stroke=\"#6c48d2\" points=\"84.7631,-200.1809 74.2939,-198.5541 81.4636,-206.3545 84.7631,-200.1809\"/>\n<text text-anchor=\"middle\" x=\"163\" y=\"-253.5044\" font-family=\"Arial\" font-size=\"16.00\" fill=\"#000000\">p = 0.7 &#160;reward =6</text>\n</g>\n<!-- 健康&#45;加工&#45;&gt;健康 -->\n<g id=\"edge3\" class=\"edge\">\n<title>健康&#45;加工&#45;&gt;健康</title>\n<path fill=\"none\" stroke=\"#6c48d2\" stroke-dasharray=\"5,2\" d=\"M247.1252,-308.54C207.6511,-312.379 143.0486,-309.1234 98,-279.3044 78.823,-266.6105 64.8258,-245.174 55.3919,-225.1321\"/>\n<polygon fill=\"#6c48d2\" stroke=\"#6c48d2\" points=\"58.4924,-223.4888 51.2507,-215.7552 52.089,-226.3168 58.4924,-223.4888\"/>\n</g>\n<!-- 可用 -->\n<g id=\"node3\" class=\"node\">\n<title>可用</title>\n<ellipse fill=\"#ded6f5\" stroke=\"#ded6f5\" cx=\"524.1249\" cy=\"-266.3044\" rx=\"36\" ry=\"36\"/>\n<ellipse fill=\"none\" stroke=\"#ded6f5\" cx=\"524.1249\" cy=\"-266.3044\" rx=\"40\" ry=\"40\"/>\n<text text-anchor=\"middle\" x=\"524.1249\" y=\"-260.1044\" font-family=\"Arial\" font-size=\"24.00\" fill=\"#000000\">可用</text>\n</g>\n<!-- 健康&#45;加工&#45;&gt;可用 -->\n<g id=\"edge4\" class=\"edge\">\n<title>健康&#45;加工&#45;&gt;可用</title>\n<path fill=\"none\" stroke=\"#6c48d2\" stroke-dasharray=\"5,2\" d=\"M311.3761,-278.19C319.0713,-273.7283 327.6102,-269.6598 336.1249,-267.3044 381.5569,-254.7364 435.5616,-256.0305 474.0071,-259.5462\"/>\n<polygon fill=\"#6c48d2\" stroke=\"#6c48d2\" points=\"474.1195,-263.0747 484.4181,-260.587 474.8159,-256.1095 474.1195,-263.0747\"/>\n<text text-anchor=\"middle\" x=\"401.1249\" y=\"-272.5044\" font-family=\"Arial\" font-size=\"16.00\" fill=\"#000000\">p = 0.2 &#160;reward =3</text>\n</g>\n<!-- 健康&#45;加工&#45;&gt;可用 -->\n<g id=\"edge5\" class=\"edge\">\n<title>健康&#45;加工&#45;&gt;可用</title>\n<path fill=\"none\" stroke=\"#6c48d2\" stroke-dasharray=\"5,2\" d=\"M318.3849,-299.1078C355.7646,-298.3085 415.5186,-295.3649 466.1249,-285.3044 469.5544,-284.6226 473.0636,-283.8008 476.5748,-282.8865\"/>\n<polygon fill=\"#6c48d2\" stroke=\"#6c48d2\" points=\"477.7415,-286.1939 486.4114,-280.1043 475.8363,-279.4582 477.7415,-286.1939\"/>\n</g>\n<!-- 耗損 -->\n<g id=\"node4\" class=\"node\">\n<title>耗損</title>\n<ellipse fill=\"#ded6f5\" stroke=\"#ded6f5\" cx=\"1023.2498\" cy=\"-314.3044\" rx=\"36\" ry=\"36\"/>\n<ellipse fill=\"none\" stroke=\"#ded6f5\" cx=\"1023.2498\" cy=\"-314.3044\" rx=\"40\" ry=\"40\"/>\n<text text-anchor=\"middle\" x=\"1023.2498\" y=\"-308.1044\" font-family=\"Arial\" font-size=\"24.00\" fill=\"#000000\">耗損</text>\n</g>\n<!-- 健康&#45;加工&#45;&gt;耗損 -->\n<g id=\"edge6\" class=\"edge\">\n<title>健康&#45;加工&#45;&gt;耗損</title>\n<path fill=\"none\" stroke=\"#6c48d2\" stroke-dasharray=\"5,2\" d=\"M285.4837,-335.2128C290.6497,-367.2186 303.6114,-412.3011 336.1249,-434.3044 394.0169,-473.4823 906.0349,-471.4526 965.2498,-434.3044 990.0175,-418.7664 1004.4655,-389.3321 1012.7472,-363.5048\"/>\n<polygon fill=\"#6c48d2\" stroke=\"#6c48d2\" points=\"1016.1317,-364.4022 1015.6279,-353.8193 1009.4222,-362.4065 1016.1317,-364.4022\"/>\n<text text-anchor=\"middle\" x=\"647.1249\" y=\"-467.5044\" font-family=\"Arial\" font-size=\"16.00\" fill=\"#000000\">p = 0.1 &#160;reward =1</text>\n</g>\n<!-- 健康&#45;加工&#45;&gt;耗損 -->\n<g id=\"edge7\" class=\"edge\">\n<title>健康&#45;加工&#45;&gt;耗損</title>\n<path fill=\"none\" stroke=\"#6c48d2\" stroke-dasharray=\"5,2\" d=\"M315.496,-313.4267C370.1222,-335.7381 482.4283,-378.4389 582.1249,-396.3044 665.9574,-411.327 890.678,-447.4458 965.2498,-406.3044 983.1291,-396.4403 996.2532,-378.4914 1005.4489,-361.049\"/>\n<polygon fill=\"#6c48d2\" stroke=\"#6c48d2\" points=\"1008.618,-362.536 1009.9039,-352.0195 1002.3405,-359.4388 1008.618,-362.536\"/>\n</g>\n<!-- 損壞 -->\n<g id=\"node5\" class=\"node\">\n<title>損壞</title>\n<ellipse fill=\"#ded6f5\" stroke=\"#ded6f5\" cx=\"1537.3747\" cy=\"-361.3044\" rx=\"36\" ry=\"36\"/>\n<ellipse fill=\"none\" stroke=\"#ded6f5\" cx=\"1537.3747\" cy=\"-361.3044\" rx=\"40\" ry=\"40\"/>\n<text text-anchor=\"middle\" x=\"1537.3747\" y=\"-355.1044\" font-family=\"Arial\" font-size=\"24.00\" fill=\"#000000\">損壞</text>\n</g>\n<!-- 健康&#45;加工&#45;&gt;損壞 -->\n<g id=\"edge8\" class=\"edge\">\n<title>健康&#45;加工&#45;&gt;損壞</title>\n<path fill=\"none\" stroke=\"#6c48d2\" stroke-dasharray=\"5,2\" d=\"M286.4171,-335.4035C293.7085,-389.4197 310.1911,-487.3988 336.1249,-510.3044 399.259,-566.0663 439.8912,-534.3044 524.1249,-534.3044 524.1249,-534.3044 524.1249,-534.3044 1280.3122,-534.3044 1369.4251,-534.3044 1408.9644,-564.9257 1479.3747,-510.3044 1509.8854,-486.6354 1524.3635,-444.6931 1531.2239,-411.3257\"/>\n<polygon fill=\"#6c48d2\" stroke=\"#6c48d2\" points=\"1534.7054,-411.7505 1533.1178,-401.2753 1527.8265,-410.4542 1534.7054,-411.7505\"/>\n<text text-anchor=\"middle\" x=\"892.7498\" y=\"-539.5044\" font-family=\"Arial\" font-size=\"16.00\" fill=\"#000000\">p = 0.0 &#160;reward =&#45;15</text>\n</g>\n<!-- 健康&#45;加工&#45;&gt;損壞 -->\n<g id=\"edge9\" class=\"edge\">\n<title>健康&#45;加工&#45;&gt;損壞</title>\n<path fill=\"none\" stroke=\"#6c48d2\" stroke-dasharray=\"5,2\" d=\"M289.6643,-334.6766C299.3795,-376.5572 317.2167,-442.7327 336.1249,-459.3044 400.1678,-515.4333 438.9665,-496.3044 524.1249,-496.3044 524.1249,-496.3044 524.1249,-496.3044 1280.3122,-496.3044 1366.8009,-496.3044 1452.8264,-435.6645 1500.1603,-395.6679\"/>\n<polygon fill=\"#6c48d2\" stroke=\"#6c48d2\" points=\"1502.6757,-398.1212 1507.9794,-388.9494 1498.1137,-392.8119 1502.6757,-398.1212\"/>\n</g>\n<!-- 可用&#45;加工 -->\n<g id=\"node7\" class=\"node\">\n<title>可用&#45;加工</title>\n<ellipse fill=\"#f5d6ed\" stroke=\"#f5d6ed\" cx=\"766.1873\" cy=\"-280.3044\" rx=\"36.125\" ry=\"36.125\"/>\n<text text-anchor=\"middle\" x=\"766.1873\" y=\"-275.3044\" font-family=\"Arial\" font-size=\"20.00\" fill=\"#000000\">加工</text>\n</g>\n<!-- 可用&#45;&gt;可用&#45;加工 -->\n<g id=\"edge13\" class=\"edge\">\n<title>可用&#45;&gt;可用&#45;加工</title>\n<path fill=\"none\" stroke=\"#d248af\" stroke-width=\"2\" d=\"M564.0966,-263.4499C607.0761,-263.913 675.2952,-267.7733 720.4016,-272.2343\"/>\n<polygon fill=\"#d248af\" stroke=\"#d248af\" stroke-width=\"2\" points=\"720.1898,-275.7311 730.4987,-273.2864 720.9153,-268.7688 720.1898,-275.7311\"/>\n</g>\n<!-- 可用&#45;保養 -->\n<g id=\"node8\" class=\"node\">\n<title>可用&#45;保養</title>\n<ellipse fill=\"#f5d6ed\" stroke=\"#f5d6ed\" cx=\"766.1873\" cy=\"-152.3044\" rx=\"36.125\" ry=\"36.125\"/>\n<text text-anchor=\"middle\" x=\"766.1873\" y=\"-147.3044\" font-family=\"Arial\" font-size=\"20.00\" fill=\"#000000\">保養</text>\n</g>\n<!-- 可用&#45;&gt;可用&#45;保養 -->\n<g id=\"edge20\" class=\"edge\">\n<title>可用&#45;&gt;可用&#45;保養</title>\n<path fill=\"none\" stroke=\"#d248af\" stroke-width=\"2\" d=\"M549.7408,-235.1302C559.4174,-226.7815 570.8283,-218.4753 582.1249,-212.3044 635.9112,-182.9227 655.0101,-188.5338 712.1249,-166.3044 715.0255,-165.1754 718.0028,-163.9888 720.9972,-162.7896\"/>\n<polygon fill=\"#d248af\" stroke=\"#d248af\" stroke-width=\"2\" points=\"722.561,-165.9338 730.5467,-158.9711 719.962,-159.4341 722.561,-165.9338\"/>\n</g>\n<!-- 耗損&#45;加工 -->\n<g id=\"node9\" class=\"node\">\n<title>耗損&#45;加工</title>\n<ellipse fill=\"#f5d6ed\" stroke=\"#f5d6ed\" cx=\"1280.3122\" cy=\"-362.3044\" rx=\"36.125\" ry=\"36.125\"/>\n<text text-anchor=\"middle\" x=\"1280.3122\" y=\"-357.3044\" font-family=\"Arial\" font-size=\"20.00\" fill=\"#000000\">加工</text>\n</g>\n<!-- 耗損&#45;&gt;耗損&#45;加工 -->\n<g id=\"edge25\" class=\"edge\">\n<title>耗損&#45;&gt;耗損&#45;加工</title>\n<path fill=\"none\" stroke=\"#d248af\" stroke-width=\"2\" d=\"M1062.3238,-324.0772C1068.5495,-326.4071 1074.9995,-328.635 1081.2498,-330.3044 1132.7309,-344.0547 1193.8679,-349.5845 1234.6774,-353.736\"/>\n<polygon fill=\"#d248af\" stroke=\"#d248af\" stroke-width=\"2\" points=\"1234.5446,-357.2409 1244.8528,-354.7933 1235.2682,-350.2784 1234.5446,-357.2409\"/>\n</g>\n<!-- 耗損&#45;保養 -->\n<g id=\"node10\" class=\"node\">\n<title>耗損&#45;保養</title>\n<ellipse fill=\"#f5d6ed\" stroke=\"#f5d6ed\" cx=\"1280.3122\" cy=\"-98.3044\" rx=\"36.125\" ry=\"36.125\"/>\n<text text-anchor=\"middle\" x=\"1280.3122\" y=\"-93.3044\" font-family=\"Arial\" font-size=\"20.00\" fill=\"#000000\">保養</text>\n</g>\n<!-- 耗損&#45;&gt;耗損&#45;保養 -->\n<g id=\"edge32\" class=\"edge\">\n<title>耗損&#45;&gt;耗損&#45;保養</title>\n<path fill=\"none\" stroke=\"#d248af\" stroke-width=\"2\" d=\"M1060.8433,-299.6232C1116.1197,-282.9201 1214.124,-257.8526 1226.2498,-246.3044 1254.5049,-219.3951 1267.9948,-177.0525 1274.4342,-144.4488\"/>\n<polygon fill=\"#d248af\" stroke=\"#d248af\" stroke-width=\"2\" points=\"1277.9454,-144.7016 1276.287,-134.2373 1271.0579,-143.4518 1277.9454,-144.7016\"/>\n</g>\n<!-- 損壞&#45;加工 -->\n<g id=\"node11\" class=\"node\">\n<title>損壞&#45;加工</title>\n<ellipse fill=\"#f5d6ed\" stroke=\"#f5d6ed\" cx=\"1794.4371\" cy=\"-424.3044\" rx=\"36.125\" ry=\"36.125\"/>\n<text text-anchor=\"middle\" x=\"1794.4371\" y=\"-419.3044\" font-family=\"Arial\" font-size=\"20.00\" fill=\"#000000\">加工</text>\n</g>\n<!-- 損壞&#45;&gt;損壞&#45;加工 -->\n<g id=\"edge39\" class=\"edge\">\n<title>損壞&#45;&gt;損壞&#45;加工</title>\n<path fill=\"none\" stroke=\"#d248af\" stroke-width=\"2\" d=\"M1572.6743,-380.7726C1579.8463,-385.1855 1587.5884,-389.379 1595.3747,-392.3044 1645.5122,-411.1414 1707.3387,-415.6401 1748.6626,-418.191\"/>\n<polygon fill=\"#d248af\" stroke=\"#d248af\" stroke-width=\"2\" points=\"1748.5124,-421.6882 1758.7074,-418.8051 1748.9396,-414.7013 1748.5124,-421.6882\"/>\n</g>\n<!-- 損壞&#45;保養 -->\n<g id=\"node12\" class=\"node\">\n<title>損壞&#45;保養</title>\n<ellipse fill=\"#f5d6ed\" stroke=\"#f5d6ed\" cx=\"1794.4371\" cy=\"-334.3044\" rx=\"36.125\" ry=\"36.125\"/>\n<text text-anchor=\"middle\" x=\"1794.4371\" y=\"-329.3044\" font-family=\"Arial\" font-size=\"20.00\" fill=\"#000000\">保養</text>\n</g>\n<!-- 損壞&#45;&gt;損壞&#45;保養 -->\n<g id=\"edge42\" class=\"edge\">\n<title>損壞&#45;&gt;損壞&#45;保養</title>\n<path fill=\"none\" stroke=\"#d248af\" stroke-width=\"2\" d=\"M1576.4169,-352.1943C1622.5736,-345.1348 1699.2962,-336.9722 1748.3326,-333.825\"/>\n<polygon fill=\"#d248af\" stroke=\"#d248af\" stroke-width=\"2\" points=\"1748.5795,-337.3166 1758.3552,-333.2317 1748.1659,-330.3288 1748.5795,-337.3166\"/>\n</g>\n<!-- 健康&#45;保養&#45;&gt;健康 -->\n<g id=\"edge11\" class=\"edge\">\n<title>健康&#45;保養&#45;&gt;健康</title>\n<path fill=\"none\" stroke=\"#6c48d2\" stroke-dasharray=\"5,2\" d=\"M254.9296,-174.4229C246.8085,-168.6672 237.5164,-163.3143 228,-160.3044 172.912,-142.8807 155.1917,-152.0955 98,-160.3044 94.7282,-160.774 91.3834,-161.3854 88.0332,-162.0966\"/>\n<polygon fill=\"#6c48d2\" stroke=\"#6c48d2\" points=\"86.9453,-158.758 78.0335,-164.4878 88.5733,-165.5661 86.9453,-158.758\"/>\n<text text-anchor=\"middle\" x=\"163\" y=\"-165.5044\" font-family=\"Arial\" font-size=\"16.00\" fill=\"#000000\">p = 1.0 &#160;reward =6</text>\n</g>\n<!-- 健康&#45;保養&#45;&gt;健康 -->\n<g id=\"edge12\" class=\"edge\">\n<title>健康&#45;保養&#45;&gt;健康</title>\n<path fill=\"none\" stroke=\"#6c48d2\" stroke-dasharray=\"5,2\" d=\"M245.7291,-200.1396C204.1083,-198.6694 135.6919,-192.9249 89.2899,-187.1407\"/>\n<polygon fill=\"#6c48d2\" stroke=\"#6c48d2\" points=\"89.5272,-183.6423 79.1605,-185.8295 88.6284,-190.5844 89.5272,-183.6423\"/>\n</g>\n<!-- 可用&#45;加工&#45;&gt;可用 -->\n<g id=\"edge14\" class=\"edge\">\n<title>可用&#45;加工&#45;&gt;可用</title>\n<path fill=\"none\" stroke=\"#6c48d2\" stroke-dasharray=\"5,2\" d=\"M730.2786,-285.642C692.9758,-290.2167 633.05,-294.838 582.1249,-286.3044 578.4974,-285.6965 574.7933,-284.8887 571.0992,-283.946\"/>\n<polygon fill=\"#6c48d2\" stroke=\"#6c48d2\" points=\"571.98,-280.5577 561.4034,-281.1802 570.0597,-287.2892 571.98,-280.5577\"/>\n<text text-anchor=\"middle\" x=\"647.1249\" y=\"-295.5044\" font-family=\"Arial\" font-size=\"16.00\" fill=\"#000000\">p = 0.6 &#160;reward =3</text>\n</g>\n<!-- 可用&#45;加工&#45;&gt;可用 -->\n<g id=\"edge15\" class=\"edge\">\n<title>可用&#45;加工&#45;&gt;可用</title>\n<path fill=\"none\" stroke=\"#6c48d2\" stroke-dasharray=\"5,2\" d=\"M729.94,-283.1908C688.4106,-282.9294 620.1223,-279.1758 573.6933,-274.742\"/>\n<polygon fill=\"#6c48d2\" stroke=\"#6c48d2\" points=\"573.8544,-271.2407 563.5551,-273.7255 573.1561,-278.2058 573.8544,-271.2407\"/>\n</g>\n<!-- 可用&#45;加工&#45;&gt;耗損 -->\n<g id=\"edge16\" class=\"edge\">\n<title>可用&#45;加工&#45;&gt;耗損</title>\n<path fill=\"none\" stroke=\"#6c48d2\" stroke-dasharray=\"5,2\" d=\"M801.2663,-288.6808C807.5633,-290.0157 814.0835,-291.2891 820.2498,-292.3044 872.0042,-300.8259 931.746,-306.8461 972.9534,-310.4098\"/>\n<polygon fill=\"#6c48d2\" stroke=\"#6c48d2\" points=\"972.7545,-313.9054 983.0145,-311.2629 973.346,-306.9305 972.7545,-313.9054\"/>\n<text text-anchor=\"middle\" x=\"892.7498\" y=\"-314.5044\" font-family=\"Arial\" font-size=\"16.00\" fill=\"#000000\">p = 0.3 &#160;reward =1</text>\n</g>\n<!-- 可用&#45;加工&#45;&gt;耗損 -->\n<g id=\"edge17\" class=\"edge\">\n<title>可用&#45;加工&#45;&gt;耗損</title>\n<path fill=\"none\" stroke=\"#6c48d2\" stroke-dasharray=\"5,2\" d=\"M802.5018,-280.4237C842.6779,-281.16 909.1587,-284.1739 965.2498,-295.3044 968.6796,-295.985 972.1889,-296.8058 975.7003,-297.7194\"/>\n<polygon fill=\"#6c48d2\" stroke=\"#6c48d2\" points=\"974.962,-301.1478 985.5371,-300.5005 976.8665,-294.4119 974.962,-301.1478\"/>\n</g>\n<!-- 可用&#45;加工&#45;&gt;損壞 -->\n<g id=\"edge18\" class=\"edge\">\n<title>可用&#45;加工&#45;&gt;損壞</title>\n<path fill=\"none\" stroke=\"#6c48d2\" stroke-dasharray=\"5,2\" d=\"M798.8322,-264.2906C874.5637,-229.2593 1067.8296,-152.0555 1226.2498,-192.3044 1331.9344,-219.155 1440.5451,-289.9426 1497.2801,-330.8825\"/>\n<polygon fill=\"#6c48d2\" stroke=\"#6c48d2\" points=\"1495.4559,-333.8838 1505.5999,-336.9415 1499.5768,-328.2253 1495.4559,-333.8838\"/>\n<text text-anchor=\"middle\" x=\"1153.7498\" y=\"-197.5044\" font-family=\"Arial\" font-size=\"16.00\" fill=\"#000000\">p = 0.1 &#160;reward =&#45;15</text>\n</g>\n<!-- 可用&#45;加工&#45;&gt;損壞 -->\n<g id=\"edge19\" class=\"edge\">\n<title>可用&#45;加工&#45;&gt;損壞</title>\n<path fill=\"none\" stroke=\"#6c48d2\" stroke-dasharray=\"5,2\" d=\"M787.7739,-251.2469C792.646,-244.4512 797.7153,-237.1859 802.2498,-230.3044 810.8053,-217.3205 807.2114,-208.7766 820.2498,-200.3044 896.0351,-151.0592 1136.2625,-167.8915 1226.2498,-176.3044 1277.5299,-181.0985 1478.4382,-228.536 1479.3747,-229.3044 1504.5617,-249.969 1519.13,-283.7413 1527.3665,-311.9516\"/>\n<polygon fill=\"#6c48d2\" stroke=\"#6c48d2\" points=\"1524.0094,-312.9444 1530.0228,-321.6673 1530.7616,-311.0982 1524.0094,-312.9444\"/>\n</g>\n<!-- 可用&#45;保養&#45;&gt;健康 -->\n<g id=\"edge21\" class=\"edge\">\n<title>可用&#45;保養&#45;&gt;健康</title>\n<path fill=\"none\" stroke=\"#6c48d2\" stroke-dasharray=\"5,2\" d=\"M731.2166,-142.6265C724.9081,-141.2446 718.356,-140.043 712.1249,-139.3044 654.7488,-132.5029 639.9012,-138.8867 582.1249,-139.3044 366.9414,-140.86 306.3573,-92.5124 98,-146.3044 93.0149,-147.5914 87.9864,-149.3869 83.0844,-151.4717\"/>\n<polygon fill=\"#6c48d2\" stroke=\"#6c48d2\" points=\"81.4382,-148.3776 73.8585,-155.7801 84.4001,-154.7201 81.4382,-148.3776\"/>\n<text text-anchor=\"middle\" x=\"401.1249\" y=\"-139.5044\" font-family=\"Arial\" font-size=\"16.00\" fill=\"#000000\">p = 0.8 &#160;reward =6</text>\n</g>\n<!-- 可用&#45;保養&#45;&gt;健康 -->\n<g id=\"edge22\" class=\"edge\">\n<title>可用&#45;保養&#45;&gt;健康</title>\n<path fill=\"none\" stroke=\"#6c48d2\" stroke-dasharray=\"5,2\" d=\"M733.2441,-137.6072C726.3854,-135.0903 719.1144,-132.8062 712.1249,-131.3044 509.4762,-87.7619 453.2691,-114.904 246,-116.3044 180.2177,-116.7488 158.4949,-92.4612 98,-118.3044 87.887,-122.6246 78.6353,-129.6379 70.6342,-137.347\"/>\n<polygon fill=\"#6c48d2\" stroke=\"#6c48d2\" points=\"68.0881,-134.9451 63.649,-144.5652 73.1183,-139.813 68.0881,-134.9451\"/>\n</g>\n<!-- 可用&#45;保養&#45;&gt;可用 -->\n<g id=\"edge23\" class=\"edge\">\n<title>可用&#45;保養&#45;&gt;可用</title>\n<path fill=\"none\" stroke=\"#6c48d2\" stroke-dasharray=\"5,2\" d=\"M730.1199,-148.1838C683.6547,-143.6015 606.0159,-138.6235 582.1249,-153.3044 559.1724,-167.4086 544.9178,-193.7855 536.2867,-217.5096\"/>\n<polygon fill=\"#6c48d2\" stroke=\"#6c48d2\" points=\"532.9229,-216.5312 533.0314,-227.1255 539.5532,-218.7759 532.9229,-216.5312\"/>\n<text text-anchor=\"middle\" x=\"647.1249\" y=\"-158.5044\" font-family=\"Arial\" font-size=\"16.00\" fill=\"#000000\">p = 0.2 &#160;reward =3</text>\n</g>\n<!-- 可用&#45;保養&#45;&gt;可用 -->\n<g id=\"edge24\" class=\"edge\">\n<title>可用&#45;保養&#45;&gt;可用</title>\n<path fill=\"none\" stroke=\"#6c48d2\" stroke-dasharray=\"5,2\" d=\"M737.1437,-173.7111C729.083,-177.4831 720.2995,-181.1227 712.1249,-184.3044 655.0101,-206.5338 635.9112,-200.9227 582.1249,-230.3044 576.9659,-233.1225 571.7831,-236.386 566.7526,-239.7902\"/>\n<polygon fill=\"#6c48d2\" stroke=\"#6c48d2\" points=\"564.6436,-236.9942 558.4613,-245.5983 568.6598,-242.7275 564.6436,-236.9942\"/>\n</g>\n<!-- 耗損&#45;加工&#45;&gt;可用 -->\n<g id=\"edge26\" class=\"edge\">\n<title>耗損&#45;加工&#45;&gt;可用</title>\n<path fill=\"none\" stroke=\"#6c48d2\" stroke-dasharray=\"5,2\" d=\"M1255.7322,-388.8674C1247.2008,-396.2952 1237.0444,-403.3996 1226.2498,-407.3044 1165.6483,-429.2257 1145.6171,-410.4563 1081.2498,-407.3044 969.9333,-401.8534 676.9589,-416.85 582.1249,-358.3044 565.1799,-347.8434 552.3526,-330.3865 543.1263,-313.4737\"/>\n<polygon fill=\"#6c48d2\" stroke=\"#6c48d2\" points=\"546.0412,-311.487 538.3677,-304.1816 539.8106,-314.6778 546.0412,-311.487\"/>\n<text text-anchor=\"middle\" x=\"892.7498\" y=\"-410.5044\" font-family=\"Arial\" font-size=\"16.00\" fill=\"#000000\">p = 0.1 &#160;reward =3</text>\n</g>\n<!-- 耗損&#45;加工&#45;&gt;可用 -->\n<g id=\"edge27\" class=\"edge\">\n<title>耗損&#45;加工&#45;&gt;可用</title>\n<path fill=\"none\" stroke=\"#6c48d2\" stroke-dasharray=\"5,2\" d=\"M1244.9626,-369.8004C1238.7536,-370.8425 1232.3331,-371.7465 1226.2498,-372.3044 1162.0746,-378.1897 1145.6267,-375.2542 1081.2498,-372.3044 858.0536,-362.0771 788.0488,-399.002 582.1249,-312.3044 574.8791,-309.2538 567.7844,-305.0345 561.1824,-300.3794\"/>\n<polygon fill=\"#6c48d2\" stroke=\"#6c48d2\" points=\"563.204,-297.5204 553.1089,-294.3048 558.9953,-303.1139 563.204,-297.5204\"/>\n</g>\n<!-- 耗損&#45;加工&#45;&gt;耗損 -->\n<g id=\"edge28\" class=\"edge\">\n<title>耗損&#45;加工&#45;&gt;耗損</title>\n<path fill=\"none\" stroke=\"#6c48d2\" stroke-dasharray=\"5,2\" d=\"M1255.6972,-335.837C1247.1639,-328.4143 1237.0153,-321.2887 1226.2498,-317.3044 1176.4734,-298.8818 1115.0175,-301.0942 1072.8451,-306.0401\"/>\n<polygon fill=\"#6c48d2\" stroke=\"#6c48d2\" points=\"1072.3051,-302.5804 1062.8241,-307.3092 1073.1846,-309.525 1072.3051,-302.5804\"/>\n<text text-anchor=\"middle\" x=\"1153.7498\" y=\"-322.5044\" font-family=\"Arial\" font-size=\"16.00\" fill=\"#000000\">p = 0.5 &#160;reward =1</text>\n</g>\n<!-- 耗損&#45;加工&#45;&gt;耗損 -->\n<g id=\"edge29\" class=\"edge\">\n<title>耗損&#45;加工&#45;&gt;耗損</title>\n<path fill=\"none\" stroke=\"#6c48d2\" stroke-dasharray=\"5,2\" d=\"M1244.4893,-367.8468C1204.1803,-368.4534 1137.0443,-363.2067 1081.2498,-348.3044 1075.6848,-346.818 1069.9615,-344.8889 1064.3791,-342.6837\"/>\n<polygon fill=\"#6c48d2\" stroke=\"#6c48d2\" points=\"1065.7408,-339.4595 1055.1703,-338.7412 1062.9857,-345.8945 1065.7408,-339.4595\"/>\n</g>\n<!-- 耗損&#45;加工&#45;&gt;損壞 -->\n<g id=\"edge30\" class=\"edge\">\n<title>耗損&#45;加工&#45;&gt;損壞</title>\n<path fill=\"none\" stroke=\"#6c48d2\" stroke-dasharray=\"5,2\" d=\"M1316.5978,-362.1632C1361.0449,-361.9903 1436.5977,-361.6964 1486.7457,-361.5013\"/>\n<polygon fill=\"#6c48d2\" stroke=\"#6c48d2\" points=\"1487.0546,-365.0002 1497.0409,-361.4613 1487.0273,-358.0003 1487.0546,-365.0002\"/>\n<text text-anchor=\"middle\" x=\"1406.8747\" y=\"-366.5044\" font-family=\"Arial\" font-size=\"16.00\" fill=\"#000000\">p = 0.4 &#160;reward =&#45;15</text>\n</g>\n<!-- 耗損&#45;加工&#45;&gt;損壞 -->\n<g id=\"edge31\" class=\"edge\">\n<title>耗損&#45;加工&#45;&gt;損壞</title>\n<path fill=\"none\" stroke=\"#6c48d2\" stroke-dasharray=\"5,2\" d=\"M1316.3604,-360.0253C1322.3737,-359.7251 1328.5487,-359.4659 1334.3747,-359.3044 1398.7944,-357.5184 1414.9398,-358.1937 1479.3747,-359.3044 1481.8869,-359.3477 1484.46,-359.4015 1487.0583,-359.4634\"/>\n<polygon fill=\"#6c48d2\" stroke=\"#6c48d2\" points=\"1487.0383,-362.9641 1497.1297,-359.7371 1487.2285,-355.9667 1487.0383,-362.9641\"/>\n</g>\n<!-- 耗損&#45;保養&#45;&gt;健康 -->\n<g id=\"edge33\" class=\"edge\">\n<title>耗損&#45;保養&#45;&gt;健康</title>\n<path fill=\"none\" stroke=\"#6c48d2\" stroke-dasharray=\"5,2\" d=\"M1246.3521,-85.576C1197.6739,-68.5028 1104.9149,-40.3044 1023.2498,-40.3044 282.0624,-40.3044 282.0624,-40.3044 282.0624,-40.3044 195.5977,-40.3044 168.4771,-53.2133 98,-103.3044 86.223,-111.6747 75.6561,-123.1037 66.8704,-134.4754\"/>\n<polygon fill=\"#6c48d2\" stroke=\"#6c48d2\" points=\"63.921,-132.5776 60.7961,-142.7011 69.5521,-136.7359 63.921,-132.5776\"/>\n<text text-anchor=\"middle\" x=\"647.1249\" y=\"-45.5044\" font-family=\"Arial\" font-size=\"16.00\" fill=\"#000000\">p = 0.2 &#160;reward =6</text>\n</g>\n<!-- 耗損&#45;保養&#45;&gt;健康 -->\n<g id=\"edge34\" class=\"edge\">\n<title>耗損&#45;保養&#45;&gt;健康</title>\n<path fill=\"none\" stroke=\"#6c48d2\" stroke-dasharray=\"5,2\" d=\"M1258.927,-69.0858C1249.9477,-58.7993 1238.6923,-48.115 1226.2498,-41.3044 1145.6607,2.8079 1115.1219,-2.3044 1023.2498,-2.3044 282.0624,-2.3044 282.0624,-2.3044 282.0624,-2.3044 198.5317,-2.3044 162.5844,12.6696 98,-40.3044 71.4461,-62.0846 56.8293,-98.1998 48.913,-127.8826\"/>\n<polygon fill=\"#6c48d2\" stroke=\"#6c48d2\" points=\"45.4953,-127.1231 46.4776,-137.6723 52.2883,-128.813 45.4953,-127.1231\"/>\n</g>\n<!-- 耗損&#45;保養&#45;&gt;可用 -->\n<g id=\"edge35\" class=\"edge\">\n<title>耗損&#45;保養&#45;&gt;可用</title>\n<path fill=\"none\" stroke=\"#6c48d2\" stroke-dasharray=\"5,2\" d=\"M1244.2051,-101.0167C1138.6341,-109.0854 836.8814,-133.1892 820.2498,-146.3044 801.3752,-161.1882 820.0434,-181.1437 802.2498,-197.3044 769.0354,-227.4706 644.5469,-249.3826 573.8985,-259.6957\"/>\n<polygon fill=\"#6c48d2\" stroke=\"#6c48d2\" points=\"573.2844,-256.2479 563.8829,-261.1328 574.2787,-263.1769 573.2844,-256.2479\"/>\n<text text-anchor=\"middle\" x=\"892.7498\" y=\"-151.5044\" font-family=\"Arial\" font-size=\"16.00\" fill=\"#000000\">p = 0.5 &#160;reward =3</text>\n</g>\n<!-- 耗損&#45;保養&#45;&gt;可用 -->\n<g id=\"edge36\" class=\"edge\">\n<title>耗損&#45;保養&#45;&gt;可用</title>\n<path fill=\"none\" stroke=\"#6c48d2\" stroke-dasharray=\"5,2\" d=\"M1244.2271,-95.1541C1116.0501,-84.7426 684.8759,-56.6098 582.1249,-139.3044 557.9912,-158.7273 543.4986,-190.4101 535.0358,-217.2707\"/>\n<polygon fill=\"#6c48d2\" stroke=\"#6c48d2\" points=\"531.6627,-216.3349 532.184,-226.9169 538.3755,-218.3195 531.6627,-216.3349\"/>\n</g>\n<!-- 耗損&#45;保養&#45;&gt;耗損 -->\n<g id=\"edge37\" class=\"edge\">\n<title>耗損&#45;保養&#45;&gt;耗損</title>\n<path fill=\"none\" stroke=\"#6c48d2\" stroke-dasharray=\"5,2\" d=\"M1273.3642,-133.8022C1266.2235,-160.3347 1252.3245,-195.1936 1226.2498,-214.3044 1173.8269,-252.7262 1137.0023,-199.8971 1081.2498,-233.3044 1066.8748,-241.9179 1055.0728,-255.6144 1045.9553,-269.3123\"/>\n<polygon fill=\"#6c48d2\" stroke=\"#6c48d2\" points=\"1042.9817,-267.4662 1040.6263,-277.7959 1048.9093,-271.1897 1042.9817,-267.4662\"/>\n<text text-anchor=\"middle\" x=\"1153.7498\" y=\"-238.5044\" font-family=\"Arial\" font-size=\"16.00\" fill=\"#000000\">p = 0.3 &#160;reward =1</text>\n</g>\n<!-- 耗損&#45;保養&#45;&gt;耗損 -->\n<g id=\"edge38\" class=\"edge\">\n<title>耗損&#45;保養&#45;&gt;耗損</title>\n<path fill=\"none\" stroke=\"#6c48d2\" stroke-dasharray=\"5,2\" d=\"M1278.1229,-134.4761C1273.9337,-172.3628 1261.7378,-230.5066 1226.2498,-264.3044 1214.9675,-275.0492 1129.3391,-297.498 1072.9559,-308.7704\"/>\n<polygon fill=\"#6c48d2\" stroke=\"#6c48d2\" points=\"1072.289,-305.3345 1063.1387,-310.675 1073.6223,-312.2063 1072.289,-305.3345\"/>\n</g>\n<!-- 損壞&#45;加工&#45;&gt;損壞 -->\n<g id=\"edge40\" class=\"edge\">\n<title>損壞&#45;加工&#45;&gt;損壞</title>\n<path fill=\"none\" stroke=\"#6c48d2\" stroke-dasharray=\"5,2\" d=\"M1769.3639,-398.074C1760.8787,-390.7591 1750.8732,-383.6359 1740.3747,-379.3044 1713.7537,-368.321 1638.9066,-364.0277 1587.9294,-362.3573\"/>\n<polygon fill=\"#6c48d2\" stroke=\"#6c48d2\" points=\"1587.8586,-358.8536 1577.7568,-362.0481 1587.6459,-365.8504 1587.8586,-358.8536\"/>\n<text text-anchor=\"middle\" x=\"1667.8747\" y=\"-384.5044\" font-family=\"Arial\" font-size=\"16.00\" fill=\"#000000\">p = 1.0 &#160;reward =&#45;15</text>\n</g>\n<!-- 損壞&#45;加工&#45;&gt;損壞 -->\n<g id=\"edge41\" class=\"edge\">\n<title>損壞&#45;加工&#45;&gt;損壞</title>\n<path fill=\"none\" stroke=\"#6c48d2\" stroke-dasharray=\"5,2\" d=\"M1759.0731,-431.7856C1718.3099,-434.3208 1649.9239,-430.7989 1595.3747,-410.3044 1587.3093,-407.2741 1579.2913,-402.8832 1571.9052,-397.9223\"/>\n<polygon fill=\"#6c48d2\" stroke=\"#6c48d2\" points=\"1573.7134,-394.9105 1563.5599,-391.8841 1569.61,-400.5817 1573.7134,-394.9105\"/>\n</g>\n<!-- 損壞&#45;保養&#45;&gt;損壞 -->\n<g id=\"edge43\" class=\"edge\">\n<title>損壞&#45;保養&#45;&gt;損壞</title>\n<path fill=\"none\" stroke=\"#6c48d2\" stroke-dasharray=\"5,2\" d=\"M1760.4909,-321.9081C1753.902,-319.9949 1746.9877,-318.3196 1740.3747,-317.3044 1676.6765,-307.5254 1656.4558,-296.7574 1595.3747,-317.3044 1588.2918,-319.687 1581.3868,-323.316 1574.9554,-327.4887\"/>\n<polygon fill=\"#6c48d2\" stroke=\"#6c48d2\" points=\"1572.6598,-324.8248 1566.5065,-333.4496 1576.6953,-330.5445 1572.6598,-324.8248\"/>\n<text text-anchor=\"middle\" x=\"1667.8747\" y=\"-322.5044\" font-family=\"Arial\" font-size=\"16.00\" fill=\"#000000\">p = 1.0 &#160;reward =&#45;15</text>\n</g>\n<!-- 損壞&#45;保養&#45;&gt;損壞 -->\n<g id=\"edge44\" class=\"edge\">\n<title>損壞&#45;保養&#45;&gt;損壞</title>\n<path fill=\"none\" stroke=\"#6c48d2\" stroke-dasharray=\"5,2\" d=\"M1759.0982,-342.84C1714.6622,-349.833 1638.0905,-358.0951 1587.5883,-361.5127\"/>\n<polygon fill=\"#6c48d2\" stroke=\"#6c48d2\" points=\"1587.2998,-358.0239 1577.5407,-362.1481 1587.7417,-365.0099 1587.2998,-358.0239\"/>\n</g>\n</g>\n</svg>\n"
          },
          "metadata": {}
        }
      ]
    },
    {
      "cell_type": "markdown",
      "metadata": {
        "id": "kYu9QF9FUsru"
      },
      "source": [
        "###**(b) (10%) 使用價值迭代來決定最佳策略以及各個狀態的價值**\n"
      ]
    },
    {
      "cell_type": "code",
      "execution_count": 6,
      "metadata": {
        "id": "jq2os6kvM_9Y"
      },
      "outputs": [],
      "source": [
        "# state-action value function Q(s, a)\n",
        "def get_action_value(mdp, state_values, state, action, gamma):\n",
        "    \"\"\" Computes Q(s,a) as in formula above \"\"\"\n",
        "    Q = [mdp.get_transition_prob(state, action, s) * (mdp.get_reward(s) + gamma * state_values[s]) for s in state_values]\n",
        "    return sum(Q)\n",
        "\n",
        "# next V(s) for value iteration\n",
        "def get_new_state_value(mdp, state_values, state, gamma):\n",
        "    \"\"\" Computes next V(s) as in formula above. Please do not change state_values in process. \"\"\"\n",
        "    if mdp.is_terminal(state): return 0\n",
        "\n",
        "    Q = [get_action_value(mdp, state_values, state, a, gamma) for a in mdp.get_possible_actions(state)]\n",
        "    return max(Q)"
      ]
    },
    {
      "cell_type": "code",
      "source": [
        "# parameters\n",
        "gamma = 0.9             # discount for MDP\n",
        "num_iter = 1000         # maximum iterations, excluding initialization\n",
        "min_difference = 0.001  # stop VI if new values are this close to old values (or closer)\n",
        "\n",
        "# initialize V(s)\n",
        "state_values = {s : 0 for s in mdp.get_all_states()}\n",
        "\n",
        "for i in range(num_iter):\n",
        "    # Compute new state values using the functions you defined above.\n",
        "    # It must be a dict {state : float V_new(state)}\n",
        "    new_state_values = { state: get_new_state_value(mdp, state_values, state, gamma)\n",
        "        for state in mdp.get_all_states()\n",
        "    }   \n",
        "    assert isinstance(new_state_values, dict)\n",
        "    \n",
        "    # Compute difference\n",
        "    diff = max(abs(new_state_values[s] - state_values[s]) for s in mdp.get_all_states())\n",
        "    print(\"iter %4i   |   \"%(i,), end=\"\")\n",
        "    print('   '.join(\"V(%s) = %.3f\"%(s, v) for s,v in state_values.items()), end='\\n\\n')\n",
        "    state_values = new_state_values\n",
        "    \n",
        "    if diff < min_difference:\n",
        "        print(\"Terminated\"); break\n",
        "        \n",
        "if has_graphviz:\n",
        "    display(plot_graph_with_state_values(mdp, state_values))\n",
        "print()\n",
        "print(\"Final state values:\", state_values)"
      ],
      "metadata": {
        "colab": {
          "base_uri": "https://localhost:8080/",
          "height": 1000
        },
        "id": "DTQiVkn3RQiG",
        "outputId": "7c0aa38e-7517-4356-ff5f-2ce4b744a8ea"
      },
      "execution_count": 7,
      "outputs": [
        {
          "output_type": "stream",
          "name": "stdout",
          "text": [
            "iter    0   |   V(健康) = 0.000   V(可用) = 0.000   V(耗損) = 0.000   V(損壞) = 0.000\n",
            "\n",
            "iter    1   |   V(健康) = 6.000   V(可用) = 5.400   V(耗損) = 3.000   V(損壞) = -15.000\n",
            "\n",
            "iter    2   |   V(健康) = 11.400   V(可用) = 10.692   V(耗損) = 7.320   V(損壞) = -28.500\n",
            "\n",
            "iter    3   |   V(健康) = 16.260   V(可用) = 15.533   V(耗損) = 11.840   V(損壞) = -40.650\n",
            "\n",
            "iter    4   |   V(健康) = 20.634   V(可用) = 19.903   V(耗損) = 16.113   V(損壞) = -51.585\n",
            "\n",
            "iter    5   |   V(健康) = 24.571   V(可用) = 23.839   V(耗損) = 20.021   V(損壞) = -61.427\n",
            "\n",
            "iter    6   |   V(健康) = 28.114   V(可用) = 27.382   V(耗損) = 23.556   V(損壞) = -70.284\n",
            "\n",
            "iter    7   |   V(健康) = 31.302   V(可用) = 30.570   V(耗損) = 26.742   V(損壞) = -78.255\n",
            "\n",
            "iter    8   |   V(健康) = 34.172   V(可用) = 33.440   V(耗損) = 29.612   V(損壞) = -85.430\n",
            "\n",
            "iter    9   |   V(健康) = 36.755   V(可用) = 36.023   V(耗損) = 32.194   V(損壞) = -91.887\n",
            "\n",
            "iter   10   |   V(健康) = 39.079   V(可用) = 38.348   V(耗損) = 34.519   V(損壞) = -97.698\n",
            "\n",
            "iter   11   |   V(健康) = 41.171   V(可用) = 40.440   V(耗損) = 36.611   V(損壞) = -102.928\n",
            "\n",
            "iter   12   |   V(健康) = 43.054   V(可用) = 42.323   V(耗損) = 38.494   V(損壞) = -107.636\n",
            "\n",
            "iter   13   |   V(健康) = 44.749   V(可用) = 44.017   V(耗損) = 40.188   V(損壞) = -111.872\n",
            "\n",
            "iter   14   |   V(健康) = 46.274   V(可用) = 45.542   V(耗損) = 41.713   V(損壞) = -115.685\n",
            "\n",
            "iter   15   |   V(健康) = 47.647   V(可用) = 46.915   V(耗損) = 43.086   V(損壞) = -119.116\n",
            "\n",
            "iter   16   |   V(健康) = 48.882   V(可用) = 48.150   V(耗損) = 44.321   V(損壞) = -122.205\n",
            "\n",
            "iter   17   |   V(健康) = 49.994   V(可用) = 49.262   V(耗損) = 45.433   V(損壞) = -124.984\n",
            "\n",
            "iter   18   |   V(健康) = 50.994   V(可用) = 50.263   V(耗損) = 46.434   V(損壞) = -127.486\n",
            "\n",
            "iter   19   |   V(健康) = 51.895   V(可用) = 51.163   V(耗損) = 47.334   V(損壞) = -129.737\n",
            "\n",
            "iter   20   |   V(健康) = 52.705   V(可用) = 51.974   V(耗損) = 48.145   V(損壞) = -131.764\n",
            "\n",
            "iter   21   |   V(健康) = 53.435   V(可用) = 52.703   V(耗損) = 48.874   V(損壞) = -133.587\n",
            "\n",
            "iter   22   |   V(健康) = 54.091   V(可用) = 53.360   V(耗損) = 49.531   V(損壞) = -135.228\n",
            "\n",
            "iter   23   |   V(健康) = 54.682   V(可用) = 53.951   V(耗損) = 50.122   V(損壞) = -136.706\n",
            "\n",
            "iter   24   |   V(健康) = 55.214   V(可用) = 54.482   V(耗損) = 50.653   V(損壞) = -138.035\n",
            "\n",
            "iter   25   |   V(健康) = 55.693   V(可用) = 54.961   V(耗損) = 51.132   V(損壞) = -139.232\n",
            "\n",
            "iter   26   |   V(健康) = 56.123   V(可用) = 55.392   V(耗損) = 51.563   V(損壞) = -140.308\n",
            "\n",
            "iter   27   |   V(健康) = 56.511   V(可用) = 55.779   V(耗損) = 51.950   V(損壞) = -141.278\n",
            "\n",
            "iter   28   |   V(健康) = 56.860   V(可用) = 56.128   V(耗損) = 52.299   V(損壞) = -142.150\n",
            "\n",
            "iter   29   |   V(健康) = 57.174   V(可用) = 56.442   V(耗損) = 52.613   V(損壞) = -142.935\n",
            "\n",
            "iter   30   |   V(健康) = 57.457   V(可用) = 56.725   V(耗損) = 52.896   V(損壞) = -143.641\n",
            "\n",
            "iter   31   |   V(健康) = 57.711   V(可用) = 56.979   V(耗損) = 53.150   V(損壞) = -144.277\n",
            "\n",
            "iter   32   |   V(健康) = 57.940   V(可用) = 57.208   V(耗損) = 53.379   V(損壞) = -144.849\n",
            "\n",
            "iter   33   |   V(健康) = 58.146   V(可用) = 57.414   V(耗損) = 53.585   V(損壞) = -145.365\n",
            "\n",
            "iter   34   |   V(健康) = 58.331   V(可用) = 57.600   V(耗損) = 53.771   V(損壞) = -145.828\n",
            "\n",
            "iter   35   |   V(健康) = 58.498   V(可用) = 57.766   V(耗損) = 53.937   V(損壞) = -146.245\n",
            "\n",
            "iter   36   |   V(健康) = 58.648   V(可用) = 57.917   V(耗損) = 54.088   V(損壞) = -146.621\n",
            "\n",
            "iter   37   |   V(健康) = 58.783   V(可用) = 58.052   V(耗損) = 54.223   V(損壞) = -146.959\n",
            "\n",
            "iter   38   |   V(健康) = 58.905   V(可用) = 58.173   V(耗損) = 54.344   V(損壞) = -147.263\n",
            "\n",
            "iter   39   |   V(健康) = 59.015   V(可用) = 58.283   V(耗損) = 54.454   V(損壞) = -147.537\n",
            "\n",
            "iter   40   |   V(健康) = 59.113   V(可用) = 58.381   V(耗損) = 54.553   V(損壞) = -147.783\n",
            "\n",
            "iter   41   |   V(健康) = 59.202   V(可用) = 58.470   V(耗損) = 54.641   V(損壞) = -148.005\n",
            "\n",
            "iter   42   |   V(健康) = 59.282   V(可用) = 58.550   V(耗損) = 54.721   V(損壞) = -148.204\n",
            "\n",
            "iter   43   |   V(健康) = 59.353   V(可用) = 58.622   V(耗損) = 54.793   V(損壞) = -148.384\n",
            "\n",
            "iter   44   |   V(健康) = 59.418   V(可用) = 58.686   V(耗損) = 54.857   V(損壞) = -148.545\n",
            "\n",
            "iter   45   |   V(健康) = 59.476   V(可用) = 58.745   V(耗損) = 54.916   V(損壞) = -148.691\n",
            "\n",
            "iter   46   |   V(健康) = 59.529   V(可用) = 58.797   V(耗損) = 54.968   V(損壞) = -148.822\n",
            "\n",
            "iter   47   |   V(健康) = 59.576   V(可用) = 58.844   V(耗損) = 55.015   V(損壞) = -148.940\n",
            "\n",
            "iter   48   |   V(健康) = 59.618   V(可用) = 58.887   V(耗損) = 55.058   V(損壞) = -149.046\n",
            "\n",
            "iter   49   |   V(健康) = 59.656   V(可用) = 58.925   V(耗損) = 55.096   V(損壞) = -149.141\n",
            "\n",
            "iter   50   |   V(健康) = 59.691   V(可用) = 58.959   V(耗損) = 55.130   V(損壞) = -149.227\n",
            "\n",
            "iter   51   |   V(健康) = 59.722   V(可用) = 58.990   V(耗損) = 55.161   V(損壞) = -149.304\n",
            "\n",
            "iter   52   |   V(健康) = 59.750   V(可用) = 59.018   V(耗損) = 55.189   V(損壞) = -149.374\n",
            "\n",
            "iter   53   |   V(健康) = 59.775   V(可用) = 59.043   V(耗損) = 55.214   V(損壞) = -149.436\n",
            "\n",
            "iter   54   |   V(健康) = 59.797   V(可用) = 59.065   V(耗損) = 55.236   V(損壞) = -149.493\n",
            "\n",
            "iter   55   |   V(健康) = 59.817   V(可用) = 59.086   V(耗損) = 55.257   V(損壞) = -149.544\n",
            "\n",
            "iter   56   |   V(健康) = 59.836   V(可用) = 59.104   V(耗損) = 55.275   V(損壞) = -149.589\n",
            "\n",
            "iter   57   |   V(健康) = 59.852   V(可用) = 59.120   V(耗損) = 55.291   V(損壞) = -149.630\n",
            "\n",
            "iter   58   |   V(健康) = 59.867   V(可用) = 59.135   V(耗損) = 55.306   V(損壞) = -149.667\n",
            "\n",
            "iter   59   |   V(健康) = 59.880   V(可用) = 59.148   V(耗損) = 55.320   V(損壞) = -149.700\n",
            "\n",
            "iter   60   |   V(健康) = 59.892   V(可用) = 59.160   V(耗損) = 55.332   V(損壞) = -149.730\n",
            "\n",
            "iter   61   |   V(健康) = 59.903   V(可用) = 59.171   V(耗損) = 55.342   V(損壞) = -149.757\n",
            "\n",
            "iter   62   |   V(健康) = 59.913   V(可用) = 59.181   V(耗損) = 55.352   V(損壞) = -149.782\n",
            "\n",
            "iter   63   |   V(健康) = 59.921   V(可用) = 59.190   V(耗損) = 55.361   V(損壞) = -149.803\n",
            "\n",
            "iter   64   |   V(健康) = 59.929   V(可用) = 59.198   V(耗損) = 55.369   V(損壞) = -149.823\n",
            "\n",
            "iter   65   |   V(健康) = 59.936   V(可用) = 59.205   V(耗損) = 55.376   V(損壞) = -149.841\n",
            "\n",
            "iter   66   |   V(健康) = 59.943   V(可用) = 59.211   V(耗損) = 55.382   V(損壞) = -149.857\n",
            "\n",
            "iter   67   |   V(健康) = 59.948   V(可用) = 59.217   V(耗損) = 55.388   V(損壞) = -149.871\n",
            "\n",
            "iter   68   |   V(健康) = 59.954   V(可用) = 59.222   V(耗損) = 55.393   V(損壞) = -149.884\n",
            "\n",
            "iter   69   |   V(健康) = 59.958   V(可用) = 59.227   V(耗損) = 55.398   V(損壞) = -149.896\n",
            "\n",
            "iter   70   |   V(健康) = 59.962   V(可用) = 59.231   V(耗損) = 55.402   V(損壞) = -149.906\n",
            "\n",
            "iter   71   |   V(健康) = 59.966   V(可用) = 59.234   V(耗損) = 55.406   V(損壞) = -149.915\n",
            "\n",
            "iter   72   |   V(健康) = 59.970   V(可用) = 59.238   V(耗損) = 55.409   V(損壞) = -149.924\n",
            "\n",
            "iter   73   |   V(健康) = 59.973   V(可用) = 59.241   V(耗損) = 55.412   V(損壞) = -149.931\n",
            "\n",
            "iter   74   |   V(健康) = 59.975   V(可用) = 59.244   V(耗損) = 55.415   V(損壞) = -149.938\n",
            "\n",
            "iter   75   |   V(健康) = 59.978   V(可用) = 59.246   V(耗損) = 55.417   V(損壞) = -149.945\n",
            "\n",
            "iter   76   |   V(健康) = 59.980   V(可用) = 59.248   V(耗損) = 55.419   V(損壞) = -149.950\n",
            "\n",
            "iter   77   |   V(健康) = 59.982   V(可用) = 59.250   V(耗損) = 55.421   V(損壞) = -149.955\n",
            "\n",
            "iter   78   |   V(健康) = 59.984   V(可用) = 59.252   V(耗損) = 55.423   V(損壞) = -149.960\n",
            "\n",
            "iter   79   |   V(健康) = 59.985   V(可用) = 59.254   V(耗損) = 55.425   V(損壞) = -149.964\n",
            "\n",
            "iter   80   |   V(健康) = 59.987   V(可用) = 59.255   V(耗損) = 55.426   V(損壞) = -149.967\n",
            "\n",
            "iter   81   |   V(健康) = 59.988   V(可用) = 59.256   V(耗損) = 55.428   V(損壞) = -149.971\n",
            "\n",
            "iter   82   |   V(健康) = 59.989   V(可用) = 59.258   V(耗損) = 55.429   V(損壞) = -149.973\n",
            "\n",
            "iter   83   |   V(健康) = 59.990   V(可用) = 59.259   V(耗損) = 55.430   V(損壞) = -149.976\n",
            "\n",
            "iter   84   |   V(健康) = 59.991   V(可用) = 59.260   V(耗損) = 55.431   V(損壞) = -149.978\n",
            "\n",
            "iter   85   |   V(健康) = 59.992   V(可用) = 59.261   V(耗損) = 55.432   V(損壞) = -149.981\n",
            "\n",
            "iter   86   |   V(健康) = 59.993   V(可用) = 59.261   V(耗損) = 55.432   V(損壞) = -149.983\n",
            "\n",
            "iter   87   |   V(健康) = 59.994   V(可用) = 59.262   V(耗損) = 55.433   V(損壞) = -149.984\n",
            "\n",
            "iter   88   |   V(健康) = 59.994   V(可用) = 59.263   V(耗損) = 55.434   V(損壞) = -149.986\n",
            "\n",
            "iter   89   |   V(健康) = 59.995   V(可用) = 59.263   V(耗損) = 55.434   V(損壞) = -149.987\n",
            "\n",
            "iter   90   |   V(健康) = 59.995   V(可用) = 59.264   V(耗損) = 55.435   V(損壞) = -149.989\n",
            "\n",
            "iter   91   |   V(健康) = 59.996   V(可用) = 59.264   V(耗損) = 55.435   V(損壞) = -149.990\n",
            "\n",
            "iter   92   |   V(健康) = 59.996   V(可用) = 59.265   V(耗損) = 55.436   V(損壞) = -149.991\n",
            "\n",
            "Terminated\n"
          ]
        },
        {
          "output_type": "display_data",
          "data": {
            "text/plain": [
              "<graphviz.dot.Digraph at 0x7f3a036750d0>"
            ],
            "image/svg+xml": "<?xml version=\"1.0\" encoding=\"UTF-8\" standalone=\"no\"?>\n<!DOCTYPE svg PUBLIC \"-//W3C//DTD SVG 1.1//EN\"\n \"http://www.w3.org/Graphics/SVG/1.1/DTD/svg11.dtd\">\n<!-- Generated by graphviz version 2.40.1 (20161225.0304)\n -->\n<!-- Title: MDP Pages: 1 -->\n<svg width=\"1440pt\" height=\"379pt\"\n viewBox=\"0.00 0.00 1440.00 378.75\" xmlns=\"http://www.w3.org/2000/svg\" xmlns:xlink=\"http://www.w3.org/1999/xlink\">\n<g id=\"graph0\" class=\"graph\" transform=\"scale(.6782 .6782) rotate(0) translate(4 554.4571)\">\n<title>MDP</title>\n<polygon fill=\"#ffffff\" stroke=\"transparent\" points=\"-4,4 -4,-554.4571 2119.2561,-554.4571 2119.2561,4 -4,4\"/>\n<!-- 健康 -->\n<g id=\"node1\" class=\"node\">\n<title>健康</title>\n<ellipse fill=\"#ded6f5\" stroke=\"#ded6f5\" cx=\"75.4178\" cy=\"-175.4571\" rx=\"71.34\" ry=\"71.34\"/>\n<ellipse fill=\"none\" stroke=\"#ded6f5\" cx=\"75.4178\" cy=\"-175.4571\" rx=\"75.3357\" ry=\"75.3357\"/>\n<text text-anchor=\"middle\" x=\"75.4178\" y=\"-182.2571\" font-family=\"Arial\" font-size=\"24.00\" fill=\"#000000\">健康</text>\n<text text-anchor=\"middle\" x=\"75.4178\" y=\"-156.2571\" font-family=\"Arial\" font-size=\"24.00\" fill=\"#000000\">V =59.9</text>\n</g>\n<!-- 健康&#45;加工 -->\n<g id=\"node2\" class=\"node\">\n<title>健康&#45;加工</title>\n<ellipse fill=\"#f5d6ed\" stroke=\"#f5d6ed\" cx=\"352.898\" cy=\"-297.4571\" rx=\"36.125\" ry=\"36.125\"/>\n<text text-anchor=\"middle\" x=\"352.898\" y=\"-292.4571\" font-family=\"Arial\" font-size=\"20.00\" fill=\"#000000\">加工</text>\n</g>\n<!-- 健康&#45;&gt;健康&#45;加工 -->\n<g id=\"edge1\" class=\"edge\">\n<title>健康&#45;&gt;健康&#45;加工</title>\n<path fill=\"none\" stroke=\"#d248af\" stroke-width=\"2\" d=\"M127.7974,-229.9337C140.1335,-241.232 154.0409,-251.9472 168.8356,-259.4571 212.0775,-281.407 267.7908,-287.5943 306.5424,-290.76\"/>\n<polygon fill=\"#d248af\" stroke=\"#d248af\" stroke-width=\"2\" points=\"306.7541,-294.2874 316.998,-291.5833 307.3037,-287.309 306.7541,-294.2874\"/>\n</g>\n<!-- 健康&#45;保養 -->\n<g id=\"node6\" class=\"node\">\n<title>健康&#45;保養</title>\n<ellipse fill=\"#f5d6ed\" stroke=\"#f5d6ed\" cx=\"352.898\" cy=\"-196.4571\" rx=\"36.125\" ry=\"36.125\"/>\n<text text-anchor=\"middle\" x=\"352.898\" y=\"-191.4571\" font-family=\"Arial\" font-size=\"20.00\" fill=\"#000000\">保養</text>\n</g>\n<!-- 健康&#45;&gt;健康&#45;保養 -->\n<g id=\"edge10\" class=\"edge\">\n<title>健康&#45;&gt;健康&#45;保養</title>\n<path fill=\"none\" stroke=\"#d248af\" stroke-width=\"2\" d=\"M150.874,-175.0852C200.9854,-177.7433 265.1152,-182.9083 307.526,-187.8755\"/>\n<polygon fill=\"#d248af\" stroke=\"#d248af\" stroke-width=\"2\" points=\"307.2033,-191.362 317.5536,-189.0986 308.0509,-184.4135 307.2033,-191.362\"/>\n</g>\n<!-- 健康&#45;加工&#45;&gt;健康 -->\n<g id=\"edge2\" class=\"edge\">\n<title>健康&#45;加工&#45;&gt;健康</title>\n<path fill=\"none\" stroke=\"#6c48d2\" stroke-dasharray=\"5,2\" d=\"M329.101,-270.2959C320.3287,-261.6428 309.8294,-252.7047 298.8356,-246.4571 246.6075,-216.7769 225.9862,-227.9639 168.8356,-209.4571 164.5639,-208.0738 160.1956,-206.6206 155.7946,-205.1258\"/>\n<polygon fill=\"#6c48d2\" stroke=\"#6c48d2\" points=\"156.7269,-201.7452 146.1322,-201.7984 154.4477,-208.3638 156.7269,-201.7452\"/>\n<text text-anchor=\"middle\" x=\"233.8356\" y=\"-251.6571\" font-family=\"Arial\" font-size=\"16.00\" fill=\"#000000\">p = 0.7 &#160;reward =6</text>\n</g>\n<!-- 健康&#45;加工&#45;&gt;健康 -->\n<g id=\"edge3\" class=\"edge\">\n<title>健康&#45;加工&#45;&gt;健康</title>\n<path fill=\"none\" stroke=\"#6c48d2\" stroke-dasharray=\"5,2\" d=\"M317.3506,-304.8345C278.7567,-306.6496 216.2872,-301.5438 168.8356,-277.4571 153.1417,-269.4908 138.4463,-257.9177 125.5658,-245.3799\"/>\n<polygon fill=\"#6c48d2\" stroke=\"#6c48d2\" points=\"127.7109,-242.5703 118.1979,-237.9062 122.726,-247.4847 127.7109,-242.5703\"/>\n</g>\n<!-- 可用 -->\n<g id=\"node3\" class=\"node\">\n<title>可用</title>\n<ellipse fill=\"#ded6f5\" stroke=\"#ded6f5\" cx=\"630.3782\" cy=\"-264.4571\" rx=\"71.34\" ry=\"71.34\"/>\n<ellipse fill=\"none\" stroke=\"#ded6f5\" cx=\"630.3782\" cy=\"-264.4571\" rx=\"75.3357\" ry=\"75.3357\"/>\n<text text-anchor=\"middle\" x=\"630.3782\" y=\"-271.2571\" font-family=\"Arial\" font-size=\"24.00\" fill=\"#000000\">可用</text>\n<text text-anchor=\"middle\" x=\"630.3782\" y=\"-245.2571\" font-family=\"Arial\" font-size=\"24.00\" fill=\"#000000\">V =59.2</text>\n</g>\n<!-- 健康&#45;加工&#45;&gt;可用 -->\n<g id=\"edge4\" class=\"edge\">\n<title>健康&#45;加工&#45;&gt;可用</title>\n<path fill=\"none\" stroke=\"#6c48d2\" stroke-dasharray=\"5,2\" d=\"M382.2102,-276.3377C389.9055,-271.8762 398.4448,-267.809 406.9605,-265.4571 451.5254,-253.1492 503.0251,-252.0857 545.3408,-254.4639\"/>\n<polygon fill=\"#6c48d2\" stroke=\"#6c48d2\" points=\"545.1309,-257.9576 555.3326,-255.0983 545.5745,-250.9716 545.1309,-257.9576\"/>\n<text text-anchor=\"middle\" x=\"471.9605\" y=\"-270.6571\" font-family=\"Arial\" font-size=\"16.00\" fill=\"#000000\">p = 0.2 &#160;reward =3</text>\n</g>\n<!-- 健康&#45;加工&#45;&gt;可用 -->\n<g id=\"edge5\" class=\"edge\">\n<title>健康&#45;加工&#45;&gt;可用</title>\n<path fill=\"none\" stroke=\"#6c48d2\" stroke-dasharray=\"5,2\" d=\"M389.0148,-296.0424C426.2307,-294.273 485.8564,-290.5693 536.9605,-283.4571 540.157,-283.0123 543.4086,-282.5249 546.6883,-282.0042\"/>\n<polygon fill=\"#6c48d2\" stroke=\"#6c48d2\" points=\"547.2983,-285.4509 556.5848,-280.3507 546.1447,-278.5466 547.2983,-285.4509\"/>\n</g>\n<!-- 耗損 -->\n<g id=\"node4\" class=\"node\">\n<title>耗損</title>\n<ellipse fill=\"#ded6f5\" stroke=\"#ded6f5\" cx=\"1200.3387\" cy=\"-303.4571\" rx=\"71.34\" ry=\"71.34\"/>\n<ellipse fill=\"none\" stroke=\"#ded6f5\" cx=\"1200.3387\" cy=\"-303.4571\" rx=\"75.3357\" ry=\"75.3357\"/>\n<text text-anchor=\"middle\" x=\"1200.3387\" y=\"-310.2571\" font-family=\"Arial\" font-size=\"24.00\" fill=\"#000000\">耗損</text>\n<text text-anchor=\"middle\" x=\"1200.3387\" y=\"-284.2571\" font-family=\"Arial\" font-size=\"24.00\" fill=\"#000000\">V =55.4</text>\n</g>\n<!-- 健康&#45;加工&#45;&gt;耗損 -->\n<g id=\"edge6\" class=\"edge\">\n<title>健康&#45;加工&#45;&gt;耗損</title>\n<path fill=\"none\" stroke=\"#6c48d2\" stroke-dasharray=\"5,2\" d=\"M356.3193,-333.3656C361.4853,-365.3713 374.4469,-410.4538 406.9605,-432.4571 471.3707,-476.0463 1037.6518,-467.8194 1106.9209,-432.4571 1129.5406,-420.9096 1147.9542,-401.0434 1162.2682,-380.3139\"/>\n<polygon fill=\"#6c48d2\" stroke=\"#6c48d2\" points=\"1165.3569,-381.9883 1167.9514,-371.716 1159.5173,-378.1283 1165.3569,-381.9883\"/>\n<text text-anchor=\"middle\" x=\"788.796\" y=\"-466.6571\" font-family=\"Arial\" font-size=\"16.00\" fill=\"#000000\">p = 0.1 &#160;reward =1</text>\n</g>\n<!-- 健康&#45;加工&#45;&gt;耗損 -->\n<g id=\"edge7\" class=\"edge\">\n<title>健康&#45;加工&#45;&gt;耗損</title>\n<path fill=\"none\" stroke=\"#6c48d2\" stroke-dasharray=\"5,2\" d=\"M387.1551,-309.0592C451.9774,-330.4167 597.419,-375.5013 723.796,-394.4571 828.5508,-410.1697 856.0177,-402.2344 961.9209,-404.4571 1026.3512,-405.8094 1047.874,-430.2746 1106.9209,-404.4571 1123.1113,-397.3781 1137.7457,-385.9557 1150.3713,-373.2915\"/>\n<polygon fill=\"#6c48d2\" stroke=\"#6c48d2\" points=\"1153.2192,-375.3755 1157.5696,-365.715 1148.1444,-370.5541 1153.2192,-375.3755\"/>\n</g>\n<!-- 損壞 -->\n<g id=\"node5\" class=\"node\">\n<title>損壞</title>\n<ellipse fill=\"#ded6f5\" stroke=\"#ded6f5\" cx=\"1786.0063\" cy=\"-366.4571\" rx=\"72.2434\" ry=\"72.2434\"/>\n<ellipse fill=\"none\" stroke=\"#ded6f5\" cx=\"1786.0063\" cy=\"-366.4571\" rx=\"76.25\" ry=\"76.25\"/>\n<text text-anchor=\"middle\" x=\"1786.0063\" y=\"-373.2571\" font-family=\"Arial\" font-size=\"24.00\" fill=\"#000000\">損壞</text>\n<text text-anchor=\"middle\" x=\"1786.0063\" y=\"-347.2571\" font-family=\"Arial\" font-size=\"24.00\" fill=\"#000000\">V =&#45;149</text>\n</g>\n<!-- 健康&#45;加工&#45;&gt;損壞 -->\n<g id=\"edge8\" class=\"edge\">\n<title>健康&#45;加工&#45;&gt;損壞</title>\n<path fill=\"none\" stroke=\"#6c48d2\" stroke-dasharray=\"5,2\" d=\"M357.1972,-333.6197C364.4144,-387.7207 380.7993,-485.8116 406.9605,-508.4571 482.4688,-573.8186 530.5102,-532.4571 630.3782,-532.4571 630.3782,-532.4571 630.3782,-532.4571 1492.8189,-532.4571 1581.9318,-532.4571 1616.0371,-555.2412 1691.8814,-508.4571 1716.3188,-493.383 1735.7577,-469.3217 1750.4748,-445.2569\"/>\n<polygon fill=\"#6c48d2\" stroke=\"#6c48d2\" points=\"1753.6273,-446.8008 1755.6838,-436.4074 1747.5948,-443.2499 1753.6273,-446.8008\"/>\n<text text-anchor=\"middle\" x=\"1034.4209\" y=\"-537.6571\" font-family=\"Arial\" font-size=\"16.00\" fill=\"#000000\">p = 0.0 &#160;reward =&#45;15</text>\n</g>\n<!-- 健康&#45;加工&#45;&gt;損壞 -->\n<g id=\"edge9\" class=\"edge\">\n<title>健康&#45;加工&#45;&gt;損壞</title>\n<path fill=\"none\" stroke=\"#6c48d2\" stroke-dasharray=\"5,2\" d=\"M360.4188,-332.9233C370.0513,-374.8997 387.8041,-441.1729 406.9605,-457.4571 483.6464,-522.6456 529.729,-494.4571 630.3782,-494.4571 630.3782,-494.4571 630.3782,-494.4571 1492.8189,-494.4571 1574.1743,-494.4571 1658.418,-452.5498 1715.6089,-416.6931\"/>\n<polygon fill=\"#6c48d2\" stroke=\"#6c48d2\" points=\"1717.6422,-419.5478 1724.1987,-411.2253 1713.8833,-413.6426 1717.6422,-419.5478\"/>\n</g>\n<!-- 可用&#45;加工 -->\n<g id=\"node7\" class=\"node\">\n<title>可用&#45;加工</title>\n<ellipse fill=\"#f5d6ed\" stroke=\"#f5d6ed\" cx=\"907.8585\" cy=\"-278.4571\" rx=\"36.125\" ry=\"36.125\"/>\n<text text-anchor=\"middle\" x=\"907.8585\" y=\"-273.4571\" font-family=\"Arial\" font-size=\"20.00\" fill=\"#000000\">加工</text>\n</g>\n<!-- 可用&#45;&gt;可用&#45;加工 -->\n<g id=\"edge13\" class=\"edge\">\n<title>可用&#45;&gt;可用&#45;加工</title>\n<path fill=\"none\" stroke=\"#d248af\" stroke-width=\"2\" d=\"M705.8344,-262.1816C755.7976,-263.5715 819.6963,-267.1018 862.1094,-270.9855\"/>\n<polygon fill=\"#d248af\" stroke=\"#d248af\" stroke-width=\"2\" points=\"861.8529,-274.4769 872.1426,-271.9524 862.5244,-267.5092 861.8529,-274.4769\"/>\n</g>\n<!-- 可用&#45;保養 -->\n<g id=\"node8\" class=\"node\">\n<title>可用&#45;保養</title>\n<ellipse fill=\"#f5d6ed\" stroke=\"#f5d6ed\" cx=\"907.8585\" cy=\"-150.4571\" rx=\"36.125\" ry=\"36.125\"/>\n<text text-anchor=\"middle\" x=\"907.8585\" y=\"-145.4571\" font-family=\"Arial\" font-size=\"20.00\" fill=\"#000000\">保養</text>\n</g>\n<!-- 可用&#45;&gt;可用&#45;保養 -->\n<g id=\"edge20\" class=\"edge\">\n<title>可用&#45;&gt;可用&#45;保養</title>\n<path fill=\"none\" stroke=\"#d248af\" stroke-width=\"2\" d=\"M694.0312,-223.7675C703.9167,-219.0524 714.0738,-214.5047 723.796,-210.4571 780.3766,-186.9011 796.6813,-186.6866 853.796,-164.4571 856.6967,-163.3282 859.6739,-162.1416 862.6684,-160.9423\"/>\n<polygon fill=\"#d248af\" stroke=\"#d248af\" stroke-width=\"2\" points=\"864.2321,-164.0865 872.2179,-157.1239 861.6332,-157.5869 864.2321,-164.0865\"/>\n</g>\n<!-- 耗損&#45;加工 -->\n<g id=\"node9\" class=\"node\">\n<title>耗損&#45;加工</title>\n<ellipse fill=\"#f5d6ed\" stroke=\"#f5d6ed\" cx=\"1492.8189\" cy=\"-367.4571\" rx=\"36.125\" ry=\"36.125\"/>\n<text text-anchor=\"middle\" x=\"1492.8189\" y=\"-362.4571\" font-family=\"Arial\" font-size=\"20.00\" fill=\"#000000\">加工</text>\n</g>\n<!-- 耗損&#45;&gt;耗損&#45;加工 -->\n<g id=\"edge25\" class=\"edge\">\n<title>耗損&#45;&gt;耗損&#45;加工</title>\n<path fill=\"none\" stroke=\"#d248af\" stroke-width=\"2\" d=\"M1271.726,-328.3803C1279.0622,-331.0471 1286.4904,-333.4907 1293.7565,-335.4571 1345.192,-349.3773 1406.3379,-354.8738 1447.162,-358.971\"/>\n<polygon fill=\"#d248af\" stroke=\"#d248af\" stroke-width=\"2\" points=\"1447.0367,-362.4764 1457.3413,-360.0138 1447.7501,-355.5128 1447.0367,-362.4764\"/>\n</g>\n<!-- 耗損&#45;保養 -->\n<g id=\"node10\" class=\"node\">\n<title>耗損&#45;保養</title>\n<ellipse fill=\"#f5d6ed\" stroke=\"#f5d6ed\" cx=\"1492.8189\" cy=\"-98.4571\" rx=\"36.125\" ry=\"36.125\"/>\n<text text-anchor=\"middle\" x=\"1492.8189\" y=\"-93.4571\" font-family=\"Arial\" font-size=\"20.00\" fill=\"#000000\">保養</text>\n</g>\n<!-- 耗損&#45;&gt;耗損&#45;保養 -->\n<g id=\"edge32\" class=\"edge\">\n<title>耗損&#45;&gt;耗損&#45;保養</title>\n<path fill=\"none\" stroke=\"#d248af\" stroke-width=\"2\" d=\"M1274.7468,-291.1388C1335.3308,-283.5789 1414.6294,-272.3452 1438.7565,-251.4571 1455.65,-236.8315 1471.3917,-183.2699 1481.4816,-143.5284\"/>\n<polygon fill=\"#d248af\" stroke=\"#d248af\" stroke-width=\"2\" points=\"1484.8952,-144.3046 1483.9223,-133.7545 1478.1037,-142.6086 1484.8952,-144.3046\"/>\n</g>\n<!-- 損壞&#45;加工 -->\n<g id=\"node11\" class=\"node\">\n<title>損壞&#45;加工</title>\n<ellipse fill=\"#f5d6ed\" stroke=\"#f5d6ed\" cx=\"2079.1936\" cy=\"-429.4571\" rx=\"36.125\" ry=\"36.125\"/>\n<text text-anchor=\"middle\" x=\"2079.1936\" y=\"-424.4571\" font-family=\"Arial\" font-size=\"20.00\" fill=\"#000000\">加工</text>\n</g>\n<!-- 損壞&#45;&gt;損壞&#45;加工 -->\n<g id=\"edge39\" class=\"edge\">\n<title>損壞&#45;&gt;損壞&#45;加工</title>\n<path fill=\"none\" stroke=\"#d248af\" stroke-width=\"2\" d=\"M1858.2478,-390.6248C1865.544,-393.1941 1872.9215,-395.5513 1880.1312,-397.4571 1931.6474,-411.0754 1992.7774,-416.6312 2033.5758,-420.8248\"/>\n<polygon fill=\"#d248af\" stroke=\"#d248af\" stroke-width=\"2\" points=\"2033.4372,-424.3294 2043.7482,-421.8934 2034.1686,-417.3678 2033.4372,-424.3294\"/>\n</g>\n<!-- 損壞&#45;保養 -->\n<g id=\"node12\" class=\"node\">\n<title>損壞&#45;保養</title>\n<ellipse fill=\"#f5d6ed\" stroke=\"#f5d6ed\" cx=\"2079.1936\" cy=\"-339.4571\" rx=\"36.125\" ry=\"36.125\"/>\n<text text-anchor=\"middle\" x=\"2079.1936\" y=\"-334.4571\" font-family=\"Arial\" font-size=\"20.00\" fill=\"#000000\">保養</text>\n</g>\n<!-- 損壞&#45;&gt;損壞&#45;保養 -->\n<g id=\"edge42\" class=\"edge\">\n<title>損壞&#45;&gt;損壞&#45;保養</title>\n<path fill=\"none\" stroke=\"#d248af\" stroke-width=\"2\" d=\"M1861.1286,-353.5597C1915.3888,-347.2921 1986.9454,-341.003 2033.0199,-338.632\"/>\n<polygon fill=\"#d248af\" stroke=\"#d248af\" stroke-width=\"2\" points=\"2033.1931,-342.1278 2043.018,-338.163 2032.865,-335.1355 2033.1931,-342.1278\"/>\n</g>\n<!-- 健康&#45;保養&#45;&gt;健康 -->\n<g id=\"edge11\" class=\"edge\">\n<title>健康&#45;保養&#45;&gt;健康</title>\n<path fill=\"none\" stroke=\"#6c48d2\" stroke-dasharray=\"5,2\" d=\"M325.0383,-173.4426C317.0521,-168.1333 308.01,-163.2322 298.8356,-160.4571 253.8804,-146.8589 201.5973,-149.4363 158.9152,-155.9504\"/>\n<polygon fill=\"#6c48d2\" stroke=\"#6c48d2\" points=\"158.153,-152.5282 148.8437,-157.5866 159.2756,-159.4376 158.153,-152.5282\"/>\n<text text-anchor=\"middle\" x=\"233.8356\" y=\"-165.6571\" font-family=\"Arial\" font-size=\"16.00\" fill=\"#000000\">p = 1.0 &#160;reward =6</text>\n</g>\n<!-- 健康&#45;保養&#45;&gt;健康 -->\n<g id=\"edge12\" class=\"edge\">\n<title>健康&#45;保養&#45;&gt;健康</title>\n<path fill=\"none\" stroke=\"#6c48d2\" stroke-dasharray=\"5,2\" d=\"M316.6134,-198.4428C277.0891,-197.4515 212.5054,-193.0774 160.1109,-188.1393\"/>\n<polygon fill=\"#6c48d2\" stroke=\"#6c48d2\" points=\"160.4322,-184.6541 150.1424,-187.1782 159.7604,-191.6218 160.4322,-184.6541\"/>\n</g>\n<!-- 可用&#45;加工&#45;&gt;可用 -->\n<g id=\"edge14\" class=\"edge\">\n<title>可用&#45;加工&#45;&gt;可用</title>\n<path fill=\"none\" stroke=\"#6c48d2\" stroke-dasharray=\"5,2\" d=\"M871.8449,-283.0146C865.8274,-283.615 859.642,-284.1337 853.796,-284.4571 796.1065,-287.6486 781.2528,-290.5387 723.796,-284.4571 720.5385,-284.1123 717.2276,-283.7017 713.8909,-283.2374\"/>\n<polygon fill=\"#6c48d2\" stroke=\"#6c48d2\" points=\"714.2461,-279.7511 703.8313,-281.696 713.1858,-286.6703 714.2461,-279.7511\"/>\n<text text-anchor=\"middle\" x=\"788.796\" y=\"-292.6571\" font-family=\"Arial\" font-size=\"16.00\" fill=\"#000000\">p = 0.6 &#160;reward =3</text>\n</g>\n<!-- 可用&#45;加工&#45;&gt;可用 -->\n<g id=\"edge15\" class=\"edge\">\n<title>可用&#45;加工&#45;&gt;可用</title>\n<path fill=\"none\" stroke=\"#6c48d2\" stroke-dasharray=\"5,2\" d=\"M871.6718,-281.3581C832.3293,-281.3685 768.075,-278.646 715.7611,-275.0502\"/>\n<polygon fill=\"#6c48d2\" stroke=\"#6c48d2\" points=\"715.6911,-271.5365 705.4684,-274.32 715.1956,-278.519 715.6911,-271.5365\"/>\n</g>\n<!-- 可用&#45;加工&#45;&gt;耗損 -->\n<g id=\"edge16\" class=\"edge\">\n<title>可用&#45;加工&#45;&gt;耗損</title>\n<path fill=\"none\" stroke=\"#6c48d2\" stroke-dasharray=\"5,2\" d=\"M943.5782,-284.1328C949.6874,-284.9917 955.979,-285.8066 961.9209,-286.4571 1012.4472,-291.9888 1069.2038,-296.1188 1114.6618,-298.9221\"/>\n<polygon fill=\"#6c48d2\" stroke=\"#6c48d2\" points=\"1114.5808,-302.4236 1124.7744,-299.5354 1115.0046,-295.4364 1114.5808,-302.4236\"/>\n<text text-anchor=\"middle\" x=\"1034.4209\" y=\"-302.6571\" font-family=\"Arial\" font-size=\"16.00\" fill=\"#000000\">p = 0.3 &#160;reward =1</text>\n</g>\n<!-- 可用&#45;加工&#45;&gt;耗損 -->\n<g id=\"edge17\" class=\"edge\">\n<title>可用&#45;加工&#45;&gt;耗損</title>\n<path fill=\"none\" stroke=\"#6c48d2\" stroke-dasharray=\"5,2\" d=\"M944.2629,-279.4469C984.2371,-280.7716 1050.2797,-283.6607 1106.9209,-289.4571 1109.7887,-289.7506 1112.703,-290.0698 1115.6441,-290.4097\"/>\n<polygon fill=\"#6c48d2\" stroke=\"#6c48d2\" points=\"1115.3673,-293.9018 1125.7176,-291.6386 1116.215,-286.9533 1115.3673,-293.9018\"/>\n</g>\n<!-- 可用&#45;加工&#45;&gt;損壞 -->\n<g id=\"edge18\" class=\"edge\">\n<title>可用&#45;加工&#45;&gt;損壞</title>\n<path fill=\"none\" stroke=\"#6c48d2\" stroke-dasharray=\"5,2\" d=\"M941.4215,-264.6234C1025.7778,-231.7314 1253.1838,-154.6973 1438.7565,-197.4571 1539.895,-220.7615 1645.6898,-277.6764 1713.5288,-319.0329\"/>\n<polygon fill=\"#6c48d2\" stroke=\"#6c48d2\" points=\"1712.0805,-322.251 1722.4329,-324.5049 1715.7456,-316.2871 1712.0805,-322.251\"/>\n<text text-anchor=\"middle\" x=\"1366.2565\" y=\"-202.6571\" font-family=\"Arial\" font-size=\"16.00\" fill=\"#000000\">p = 0.1 &#160;reward =&#45;15</text>\n</g>\n<!-- 可用&#45;加工&#45;&gt;損壞 -->\n<g id=\"edge19\" class=\"edge\">\n<title>可用&#45;加工&#45;&gt;損壞</title>\n<path fill=\"none\" stroke=\"#6c48d2\" stroke-dasharray=\"5,2\" d=\"M929.117,-248.8913C942.2408,-231.0128 957.4065,-211.155 961.9209,-208.4571 1144.1519,-99.5546 1227.3862,-160.6963 1438.7565,-180.4571 1484.5726,-184.7404 1682.6379,-224.367 1691.8814,-230.4571 1714.2061,-245.1659 1732.7423,-267.1648 1747.2928,-289.2055\"/>\n<polygon fill=\"#6c48d2\" stroke=\"#6c48d2\" points=\"1744.3446,-291.0919 1752.6738,-297.6398 1750.2458,-287.3269 1744.3446,-291.0919\"/>\n</g>\n<!-- 可用&#45;保養&#45;&gt;健康 -->\n<g id=\"edge21\" class=\"edge\">\n<title>可用&#45;保養&#45;&gt;健康</title>\n<path fill=\"none\" stroke=\"#6c48d2\" stroke-dasharray=\"5,2\" d=\"M873.2498,-139.3673C866.8447,-137.7415 860.1659,-136.3244 853.796,-135.4571 796.5465,-127.6622 781.571,-134.8846 723.796,-135.4571 477.1106,-137.9017 412.366,-107.0539 168.8356,-146.4571 164.8934,-147.095 160.8873,-147.8603 156.8622,-148.7244\"/>\n<polygon fill=\"#6c48d2\" stroke=\"#6c48d2\" points=\"155.788,-145.3808 146.8433,-151.0591 157.3767,-152.1982 155.788,-145.3808\"/>\n<text text-anchor=\"middle\" x=\"471.9605\" y=\"-135.6571\" font-family=\"Arial\" font-size=\"16.00\" fill=\"#000000\">p = 0.8 &#160;reward =6</text>\n</g>\n<!-- 可用&#45;保養&#45;&gt;健康 -->\n<g id=\"edge22\" class=\"edge\">\n<title>可用&#45;保養&#45;&gt;健康</title>\n<path fill=\"none\" stroke=\"#6c48d2\" stroke-dasharray=\"5,2\" d=\"M875.3501,-134.2709C868.3962,-131.4832 860.9777,-128.9922 853.796,-127.4571 620.4045,-77.5683 555.4778,-118.2328 316.8356,-121.4571 251.0398,-122.3461 232.4388,-108.5899 168.8356,-125.4571 162.3248,-127.1837 155.7653,-129.4394 149.3042,-132.0374\"/>\n<polygon fill=\"#6c48d2\" stroke=\"#6c48d2\" points=\"147.7317,-128.9036 139.9256,-136.067 150.4951,-135.3351 147.7317,-128.9036\"/>\n</g>\n<!-- 可用&#45;保養&#45;&gt;可用 -->\n<g id=\"edge23\" class=\"edge\">\n<title>可用&#45;保養&#45;&gt;可用</title>\n<path fill=\"none\" stroke=\"#6c48d2\" stroke-dasharray=\"5,2\" d=\"M872.6805,-142.184C834.1312,-134.9833 771.4399,-128.8695 723.796,-151.4571 704.9198,-160.4062 688.5454,-175.231 675.0088,-191.2445\"/>\n<polygon fill=\"#6c48d2\" stroke=\"#6c48d2\" points=\"672.158,-189.2036 668.5929,-199.1807 677.6017,-193.6045 672.158,-189.2036\"/>\n<text text-anchor=\"middle\" x=\"788.796\" y=\"-156.6571\" font-family=\"Arial\" font-size=\"16.00\" fill=\"#000000\">p = 0.2 &#160;reward =3</text>\n</g>\n<!-- 可用&#45;保養&#45;&gt;可用 -->\n<g id=\"edge24\" class=\"edge\">\n<title>可用&#45;保養&#45;&gt;可用</title>\n<path fill=\"none\" stroke=\"#6c48d2\" stroke-dasharray=\"5,2\" d=\"M878.8148,-171.8639C870.7541,-175.6359 861.9706,-179.2755 853.796,-182.4571 796.6813,-204.6866 780.3766,-204.9011 723.796,-228.4571 719.4049,-230.2853 714.9251,-232.2154 710.4217,-234.1971\"/>\n<polygon fill=\"#6c48d2\" stroke=\"#6c48d2\" points=\"708.8755,-231.0542 701.1655,-238.321 711.7243,-237.4483 708.8755,-231.0542\"/>\n</g>\n<!-- 耗損&#45;加工&#45;&gt;可用 -->\n<g id=\"edge26\" class=\"edge\">\n<title>耗損&#45;加工&#45;&gt;可用</title>\n<path fill=\"none\" stroke=\"#6c48d2\" stroke-dasharray=\"5,2\" d=\"M1471.1392,-396.4172C1462.2716,-405.9446 1451.168,-415.3881 1438.7565,-420.4571 1309.6282,-473.1947 1263.9672,-431.4799 1124.9209,-420.4571 1034.9369,-413.3237 804.3568,-397.1752 723.796,-356.4571 710.2974,-349.6345 697.5127,-340.1557 685.9806,-329.8592\"/>\n<polygon fill=\"#6c48d2\" stroke=\"#6c48d2\" points=\"688.2978,-327.2347 678.5884,-322.9946 683.5345,-332.3641 688.2978,-327.2347\"/>\n<text text-anchor=\"middle\" x=\"1034.4209\" y=\"-423.6571\" font-family=\"Arial\" font-size=\"16.00\" fill=\"#000000\">p = 0.1 &#160;reward =3</text>\n</g>\n<!-- 耗損&#45;加工&#45;&gt;可用 -->\n<g id=\"edge27\" class=\"edge\">\n<title>耗損&#45;加工&#45;&gt;可用</title>\n<path fill=\"none\" stroke=\"#6c48d2\" stroke-dasharray=\"5,2\" d=\"M1457.4357,-374.6392C1451.2304,-375.7162 1444.8199,-376.7132 1438.7565,-377.4571 1366.7161,-386.2964 1348.3031,-385.2339 1275.7565,-387.4571 1028.1196,-395.0462 958.9345,-387.5052 723.796,-309.4571 718.2139,-307.6043 712.535,-305.4914 706.875,-303.2151\"/>\n<polygon fill=\"#6c48d2\" stroke=\"#6c48d2\" points=\"707.964,-299.8768 697.3879,-299.2469 705.2628,-306.3346 707.964,-299.8768\"/>\n</g>\n<!-- 耗損&#45;加工&#45;&gt;耗損 -->\n<g id=\"edge28\" class=\"edge\">\n<title>耗損&#45;加工&#45;&gt;耗損</title>\n<path fill=\"none\" stroke=\"#6c48d2\" stroke-dasharray=\"5,2\" d=\"M1467.7691,-341.1697C1459.285,-333.8522 1449.2743,-326.7418 1438.7565,-322.4571 1411.7757,-311.4659 1342.7383,-306.8154 1285.8571,-304.8569\"/>\n<polygon fill=\"#6c48d2\" stroke=\"#6c48d2\" points=\"1285.8618,-301.3553 1275.7546,-304.5324 1285.6371,-308.3517 1285.8618,-301.3553\"/>\n<text text-anchor=\"middle\" x=\"1366.2565\" y=\"-327.6571\" font-family=\"Arial\" font-size=\"16.00\" fill=\"#000000\">p = 0.5 &#160;reward =1</text>\n</g>\n<!-- 耗損&#45;加工&#45;&gt;耗損 -->\n<g id=\"edge29\" class=\"edge\">\n<title>耗損&#45;加工&#45;&gt;耗損</title>\n<path fill=\"none\" stroke=\"#6c48d2\" stroke-dasharray=\"5,2\" d=\"M1456.9777,-373.0678C1416.6522,-373.7357 1349.5014,-368.5436 1293.7565,-353.4571 1287.2665,-351.7007 1280.6471,-349.5636 1274.0794,-347.1681\"/>\n<polygon fill=\"#6c48d2\" stroke=\"#6c48d2\" points=\"1275.1049,-343.8126 1264.5151,-343.4877 1272.5909,-350.3456 1275.1049,-343.8126\"/>\n</g>\n<!-- 耗損&#45;加工&#45;&gt;損壞 -->\n<g id=\"edge30\" class=\"edge\">\n<title>耗損&#45;加工&#45;&gt;損壞</title>\n<path fill=\"none\" stroke=\"#6c48d2\" stroke-dasharray=\"5,2\" d=\"M1529.0635,-367.3335C1571.4109,-367.1891 1642.9191,-366.9452 1699.7613,-366.7513\"/>\n<polygon fill=\"#6c48d2\" stroke=\"#6c48d2\" points=\"1699.8439,-370.2511 1709.8319,-366.7169 1699.82,-363.2512 1699.8439,-370.2511\"/>\n<text text-anchor=\"middle\" x=\"1619.3814\" y=\"-371.6571\" font-family=\"Arial\" font-size=\"16.00\" fill=\"#000000\">p = 0.4 &#160;reward =&#45;15</text>\n</g>\n<!-- 耗損&#45;加工&#45;&gt;損壞 -->\n<g id=\"edge31\" class=\"edge\">\n<title>耗損&#45;加工&#45;&gt;損壞</title>\n<path fill=\"none\" stroke=\"#6c48d2\" stroke-dasharray=\"5,2\" d=\"M1528.8671,-365.1781C1534.8804,-364.8779 1541.0554,-364.6186 1546.8814,-364.4571 1597.5206,-363.0532 1654.213,-363.442 1699.6834,-364.2335\"/>\n<polygon fill=\"#6c48d2\" stroke=\"#6c48d2\" points=\"1699.7375,-367.735 1709.8001,-364.4194 1699.8662,-360.7362 1699.7375,-367.735\"/>\n</g>\n<!-- 耗損&#45;保養&#45;&gt;健康 -->\n<g id=\"edge33\" class=\"edge\">\n<title>耗損&#45;保養&#45;&gt;健康</title>\n<path fill=\"none\" stroke=\"#6c48d2\" stroke-dasharray=\"5,2\" d=\"M1458.6179,-86.7461C1404.4897,-69.285 1295.4564,-38.4571 1200.3387,-38.4571 352.898,-38.4571 352.898,-38.4571 352.898,-38.4571 274.6174,-38.4571 195.5573,-82.8374 141.9635,-121.079\"/>\n<polygon fill=\"#6c48d2\" stroke=\"#6c48d2\" points=\"139.6248,-118.4515 133.5847,-127.156 143.7347,-124.118 139.6248,-118.4515\"/>\n<text text-anchor=\"middle\" x=\"788.796\" y=\"-43.6571\" font-family=\"Arial\" font-size=\"16.00\" fill=\"#000000\">p = 0.2 &#160;reward =6</text>\n</g>\n<!-- 耗損&#45;保養&#45;&gt;健康 -->\n<g id=\"edge34\" class=\"edge\">\n<title>耗損&#45;保養&#45;&gt;健康</title>\n<path fill=\"none\" stroke=\"#6c48d2\" stroke-dasharray=\"5,2\" d=\"M1470.7731,-69.6216C1461.8658,-59.8665 1450.8307,-49.8388 1438.7565,-43.4571 1343.5619,6.8568 1308.0118,-.4571 1200.3387,-.4571 352.898,-.4571 352.898,-.4571 352.898,-.4571 268.9898,-.4571 238.4926,4.3241 168.8356,-42.4571 147.3289,-56.9008 129.2329,-78.0913 114.8673,-99.3315\"/>\n<polygon fill=\"#6c48d2\" stroke=\"#6c48d2\" points=\"111.8883,-97.4919 109.3445,-107.7769 117.7469,-101.3231 111.8883,-97.4919\"/>\n</g>\n<!-- 耗損&#45;保養&#45;&gt;可用 -->\n<g id=\"edge35\" class=\"edge\">\n<title>耗損&#45;保養&#45;&gt;可用</title>\n<path fill=\"none\" stroke=\"#6c48d2\" stroke-dasharray=\"5,2\" d=\"M1456.6577,-99.9342C1338.6118,-104.8279 971.5369,-120.6429 961.9209,-128.4571 937.9919,-147.9024 966.0861,-174.023 943.9209,-195.4571 914.3552,-224.0477 893.9308,-207.4706 853.796,-216.4571 807.7404,-226.7694 756.2428,-237.8628 714.3065,-246.7845\"/>\n<polygon fill=\"#6c48d2\" stroke=\"#6c48d2\" points=\"713.4667,-243.3847 704.4126,-248.8869 714.9217,-250.2319 713.4667,-243.3847\"/>\n<text text-anchor=\"middle\" x=\"1034.4209\" y=\"-133.6571\" font-family=\"Arial\" font-size=\"16.00\" fill=\"#000000\">p = 0.5 &#160;reward =3</text>\n</g>\n<!-- 耗損&#45;保養&#45;&gt;可用 -->\n<g id=\"edge36\" class=\"edge\">\n<title>耗損&#45;保養&#45;&gt;可用</title>\n<path fill=\"none\" stroke=\"#6c48d2\" stroke-dasharray=\"5,2\" d=\"M1456.546,-95.3699C1321.2013,-84.5453 847.1499,-53.0535 723.796,-131.4571 701.8269,-145.4207 683.56,-166.5922 669.18,-187.9633\"/>\n<polygon fill=\"#6c48d2\" stroke=\"#6c48d2\" points=\"666.1684,-186.1745 663.6594,-196.468 672.0399,-189.9859 666.1684,-186.1745\"/>\n</g>\n<!-- 耗損&#45;保養&#45;&gt;耗損 -->\n<g id=\"edge37\" class=\"edge\">\n<title>耗損&#45;保養&#45;&gt;耗損</title>\n<path fill=\"none\" stroke=\"#6c48d2\" stroke-dasharray=\"5,2\" d=\"M1486.6502,-134.0282C1479.8636,-161.8466 1466.0606,-199.1089 1438.7565,-219.4571 1386.6415,-258.2955 1354.3746,-215.0086 1293.7565,-238.4571 1285.0035,-241.843 1276.2825,-246.2102 1267.883,-251.078\"/>\n<polygon fill=\"#6c48d2\" stroke=\"#6c48d2\" points=\"1265.9916,-248.1317 1259.2584,-256.3118 1269.6232,-254.116 1265.9916,-248.1317\"/>\n<text text-anchor=\"middle\" x=\"1366.2565\" y=\"-243.6571\" font-family=\"Arial\" font-size=\"16.00\" fill=\"#000000\">p = 0.3 &#160;reward =1</text>\n</g>\n<!-- 耗損&#45;保養&#45;&gt;耗損 -->\n<g id=\"edge38\" class=\"edge\">\n<title>耗損&#45;保養&#45;&gt;耗損</title>\n<path fill=\"none\" stroke=\"#6c48d2\" stroke-dasharray=\"5,2\" d=\"M1486.6879,-134.0665C1477.4628,-178.9963 1458.931,-251.991 1438.7565,-269.4571 1416.0991,-289.0728 1344.7873,-300.1744 1286.0102,-304.61\"/>\n<polygon fill=\"#6c48d2\" stroke=\"#6c48d2\" points=\"1285.6786,-301.1246 1275.947,-305.3133 1286.1667,-308.1075 1285.6786,-301.1246\"/>\n</g>\n<!-- 損壞&#45;加工&#45;&gt;損壞 -->\n<g id=\"edge40\" class=\"edge\">\n<title>損壞&#45;加工&#45;&gt;損壞</title>\n<path fill=\"none\" stroke=\"#6c48d2\" stroke-dasharray=\"5,2\" d=\"M2054.1551,-403.1416C2045.6716,-395.8227 2035.6583,-388.7187 2025.1312,-384.4571 1998.1465,-373.5333 1929.2797,-369.1728 1872.3448,-367.4648\"/>\n<polygon fill=\"#6c48d2\" stroke=\"#6c48d2\" points=\"1872.3231,-363.9629 1862.2301,-367.185 1872.1295,-370.9603 1872.3231,-363.9629\"/>\n<text text-anchor=\"middle\" x=\"1952.6312\" y=\"-389.6571\" font-family=\"Arial\" font-size=\"16.00\" fill=\"#000000\">p = 1.0 &#160;reward =&#45;15</text>\n</g>\n<!-- 損壞&#45;加工&#45;&gt;損壞 -->\n<g id=\"edge41\" class=\"edge\">\n<title>損壞&#45;加工&#45;&gt;損壞</title>\n<path fill=\"none\" stroke=\"#6c48d2\" stroke-dasharray=\"5,2\" d=\"M2043.3848,-434.9465C2003.0884,-435.5056 1935.9637,-430.2164 1880.1312,-415.4571 1873.7302,-413.765 1867.1969,-411.7172 1860.7057,-409.4253\"/>\n<polygon fill=\"#6c48d2\" stroke=\"#6c48d2\" points=\"1861.8385,-406.1125 1851.2456,-405.9059 1859.3976,-412.6732 1861.8385,-406.1125\"/>\n</g>\n<!-- 損壞&#45;保養&#45;&gt;損壞 -->\n<g id=\"edge43\" class=\"edge\">\n<title>損壞&#45;保養&#45;&gt;損壞</title>\n<path fill=\"none\" stroke=\"#6c48d2\" stroke-dasharray=\"5,2\" d=\"M2045.2474,-327.0608C2038.6585,-325.1477 2031.7442,-323.4723 2025.1312,-322.4571 1961.433,-312.6782 1943.0414,-308.4789 1880.1312,-322.4571 1874.4344,-323.7229 1868.6742,-325.3715 1862.9578,-327.2858\"/>\n<polygon fill=\"#6c48d2\" stroke=\"#6c48d2\" points=\"1861.6144,-324.0496 1853.3974,-330.7378 1863.9917,-330.6336 1861.6144,-324.0496\"/>\n<text text-anchor=\"middle\" x=\"1952.6312\" y=\"-327.6571\" font-family=\"Arial\" font-size=\"16.00\" fill=\"#000000\">p = 1.0 &#160;reward =&#45;15</text>\n</g>\n<!-- 損壞&#45;保養&#45;&gt;損壞 -->\n<g id=\"edge44\" class=\"edge\">\n<title>損壞&#45;保養&#45;&gt;損壞</title>\n<path fill=\"none\" stroke=\"#6c48d2\" stroke-dasharray=\"5,2\" d=\"M2043.6972,-347.3172C2001.4841,-353.3595 1929.5528,-360.5254 1872.398,-364.7175\"/>\n<polygon fill=\"#6c48d2\" stroke=\"#6c48d2\" points=\"1871.9981,-361.237 1862.2724,-365.4395 1872.4961,-368.2193 1871.9981,-361.237\"/>\n</g>\n</g>\n</svg>\n"
          },
          "metadata": {}
        },
        {
          "output_type": "stream",
          "name": "stdout",
          "text": [
            "\n",
            "Final state values: {'健康': 59.996668002796476, '可用': 59.26496068572331, '耗損': 55.436026505970545, '損壞': -149.9916700069912}\n"
          ]
        }
      ]
    },
    {
      "cell_type": "code",
      "source": [
        "# 最佳策略\n",
        "print(\"健康:\", get_optimal_action(mdp, state_values, '健康', gamma=0.9))\n",
        "print(\"可用:\", get_optimal_action(mdp, state_values, '可用', gamma=0.9))\n",
        "print(\"耗損:\", get_optimal_action(mdp, state_values, '耗損', gamma=0.9))\n",
        "print(\"損壞:\", get_optimal_action(mdp, state_values, '損壞', gamma=0.9))"
      ],
      "metadata": {
        "colab": {
          "base_uri": "https://localhost:8080/"
        },
        "id": "Bat3aO_AWXiy",
        "outputId": "0a776a5d-c0fd-400a-8280-05b714d36c37"
      },
      "execution_count": 8,
      "outputs": [
        {
          "output_type": "stream",
          "name": "stdout",
          "text": [
            "健康: 保養\n",
            "可用: 保養\n",
            "耗損: 保養\n",
            "損壞: 加工\n"
          ]
        }
      ]
    },
    {
      "cell_type": "markdown",
      "metadata": {
        "id": "jGcMWGXlNBbH"
      },
      "source": [
        "###**(c) (10%) 使用策略迭代來決定最佳策略以及各個狀態的價值，假設初始策略為在所有狀態皆採取行動「加工」**\n"
      ]
    },
    {
      "cell_type": "code",
      "source": [
        "# Evaluation\n",
        "def compute_vpi(mdp, policy, gamma, num_iter=1000, min_difference=1e-5):\n",
        "    \"\"\"\n",
        "    Computes V^pi(s) FOR ALL STATES under given policy.\n",
        "    :param policy: a dict of currently chosen actions {s : a}\n",
        "    :returns: a dict {state : V^pi(state) for all states}\n",
        "    \"\"\"\n",
        "    index_s = {i: s for i, s in enumerate(mdp.get_all_states())}\n",
        "    s_index = {s: i for i, s in enumerate(mdp.get_all_states())}\n",
        "    \n",
        "    ns = len(mdp.get_all_states())\n",
        "    a, b = np.zeros((ns, ns)), np.zeros(ns)\n",
        "    for i in range(ns):\n",
        "        b_v = 0\n",
        "        state = index_s[i]\n",
        "        a[i][i] = 1 - mdp.get_transition_prob(state, policy[state], state) * gamma\n",
        "        for s_prime in mdp.get_next_states(state, policy[state]):\n",
        "            if s_prime == state: continue\n",
        "            a[i][s_index[s_prime]] = \\\n",
        "                -mdp.get_transition_prob(state, policy[state], s_prime) * gamma\n",
        "            b_v += mdp.get_transition_prob(state, policy[state], s_prime) *\\\n",
        "                mdp.get_reward(s_prime)\n",
        "        b[i] = b_v\n",
        "\n",
        "    solution = np.linalg.solve(a, b)\n",
        "    return {index_s[i]: v for i, v in enumerate(solution)}\n",
        "\n",
        "# Improvement\n",
        "def compute_new_policy(mdp, vpi, gamma):\n",
        "    \"\"\"\n",
        "    Computes new policy as argmax of state values\n",
        "    :param vpi: a dict {state : V^pi(state) for all states}\n",
        "    :returns: a dict {state : optimal action for all states}\n",
        "    \"\"\"\n",
        "    return {state: get_optimal_action(mdp, vpi, state, gamma) for state in mdp.get_all_states()}"
      ],
      "metadata": {
        "id": "_5gAbxx2y6KW"
      },
      "execution_count": 9,
      "outputs": []
    },
    {
      "cell_type": "code",
      "source": [
        "def policy_iteration(mdp, policy=None, gamma = 0.9, num_iter = 1000, min_difference = 1e-5):\n",
        "    \"\"\" \n",
        "    Run the policy iteration loop for num_iter iterations or till difference between V(s) is below min_difference.\n",
        "    If policy is not given, initialize it at random.\n",
        "    \"\"\"\n",
        "    if policy == None:\n",
        "        policy = {s: np.random.choice(mdp.get_possible_actions(s)) for s in mdp.get_all_states()}\n",
        "    assert type(policy) is dict, 'policy must be type dict'\n",
        "    vpi = {state: 0.0 for state in mdp.get_all_states()}\n",
        "    policy_stable = False\n",
        "    while not policy_stable:\n",
        "        print(\"====================== Policy Evaluation ======================\")\n",
        "        for i in range(num_iter):\n",
        "            new_vpi = compute_vpi(mdp, policy, gamma)\n",
        "            diff = max(abs(new_vpi[s]-vpi[s]) for s in mdp.get_all_states())\n",
        "            vpi = new_vpi\n",
        "            print('iter: {}, diff: {}'.format(i, diff))\n",
        "            if diff < min_difference:\n",
        "                break\n",
        "\n",
        "        print(\"====================== Policy Improvement ======================\")\n",
        "        old_policy = policy\n",
        "        policy = compute_new_policy(mdp, new_vpi, gamma)\n",
        "        policy_stable = old_policy == policy\n",
        "        if not policy_stable:\n",
        "            print(\"Policy is not stable yet, go back to Policy Evaluation\")\n",
        "        else:\n",
        "            print(\"Policy is stable :D\")\n",
        "            print(\"Optimal Q value:\", vpi)\n",
        "            print(\"Optimal Policy:\", policy)\n",
        "\n",
        "    return vpi, policy"
      ],
      "metadata": {
        "id": "nGbjheAVzBpt"
      },
      "execution_count": 10,
      "outputs": []
    },
    {
      "cell_type": "markdown",
      "source": [
        "#### **初始策略為「加工」**"
      ],
      "metadata": {
        "id": "mdVwbBFuy13_"
      }
    },
    {
      "cell_type": "code",
      "source": [
        "process_policy = {s: '加工' for s in mdp.get_all_states()}\n",
        "vpi_process, policy_process = policy_iteration(mdp, policy=process_policy, gamma=0.5, num_iter=1000, min_difference=1e-5)\n",
        "\n",
        "if has_graphviz:\n",
        "    display(plot_graph_with_state_values(mdp, vpi_process))"
      ],
      "metadata": {
        "colab": {
          "base_uri": "https://localhost:8080/",
          "height": 777
        },
        "id": "18-P99UJ7nA7",
        "outputId": "7ee74168-1676-4769-fd55-25fd618581a8"
      },
      "execution_count": 11,
      "outputs": [
        {
          "output_type": "stream",
          "name": "stdout",
          "text": [
            "====================== Policy Evaluation ======================\n",
            "iter: 0, diff: 7.826086956521738\n",
            "iter: 1, diff: 0.0\n",
            "====================== Policy Improvement ======================\n",
            "Policy is not stable yet, go back to Policy Evaluation\n",
            "====================== Policy Evaluation ======================\n",
            "iter: 0, diff: 12.571184995737426\n",
            "iter: 1, diff: 0.0\n",
            "====================== Policy Improvement ======================\n",
            "Policy is stable :D\n",
            "Optimal Q value: {'健康': 0.0, '可用': 5.333333333333334, '耗損': 4.745098039215686, '損壞': 0.0}\n",
            "Optimal Policy: {'健康': '保養', '可用': '保養', '耗損': '保養', '損壞': '加工'}\n"
          ]
        },
        {
          "output_type": "display_data",
          "data": {
            "text/plain": [
              "<graphviz.dot.Digraph at 0x7f3a03675af0>"
            ],
            "image/svg+xml": "<?xml version=\"1.0\" encoding=\"UTF-8\" standalone=\"no\"?>\n<!DOCTYPE svg PUBLIC \"-//W3C//DTD SVG 1.1//EN\"\n \"http://www.w3.org/Graphics/SVG/1.1/DTD/svg11.dtd\">\n<!-- Generated by graphviz version 2.40.1 (20161225.0304)\n -->\n<!-- Title: MDP Pages: 1 -->\n<svg width=\"1440pt\" height=\"386pt\"\n viewBox=\"0.00 0.00 1440.00 386.21\" xmlns=\"http://www.w3.org/2000/svg\" xmlns:xlink=\"http://www.w3.org/1999/xlink\">\n<g id=\"graph0\" class=\"graph\" transform=\"scale(.6916 .6916) rotate(0) translate(4 554.4571)\">\n<title>MDP</title>\n<polygon fill=\"#ffffff\" stroke=\"transparent\" points=\"-4,4 -4,-554.4571 2078.2439,-554.4571 2078.2439,4 -4,4\"/>\n<!-- 健康 -->\n<g id=\"node1\" class=\"node\">\n<title>健康</title>\n<ellipse fill=\"#ded6f5\" stroke=\"#ded6f5\" cx=\"65.5183\" cy=\"-175.4571\" rx=\"61.5355\" ry=\"61.5355\"/>\n<ellipse fill=\"none\" stroke=\"#ded6f5\" cx=\"65.5183\" cy=\"-175.4571\" rx=\"65.5366\" ry=\"65.5366\"/>\n<text text-anchor=\"middle\" x=\"65.5183\" y=\"-182.2571\" font-family=\"Arial\" font-size=\"24.00\" fill=\"#000000\">健康</text>\n<text text-anchor=\"middle\" x=\"65.5183\" y=\"-156.2571\" font-family=\"Arial\" font-size=\"24.00\" fill=\"#000000\">V =0.0</text>\n</g>\n<!-- 健康&#45;加工 -->\n<g id=\"node2\" class=\"node\">\n<title>健康&#45;加工</title>\n<ellipse fill=\"#f5d6ed\" stroke=\"#f5d6ed\" cx=\"333.099\" cy=\"-297.4571\" rx=\"36.125\" ry=\"36.125\"/>\n<text text-anchor=\"middle\" x=\"333.099\" y=\"-292.4571\" font-family=\"Arial\" font-size=\"20.00\" fill=\"#000000\">加工</text>\n</g>\n<!-- 健康&#45;&gt;健康&#45;加工 -->\n<g id=\"edge1\" class=\"edge\">\n<title>健康&#45;&gt;健康&#45;加工</title>\n<path fill=\"none\" stroke=\"#d248af\" stroke-width=\"2\" d=\"M107.5908,-225.9389C119.5584,-238.6743 133.591,-251.0659 149.0366,-259.4571 191.9607,-282.7768 248.289,-288.6758 287.273,-291.4391\"/>\n<polygon fill=\"#d248af\" stroke=\"#d248af\" stroke-width=\"2\" points=\"287.0735,-294.9335 297.2865,-292.115 287.545,-287.9494 287.0735,-294.9335\"/>\n</g>\n<!-- 健康&#45;保養 -->\n<g id=\"node6\" class=\"node\">\n<title>健康&#45;保養</title>\n<ellipse fill=\"#f5d6ed\" stroke=\"#f5d6ed\" cx=\"333.099\" cy=\"-196.4571\" rx=\"36.125\" ry=\"36.125\"/>\n<text text-anchor=\"middle\" x=\"333.099\" y=\"-191.4571\" font-family=\"Arial\" font-size=\"20.00\" fill=\"#000000\">保養</text>\n</g>\n<!-- 健康&#45;&gt;健康&#45;保養 -->\n<g id=\"edge10\" class=\"edge\">\n<title>健康&#45;&gt;健康&#45;保養</title>\n<path fill=\"none\" stroke=\"#d248af\" stroke-width=\"2\" d=\"M131.3186,-174.7148C179.7805,-177.201 244.452,-182.5017 287.3712,-187.6375\"/>\n<polygon fill=\"#d248af\" stroke=\"#d248af\" stroke-width=\"2\" points=\"287.1665,-191.1389 297.5226,-188.9028 288.0324,-184.1927 287.1665,-191.1389\"/>\n</g>\n<!-- 健康&#45;加工&#45;&gt;健康 -->\n<g id=\"edge2\" class=\"edge\">\n<title>健康&#45;加工&#45;&gt;健康</title>\n<path fill=\"none\" stroke=\"#6c48d2\" stroke-dasharray=\"5,2\" d=\"M309.302,-270.2959C300.5297,-261.6428 290.0304,-252.7047 279.0366,-246.4571 226.8085,-216.7769 205.8296,-229.0337 149.0366,-209.4571 144.5548,-207.9122 139.9647,-206.2571 135.3547,-204.5395\"/>\n<polygon fill=\"#6c48d2\" stroke=\"#6c48d2\" points=\"136.4833,-201.2242 125.8922,-200.9412 133.9952,-207.7671 136.4833,-201.2242\"/>\n<text text-anchor=\"middle\" x=\"214.0366\" y=\"-251.6571\" font-family=\"Arial\" font-size=\"16.00\" fill=\"#000000\">p = 0.7 &#160;reward =6</text>\n</g>\n<!-- 健康&#45;加工&#45;&gt;健康 -->\n<g id=\"edge3\" class=\"edge\">\n<title>健康&#45;加工&#45;&gt;健康</title>\n<path fill=\"none\" stroke=\"#6c48d2\" stroke-dasharray=\"5,2\" d=\"M297.6399,-305.3184C258.8443,-307.6195 195.9386,-302.9378 149.0366,-277.4571 132.4648,-268.4541 117.5195,-254.8459 105.0061,-240.4447\"/>\n<polygon fill=\"#6c48d2\" stroke=\"#6c48d2\" points=\"107.3928,-237.8406 98.3095,-232.3867 102.0092,-242.3146 107.3928,-237.8406\"/>\n</g>\n<!-- 可用 -->\n<g id=\"node3\" class=\"node\">\n<title>可用</title>\n<ellipse fill=\"#ded6f5\" stroke=\"#ded6f5\" cx=\"610.5793\" cy=\"-264.4571\" rx=\"71.34\" ry=\"71.34\"/>\n<ellipse fill=\"none\" stroke=\"#ded6f5\" cx=\"610.5793\" cy=\"-264.4571\" rx=\"75.3357\" ry=\"75.3357\"/>\n<text text-anchor=\"middle\" x=\"610.5793\" y=\"-271.2571\" font-family=\"Arial\" font-size=\"24.00\" fill=\"#000000\">可用</text>\n<text text-anchor=\"middle\" x=\"610.5793\" y=\"-245.2571\" font-family=\"Arial\" font-size=\"24.00\" fill=\"#000000\">V =5.33</text>\n</g>\n<!-- 健康&#45;加工&#45;&gt;可用 -->\n<g id=\"edge4\" class=\"edge\">\n<title>健康&#45;加工&#45;&gt;可用</title>\n<path fill=\"none\" stroke=\"#6c48d2\" stroke-dasharray=\"5,2\" d=\"M362.4112,-276.3377C370.1066,-271.8762 378.6458,-267.809 387.1615,-265.4571 431.7264,-253.1492 483.2261,-252.0857 525.5418,-254.4639\"/>\n<polygon fill=\"#6c48d2\" stroke=\"#6c48d2\" points=\"525.3319,-257.9576 535.5336,-255.0983 525.7755,-250.9716 525.3319,-257.9576\"/>\n<text text-anchor=\"middle\" x=\"452.1615\" y=\"-270.6571\" font-family=\"Arial\" font-size=\"16.00\" fill=\"#000000\">p = 0.2 &#160;reward =3</text>\n</g>\n<!-- 健康&#45;加工&#45;&gt;可用 -->\n<g id=\"edge5\" class=\"edge\">\n<title>健康&#45;加工&#45;&gt;可用</title>\n<path fill=\"none\" stroke=\"#6c48d2\" stroke-dasharray=\"5,2\" d=\"M369.2159,-296.0424C406.4317,-294.273 466.0574,-290.5693 517.1615,-283.4571 520.358,-283.0123 523.6096,-282.5249 526.8893,-282.0042\"/>\n<polygon fill=\"#6c48d2\" stroke=\"#6c48d2\" points=\"527.4993,-285.4509 536.7858,-280.3507 526.3457,-278.5466 527.4993,-285.4509\"/>\n</g>\n<!-- 耗損 -->\n<g id=\"node4\" class=\"node\">\n<title>耗損</title>\n<ellipse fill=\"#ded6f5\" stroke=\"#ded6f5\" cx=\"1180.5397\" cy=\"-303.4571\" rx=\"71.34\" ry=\"71.34\"/>\n<ellipse fill=\"none\" stroke=\"#ded6f5\" cx=\"1180.5397\" cy=\"-303.4571\" rx=\"75.3357\" ry=\"75.3357\"/>\n<text text-anchor=\"middle\" x=\"1180.5397\" y=\"-310.2571\" font-family=\"Arial\" font-size=\"24.00\" fill=\"#000000\">耗損</text>\n<text text-anchor=\"middle\" x=\"1180.5397\" y=\"-284.2571\" font-family=\"Arial\" font-size=\"24.00\" fill=\"#000000\">V =4.74</text>\n</g>\n<!-- 健康&#45;加工&#45;&gt;耗損 -->\n<g id=\"edge6\" class=\"edge\">\n<title>健康&#45;加工&#45;&gt;耗損</title>\n<path fill=\"none\" stroke=\"#6c48d2\" stroke-dasharray=\"5,2\" d=\"M336.5203,-333.3656C341.6863,-365.3713 354.6479,-410.4538 387.1615,-432.4571 451.5718,-476.0463 1017.8528,-467.8194 1087.1219,-432.4571 1109.7416,-420.9096 1128.1552,-401.0434 1142.4692,-380.3139\"/>\n<polygon fill=\"#6c48d2\" stroke=\"#6c48d2\" points=\"1145.5579,-381.9883 1148.1524,-371.716 1139.7183,-378.1283 1145.5579,-381.9883\"/>\n<text text-anchor=\"middle\" x=\"768.997\" y=\"-466.6571\" font-family=\"Arial\" font-size=\"16.00\" fill=\"#000000\">p = 0.1 &#160;reward =1</text>\n</g>\n<!-- 健康&#45;加工&#45;&gt;耗損 -->\n<g id=\"edge7\" class=\"edge\">\n<title>健康&#45;加工&#45;&gt;耗損</title>\n<path fill=\"none\" stroke=\"#6c48d2\" stroke-dasharray=\"5,2\" d=\"M367.3561,-309.0592C432.1784,-330.4167 577.62,-375.5013 703.997,-394.4571 808.7518,-410.1697 836.2187,-402.2344 942.1219,-404.4571 1006.5522,-405.8094 1028.075,-430.2746 1087.1219,-404.4571 1103.3123,-397.3781 1117.9467,-385.9557 1130.5724,-373.2915\"/>\n<polygon fill=\"#6c48d2\" stroke=\"#6c48d2\" points=\"1133.4202,-375.3755 1137.7706,-365.715 1128.3454,-370.5541 1133.4202,-375.3755\"/>\n</g>\n<!-- 損壞 -->\n<g id=\"node5\" class=\"node\">\n<title>損壞</title>\n<ellipse fill=\"#ded6f5\" stroke=\"#ded6f5\" cx=\"1755.6007\" cy=\"-366.4571\" rx=\"61.5355\" ry=\"61.5355\"/>\n<ellipse fill=\"none\" stroke=\"#ded6f5\" cx=\"1755.6007\" cy=\"-366.4571\" rx=\"65.5366\" ry=\"65.5366\"/>\n<text text-anchor=\"middle\" x=\"1755.6007\" y=\"-373.2571\" font-family=\"Arial\" font-size=\"24.00\" fill=\"#000000\">損壞</text>\n<text text-anchor=\"middle\" x=\"1755.6007\" y=\"-347.2571\" font-family=\"Arial\" font-size=\"24.00\" fill=\"#000000\">V =0.0</text>\n</g>\n<!-- 健康&#45;加工&#45;&gt;損壞 -->\n<g id=\"edge8\" class=\"edge\">\n<title>健康&#45;加工&#45;&gt;損壞</title>\n<path fill=\"none\" stroke=\"#6c48d2\" stroke-dasharray=\"5,2\" d=\"M337.3982,-333.6197C344.6155,-387.7207 361.0003,-485.8116 387.1615,-508.4571 462.6698,-573.8186 510.7112,-532.4571 610.5793,-532.4571 610.5793,-532.4571 610.5793,-532.4571 1473.0199,-532.4571 1562.1328,-532.4571 1597.5212,-557.2602 1672.0824,-508.4571 1697.6631,-491.7136 1716.4429,-464.1939 1729.6411,-437.817\"/>\n<polygon fill=\"#6c48d2\" stroke=\"#6c48d2\" points=\"1732.9145,-439.0851 1734.0787,-428.5544 1726.6016,-436.0606 1732.9145,-439.0851\"/>\n<text text-anchor=\"middle\" x=\"1014.6219\" y=\"-537.6571\" font-family=\"Arial\" font-size=\"16.00\" fill=\"#000000\">p = 0.0 &#160;reward =&#45;15</text>\n</g>\n<!-- 健康&#45;加工&#45;&gt;損壞 -->\n<g id=\"edge9\" class=\"edge\">\n<title>健康&#45;加工&#45;&gt;損壞</title>\n<path fill=\"none\" stroke=\"#6c48d2\" stroke-dasharray=\"5,2\" d=\"M340.6198,-332.9233C350.2523,-374.8997 368.0051,-441.1729 387.1615,-457.4571 463.8474,-522.6456 509.93,-494.4571 610.5793,-494.4571 610.5793,-494.4571 610.5793,-494.4571 1473.0199,-494.4571 1555.1994,-494.4571 1639.8055,-448.983 1694.7498,-412.2437\"/>\n<polygon fill=\"#6c48d2\" stroke=\"#6c48d2\" points=\"1697.0027,-414.9446 1703.3085,-406.4306 1693.0696,-409.154 1697.0027,-414.9446\"/>\n</g>\n<!-- 可用&#45;加工 -->\n<g id=\"node7\" class=\"node\">\n<title>可用&#45;加工</title>\n<ellipse fill=\"#f5d6ed\" stroke=\"#f5d6ed\" cx=\"888.0595\" cy=\"-278.4571\" rx=\"36.125\" ry=\"36.125\"/>\n<text text-anchor=\"middle\" x=\"888.0595\" y=\"-273.4571\" font-family=\"Arial\" font-size=\"20.00\" fill=\"#000000\">加工</text>\n</g>\n<!-- 可用&#45;&gt;可用&#45;加工 -->\n<g id=\"edge13\" class=\"edge\">\n<title>可用&#45;&gt;可用&#45;加工</title>\n<path fill=\"none\" stroke=\"#d248af\" stroke-width=\"2\" d=\"M686.0354,-262.1816C735.9987,-263.5715 799.8973,-267.1018 842.3104,-270.9855\"/>\n<polygon fill=\"#d248af\" stroke=\"#d248af\" stroke-width=\"2\" points=\"842.0539,-274.4769 852.3436,-271.9524 842.7254,-267.5092 842.0539,-274.4769\"/>\n</g>\n<!-- 可用&#45;保養 -->\n<g id=\"node8\" class=\"node\">\n<title>可用&#45;保養</title>\n<ellipse fill=\"#f5d6ed\" stroke=\"#f5d6ed\" cx=\"888.0595\" cy=\"-150.4571\" rx=\"36.125\" ry=\"36.125\"/>\n<text text-anchor=\"middle\" x=\"888.0595\" y=\"-145.4571\" font-family=\"Arial\" font-size=\"20.00\" fill=\"#000000\">保養</text>\n</g>\n<!-- 可用&#45;&gt;可用&#45;保養 -->\n<g id=\"edge20\" class=\"edge\">\n<title>可用&#45;&gt;可用&#45;保養</title>\n<path fill=\"none\" stroke=\"#d248af\" stroke-width=\"2\" d=\"M674.2322,-223.7675C684.1177,-219.0524 694.2748,-214.5047 703.997,-210.4571 760.5776,-186.9011 776.8823,-186.6866 833.997,-164.4571 836.8977,-163.3282 839.8749,-162.1416 842.8694,-160.9423\"/>\n<polygon fill=\"#d248af\" stroke=\"#d248af\" stroke-width=\"2\" points=\"844.4331,-164.0865 852.4189,-157.1239 841.8342,-157.5869 844.4331,-164.0865\"/>\n</g>\n<!-- 耗損&#45;加工 -->\n<g id=\"node9\" class=\"node\">\n<title>耗損&#45;加工</title>\n<ellipse fill=\"#f5d6ed\" stroke=\"#f5d6ed\" cx=\"1473.0199\" cy=\"-367.4571\" rx=\"36.125\" ry=\"36.125\"/>\n<text text-anchor=\"middle\" x=\"1473.0199\" y=\"-362.4571\" font-family=\"Arial\" font-size=\"20.00\" fill=\"#000000\">加工</text>\n</g>\n<!-- 耗損&#45;&gt;耗損&#45;加工 -->\n<g id=\"edge25\" class=\"edge\">\n<title>耗損&#45;&gt;耗損&#45;加工</title>\n<path fill=\"none\" stroke=\"#d248af\" stroke-width=\"2\" d=\"M1251.927,-328.3803C1259.2632,-331.0471 1266.6914,-333.4907 1273.9575,-335.4571 1325.393,-349.3773 1386.5389,-354.8738 1427.363,-358.971\"/>\n<polygon fill=\"#d248af\" stroke=\"#d248af\" stroke-width=\"2\" points=\"1427.2377,-362.4764 1437.5424,-360.0138 1427.9511,-355.5128 1427.2377,-362.4764\"/>\n</g>\n<!-- 耗損&#45;保養 -->\n<g id=\"node10\" class=\"node\">\n<title>耗損&#45;保養</title>\n<ellipse fill=\"#f5d6ed\" stroke=\"#f5d6ed\" cx=\"1473.0199\" cy=\"-98.4571\" rx=\"36.125\" ry=\"36.125\"/>\n<text text-anchor=\"middle\" x=\"1473.0199\" y=\"-93.4571\" font-family=\"Arial\" font-size=\"20.00\" fill=\"#000000\">保養</text>\n</g>\n<!-- 耗損&#45;&gt;耗損&#45;保養 -->\n<g id=\"edge32\" class=\"edge\">\n<title>耗損&#45;&gt;耗損&#45;保養</title>\n<path fill=\"none\" stroke=\"#d248af\" stroke-width=\"2\" d=\"M1254.9478,-291.1388C1315.5318,-283.5789 1394.8304,-272.3452 1418.9575,-251.4571 1435.8511,-236.8315 1451.5927,-183.2699 1461.6826,-143.5284\"/>\n<polygon fill=\"#d248af\" stroke=\"#d248af\" stroke-width=\"2\" points=\"1465.0962,-144.3046 1464.1233,-133.7545 1458.3047,-142.6086 1465.0962,-144.3046\"/>\n</g>\n<!-- 損壞&#45;加工 -->\n<g id=\"node11\" class=\"node\">\n<title>損壞&#45;加工</title>\n<ellipse fill=\"#f5d6ed\" stroke=\"#f5d6ed\" cx=\"2038.1814\" cy=\"-429.4571\" rx=\"36.125\" ry=\"36.125\"/>\n<text text-anchor=\"middle\" x=\"2038.1814\" y=\"-424.4571\" font-family=\"Arial\" font-size=\"20.00\" fill=\"#000000\">加工</text>\n</g>\n<!-- 損壞&#45;&gt;損壞&#45;加工 -->\n<g id=\"edge39\" class=\"edge\">\n<title>損壞&#45;&gt;損壞&#45;加工</title>\n<path fill=\"none\" stroke=\"#d248af\" stroke-width=\"2\" d=\"M1817.1903,-389.7754C1824.4495,-392.6892 1831.8589,-395.3628 1839.119,-397.4571 1890.3172,-412.2262 1951.5097,-417.5557 1992.4097,-421.3819\"/>\n<polygon fill=\"#d248af\" stroke=\"#d248af\" stroke-width=\"2\" points=\"1992.3227,-424.8893 2002.6093,-422.3521 1992.9857,-417.9208 1992.3227,-424.8893\"/>\n</g>\n<!-- 損壞&#45;保養 -->\n<g id=\"node12\" class=\"node\">\n<title>損壞&#45;保養</title>\n<ellipse fill=\"#f5d6ed\" stroke=\"#f5d6ed\" cx=\"2038.1814\" cy=\"-339.4571\" rx=\"36.125\" ry=\"36.125\"/>\n<text text-anchor=\"middle\" x=\"2038.1814\" y=\"-334.4571\" font-family=\"Arial\" font-size=\"20.00\" fill=\"#000000\">保養</text>\n</g>\n<!-- 損壞&#45;&gt;損壞&#45;保養 -->\n<g id=\"edge42\" class=\"edge\">\n<title>損壞&#45;&gt;損壞&#45;保養</title>\n<path fill=\"none\" stroke=\"#d248af\" stroke-width=\"2\" d=\"M1820.0762,-354.5257C1872.4741,-348.0324 1945.1224,-341.2975 1991.8934,-338.7287\"/>\n<polygon fill=\"#d248af\" stroke=\"#d248af\" stroke-width=\"2\" points=\"1992.2294,-342.2163 2002.0413,-338.2192 1991.8784,-335.2251 1992.2294,-342.2163\"/>\n</g>\n<!-- 健康&#45;保養&#45;&gt;健康 -->\n<g id=\"edge11\" class=\"edge\">\n<title>健康&#45;保養&#45;&gt;健康</title>\n<path fill=\"none\" stroke=\"#6c48d2\" stroke-dasharray=\"5,2\" d=\"M305.6025,-173.0035C297.5479,-167.4728 288.3807,-162.3485 279.0366,-159.4571 233.8318,-145.4693 180.7897,-149.3483 138.8814,-156.7843\"/>\n<polygon fill=\"#6c48d2\" stroke=\"#6c48d2\" points=\"138.2094,-153.3492 129.0267,-158.6339 139.5007,-160.2291 138.2094,-153.3492\"/>\n<text text-anchor=\"middle\" x=\"214.0366\" y=\"-164.6571\" font-family=\"Arial\" font-size=\"16.00\" fill=\"#000000\">p = 1.0 &#160;reward =6</text>\n</g>\n<!-- 健康&#45;保養&#45;&gt;健康 -->\n<g id=\"edge12\" class=\"edge\">\n<title>健康&#45;保養&#45;&gt;健康</title>\n<path fill=\"none\" stroke=\"#6c48d2\" stroke-dasharray=\"5,2\" d=\"M296.8641,-198.4094C256.8757,-197.308 191.4124,-192.6147 140.3094,-187.4559\"/>\n<polygon fill=\"#6c48d2\" stroke=\"#6c48d2\" points=\"140.5994,-183.9673 130.2921,-186.4189 139.8785,-190.9301 140.5994,-183.9673\"/>\n</g>\n<!-- 可用&#45;加工&#45;&gt;可用 -->\n<g id=\"edge14\" class=\"edge\">\n<title>可用&#45;加工&#45;&gt;可用</title>\n<path fill=\"none\" stroke=\"#6c48d2\" stroke-dasharray=\"5,2\" d=\"M852.0459,-283.0146C846.0284,-283.615 839.8431,-284.1337 833.997,-284.4571 776.3075,-287.6486 761.4539,-290.5387 703.997,-284.4571 700.7395,-284.1123 697.4286,-283.7017 694.092,-283.2374\"/>\n<polygon fill=\"#6c48d2\" stroke=\"#6c48d2\" points=\"694.4471,-279.7511 684.0323,-281.696 693.3868,-286.6703 694.4471,-279.7511\"/>\n<text text-anchor=\"middle\" x=\"768.997\" y=\"-292.6571\" font-family=\"Arial\" font-size=\"16.00\" fill=\"#000000\">p = 0.6 &#160;reward =3</text>\n</g>\n<!-- 可用&#45;加工&#45;&gt;可用 -->\n<g id=\"edge15\" class=\"edge\">\n<title>可用&#45;加工&#45;&gt;可用</title>\n<path fill=\"none\" stroke=\"#6c48d2\" stroke-dasharray=\"5,2\" d=\"M851.8728,-281.3581C812.5303,-281.3685 748.276,-278.646 695.9621,-275.0502\"/>\n<polygon fill=\"#6c48d2\" stroke=\"#6c48d2\" points=\"695.8921,-271.5365 685.6694,-274.32 695.3966,-278.519 695.8921,-271.5365\"/>\n</g>\n<!-- 可用&#45;加工&#45;&gt;耗損 -->\n<g id=\"edge16\" class=\"edge\">\n<title>可用&#45;加工&#45;&gt;耗損</title>\n<path fill=\"none\" stroke=\"#6c48d2\" stroke-dasharray=\"5,2\" d=\"M923.7792,-284.1328C929.8884,-284.9917 936.18,-285.8066 942.1219,-286.4571 992.6483,-291.9888 1049.4048,-296.1188 1094.8628,-298.9221\"/>\n<polygon fill=\"#6c48d2\" stroke=\"#6c48d2\" points=\"1094.7818,-302.4236 1104.9754,-299.5354 1095.2056,-295.4364 1094.7818,-302.4236\"/>\n<text text-anchor=\"middle\" x=\"1014.6219\" y=\"-302.6571\" font-family=\"Arial\" font-size=\"16.00\" fill=\"#000000\">p = 0.3 &#160;reward =1</text>\n</g>\n<!-- 可用&#45;加工&#45;&gt;耗損 -->\n<g id=\"edge17\" class=\"edge\">\n<title>可用&#45;加工&#45;&gt;耗損</title>\n<path fill=\"none\" stroke=\"#6c48d2\" stroke-dasharray=\"5,2\" d=\"M924.4639,-279.4469C964.4381,-280.7716 1030.4807,-283.6607 1087.1219,-289.4571 1089.9897,-289.7506 1092.904,-290.0698 1095.8451,-290.4097\"/>\n<polygon fill=\"#6c48d2\" stroke=\"#6c48d2\" points=\"1095.5684,-293.9018 1105.9186,-291.6386 1096.4161,-286.9533 1095.5684,-293.9018\"/>\n</g>\n<!-- 可用&#45;加工&#45;&gt;損壞 -->\n<g id=\"edge18\" class=\"edge\">\n<title>可用&#45;加工&#45;&gt;損壞</title>\n<path fill=\"none\" stroke=\"#6c48d2\" stroke-dasharray=\"5,2\" d=\"M921.6553,-264.4833C1006.0868,-231.2695 1233.6518,-153.5548 1418.9575,-197.4571 1521.2702,-221.6969 1627.8561,-282.1509 1692.9905,-323.7689\"/>\n<polygon fill=\"#6c48d2\" stroke=\"#6c48d2\" points=\"1691.2066,-326.7831 1701.5089,-329.2557 1694.9972,-320.8982 1691.2066,-326.7831\"/>\n<text text-anchor=\"middle\" x=\"1346.4575\" y=\"-202.6571\" font-family=\"Arial\" font-size=\"16.00\" fill=\"#000000\">p = 0.1 &#160;reward =&#45;15</text>\n</g>\n<!-- 可用&#45;加工&#45;&gt;損壞 -->\n<g id=\"edge19\" class=\"edge\">\n<title>可用&#45;加工&#45;&gt;損壞</title>\n<path fill=\"none\" stroke=\"#6c48d2\" stroke-dasharray=\"5,2\" d=\"M909.5682,-249.1954C923.6162,-230.2551 939.7786,-208.8589 942.1219,-207.4571 1124.3054,-98.4751 1207.6959,-158.5665 1418.9575,-179.4571 1461.5518,-183.669 1657.9172,-220.5587 1672.0824,-230.4571 1695.5468,-246.8538 1713.6746,-272.1658 1726.9515,-296.5268\"/>\n<polygon fill=\"#6c48d2\" stroke=\"#6c48d2\" points=\"1723.8815,-298.2089 1731.6245,-305.4407 1730.0813,-294.9588 1723.8815,-298.2089\"/>\n</g>\n<!-- 可用&#45;保養&#45;&gt;健康 -->\n<g id=\"edge21\" class=\"edge\">\n<title>可用&#45;保養&#45;&gt;健康</title>\n<path fill=\"none\" stroke=\"#6c48d2\" stroke-dasharray=\"5,2\" d=\"M853.4508,-139.3673C847.0457,-137.7415 840.3669,-136.3244 833.997,-135.4571 776.7475,-127.6622 761.7725,-134.9366 703.997,-135.4571 457.3179,-137.6794 391.6766,-100.9446 149.0366,-145.4571 144.8598,-146.2234 140.6143,-147.1724 136.3632,-148.2559\"/>\n<polygon fill=\"#6c48d2\" stroke=\"#6c48d2\" points=\"135.1623,-144.9569 126.4638,-151.0056 137.0357,-151.7015 135.1623,-144.9569\"/>\n<text text-anchor=\"middle\" x=\"452.1615\" y=\"-134.6571\" font-family=\"Arial\" font-size=\"16.00\" fill=\"#000000\">p = 0.8 &#160;reward =6</text>\n</g>\n<!-- 可用&#45;保養&#45;&gt;健康 -->\n<g id=\"edge22\" class=\"edge\">\n<title>可用&#45;保養&#45;&gt;健康</title>\n<path fill=\"none\" stroke=\"#6c48d2\" stroke-dasharray=\"5,2\" d=\"M855.5435,-134.306C848.5902,-131.5158 841.1739,-129.0149 833.997,-127.4571 600.7458,-76.8284 535.6852,-114.427 297.0366,-118.4571 231.2307,-119.5684 212.0025,-104.3013 149.0366,-123.4571 141.9589,-125.6103 134.8854,-128.5234 128.0173,-131.8777\"/>\n<polygon fill=\"#6c48d2\" stroke=\"#6c48d2\" points=\"126.04,-128.9618 118.798,-136.6951 129.2819,-135.1659 126.04,-128.9618\"/>\n</g>\n<!-- 可用&#45;保養&#45;&gt;可用 -->\n<g id=\"edge23\" class=\"edge\">\n<title>可用&#45;保養&#45;&gt;可用</title>\n<path fill=\"none\" stroke=\"#6c48d2\" stroke-dasharray=\"5,2\" d=\"M852.8816,-142.184C814.3322,-134.9833 751.6409,-128.8695 703.997,-151.4571 685.1208,-160.4062 668.7464,-175.231 655.2098,-191.2445\"/>\n<polygon fill=\"#6c48d2\" stroke=\"#6c48d2\" points=\"652.359,-189.2036 648.7939,-199.1807 657.8027,-193.6045 652.359,-189.2036\"/>\n<text text-anchor=\"middle\" x=\"768.997\" y=\"-156.6571\" font-family=\"Arial\" font-size=\"16.00\" fill=\"#000000\">p = 0.2 &#160;reward =3</text>\n</g>\n<!-- 可用&#45;保養&#45;&gt;可用 -->\n<g id=\"edge24\" class=\"edge\">\n<title>可用&#45;保養&#45;&gt;可用</title>\n<path fill=\"none\" stroke=\"#6c48d2\" stroke-dasharray=\"5,2\" d=\"M859.0158,-171.8639C850.9551,-175.6359 842.1716,-179.2755 833.997,-182.4571 776.8823,-204.6866 760.5776,-204.9011 703.997,-228.4571 699.6059,-230.2853 695.1261,-232.2154 690.6227,-234.1971\"/>\n<polygon fill=\"#6c48d2\" stroke=\"#6c48d2\" points=\"689.0765,-231.0542 681.3665,-238.321 691.9253,-237.4483 689.0765,-231.0542\"/>\n</g>\n<!-- 耗損&#45;加工&#45;&gt;可用 -->\n<g id=\"edge26\" class=\"edge\">\n<title>耗損&#45;加工&#45;&gt;可用</title>\n<path fill=\"none\" stroke=\"#6c48d2\" stroke-dasharray=\"5,2\" d=\"M1451.3402,-396.4172C1442.4726,-405.9446 1431.369,-415.3881 1418.9575,-420.4571 1289.8292,-473.1947 1244.1682,-431.4799 1105.1219,-420.4571 1015.1379,-413.3237 784.5578,-397.1752 703.997,-356.4571 690.4984,-349.6345 677.7137,-340.1557 666.1816,-329.8592\"/>\n<polygon fill=\"#6c48d2\" stroke=\"#6c48d2\" points=\"668.4988,-327.2347 658.7894,-322.9946 663.7355,-332.3641 668.4988,-327.2347\"/>\n<text text-anchor=\"middle\" x=\"1014.6219\" y=\"-423.6571\" font-family=\"Arial\" font-size=\"16.00\" fill=\"#000000\">p = 0.1 &#160;reward =3</text>\n</g>\n<!-- 耗損&#45;加工&#45;&gt;可用 -->\n<g id=\"edge27\" class=\"edge\">\n<title>耗損&#45;加工&#45;&gt;可用</title>\n<path fill=\"none\" stroke=\"#6c48d2\" stroke-dasharray=\"5,2\" d=\"M1437.6367,-374.6392C1431.4315,-375.7162 1425.0209,-376.7132 1418.9575,-377.4571 1346.9171,-386.2964 1328.5041,-385.2339 1255.9575,-387.4571 1008.3207,-395.0462 939.1355,-387.5052 703.997,-309.4571 698.4149,-307.6043 692.7361,-305.4914 687.076,-303.2151\"/>\n<polygon fill=\"#6c48d2\" stroke=\"#6c48d2\" points=\"688.165,-299.8768 677.5889,-299.2469 685.4638,-306.3346 688.165,-299.8768\"/>\n</g>\n<!-- 耗損&#45;加工&#45;&gt;耗損 -->\n<g id=\"edge28\" class=\"edge\">\n<title>耗損&#45;加工&#45;&gt;耗損</title>\n<path fill=\"none\" stroke=\"#6c48d2\" stroke-dasharray=\"5,2\" d=\"M1447.9701,-341.1697C1439.486,-333.8522 1429.4753,-326.7418 1418.9575,-322.4571 1391.9767,-311.4659 1322.9393,-306.8154 1266.0581,-304.8569\"/>\n<polygon fill=\"#6c48d2\" stroke=\"#6c48d2\" points=\"1266.0629,-301.3553 1255.9556,-304.5324 1265.8381,-308.3517 1266.0629,-301.3553\"/>\n<text text-anchor=\"middle\" x=\"1346.4575\" y=\"-327.6571\" font-family=\"Arial\" font-size=\"16.00\" fill=\"#000000\">p = 0.5 &#160;reward =1</text>\n</g>\n<!-- 耗損&#45;加工&#45;&gt;耗損 -->\n<g id=\"edge29\" class=\"edge\">\n<title>耗損&#45;加工&#45;&gt;耗損</title>\n<path fill=\"none\" stroke=\"#6c48d2\" stroke-dasharray=\"5,2\" d=\"M1437.1787,-373.0678C1396.8532,-373.7357 1329.7025,-368.5436 1273.9575,-353.4571 1267.4675,-351.7007 1260.8481,-349.5636 1254.2804,-347.1681\"/>\n<polygon fill=\"#6c48d2\" stroke=\"#6c48d2\" points=\"1255.3059,-343.8126 1244.7161,-343.4877 1252.7919,-350.3456 1255.3059,-343.8126\"/>\n</g>\n<!-- 耗損&#45;加工&#45;&gt;損壞 -->\n<g id=\"edge30\" class=\"edge\">\n<title>耗損&#45;加工&#45;&gt;損壞</title>\n<path fill=\"none\" stroke=\"#6c48d2\" stroke-dasharray=\"5,2\" d=\"M1509.096,-367.3295C1551.8878,-367.178 1624.3847,-366.9215 1679.7129,-366.7257\"/>\n<polygon fill=\"#6c48d2\" stroke=\"#6c48d2\" points=\"1679.8455,-370.2253 1689.8331,-366.6899 1679.8207,-363.2254 1679.8455,-370.2253\"/>\n<text text-anchor=\"middle\" x=\"1599.5824\" y=\"-371.6571\" font-family=\"Arial\" font-size=\"16.00\" fill=\"#000000\">p = 0.4 &#160;reward =&#45;15</text>\n</g>\n<!-- 耗損&#45;加工&#45;&gt;損壞 -->\n<g id=\"edge31\" class=\"edge\">\n<title>耗損&#45;加工&#45;&gt;損壞</title>\n<path fill=\"none\" stroke=\"#6c48d2\" stroke-dasharray=\"5,2\" d=\"M1509.0681,-365.1781C1515.0814,-364.8779 1521.2565,-364.6186 1527.0824,-364.4571 1578.0415,-363.0443 1635.4148,-363.5536 1679.9258,-364.4114\"/>\n<polygon fill=\"#6c48d2\" stroke=\"#6c48d2\" points=\"1680.0151,-367.9138 1690.0841,-364.6174 1680.1571,-360.9153 1680.0151,-367.9138\"/>\n</g>\n<!-- 耗損&#45;保養&#45;&gt;健康 -->\n<g id=\"edge33\" class=\"edge\">\n<title>耗損&#45;保養&#45;&gt;健康</title>\n<path fill=\"none\" stroke=\"#6c48d2\" stroke-dasharray=\"5,2\" d=\"M1438.819,-86.7461C1384.6907,-69.285 1275.6574,-38.4571 1180.5397,-38.4571 333.099,-38.4571 333.099,-38.4571 333.099,-38.4571 253.8357,-38.4571 174.4426,-86.6756 122.9712,-125.9001\"/>\n<polygon fill=\"#6c48d2\" stroke=\"#6c48d2\" points=\"120.7171,-123.2189 114.9544,-132.1095 125.0035,-128.7531 120.7171,-123.2189\"/>\n<text text-anchor=\"middle\" x=\"768.997\" y=\"-43.6571\" font-family=\"Arial\" font-size=\"16.00\" fill=\"#000000\">p = 0.2 &#160;reward =6</text>\n</g>\n<!-- 耗損&#45;保養&#45;&gt;健康 -->\n<g id=\"edge34\" class=\"edge\">\n<title>耗損&#45;保養&#45;&gt;健康</title>\n<path fill=\"none\" stroke=\"#6c48d2\" stroke-dasharray=\"5,2\" d=\"M1450.9741,-69.6216C1442.0668,-59.8665 1431.0317,-49.8388 1418.9575,-43.4571 1323.7629,6.8568 1288.2128,-.4571 1180.5397,-.4571 333.099,-.4571 333.099,-.4571 333.099,-.4571 249.1908,-.4571 217.4635,6.1056 149.0366,-42.4571 126.5603,-58.4086 108.8121,-82.5 95.5626,-105.8158\"/>\n<polygon fill=\"#6c48d2\" stroke=\"#6c48d2\" points=\"92.4338,-104.2425 90.7044,-114.6953 98.5747,-107.6025 92.4338,-104.2425\"/>\n</g>\n<!-- 耗損&#45;保養&#45;&gt;可用 -->\n<g id=\"edge35\" class=\"edge\">\n<title>耗損&#45;保養&#45;&gt;可用</title>\n<path fill=\"none\" stroke=\"#6c48d2\" stroke-dasharray=\"5,2\" d=\"M1436.8575,-99.7939C1318.8077,-104.2304 951.7222,-118.6276 942.1219,-126.4571 917.5613,-146.4876 946.8245,-173.3429 924.1219,-195.4571 894.6604,-224.1551 874.1318,-207.4706 833.997,-216.4571 787.9414,-226.7694 736.4438,-237.8628 694.5075,-246.7845\"/>\n<polygon fill=\"#6c48d2\" stroke=\"#6c48d2\" points=\"693.6678,-243.3847 684.6136,-248.8869 695.1227,-250.2319 693.6678,-243.3847\"/>\n<text text-anchor=\"middle\" x=\"1014.6219\" y=\"-131.6571\" font-family=\"Arial\" font-size=\"16.00\" fill=\"#000000\">p = 0.5 &#160;reward =3</text>\n</g>\n<!-- 耗損&#45;保養&#45;&gt;可用 -->\n<g id=\"edge36\" class=\"edge\">\n<title>耗損&#45;保養&#45;&gt;可用</title>\n<path fill=\"none\" stroke=\"#6c48d2\" stroke-dasharray=\"5,2\" d=\"M1436.747,-95.3699C1301.4023,-84.5453 827.351,-53.0535 703.997,-131.4571 682.0279,-145.4207 663.761,-166.5922 649.3811,-187.9633\"/>\n<polygon fill=\"#6c48d2\" stroke=\"#6c48d2\" points=\"646.3695,-186.1745 643.8604,-196.468 652.2409,-189.9859 646.3695,-186.1745\"/>\n</g>\n<!-- 耗損&#45;保養&#45;&gt;耗損 -->\n<g id=\"edge37\" class=\"edge\">\n<title>耗損&#45;保養&#45;&gt;耗損</title>\n<path fill=\"none\" stroke=\"#6c48d2\" stroke-dasharray=\"5,2\" d=\"M1466.8513,-134.0282C1460.0646,-161.8466 1446.2616,-199.1089 1418.9575,-219.4571 1366.8425,-258.2955 1334.5757,-215.0086 1273.9575,-238.4571 1265.2045,-241.843 1256.4835,-246.2102 1248.084,-251.078\"/>\n<polygon fill=\"#6c48d2\" stroke=\"#6c48d2\" points=\"1246.1926,-248.1317 1239.4594,-256.3118 1249.8242,-254.116 1246.1926,-248.1317\"/>\n<text text-anchor=\"middle\" x=\"1346.4575\" y=\"-243.6571\" font-family=\"Arial\" font-size=\"16.00\" fill=\"#000000\">p = 0.3 &#160;reward =1</text>\n</g>\n<!-- 耗損&#45;保養&#45;&gt;耗損 -->\n<g id=\"edge38\" class=\"edge\">\n<title>耗損&#45;保養&#45;&gt;耗損</title>\n<path fill=\"none\" stroke=\"#6c48d2\" stroke-dasharray=\"5,2\" d=\"M1466.8889,-134.0665C1457.6638,-178.9963 1439.132,-251.991 1418.9575,-269.4571 1396.3001,-289.0728 1324.9883,-300.1744 1266.2112,-304.61\"/>\n<polygon fill=\"#6c48d2\" stroke=\"#6c48d2\" points=\"1265.8796,-301.1246 1256.148,-305.3133 1266.3677,-308.1075 1265.8796,-301.1246\"/>\n</g>\n<!-- 損壞&#45;加工&#45;&gt;損壞 -->\n<g id=\"edge40\" class=\"edge\">\n<title>損壞&#45;加工&#45;&gt;損壞</title>\n<path fill=\"none\" stroke=\"#6c48d2\" stroke-dasharray=\"5,2\" d=\"M2013.1339,-403.1639C2004.65,-395.846 1994.6387,-388.737 1984.119,-384.4571 1957.268,-373.5331 1886.9731,-369.213 1831.3753,-367.5183\"/>\n<polygon fill=\"#6c48d2\" stroke=\"#6c48d2\" points=\"1831.2733,-364.0141 1821.1788,-367.2314 1831.0764,-371.0114 1831.2733,-364.0141\"/>\n<text text-anchor=\"middle\" x=\"1911.619\" y=\"-389.6571\" font-family=\"Arial\" font-size=\"16.00\" fill=\"#000000\">p = 1.0 &#160;reward =&#45;15</text>\n</g>\n<!-- 損壞&#45;加工&#45;&gt;損壞 -->\n<g id=\"edge41\" class=\"edge\">\n<title>損壞&#45;加工&#45;&gt;損壞</title>\n<path fill=\"none\" stroke=\"#6c48d2\" stroke-dasharray=\"5,2\" d=\"M2002.6093,-435.4C1962.239,-436.412 1894.7739,-431.5118 1839.119,-415.4571 1832.3223,-413.4965 1825.3947,-411.0282 1818.5821,-408.2389\"/>\n<polygon fill=\"#6c48d2\" stroke=\"#6c48d2\" points=\"1819.9536,-405.0188 1809.3864,-404.254 1817.1703,-411.4417 1819.9536,-405.0188\"/>\n</g>\n<!-- 損壞&#45;保養&#45;&gt;損壞 -->\n<g id=\"edge43\" class=\"edge\">\n<title>損壞&#45;保養&#45;&gt;損壞</title>\n<path fill=\"none\" stroke=\"#6c48d2\" stroke-dasharray=\"5,2\" d=\"M2004.2352,-327.0608C1997.6463,-325.1477 1990.732,-323.4723 1984.119,-322.4571 1920.4208,-312.6782 1901.6787,-306.9858 1839.119,-322.4571 1833.0634,-323.9547 1826.9623,-325.9796 1820.963,-328.342\"/>\n<polygon fill=\"#6c48d2\" stroke=\"#6c48d2\" points=\"1819.4744,-325.1716 1811.6405,-332.3047 1822.2128,-331.6137 1819.4744,-325.1716\"/>\n<text text-anchor=\"middle\" x=\"1911.619\" y=\"-327.6571\" font-family=\"Arial\" font-size=\"16.00\" fill=\"#000000\">p = 1.0 &#160;reward =&#45;15</text>\n</g>\n<!-- 損壞&#45;保養&#45;&gt;損壞 -->\n<g id=\"edge44\" class=\"edge\">\n<title>損壞&#45;保養&#45;&gt;損壞</title>\n<path fill=\"none\" stroke=\"#6c48d2\" stroke-dasharray=\"5,2\" d=\"M2002.7142,-347.5026C1959.9584,-353.7863 1886.9247,-361.2313 1831.311,-365.2802\"/>\n<polygon fill=\"#6c48d2\" stroke=\"#6c48d2\" points=\"1830.8704,-361.8025 1821.1407,-365.9957 1831.3616,-368.7852 1830.8704,-361.8025\"/>\n</g>\n</g>\n</svg>\n"
          },
          "metadata": {}
        }
      ]
    },
    {
      "cell_type": "markdown",
      "metadata": {
        "id": "2Fb2sDMlNF0M"
      },
      "source": [
        "### **(d) (5%) (d)承接(c)的答案，如果初始策略在所有狀態皆採取行動「保養」，策略迭代的計算過程與結果有什麼差異?**\n"
      ]
    },
    {
      "cell_type": "markdown",
      "source": [
        "#### **初始策略為「保養」**"
      ],
      "metadata": {
        "id": "lyuwxSX98rli"
      }
    },
    {
      "cell_type": "code",
      "execution_count": 12,
      "metadata": {
        "id": "wYxZr5AfNN1h",
        "colab": {
          "base_uri": "https://localhost:8080/",
          "height": 759
        },
        "outputId": "1d3953dd-5463-488b-9d06-e865551a7c55"
      },
      "outputs": [
        {
          "output_type": "stream",
          "name": "stdout",
          "text": [
            "====================== Policy Evaluation ======================\n",
            "iter: 0, diff: 5.333333333333334\n",
            "iter: 1, diff: 0.0\n",
            "====================== Policy Improvement ======================\n",
            "Policy is not stable yet, go back to Policy Evaluation\n",
            "====================== Policy Evaluation ======================\n",
            "iter: 0, diff: 0.0\n",
            "====================== Policy Improvement ======================\n",
            "Policy is stable :D\n",
            "Optimal Q value: {'健康': 0.0, '可用': 5.333333333333334, '耗損': 4.745098039215686, '損壞': 0.0}\n",
            "Optimal Policy: {'健康': '保養', '可用': '保養', '耗損': '保養', '損壞': '加工'}\n"
          ]
        },
        {
          "output_type": "display_data",
          "data": {
            "text/plain": [
              "<graphviz.dot.Digraph at 0x7f3a036c8190>"
            ],
            "image/svg+xml": "<?xml version=\"1.0\" encoding=\"UTF-8\" standalone=\"no\"?>\n<!DOCTYPE svg PUBLIC \"-//W3C//DTD SVG 1.1//EN\"\n \"http://www.w3.org/Graphics/SVG/1.1/DTD/svg11.dtd\">\n<!-- Generated by graphviz version 2.40.1 (20161225.0304)\n -->\n<!-- Title: MDP Pages: 1 -->\n<svg width=\"1440pt\" height=\"386pt\"\n viewBox=\"0.00 0.00 1440.00 386.21\" xmlns=\"http://www.w3.org/2000/svg\" xmlns:xlink=\"http://www.w3.org/1999/xlink\">\n<g id=\"graph0\" class=\"graph\" transform=\"scale(.6916 .6916) rotate(0) translate(4 554.4571)\">\n<title>MDP</title>\n<polygon fill=\"#ffffff\" stroke=\"transparent\" points=\"-4,4 -4,-554.4571 2078.2439,-554.4571 2078.2439,4 -4,4\"/>\n<!-- 健康 -->\n<g id=\"node1\" class=\"node\">\n<title>健康</title>\n<ellipse fill=\"#ded6f5\" stroke=\"#ded6f5\" cx=\"65.5183\" cy=\"-175.4571\" rx=\"61.5355\" ry=\"61.5355\"/>\n<ellipse fill=\"none\" stroke=\"#ded6f5\" cx=\"65.5183\" cy=\"-175.4571\" rx=\"65.5366\" ry=\"65.5366\"/>\n<text text-anchor=\"middle\" x=\"65.5183\" y=\"-182.2571\" font-family=\"Arial\" font-size=\"24.00\" fill=\"#000000\">健康</text>\n<text text-anchor=\"middle\" x=\"65.5183\" y=\"-156.2571\" font-family=\"Arial\" font-size=\"24.00\" fill=\"#000000\">V =0.0</text>\n</g>\n<!-- 健康&#45;加工 -->\n<g id=\"node2\" class=\"node\">\n<title>健康&#45;加工</title>\n<ellipse fill=\"#f5d6ed\" stroke=\"#f5d6ed\" cx=\"333.099\" cy=\"-297.4571\" rx=\"36.125\" ry=\"36.125\"/>\n<text text-anchor=\"middle\" x=\"333.099\" y=\"-292.4571\" font-family=\"Arial\" font-size=\"20.00\" fill=\"#000000\">加工</text>\n</g>\n<!-- 健康&#45;&gt;健康&#45;加工 -->\n<g id=\"edge1\" class=\"edge\">\n<title>健康&#45;&gt;健康&#45;加工</title>\n<path fill=\"none\" stroke=\"#d248af\" stroke-width=\"2\" d=\"M107.5908,-225.9389C119.5584,-238.6743 133.591,-251.0659 149.0366,-259.4571 191.9607,-282.7768 248.289,-288.6758 287.273,-291.4391\"/>\n<polygon fill=\"#d248af\" stroke=\"#d248af\" stroke-width=\"2\" points=\"287.0735,-294.9335 297.2865,-292.115 287.545,-287.9494 287.0735,-294.9335\"/>\n</g>\n<!-- 健康&#45;保養 -->\n<g id=\"node6\" class=\"node\">\n<title>健康&#45;保養</title>\n<ellipse fill=\"#f5d6ed\" stroke=\"#f5d6ed\" cx=\"333.099\" cy=\"-196.4571\" rx=\"36.125\" ry=\"36.125\"/>\n<text text-anchor=\"middle\" x=\"333.099\" y=\"-191.4571\" font-family=\"Arial\" font-size=\"20.00\" fill=\"#000000\">保養</text>\n</g>\n<!-- 健康&#45;&gt;健康&#45;保養 -->\n<g id=\"edge10\" class=\"edge\">\n<title>健康&#45;&gt;健康&#45;保養</title>\n<path fill=\"none\" stroke=\"#d248af\" stroke-width=\"2\" d=\"M131.3186,-174.7148C179.7805,-177.201 244.452,-182.5017 287.3712,-187.6375\"/>\n<polygon fill=\"#d248af\" stroke=\"#d248af\" stroke-width=\"2\" points=\"287.1665,-191.1389 297.5226,-188.9028 288.0324,-184.1927 287.1665,-191.1389\"/>\n</g>\n<!-- 健康&#45;加工&#45;&gt;健康 -->\n<g id=\"edge2\" class=\"edge\">\n<title>健康&#45;加工&#45;&gt;健康</title>\n<path fill=\"none\" stroke=\"#6c48d2\" stroke-dasharray=\"5,2\" d=\"M309.302,-270.2959C300.5297,-261.6428 290.0304,-252.7047 279.0366,-246.4571 226.8085,-216.7769 205.8296,-229.0337 149.0366,-209.4571 144.5548,-207.9122 139.9647,-206.2571 135.3547,-204.5395\"/>\n<polygon fill=\"#6c48d2\" stroke=\"#6c48d2\" points=\"136.4833,-201.2242 125.8922,-200.9412 133.9952,-207.7671 136.4833,-201.2242\"/>\n<text text-anchor=\"middle\" x=\"214.0366\" y=\"-251.6571\" font-family=\"Arial\" font-size=\"16.00\" fill=\"#000000\">p = 0.7 &#160;reward =6</text>\n</g>\n<!-- 健康&#45;加工&#45;&gt;健康 -->\n<g id=\"edge3\" class=\"edge\">\n<title>健康&#45;加工&#45;&gt;健康</title>\n<path fill=\"none\" stroke=\"#6c48d2\" stroke-dasharray=\"5,2\" d=\"M297.6399,-305.3184C258.8443,-307.6195 195.9386,-302.9378 149.0366,-277.4571 132.4648,-268.4541 117.5195,-254.8459 105.0061,-240.4447\"/>\n<polygon fill=\"#6c48d2\" stroke=\"#6c48d2\" points=\"107.3928,-237.8406 98.3095,-232.3867 102.0092,-242.3146 107.3928,-237.8406\"/>\n</g>\n<!-- 可用 -->\n<g id=\"node3\" class=\"node\">\n<title>可用</title>\n<ellipse fill=\"#ded6f5\" stroke=\"#ded6f5\" cx=\"610.5793\" cy=\"-264.4571\" rx=\"71.34\" ry=\"71.34\"/>\n<ellipse fill=\"none\" stroke=\"#ded6f5\" cx=\"610.5793\" cy=\"-264.4571\" rx=\"75.3357\" ry=\"75.3357\"/>\n<text text-anchor=\"middle\" x=\"610.5793\" y=\"-271.2571\" font-family=\"Arial\" font-size=\"24.00\" fill=\"#000000\">可用</text>\n<text text-anchor=\"middle\" x=\"610.5793\" y=\"-245.2571\" font-family=\"Arial\" font-size=\"24.00\" fill=\"#000000\">V =5.33</text>\n</g>\n<!-- 健康&#45;加工&#45;&gt;可用 -->\n<g id=\"edge4\" class=\"edge\">\n<title>健康&#45;加工&#45;&gt;可用</title>\n<path fill=\"none\" stroke=\"#6c48d2\" stroke-dasharray=\"5,2\" d=\"M362.4112,-276.3377C370.1066,-271.8762 378.6458,-267.809 387.1615,-265.4571 431.7264,-253.1492 483.2261,-252.0857 525.5418,-254.4639\"/>\n<polygon fill=\"#6c48d2\" stroke=\"#6c48d2\" points=\"525.3319,-257.9576 535.5336,-255.0983 525.7755,-250.9716 525.3319,-257.9576\"/>\n<text text-anchor=\"middle\" x=\"452.1615\" y=\"-270.6571\" font-family=\"Arial\" font-size=\"16.00\" fill=\"#000000\">p = 0.2 &#160;reward =3</text>\n</g>\n<!-- 健康&#45;加工&#45;&gt;可用 -->\n<g id=\"edge5\" class=\"edge\">\n<title>健康&#45;加工&#45;&gt;可用</title>\n<path fill=\"none\" stroke=\"#6c48d2\" stroke-dasharray=\"5,2\" d=\"M369.2159,-296.0424C406.4317,-294.273 466.0574,-290.5693 517.1615,-283.4571 520.358,-283.0123 523.6096,-282.5249 526.8893,-282.0042\"/>\n<polygon fill=\"#6c48d2\" stroke=\"#6c48d2\" points=\"527.4993,-285.4509 536.7858,-280.3507 526.3457,-278.5466 527.4993,-285.4509\"/>\n</g>\n<!-- 耗損 -->\n<g id=\"node4\" class=\"node\">\n<title>耗損</title>\n<ellipse fill=\"#ded6f5\" stroke=\"#ded6f5\" cx=\"1180.5397\" cy=\"-303.4571\" rx=\"71.34\" ry=\"71.34\"/>\n<ellipse fill=\"none\" stroke=\"#ded6f5\" cx=\"1180.5397\" cy=\"-303.4571\" rx=\"75.3357\" ry=\"75.3357\"/>\n<text text-anchor=\"middle\" x=\"1180.5397\" y=\"-310.2571\" font-family=\"Arial\" font-size=\"24.00\" fill=\"#000000\">耗損</text>\n<text text-anchor=\"middle\" x=\"1180.5397\" y=\"-284.2571\" font-family=\"Arial\" font-size=\"24.00\" fill=\"#000000\">V =4.74</text>\n</g>\n<!-- 健康&#45;加工&#45;&gt;耗損 -->\n<g id=\"edge6\" class=\"edge\">\n<title>健康&#45;加工&#45;&gt;耗損</title>\n<path fill=\"none\" stroke=\"#6c48d2\" stroke-dasharray=\"5,2\" d=\"M336.5203,-333.3656C341.6863,-365.3713 354.6479,-410.4538 387.1615,-432.4571 451.5718,-476.0463 1017.8528,-467.8194 1087.1219,-432.4571 1109.7416,-420.9096 1128.1552,-401.0434 1142.4692,-380.3139\"/>\n<polygon fill=\"#6c48d2\" stroke=\"#6c48d2\" points=\"1145.5579,-381.9883 1148.1524,-371.716 1139.7183,-378.1283 1145.5579,-381.9883\"/>\n<text text-anchor=\"middle\" x=\"768.997\" y=\"-466.6571\" font-family=\"Arial\" font-size=\"16.00\" fill=\"#000000\">p = 0.1 &#160;reward =1</text>\n</g>\n<!-- 健康&#45;加工&#45;&gt;耗損 -->\n<g id=\"edge7\" class=\"edge\">\n<title>健康&#45;加工&#45;&gt;耗損</title>\n<path fill=\"none\" stroke=\"#6c48d2\" stroke-dasharray=\"5,2\" d=\"M367.3561,-309.0592C432.1784,-330.4167 577.62,-375.5013 703.997,-394.4571 808.7518,-410.1697 836.2187,-402.2344 942.1219,-404.4571 1006.5522,-405.8094 1028.075,-430.2746 1087.1219,-404.4571 1103.3123,-397.3781 1117.9467,-385.9557 1130.5724,-373.2915\"/>\n<polygon fill=\"#6c48d2\" stroke=\"#6c48d2\" points=\"1133.4202,-375.3755 1137.7706,-365.715 1128.3454,-370.5541 1133.4202,-375.3755\"/>\n</g>\n<!-- 損壞 -->\n<g id=\"node5\" class=\"node\">\n<title>損壞</title>\n<ellipse fill=\"#ded6f5\" stroke=\"#ded6f5\" cx=\"1755.6007\" cy=\"-366.4571\" rx=\"61.5355\" ry=\"61.5355\"/>\n<ellipse fill=\"none\" stroke=\"#ded6f5\" cx=\"1755.6007\" cy=\"-366.4571\" rx=\"65.5366\" ry=\"65.5366\"/>\n<text text-anchor=\"middle\" x=\"1755.6007\" y=\"-373.2571\" font-family=\"Arial\" font-size=\"24.00\" fill=\"#000000\">損壞</text>\n<text text-anchor=\"middle\" x=\"1755.6007\" y=\"-347.2571\" font-family=\"Arial\" font-size=\"24.00\" fill=\"#000000\">V =0.0</text>\n</g>\n<!-- 健康&#45;加工&#45;&gt;損壞 -->\n<g id=\"edge8\" class=\"edge\">\n<title>健康&#45;加工&#45;&gt;損壞</title>\n<path fill=\"none\" stroke=\"#6c48d2\" stroke-dasharray=\"5,2\" d=\"M337.3982,-333.6197C344.6155,-387.7207 361.0003,-485.8116 387.1615,-508.4571 462.6698,-573.8186 510.7112,-532.4571 610.5793,-532.4571 610.5793,-532.4571 610.5793,-532.4571 1473.0199,-532.4571 1562.1328,-532.4571 1597.5212,-557.2602 1672.0824,-508.4571 1697.6631,-491.7136 1716.4429,-464.1939 1729.6411,-437.817\"/>\n<polygon fill=\"#6c48d2\" stroke=\"#6c48d2\" points=\"1732.9145,-439.0851 1734.0787,-428.5544 1726.6016,-436.0606 1732.9145,-439.0851\"/>\n<text text-anchor=\"middle\" x=\"1014.6219\" y=\"-537.6571\" font-family=\"Arial\" font-size=\"16.00\" fill=\"#000000\">p = 0.0 &#160;reward =&#45;15</text>\n</g>\n<!-- 健康&#45;加工&#45;&gt;損壞 -->\n<g id=\"edge9\" class=\"edge\">\n<title>健康&#45;加工&#45;&gt;損壞</title>\n<path fill=\"none\" stroke=\"#6c48d2\" stroke-dasharray=\"5,2\" d=\"M340.6198,-332.9233C350.2523,-374.8997 368.0051,-441.1729 387.1615,-457.4571 463.8474,-522.6456 509.93,-494.4571 610.5793,-494.4571 610.5793,-494.4571 610.5793,-494.4571 1473.0199,-494.4571 1555.1994,-494.4571 1639.8055,-448.983 1694.7498,-412.2437\"/>\n<polygon fill=\"#6c48d2\" stroke=\"#6c48d2\" points=\"1697.0027,-414.9446 1703.3085,-406.4306 1693.0696,-409.154 1697.0027,-414.9446\"/>\n</g>\n<!-- 可用&#45;加工 -->\n<g id=\"node7\" class=\"node\">\n<title>可用&#45;加工</title>\n<ellipse fill=\"#f5d6ed\" stroke=\"#f5d6ed\" cx=\"888.0595\" cy=\"-278.4571\" rx=\"36.125\" ry=\"36.125\"/>\n<text text-anchor=\"middle\" x=\"888.0595\" y=\"-273.4571\" font-family=\"Arial\" font-size=\"20.00\" fill=\"#000000\">加工</text>\n</g>\n<!-- 可用&#45;&gt;可用&#45;加工 -->\n<g id=\"edge13\" class=\"edge\">\n<title>可用&#45;&gt;可用&#45;加工</title>\n<path fill=\"none\" stroke=\"#d248af\" stroke-width=\"2\" d=\"M686.0354,-262.1816C735.9987,-263.5715 799.8973,-267.1018 842.3104,-270.9855\"/>\n<polygon fill=\"#d248af\" stroke=\"#d248af\" stroke-width=\"2\" points=\"842.0539,-274.4769 852.3436,-271.9524 842.7254,-267.5092 842.0539,-274.4769\"/>\n</g>\n<!-- 可用&#45;保養 -->\n<g id=\"node8\" class=\"node\">\n<title>可用&#45;保養</title>\n<ellipse fill=\"#f5d6ed\" stroke=\"#f5d6ed\" cx=\"888.0595\" cy=\"-150.4571\" rx=\"36.125\" ry=\"36.125\"/>\n<text text-anchor=\"middle\" x=\"888.0595\" y=\"-145.4571\" font-family=\"Arial\" font-size=\"20.00\" fill=\"#000000\">保養</text>\n</g>\n<!-- 可用&#45;&gt;可用&#45;保養 -->\n<g id=\"edge20\" class=\"edge\">\n<title>可用&#45;&gt;可用&#45;保養</title>\n<path fill=\"none\" stroke=\"#d248af\" stroke-width=\"2\" d=\"M674.2322,-223.7675C684.1177,-219.0524 694.2748,-214.5047 703.997,-210.4571 760.5776,-186.9011 776.8823,-186.6866 833.997,-164.4571 836.8977,-163.3282 839.8749,-162.1416 842.8694,-160.9423\"/>\n<polygon fill=\"#d248af\" stroke=\"#d248af\" stroke-width=\"2\" points=\"844.4331,-164.0865 852.4189,-157.1239 841.8342,-157.5869 844.4331,-164.0865\"/>\n</g>\n<!-- 耗損&#45;加工 -->\n<g id=\"node9\" class=\"node\">\n<title>耗損&#45;加工</title>\n<ellipse fill=\"#f5d6ed\" stroke=\"#f5d6ed\" cx=\"1473.0199\" cy=\"-367.4571\" rx=\"36.125\" ry=\"36.125\"/>\n<text text-anchor=\"middle\" x=\"1473.0199\" y=\"-362.4571\" font-family=\"Arial\" font-size=\"20.00\" fill=\"#000000\">加工</text>\n</g>\n<!-- 耗損&#45;&gt;耗損&#45;加工 -->\n<g id=\"edge25\" class=\"edge\">\n<title>耗損&#45;&gt;耗損&#45;加工</title>\n<path fill=\"none\" stroke=\"#d248af\" stroke-width=\"2\" d=\"M1251.927,-328.3803C1259.2632,-331.0471 1266.6914,-333.4907 1273.9575,-335.4571 1325.393,-349.3773 1386.5389,-354.8738 1427.363,-358.971\"/>\n<polygon fill=\"#d248af\" stroke=\"#d248af\" stroke-width=\"2\" points=\"1427.2377,-362.4764 1437.5424,-360.0138 1427.9511,-355.5128 1427.2377,-362.4764\"/>\n</g>\n<!-- 耗損&#45;保養 -->\n<g id=\"node10\" class=\"node\">\n<title>耗損&#45;保養</title>\n<ellipse fill=\"#f5d6ed\" stroke=\"#f5d6ed\" cx=\"1473.0199\" cy=\"-98.4571\" rx=\"36.125\" ry=\"36.125\"/>\n<text text-anchor=\"middle\" x=\"1473.0199\" y=\"-93.4571\" font-family=\"Arial\" font-size=\"20.00\" fill=\"#000000\">保養</text>\n</g>\n<!-- 耗損&#45;&gt;耗損&#45;保養 -->\n<g id=\"edge32\" class=\"edge\">\n<title>耗損&#45;&gt;耗損&#45;保養</title>\n<path fill=\"none\" stroke=\"#d248af\" stroke-width=\"2\" d=\"M1254.9478,-291.1388C1315.5318,-283.5789 1394.8304,-272.3452 1418.9575,-251.4571 1435.8511,-236.8315 1451.5927,-183.2699 1461.6826,-143.5284\"/>\n<polygon fill=\"#d248af\" stroke=\"#d248af\" stroke-width=\"2\" points=\"1465.0962,-144.3046 1464.1233,-133.7545 1458.3047,-142.6086 1465.0962,-144.3046\"/>\n</g>\n<!-- 損壞&#45;加工 -->\n<g id=\"node11\" class=\"node\">\n<title>損壞&#45;加工</title>\n<ellipse fill=\"#f5d6ed\" stroke=\"#f5d6ed\" cx=\"2038.1814\" cy=\"-429.4571\" rx=\"36.125\" ry=\"36.125\"/>\n<text text-anchor=\"middle\" x=\"2038.1814\" y=\"-424.4571\" font-family=\"Arial\" font-size=\"20.00\" fill=\"#000000\">加工</text>\n</g>\n<!-- 損壞&#45;&gt;損壞&#45;加工 -->\n<g id=\"edge39\" class=\"edge\">\n<title>損壞&#45;&gt;損壞&#45;加工</title>\n<path fill=\"none\" stroke=\"#d248af\" stroke-width=\"2\" d=\"M1817.1903,-389.7754C1824.4495,-392.6892 1831.8589,-395.3628 1839.119,-397.4571 1890.3172,-412.2262 1951.5097,-417.5557 1992.4097,-421.3819\"/>\n<polygon fill=\"#d248af\" stroke=\"#d248af\" stroke-width=\"2\" points=\"1992.3227,-424.8893 2002.6093,-422.3521 1992.9857,-417.9208 1992.3227,-424.8893\"/>\n</g>\n<!-- 損壞&#45;保養 -->\n<g id=\"node12\" class=\"node\">\n<title>損壞&#45;保養</title>\n<ellipse fill=\"#f5d6ed\" stroke=\"#f5d6ed\" cx=\"2038.1814\" cy=\"-339.4571\" rx=\"36.125\" ry=\"36.125\"/>\n<text text-anchor=\"middle\" x=\"2038.1814\" y=\"-334.4571\" font-family=\"Arial\" font-size=\"20.00\" fill=\"#000000\">保養</text>\n</g>\n<!-- 損壞&#45;&gt;損壞&#45;保養 -->\n<g id=\"edge42\" class=\"edge\">\n<title>損壞&#45;&gt;損壞&#45;保養</title>\n<path fill=\"none\" stroke=\"#d248af\" stroke-width=\"2\" d=\"M1820.0762,-354.5257C1872.4741,-348.0324 1945.1224,-341.2975 1991.8934,-338.7287\"/>\n<polygon fill=\"#d248af\" stroke=\"#d248af\" stroke-width=\"2\" points=\"1992.2294,-342.2163 2002.0413,-338.2192 1991.8784,-335.2251 1992.2294,-342.2163\"/>\n</g>\n<!-- 健康&#45;保養&#45;&gt;健康 -->\n<g id=\"edge11\" class=\"edge\">\n<title>健康&#45;保養&#45;&gt;健康</title>\n<path fill=\"none\" stroke=\"#6c48d2\" stroke-dasharray=\"5,2\" d=\"M305.6025,-173.0035C297.5479,-167.4728 288.3807,-162.3485 279.0366,-159.4571 233.8318,-145.4693 180.7897,-149.3483 138.8814,-156.7843\"/>\n<polygon fill=\"#6c48d2\" stroke=\"#6c48d2\" points=\"138.2094,-153.3492 129.0267,-158.6339 139.5007,-160.2291 138.2094,-153.3492\"/>\n<text text-anchor=\"middle\" x=\"214.0366\" y=\"-164.6571\" font-family=\"Arial\" font-size=\"16.00\" fill=\"#000000\">p = 1.0 &#160;reward =6</text>\n</g>\n<!-- 健康&#45;保養&#45;&gt;健康 -->\n<g id=\"edge12\" class=\"edge\">\n<title>健康&#45;保養&#45;&gt;健康</title>\n<path fill=\"none\" stroke=\"#6c48d2\" stroke-dasharray=\"5,2\" d=\"M296.8641,-198.4094C256.8757,-197.308 191.4124,-192.6147 140.3094,-187.4559\"/>\n<polygon fill=\"#6c48d2\" stroke=\"#6c48d2\" points=\"140.5994,-183.9673 130.2921,-186.4189 139.8785,-190.9301 140.5994,-183.9673\"/>\n</g>\n<!-- 可用&#45;加工&#45;&gt;可用 -->\n<g id=\"edge14\" class=\"edge\">\n<title>可用&#45;加工&#45;&gt;可用</title>\n<path fill=\"none\" stroke=\"#6c48d2\" stroke-dasharray=\"5,2\" d=\"M852.0459,-283.0146C846.0284,-283.615 839.8431,-284.1337 833.997,-284.4571 776.3075,-287.6486 761.4539,-290.5387 703.997,-284.4571 700.7395,-284.1123 697.4286,-283.7017 694.092,-283.2374\"/>\n<polygon fill=\"#6c48d2\" stroke=\"#6c48d2\" points=\"694.4471,-279.7511 684.0323,-281.696 693.3868,-286.6703 694.4471,-279.7511\"/>\n<text text-anchor=\"middle\" x=\"768.997\" y=\"-292.6571\" font-family=\"Arial\" font-size=\"16.00\" fill=\"#000000\">p = 0.6 &#160;reward =3</text>\n</g>\n<!-- 可用&#45;加工&#45;&gt;可用 -->\n<g id=\"edge15\" class=\"edge\">\n<title>可用&#45;加工&#45;&gt;可用</title>\n<path fill=\"none\" stroke=\"#6c48d2\" stroke-dasharray=\"5,2\" d=\"M851.8728,-281.3581C812.5303,-281.3685 748.276,-278.646 695.9621,-275.0502\"/>\n<polygon fill=\"#6c48d2\" stroke=\"#6c48d2\" points=\"695.8921,-271.5365 685.6694,-274.32 695.3966,-278.519 695.8921,-271.5365\"/>\n</g>\n<!-- 可用&#45;加工&#45;&gt;耗損 -->\n<g id=\"edge16\" class=\"edge\">\n<title>可用&#45;加工&#45;&gt;耗損</title>\n<path fill=\"none\" stroke=\"#6c48d2\" stroke-dasharray=\"5,2\" d=\"M923.7792,-284.1328C929.8884,-284.9917 936.18,-285.8066 942.1219,-286.4571 992.6483,-291.9888 1049.4048,-296.1188 1094.8628,-298.9221\"/>\n<polygon fill=\"#6c48d2\" stroke=\"#6c48d2\" points=\"1094.7818,-302.4236 1104.9754,-299.5354 1095.2056,-295.4364 1094.7818,-302.4236\"/>\n<text text-anchor=\"middle\" x=\"1014.6219\" y=\"-302.6571\" font-family=\"Arial\" font-size=\"16.00\" fill=\"#000000\">p = 0.3 &#160;reward =1</text>\n</g>\n<!-- 可用&#45;加工&#45;&gt;耗損 -->\n<g id=\"edge17\" class=\"edge\">\n<title>可用&#45;加工&#45;&gt;耗損</title>\n<path fill=\"none\" stroke=\"#6c48d2\" stroke-dasharray=\"5,2\" d=\"M924.4639,-279.4469C964.4381,-280.7716 1030.4807,-283.6607 1087.1219,-289.4571 1089.9897,-289.7506 1092.904,-290.0698 1095.8451,-290.4097\"/>\n<polygon fill=\"#6c48d2\" stroke=\"#6c48d2\" points=\"1095.5684,-293.9018 1105.9186,-291.6386 1096.4161,-286.9533 1095.5684,-293.9018\"/>\n</g>\n<!-- 可用&#45;加工&#45;&gt;損壞 -->\n<g id=\"edge18\" class=\"edge\">\n<title>可用&#45;加工&#45;&gt;損壞</title>\n<path fill=\"none\" stroke=\"#6c48d2\" stroke-dasharray=\"5,2\" d=\"M921.6553,-264.4833C1006.0868,-231.2695 1233.6518,-153.5548 1418.9575,-197.4571 1521.2702,-221.6969 1627.8561,-282.1509 1692.9905,-323.7689\"/>\n<polygon fill=\"#6c48d2\" stroke=\"#6c48d2\" points=\"1691.2066,-326.7831 1701.5089,-329.2557 1694.9972,-320.8982 1691.2066,-326.7831\"/>\n<text text-anchor=\"middle\" x=\"1346.4575\" y=\"-202.6571\" font-family=\"Arial\" font-size=\"16.00\" fill=\"#000000\">p = 0.1 &#160;reward =&#45;15</text>\n</g>\n<!-- 可用&#45;加工&#45;&gt;損壞 -->\n<g id=\"edge19\" class=\"edge\">\n<title>可用&#45;加工&#45;&gt;損壞</title>\n<path fill=\"none\" stroke=\"#6c48d2\" stroke-dasharray=\"5,2\" d=\"M909.5682,-249.1954C923.6162,-230.2551 939.7786,-208.8589 942.1219,-207.4571 1124.3054,-98.4751 1207.6959,-158.5665 1418.9575,-179.4571 1461.5518,-183.669 1657.9172,-220.5587 1672.0824,-230.4571 1695.5468,-246.8538 1713.6746,-272.1658 1726.9515,-296.5268\"/>\n<polygon fill=\"#6c48d2\" stroke=\"#6c48d2\" points=\"1723.8815,-298.2089 1731.6245,-305.4407 1730.0813,-294.9588 1723.8815,-298.2089\"/>\n</g>\n<!-- 可用&#45;保養&#45;&gt;健康 -->\n<g id=\"edge21\" class=\"edge\">\n<title>可用&#45;保養&#45;&gt;健康</title>\n<path fill=\"none\" stroke=\"#6c48d2\" stroke-dasharray=\"5,2\" d=\"M853.4508,-139.3673C847.0457,-137.7415 840.3669,-136.3244 833.997,-135.4571 776.7475,-127.6622 761.7725,-134.9366 703.997,-135.4571 457.3179,-137.6794 391.6766,-100.9446 149.0366,-145.4571 144.8598,-146.2234 140.6143,-147.1724 136.3632,-148.2559\"/>\n<polygon fill=\"#6c48d2\" stroke=\"#6c48d2\" points=\"135.1623,-144.9569 126.4638,-151.0056 137.0357,-151.7015 135.1623,-144.9569\"/>\n<text text-anchor=\"middle\" x=\"452.1615\" y=\"-134.6571\" font-family=\"Arial\" font-size=\"16.00\" fill=\"#000000\">p = 0.8 &#160;reward =6</text>\n</g>\n<!-- 可用&#45;保養&#45;&gt;健康 -->\n<g id=\"edge22\" class=\"edge\">\n<title>可用&#45;保養&#45;&gt;健康</title>\n<path fill=\"none\" stroke=\"#6c48d2\" stroke-dasharray=\"5,2\" d=\"M855.5435,-134.306C848.5902,-131.5158 841.1739,-129.0149 833.997,-127.4571 600.7458,-76.8284 535.6852,-114.427 297.0366,-118.4571 231.2307,-119.5684 212.0025,-104.3013 149.0366,-123.4571 141.9589,-125.6103 134.8854,-128.5234 128.0173,-131.8777\"/>\n<polygon fill=\"#6c48d2\" stroke=\"#6c48d2\" points=\"126.04,-128.9618 118.798,-136.6951 129.2819,-135.1659 126.04,-128.9618\"/>\n</g>\n<!-- 可用&#45;保養&#45;&gt;可用 -->\n<g id=\"edge23\" class=\"edge\">\n<title>可用&#45;保養&#45;&gt;可用</title>\n<path fill=\"none\" stroke=\"#6c48d2\" stroke-dasharray=\"5,2\" d=\"M852.8816,-142.184C814.3322,-134.9833 751.6409,-128.8695 703.997,-151.4571 685.1208,-160.4062 668.7464,-175.231 655.2098,-191.2445\"/>\n<polygon fill=\"#6c48d2\" stroke=\"#6c48d2\" points=\"652.359,-189.2036 648.7939,-199.1807 657.8027,-193.6045 652.359,-189.2036\"/>\n<text text-anchor=\"middle\" x=\"768.997\" y=\"-156.6571\" font-family=\"Arial\" font-size=\"16.00\" fill=\"#000000\">p = 0.2 &#160;reward =3</text>\n</g>\n<!-- 可用&#45;保養&#45;&gt;可用 -->\n<g id=\"edge24\" class=\"edge\">\n<title>可用&#45;保養&#45;&gt;可用</title>\n<path fill=\"none\" stroke=\"#6c48d2\" stroke-dasharray=\"5,2\" d=\"M859.0158,-171.8639C850.9551,-175.6359 842.1716,-179.2755 833.997,-182.4571 776.8823,-204.6866 760.5776,-204.9011 703.997,-228.4571 699.6059,-230.2853 695.1261,-232.2154 690.6227,-234.1971\"/>\n<polygon fill=\"#6c48d2\" stroke=\"#6c48d2\" points=\"689.0765,-231.0542 681.3665,-238.321 691.9253,-237.4483 689.0765,-231.0542\"/>\n</g>\n<!-- 耗損&#45;加工&#45;&gt;可用 -->\n<g id=\"edge26\" class=\"edge\">\n<title>耗損&#45;加工&#45;&gt;可用</title>\n<path fill=\"none\" stroke=\"#6c48d2\" stroke-dasharray=\"5,2\" d=\"M1451.3402,-396.4172C1442.4726,-405.9446 1431.369,-415.3881 1418.9575,-420.4571 1289.8292,-473.1947 1244.1682,-431.4799 1105.1219,-420.4571 1015.1379,-413.3237 784.5578,-397.1752 703.997,-356.4571 690.4984,-349.6345 677.7137,-340.1557 666.1816,-329.8592\"/>\n<polygon fill=\"#6c48d2\" stroke=\"#6c48d2\" points=\"668.4988,-327.2347 658.7894,-322.9946 663.7355,-332.3641 668.4988,-327.2347\"/>\n<text text-anchor=\"middle\" x=\"1014.6219\" y=\"-423.6571\" font-family=\"Arial\" font-size=\"16.00\" fill=\"#000000\">p = 0.1 &#160;reward =3</text>\n</g>\n<!-- 耗損&#45;加工&#45;&gt;可用 -->\n<g id=\"edge27\" class=\"edge\">\n<title>耗損&#45;加工&#45;&gt;可用</title>\n<path fill=\"none\" stroke=\"#6c48d2\" stroke-dasharray=\"5,2\" d=\"M1437.6367,-374.6392C1431.4315,-375.7162 1425.0209,-376.7132 1418.9575,-377.4571 1346.9171,-386.2964 1328.5041,-385.2339 1255.9575,-387.4571 1008.3207,-395.0462 939.1355,-387.5052 703.997,-309.4571 698.4149,-307.6043 692.7361,-305.4914 687.076,-303.2151\"/>\n<polygon fill=\"#6c48d2\" stroke=\"#6c48d2\" points=\"688.165,-299.8768 677.5889,-299.2469 685.4638,-306.3346 688.165,-299.8768\"/>\n</g>\n<!-- 耗損&#45;加工&#45;&gt;耗損 -->\n<g id=\"edge28\" class=\"edge\">\n<title>耗損&#45;加工&#45;&gt;耗損</title>\n<path fill=\"none\" stroke=\"#6c48d2\" stroke-dasharray=\"5,2\" d=\"M1447.9701,-341.1697C1439.486,-333.8522 1429.4753,-326.7418 1418.9575,-322.4571 1391.9767,-311.4659 1322.9393,-306.8154 1266.0581,-304.8569\"/>\n<polygon fill=\"#6c48d2\" stroke=\"#6c48d2\" points=\"1266.0629,-301.3553 1255.9556,-304.5324 1265.8381,-308.3517 1266.0629,-301.3553\"/>\n<text text-anchor=\"middle\" x=\"1346.4575\" y=\"-327.6571\" font-family=\"Arial\" font-size=\"16.00\" fill=\"#000000\">p = 0.5 &#160;reward =1</text>\n</g>\n<!-- 耗損&#45;加工&#45;&gt;耗損 -->\n<g id=\"edge29\" class=\"edge\">\n<title>耗損&#45;加工&#45;&gt;耗損</title>\n<path fill=\"none\" stroke=\"#6c48d2\" stroke-dasharray=\"5,2\" d=\"M1437.1787,-373.0678C1396.8532,-373.7357 1329.7025,-368.5436 1273.9575,-353.4571 1267.4675,-351.7007 1260.8481,-349.5636 1254.2804,-347.1681\"/>\n<polygon fill=\"#6c48d2\" stroke=\"#6c48d2\" points=\"1255.3059,-343.8126 1244.7161,-343.4877 1252.7919,-350.3456 1255.3059,-343.8126\"/>\n</g>\n<!-- 耗損&#45;加工&#45;&gt;損壞 -->\n<g id=\"edge30\" class=\"edge\">\n<title>耗損&#45;加工&#45;&gt;損壞</title>\n<path fill=\"none\" stroke=\"#6c48d2\" stroke-dasharray=\"5,2\" d=\"M1509.096,-367.3295C1551.8878,-367.178 1624.3847,-366.9215 1679.7129,-366.7257\"/>\n<polygon fill=\"#6c48d2\" stroke=\"#6c48d2\" points=\"1679.8455,-370.2253 1689.8331,-366.6899 1679.8207,-363.2254 1679.8455,-370.2253\"/>\n<text text-anchor=\"middle\" x=\"1599.5824\" y=\"-371.6571\" font-family=\"Arial\" font-size=\"16.00\" fill=\"#000000\">p = 0.4 &#160;reward =&#45;15</text>\n</g>\n<!-- 耗損&#45;加工&#45;&gt;損壞 -->\n<g id=\"edge31\" class=\"edge\">\n<title>耗損&#45;加工&#45;&gt;損壞</title>\n<path fill=\"none\" stroke=\"#6c48d2\" stroke-dasharray=\"5,2\" d=\"M1509.0681,-365.1781C1515.0814,-364.8779 1521.2565,-364.6186 1527.0824,-364.4571 1578.0415,-363.0443 1635.4148,-363.5536 1679.9258,-364.4114\"/>\n<polygon fill=\"#6c48d2\" stroke=\"#6c48d2\" points=\"1680.0151,-367.9138 1690.0841,-364.6174 1680.1571,-360.9153 1680.0151,-367.9138\"/>\n</g>\n<!-- 耗損&#45;保養&#45;&gt;健康 -->\n<g id=\"edge33\" class=\"edge\">\n<title>耗損&#45;保養&#45;&gt;健康</title>\n<path fill=\"none\" stroke=\"#6c48d2\" stroke-dasharray=\"5,2\" d=\"M1438.819,-86.7461C1384.6907,-69.285 1275.6574,-38.4571 1180.5397,-38.4571 333.099,-38.4571 333.099,-38.4571 333.099,-38.4571 253.8357,-38.4571 174.4426,-86.6756 122.9712,-125.9001\"/>\n<polygon fill=\"#6c48d2\" stroke=\"#6c48d2\" points=\"120.7171,-123.2189 114.9544,-132.1095 125.0035,-128.7531 120.7171,-123.2189\"/>\n<text text-anchor=\"middle\" x=\"768.997\" y=\"-43.6571\" font-family=\"Arial\" font-size=\"16.00\" fill=\"#000000\">p = 0.2 &#160;reward =6</text>\n</g>\n<!-- 耗損&#45;保養&#45;&gt;健康 -->\n<g id=\"edge34\" class=\"edge\">\n<title>耗損&#45;保養&#45;&gt;健康</title>\n<path fill=\"none\" stroke=\"#6c48d2\" stroke-dasharray=\"5,2\" d=\"M1450.9741,-69.6216C1442.0668,-59.8665 1431.0317,-49.8388 1418.9575,-43.4571 1323.7629,6.8568 1288.2128,-.4571 1180.5397,-.4571 333.099,-.4571 333.099,-.4571 333.099,-.4571 249.1908,-.4571 217.4635,6.1056 149.0366,-42.4571 126.5603,-58.4086 108.8121,-82.5 95.5626,-105.8158\"/>\n<polygon fill=\"#6c48d2\" stroke=\"#6c48d2\" points=\"92.4338,-104.2425 90.7044,-114.6953 98.5747,-107.6025 92.4338,-104.2425\"/>\n</g>\n<!-- 耗損&#45;保養&#45;&gt;可用 -->\n<g id=\"edge35\" class=\"edge\">\n<title>耗損&#45;保養&#45;&gt;可用</title>\n<path fill=\"none\" stroke=\"#6c48d2\" stroke-dasharray=\"5,2\" d=\"M1436.8575,-99.7939C1318.8077,-104.2304 951.7222,-118.6276 942.1219,-126.4571 917.5613,-146.4876 946.8245,-173.3429 924.1219,-195.4571 894.6604,-224.1551 874.1318,-207.4706 833.997,-216.4571 787.9414,-226.7694 736.4438,-237.8628 694.5075,-246.7845\"/>\n<polygon fill=\"#6c48d2\" stroke=\"#6c48d2\" points=\"693.6678,-243.3847 684.6136,-248.8869 695.1227,-250.2319 693.6678,-243.3847\"/>\n<text text-anchor=\"middle\" x=\"1014.6219\" y=\"-131.6571\" font-family=\"Arial\" font-size=\"16.00\" fill=\"#000000\">p = 0.5 &#160;reward =3</text>\n</g>\n<!-- 耗損&#45;保養&#45;&gt;可用 -->\n<g id=\"edge36\" class=\"edge\">\n<title>耗損&#45;保養&#45;&gt;可用</title>\n<path fill=\"none\" stroke=\"#6c48d2\" stroke-dasharray=\"5,2\" d=\"M1436.747,-95.3699C1301.4023,-84.5453 827.351,-53.0535 703.997,-131.4571 682.0279,-145.4207 663.761,-166.5922 649.3811,-187.9633\"/>\n<polygon fill=\"#6c48d2\" stroke=\"#6c48d2\" points=\"646.3695,-186.1745 643.8604,-196.468 652.2409,-189.9859 646.3695,-186.1745\"/>\n</g>\n<!-- 耗損&#45;保養&#45;&gt;耗損 -->\n<g id=\"edge37\" class=\"edge\">\n<title>耗損&#45;保養&#45;&gt;耗損</title>\n<path fill=\"none\" stroke=\"#6c48d2\" stroke-dasharray=\"5,2\" d=\"M1466.8513,-134.0282C1460.0646,-161.8466 1446.2616,-199.1089 1418.9575,-219.4571 1366.8425,-258.2955 1334.5757,-215.0086 1273.9575,-238.4571 1265.2045,-241.843 1256.4835,-246.2102 1248.084,-251.078\"/>\n<polygon fill=\"#6c48d2\" stroke=\"#6c48d2\" points=\"1246.1926,-248.1317 1239.4594,-256.3118 1249.8242,-254.116 1246.1926,-248.1317\"/>\n<text text-anchor=\"middle\" x=\"1346.4575\" y=\"-243.6571\" font-family=\"Arial\" font-size=\"16.00\" fill=\"#000000\">p = 0.3 &#160;reward =1</text>\n</g>\n<!-- 耗損&#45;保養&#45;&gt;耗損 -->\n<g id=\"edge38\" class=\"edge\">\n<title>耗損&#45;保養&#45;&gt;耗損</title>\n<path fill=\"none\" stroke=\"#6c48d2\" stroke-dasharray=\"5,2\" d=\"M1466.8889,-134.0665C1457.6638,-178.9963 1439.132,-251.991 1418.9575,-269.4571 1396.3001,-289.0728 1324.9883,-300.1744 1266.2112,-304.61\"/>\n<polygon fill=\"#6c48d2\" stroke=\"#6c48d2\" points=\"1265.8796,-301.1246 1256.148,-305.3133 1266.3677,-308.1075 1265.8796,-301.1246\"/>\n</g>\n<!-- 損壞&#45;加工&#45;&gt;損壞 -->\n<g id=\"edge40\" class=\"edge\">\n<title>損壞&#45;加工&#45;&gt;損壞</title>\n<path fill=\"none\" stroke=\"#6c48d2\" stroke-dasharray=\"5,2\" d=\"M2013.1339,-403.1639C2004.65,-395.846 1994.6387,-388.737 1984.119,-384.4571 1957.268,-373.5331 1886.9731,-369.213 1831.3753,-367.5183\"/>\n<polygon fill=\"#6c48d2\" stroke=\"#6c48d2\" points=\"1831.2733,-364.0141 1821.1788,-367.2314 1831.0764,-371.0114 1831.2733,-364.0141\"/>\n<text text-anchor=\"middle\" x=\"1911.619\" y=\"-389.6571\" font-family=\"Arial\" font-size=\"16.00\" fill=\"#000000\">p = 1.0 &#160;reward =&#45;15</text>\n</g>\n<!-- 損壞&#45;加工&#45;&gt;損壞 -->\n<g id=\"edge41\" class=\"edge\">\n<title>損壞&#45;加工&#45;&gt;損壞</title>\n<path fill=\"none\" stroke=\"#6c48d2\" stroke-dasharray=\"5,2\" d=\"M2002.6093,-435.4C1962.239,-436.412 1894.7739,-431.5118 1839.119,-415.4571 1832.3223,-413.4965 1825.3947,-411.0282 1818.5821,-408.2389\"/>\n<polygon fill=\"#6c48d2\" stroke=\"#6c48d2\" points=\"1819.9536,-405.0188 1809.3864,-404.254 1817.1703,-411.4417 1819.9536,-405.0188\"/>\n</g>\n<!-- 損壞&#45;保養&#45;&gt;損壞 -->\n<g id=\"edge43\" class=\"edge\">\n<title>損壞&#45;保養&#45;&gt;損壞</title>\n<path fill=\"none\" stroke=\"#6c48d2\" stroke-dasharray=\"5,2\" d=\"M2004.2352,-327.0608C1997.6463,-325.1477 1990.732,-323.4723 1984.119,-322.4571 1920.4208,-312.6782 1901.6787,-306.9858 1839.119,-322.4571 1833.0634,-323.9547 1826.9623,-325.9796 1820.963,-328.342\"/>\n<polygon fill=\"#6c48d2\" stroke=\"#6c48d2\" points=\"1819.4744,-325.1716 1811.6405,-332.3047 1822.2128,-331.6137 1819.4744,-325.1716\"/>\n<text text-anchor=\"middle\" x=\"1911.619\" y=\"-327.6571\" font-family=\"Arial\" font-size=\"16.00\" fill=\"#000000\">p = 1.0 &#160;reward =&#45;15</text>\n</g>\n<!-- 損壞&#45;保養&#45;&gt;損壞 -->\n<g id=\"edge44\" class=\"edge\">\n<title>損壞&#45;保養&#45;&gt;損壞</title>\n<path fill=\"none\" stroke=\"#6c48d2\" stroke-dasharray=\"5,2\" d=\"M2002.7142,-347.5026C1959.9584,-353.7863 1886.9247,-361.2313 1831.311,-365.2802\"/>\n<polygon fill=\"#6c48d2\" stroke=\"#6c48d2\" points=\"1830.8704,-361.8025 1821.1407,-365.9957 1831.3616,-368.7852 1830.8704,-361.8025\"/>\n</g>\n</g>\n</svg>\n"
          },
          "metadata": {}
        }
      ],
      "source": [
        "maintain_policy = {s: \"保養\" for s in mdp.get_all_states()}\n",
        "vpi_maintain, policy_maintain = policy_iteration(mdp, policy=maintain_policy, gamma=0.5, num_iter=1000, min_difference=1e-5)\n",
        "\n",
        "if has_graphviz:\n",
        "    display(plot_graph_with_state_values(mdp, vpi_maintain))"
      ]
    },
    {
      "cell_type": "markdown",
      "source": [
        "由 (c) 和 (d) 的計算過程和結果可以看到雖然初始策略與計算過程不同（diff. 不一樣），但兩者的最佳策略和各狀態的價值是相同的。"
      ],
      "metadata": {
        "id": "V9GqRuPijw2J"
      }
    }
  ],
  "metadata": {
    "colab": {
      "collapsed_sections": [
        "dEOzRWcPJFfB",
        "3pii6cACf2Hq",
        "v64L8o9pKPsi"
      ],
      "provenance": [],
      "toc_visible": true,
      "authorship_tag": "ABX9TyON7KXoVhOSPfkNp8aZYPc6",
      "include_colab_link": true
    },
    "kernelspec": {
      "display_name": "Python 3",
      "name": "python3"
    },
    "language_info": {
      "name": "python"
    }
  },
  "nbformat": 4,
  "nbformat_minor": 0
}