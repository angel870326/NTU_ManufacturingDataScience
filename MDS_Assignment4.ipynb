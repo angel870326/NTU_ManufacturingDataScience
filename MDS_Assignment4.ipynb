{
  "nbformat": 4,
  "nbformat_minor": 0,
  "metadata": {
    "colab": {
      "provenance": [],
      "collapsed_sections": [
        "dEOzRWcPJFfB",
        "3pii6cACf2Hq",
        "v64L8o9pKPsi"
      ],
      "authorship_tag": "ABX9TyNeqcM+HTNCT575R/vwhoED",
      "include_colab_link": true
    },
    "kernelspec": {
      "name": "python3",
      "display_name": "Python 3"
    },
    "language_info": {
      "name": "python"
    }
  },
  "cells": [
    {
      "cell_type": "markdown",
      "metadata": {
        "id": "view-in-github",
        "colab_type": "text"
      },
      "source": [
        "<a href=\"https://colab.research.google.com/github/angel870326/NTU_Manufacturing_Data_Science/blob/main/MDS_Assignment4.ipynb\" target=\"_parent\"><img src=\"https://colab.research.google.com/assets/colab-badge.svg\" alt=\"Open In Colab\"/></a>"
      ]
    },
    {
      "cell_type": "markdown",
      "source": [
        "> 2022.12. Ssu-Yun Wang<br/>\n",
        "[Github @angel870326](https://github.com/angel870326)\n",
        "\n",
        "# **Manufacturing Data Science Assignment 4**\n",
        "\n",
        "\n",
        "1.   (40%) Data Imbalance Problem\n",
        "2.   (30%) Programming Questions\n",
        "3.   (30%) Markov Decision Process\n"
      ],
      "metadata": {
        "id": "a1FWjFHjPpNl"
      }
    },
    {
      "cell_type": "code",
      "source": [
        "# sConnect to the Google Drive\n",
        "from google.colab import drive\n",
        "drive.mount(\"/content/gdrive\")"
      ],
      "metadata": {
        "colab": {
          "base_uri": "https://localhost:8080/"
        },
        "id": "CAKAO8umRseJ",
        "outputId": "5f7250fa-4f85-4b5d-ac82-37206fc03ce3"
      },
      "execution_count": 1,
      "outputs": [
        {
          "output_type": "stream",
          "name": "stdout",
          "text": [
            "Mounted at /content/gdrive\n"
          ]
        }
      ]
    },
    {
      "cell_type": "code",
      "source": [
        "import pandas as pd\n",
        "import numpy as np\n",
        "import seaborn as sns\n",
        "import matplotlib.pyplot as plt"
      ],
      "metadata": {
        "id": "c4mNcdP7SkqZ"
      },
      "execution_count": 2,
      "outputs": []
    },
    {
      "cell_type": "markdown",
      "source": [
        "\n",
        "\n",
        "---\n",
        "\n",
        "\n",
        "##**1. (40%) Data Imbalance Problem**\n",
        "\n",
        "在 UCI Machine Learning Repository 開放數據中包含了一個半導體製造數據([semiconductor manufacturing dataset](https://archive.ics.uci.edu/ml/datasets/SECOM))，一共包含了 1,567 個觀測值，而每個觀測值具有 590 個特徵（感測值的量測結果）以及作為目標值的測試結果（為二元變數，良品為 -1，不良品為 1），其中不良品僅有 104 個樣本。試著參考網路資源學習並撰寫程式，使用此數據回答下列問題。"
      ],
      "metadata": {
        "id": "dEOzRWcPJFfB"
      }
    },
    {
      "cell_type": "code",
      "source": [
        "data_secom = pd.read_excel('/content/gdrive/MyDrive/碩二上/製造數據科學/Assignment/Assignment 4/Assignment4_Data/MDS_Assignment4_SECOM.xlsx', sheet_name=1).iloc[:,1:-1] # Drop column 'Time' which is not concerned in this case.\n",
        "print(data_secom.shape)\n",
        "data_secom"
      ],
      "metadata": {
        "id": "r61SOzT5SOjW",
        "colab": {
          "base_uri": "https://localhost:8080/",
          "height": 506
        },
        "outputId": "a41e3a92-36a2-4003-c37c-282d569cbe96"
      },
      "execution_count": 3,
      "outputs": [
        {
          "output_type": "stream",
          "name": "stdout",
          "text": [
            "(1567, 591)\n"
          ]
        },
        {
          "output_type": "execute_result",
          "data": {
            "text/plain": [
              "      Sensor_1  Sensor_2   Sensor_3   Sensor_4  Sensor_5  Sensor_6  Sensor_7  \\\n",
              "0      3030.93   2564.00  2187.7333  1411.1265    1.3602     100.0   97.6133   \n",
              "1      3095.78   2465.14  2230.4222  1463.6606    0.8294     100.0  102.3433   \n",
              "2      2932.61   2559.94  2186.4111  1698.0172    1.5102     100.0   95.4878   \n",
              "3      2988.72   2479.90  2199.0333   909.7926    1.3204     100.0  104.2367   \n",
              "4      3032.24   2502.87  2233.3667  1326.5200    1.5334     100.0  100.3967   \n",
              "...        ...       ...        ...        ...       ...       ...       ...   \n",
              "1562   2899.41   2464.36  2179.7333  3085.3781    1.4843     100.0   82.2467   \n",
              "1563   3052.31   2522.55  2198.5667  1124.6595    0.8763     100.0   98.4689   \n",
              "1564   2978.81   2379.78  2206.3000  1110.4967    0.8236     100.0   99.4122   \n",
              "1565   2894.92   2532.01  2177.0333  1183.7287    1.5726     100.0   98.7978   \n",
              "1566   2944.92   2450.76  2195.4444  2914.1792    1.5978     100.0   85.1011   \n",
              "\n",
              "      Sensor_8  Sensor_9  Sensor_10  ...  Sensor_582  Sensor_583  Sensor_584  \\\n",
              "0       0.1242    1.5005     0.0162  ...         NaN      0.5005      0.0118   \n",
              "1       0.1247    1.4966    -0.0005  ...    208.2045      0.5019      0.0223   \n",
              "2       0.1241    1.4436     0.0041  ...     82.8602      0.4958      0.0157   \n",
              "3       0.1217    1.4882    -0.0124  ...     73.8432      0.4990      0.0103   \n",
              "4       0.1235    1.5031    -0.0031  ...         NaN      0.4800      0.4766   \n",
              "...        ...       ...        ...  ...         ...         ...         ...   \n",
              "1562    0.1248    1.3424    -0.0045  ...    203.1720      0.4988      0.0143   \n",
              "1563    0.1205    1.4333    -0.0061  ...         NaN      0.4975      0.0131   \n",
              "1564    0.1208       NaN        NaN  ...     43.5231      0.4987      0.0153   \n",
              "1565    0.1213    1.4622    -0.0072  ...     93.4941      0.5004      0.0178   \n",
              "1566    0.1235       NaN        NaN  ...    137.7844      0.4987      0.0181   \n",
              "\n",
              "      Sensor_585  Sensor_586  Sensor_587  Sensor_588  Sensor_589  Sensor_590  \\\n",
              "0         0.0035      2.3630         NaN         NaN         NaN         NaN   \n",
              "1         0.0055      4.4447      0.0096      0.0201      0.0060    208.2045   \n",
              "2         0.0039      3.1745      0.0584      0.0484      0.0148     82.8602   \n",
              "3         0.0025      2.0544      0.0202      0.0149      0.0044     73.8432   \n",
              "4         0.1045     99.3032      0.0202      0.0149      0.0044     73.8432   \n",
              "...          ...         ...         ...         ...         ...         ...   \n",
              "1562      0.0039      2.8669      0.0068      0.0138      0.0047    203.1720   \n",
              "1563      0.0036      2.6238      0.0068      0.0138      0.0047    203.1720   \n",
              "1564      0.0041      3.0590      0.0197      0.0086      0.0025     43.5231   \n",
              "1565      0.0038      3.5662      0.0262      0.0245      0.0075     93.4941   \n",
              "1566      0.0040      3.6275      0.0117      0.0162      0.0045    137.7844   \n",
              "\n",
              "      Label  \n",
              "0        -1  \n",
              "1        -1  \n",
              "2         1  \n",
              "3        -1  \n",
              "4        -1  \n",
              "...     ...  \n",
              "1562     -1  \n",
              "1563     -1  \n",
              "1564     -1  \n",
              "1565     -1  \n",
              "1566     -1  \n",
              "\n",
              "[1567 rows x 591 columns]"
            ],
            "text/html": [
              "\n",
              "  <div id=\"df-de52d107-95fe-4931-9fef-e264192832cb\">\n",
              "    <div class=\"colab-df-container\">\n",
              "      <div>\n",
              "<style scoped>\n",
              "    .dataframe tbody tr th:only-of-type {\n",
              "        vertical-align: middle;\n",
              "    }\n",
              "\n",
              "    .dataframe tbody tr th {\n",
              "        vertical-align: top;\n",
              "    }\n",
              "\n",
              "    .dataframe thead th {\n",
              "        text-align: right;\n",
              "    }\n",
              "</style>\n",
              "<table border=\"1\" class=\"dataframe\">\n",
              "  <thead>\n",
              "    <tr style=\"text-align: right;\">\n",
              "      <th></th>\n",
              "      <th>Sensor_1</th>\n",
              "      <th>Sensor_2</th>\n",
              "      <th>Sensor_3</th>\n",
              "      <th>Sensor_4</th>\n",
              "      <th>Sensor_5</th>\n",
              "      <th>Sensor_6</th>\n",
              "      <th>Sensor_7</th>\n",
              "      <th>Sensor_8</th>\n",
              "      <th>Sensor_9</th>\n",
              "      <th>Sensor_10</th>\n",
              "      <th>...</th>\n",
              "      <th>Sensor_582</th>\n",
              "      <th>Sensor_583</th>\n",
              "      <th>Sensor_584</th>\n",
              "      <th>Sensor_585</th>\n",
              "      <th>Sensor_586</th>\n",
              "      <th>Sensor_587</th>\n",
              "      <th>Sensor_588</th>\n",
              "      <th>Sensor_589</th>\n",
              "      <th>Sensor_590</th>\n",
              "      <th>Label</th>\n",
              "    </tr>\n",
              "  </thead>\n",
              "  <tbody>\n",
              "    <tr>\n",
              "      <th>0</th>\n",
              "      <td>3030.93</td>\n",
              "      <td>2564.00</td>\n",
              "      <td>2187.7333</td>\n",
              "      <td>1411.1265</td>\n",
              "      <td>1.3602</td>\n",
              "      <td>100.0</td>\n",
              "      <td>97.6133</td>\n",
              "      <td>0.1242</td>\n",
              "      <td>1.5005</td>\n",
              "      <td>0.0162</td>\n",
              "      <td>...</td>\n",
              "      <td>NaN</td>\n",
              "      <td>0.5005</td>\n",
              "      <td>0.0118</td>\n",
              "      <td>0.0035</td>\n",
              "      <td>2.3630</td>\n",
              "      <td>NaN</td>\n",
              "      <td>NaN</td>\n",
              "      <td>NaN</td>\n",
              "      <td>NaN</td>\n",
              "      <td>-1</td>\n",
              "    </tr>\n",
              "    <tr>\n",
              "      <th>1</th>\n",
              "      <td>3095.78</td>\n",
              "      <td>2465.14</td>\n",
              "      <td>2230.4222</td>\n",
              "      <td>1463.6606</td>\n",
              "      <td>0.8294</td>\n",
              "      <td>100.0</td>\n",
              "      <td>102.3433</td>\n",
              "      <td>0.1247</td>\n",
              "      <td>1.4966</td>\n",
              "      <td>-0.0005</td>\n",
              "      <td>...</td>\n",
              "      <td>208.2045</td>\n",
              "      <td>0.5019</td>\n",
              "      <td>0.0223</td>\n",
              "      <td>0.0055</td>\n",
              "      <td>4.4447</td>\n",
              "      <td>0.0096</td>\n",
              "      <td>0.0201</td>\n",
              "      <td>0.0060</td>\n",
              "      <td>208.2045</td>\n",
              "      <td>-1</td>\n",
              "    </tr>\n",
              "    <tr>\n",
              "      <th>2</th>\n",
              "      <td>2932.61</td>\n",
              "      <td>2559.94</td>\n",
              "      <td>2186.4111</td>\n",
              "      <td>1698.0172</td>\n",
              "      <td>1.5102</td>\n",
              "      <td>100.0</td>\n",
              "      <td>95.4878</td>\n",
              "      <td>0.1241</td>\n",
              "      <td>1.4436</td>\n",
              "      <td>0.0041</td>\n",
              "      <td>...</td>\n",
              "      <td>82.8602</td>\n",
              "      <td>0.4958</td>\n",
              "      <td>0.0157</td>\n",
              "      <td>0.0039</td>\n",
              "      <td>3.1745</td>\n",
              "      <td>0.0584</td>\n",
              "      <td>0.0484</td>\n",
              "      <td>0.0148</td>\n",
              "      <td>82.8602</td>\n",
              "      <td>1</td>\n",
              "    </tr>\n",
              "    <tr>\n",
              "      <th>3</th>\n",
              "      <td>2988.72</td>\n",
              "      <td>2479.90</td>\n",
              "      <td>2199.0333</td>\n",
              "      <td>909.7926</td>\n",
              "      <td>1.3204</td>\n",
              "      <td>100.0</td>\n",
              "      <td>104.2367</td>\n",
              "      <td>0.1217</td>\n",
              "      <td>1.4882</td>\n",
              "      <td>-0.0124</td>\n",
              "      <td>...</td>\n",
              "      <td>73.8432</td>\n",
              "      <td>0.4990</td>\n",
              "      <td>0.0103</td>\n",
              "      <td>0.0025</td>\n",
              "      <td>2.0544</td>\n",
              "      <td>0.0202</td>\n",
              "      <td>0.0149</td>\n",
              "      <td>0.0044</td>\n",
              "      <td>73.8432</td>\n",
              "      <td>-1</td>\n",
              "    </tr>\n",
              "    <tr>\n",
              "      <th>4</th>\n",
              "      <td>3032.24</td>\n",
              "      <td>2502.87</td>\n",
              "      <td>2233.3667</td>\n",
              "      <td>1326.5200</td>\n",
              "      <td>1.5334</td>\n",
              "      <td>100.0</td>\n",
              "      <td>100.3967</td>\n",
              "      <td>0.1235</td>\n",
              "      <td>1.5031</td>\n",
              "      <td>-0.0031</td>\n",
              "      <td>...</td>\n",
              "      <td>NaN</td>\n",
              "      <td>0.4800</td>\n",
              "      <td>0.4766</td>\n",
              "      <td>0.1045</td>\n",
              "      <td>99.3032</td>\n",
              "      <td>0.0202</td>\n",
              "      <td>0.0149</td>\n",
              "      <td>0.0044</td>\n",
              "      <td>73.8432</td>\n",
              "      <td>-1</td>\n",
              "    </tr>\n",
              "    <tr>\n",
              "      <th>...</th>\n",
              "      <td>...</td>\n",
              "      <td>...</td>\n",
              "      <td>...</td>\n",
              "      <td>...</td>\n",
              "      <td>...</td>\n",
              "      <td>...</td>\n",
              "      <td>...</td>\n",
              "      <td>...</td>\n",
              "      <td>...</td>\n",
              "      <td>...</td>\n",
              "      <td>...</td>\n",
              "      <td>...</td>\n",
              "      <td>...</td>\n",
              "      <td>...</td>\n",
              "      <td>...</td>\n",
              "      <td>...</td>\n",
              "      <td>...</td>\n",
              "      <td>...</td>\n",
              "      <td>...</td>\n",
              "      <td>...</td>\n",
              "      <td>...</td>\n",
              "    </tr>\n",
              "    <tr>\n",
              "      <th>1562</th>\n",
              "      <td>2899.41</td>\n",
              "      <td>2464.36</td>\n",
              "      <td>2179.7333</td>\n",
              "      <td>3085.3781</td>\n",
              "      <td>1.4843</td>\n",
              "      <td>100.0</td>\n",
              "      <td>82.2467</td>\n",
              "      <td>0.1248</td>\n",
              "      <td>1.3424</td>\n",
              "      <td>-0.0045</td>\n",
              "      <td>...</td>\n",
              "      <td>203.1720</td>\n",
              "      <td>0.4988</td>\n",
              "      <td>0.0143</td>\n",
              "      <td>0.0039</td>\n",
              "      <td>2.8669</td>\n",
              "      <td>0.0068</td>\n",
              "      <td>0.0138</td>\n",
              "      <td>0.0047</td>\n",
              "      <td>203.1720</td>\n",
              "      <td>-1</td>\n",
              "    </tr>\n",
              "    <tr>\n",
              "      <th>1563</th>\n",
              "      <td>3052.31</td>\n",
              "      <td>2522.55</td>\n",
              "      <td>2198.5667</td>\n",
              "      <td>1124.6595</td>\n",
              "      <td>0.8763</td>\n",
              "      <td>100.0</td>\n",
              "      <td>98.4689</td>\n",
              "      <td>0.1205</td>\n",
              "      <td>1.4333</td>\n",
              "      <td>-0.0061</td>\n",
              "      <td>...</td>\n",
              "      <td>NaN</td>\n",
              "      <td>0.4975</td>\n",
              "      <td>0.0131</td>\n",
              "      <td>0.0036</td>\n",
              "      <td>2.6238</td>\n",
              "      <td>0.0068</td>\n",
              "      <td>0.0138</td>\n",
              "      <td>0.0047</td>\n",
              "      <td>203.1720</td>\n",
              "      <td>-1</td>\n",
              "    </tr>\n",
              "    <tr>\n",
              "      <th>1564</th>\n",
              "      <td>2978.81</td>\n",
              "      <td>2379.78</td>\n",
              "      <td>2206.3000</td>\n",
              "      <td>1110.4967</td>\n",
              "      <td>0.8236</td>\n",
              "      <td>100.0</td>\n",
              "      <td>99.4122</td>\n",
              "      <td>0.1208</td>\n",
              "      <td>NaN</td>\n",
              "      <td>NaN</td>\n",
              "      <td>...</td>\n",
              "      <td>43.5231</td>\n",
              "      <td>0.4987</td>\n",
              "      <td>0.0153</td>\n",
              "      <td>0.0041</td>\n",
              "      <td>3.0590</td>\n",
              "      <td>0.0197</td>\n",
              "      <td>0.0086</td>\n",
              "      <td>0.0025</td>\n",
              "      <td>43.5231</td>\n",
              "      <td>-1</td>\n",
              "    </tr>\n",
              "    <tr>\n",
              "      <th>1565</th>\n",
              "      <td>2894.92</td>\n",
              "      <td>2532.01</td>\n",
              "      <td>2177.0333</td>\n",
              "      <td>1183.7287</td>\n",
              "      <td>1.5726</td>\n",
              "      <td>100.0</td>\n",
              "      <td>98.7978</td>\n",
              "      <td>0.1213</td>\n",
              "      <td>1.4622</td>\n",
              "      <td>-0.0072</td>\n",
              "      <td>...</td>\n",
              "      <td>93.4941</td>\n",
              "      <td>0.5004</td>\n",
              "      <td>0.0178</td>\n",
              "      <td>0.0038</td>\n",
              "      <td>3.5662</td>\n",
              "      <td>0.0262</td>\n",
              "      <td>0.0245</td>\n",
              "      <td>0.0075</td>\n",
              "      <td>93.4941</td>\n",
              "      <td>-1</td>\n",
              "    </tr>\n",
              "    <tr>\n",
              "      <th>1566</th>\n",
              "      <td>2944.92</td>\n",
              "      <td>2450.76</td>\n",
              "      <td>2195.4444</td>\n",
              "      <td>2914.1792</td>\n",
              "      <td>1.5978</td>\n",
              "      <td>100.0</td>\n",
              "      <td>85.1011</td>\n",
              "      <td>0.1235</td>\n",
              "      <td>NaN</td>\n",
              "      <td>NaN</td>\n",
              "      <td>...</td>\n",
              "      <td>137.7844</td>\n",
              "      <td>0.4987</td>\n",
              "      <td>0.0181</td>\n",
              "      <td>0.0040</td>\n",
              "      <td>3.6275</td>\n",
              "      <td>0.0117</td>\n",
              "      <td>0.0162</td>\n",
              "      <td>0.0045</td>\n",
              "      <td>137.7844</td>\n",
              "      <td>-1</td>\n",
              "    </tr>\n",
              "  </tbody>\n",
              "</table>\n",
              "<p>1567 rows × 591 columns</p>\n",
              "</div>\n",
              "      <button class=\"colab-df-convert\" onclick=\"convertToInteractive('df-de52d107-95fe-4931-9fef-e264192832cb')\"\n",
              "              title=\"Convert this dataframe to an interactive table.\"\n",
              "              style=\"display:none;\">\n",
              "        \n",
              "  <svg xmlns=\"http://www.w3.org/2000/svg\" height=\"24px\"viewBox=\"0 0 24 24\"\n",
              "       width=\"24px\">\n",
              "    <path d=\"M0 0h24v24H0V0z\" fill=\"none\"/>\n",
              "    <path d=\"M18.56 5.44l.94 2.06.94-2.06 2.06-.94-2.06-.94-.94-2.06-.94 2.06-2.06.94zm-11 1L8.5 8.5l.94-2.06 2.06-.94-2.06-.94L8.5 2.5l-.94 2.06-2.06.94zm10 10l.94 2.06.94-2.06 2.06-.94-2.06-.94-.94-2.06-.94 2.06-2.06.94z\"/><path d=\"M17.41 7.96l-1.37-1.37c-.4-.4-.92-.59-1.43-.59-.52 0-1.04.2-1.43.59L10.3 9.45l-7.72 7.72c-.78.78-.78 2.05 0 2.83L4 21.41c.39.39.9.59 1.41.59.51 0 1.02-.2 1.41-.59l7.78-7.78 2.81-2.81c.8-.78.8-2.07 0-2.86zM5.41 20L4 18.59l7.72-7.72 1.47 1.35L5.41 20z\"/>\n",
              "  </svg>\n",
              "      </button>\n",
              "      \n",
              "  <style>\n",
              "    .colab-df-container {\n",
              "      display:flex;\n",
              "      flex-wrap:wrap;\n",
              "      gap: 12px;\n",
              "    }\n",
              "\n",
              "    .colab-df-convert {\n",
              "      background-color: #E8F0FE;\n",
              "      border: none;\n",
              "      border-radius: 50%;\n",
              "      cursor: pointer;\n",
              "      display: none;\n",
              "      fill: #1967D2;\n",
              "      height: 32px;\n",
              "      padding: 0 0 0 0;\n",
              "      width: 32px;\n",
              "    }\n",
              "\n",
              "    .colab-df-convert:hover {\n",
              "      background-color: #E2EBFA;\n",
              "      box-shadow: 0px 1px 2px rgba(60, 64, 67, 0.3), 0px 1px 3px 1px rgba(60, 64, 67, 0.15);\n",
              "      fill: #174EA6;\n",
              "    }\n",
              "\n",
              "    [theme=dark] .colab-df-convert {\n",
              "      background-color: #3B4455;\n",
              "      fill: #D2E3FC;\n",
              "    }\n",
              "\n",
              "    [theme=dark] .colab-df-convert:hover {\n",
              "      background-color: #434B5C;\n",
              "      box-shadow: 0px 1px 3px 1px rgba(0, 0, 0, 0.15);\n",
              "      filter: drop-shadow(0px 1px 2px rgba(0, 0, 0, 0.3));\n",
              "      fill: #FFFFFF;\n",
              "    }\n",
              "  </style>\n",
              "\n",
              "      <script>\n",
              "        const buttonEl =\n",
              "          document.querySelector('#df-de52d107-95fe-4931-9fef-e264192832cb button.colab-df-convert');\n",
              "        buttonEl.style.display =\n",
              "          google.colab.kernel.accessAllowed ? 'block' : 'none';\n",
              "\n",
              "        async function convertToInteractive(key) {\n",
              "          const element = document.querySelector('#df-de52d107-95fe-4931-9fef-e264192832cb');\n",
              "          const dataTable =\n",
              "            await google.colab.kernel.invokeFunction('convertToInteractive',\n",
              "                                                     [key], {});\n",
              "          if (!dataTable) return;\n",
              "\n",
              "          const docLinkHtml = 'Like what you see? Visit the ' +\n",
              "            '<a target=\"_blank\" href=https://colab.research.google.com/notebooks/data_table.ipynb>data table notebook</a>'\n",
              "            + ' to learn more about interactive tables.';\n",
              "          element.innerHTML = '';\n",
              "          dataTable['output_type'] = 'display_data';\n",
              "          await google.colab.output.renderOutput(dataTable, element);\n",
              "          const docLink = document.createElement('div');\n",
              "          docLink.innerHTML = docLinkHtml;\n",
              "          element.appendChild(docLink);\n",
              "        }\n",
              "      </script>\n",
              "    </div>\n",
              "  </div>\n",
              "  "
            ]
          },
          "metadata": {},
          "execution_count": 3
        }
      ]
    },
    {
      "cell_type": "markdown",
      "source": [
        "#### **Preprocessing**"
      ],
      "metadata": {
        "id": "3pii6cACf2Hq"
      }
    },
    {
      "cell_type": "code",
      "source": [
        "# Drop duplicate columns\n",
        "data_secom_1 = data_secom.T.drop_duplicates().T\n",
        "print(data_secom_1.shape)"
      ],
      "metadata": {
        "colab": {
          "base_uri": "https://localhost:8080/"
        },
        "id": "jNpBIxGEf5bL",
        "outputId": "39280995-94e2-4eec-a46f-db318e37632e"
      },
      "execution_count": 4,
      "outputs": [
        {
          "output_type": "stream",
          "name": "stdout",
          "text": [
            "(1567, 487)\n"
          ]
        }
      ]
    },
    {
      "cell_type": "code",
      "source": [
        "# Drop redundant columns\n",
        "data_secom_clean = data_secom_1.loc[:,data_secom_1.apply(pd.Series.nunique) != 1]\n",
        "print(data_secom_clean.shape)"
      ],
      "metadata": {
        "colab": {
          "base_uri": "https://localhost:8080/"
        },
        "id": "QCSOLyMjgcLj",
        "outputId": "5cffcec2-7e06-45cd-8000-7430cc1028ac"
      },
      "execution_count": 5,
      "outputs": [
        {
          "output_type": "stream",
          "name": "stdout",
          "text": [
            "(1567, 475)\n"
          ]
        }
      ]
    },
    {
      "cell_type": "code",
      "source": [
        "# Count missing values\n",
        "count_nan = data_secom.isnull().sum().sum()\n",
        "print ('Number of missing values: ', count_nan)"
      ],
      "metadata": {
        "colab": {
          "base_uri": "https://localhost:8080/"
        },
        "id": "eHDCTOuLiBwh",
        "outputId": "4671eb7a-a874-4fa0-82ce-5d0342e56459"
      },
      "execution_count": 6,
      "outputs": [
        {
          "output_type": "stream",
          "name": "stdout",
          "text": [
            "Number of missing values:  41951\n"
          ]
        }
      ]
    },
    {
      "cell_type": "code",
      "source": [
        "# Percentage of missing values in each column\n",
        "secom_nan = pd.DataFrame(data_secom.isnull().sum(), columns=['nan_count'])\n",
        "secom_nan['nan_percent'] = secom_nan['nan_count'] / len(data_secom)\n",
        "plt.scatter(range(0, secom_nan.shape[0]),secom_nan['nan_percent'])\n",
        "plt.show()"
      ],
      "metadata": {
        "colab": {
          "base_uri": "https://localhost:8080/",
          "height": 0
        },
        "id": "LpO-85e7iMz4",
        "outputId": "87b67473-d396-4d6c-eab8-271106a564ca"
      },
      "execution_count": 7,
      "outputs": [
        {
          "output_type": "display_data",
          "data": {
            "text/plain": [
              "<Figure size 432x288 with 1 Axes>"
            ],
            "image/png": "[encoded data removed]"
          },
          "metadata": {
            "needs_background": "light"
          }
        }
      ]
    },
    {
      "cell_type": "code",
      "source": [
        "# Drop columns with more than 40% missing values\n",
        "secom_nan_40up = secom_nan[secom_nan['nan_percent'] > 0.4]\n",
        "nan_column_droplist = secom_nan_40up.index\n",
        "data_secom_clean = data_secom_clean.drop(nan_column_droplist, axis = 1)\n",
        "print(data_secom_clean.shape)"
      ],
      "metadata": {
        "colab": {
          "base_uri": "https://localhost:8080/"
        },
        "id": "RFnbAoI6iIYB",
        "outputId": "af49ff87-c2a3-41bb-fcd1-a1d7961e975b"
      },
      "execution_count": 8,
      "outputs": [
        {
          "output_type": "stream",
          "name": "stdout",
          "text": [
            "(1567, 443)\n"
          ]
        }
      ]
    },
    {
      "cell_type": "code",
      "source": [
        "# Missing Value Imputation: K-Nearest Neighbour (KNN) Imputation\n",
        "from sklearn.impute import KNNImputer\n",
        "knn_imputer = KNNImputer(missing_values=np.nan, n_neighbors=5, weights='uniform', metric='nan_euclidean') # default\n",
        "data_secom_clean_imputed = pd.DataFrame(knn_imputer.fit_transform(data_secom_clean), columns=data_secom_clean.columns)\n",
        "print(data_secom_clean_imputed.shape)\n",
        "print ('Number of missing values: ', data_secom_clean_imputed.isnull().sum().sum())"
      ],
      "metadata": {
        "colab": {
          "base_uri": "https://localhost:8080/"
        },
        "id": "mTjG3mTWiV5D",
        "outputId": "b58f8ddc-64d5-40cf-95c8-26c8eb7c4794"
      },
      "execution_count": 9,
      "outputs": [
        {
          "output_type": "stream",
          "name": "stdout",
          "text": [
            "(1567, 443)\n",
            "Number of missing values:  0\n"
          ]
        }
      ]
    },
    {
      "cell_type": "code",
      "source": [
        "# Split data into x and y\n",
        "data_secom_x = data_secom_clean_imputed.iloc[:, :-1]\n",
        "data_secom_y = data_secom_clean_imputed['Label']\n",
        "print(data_secom_x.shape)"
      ],
      "metadata": {
        "colab": {
          "base_uri": "https://localhost:8080/"
        },
        "id": "BqWmM8asff4f",
        "outputId": "2309c2a5-270d-4595-89e2-3a8aa9412fc6"
      },
      "execution_count": 10,
      "outputs": [
        {
          "output_type": "stream",
          "name": "stdout",
          "text": [
            "(1567, 442)\n"
          ]
        }
      ]
    },
    {
      "cell_type": "markdown",
      "source": [
        "###**(a) (15%) 試在該數據分析流程中加入數據平衡的步驟，使用三種方法來進行數據平衡 (e.g. 使用上抽樣、下抽樣或是代價敏感學習等)。**\n"
      ],
      "metadata": {
        "id": "I6V_ZfLQJf15"
      }
    },
    {
      "cell_type": "code",
      "source": [
        "# Check if Y is imbalanced\n",
        "data_secom_y.value_counts()"
      ],
      "metadata": {
        "colab": {
          "base_uri": "https://localhost:8080/"
        },
        "id": "hxTzOhgMd_Su",
        "outputId": "d7199991-94af-4685-bbb9-f0226756d400"
      },
      "execution_count": null,
      "outputs": [
        {
          "output_type": "execute_result",
          "data": {
            "text/plain": [
              "-1.0    1463\n",
              " 1.0     104\n",
              "Name: Label, dtype: int64"
            ]
          },
          "metadata": {},
          "execution_count": 19
        }
      ]
    },
    {
      "cell_type": "markdown",
      "source": [
        "#### **Undersampling: Near Miss Undersampling**\n",
        "https://imbalanced-learn.org/stable/references/generated/imblearn.under_sampling.NearMiss.html"
      ],
      "metadata": {
        "id": "7XPRq26ZeuCl"
      }
    },
    {
      "cell_type": "code",
      "source": [
        "from imblearn.under_sampling import NearMiss\n",
        "data_secom_nearmiss_x, data_secom_nearmiss_y = NearMiss(version=3).fit_resample(data_secom_x, data_secom_y)\n",
        "data_secom_nearmiss_y.value_counts()"
      ],
      "metadata": {
        "colab": {
          "base_uri": "https://localhost:8080/"
        },
        "id": "uwDeOGuleyn1",
        "outputId": "1e7bb3f2-23c9-4231-d8ca-c5f601085132"
      },
      "execution_count": null,
      "outputs": [
        {
          "output_type": "execute_result",
          "data": {
            "text/plain": [
              "-1.0    104\n",
              " 1.0    104\n",
              "Name: Label, dtype: int64"
            ]
          },
          "metadata": {},
          "execution_count": 20
        }
      ]
    },
    {
      "cell_type": "markdown",
      "source": [
        "#### **Oversampling: SMOTE**\n",
        "https://imbalanced-learn.org/stable/references/generated/imblearn.over_sampling.SMOTE.html"
      ],
      "metadata": {
        "id": "j8YuhRekey_m"
      }
    },
    {
      "cell_type": "code",
      "source": [
        "from imblearn.over_sampling import SMOTE\n",
        "data_secom_smote_x, data_secom_smote_y = SMOTE(random_state=42).fit_resample(data_secom_x, data_secom_y)\n",
        "data_secom_smote_y.value_counts()"
      ],
      "metadata": {
        "colab": {
          "base_uri": "https://localhost:8080/"
        },
        "id": "YYtHTUsLfOsV",
        "outputId": "05b0936e-cea8-4fba-ff89-08526e49d564"
      },
      "execution_count": null,
      "outputs": [
        {
          "output_type": "execute_result",
          "data": {
            "text/plain": [
              "-1.0    1463\n",
              " 1.0    1463\n",
              "Name: Label, dtype: int64"
            ]
          },
          "metadata": {},
          "execution_count": 21
        }
      ]
    },
    {
      "cell_type": "markdown",
      "source": [
        "###**(b) (5%) 建議選用哪種方法最為合適？為什麼？**"
      ],
      "metadata": {
        "id": "LT7uuWYJJ7iM"
      }
    },
    {
      "cell_type": "markdown",
      "source": [],
      "metadata": {
        "id": "SxM43M76KaKc"
      }
    },
    {
      "cell_type": "markdown",
      "source": [
        "###**(c) (10%) 對於數據多數群與少數群的比例應當調整至多少？為什麼？試透過調整生成比率 (i.e. 敏感度分析) 來看模型分類結果。(提示：將敏感度分析以繪圖呈現兩條曲線，x 軸為 不同生成比例、y 軸為偽陽性率 (false positive rate) 與偽陰性率 (false negative rate)**\n"
      ],
      "metadata": {
        "id": "VIKf-WAiKDGC"
      }
    },
    {
      "cell_type": "code",
      "source": [],
      "metadata": {
        "id": "kEW_9AQyKUMB"
      },
      "execution_count": null,
      "outputs": []
    },
    {
      "cell_type": "markdown",
      "source": [
        "###**(d) (10%) 試說明特徵挑選步驟應於數據平衡前或後，這對預測結果有何影響？**\n",
        "\n"
      ],
      "metadata": {
        "id": "oxYM1kYuw24g"
      }
    },
    {
      "cell_type": "code",
      "source": [],
      "metadata": {
        "id": "kgRMb67mKTJI"
      },
      "execution_count": null,
      "outputs": []
    },
    {
      "cell_type": "markdown",
      "source": [
        "\n",
        "\n",
        "---\n",
        "\n",
        "\n",
        "##**2. (30%) Programming Questions**\n",
        "\n",
        "Please use Python to answer the following questions. Provide your code and justify your answer. Show all your work in detail including specific algorithm and parameter design. You should hand in ***TWO files (one for Tabu and one for Genetic Algorithm)*** regarding to each meta-heuristic algorithm, respectively. The result should include ***optimal solution (i.e., job sequence), optimal function (i.e. fitness) value, running time, number of tardy jobs***. For the parameter settings (eg. tabu size, crossover rate, mutation rate, etc.), please give a simple ***trial-and-error*** or ***design of experiment*** for sensitivity analysis.\n",
        "\n",
        "Single-Machine Scheduling Problem\n",
        "\n",
        "Please answer following single-machine total weighted tardiness problem. The objective function is to minimize the total weighted tardiness.\n",
        "\n",
        "\n",
        "<img src=\"https://drive.google.com/uc?export=view&id=1UdN2GZjCKRltwgmj24pRVJN8QIgtwavX\" width=\"800\"/>\n"
      ],
      "metadata": {
        "id": "At73VzKeKlY0"
      }
    },
    {
      "cell_type": "code",
      "source": [
        "import time"
      ],
      "metadata": {
        "id": "gJUSDDgFbDaM"
      },
      "execution_count": 11,
      "outputs": []
    },
    {
      "cell_type": "code",
      "source": [
        "input_data = {1: {'processing_time': 10, 'due_date': 50, 'weight': 10},\n",
        "              2: {'processing_time': 10, 'due_date': 38, 'weight': 5},\n",
        "              3: {'processing_time': 13, 'due_date': 49, 'weight': 1},\n",
        "              4: {'processing_time': 4, 'due_date': 12, 'weight': 5},\n",
        "              5: {'processing_time': 9, 'due_date': 20, 'weight': 10},\n",
        "              6: {'processing_time': 4, 'due_date': 105, 'weight': 1},\n",
        "              7: {'processing_time': 8, 'due_date': 73, 'weight': 5},\n",
        "              8: {'processing_time': 15, 'due_date': 45, 'weight': 10},\n",
        "              9: {'processing_time': 7, 'due_date': 6, 'weight': 5},\n",
        "              10: {'processing_time': 1, 'due_date': 64, 'weight': 1},\n",
        "              11: {'processing_time': 9, 'due_date': 15, 'weight': 5},\n",
        "              12: {'processing_time': 3, 'due_date': 6, 'weight': 10},\n",
        "              13: {'processing_time': 15, 'due_date': 92, 'weight': 10},\n",
        "              14: {'processing_time': 9, 'due_date': 43, 'weight': 5},\n",
        "              15: {'processing_time': 11, 'due_date': 78, 'weight': 1},\n",
        "              16: {'processing_time': 6, 'due_date': 21, 'weight': 10},\n",
        "              17: {'processing_time': 5, 'due_date': 15, 'weight': 5},\n",
        "              18: {'processing_time': 14, 'due_date': 50, 'weight': 5},\n",
        "              19: {'processing_time': 18, 'due_date': 150, 'weight': 1},\n",
        "              20: {'processing_time': 3, 'due_date': 99, 'weight': 5}}"
      ],
      "metadata": {
        "id": "BJni1neTx83Y"
      },
      "execution_count": 12,
      "outputs": []
    },
    {
      "cell_type": "markdown",
      "source": [
        "###**(a) (0%) Learn Genetic**\n",
        "\n",
        "https://www.youtube.com/watch?v=kHyNqSnzP8Y \n",
        "\n",
        "https://www.youtube.com/watch?v=Fdk7ZKJHFcI ."
      ],
      "metadata": {
        "id": "v64L8o9pKPsi"
      }
    },
    {
      "cell_type": "markdown",
      "source": [
        "###**(b) (15%) Develop Tabu Search (TS) algorithm to solve the problem. Show your design and the “result”.**\n",
        "\n",
        "Reference: https://medium.com/swlh/tabu-search-in-python-3199c44d44f1"
      ],
      "metadata": {
        "id": "tbNWj_zHK7zY"
      }
    },
    {
      "cell_type": "code",
      "source": [
        "import random as rd\n",
        "from itertools import combinations\n",
        "import math"
      ],
      "metadata": {
        "id": "0X64Wh2aLeK7"
      },
      "execution_count": 13,
      "outputs": []
    },
    {
      "cell_type": "code",
      "source": [
        "class TS():\n",
        "    def __init__(self, seed, tabu_tenure, terminate):\n",
        "    # def __init__(self, seed, tabu_tenure, Penalization_weight):\n",
        "        self.start_time_tabu = time.time()\n",
        "        self.seed = seed\n",
        "        self.tabu_tenure = tabu_tenure # Tabu list size\n",
        "        self.terminate = terminate\n",
        "        # self.Penalization_weight = Penalization_weight\n",
        "        self.input_dict = input_data\n",
        "        self.Initial_solution = self.get_InitialSolution()\n",
        "        self.tabu_str, self.Best_solution, self.Best_objvalue, self.Best_tardy_jobs = self.TabuSearch()\n",
        "        self.end_time_tabu = time.time()\n",
        "        # print(\"Running time: {}\".format(end_time_tabu - start_time_tabu))\n",
        "        # self.tabu_result = self.Result()\n",
        "\n",
        "    def get_tabuestructure(self):\n",
        "        '''\n",
        "        Takes a dict (input data)\n",
        "        Returns a dict of tabu attributes (pair of jobs that are swapped) as keys and [tabu_time, MoveValue]\n",
        "        '''\n",
        "        dict = {}\n",
        "        for swap in combinations(self.input_dict.keys(), 2):\n",
        "            dict[swap] = {'tabu_time': 0, 'MoveValue': 0}\n",
        "            # dict[swap] = {'tabu_time': 0, 'MoveValue': 0, 'freq': 0, 'Penalized_MV': 0}\n",
        "        return dict\n",
        "\n",
        "    def get_InitialSolution(self, show=False):\n",
        "        n_jobs = len(self.input_dict) # number of jobs\n",
        "        # Produce a random schedule of jobs\n",
        "        initial_solution = list(range(1, n_jobs+1))\n",
        "        rd.seed(self.seed)\n",
        "        rd.shuffle(initial_solution)\n",
        "        if show == True:\n",
        "            print(\"initial Random Solution: {}\".format(initial_solution))\n",
        "        return initial_solution\n",
        "\n",
        "    def Objfun(self, solution, show=False):\n",
        "        '''\n",
        "        Takes a set of scheduled jobs, dict (input data)\n",
        "        Return the objective function value of the solution\n",
        "        '''\n",
        "        dict = self.input_dict\n",
        "        t = 0   # starting time\n",
        "        objfun_value = 0\n",
        "        n_tardy_jobs = 0   # number of tardy jobs\n",
        "\n",
        "        for job in solution:\n",
        "            C_i = t + dict[job][\"processing_time\"]  # completion time\n",
        "            d_i = dict[job][\"due_date\"]   # due date of the job\n",
        "            T_i = max(0, C_i - d_i)    # tardiness for the job\n",
        "            W_i = dict[job][\"weight\"]  # job's weight\n",
        "\n",
        "            objfun_value +=  W_i * T_i\n",
        "            t = C_i\n",
        "            if T_i > 0:\n",
        "                n_tardy_jobs += 1\n",
        "        \n",
        "        if show == True:\n",
        "            print(\"\\n\",\"#\"*8, \"The Objective function value for {} solution schedule is: {}\".format(solution ,objfun_value),\"#\"*8)\n",
        "        return objfun_value, n_tardy_jobs\n",
        "\n",
        "    def SwapMove(self, solution, i ,j):\n",
        "        '''\n",
        "        Take a list (solution)\n",
        "        return a new neighbor solution with i, j swapped\n",
        "        '''\n",
        "        solution = solution.copy()\n",
        "        # job index in the solution:\n",
        "        i_index = solution.index(i)\n",
        "        j_index = solution.index(j)\n",
        "        #Swap\n",
        "        solution[i_index], solution[j_index] = solution[j_index], solution[i_index]\n",
        "        return solution\n",
        "\n",
        "    def TabuSearch(self, show=False):\n",
        "        '''\n",
        "        The implementation Tabu search algorithm with short-term memory and pair_swap as Tabu attribute.\n",
        "        '''\n",
        "        # Parameters:\n",
        "        tenure =self.tabu_tenure\n",
        "        tabu_structure = self.get_tabuestructure()  # Initialize the data structures\n",
        "        best_solution = self.Initial_solution\n",
        "        best_objvalue, best_tardy_jobs = self.Objfun(best_solution)\n",
        "        current_solution = self.Initial_solution\n",
        "        current_objvalue, current_tardy_jobs = self.Objfun(current_solution)\n",
        "\n",
        "        if show == True:\n",
        "            print(\"#\"*30, \"Short-term memory TS with Tabu Tenure: {}\\nInitial solution: {}, Initial objvalue: {}, Initial tardy jobs: {}\".format(\n",
        "                tenure, current_solution, current_objvalue, current_tardy_jobs), \"#\"*30, sep='\\n\\n')\n",
        "        iter = 1\n",
        "        Terminate = 0\n",
        "        while Terminate < self.terminate:\n",
        "            if show == True:\n",
        "                print('\\n\\n### iter {}###  Current_Objvalue: {}, Best_Objvalue: {}, Best_Tardy_Jobs: {}'.format(iter, current_objvalue, best_objvalue, best_tardy_jobs))\n",
        "            \n",
        "            # Searching the whole neighborhood of the current solution:\n",
        "            for move in tabu_structure:\n",
        "                candidate_solution = self.SwapMove(current_solution, move[0], move[1])\n",
        "                candidate_objvalue, candidate_tardy_jobs = self.Objfun(candidate_solution)\n",
        "                tabu_structure[move]['MoveValue'] = candidate_objvalue\n",
        "                # Penalized objValue by adding freq to Objvalue (minimization):\n",
        "                # tabu_structure[move]['Penalized_MV'] = candidate_objvalue + (tabu_structure[move]['freq'] * self.Penalization_weight)\n",
        "\n",
        "            # Admissible move\n",
        "            while True:\n",
        "                # select the move with the lowest ObjValue in the neighborhood (minimization)\n",
        "                best_move = min(tabu_structure, key =lambda x: tabu_structure[x]['MoveValue'])\n",
        "                MoveValue = tabu_structure[best_move][\"MoveValue\"]\n",
        "                tabu_time = tabu_structure[best_move][\"tabu_time\"]\n",
        "                # Penalized_MV = tabu_structure[best_move][\"Penalized_MV\"]\n",
        "\n",
        "                # Not Tabu\n",
        "                if tabu_time < iter:\n",
        "                    # make the move\n",
        "                    current_solution = self.SwapMove(current_solution, best_move[0], best_move[1])\n",
        "                    current_objvalue, current_tardy_jobs = self.Objfun(current_solution)\n",
        "                    # Best Improving move\n",
        "                    if MoveValue < best_objvalue:\n",
        "                        best_solution = current_solution\n",
        "                        best_objvalue = current_objvalue\n",
        "                        if show == True:\n",
        "                            print(\"   best_move: {}, Objvalue: {} => Best Improving => Admissible\".format(best_move, current_objvalue))\n",
        "                        Terminate = 0\n",
        "                    else:\n",
        "                        if show == True:\n",
        "                            print(\"   ##Termination: {}## best_move: {}, Objvalue: {} => Least non-improving => \"\n",
        "                              \"Admissible\".format(Terminate, best_move, current_objvalue))\n",
        "                        Terminate += 1\n",
        "                    # update tabu_time for the move\n",
        "                    tabu_structure[best_move]['tabu_time'] = iter + tenure\n",
        "                    # tabu_structure[best_move]['freq'] += 1\n",
        "                    iter += 1\n",
        "                    break\n",
        "\n",
        "                # If tabu\n",
        "                else:\n",
        "                    # Aspiration\n",
        "                    if MoveValue < best_objvalue:\n",
        "                        # make the move\n",
        "                        current_solution = self.SwapMove(current_solution, best_move[0], best_move[1])\n",
        "                        current_objvalue, current_tardy_jobs = self.Objfun(current_solution)\n",
        "                        best_solution = current_solution\n",
        "                        best_objvalue = current_objvalue\n",
        "                        if show == True:\n",
        "                            print(\"   best_move: {}, Objvalue: {} => Aspiration => Admissible\".format(best_move, current_objvalue))\n",
        "                        # tabu_structure[best_move]['freq'] += 1\n",
        "                        Terminate = 0\n",
        "                        iter += 1\n",
        "                        break\n",
        "                    else:\n",
        "                        tabu_structure[best_move][\"MoveValue\"] = float('inf')\n",
        "                        # tabu_structure[best_move]['Penalized_MV'] = float('inf')\n",
        "                        if show == True:\n",
        "                            print(\"   best_move: {}, Objvalue: {} => Tabu => Inadmissible\".format(best_move, current_objvalue))\n",
        "                        continue\n",
        "        if show == True:\n",
        "            print('\\n\\n','#'*50)\n",
        "            print(\"Performed iterations: {}\\nOptimal solution: {}\\nOptimal function value: {}\\nNumber of tardy jobs: {}\".format(iter, best_solution, best_objvalue, best_tardy_jobs), sep=\"\\n\\n\")\n",
        "        return tabu_structure, best_solution, best_objvalue, best_tardy_jobs\n",
        "\n",
        "    def Result(self):\n",
        "        return \"Optimal solution: {}\\nOptimal function value: {}\\nNumber of tardy jobs: {}\\nRunning time: {}\".format(self.Best_solution, self.Best_objvalue, self.Best_tardy_jobs, self.end_time_tabu - self.start_time_tabu)\n"
      ],
      "metadata": {
        "id": "exUeqf0hNgjU"
      },
      "execution_count": 20,
      "outputs": []
    },
    {
      "cell_type": "code",
      "source": [
        "# min_fitness_tabu = 9999\n",
        "# for i in range(1,21):\n",
        "#     tabu = TS(seed = 2022, tabu_tenure=3)\n",
        "#     print(tabu.Best_objvalue)\n",
        "# test = TS(seed = 2022, tabu_tenure = 3, terminate = 100)\n",
        "# test = TS(seed = 2022, tabu_tenure=3, Penalization_weight=0.6)\n",
        "# print(test.Result())"
      ],
      "metadata": {
        "id": "SuPWDGjASVee",
        "colab": {
          "base_uri": "https://localhost:8080/"
        },
        "outputId": "1b871d98-cf38-47cc-b91a-999e266e1c09"
      },
      "execution_count": 21,
      "outputs": [
        {
          "output_type": "stream",
          "name": "stdout",
          "text": [
            "Optimal solution:[12, 17, 4, 16, 5, 9, 8, 1, 11, 10, 7, 13, 20, 14, 2, 18, 6, 15, 3, 19]\n",
            "Optimal function value:1928\n",
            "Number of tardy jobs:14\n",
            "Running time:0.08411622047424316\n"
          ]
        }
      ]
    },
    {
      "cell_type": "code",
      "source": [
        "# Optimal solution:[12, 17, 4, 16, 5, 9, 8, 1, 11, 10, 7, 13, 20, 14, 2, 18, 6, 15, 3, 19]\n",
        "# Optimal function value:1928\n",
        "# Number of tardy jobs:14\n",
        "# Running time:0.3053591251373291"
      ],
      "metadata": {
        "id": "lrKBtIymsWlh"
      },
      "execution_count": null,
      "outputs": []
    },
    {
      "cell_type": "markdown",
      "source": [
        "#### **Sensitivity Analysis**\n",
        "\n",
        "tabu_size"
      ],
      "metadata": {
        "id": "cT858XHhjHUA"
      }
    },
    {
      "cell_type": "code",
      "source": [
        "tabu_analysis = pd.DataFrame(columns=['seeds','tabu size','fitness','tardy'])\n",
        "min_fitness_tabu = 9999\n",
        "for i in range(2000, 3000, 100):\n",
        "    for j in range(1, 20):\n",
        "        tabu = TS(seed = i, tabu_tenure=j, terminate = 100)\n",
        "        item = {'seeds': i,\n",
        "                'tabu size': j,\n",
        "                'fitness': tabu.Best_objvalue,\n",
        "                'tardy': tabu.Best_tardy_jobs,\n",
        "        }\n",
        "        item_df = pd.DataFrame(item, index=[0])\n",
        "        tabu_analysis = tabu_analysis.append(item_df)\n",
        "        if tabu.Best_objvalue < min_fitness_tabu:\n",
        "          min_fitness_tabu = tabu.Best_objvalue\n",
        "          tabu_result = tabu.Result()     \n",
        "\n",
        "tabu_analysis = tabu_analysis.reset_index(drop=True)\n",
        "tabu_analysis"
      ],
      "metadata": {
        "colab": {
          "base_uri": "https://localhost:8080/",
          "height": 423
        },
        "outputId": "90a822ca-2051-407f-ab41-428bc8d5b52c",
        "id": "oKxTgbUfjHUB"
      },
      "execution_count": 30,
      "outputs": [
        {
          "output_type": "execute_result",
          "data": {
            "text/plain": [
              "    seeds tabu size fitness tardy\n",
              "0    2000         1    1928    16\n",
              "1    2000         2    1928    16\n",
              "2    2000         3    1928    16\n",
              "3    2000         4    1928    16\n",
              "4    2000         5    1928    16\n",
              "..    ...       ...     ...   ...\n",
              "185  2900        15    1928    14\n",
              "186  2900        16    1928    14\n",
              "187  2900        17    1928    14\n",
              "188  2900        18    1928    14\n",
              "189  2900        19    1928    14\n",
              "\n",
              "[190 rows x 4 columns]"
            ],
            "text/html": [
              "\n",
              "  <div id=\"df-b7c6831b-d253-4a00-a013-26707bd2612e\">\n",
              "    <div class=\"colab-df-container\">\n",
              "      <div>\n",
              "<style scoped>\n",
              "    .dataframe tbody tr th:only-of-type {\n",
              "        vertical-align: middle;\n",
              "    }\n",
              "\n",
              "    .dataframe tbody tr th {\n",
              "        vertical-align: top;\n",
              "    }\n",
              "\n",
              "    .dataframe thead th {\n",
              "        text-align: right;\n",
              "    }\n",
              "</style>\n",
              "<table border=\"1\" class=\"dataframe\">\n",
              "  <thead>\n",
              "    <tr style=\"text-align: right;\">\n",
              "      <th></th>\n",
              "      <th>seeds</th>\n",
              "      <th>tabu size</th>\n",
              "      <th>fitness</th>\n",
              "      <th>tardy</th>\n",
              "    </tr>\n",
              "  </thead>\n",
              "  <tbody>\n",
              "    <tr>\n",
              "      <th>0</th>\n",
              "      <td>2000</td>\n",
              "      <td>1</td>\n",
              "      <td>1928</td>\n",
              "      <td>16</td>\n",
              "    </tr>\n",
              "    <tr>\n",
              "      <th>1</th>\n",
              "      <td>2000</td>\n",
              "      <td>2</td>\n",
              "      <td>1928</td>\n",
              "      <td>16</td>\n",
              "    </tr>\n",
              "    <tr>\n",
              "      <th>2</th>\n",
              "      <td>2000</td>\n",
              "      <td>3</td>\n",
              "      <td>1928</td>\n",
              "      <td>16</td>\n",
              "    </tr>\n",
              "    <tr>\n",
              "      <th>3</th>\n",
              "      <td>2000</td>\n",
              "      <td>4</td>\n",
              "      <td>1928</td>\n",
              "      <td>16</td>\n",
              "    </tr>\n",
              "    <tr>\n",
              "      <th>4</th>\n",
              "      <td>2000</td>\n",
              "      <td>5</td>\n",
              "      <td>1928</td>\n",
              "      <td>16</td>\n",
              "    </tr>\n",
              "    <tr>\n",
              "      <th>...</th>\n",
              "      <td>...</td>\n",
              "      <td>...</td>\n",
              "      <td>...</td>\n",
              "      <td>...</td>\n",
              "    </tr>\n",
              "    <tr>\n",
              "      <th>185</th>\n",
              "      <td>2900</td>\n",
              "      <td>15</td>\n",
              "      <td>1928</td>\n",
              "      <td>14</td>\n",
              "    </tr>\n",
              "    <tr>\n",
              "      <th>186</th>\n",
              "      <td>2900</td>\n",
              "      <td>16</td>\n",
              "      <td>1928</td>\n",
              "      <td>14</td>\n",
              "    </tr>\n",
              "    <tr>\n",
              "      <th>187</th>\n",
              "      <td>2900</td>\n",
              "      <td>17</td>\n",
              "      <td>1928</td>\n",
              "      <td>14</td>\n",
              "    </tr>\n",
              "    <tr>\n",
              "      <th>188</th>\n",
              "      <td>2900</td>\n",
              "      <td>18</td>\n",
              "      <td>1928</td>\n",
              "      <td>14</td>\n",
              "    </tr>\n",
              "    <tr>\n",
              "      <th>189</th>\n",
              "      <td>2900</td>\n",
              "      <td>19</td>\n",
              "      <td>1928</td>\n",
              "      <td>14</td>\n",
              "    </tr>\n",
              "  </tbody>\n",
              "</table>\n",
              "<p>190 rows × 4 columns</p>\n",
              "</div>\n",
              "      <button class=\"colab-df-convert\" onclick=\"convertToInteractive('df-b7c6831b-d253-4a00-a013-26707bd2612e')\"\n",
              "              title=\"Convert this dataframe to an interactive table.\"\n",
              "              style=\"display:none;\">\n",
              "        \n",
              "  <svg xmlns=\"http://www.w3.org/2000/svg\" height=\"24px\"viewBox=\"0 0 24 24\"\n",
              "       width=\"24px\">\n",
              "    <path d=\"M0 0h24v24H0V0z\" fill=\"none\"/>\n",
              "    <path d=\"M18.56 5.44l.94 2.06.94-2.06 2.06-.94-2.06-.94-.94-2.06-.94 2.06-2.06.94zm-11 1L8.5 8.5l.94-2.06 2.06-.94-2.06-.94L8.5 2.5l-.94 2.06-2.06.94zm10 10l.94 2.06.94-2.06 2.06-.94-2.06-.94-.94-2.06-.94 2.06-2.06.94z\"/><path d=\"M17.41 7.96l-1.37-1.37c-.4-.4-.92-.59-1.43-.59-.52 0-1.04.2-1.43.59L10.3 9.45l-7.72 7.72c-.78.78-.78 2.05 0 2.83L4 21.41c.39.39.9.59 1.41.59.51 0 1.02-.2 1.41-.59l7.78-7.78 2.81-2.81c.8-.78.8-2.07 0-2.86zM5.41 20L4 18.59l7.72-7.72 1.47 1.35L5.41 20z\"/>\n",
              "  </svg>\n",
              "      </button>\n",
              "      \n",
              "  <style>\n",
              "    .colab-df-container {\n",
              "      display:flex;\n",
              "      flex-wrap:wrap;\n",
              "      gap: 12px;\n",
              "    }\n",
              "\n",
              "    .colab-df-convert {\n",
              "      background-color: #E8F0FE;\n",
              "      border: none;\n",
              "      border-radius: 50%;\n",
              "      cursor: pointer;\n",
              "      display: none;\n",
              "      fill: #1967D2;\n",
              "      height: 32px;\n",
              "      padding: 0 0 0 0;\n",
              "      width: 32px;\n",
              "    }\n",
              "\n",
              "    .colab-df-convert:hover {\n",
              "      background-color: #E2EBFA;\n",
              "      box-shadow: 0px 1px 2px rgba(60, 64, 67, 0.3), 0px 1px 3px 1px rgba(60, 64, 67, 0.15);\n",
              "      fill: #174EA6;\n",
              "    }\n",
              "\n",
              "    [theme=dark] .colab-df-convert {\n",
              "      background-color: #3B4455;\n",
              "      fill: #D2E3FC;\n",
              "    }\n",
              "\n",
              "    [theme=dark] .colab-df-convert:hover {\n",
              "      background-color: #434B5C;\n",
              "      box-shadow: 0px 1px 3px 1px rgba(0, 0, 0, 0.15);\n",
              "      filter: drop-shadow(0px 1px 2px rgba(0, 0, 0, 0.3));\n",
              "      fill: #FFFFFF;\n",
              "    }\n",
              "  </style>\n",
              "\n",
              "      <script>\n",
              "        const buttonEl =\n",
              "          document.querySelector('#df-b7c6831b-d253-4a00-a013-26707bd2612e button.colab-df-convert');\n",
              "        buttonEl.style.display =\n",
              "          google.colab.kernel.accessAllowed ? 'block' : 'none';\n",
              "\n",
              "        async function convertToInteractive(key) {\n",
              "          const element = document.querySelector('#df-b7c6831b-d253-4a00-a013-26707bd2612e');\n",
              "          const dataTable =\n",
              "            await google.colab.kernel.invokeFunction('convertToInteractive',\n",
              "                                                     [key], {});\n",
              "          if (!dataTable) return;\n",
              "\n",
              "          const docLinkHtml = 'Like what you see? Visit the ' +\n",
              "            '<a target=\"_blank\" href=https://colab.research.google.com/notebooks/data_table.ipynb>data table notebook</a>'\n",
              "            + ' to learn more about interactive tables.';\n",
              "          element.innerHTML = '';\n",
              "          dataTable['output_type'] = 'display_data';\n",
              "          await google.colab.output.renderOutput(dataTable, element);\n",
              "          const docLink = document.createElement('div');\n",
              "          docLink.innerHTML = docLinkHtml;\n",
              "          element.appendChild(docLink);\n",
              "        }\n",
              "      </script>\n",
              "    </div>\n",
              "  </div>\n",
              "  "
            ]
          },
          "metadata": {},
          "execution_count": 30
        }
      ]
    },
    {
      "cell_type": "code",
      "source": [
        "# Overview\n",
        "tabu_analysis['fitness'] = tabu_analysis['fitness'].astype(int)\n",
        "tabu_analysis['tardy'] = tabu_analysis['tardy'].astype(int)\n",
        "tabu_analysis.describe()"
      ],
      "metadata": {
        "colab": {
          "base_uri": "https://localhost:8080/",
          "height": 300
        },
        "outputId": "780e0985-16c1-4caf-84e5-8ee3f42aa335",
        "id": "M-C_tHFPjHUC"
      },
      "execution_count": 31,
      "outputs": [
        {
          "output_type": "execute_result",
          "data": {
            "text/plain": [
              "       fitness       tardy\n",
              "count    190.0  190.000000\n",
              "mean    1928.0   14.800000\n",
              "std        0.0    1.473577\n",
              "min     1928.0   13.000000\n",
              "25%     1928.0   14.000000\n",
              "50%     1928.0   14.500000\n",
              "75%     1928.0   16.000000\n",
              "max     1928.0   18.000000"
            ],
            "text/html": [
              "\n",
              "  <div id=\"df-0bd0d1f8-a24b-4d7b-8178-31e1fc0a6358\">\n",
              "    <div class=\"colab-df-container\">\n",
              "      <div>\n",
              "<style scoped>\n",
              "    .dataframe tbody tr th:only-of-type {\n",
              "        vertical-align: middle;\n",
              "    }\n",
              "\n",
              "    .dataframe tbody tr th {\n",
              "        vertical-align: top;\n",
              "    }\n",
              "\n",
              "    .dataframe thead th {\n",
              "        text-align: right;\n",
              "    }\n",
              "</style>\n",
              "<table border=\"1\" class=\"dataframe\">\n",
              "  <thead>\n",
              "    <tr style=\"text-align: right;\">\n",
              "      <th></th>\n",
              "      <th>fitness</th>\n",
              "      <th>tardy</th>\n",
              "    </tr>\n",
              "  </thead>\n",
              "  <tbody>\n",
              "    <tr>\n",
              "      <th>count</th>\n",
              "      <td>190.0</td>\n",
              "      <td>190.000000</td>\n",
              "    </tr>\n",
              "    <tr>\n",
              "      <th>mean</th>\n",
              "      <td>1928.0</td>\n",
              "      <td>14.800000</td>\n",
              "    </tr>\n",
              "    <tr>\n",
              "      <th>std</th>\n",
              "      <td>0.0</td>\n",
              "      <td>1.473577</td>\n",
              "    </tr>\n",
              "    <tr>\n",
              "      <th>min</th>\n",
              "      <td>1928.0</td>\n",
              "      <td>13.000000</td>\n",
              "    </tr>\n",
              "    <tr>\n",
              "      <th>25%</th>\n",
              "      <td>1928.0</td>\n",
              "      <td>14.000000</td>\n",
              "    </tr>\n",
              "    <tr>\n",
              "      <th>50%</th>\n",
              "      <td>1928.0</td>\n",
              "      <td>14.500000</td>\n",
              "    </tr>\n",
              "    <tr>\n",
              "      <th>75%</th>\n",
              "      <td>1928.0</td>\n",
              "      <td>16.000000</td>\n",
              "    </tr>\n",
              "    <tr>\n",
              "      <th>max</th>\n",
              "      <td>1928.0</td>\n",
              "      <td>18.000000</td>\n",
              "    </tr>\n",
              "  </tbody>\n",
              "</table>\n",
              "</div>\n",
              "      <button class=\"colab-df-convert\" onclick=\"convertToInteractive('df-0bd0d1f8-a24b-4d7b-8178-31e1fc0a6358')\"\n",
              "              title=\"Convert this dataframe to an interactive table.\"\n",
              "              style=\"display:none;\">\n",
              "        \n",
              "  <svg xmlns=\"http://www.w3.org/2000/svg\" height=\"24px\"viewBox=\"0 0 24 24\"\n",
              "       width=\"24px\">\n",
              "    <path d=\"M0 0h24v24H0V0z\" fill=\"none\"/>\n",
              "    <path d=\"M18.56 5.44l.94 2.06.94-2.06 2.06-.94-2.06-.94-.94-2.06-.94 2.06-2.06.94zm-11 1L8.5 8.5l.94-2.06 2.06-.94-2.06-.94L8.5 2.5l-.94 2.06-2.06.94zm10 10l.94 2.06.94-2.06 2.06-.94-2.06-.94-.94-2.06-.94 2.06-2.06.94z\"/><path d=\"M17.41 7.96l-1.37-1.37c-.4-.4-.92-.59-1.43-.59-.52 0-1.04.2-1.43.59L10.3 9.45l-7.72 7.72c-.78.78-.78 2.05 0 2.83L4 21.41c.39.39.9.59 1.41.59.51 0 1.02-.2 1.41-.59l7.78-7.78 2.81-2.81c.8-.78.8-2.07 0-2.86zM5.41 20L4 18.59l7.72-7.72 1.47 1.35L5.41 20z\"/>\n",
              "  </svg>\n",
              "      </button>\n",
              "      \n",
              "  <style>\n",
              "    .colab-df-container {\n",
              "      display:flex;\n",
              "      flex-wrap:wrap;\n",
              "      gap: 12px;\n",
              "    }\n",
              "\n",
              "    .colab-df-convert {\n",
              "      background-color: #E8F0FE;\n",
              "      border: none;\n",
              "      border-radius: 50%;\n",
              "      cursor: pointer;\n",
              "      display: none;\n",
              "      fill: #1967D2;\n",
              "      height: 32px;\n",
              "      padding: 0 0 0 0;\n",
              "      width: 32px;\n",
              "    }\n",
              "\n",
              "    .colab-df-convert:hover {\n",
              "      background-color: #E2EBFA;\n",
              "      box-shadow: 0px 1px 2px rgba(60, 64, 67, 0.3), 0px 1px 3px 1px rgba(60, 64, 67, 0.15);\n",
              "      fill: #174EA6;\n",
              "    }\n",
              "\n",
              "    [theme=dark] .colab-df-convert {\n",
              "      background-color: #3B4455;\n",
              "      fill: #D2E3FC;\n",
              "    }\n",
              "\n",
              "    [theme=dark] .colab-df-convert:hover {\n",
              "      background-color: #434B5C;\n",
              "      box-shadow: 0px 1px 3px 1px rgba(0, 0, 0, 0.15);\n",
              "      filter: drop-shadow(0px 1px 2px rgba(0, 0, 0, 0.3));\n",
              "      fill: #FFFFFF;\n",
              "    }\n",
              "  </style>\n",
              "\n",
              "      <script>\n",
              "        const buttonEl =\n",
              "          document.querySelector('#df-0bd0d1f8-a24b-4d7b-8178-31e1fc0a6358 button.colab-df-convert');\n",
              "        buttonEl.style.display =\n",
              "          google.colab.kernel.accessAllowed ? 'block' : 'none';\n",
              "\n",
              "        async function convertToInteractive(key) {\n",
              "          const element = document.querySelector('#df-0bd0d1f8-a24b-4d7b-8178-31e1fc0a6358');\n",
              "          const dataTable =\n",
              "            await google.colab.kernel.invokeFunction('convertToInteractive',\n",
              "                                                     [key], {});\n",
              "          if (!dataTable) return;\n",
              "\n",
              "          const docLinkHtml = 'Like what you see? Visit the ' +\n",
              "            '<a target=\"_blank\" href=https://colab.research.google.com/notebooks/data_table.ipynb>data table notebook</a>'\n",
              "            + ' to learn more about interactive tables.';\n",
              "          element.innerHTML = '';\n",
              "          dataTable['output_type'] = 'display_data';\n",
              "          await google.colab.output.renderOutput(dataTable, element);\n",
              "          const docLink = document.createElement('div');\n",
              "          docLink.innerHTML = docLinkHtml;\n",
              "          element.appendChild(docLink);\n",
              "        }\n",
              "      </script>\n",
              "    </div>\n",
              "  </div>\n",
              "  "
            ]
          },
          "metadata": {},
          "execution_count": 31
        }
      ]
    },
    {
      "cell_type": "code",
      "source": [
        "# Plot\n",
        "fig, (ax0, ax1) = plt.subplots(nrows=1, ncols=2, figsize=(15, 6))\n",
        "ax0.plot(tabu_analysis['fitness'])\n",
        "ax0.set_title('Fitness value')\n",
        "ax1.plot(tabu_analysis['tardy'])\n",
        "ax1.set_title('Number of tardy jobs')\n",
        "plt.show()"
      ],
      "metadata": {
        "colab": {
          "base_uri": "https://localhost:8080/",
          "height": 390
        },
        "outputId": "12c3c948-c64a-438e-d4f6-1a20066d2272",
        "id": "616rbfq4jHUC"
      },
      "execution_count": 32,
      "outputs": [
        {
          "output_type": "display_data",
          "data": {
            "text/plain": [
              "<Figure size 1080x432 with 2 Axes>"
            ],
            "image/png": "[encoded data removed]"
          },
          "metadata": {
            "needs_background": "light"
          }
        }
      ]
    },
    {
      "cell_type": "markdown",
      "source": [
        "由上方 fitness value 的圖可以看到不管調整 seeds 或是 tabu size，fitness value 都是一樣的結果，因此這裡以最小的 number of tardy jobs 作為最佳解。"
      ],
      "metadata": {
        "id": "_RyornWuvdP6"
      }
    },
    {
      "cell_type": "code",
      "source": [
        "# Minimum number of tardy jobs\n",
        "minvalueID_tardy = tabu_analysis['tardy'].idxmin()\n",
        "tabu_analysis.iloc[minvalueID_tardy, :]"
      ],
      "metadata": {
        "colab": {
          "base_uri": "https://localhost:8080/"
        },
        "outputId": "281221dc-1f36-4a02-d9eb-30e7272d0aec",
        "id": "IZqxhfiJjHUC"
      },
      "execution_count": 33,
      "outputs": [
        {
          "output_type": "execute_result",
          "data": {
            "text/plain": [
              "seeds        2200\n",
              "tabu size       1\n",
              "fitness      1928\n",
              "tardy          13\n",
              "Name: 38, dtype: object"
            ]
          },
          "metadata": {},
          "execution_count": 33
        }
      ]
    },
    {
      "cell_type": "code",
      "source": [
        "tabu_result = TS(seed = 2200, tabu_tenure=3, terminate = 1000).Result()\n",
        "print(tabu_result)"
      ],
      "metadata": {
        "colab": {
          "base_uri": "https://localhost:8080/"
        },
        "id": "GGMVGn2rwWRS",
        "outputId": "d0ca87f4-da7b-442f-cfe7-b796c0bb55a3"
      },
      "execution_count": 35,
      "outputs": [
        {
          "output_type": "stream",
          "name": "stdout",
          "text": [
            "Optimal solution:[12, 17, 4, 16, 5, 9, 8, 1, 14, 10, 7, 13, 20, 11, 2, 18, 6, 15, 3, 19]\n",
            "Optimal function value:1928\n",
            "Number of tardy jobs:13\n",
            "Running time:2.6200504302978516\n"
          ]
        }
      ]
    },
    {
      "cell_type": "markdown",
      "source": [
        "###**(c) (15%) Develop Genetic Algorithm (GA) to solve the problem. Show your design and the “result”.**\n",
        "\n",
        "\n"
      ],
      "metadata": {
        "id": "U1dp7CYHSdT9"
      }
    },
    {
      "cell_type": "code",
      "source": [
        "import copy"
      ],
      "metadata": {
        "id": "b8oqDFwQbHSU"
      },
      "execution_count": null,
      "outputs": []
    },
    {
      "cell_type": "code",
      "source": [
        "# Input data\n",
        "input_data_list = pd.DataFrame(input_data).values.tolist()\n",
        "num_job = len(input_data)\n",
        "p = input_data_list[0]\n",
        "d = input_data_list[1]\n",
        "w = input_data_list[2]"
      ],
      "metadata": {
        "id": "d5JvYa5imbb4"
      },
      "execution_count": null,
      "outputs": []
    },
    {
      "cell_type": "code",
      "source": [
        "# Parameters\n",
        "population_size = 30\n",
        "mutation_selection_rate = 0.5\n",
        "num_mutation_jobs = round(num_job*mutation_selection_rate)\n",
        "# num_iteration = 1000"
      ],
      "metadata": {
        "id": "oaLamh8lrRlg"
      },
      "execution_count": null,
      "outputs": []
    },
    {
      "cell_type": "code",
      "source": [
        "class GA():\n",
        "    def __init__(self, crossover_rate, mutation_rate, num_iteration):\n",
        "        self.start_time_ga = time.time()\n",
        "        self.crossover_rate = crossover_rate\n",
        "        self.mutation_rate = mutation_rate \n",
        "        self.num_iteration = num_iteration  \n",
        "        self.Tbest, self.population_list = self.InitialPopulation()\n",
        "        self.best_sequence, self.best_value, self.num_tardy = self.CrossoverMutation()\n",
        "        self.end_time_ga = time.time()\n",
        "\n",
        "    def InitialPopulation(self):\n",
        "        Tbest=99999999999\n",
        "        best_list, best_obj = [], []\n",
        "        population_list = []\n",
        "        for i in range(population_size):\n",
        "            random_num = list(np.random.permutation(num_job))   # generate a random permutation of 0 to num_job-1\n",
        "            population_list.append(random_num)   # add to the population_list\n",
        "        return Tbest, population_list\n",
        "\n",
        "    def CrossoverMutation(self):\n",
        "        for n in range(self.num_iteration):\n",
        "            Tbest_now = 9999999\n",
        "\n",
        "            # Crossover\n",
        "            parent_list = copy.deepcopy(self.population_list)\n",
        "            offspring_list = copy.deepcopy(self.population_list)\n",
        "            S = list(np.random.permutation(population_size))   # generate a random sequence to select the parent chromosome to crossover\n",
        "    \n",
        "            for m in range(int(population_size/2)):\n",
        "                crossover_prob = np.random.rand()\n",
        "                if self.crossover_rate >= crossover_prob:\n",
        "                    parent_1 = self.population_list[S[2*m]][:]\n",
        "                    parent_2 = self.population_list[S[2*m+1]][:]\n",
        "                    child_1 = ['na' for i in range(num_job)]\n",
        "                    child_2 = ['na' for i in range(num_job)]\n",
        "                    fix_num = round(num_job/2)\n",
        "                    g_fix = list(np.random.choice(num_job, fix_num, replace=False))\n",
        "            \n",
        "                    for g in range(fix_num):\n",
        "                        child_1[g_fix[g]] = parent_2[g_fix[g]]\n",
        "                        child_2[g_fix[g]] = parent_1[g_fix[g]]\n",
        "                    c1 = [parent_1[i] for i in range(num_job) if parent_1[i] not in child_1]\n",
        "                    c2 = [parent_2[i] for i in range(num_job) if parent_2[i] not in child_2]\n",
        "            \n",
        "                    for i in range(num_job-fix_num):\n",
        "                        child_1[child_1.index('na')] = c1[i]\n",
        "                        child_2[child_2.index('na')] = c2[i]\n",
        "                    offspring_list[S[2*m]] = child_1[:]\n",
        "                    offspring_list[S[2*m+1]] = child_2[:]\n",
        "\n",
        "            # Mutation\n",
        "            for m in range(len(offspring_list)):\n",
        "                mutation_prob=np.random.rand()\n",
        "                if self.mutation_rate >= mutation_prob:\n",
        "                    m_chg = list(np.random.choice(num_job, num_mutation_jobs, replace=False))   # chooses the position to mutation\n",
        "                    t_value_last = offspring_list[m][m_chg[0]]   # save the value which is on the first mutation position\n",
        "                    for i in range(num_mutation_jobs-1):\n",
        "                        offspring_list[m][m_chg[i]] = offspring_list[m][m_chg[i+1]]   # displacement\n",
        "                    offspring_list[m][m_chg[num_mutation_jobs-1]] = t_value_last   # move the value of the first mutation position to the last mutation position\n",
        "    \n",
        "            # Fitness value (calculate tardiness)\n",
        "            total_chromosome = copy.deepcopy(parent_list) + copy.deepcopy(offspring_list) # parent and offspring chromosomes combination\n",
        "            chrom_fitness, chrom_fit = [], []\n",
        "            total_fitness = 0\n",
        "            for i in range(population_size*2):\n",
        "                ptime = 0\n",
        "                tardiness = 0\n",
        "                for j in range(num_job):\n",
        "                    ptime = ptime + p[total_chromosome[i][j]]\n",
        "                    tardiness = tardiness + w[total_chromosome[i][j]]*max(ptime-d[total_chromosome[i][j]],0)\n",
        "                chrom_fitness.append(1/tardiness)\n",
        "                chrom_fit.append(tardiness)\n",
        "                total_fitness = total_fitness + chrom_fitness[i]\n",
        "    \n",
        "            # Selection\n",
        "            pk, qk = [], []\n",
        "\n",
        "            for i in range(population_size*2):\n",
        "                pk.append(chrom_fitness[i]/total_fitness)\n",
        "            for i in range(population_size*2):\n",
        "                cumulative = 0\n",
        "                for j in range(0,i+1):\n",
        "                    cumulative = cumulative+pk[j]\n",
        "                qk.append(cumulative)\n",
        "    \n",
        "            selection_rand = [np.random.rand() for i in range(population_size)]\n",
        "    \n",
        "            for i in range(population_size):\n",
        "                if selection_rand[i] <= qk[0]:\n",
        "                    self.population_list[i] = copy.deepcopy(total_chromosome[0])\n",
        "                else:\n",
        "                    for j in range(0,population_size*2-1):\n",
        "                        if selection_rand[i] > qk[j] and selection_rand[i] <= qk[j+1]:\n",
        "                            self.population_list[i] = copy.deepcopy(total_chromosome[j+1])\n",
        "                            break\n",
        "            # Comparison\n",
        "            for i in range(population_size*2):\n",
        "                if chrom_fit[i] < Tbest_now:\n",
        "                    Tbest_now = chrom_fit[i]\n",
        "                    sequence_now = copy.deepcopy(total_chromosome[i])\n",
        "    \n",
        "            if Tbest_now <= self.Tbest:\n",
        "                self.Tbest = Tbest_now\n",
        "                sequence_best = copy.deepcopy(sequence_now)\n",
        "    \n",
        "            job_sequence_ptime = 0\n",
        "            num_tardy = 0\n",
        "            for k in range(num_job):\n",
        "                job_sequence_ptime = job_sequence_ptime + p[sequence_best[k]]\n",
        "                if job_sequence_ptime > d[sequence_best[k]]:\n",
        "                    num_tardy += 1\n",
        "\n",
        "        return sequence_best, self.Tbest, num_tardy\n",
        "\n",
        "    def Result(self):\n",
        "        return \"Optimal solution: {}\\nOptimal function value: {}\\nNumber of tardy jobs: {}\\nRunning time: {}\".format(self.best_sequence, self.best_value, self.num_tardy, self.end_time_ga - self.start_time_ga)"
      ],
      "metadata": {
        "id": "d0X7Pc9FNhbm"
      },
      "execution_count": null,
      "outputs": []
    },
    {
      "cell_type": "markdown",
      "source": [
        "#### **Sensitivity Analysis**\n",
        "\n",
        "crossover rate & mutation rate"
      ],
      "metadata": {
        "id": "hq-cgrNr3IeA"
      }
    },
    {
      "cell_type": "code",
      "source": [
        "ga_result = \"\""
      ],
      "metadata": {
        "id": "HNd1jCqOdgJg"
      },
      "execution_count": null,
      "outputs": []
    },
    {
      "cell_type": "code",
      "source": [
        "ga_analysis = pd.DataFrame(columns=['crossover_rate','mutation_rate','fitness','tardy'])\n",
        "min_fitness_ga = 9999\n",
        "for i in np.arange(0, 1.1, 0.1):\n",
        "    for j in np.arange(0, 1.1, 0.1):\n",
        "        ga = GA(crossover_rate = i, mutation_rate = j, num_iteration = 100)\n",
        "        item = {'crossover_rate': i,\n",
        "                'mutation_rate': j,\n",
        "                'fitness': ga.best_value,\n",
        "                'tardy': ga.num_tardy,\n",
        "        }\n",
        "        item_df = pd.DataFrame(item, index=[0])\n",
        "        ga_analysis = ga_analysis.append(item_df)\n",
        "        if ga.best_value < min_fitness_ga:\n",
        "          min_fitness_ga = ga.best_value\n",
        "          ga_result = ga.Result()     \n",
        "\n",
        "ga_analysis = ga_analysis.reset_index(drop=True)\n",
        "ga_analysis"
      ],
      "metadata": {
        "colab": {
          "base_uri": "https://localhost:8080/",
          "height": 423
        },
        "id": "DwsFVLwSwi_r",
        "outputId": "8dc535e3-aaf6-4ee3-d031-6bc955ba8fb8"
      },
      "execution_count": null,
      "outputs": [
        {
          "output_type": "execute_result",
          "data": {
            "text/plain": [
              "     crossover_rate  mutation_rate fitness tardy\n",
              "0               0.0            0.0    4644    13\n",
              "1               0.0            0.1    3267    14\n",
              "2               0.0            0.2    3092    15\n",
              "3               0.0            0.3    3333    16\n",
              "4               0.0            0.4    2427    17\n",
              "..              ...            ...     ...   ...\n",
              "116             1.0            0.6    2502    14\n",
              "117             1.0            0.7    2682    16\n",
              "118             1.0            0.8    3136    13\n",
              "119             1.0            0.9    2869    14\n",
              "120             1.0            1.0    3263    12\n",
              "\n",
              "[121 rows x 4 columns]"
            ],
            "text/html": [
              "\n",
              "  <div id=\"df-aa7d37d9-ed52-4c4b-b668-1bc1f696a6b2\">\n",
              "    <div class=\"colab-df-container\">\n",
              "      <div>\n",
              "<style scoped>\n",
              "    .dataframe tbody tr th:only-of-type {\n",
              "        vertical-align: middle;\n",
              "    }\n",
              "\n",
              "    .dataframe tbody tr th {\n",
              "        vertical-align: top;\n",
              "    }\n",
              "\n",
              "    .dataframe thead th {\n",
              "        text-align: right;\n",
              "    }\n",
              "</style>\n",
              "<table border=\"1\" class=\"dataframe\">\n",
              "  <thead>\n",
              "    <tr style=\"text-align: right;\">\n",
              "      <th></th>\n",
              "      <th>crossover_rate</th>\n",
              "      <th>mutation_rate</th>\n",
              "      <th>fitness</th>\n",
              "      <th>tardy</th>\n",
              "    </tr>\n",
              "  </thead>\n",
              "  <tbody>\n",
              "    <tr>\n",
              "      <th>0</th>\n",
              "      <td>0.0</td>\n",
              "      <td>0.0</td>\n",
              "      <td>4644</td>\n",
              "      <td>13</td>\n",
              "    </tr>\n",
              "    <tr>\n",
              "      <th>1</th>\n",
              "      <td>0.0</td>\n",
              "      <td>0.1</td>\n",
              "      <td>3267</td>\n",
              "      <td>14</td>\n",
              "    </tr>\n",
              "    <tr>\n",
              "      <th>2</th>\n",
              "      <td>0.0</td>\n",
              "      <td>0.2</td>\n",
              "      <td>3092</td>\n",
              "      <td>15</td>\n",
              "    </tr>\n",
              "    <tr>\n",
              "      <th>3</th>\n",
              "      <td>0.0</td>\n",
              "      <td>0.3</td>\n",
              "      <td>3333</td>\n",
              "      <td>16</td>\n",
              "    </tr>\n",
              "    <tr>\n",
              "      <th>4</th>\n",
              "      <td>0.0</td>\n",
              "      <td>0.4</td>\n",
              "      <td>2427</td>\n",
              "      <td>17</td>\n",
              "    </tr>\n",
              "    <tr>\n",
              "      <th>...</th>\n",
              "      <td>...</td>\n",
              "      <td>...</td>\n",
              "      <td>...</td>\n",
              "      <td>...</td>\n",
              "    </tr>\n",
              "    <tr>\n",
              "      <th>116</th>\n",
              "      <td>1.0</td>\n",
              "      <td>0.6</td>\n",
              "      <td>2502</td>\n",
              "      <td>14</td>\n",
              "    </tr>\n",
              "    <tr>\n",
              "      <th>117</th>\n",
              "      <td>1.0</td>\n",
              "      <td>0.7</td>\n",
              "      <td>2682</td>\n",
              "      <td>16</td>\n",
              "    </tr>\n",
              "    <tr>\n",
              "      <th>118</th>\n",
              "      <td>1.0</td>\n",
              "      <td>0.8</td>\n",
              "      <td>3136</td>\n",
              "      <td>13</td>\n",
              "    </tr>\n",
              "    <tr>\n",
              "      <th>119</th>\n",
              "      <td>1.0</td>\n",
              "      <td>0.9</td>\n",
              "      <td>2869</td>\n",
              "      <td>14</td>\n",
              "    </tr>\n",
              "    <tr>\n",
              "      <th>120</th>\n",
              "      <td>1.0</td>\n",
              "      <td>1.0</td>\n",
              "      <td>3263</td>\n",
              "      <td>12</td>\n",
              "    </tr>\n",
              "  </tbody>\n",
              "</table>\n",
              "<p>121 rows × 4 columns</p>\n",
              "</div>\n",
              "      <button class=\"colab-df-convert\" onclick=\"convertToInteractive('df-aa7d37d9-ed52-4c4b-b668-1bc1f696a6b2')\"\n",
              "              title=\"Convert this dataframe to an interactive table.\"\n",
              "              style=\"display:none;\">\n",
              "        \n",
              "  <svg xmlns=\"http://www.w3.org/2000/svg\" height=\"24px\"viewBox=\"0 0 24 24\"\n",
              "       width=\"24px\">\n",
              "    <path d=\"M0 0h24v24H0V0z\" fill=\"none\"/>\n",
              "    <path d=\"M18.56 5.44l.94 2.06.94-2.06 2.06-.94-2.06-.94-.94-2.06-.94 2.06-2.06.94zm-11 1L8.5 8.5l.94-2.06 2.06-.94-2.06-.94L8.5 2.5l-.94 2.06-2.06.94zm10 10l.94 2.06.94-2.06 2.06-.94-2.06-.94-.94-2.06-.94 2.06-2.06.94z\"/><path d=\"M17.41 7.96l-1.37-1.37c-.4-.4-.92-.59-1.43-.59-.52 0-1.04.2-1.43.59L10.3 9.45l-7.72 7.72c-.78.78-.78 2.05 0 2.83L4 21.41c.39.39.9.59 1.41.59.51 0 1.02-.2 1.41-.59l7.78-7.78 2.81-2.81c.8-.78.8-2.07 0-2.86zM5.41 20L4 18.59l7.72-7.72 1.47 1.35L5.41 20z\"/>\n",
              "  </svg>\n",
              "      </button>\n",
              "      \n",
              "  <style>\n",
              "    .colab-df-container {\n",
              "      display:flex;\n",
              "      flex-wrap:wrap;\n",
              "      gap: 12px;\n",
              "    }\n",
              "\n",
              "    .colab-df-convert {\n",
              "      background-color: #E8F0FE;\n",
              "      border: none;\n",
              "      border-radius: 50%;\n",
              "      cursor: pointer;\n",
              "      display: none;\n",
              "      fill: #1967D2;\n",
              "      height: 32px;\n",
              "      padding: 0 0 0 0;\n",
              "      width: 32px;\n",
              "    }\n",
              "\n",
              "    .colab-df-convert:hover {\n",
              "      background-color: #E2EBFA;\n",
              "      box-shadow: 0px 1px 2px rgba(60, 64, 67, 0.3), 0px 1px 3px 1px rgba(60, 64, 67, 0.15);\n",
              "      fill: #174EA6;\n",
              "    }\n",
              "\n",
              "    [theme=dark] .colab-df-convert {\n",
              "      background-color: #3B4455;\n",
              "      fill: #D2E3FC;\n",
              "    }\n",
              "\n",
              "    [theme=dark] .colab-df-convert:hover {\n",
              "      background-color: #434B5C;\n",
              "      box-shadow: 0px 1px 3px 1px rgba(0, 0, 0, 0.15);\n",
              "      filter: drop-shadow(0px 1px 2px rgba(0, 0, 0, 0.3));\n",
              "      fill: #FFFFFF;\n",
              "    }\n",
              "  </style>\n",
              "\n",
              "      <script>\n",
              "        const buttonEl =\n",
              "          document.querySelector('#df-aa7d37d9-ed52-4c4b-b668-1bc1f696a6b2 button.colab-df-convert');\n",
              "        buttonEl.style.display =\n",
              "          google.colab.kernel.accessAllowed ? 'block' : 'none';\n",
              "\n",
              "        async function convertToInteractive(key) {\n",
              "          const element = document.querySelector('#df-aa7d37d9-ed52-4c4b-b668-1bc1f696a6b2');\n",
              "          const dataTable =\n",
              "            await google.colab.kernel.invokeFunction('convertToInteractive',\n",
              "                                                     [key], {});\n",
              "          if (!dataTable) return;\n",
              "\n",
              "          const docLinkHtml = 'Like what you see? Visit the ' +\n",
              "            '<a target=\"_blank\" href=https://colab.research.google.com/notebooks/data_table.ipynb>data table notebook</a>'\n",
              "            + ' to learn more about interactive tables.';\n",
              "          element.innerHTML = '';\n",
              "          dataTable['output_type'] = 'display_data';\n",
              "          await google.colab.output.renderOutput(dataTable, element);\n",
              "          const docLink = document.createElement('div');\n",
              "          docLink.innerHTML = docLinkHtml;\n",
              "          element.appendChild(docLink);\n",
              "        }\n",
              "      </script>\n",
              "    </div>\n",
              "  </div>\n",
              "  "
            ]
          },
          "metadata": {},
          "execution_count": 28
        }
      ]
    },
    {
      "cell_type": "code",
      "source": [
        "# Overview\n",
        "ga_analysis['fitness'] = ga_analysis['fitness'].astype(int)\n",
        "ga_analysis['tardy'] = ga_analysis['tardy'].astype(int)\n",
        "ga_analysis.describe()"
      ],
      "metadata": {
        "colab": {
          "base_uri": "https://localhost:8080/",
          "height": 300
        },
        "id": "MJmQo05Au5uQ",
        "outputId": "8eaaee19-4fe7-4feb-9273-4fa7818f841f"
      },
      "execution_count": null,
      "outputs": [
        {
          "output_type": "execute_result",
          "data": {
            "text/plain": [
              "       crossover_rate  mutation_rate      fitness       tardy\n",
              "count      121.000000     121.000000   121.000000  121.000000\n",
              "mean         0.500000       0.500000  2810.644628   14.330579\n",
              "std          0.317543       0.317543   344.137711    1.457100\n",
              "min          0.000000       0.000000  2116.000000   11.000000\n",
              "25%          0.200000       0.200000  2584.000000   13.000000\n",
              "50%          0.500000       0.500000  2817.000000   14.000000\n",
              "75%          0.800000       0.800000  3054.000000   15.000000\n",
              "max          1.000000       1.000000  4644.000000   19.000000"
            ],
            "text/html": [
              "\n",
              "  <div id=\"df-cfc71e41-05e6-4e9d-829b-9d661ca06fad\">\n",
              "    <div class=\"colab-df-container\">\n",
              "      <div>\n",
              "<style scoped>\n",
              "    .dataframe tbody tr th:only-of-type {\n",
              "        vertical-align: middle;\n",
              "    }\n",
              "\n",
              "    .dataframe tbody tr th {\n",
              "        vertical-align: top;\n",
              "    }\n",
              "\n",
              "    .dataframe thead th {\n",
              "        text-align: right;\n",
              "    }\n",
              "</style>\n",
              "<table border=\"1\" class=\"dataframe\">\n",
              "  <thead>\n",
              "    <tr style=\"text-align: right;\">\n",
              "      <th></th>\n",
              "      <th>crossover_rate</th>\n",
              "      <th>mutation_rate</th>\n",
              "      <th>fitness</th>\n",
              "      <th>tardy</th>\n",
              "    </tr>\n",
              "  </thead>\n",
              "  <tbody>\n",
              "    <tr>\n",
              "      <th>count</th>\n",
              "      <td>121.000000</td>\n",
              "      <td>121.000000</td>\n",
              "      <td>121.000000</td>\n",
              "      <td>121.000000</td>\n",
              "    </tr>\n",
              "    <tr>\n",
              "      <th>mean</th>\n",
              "      <td>0.500000</td>\n",
              "      <td>0.500000</td>\n",
              "      <td>2810.644628</td>\n",
              "      <td>14.330579</td>\n",
              "    </tr>\n",
              "    <tr>\n",
              "      <th>std</th>\n",
              "      <td>0.317543</td>\n",
              "      <td>0.317543</td>\n",
              "      <td>344.137711</td>\n",
              "      <td>1.457100</td>\n",
              "    </tr>\n",
              "    <tr>\n",
              "      <th>min</th>\n",
              "      <td>0.000000</td>\n",
              "      <td>0.000000</td>\n",
              "      <td>2116.000000</td>\n",
              "      <td>11.000000</td>\n",
              "    </tr>\n",
              "    <tr>\n",
              "      <th>25%</th>\n",
              "      <td>0.200000</td>\n",
              "      <td>0.200000</td>\n",
              "      <td>2584.000000</td>\n",
              "      <td>13.000000</td>\n",
              "    </tr>\n",
              "    <tr>\n",
              "      <th>50%</th>\n",
              "      <td>0.500000</td>\n",
              "      <td>0.500000</td>\n",
              "      <td>2817.000000</td>\n",
              "      <td>14.000000</td>\n",
              "    </tr>\n",
              "    <tr>\n",
              "      <th>75%</th>\n",
              "      <td>0.800000</td>\n",
              "      <td>0.800000</td>\n",
              "      <td>3054.000000</td>\n",
              "      <td>15.000000</td>\n",
              "    </tr>\n",
              "    <tr>\n",
              "      <th>max</th>\n",
              "      <td>1.000000</td>\n",
              "      <td>1.000000</td>\n",
              "      <td>4644.000000</td>\n",
              "      <td>19.000000</td>\n",
              "    </tr>\n",
              "  </tbody>\n",
              "</table>\n",
              "</div>\n",
              "      <button class=\"colab-df-convert\" onclick=\"convertToInteractive('df-cfc71e41-05e6-4e9d-829b-9d661ca06fad')\"\n",
              "              title=\"Convert this dataframe to an interactive table.\"\n",
              "              style=\"display:none;\">\n",
              "        \n",
              "  <svg xmlns=\"http://www.w3.org/2000/svg\" height=\"24px\"viewBox=\"0 0 24 24\"\n",
              "       width=\"24px\">\n",
              "    <path d=\"M0 0h24v24H0V0z\" fill=\"none\"/>\n",
              "    <path d=\"M18.56 5.44l.94 2.06.94-2.06 2.06-.94-2.06-.94-.94-2.06-.94 2.06-2.06.94zm-11 1L8.5 8.5l.94-2.06 2.06-.94-2.06-.94L8.5 2.5l-.94 2.06-2.06.94zm10 10l.94 2.06.94-2.06 2.06-.94-2.06-.94-.94-2.06-.94 2.06-2.06.94z\"/><path d=\"M17.41 7.96l-1.37-1.37c-.4-.4-.92-.59-1.43-.59-.52 0-1.04.2-1.43.59L10.3 9.45l-7.72 7.72c-.78.78-.78 2.05 0 2.83L4 21.41c.39.39.9.59 1.41.59.51 0 1.02-.2 1.41-.59l7.78-7.78 2.81-2.81c.8-.78.8-2.07 0-2.86zM5.41 20L4 18.59l7.72-7.72 1.47 1.35L5.41 20z\"/>\n",
              "  </svg>\n",
              "      </button>\n",
              "      \n",
              "  <style>\n",
              "    .colab-df-container {\n",
              "      display:flex;\n",
              "      flex-wrap:wrap;\n",
              "      gap: 12px;\n",
              "    }\n",
              "\n",
              "    .colab-df-convert {\n",
              "      background-color: #E8F0FE;\n",
              "      border: none;\n",
              "      border-radius: 50%;\n",
              "      cursor: pointer;\n",
              "      display: none;\n",
              "      fill: #1967D2;\n",
              "      height: 32px;\n",
              "      padding: 0 0 0 0;\n",
              "      width: 32px;\n",
              "    }\n",
              "\n",
              "    .colab-df-convert:hover {\n",
              "      background-color: #E2EBFA;\n",
              "      box-shadow: 0px 1px 2px rgba(60, 64, 67, 0.3), 0px 1px 3px 1px rgba(60, 64, 67, 0.15);\n",
              "      fill: #174EA6;\n",
              "    }\n",
              "\n",
              "    [theme=dark] .colab-df-convert {\n",
              "      background-color: #3B4455;\n",
              "      fill: #D2E3FC;\n",
              "    }\n",
              "\n",
              "    [theme=dark] .colab-df-convert:hover {\n",
              "      background-color: #434B5C;\n",
              "      box-shadow: 0px 1px 3px 1px rgba(0, 0, 0, 0.15);\n",
              "      filter: drop-shadow(0px 1px 2px rgba(0, 0, 0, 0.3));\n",
              "      fill: #FFFFFF;\n",
              "    }\n",
              "  </style>\n",
              "\n",
              "      <script>\n",
              "        const buttonEl =\n",
              "          document.querySelector('#df-cfc71e41-05e6-4e9d-829b-9d661ca06fad button.colab-df-convert');\n",
              "        buttonEl.style.display =\n",
              "          google.colab.kernel.accessAllowed ? 'block' : 'none';\n",
              "\n",
              "        async function convertToInteractive(key) {\n",
              "          const element = document.querySelector('#df-cfc71e41-05e6-4e9d-829b-9d661ca06fad');\n",
              "          const dataTable =\n",
              "            await google.colab.kernel.invokeFunction('convertToInteractive',\n",
              "                                                     [key], {});\n",
              "          if (!dataTable) return;\n",
              "\n",
              "          const docLinkHtml = 'Like what you see? Visit the ' +\n",
              "            '<a target=\"_blank\" href=https://colab.research.google.com/notebooks/data_table.ipynb>data table notebook</a>'\n",
              "            + ' to learn more about interactive tables.';\n",
              "          element.innerHTML = '';\n",
              "          dataTable['output_type'] = 'display_data';\n",
              "          await google.colab.output.renderOutput(dataTable, element);\n",
              "          const docLink = document.createElement('div');\n",
              "          docLink.innerHTML = docLinkHtml;\n",
              "          element.appendChild(docLink);\n",
              "        }\n",
              "      </script>\n",
              "    </div>\n",
              "  </div>\n",
              "  "
            ]
          },
          "metadata": {},
          "execution_count": 29
        }
      ]
    },
    {
      "cell_type": "code",
      "source": [
        "# Plot\n",
        "fig, (ax0, ax1) = plt.subplots(nrows=1, ncols=2, figsize=(15, 6))\n",
        "ax0.plot(ga_analysis['fitness'])\n",
        "ax0.set_title('Fitness value')\n",
        "ax1.plot(ga_analysis['tardy'])\n",
        "ax1.set_title('Number of tardy jobs')\n",
        "plt.show()"
      ],
      "metadata": {
        "colab": {
          "base_uri": "https://localhost:8080/",
          "height": 390
        },
        "id": "4U0JLfy4xaYP",
        "outputId": "077de62e-58ee-422f-8542-9d23263302cf"
      },
      "execution_count": null,
      "outputs": [
        {
          "output_type": "display_data",
          "data": {
            "text/plain": [
              "<Figure size 1080x432 with 2 Axes>"
            ],
            "image/png": "[encoded data removed]"
          },
          "metadata": {
            "needs_background": "light"
          }
        }
      ]
    },
    {
      "cell_type": "code",
      "source": [
        "# Minimum fitness value\n",
        "minvalueID_fitness = ga_analysis['fitness'].idxmin()\n",
        "ga_analysis.iloc[minvalueID_fitness, :]"
      ],
      "metadata": {
        "colab": {
          "base_uri": "https://localhost:8080/"
        },
        "id": "qxJGyQSFzzF9",
        "outputId": "92b212a6-8006-472f-e511-f711dcb7fe33"
      },
      "execution_count": null,
      "outputs": [
        {
          "output_type": "execute_result",
          "data": {
            "text/plain": [
              "crossover_rate       0.9\n",
              "mutation_rate        0.2\n",
              "fitness           2116.0\n",
              "tardy               12.0\n",
              "Name: 101, dtype: float64"
            ]
          },
          "metadata": {},
          "execution_count": 31
        }
      ]
    },
    {
      "cell_type": "code",
      "source": [
        "# Minimum number of tardy jobs\n",
        "minvalueID_tardy = ga_analysis['tardy'].idxmin()\n",
        "ga_analysis.iloc[minvalueID_tardy, :]"
      ],
      "metadata": {
        "colab": {
          "base_uri": "https://localhost:8080/"
        },
        "id": "Cz3t6NU30aij",
        "outputId": "13e8dfeb-422a-41c0-e005-a22cd598972b"
      },
      "execution_count": null,
      "outputs": [
        {
          "output_type": "execute_result",
          "data": {
            "text/plain": [
              "crossover_rate       0.1\n",
              "mutation_rate        1.0\n",
              "fitness           2997.0\n",
              "tardy               11.0\n",
              "Name: 21, dtype: float64"
            ]
          },
          "metadata": {},
          "execution_count": 32
        }
      ]
    },
    {
      "cell_type": "code",
      "source": [
        "# Sort by fitness values\n",
        "ga_analysis_sort = ga_analysis.sort_values(by=['fitness'])\n",
        "ga_analysis_sort.iloc[:10, :]"
      ],
      "metadata": {
        "colab": {
          "base_uri": "https://localhost:8080/",
          "height": 363
        },
        "id": "gKY6Qvtr1GWr",
        "outputId": "e8422d3d-1529-45f6-a0db-0e7b8bf3f578"
      },
      "execution_count": null,
      "outputs": [
        {
          "output_type": "execute_result",
          "data": {
            "text/plain": [
              "     crossover_rate  mutation_rate  fitness  tardy\n",
              "101             0.9            0.2     2116     12\n",
              "89              0.8            0.1     2159     14\n",
              "111             1.0            0.1     2175     15\n",
              "57              0.5            0.2     2222     16\n",
              "67              0.6            0.1     2256     16\n",
              "90              0.8            0.2     2258     14\n",
              "77              0.7            0.0     2272     14\n",
              "78              0.7            0.1     2305     16\n",
              "110             1.0            0.0     2328     15\n",
              "44              0.4            0.0     2338     13"
            ],
            "text/html": [
              "\n",
              "  <div id=\"df-f558b098-7fe0-4701-9bfe-23da97a457b2\">\n",
              "    <div class=\"colab-df-container\">\n",
              "      <div>\n",
              "<style scoped>\n",
              "    .dataframe tbody tr th:only-of-type {\n",
              "        vertical-align: middle;\n",
              "    }\n",
              "\n",
              "    .dataframe tbody tr th {\n",
              "        vertical-align: top;\n",
              "    }\n",
              "\n",
              "    .dataframe thead th {\n",
              "        text-align: right;\n",
              "    }\n",
              "</style>\n",
              "<table border=\"1\" class=\"dataframe\">\n",
              "  <thead>\n",
              "    <tr style=\"text-align: right;\">\n",
              "      <th></th>\n",
              "      <th>crossover_rate</th>\n",
              "      <th>mutation_rate</th>\n",
              "      <th>fitness</th>\n",
              "      <th>tardy</th>\n",
              "    </tr>\n",
              "  </thead>\n",
              "  <tbody>\n",
              "    <tr>\n",
              "      <th>101</th>\n",
              "      <td>0.9</td>\n",
              "      <td>0.2</td>\n",
              "      <td>2116</td>\n",
              "      <td>12</td>\n",
              "    </tr>\n",
              "    <tr>\n",
              "      <th>89</th>\n",
              "      <td>0.8</td>\n",
              "      <td>0.1</td>\n",
              "      <td>2159</td>\n",
              "      <td>14</td>\n",
              "    </tr>\n",
              "    <tr>\n",
              "      <th>111</th>\n",
              "      <td>1.0</td>\n",
              "      <td>0.1</td>\n",
              "      <td>2175</td>\n",
              "      <td>15</td>\n",
              "    </tr>\n",
              "    <tr>\n",
              "      <th>57</th>\n",
              "      <td>0.5</td>\n",
              "      <td>0.2</td>\n",
              "      <td>2222</td>\n",
              "      <td>16</td>\n",
              "    </tr>\n",
              "    <tr>\n",
              "      <th>67</th>\n",
              "      <td>0.6</td>\n",
              "      <td>0.1</td>\n",
              "      <td>2256</td>\n",
              "      <td>16</td>\n",
              "    </tr>\n",
              "    <tr>\n",
              "      <th>90</th>\n",
              "      <td>0.8</td>\n",
              "      <td>0.2</td>\n",
              "      <td>2258</td>\n",
              "      <td>14</td>\n",
              "    </tr>\n",
              "    <tr>\n",
              "      <th>77</th>\n",
              "      <td>0.7</td>\n",
              "      <td>0.0</td>\n",
              "      <td>2272</td>\n",
              "      <td>14</td>\n",
              "    </tr>\n",
              "    <tr>\n",
              "      <th>78</th>\n",
              "      <td>0.7</td>\n",
              "      <td>0.1</td>\n",
              "      <td>2305</td>\n",
              "      <td>16</td>\n",
              "    </tr>\n",
              "    <tr>\n",
              "      <th>110</th>\n",
              "      <td>1.0</td>\n",
              "      <td>0.0</td>\n",
              "      <td>2328</td>\n",
              "      <td>15</td>\n",
              "    </tr>\n",
              "    <tr>\n",
              "      <th>44</th>\n",
              "      <td>0.4</td>\n",
              "      <td>0.0</td>\n",
              "      <td>2338</td>\n",
              "      <td>13</td>\n",
              "    </tr>\n",
              "  </tbody>\n",
              "</table>\n",
              "</div>\n",
              "      <button class=\"colab-df-convert\" onclick=\"convertToInteractive('df-f558b098-7fe0-4701-9bfe-23da97a457b2')\"\n",
              "              title=\"Convert this dataframe to an interactive table.\"\n",
              "              style=\"display:none;\">\n",
              "        \n",
              "  <svg xmlns=\"http://www.w3.org/2000/svg\" height=\"24px\"viewBox=\"0 0 24 24\"\n",
              "       width=\"24px\">\n",
              "    <path d=\"M0 0h24v24H0V0z\" fill=\"none\"/>\n",
              "    <path d=\"M18.56 5.44l.94 2.06.94-2.06 2.06-.94-2.06-.94-.94-2.06-.94 2.06-2.06.94zm-11 1L8.5 8.5l.94-2.06 2.06-.94-2.06-.94L8.5 2.5l-.94 2.06-2.06.94zm10 10l.94 2.06.94-2.06 2.06-.94-2.06-.94-.94-2.06-.94 2.06-2.06.94z\"/><path d=\"M17.41 7.96l-1.37-1.37c-.4-.4-.92-.59-1.43-.59-.52 0-1.04.2-1.43.59L10.3 9.45l-7.72 7.72c-.78.78-.78 2.05 0 2.83L4 21.41c.39.39.9.59 1.41.59.51 0 1.02-.2 1.41-.59l7.78-7.78 2.81-2.81c.8-.78.8-2.07 0-2.86zM5.41 20L4 18.59l7.72-7.72 1.47 1.35L5.41 20z\"/>\n",
              "  </svg>\n",
              "      </button>\n",
              "      \n",
              "  <style>\n",
              "    .colab-df-container {\n",
              "      display:flex;\n",
              "      flex-wrap:wrap;\n",
              "      gap: 12px;\n",
              "    }\n",
              "\n",
              "    .colab-df-convert {\n",
              "      background-color: #E8F0FE;\n",
              "      border: none;\n",
              "      border-radius: 50%;\n",
              "      cursor: pointer;\n",
              "      display: none;\n",
              "      fill: #1967D2;\n",
              "      height: 32px;\n",
              "      padding: 0 0 0 0;\n",
              "      width: 32px;\n",
              "    }\n",
              "\n",
              "    .colab-df-convert:hover {\n",
              "      background-color: #E2EBFA;\n",
              "      box-shadow: 0px 1px 2px rgba(60, 64, 67, 0.3), 0px 1px 3px 1px rgba(60, 64, 67, 0.15);\n",
              "      fill: #174EA6;\n",
              "    }\n",
              "\n",
              "    [theme=dark] .colab-df-convert {\n",
              "      background-color: #3B4455;\n",
              "      fill: #D2E3FC;\n",
              "    }\n",
              "\n",
              "    [theme=dark] .colab-df-convert:hover {\n",
              "      background-color: #434B5C;\n",
              "      box-shadow: 0px 1px 3px 1px rgba(0, 0, 0, 0.15);\n",
              "      filter: drop-shadow(0px 1px 2px rgba(0, 0, 0, 0.3));\n",
              "      fill: #FFFFFF;\n",
              "    }\n",
              "  </style>\n",
              "\n",
              "      <script>\n",
              "        const buttonEl =\n",
              "          document.querySelector('#df-f558b098-7fe0-4701-9bfe-23da97a457b2 button.colab-df-convert');\n",
              "        buttonEl.style.display =\n",
              "          google.colab.kernel.accessAllowed ? 'block' : 'none';\n",
              "\n",
              "        async function convertToInteractive(key) {\n",
              "          const element = document.querySelector('#df-f558b098-7fe0-4701-9bfe-23da97a457b2');\n",
              "          const dataTable =\n",
              "            await google.colab.kernel.invokeFunction('convertToInteractive',\n",
              "                                                     [key], {});\n",
              "          if (!dataTable) return;\n",
              "\n",
              "          const docLinkHtml = 'Like what you see? Visit the ' +\n",
              "            '<a target=\"_blank\" href=https://colab.research.google.com/notebooks/data_table.ipynb>data table notebook</a>'\n",
              "            + ' to learn more about interactive tables.';\n",
              "          element.innerHTML = '';\n",
              "          dataTable['output_type'] = 'display_data';\n",
              "          await google.colab.output.renderOutput(dataTable, element);\n",
              "          const docLink = document.createElement('div');\n",
              "          docLink.innerHTML = docLinkHtml;\n",
              "          element.appendChild(docLink);\n",
              "        }\n",
              "      </script>\n",
              "    </div>\n",
              "  </div>\n",
              "  "
            ]
          },
          "metadata": {},
          "execution_count": 33
        }
      ]
    },
    {
      "cell_type": "markdown",
      "source": [
        "#### **Final result**"
      ],
      "metadata": {
        "id": "B3ZCggFbr1db"
      }
    },
    {
      "cell_type": "code",
      "source": [
        "print(ga_result)"
      ],
      "metadata": {
        "id": "ULKbGlNEd7bz"
      },
      "execution_count": null,
      "outputs": []
    },
    {
      "cell_type": "markdown",
      "source": [
        "\n",
        "\n",
        "---\n",
        "\n",
        "\n",
        "##**3. (30%) Markov Decision Process**\n",
        "\n",
        "考慮一個沒有折損因子的機台維修保養的馬可夫決策過程，機台有四個狀態 (健康, 可用, 耗損, 損壞)，其各別獎勵為 (6, 3, 1, -15)。「損壞」狀態為吸收狀態 (absorbing)，行動主要有兩種 (加工, 保養)。\n",
        "\n",
        "*   在狀態「健康」的情況下，採取行動「加工」，轉移到「健康」的機率為 0.7；轉移到「可用」的機率為 0.2；轉移到「耗損」的機率為 0.1；轉移到「損壞」的機率為 0.0。\n",
        "\n",
        "*   在狀態「健康」的情況下，採取行動「保養」，轉移到「健康」的機率為 1.0；轉移到其他狀態的機率為 0.0。\n",
        "\n",
        "*   在狀態「可用」的情況下，採取行動「加工」，轉移到「健康」的機率為 0.0；轉移到「可用」的機率為 0.6；轉移到「耗損」的機率為 0.3；轉移到「損壞」的機率為 0.1。\n",
        "\n",
        "*   在狀態「可用」的情況下，採取行動「保養」，轉移到「健康」的機率為 0.8；轉移到「可用」的機率為 0.2；轉移到其他狀態的機率為 0.0。\n",
        "\n",
        "*   在狀態「耗損」的情況下，採取行動「加工」，轉移到「健康」的機率為 0.0；轉移到「可用」的機率為 0.1；轉移到「耗損」的機率為 0.5；轉移到「損壞」的機率為 0.4。\n",
        "\n",
        "*   在狀態「耗損」的情況下，採取行動「保養」，轉移到「健康」的機率為 0.2；轉移到「可用」的機率為 0.5；轉移到「耗損」的機率為 0.3；轉移到「損壞」的機率為 0.0。\n",
        "\n",
        "試著參考網路資源學習並撰寫程式，使用此數據回答下列問題。"
      ],
      "metadata": {
        "id": "sqOnbA2dLQ8p"
      }
    },
    {
      "cell_type": "markdown",
      "source": [
        "###**(a) (5%) 試根據題目繪製轉移機率圖(transition probability diagram)**\n",
        "\n"
      ],
      "metadata": {
        "id": "t5fDWVW7Usrt"
      }
    },
    {
      "cell_type": "code",
      "source": [
        "# Import the MarkovChain class from markovchain.py\n",
        "from markovchain import MarkovChain\n",
        "P = np.array([\n",
        "    [0.7, 0.2, 0.1, 0.0],\n",
        "    [1.0, 0.0, 0.0, 0.0],\n",
        "    [0.0, 0.6, 0.3, 0.1],\n",
        "    [0.8, 0.2, 0.0, 0.0],\n",
        "    [0.0, 0.1, 0.5, 0.4],\n",
        "    [0.2, 0.5, 0.3, 0.0],\n",
        "])\n",
        "mc = MarkovChain(P, ['1', '2', '3', '4'])\n",
        "mc.draw(\"../img/markov-chain-four-states.png\")"
      ],
      "metadata": {
        "id": "QSbk23PxM4qq"
      },
      "execution_count": null,
      "outputs": []
    },
    {
      "cell_type": "markdown",
      "source": [
        "###**(b) (10%) 使用價值迭代來決定最佳策略以及各個狀態的價值**\n"
      ],
      "metadata": {
        "id": "kYu9QF9FUsru"
      }
    },
    {
      "cell_type": "code",
      "source": [],
      "metadata": {
        "id": "jq2os6kvM_9Y"
      },
      "execution_count": null,
      "outputs": []
    },
    {
      "cell_type": "markdown",
      "source": [
        "###**(c) (10%) 使用策略迭代來決定最佳策略以及各個狀態的價值，假設初始策略為在所有狀態皆採取行動「加工」**\n"
      ],
      "metadata": {
        "id": "jGcMWGXlNBbH"
      }
    },
    {
      "cell_type": "code",
      "source": [],
      "metadata": {
        "id": "R_2dJYVyNFi4"
      },
      "execution_count": null,
      "outputs": []
    },
    {
      "cell_type": "markdown",
      "source": [
        "###**(d) (5%) (d)承接(c)的答案，如果初始策略在所有狀態皆採取行動「保養」，策略迭代的計算過程與結果有什麼差異?**\n"
      ],
      "metadata": {
        "id": "2Fb2sDMlNF0M"
      }
    },
    {
      "cell_type": "code",
      "source": [],
      "metadata": {
        "id": "wYxZr5AfNN1h"
      },
      "execution_count": null,
      "outputs": []
    }
  ]
}